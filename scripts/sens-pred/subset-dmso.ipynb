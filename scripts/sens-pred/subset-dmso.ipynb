{
 "cells": [
  {
   "cell_type": "code",
   "execution_count": 1,
   "metadata": {},
   "outputs": [],
   "source": [
    "import scanpy as sc"
   ]
  },
  {
   "cell_type": "code",
   "execution_count": 3,
   "metadata": {},
   "outputs": [
    {
     "data": {
      "text/plain": [
       "AnnData object with n_obs × n_vars = 1831648 × 58395\n",
       "    obs: 'sample', 'species', 'gene_count', 'tscp_count', 'mread_count', 'bc1_well', 'bc2_well', 'bc3_well', 'bc1_wind', 'bc2_wind', 'bc3_wind', 'id', 'drugname_drugconc', 'drug', 'INT_ID', 'NUM.SNPS', 'NUM.READS', 'demuxlet_call', 'BEST.GUESS', 'BEST.LLK', 'NEXT.GUESS', 'NEXT.LLK', 'DIFF.LLK.BEST.NEXT', 'BEST.POSTERIOR', 'SNG.POSTERIOR', 'cell_line', 'SNG.BEST.LLK', 'SNG.NEXT.GUESS', 'SNG.NEXT.LLK', 'SNG.ONLY.POSTERIOR', 'DBL.BEST.GUESS', 'DBL.BEST.LLK', 'DIFF.LLK.SNG.DBL', 'sublibrary', 'BARCODE', 'batch', 'pcnt_mito', 'S_score', 'G2M_score', 'phase', 'mlp_label', 'mlp_confidence', 'cell_line_orig', 'demuxlet_call_orig', 'pass_filter'\n",
       "    var: 'gene_id', 'genome', 'SUB_LIB_ID-0-0', 'SUB_LIB_ID-1-0', 'SUB_LIB_ID-10-0', 'SUB_LIB_ID-11-0', 'SUB_LIB_ID-12-0', 'SUB_LIB_ID-13-0', 'SUB_LIB_ID-14-0', 'SUB_LIB_ID-15-0', 'SUB_LIB_ID-2-0', 'SUB_LIB_ID-3-0', 'SUB_LIB_ID-4-0', 'SUB_LIB_ID-5-0', 'SUB_LIB_ID-6-0', 'SUB_LIB_ID-7-0', 'SUB_LIB_ID-8-0', 'SUB_LIB_ID-9-0', 'SUB_LIB_ID-0-1', 'SUB_LIB_ID-1-1', 'SUB_LIB_ID-10-1', 'SUB_LIB_ID-11-1', 'SUB_LIB_ID-12-1', 'SUB_LIB_ID-13-1', 'SUB_LIB_ID-14-1', 'SUB_LIB_ID-15-1', 'SUB_LIB_ID-2-1', 'SUB_LIB_ID-3-1', 'SUB_LIB_ID-4-1', 'SUB_LIB_ID-5-1', 'SUB_LIB_ID-6-1', 'SUB_LIB_ID-7-1', 'SUB_LIB_ID-8-1', 'SUB_LIB_ID-9-1'"
      ]
     },
     "execution_count": 3,
     "metadata": {},
     "output_type": "execute_result"
    }
   ],
   "source": [
    "adata = sc.read_h5ad(\"/vevo/umair/data/rif-adata/adata_clean.h5ad.gz\")\n",
    "adata"
   ]
  },
  {
   "cell_type": "code",
   "execution_count": 6,
   "metadata": {},
   "outputs": [
    {
     "data": {
      "text/plain": [
       "drug\n",
       "DMSO_TF                                           100253\n",
       "Capecitabine+Oxaliplatin                           83703\n",
       "Capecitabine                                       71810\n",
       "GDC-6036                                           71079\n",
       "Tucatinib+Trastuzumab                              70577\n",
       "Oxaliplatin                                        60795\n",
       "Vociprotafib                                       57664\n",
       "Sotorasib+Galunisertib                             56106\n",
       "PF-06952229+Sotorasib                              55111\n",
       "Fluorouracil                                       53688\n",
       "Adagrasib+PF-06952229                              52474\n",
       "RMC-6236                                           49007\n",
       "Adagrasib+LY3200882                                48343\n",
       "Cetuximab                                          47323\n",
       "Sotorasib+LY3200882                                46443\n",
       "Dabrafenib+Trametinib                              45970\n",
       "Adagrasib                                          44906\n",
       "Fluorouracil+Leucovorin+Oxaliplatin                44708\n",
       "Galunisertib                                       41304\n",
       "Pertuzumab                                         40591\n",
       "LY3200882                                          40367\n",
       "Sotorasib                                          39385\n",
       "Encorafenib                                        39000\n",
       "Tipiracil+Trifluridine                             36736\n",
       "Paclitaxel                                         33496\n",
       "Regorafenib                                        32375\n",
       "Lapatinib ditosylate                               30857\n",
       "DMSO_T0                                            30245\n",
       "Adagrasib+Cetuximab                                29975\n",
       "Panitumumab                                        29814\n",
       "Irinotecan                                         28400\n",
       "Cetuximab+Adagrasib                                26239\n",
       "Gemcitabine                                        25796\n",
       "Vociprotafib+RMC-6236                              25666\n",
       "Adagrasib+Galunisertib                             25216\n",
       "LY3200882+Adagrasib                                24723\n",
       "LY3200882+Sotorasib                                23186\n",
       "Gemcitabine+Capecitabine                           23032\n",
       "Oxaliplatin+Fluorouracil+Irinotecan+Leucovorin     21218\n",
       "Leucovorin+Oxaliplatin+Fluorouracil                20194\n",
       "Oxaliplatin+Irinotecan+Fluorouracil+Leucovorin     18252\n",
       "Gemcitabine+Paclitaxel                             18142\n",
       "Paclitaxel+Gemcitabine                             16596\n",
       "Trifluridine+Tipiracil                             14476\n",
       "Galunisertib+Adagrasib                             14437\n",
       "RMC-6236+Vociprotafib                              13961\n",
       "Capecitabine+Gemcitabine                            8009\n",
       "Name: count, dtype: int64"
      ]
     },
     "execution_count": 6,
     "metadata": {},
     "output_type": "execute_result"
    }
   ],
   "source": [
    "adata.obs[\"drug\"].value_counts()"
   ]
  },
  {
   "cell_type": "code",
   "execution_count": 7,
   "metadata": {},
   "outputs": [
    {
     "data": {
      "text/plain": [
       "View of AnnData object with n_obs × n_vars = 30245 × 58395\n",
       "    obs: 'sample', 'species', 'gene_count', 'tscp_count', 'mread_count', 'bc1_well', 'bc2_well', 'bc3_well', 'bc1_wind', 'bc2_wind', 'bc3_wind', 'id', 'drugname_drugconc', 'drug', 'INT_ID', 'NUM.SNPS', 'NUM.READS', 'demuxlet_call', 'BEST.GUESS', 'BEST.LLK', 'NEXT.GUESS', 'NEXT.LLK', 'DIFF.LLK.BEST.NEXT', 'BEST.POSTERIOR', 'SNG.POSTERIOR', 'cell_line', 'SNG.BEST.LLK', 'SNG.NEXT.GUESS', 'SNG.NEXT.LLK', 'SNG.ONLY.POSTERIOR', 'DBL.BEST.GUESS', 'DBL.BEST.LLK', 'DIFF.LLK.SNG.DBL', 'sublibrary', 'BARCODE', 'batch', 'pcnt_mito', 'S_score', 'G2M_score', 'phase', 'mlp_label', 'mlp_confidence', 'cell_line_orig', 'demuxlet_call_orig', 'pass_filter'\n",
       "    var: 'gene_id', 'genome', 'SUB_LIB_ID-0-0', 'SUB_LIB_ID-1-0', 'SUB_LIB_ID-10-0', 'SUB_LIB_ID-11-0', 'SUB_LIB_ID-12-0', 'SUB_LIB_ID-13-0', 'SUB_LIB_ID-14-0', 'SUB_LIB_ID-15-0', 'SUB_LIB_ID-2-0', 'SUB_LIB_ID-3-0', 'SUB_LIB_ID-4-0', 'SUB_LIB_ID-5-0', 'SUB_LIB_ID-6-0', 'SUB_LIB_ID-7-0', 'SUB_LIB_ID-8-0', 'SUB_LIB_ID-9-0', 'SUB_LIB_ID-0-1', 'SUB_LIB_ID-1-1', 'SUB_LIB_ID-10-1', 'SUB_LIB_ID-11-1', 'SUB_LIB_ID-12-1', 'SUB_LIB_ID-13-1', 'SUB_LIB_ID-14-1', 'SUB_LIB_ID-15-1', 'SUB_LIB_ID-2-1', 'SUB_LIB_ID-3-1', 'SUB_LIB_ID-4-1', 'SUB_LIB_ID-5-1', 'SUB_LIB_ID-6-1', 'SUB_LIB_ID-7-1', 'SUB_LIB_ID-8-1', 'SUB_LIB_ID-9-1'"
      ]
     },
     "execution_count": 7,
     "metadata": {},
     "output_type": "execute_result"
    }
   ],
   "source": [
    "adata_dmso = adata[adata.obs[\"drug\"] == \"DMSO_T0\"]\n",
    "adata_dmso"
   ]
  },
  {
   "cell_type": "code",
   "execution_count": 10,
   "metadata": {},
   "outputs": [
    {
     "data": {
      "text/plain": [
       "BARCODE_SUB_LIB_ID\n",
       "01_01_05-lib_316    c_24\n",
       "01_01_08-lib_316    c_61\n",
       "01_01_23-lib_316     c_3\n",
       "01_01_24-lib_316    c_35\n",
       "01_01_26-lib_316     c_2\n",
       "                    ... \n",
       "96_94_20-lib_333    c_16\n",
       "96_94_85-lib_333    c_70\n",
       "96_95_54-lib_333    c_37\n",
       "96_96_62-lib_333    c_78\n",
       "96_96_94-lib_333    c_46\n",
       "Name: cell_line_orig, Length: 1831648, dtype: category\n",
       "Categories (52, object): ['c_1', 'c_2', 'c_3', 'c_4', ..., 'c_84', 'c_85', 'c_86', 'c_87']"
      ]
     },
     "execution_count": 10,
     "metadata": {},
     "output_type": "execute_result"
    }
   ],
   "source": [
    "adata.obs[\"cell_line_orig\"]"
   ]
  },
  {
   "cell_type": "code",
   "execution_count": 11,
   "metadata": {},
   "outputs": [
    {
     "data": {
      "text/plain": [
       "cell_line_orig\n",
       "c_13    2351\n",
       "c_46    2052\n",
       "c_16    1482\n",
       "c_72    1356\n",
       "c_34    1234\n",
       "c_69    1201\n",
       "c_51    1174\n",
       "c_61    1021\n",
       "c_77    1021\n",
       "c_2      954\n",
       "c_78     949\n",
       "c_68     842\n",
       "c_41     775\n",
       "c_81     771\n",
       "c_9      741\n",
       "c_70     705\n",
       "c_84     646\n",
       "c_85     599\n",
       "c_64     569\n",
       "c_65     563\n",
       "c_82     558\n",
       "c_4      553\n",
       "c_24     484\n",
       "c_37     471\n",
       "c_47     428\n",
       "c_55     427\n",
       "c_59     407\n",
       "c_35     392\n",
       "c_25     381\n",
       "c_1      363\n",
       "c_29     362\n",
       "c_87     347\n",
       "c_6      331\n",
       "c_40     328\n",
       "c_56     317\n",
       "c_86     307\n",
       "c_38     277\n",
       "c_73     272\n",
       "c_79     272\n",
       "c_50     248\n",
       "c_33     246\n",
       "c_21     229\n",
       "c_15     203\n",
       "c_27     203\n",
       "c_75     202\n",
       "c_3      189\n",
       "c_23     178\n",
       "c_31     173\n",
       "c_7       44\n",
       "c_30      22\n",
       "c_53      13\n",
       "c_63      12\n",
       "Name: count, dtype: int64"
      ]
     },
     "execution_count": 11,
     "metadata": {},
     "output_type": "execute_result"
    }
   ],
   "source": [
    "adata_dmso.obs[\"cell_line_orig\"].value_counts()"
   ]
  },
  {
   "cell_type": "code",
   "execution_count": 12,
   "metadata": {},
   "outputs": [
    {
     "data": {
      "text/plain": [
       "cell_line_orig\n",
       "c_16    18057\n",
       "c_46     6664\n",
       "c_61     6350\n",
       "c_59     3951\n",
       "c_24     3311\n",
       "c_15     3016\n",
       "c_41     2762\n",
       "c_13     2359\n",
       "c_51     2324\n",
       "c_37     2151\n",
       "c_23     2079\n",
       "c_78     2049\n",
       "c_34     2048\n",
       "c_82     2035\n",
       "c_70     1969\n",
       "c_35     1968\n",
       "c_55     1909\n",
       "c_4      1841\n",
       "c_72     1763\n",
       "c_87     1601\n",
       "c_73     1578\n",
       "c_2      1556\n",
       "c_31     1543\n",
       "c_77     1533\n",
       "c_86     1519\n",
       "c_84     1389\n",
       "c_40     1386\n",
       "c_1      1385\n",
       "c_33     1160\n",
       "c_9      1126\n",
       "c_25     1081\n",
       "c_75     1070\n",
       "c_27     1045\n",
       "c_6      1023\n",
       "c_56      961\n",
       "c_79      957\n",
       "c_85      934\n",
       "c_47      932\n",
       "c_38      905\n",
       "c_3       886\n",
       "c_65      801\n",
       "c_81      774\n",
       "c_21      758\n",
       "c_64      747\n",
       "c_29      674\n",
       "c_50      560\n",
       "c_68      523\n",
       "c_69      432\n",
       "c_7       372\n",
       "c_30      164\n",
       "c_53      161\n",
       "c_63      111\n",
       "Name: count, dtype: int64"
      ]
     },
     "execution_count": 12,
     "metadata": {},
     "output_type": "execute_result"
    }
   ],
   "source": [
    "adata[adata.obs[\"drug\"] == \"DMSO_TF\"].obs[\"cell_line_orig\"].value_counts()"
   ]
  },
  {
   "cell_type": "code",
   "execution_count": 14,
   "metadata": {},
   "outputs": [],
   "source": [
    "adata_dmso.write_h5ad(\"/vevo/umair/data/sens-pred/dmso-t0.h5ad\")"
   ]
  }
 ],
 "metadata": {
  "kernelspec": {
   "display_name": "Python 3",
   "language": "python",
   "name": "python3"
  },
  "language_info": {
   "codemirror_mode": {
    "name": "ipython",
    "version": 3
   },
   "file_extension": ".py",
   "mimetype": "text/x-python",
   "name": "python",
   "nbconvert_exporter": "python",
   "pygments_lexer": "ipython3",
   "version": "3.10.13"
  }
 },
 "nbformat": 4,
 "nbformat_minor": 2
}

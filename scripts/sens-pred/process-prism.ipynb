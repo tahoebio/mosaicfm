{
 "cells": [
  {
   "cell_type": "code",
   "execution_count": 1,
   "metadata": {},
   "outputs": [],
   "source": [
    "import pandas as pd"
   ]
  },
  {
   "cell_type": "code",
   "execution_count": 11,
   "metadata": {},
   "outputs": [
    {
     "data": {
      "text/html": [
       "<div>\n",
       "<style scoped>\n",
       "    .dataframe tbody tr th:only-of-type {\n",
       "        vertical-align: middle;\n",
       "    }\n",
       "\n",
       "    .dataframe tbody tr th {\n",
       "        vertical-align: top;\n",
       "    }\n",
       "\n",
       "    .dataframe thead th {\n",
       "        text-align: right;\n",
       "    }\n",
       "</style>\n",
       "<table border=\"1\" class=\"dataframe\">\n",
       "  <thead>\n",
       "    <tr style=\"text-align: right;\">\n",
       "      <th></th>\n",
       "      <th>condition</th>\n",
       "      <th>cell_line</th>\n",
       "      <th>growth_rate</th>\n",
       "    </tr>\n",
       "  </thead>\n",
       "  <tbody>\n",
       "    <tr>\n",
       "      <th>0</th>\n",
       "      <td>BRD-A00077618-236-07-6::2.5::HTS</td>\n",
       "      <td>ACH-000001</td>\n",
       "      <td>-0.015577</td>\n",
       "    </tr>\n",
       "    <tr>\n",
       "      <th>1</th>\n",
       "      <td>BRD-A00077618-236-07-6::2.5::HTS</td>\n",
       "      <td>ACH-000007</td>\n",
       "      <td>-0.095730</td>\n",
       "    </tr>\n",
       "    <tr>\n",
       "      <th>2</th>\n",
       "      <td>BRD-A00077618-236-07-6::2.5::HTS</td>\n",
       "      <td>ACH-000008</td>\n",
       "      <td>0.379480</td>\n",
       "    </tr>\n",
       "    <tr>\n",
       "      <th>4</th>\n",
       "      <td>BRD-A00077618-236-07-6::2.5::HTS</td>\n",
       "      <td>ACH-000011</td>\n",
       "      <td>0.145346</td>\n",
       "    </tr>\n",
       "    <tr>\n",
       "      <th>5</th>\n",
       "      <td>BRD-A00077618-236-07-6::2.5::HTS</td>\n",
       "      <td>ACH-000012</td>\n",
       "      <td>0.103348</td>\n",
       "    </tr>\n",
       "    <tr>\n",
       "      <th>...</th>\n",
       "      <td>...</td>\n",
       "      <td>...</td>\n",
       "      <td>...</td>\n",
       "    </tr>\n",
       "    <tr>\n",
       "      <th>2708503</th>\n",
       "      <td>BRD-M63173034-001-03-6::2.64076472::MTS004</td>\n",
       "      <td>ACH-001239</td>\n",
       "      <td>0.040768</td>\n",
       "    </tr>\n",
       "    <tr>\n",
       "      <th>2708504</th>\n",
       "      <td>BRD-M63173034-001-03-6::2.64076472::MTS004</td>\n",
       "      <td>ACH-001306</td>\n",
       "      <td>-0.209708</td>\n",
       "    </tr>\n",
       "    <tr>\n",
       "      <th>2708505</th>\n",
       "      <td>BRD-M63173034-001-03-6::2.64076472::MTS004</td>\n",
       "      <td>ACH-001307</td>\n",
       "      <td>-0.391083</td>\n",
       "    </tr>\n",
       "    <tr>\n",
       "      <th>2708506</th>\n",
       "      <td>BRD-M63173034-001-03-6::2.64076472::MTS004</td>\n",
       "      <td>ACH-001318</td>\n",
       "      <td>0.159432</td>\n",
       "    </tr>\n",
       "    <tr>\n",
       "      <th>2708507</th>\n",
       "      <td>BRD-M63173034-001-03-6::2.64076472::MTS004</td>\n",
       "      <td>ACH-001321</td>\n",
       "      <td>0.185686</td>\n",
       "    </tr>\n",
       "  </tbody>\n",
       "</table>\n",
       "<p>2661648 rows × 3 columns</p>\n",
       "</div>"
      ],
      "text/plain": [
       "                                          condition   cell_line  growth_rate\n",
       "0                  BRD-A00077618-236-07-6::2.5::HTS  ACH-000001    -0.015577\n",
       "1                  BRD-A00077618-236-07-6::2.5::HTS  ACH-000007    -0.095730\n",
       "2                  BRD-A00077618-236-07-6::2.5::HTS  ACH-000008     0.379480\n",
       "4                  BRD-A00077618-236-07-6::2.5::HTS  ACH-000011     0.145346\n",
       "5                  BRD-A00077618-236-07-6::2.5::HTS  ACH-000012     0.103348\n",
       "...                                             ...         ...          ...\n",
       "2708503  BRD-M63173034-001-03-6::2.64076472::MTS004  ACH-001239     0.040768\n",
       "2708504  BRD-M63173034-001-03-6::2.64076472::MTS004  ACH-001306    -0.209708\n",
       "2708505  BRD-M63173034-001-03-6::2.64076472::MTS004  ACH-001307    -0.391083\n",
       "2708506  BRD-M63173034-001-03-6::2.64076472::MTS004  ACH-001318     0.159432\n",
       "2708507  BRD-M63173034-001-03-6::2.64076472::MTS004  ACH-001321     0.185686\n",
       "\n",
       "[2661648 rows x 3 columns]"
      ]
     },
     "execution_count": 11,
     "metadata": {},
     "output_type": "execute_result"
    }
   ],
   "source": [
    "prism_sens = pd.read_csv(\"/vevo/umair/data/sens-pred/sens-prism/primary-screen-replicate-collapsed-logfold-change.csv\")\n",
    "prism_sens.rename(columns={\"Unnamed: 0\": \"cell_line\"}, inplace=True)\n",
    "prism_sens = prism_sens.melt(id_vars=[\"cell_line\"], var_name=\"condition\", value_name=\"growth_rate\")[[\"condition\", \"cell_line\", \"growth_rate\"]]\n",
    "prism_sens = prism_sens[~prism_sens[\"cell_line\"].str.contains(\"FAILED_STR\", na=False)]\n",
    "prism_sens"
   ]
  },
  {
   "cell_type": "code",
   "execution_count": 12,
   "metadata": {},
   "outputs": [],
   "source": [
    "prism_sens.to_csv(\"/vevo/umair/data/sens-pred/sens-prism/logfold-changes.csv\", index=False)"
   ]
  }
 ],
 "metadata": {
  "kernelspec": {
   "display_name": "Python 3",
   "language": "python",
   "name": "python3"
  },
  "language_info": {
   "codemirror_mode": {
    "name": "ipython",
    "version": 3
   },
   "file_extension": ".py",
   "mimetype": "text/x-python",
   "name": "python",
   "nbconvert_exporter": "python",
   "pygments_lexer": "ipython3",
   "version": "3.10.13"
  }
 },
 "nbformat": 4,
 "nbformat_minor": 2
}

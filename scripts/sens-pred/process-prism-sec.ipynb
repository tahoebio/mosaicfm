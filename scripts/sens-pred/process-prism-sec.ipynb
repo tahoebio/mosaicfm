{
 "cells": [
  {
   "cell_type": "code",
   "execution_count": 1,
   "metadata": {},
   "outputs": [],
   "source": [
    "import pandas as pd"
   ]
  },
  {
   "cell_type": "code",
   "execution_count": 3,
   "metadata": {},
   "outputs": [
    {
     "data": {
      "text/html": [
       "<div>\n",
       "<style scoped>\n",
       "    .dataframe tbody tr th:only-of-type {\n",
       "        vertical-align: middle;\n",
       "    }\n",
       "\n",
       "    .dataframe tbody tr th {\n",
       "        vertical-align: top;\n",
       "    }\n",
       "\n",
       "    .dataframe thead th {\n",
       "        text-align: right;\n",
       "    }\n",
       "</style>\n",
       "<table border=\"1\" class=\"dataframe\">\n",
       "  <thead>\n",
       "    <tr style=\"text-align: right;\">\n",
       "      <th></th>\n",
       "      <th>condition</th>\n",
       "      <th>cell_line</th>\n",
       "      <th>growth_rate</th>\n",
       "    </tr>\n",
       "  </thead>\n",
       "  <tbody>\n",
       "    <tr>\n",
       "      <th>0</th>\n",
       "      <td>BRD-A00077618-236-07-6::0.00061034::HTS002</td>\n",
       "      <td>ACH-000007</td>\n",
       "      <td>0.155931</td>\n",
       "    </tr>\n",
       "    <tr>\n",
       "      <th>1</th>\n",
       "      <td>BRD-A00077618-236-07-6::0.00061034::HTS002</td>\n",
       "      <td>ACH-000008</td>\n",
       "      <td>0.184596</td>\n",
       "    </tr>\n",
       "    <tr>\n",
       "      <th>3</th>\n",
       "      <td>BRD-A00077618-236-07-6::0.00061034::HTS002</td>\n",
       "      <td>ACH-000011</td>\n",
       "      <td>-0.129952</td>\n",
       "    </tr>\n",
       "    <tr>\n",
       "      <th>4</th>\n",
       "      <td>BRD-A00077618-236-07-6::0.00061034::HTS002</td>\n",
       "      <td>ACH-000012</td>\n",
       "      <td>0.264335</td>\n",
       "    </tr>\n",
       "    <tr>\n",
       "      <th>5</th>\n",
       "      <td>BRD-A00077618-236-07-6::0.00061034::HTS002</td>\n",
       "      <td>ACH-000013</td>\n",
       "      <td>0.284202</td>\n",
       "    </tr>\n",
       "    <tr>\n",
       "      <th>...</th>\n",
       "      <td>...</td>\n",
       "      <td>...</td>\n",
       "      <td>...</td>\n",
       "    </tr>\n",
       "    <tr>\n",
       "      <th>6360907</th>\n",
       "      <td>BRD-U45393375-000-01-6::2.5::HTS002</td>\n",
       "      <td>ACH-001239</td>\n",
       "      <td>-0.350877</td>\n",
       "    </tr>\n",
       "    <tr>\n",
       "      <th>6360908</th>\n",
       "      <td>BRD-U45393375-000-01-6::2.5::HTS002</td>\n",
       "      <td>ACH-001306</td>\n",
       "      <td>0.509456</td>\n",
       "    </tr>\n",
       "    <tr>\n",
       "      <th>6360909</th>\n",
       "      <td>BRD-U45393375-000-01-6::2.5::HTS002</td>\n",
       "      <td>ACH-001307</td>\n",
       "      <td>0.994224</td>\n",
       "    </tr>\n",
       "    <tr>\n",
       "      <th>6360910</th>\n",
       "      <td>BRD-U45393375-000-01-6::2.5::HTS002</td>\n",
       "      <td>ACH-001318</td>\n",
       "      <td>0.398637</td>\n",
       "    </tr>\n",
       "    <tr>\n",
       "      <th>6360911</th>\n",
       "      <td>BRD-U45393375-000-01-6::2.5::HTS002</td>\n",
       "      <td>ACH-001321</td>\n",
       "      <td>-0.184527</td>\n",
       "    </tr>\n",
       "  </tbody>\n",
       "</table>\n",
       "<p>6256848 rows × 3 columns</p>\n",
       "</div>"
      ],
      "text/plain": [
       "                                          condition   cell_line  growth_rate\n",
       "0        BRD-A00077618-236-07-6::0.00061034::HTS002  ACH-000007     0.155931\n",
       "1        BRD-A00077618-236-07-6::0.00061034::HTS002  ACH-000008     0.184596\n",
       "3        BRD-A00077618-236-07-6::0.00061034::HTS002  ACH-000011    -0.129952\n",
       "4        BRD-A00077618-236-07-6::0.00061034::HTS002  ACH-000012     0.264335\n",
       "5        BRD-A00077618-236-07-6::0.00061034::HTS002  ACH-000013     0.284202\n",
       "...                                             ...         ...          ...\n",
       "6360907         BRD-U45393375-000-01-6::2.5::HTS002  ACH-001239    -0.350877\n",
       "6360908         BRD-U45393375-000-01-6::2.5::HTS002  ACH-001306     0.509456\n",
       "6360909         BRD-U45393375-000-01-6::2.5::HTS002  ACH-001307     0.994224\n",
       "6360910         BRD-U45393375-000-01-6::2.5::HTS002  ACH-001318     0.398637\n",
       "6360911         BRD-U45393375-000-01-6::2.5::HTS002  ACH-001321    -0.184527\n",
       "\n",
       "[6256848 rows x 3 columns]"
      ]
     },
     "execution_count": 3,
     "metadata": {},
     "output_type": "execute_result"
    }
   ],
   "source": [
    "prism_sens = pd.read_csv(\"/vevo/umair/data/sens-pred/sens-prism-sec/secondary-screen-replicate-collapsed-logfold-change.csv\")\n",
    "prism_sens.rename(columns={\"Unnamed: 0\": \"cell_line\"}, inplace=True)\n",
    "prism_sens = prism_sens.melt(id_vars=[\"cell_line\"], var_name=\"condition\", value_name=\"growth_rate\")[[\"condition\", \"cell_line\", \"growth_rate\"]]\n",
    "prism_sens = prism_sens[~prism_sens[\"cell_line\"].str.contains(\"FAILED_STR\", na=False)]\n",
    "prism_sens"
   ]
  },
  {
   "cell_type": "code",
   "execution_count": 4,
   "metadata": {},
   "outputs": [],
   "source": [
    "prism_sens.to_csv(\"/vevo/umair/data/sens-pred/sens-prism-sec/logfold-changes.csv\", index=False)"
   ]
  }
 ],
 "metadata": {
  "kernelspec": {
   "display_name": "Python 3",
   "language": "python",
   "name": "python3"
  },
  "language_info": {
   "codemirror_mode": {
    "name": "ipython",
    "version": 3
   },
   "file_extension": ".py",
   "mimetype": "text/x-python",
   "name": "python",
   "nbconvert_exporter": "python",
   "pygments_lexer": "ipython3",
   "version": "3.10.13"
  }
 },
 "nbformat": 4,
 "nbformat_minor": 2
}

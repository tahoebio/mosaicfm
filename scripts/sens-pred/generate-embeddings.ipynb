{
 "cells": [
  {
   "cell_type": "markdown",
   "metadata": {},
   "source": [
    "### imports"
   ]
  },
  {
   "cell_type": "code",
   "execution_count": 1,
   "metadata": {},
   "outputs": [
    {
     "name": "stderr",
     "output_type": "stream",
     "text": [
      "/vevo/umair/miniforge3/envs/mosaicfm/lib/python3.10/site-packages/tqdm/auto.py:21: TqdmWarning: IProgress not found. Please update jupyter and ipywidgets. See https://ipywidgets.readthedocs.io/en/stable/user_install.html\n",
      "  from .autonotebook import tqdm as notebook_tqdm\n"
     ]
    }
   ],
   "source": [
    "from omegaconf import OmegaConf as om\n",
    "from mosaicfm.model import ComposerSCGPTModel\n",
    "from mosaicfm.tasks import get_batch_embeddings\n",
    "from mosaicfm.tokenizer import GeneVocab\n",
    "import torch\n",
    "import pandas as pd\n",
    "import anndata as ad\n",
    "import scanpy as sc\n",
    "import numpy as np\n",
    "from tqdm import tqdm"
   ]
  },
  {
   "cell_type": "markdown",
   "metadata": {},
   "source": [
    "### generate PCA embeddings"
   ]
  },
  {
   "cell_type": "code",
   "execution_count": 9,
   "metadata": {},
   "outputs": [],
   "source": [
    "adata = sc.read_h5ad(\"/vevo/umair/data/sens-pred/embs/ccle.h5ad\")\n",
    "sc.pp.normalize_total(adata)\n",
    "sc.pp.log1p(adata)\n",
    "adata.obsm[\"pca\"] = sc.tl.pca(adata.X, n_comps=15, return_info=False)"
   ]
  },
  {
   "cell_type": "code",
   "execution_count": 10,
   "metadata": {},
   "outputs": [],
   "source": [
    "adata.write_h5ad(\"/vevo/umair/data/sens-pred/embs/ccle.h5ad\")"
   ]
  },
  {
   "cell_type": "markdown",
   "metadata": {},
   "source": [
    "### generate model embeddings"
   ]
  },
  {
   "cell_type": "code",
   "execution_count": 2,
   "metadata": {},
   "outputs": [],
   "source": [
    "base_path = \"/vevo/umair/data/scgpt-models\"\n",
    "\n",
    "model_paths = {\n",
    "    \"mosaicfm-70m-pretrained\": f\"{base_path}/scgpt-70m-1024-fix-norm-apr24-data/best-model.pt\",\n",
    "    \"mosaicfm-70m-adapted\": f\"{base_path}/mosaicfm-adapt-rif-constant-lr/ep50-ba354200-rank0.pt\",\n",
    "    \"mosaicfm-70m-from-scratch\": f\"{base_path}/mosaicfm-adapt-rif-no-load/ep50-ba354200-rank0.pt\",\n",
    "    \"mosaicfm-70m-tahoe\": f\"{base_path}/mosaicfm-70m-tahoe/best-model.pt\",\n",
    "    \"mosaicfm-70m-merged\": f\"{base_path}/mosaicfm-70m-merged/best-model.pt\",\n",
    "    \"mosaicfm-v2-1_3b-merged\": f\"{base_path}/mosaicfm-v2-1_3b-merged/best-model.pt\"\n",
    "}\n",
    "\n",
    "vocab_paths = {\n",
    "    \"mosaicfm-70m-pretrained\": f\"{base_path}/scgpt-70m-1024-fix-norm-apr24-data/vocab.json\",\n",
    "    \"mosaicfm-70m-adapted\": f\"{base_path}/scgpt-70m-1024-fix-norm-apr24-data/vocab.json\",\n",
    "    \"mosaicfm-70m-from-scratch\": f\"{base_path}/scgpt-70m-1024-fix-norm-apr24-data/vocab.json\",\n",
    "    \"mosaicfm-70m-tahoe\": f\"{base_path}/mosaicfm-70m-tahoe/vocab.json\",\n",
    "    \"mosaicfm-70m-merged\": f\"{base_path}/mosaicfm-70m-merged/vocab.json\",\n",
    "    \"mosaicfm-v2-1_3b-merged\": f\"{base_path}/mosaicfm-v2-1_3b-merged/vocab.json\"\n",
    "}\n",
    "\n",
    "model_config_paths = {\n",
    "    \"mosaicfm-70m-pretrained\": f\"{base_path}/scgpt-70m-1024-fix-norm-apr24-data/model_config.yml\",\n",
    "    \"mosaicfm-70m-adapted\": f\"{base_path}/scgpt-70m-1024-fix-norm-apr24-data/model_config.yml\",\n",
    "    \"mosaicfm-70m-from-scratch\": f\"{base_path}/scgpt-70m-1024-fix-norm-apr24-data/model_config.yml\",\n",
    "    \"mosaicfm-70m-tahoe\": f\"{base_path}/mosaicfm-70m-tahoe/model_config.yml\",\n",
    "    \"mosaicfm-70m-merged\": f\"{base_path}/mosaicfm-70m-merged/model_config.yml\",\n",
    "    \"mosaicfm-v2-1_3b-merged\": f\"{base_path}/mosaicfm-v2-1_3b-merged/model_config.yml\"\n",
    "}\n",
    "\n",
    "collator_config_paths = {\n",
    "    \"mosaicfm-70m-pretrained\": f\"{base_path}/scgpt-70m-1024-fix-norm-apr24-data/collator_config.yml\",\n",
    "    \"mosaicfm-70m-adapted\": f\"{base_path}/scgpt-70m-1024-fix-norm-apr24-data/collator_config.yml\",\n",
    "    \"mosaicfm-70m-from-scratch\": f\"{base_path}/scgpt-70m-1024-fix-norm-apr24-data/collator_config.yml\",\n",
    "    \"mosaicfm-70m-tahoe\": f\"{base_path}/mosaicfm-70m-tahoe/collator_config.yml\",\n",
    "    \"mosaicfm-70m-merged\": f\"{base_path}/mosaicfm-70m-merged/collator_config.yml\",\n",
    "    \"mosaicfm-v2-1_3b-merged\": f\"{base_path}/mosaicfm-v2-1_3b-merged/collator_config.yml\"\n",
    "}\n",
    "\n",
    "feature_columns = {\n",
    "    \"mosaicfm-70m-pretrained\": \"feature_name\",\n",
    "    \"mosaicfm-70m-adapted\": \"feature_name\",\n",
    "    \"mosaicfm-70m-from-scratch\": \"feature_name\",\n",
    "    \"mosaicfm-70m-tahoe\": \"gene_id\",\n",
    "    \"mosaicfm-70m-merged\": \"gene_id\",\n",
    "    \"mosaicfm-v2-1_3b-merged\": \"gene_id\"\n",
    "}"
   ]
  },
  {
   "cell_type": "code",
   "execution_count": 11,
   "metadata": {},
   "outputs": [],
   "source": [
    "model_name = \"mosaicfm-70m-merged\""
   ]
  },
  {
   "cell_type": "code",
   "execution_count": 12,
   "metadata": {},
   "outputs": [
    {
     "name": "stdout",
     "output_type": "stream",
     "text": [
      "match 37392/37392 genes in vocabulary of size 62720.\n"
     ]
    }
   ],
   "source": [
    "# load vocabulary\n",
    "vocab_path = vocab_paths[model_name]\n",
    "vocab = GeneVocab.from_file(vocab_path)\n",
    "vocab.set_default_index(vocab[\"<pad>\"])\n",
    "\n",
    "# set data variables\n",
    "# data_path = \"/vevo/umair/data/sens-pred/embs/ccle.h5ad\"\n",
    "data_path = \"/vevo/umair/data/sens-pred/embs/rif-dmso-t0-all.h5ad\"\n",
    "gene_col = feature_columns[model_name]\n",
    "\n",
    "# load data\n",
    "adata = sc.read_h5ad(data_path)\n",
    "adata.var[\"id_in_vocab\"] = [vocab[gene] if gene in vocab else -1 for gene in adata.var[gene_col]]\n",
    "gene_ids_in_vocab = np.array(adata.var[\"id_in_vocab\"])\n",
    "print(f\"match {np.sum(gene_ids_in_vocab >= 0)}/{len(gene_ids_in_vocab)} genes in vocabulary of size {len(vocab)}.\")\n",
    "adata = adata[:, adata.var[\"id_in_vocab\"] >= 0]\n",
    "genes = adata.var[gene_col].tolist()\n",
    "gene_ids = np.array(vocab(genes), dtype=int)"
   ]
  },
  {
   "cell_type": "code",
   "execution_count": 13,
   "metadata": {},
   "outputs": [
    {
     "name": "stderr",
     "output_type": "stream",
     "text": [
      "Embedding cells: 100%|██████████| 30245/30245 [01:02<00:00, 481.11it/s]\n",
      "/tmp/ipykernel_1490581/2145690149.py:30: ImplicitModificationWarning: Setting element `.obsm['mosaicfm-70m-merged']` of view, initializing view as actual.\n",
      "  adata.obsm[model_name] = cell_embeddings\n"
     ]
    }
   ],
   "source": [
    "# only get cell embeddings if they don't already exist\n",
    "if model_name not in adata.obsm_keys():\n",
    "\n",
    "    # load model\n",
    "    model_config_path = model_config_paths[model_name]\n",
    "    collator_config_path = collator_config_paths[model_name]\n",
    "    model_file = model_paths[model_name]\n",
    "    model_config = om.load(model_config_path)\n",
    "    collator_config = om.load(collator_config_path)\n",
    "    model = ComposerSCGPTModel(model_config = model_config, collator_config = collator_config)\n",
    "    model.load_state_dict(torch.load(model_file)[\"state\"][\"model\"], strict=True)\n",
    "    device = torch.device(\"cuda\" if torch.cuda.is_available() else \"cpu\")\n",
    "    model.to(device)\n",
    "    model.eval()\n",
    "\n",
    "    # get cell embeddings\n",
    "    cell_embeddings = get_batch_embeddings(\n",
    "        adata=adata,\n",
    "        model=model.model,\n",
    "        vocab=vocab,\n",
    "        gene_ids=gene_ids,\n",
    "        model_cfg=model_config,\n",
    "        collator_cfg=collator_config,\n",
    "        batch_size=64,\n",
    "        max_length=2048,\n",
    "        return_gene_embeddings=False\n",
    "    )\n",
    "\n",
    "    # add to AnnData and save\n",
    "    adata.obsm[model_name] = cell_embeddings\n",
    "    adata.write_h5ad(data_path)"
   ]
  },
  {
   "cell_type": "markdown",
   "metadata": {},
   "source": [
    "### compute mean embeddings across cell line"
   ]
  },
  {
   "cell_type": "code",
   "execution_count": 9,
   "metadata": {},
   "outputs": [
    {
     "data": {
      "text/plain": [
       "AnnData object with n_obs × n_vars = 30245 × 37476\n",
       "    obs: 'sample', 'species', 'gene_count', 'tscp_count', 'mread_count', 'bc1_well', 'bc2_well', 'bc3_well', 'bc1_wind', 'bc2_wind', 'bc3_wind', 'id', 'drugname_drugconc', 'drug', 'INT_ID', 'NUM.SNPS', 'NUM.READS', 'demuxlet_call', 'BEST.GUESS', 'BEST.LLK', 'NEXT.GUESS', 'NEXT.LLK', 'DIFF.LLK.BEST.NEXT', 'BEST.POSTERIOR', 'SNG.POSTERIOR', 'cell_line', 'SNG.BEST.LLK', 'SNG.NEXT.GUESS', 'SNG.NEXT.LLK', 'SNG.ONLY.POSTERIOR', 'DBL.BEST.GUESS', 'DBL.BEST.LLK', 'DIFF.LLK.SNG.DBL', 'sublibrary', 'BARCODE', 'batch', 'pcnt_mito', 'S_score', 'G2M_score', 'phase', 'mlp_label', 'mlp_confidence', 'cell_line_orig', 'demuxlet_call_orig', 'pass_filter'\n",
       "    var: 'gene_id', 'genome', 'SUB_LIB_ID-0-0', 'SUB_LIB_ID-1-0', 'SUB_LIB_ID-10-0', 'SUB_LIB_ID-11-0', 'SUB_LIB_ID-12-0', 'SUB_LIB_ID-13-0', 'SUB_LIB_ID-14-0', 'SUB_LIB_ID-15-0', 'SUB_LIB_ID-2-0', 'SUB_LIB_ID-3-0', 'SUB_LIB_ID-4-0', 'SUB_LIB_ID-5-0', 'SUB_LIB_ID-6-0', 'SUB_LIB_ID-7-0', 'SUB_LIB_ID-8-0', 'SUB_LIB_ID-9-0', 'SUB_LIB_ID-0-1', 'SUB_LIB_ID-1-1', 'SUB_LIB_ID-10-1', 'SUB_LIB_ID-11-1', 'SUB_LIB_ID-12-1', 'SUB_LIB_ID-13-1', 'SUB_LIB_ID-14-1', 'SUB_LIB_ID-15-1', 'SUB_LIB_ID-2-1', 'SUB_LIB_ID-3-1', 'SUB_LIB_ID-4-1', 'SUB_LIB_ID-5-1', 'SUB_LIB_ID-6-1', 'SUB_LIB_ID-7-1', 'SUB_LIB_ID-8-1', 'SUB_LIB_ID-9-1', 'feature_name', 'id_in_vocab'\n",
       "    uns: 'log1p', 'pca'\n",
       "    obsm: 'X_pca', 'mosaicfm-70m-adapted', 'mosaicfm-70m-from-scratch', 'mosaicfm-70m-pretrained'\n",
       "    varm: 'PCs'"
      ]
     },
     "execution_count": 9,
     "metadata": {},
     "output_type": "execute_result"
    }
   ],
   "source": [
    "adata = sc.read_h5ad(\"/vevo/umair/data/sens-pred/dmso-t0.h5ad\")\n",
    "adata"
   ]
  },
  {
   "cell_type": "code",
   "execution_count": 15,
   "metadata": {},
   "outputs": [
    {
     "data": {
      "text/plain": [
       "0.13700681465891257"
      ]
     },
     "execution_count": 15,
     "metadata": {},
     "output_type": "execute_result"
    }
   ],
   "source": [
    "adata.uns[\"pca\"][\"variance_ratio\"].sum()"
   ]
  },
  {
   "cell_type": "code",
   "execution_count": 3,
   "metadata": {},
   "outputs": [
    {
     "name": "stderr",
     "output_type": "stream",
     "text": [
      "100%|██████████| 52/52 [00:05<00:00,  9.39it/s]\n"
     ]
    }
   ],
   "source": [
    "# initialize arrays\n",
    "cell_lines = []\n",
    "emb_arrays = {\n",
    "    \"pca\": [],\n",
    "    \"mosaicfm-70m-pretrained\": [],\n",
    "    \"mosaicfm-70m-adapted\": [],\n",
    "    \"mosaicfm-70m-from-scratch\": [],\n",
    "}\n",
    "\n",
    "# compute means\n",
    "for c in tqdm(adata.obs[\"cell_line_orig\"].unique().tolist()):\n",
    "    cell_lines.append(c)\n",
    "    emb_arrays[\"pca\"].append(adata[adata.obs[\"cell_line_orig\"] == c].obsm[\"X_pca\"].mean(axis=0))\n",
    "    emb_arrays[\"mosaicfm-70m-pretrained\"].append(adata[adata.obs[\"cell_line_orig\"] == c].obsm[\"mosaicfm-70m-pretrained\"].mean(axis=0))\n",
    "    emb_arrays[\"mosaicfm-70m-adapted\"].append(adata[adata.obs[\"cell_line_orig\"] == c].obsm[\"mosaicfm-70m-adapted\"].mean(axis=0))\n",
    "    emb_arrays[\"mosaicfm-70m-from-scratch\"].append(adata[adata.obs[\"cell_line_orig\"] == c].obsm[\"mosaicfm-70m-from-scratch\"].mean(axis=0))\n",
    "\n",
    "# convert to NumPy arrays\n",
    "for k in emb_arrays.keys():\n",
    "    emb_arrays[k] = np.array(emb_arrays[k])"
   ]
  },
  {
   "cell_type": "code",
   "execution_count": 5,
   "metadata": {},
   "outputs": [
    {
     "name": "stderr",
     "output_type": "stream",
     "text": [
      "/vevo/umair/miniforge3/envs/mosaicfm/lib/python3.10/site-packages/anndata/_core/aligned_df.py:68: ImplicitModificationWarning: Transforming to str index.\n",
      "  warnings.warn(\"Transforming to str index.\", ImplicitModificationWarning)\n",
      "/vevo/umair/miniforge3/envs/mosaicfm/lib/python3.10/site-packages/anndata/_core/aligned_df.py:68: ImplicitModificationWarning: Transforming to str index.\n",
      "  warnings.warn(\"Transforming to str index.\", ImplicitModificationWarning)\n"
     ]
    },
    {
     "data": {
      "text/plain": [
       "AnnData object with n_obs × n_vars = 52 × 15\n",
       "    obs: 'cell-line'\n",
       "    var: 'dim'\n",
       "    obsm: 'pca', 'mosaicfm-70m-pretrained', 'mosaicfm-70m-adapted', 'mosaicfm-70m-from-scratch'"
      ]
     },
     "execution_count": 5,
     "metadata": {},
     "output_type": "execute_result"
    }
   ],
   "source": [
    "# build initial AnnData\n",
    "mean_adata = ad.AnnData(\n",
    "    X=emb_arrays[\"pca\"],\n",
    "    obs=pd.DataFrame({\"cell-line\": cell_lines}),\n",
    "    var=pd.DataFrame({\"dim\": [i for i in range(emb_arrays[\"pca\"].shape[1])]})\n",
    ")\n",
    "\n",
    "# add other embeddings\n",
    "mean_adata.obsm[\"pca\"] = mean_adata.X\n",
    "for suffix in [\"pretrained\", \"adapted\", \"from-scratch\"]:\n",
    "    model = f\"mosaicfm-70m-{suffix}\"\n",
    "    mean_adata.obsm[model] = emb_arrays[model]\n",
    "\n",
    "# inspect\n",
    "mean_adata"
   ]
  },
  {
   "cell_type": "code",
   "execution_count": 6,
   "metadata": {},
   "outputs": [],
   "source": [
    "mean_adata.write_h5ad(\"/vevo/umair/data/sens-pred/dmso-mean-embs.h5ad\")"
   ]
  },
  {
   "cell_type": "markdown",
   "metadata": {},
   "source": [
    "### add embeddings from new models"
   ]
  },
  {
   "cell_type": "code",
   "execution_count": 16,
   "metadata": {},
   "outputs": [
    {
     "data": {
      "text/plain": [
       "AnnData object with n_obs × n_vars = 30245 × 37392\n",
       "    obs: 'sample', 'species', 'gene_count', 'tscp_count', 'mread_count', 'bc1_well', 'bc2_well', 'bc3_well', 'bc1_wind', 'bc2_wind', 'bc3_wind', 'id', 'drugname_drugconc', 'drug', 'INT_ID', 'NUM.SNPS', 'NUM.READS', 'demuxlet_call', 'BEST.GUESS', 'BEST.LLK', 'NEXT.GUESS', 'NEXT.LLK', 'DIFF.LLK.BEST.NEXT', 'BEST.POSTERIOR', 'SNG.POSTERIOR', 'cell_line', 'SNG.BEST.LLK', 'SNG.NEXT.GUESS', 'SNG.NEXT.LLK', 'SNG.ONLY.POSTERIOR', 'DBL.BEST.GUESS', 'DBL.BEST.LLK', 'DIFF.LLK.SNG.DBL', 'sublibrary', 'BARCODE', 'batch', 'pcnt_mito', 'S_score', 'G2M_score', 'phase', 'mlp_label', 'mlp_confidence', 'cell_line_orig', 'demuxlet_call_orig', 'pass_filter'\n",
       "    var: 'gene_id', 'genome', 'SUB_LIB_ID-0-0', 'SUB_LIB_ID-1-0', 'SUB_LIB_ID-10-0', 'SUB_LIB_ID-11-0', 'SUB_LIB_ID-12-0', 'SUB_LIB_ID-13-0', 'SUB_LIB_ID-14-0', 'SUB_LIB_ID-15-0', 'SUB_LIB_ID-2-0', 'SUB_LIB_ID-3-0', 'SUB_LIB_ID-4-0', 'SUB_LIB_ID-5-0', 'SUB_LIB_ID-6-0', 'SUB_LIB_ID-7-0', 'SUB_LIB_ID-8-0', 'SUB_LIB_ID-9-0', 'SUB_LIB_ID-0-1', 'SUB_LIB_ID-1-1', 'SUB_LIB_ID-10-1', 'SUB_LIB_ID-11-1', 'SUB_LIB_ID-12-1', 'SUB_LIB_ID-13-1', 'SUB_LIB_ID-14-1', 'SUB_LIB_ID-15-1', 'SUB_LIB_ID-2-1', 'SUB_LIB_ID-3-1', 'SUB_LIB_ID-4-1', 'SUB_LIB_ID-5-1', 'SUB_LIB_ID-6-1', 'SUB_LIB_ID-7-1', 'SUB_LIB_ID-8-1', 'SUB_LIB_ID-9-1', 'feature_name', 'id_in_vocab'\n",
       "    uns: 'log1p', 'pca'\n",
       "    obsm: 'X_pca', 'mosaicfm-70m-adapted', 'mosaicfm-70m-from-scratch', 'mosaicfm-70m-merged', 'mosaicfm-70m-pretrained', 'mosaicfm-70m-tahoe', 'mosaicfm-v2-1_3b-merged'\n",
       "    varm: 'PCs'"
      ]
     },
     "execution_count": 16,
     "metadata": {},
     "output_type": "execute_result"
    }
   ],
   "source": [
    "adata = sc.read_h5ad(\"/vevo/umair/data/sens-pred/embs/rif-dmso-t0-all.h5ad\")\n",
    "adata"
   ]
  },
  {
   "cell_type": "code",
   "execution_count": 17,
   "metadata": {},
   "outputs": [
    {
     "data": {
      "text/plain": [
       "AnnData object with n_obs × n_vars = 52 × 15\n",
       "    obs: 'cell-line'\n",
       "    var: 'dim'\n",
       "    obsm: 'mosaicfm-70m-adapted', 'mosaicfm-70m-from-scratch', 'mosaicfm-70m-pretrained', 'mosaicfm-70m-tahoe', 'pca'"
      ]
     },
     "execution_count": 17,
     "metadata": {},
     "output_type": "execute_result"
    }
   ],
   "source": [
    "mean_adata = sc.read_h5ad(\"/vevo/umair/data/sens-pred/embs/rif-dmso-t0-mean.h5ad\")\n",
    "mean_adata"
   ]
  },
  {
   "cell_type": "code",
   "execution_count": 18,
   "metadata": {},
   "outputs": [
    {
     "name": "stderr",
     "output_type": "stream",
     "text": [
      "100%|██████████| 52/52 [00:02<00:00, 18.94it/s]\n"
     ]
    }
   ],
   "source": [
    "# initialize arrays\n",
    "cell_lines = []\n",
    "emb_arrays = {\"mosaicfm-70m-merged\": [], \"mosaicfm-v2-1_3b-merged\": []}\n",
    "\n",
    "# compute means\n",
    "for c in tqdm(adata.obs[\"cell_line_orig\"].unique().tolist()):\n",
    "    cell_lines.append(c)\n",
    "    emb_arrays[\"mosaicfm-70m-merged\"].append(adata[adata.obs[\"cell_line_orig\"] == c].obsm[\"mosaicfm-70m-merged\"].mean(axis=0))\n",
    "    emb_arrays[\"mosaicfm-v2-1_3b-merged\"].append(adata[adata.obs[\"cell_line_orig\"] == c].obsm[\"mosaicfm-v2-1_3b-merged\"].mean(axis=0))\n",
    "\n",
    "# convert to NumPy arrays\n",
    "for k in emb_arrays.keys():\n",
    "    emb_arrays[k] = np.array(emb_arrays[k])"
   ]
  },
  {
   "cell_type": "code",
   "execution_count": 19,
   "metadata": {},
   "outputs": [
    {
     "data": {
      "text/plain": [
       "AnnData object with n_obs × n_vars = 52 × 15\n",
       "    obs: 'cell-line'\n",
       "    var: 'dim'\n",
       "    obsm: 'mosaicfm-70m-adapted', 'mosaicfm-70m-from-scratch', 'mosaicfm-70m-pretrained', 'mosaicfm-70m-tahoe', 'pca', 'mosaicfm-70m-merged', 'mosaicfm-v2-1_3b-merged'"
      ]
     },
     "execution_count": 19,
     "metadata": {},
     "output_type": "execute_result"
    }
   ],
   "source": [
    "mean_adata.obsm[\"mosaicfm-70m-merged\"] = emb_arrays[\"mosaicfm-70m-merged\"]\n",
    "mean_adata.obsm[\"mosaicfm-v2-1_3b-merged\"] = emb_arrays[\"mosaicfm-v2-1_3b-merged\"]\n",
    "mean_adata"
   ]
  },
  {
   "cell_type": "code",
   "execution_count": 20,
   "metadata": {},
   "outputs": [],
   "source": [
    "mean_adata.write_h5ad(\"/vevo/umair/data/sens-pred/embs/rif-dmso-t0-mean.h5ad\")"
   ]
  }
 ],
 "metadata": {
  "kernelspec": {
   "display_name": "Python 3",
   "language": "python",
   "name": "python3"
  },
  "language_info": {
   "codemirror_mode": {
    "name": "ipython",
    "version": 3
   },
   "file_extension": ".py",
   "mimetype": "text/x-python",
   "name": "python",
   "nbconvert_exporter": "python",
   "pygments_lexer": "ipython3",
   "version": "3.10.13"
  }
 },
 "nbformat": 4,
 "nbformat_minor": 2
}

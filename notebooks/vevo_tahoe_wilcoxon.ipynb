{
 "cells": [
  {
   "cell_type": "code",
   "execution_count": 1,
   "metadata": {},
   "outputs": [],
   "source": [
    "import copy\n",
    "import gc\n",
    "import json\n",
    "import os\n",
    "from pathlib import Path\n",
    "import sys\n",
    "import time\n",
    "import traceback\n",
    "from typing import List, Tuple, Dict, Union, Optional\n",
    "import warnings\n",
    "\n",
    "import torch\n",
    "from anndata import AnnData\n",
    "import scanpy as sc\n",
    "#import scvi\n",
    "import numpy as np\n",
    "import pandas as pd\n",
    "import wandb\n",
    "from scipy.sparse import issparse\n",
    "import matplotlib.pyplot as plt\n",
    "from pathlib import Path\n"
   ]
  },
  {
   "cell_type": "code",
   "execution_count": 2,
   "metadata": {},
   "outputs": [],
   "source": [
    "data_dir = Path(\"/datasets/Tahoe-100M/Tahoe/vevo_filter/plate2_demo_final.h5ad\")\n",
    "adata = sc.read(data_dir)"
   ]
  },
  {
   "cell_type": "code",
   "execution_count": 3,
   "metadata": {},
   "outputs": [
    {
     "data": {
      "text/plain": [
       "AnnData object with n_obs × n_vars = 83476 × 62710\n",
       "    obs: 'sample', 'species', 'gene_count', 'tscp_count', 'mread_count', 'bc1_wind', 'bc2_wind', 'bc3_wind', 'bc1_well', 'bc2_well', 'bc3_well', 'id', 'drugname_drugconc', 'drug', 'INT_ID', 'NUM.SNPS', 'NUM.READS', 'demuxlet_call', 'BEST.GUESS', 'BEST.LLK', 'NEXT.GUESS', 'NEXT.LLK', 'DIFF.LLK.BEST.NEXT', 'BEST.POSTERIOR', 'SNG.POSTERIOR', 'cell_line', 'SNG.BEST.LLK', 'SNG.NEXT.GUESS', 'SNG.NEXT.LLK', 'SNG.ONLY.POSTERIOR', 'DBL.BEST.GUESS', 'DBL.BEST.LLK', 'DIFF.LLK.SNG.DBL', 'sublibrary', 'BARCODE', 'pcnt_mito', 'S_score', 'G2M_score', 'phase', 'cell_line_orig', 'pass_filter', 'cell_name', 'condition', 'dosage'"
      ]
     },
     "execution_count": 3,
     "metadata": {},
     "output_type": "execute_result"
    }
   ],
   "source": [
    "adata"
   ]
  },
  {
   "cell_type": "code",
   "execution_count": 4,
   "metadata": {},
   "outputs": [],
   "source": [
    "data_is_raw = True\n",
    "n_hvg = 1200\n",
    "sc.pp.highly_variable_genes(\n",
    "    adata,\n",
    "    layer=None,\n",
    "    n_top_genes=1200,\n",
    "    flavor=\"seurat_v3\" if data_is_raw else \"cell_ranger\",\n",
    "    subset=False,\n",
    ")"
   ]
  },
  {
   "cell_type": "code",
   "execution_count": 5,
   "metadata": {},
   "outputs": [],
   "source": [
    "drug_df = pd.read_csv(\"/datasets/Tahoe-100M/Tahoe/vevo_filter/plate2_demo_final_targets.csv\")\n",
    "drug_target_map = dict(zip(drug_df[\"compound\"], drug_df[\"targets\"]))\n",
    "\n",
    "perturb_conditions = list(drug_target_map.values())\n",
    "condition_names_gene = perturb_conditions\n",
    "\n",
    "drug_target_map[\"ctrl\"] = \"ctrl\""
   ]
  },
  {
   "cell_type": "code",
   "execution_count": 6,
   "metadata": {},
   "outputs": [
    {
     "data": {
      "text/plain": [
       "34"
      ]
     },
     "execution_count": 6,
     "metadata": {},
     "output_type": "execute_result"
    }
   ],
   "source": [
    "len(condition_names_gene)"
   ]
  },
  {
   "cell_type": "code",
   "execution_count": 7,
   "metadata": {},
   "outputs": [],
   "source": [
    "add_counter = 0\n",
    "for g in condition_names_gene:\n",
    "    if not adata.var.loc[adata.var[adata.var.index==g].index, 'highly_variable'].values[0]:\n",
    "        adata.var.loc[adata.var[adata.var.index==g].index, 'highly_variable'] = True\n",
    "        add_counter += 1"
   ]
  },
  {
   "cell_type": "code",
   "execution_count": 8,
   "metadata": {},
   "outputs": [
    {
     "name": "stdout",
     "output_type": "stream",
     "text": [
      "Manually add conditions: 29, 0.8529411764705882\n"
     ]
    }
   ],
   "source": [
    "print('Manually add conditions: {}, {}'.format(add_counter, add_counter/len(condition_names_gene)))"
   ]
  },
  {
   "cell_type": "code",
   "execution_count": 9,
   "metadata": {},
   "outputs": [],
   "source": [
    "adata = adata[:, adata.var[\"highly_variable\"]].copy()\n"
   ]
  },
  {
   "cell_type": "code",
   "execution_count": 10,
   "metadata": {},
   "outputs": [
    {
     "data": {
      "text/plain": [
       "AnnData object with n_obs × n_vars = 83476 × 1229\n",
       "    obs: 'sample', 'species', 'gene_count', 'tscp_count', 'mread_count', 'bc1_wind', 'bc2_wind', 'bc3_wind', 'bc1_well', 'bc2_well', 'bc3_well', 'id', 'drugname_drugconc', 'drug', 'INT_ID', 'NUM.SNPS', 'NUM.READS', 'demuxlet_call', 'BEST.GUESS', 'BEST.LLK', 'NEXT.GUESS', 'NEXT.LLK', 'DIFF.LLK.BEST.NEXT', 'BEST.POSTERIOR', 'SNG.POSTERIOR', 'cell_line', 'SNG.BEST.LLK', 'SNG.NEXT.GUESS', 'SNG.NEXT.LLK', 'SNG.ONLY.POSTERIOR', 'DBL.BEST.GUESS', 'DBL.BEST.LLK', 'DIFF.LLK.SNG.DBL', 'sublibrary', 'BARCODE', 'pcnt_mito', 'S_score', 'G2M_score', 'phase', 'cell_line_orig', 'pass_filter', 'cell_name', 'condition', 'dosage'\n",
       "    var: 'highly_variable', 'highly_variable_rank', 'means', 'variances', 'variances_norm'\n",
       "    uns: 'hvg'"
      ]
     },
     "execution_count": 10,
     "metadata": {},
     "output_type": "execute_result"
    }
   ],
   "source": [
    "adata"
   ]
  },
  {
   "cell_type": "code",
   "execution_count": 11,
   "metadata": {},
   "outputs": [],
   "source": [
    "adata.obs[\"gene_target\"] = adata.obs[\"condition\"].map(drug_target_map)"
   ]
  },
  {
   "cell_type": "code",
   "execution_count": 12,
   "metadata": {},
   "outputs": [
    {
     "data": {
      "text/plain": [
       "BARCODE_SUB_LIB_ID\n",
       "08_003_169-lib_1000    TOP1\n",
       "08_028_044-lib_1000    TOP1\n",
       "08_046_119-lib_1000    TOP1\n",
       "08_050_191-lib_1000    TOP1\n",
       "08_064_086-lib_1000    TOP1\n",
       "                       ... \n",
       "96_133_088-lib_999     ctrl\n",
       "96_144_143-lib_999     ctrl\n",
       "96_146_192-lib_999     ctrl\n",
       "96_172_041-lib_999     ctrl\n",
       "96_173_021-lib_999     ctrl\n",
       "Name: gene_target, Length: 83476, dtype: object"
      ]
     },
     "execution_count": 12,
     "metadata": {},
     "output_type": "execute_result"
    }
   ],
   "source": [
    "adata.obs[\"gene_target\"]"
   ]
  },
  {
   "cell_type": "code",
   "execution_count": 13,
   "metadata": {},
   "outputs": [
    {
     "data": {
      "text/plain": [
       "AnnData object with n_obs × n_vars = 83476 × 1229\n",
       "    obs: 'sample', 'species', 'gene_count', 'tscp_count', 'mread_count', 'bc1_wind', 'bc2_wind', 'bc3_wind', 'bc1_well', 'bc2_well', 'bc3_well', 'id', 'drugname_drugconc', 'drug', 'INT_ID', 'NUM.SNPS', 'NUM.READS', 'demuxlet_call', 'BEST.GUESS', 'BEST.LLK', 'NEXT.GUESS', 'NEXT.LLK', 'DIFF.LLK.BEST.NEXT', 'BEST.POSTERIOR', 'SNG.POSTERIOR', 'cell_line', 'SNG.BEST.LLK', 'SNG.NEXT.GUESS', 'SNG.NEXT.LLK', 'SNG.ONLY.POSTERIOR', 'DBL.BEST.GUESS', 'DBL.BEST.LLK', 'DIFF.LLK.SNG.DBL', 'sublibrary', 'BARCODE', 'pcnt_mito', 'S_score', 'G2M_score', 'phase', 'cell_line_orig', 'pass_filter', 'cell_name', 'condition', 'dosage', 'gene_target'\n",
       "    var: 'highly_variable', 'highly_variable_rank', 'means', 'variances', 'variances_norm'\n",
       "    uns: 'hvg'"
      ]
     },
     "execution_count": 13,
     "metadata": {},
     "output_type": "execute_result"
    }
   ],
   "source": [
    "adata"
   ]
  },
  {
   "cell_type": "code",
   "execution_count": 14,
   "metadata": {},
   "outputs": [],
   "source": [
    "from sklearn.metrics.pairwise import cosine_distances\n",
    "from tqdm import tqdm\n",
    "import pandas as pd"
   ]
  },
  {
   "cell_type": "code",
   "execution_count": 15,
   "metadata": {},
   "outputs": [
    {
     "data": {
      "text/plain": [
       "1230"
      ]
     },
     "execution_count": 15,
     "metadata": {},
     "output_type": "execute_result"
    }
   ],
   "source": [
    "max_len = adata.shape[1] + 1\n",
    "max_len"
   ]
  },
  {
   "cell_type": "code",
   "execution_count": 16,
   "metadata": {},
   "outputs": [
    {
     "data": {
      "text/plain": [
       "array([[0., 4., 0., 0., 0.],\n",
       "       [0., 0., 0., 0., 0.],\n",
       "       [0., 2., 0., 0., 0.],\n",
       "       [0., 0., 0., 0., 0.],\n",
       "       [0., 0., 0., 0., 0.]], dtype=float32)"
      ]
     },
     "execution_count": 16,
     "metadata": {},
     "output_type": "execute_result"
    }
   ],
   "source": [
    "adata.X[:5, :5].toarray()"
   ]
  },
  {
   "cell_type": "code",
   "execution_count": 17,
   "metadata": {},
   "outputs": [],
   "source": [
    "sc.pp.log1p(adata)"
   ]
  },
  {
   "cell_type": "code",
   "execution_count": 18,
   "metadata": {},
   "outputs": [
    {
     "name": "stderr",
     "output_type": "stream",
     "text": [
      "/fs01/home/ahz/poetry_env/lib/python3.9/site-packages/scanpy/tools/_rank_genes_groups.py:394: PerformanceWarning: DataFrame is highly fragmented.  This is usually the result of calling `frame.insert` many times, which has poor performance.  Consider joining all columns at once using pd.concat(axis=1) instead.  To get a de-fragmented frame, use `newframe = frame.copy()`\n",
      "  self.stats[group_name, 'names'] = self.var_names[global_indices]\n",
      "/fs01/home/ahz/poetry_env/lib/python3.9/site-packages/scanpy/tools/_rank_genes_groups.py:396: PerformanceWarning: DataFrame is highly fragmented.  This is usually the result of calling `frame.insert` many times, which has poor performance.  Consider joining all columns at once using pd.concat(axis=1) instead.  To get a de-fragmented frame, use `newframe = frame.copy()`\n",
      "  self.stats[group_name, 'scores'] = scores[global_indices]\n",
      "/fs01/home/ahz/poetry_env/lib/python3.9/site-packages/scanpy/tools/_rank_genes_groups.py:399: PerformanceWarning: DataFrame is highly fragmented.  This is usually the result of calling `frame.insert` many times, which has poor performance.  Consider joining all columns at once using pd.concat(axis=1) instead.  To get a de-fragmented frame, use `newframe = frame.copy()`\n",
      "  self.stats[group_name, 'pvals'] = pvals[global_indices]\n",
      "/fs01/home/ahz/poetry_env/lib/python3.9/site-packages/scanpy/tools/_rank_genes_groups.py:409: PerformanceWarning: DataFrame is highly fragmented.  This is usually the result of calling `frame.insert` many times, which has poor performance.  Consider joining all columns at once using pd.concat(axis=1) instead.  To get a de-fragmented frame, use `newframe = frame.copy()`\n",
      "  self.stats[group_name, 'pvals_adj'] = pvals_adj[global_indices]\n",
      "/fs01/home/ahz/poetry_env/lib/python3.9/site-packages/scanpy/tools/_rank_genes_groups.py:420: PerformanceWarning: DataFrame is highly fragmented.  This is usually the result of calling `frame.insert` many times, which has poor performance.  Consider joining all columns at once using pd.concat(axis=1) instead.  To get a de-fragmented frame, use `newframe = frame.copy()`\n",
      "  self.stats[group_name, 'logfoldchanges'] = np.log2(\n"
     ]
    },
    {
     "data": {
      "text/plain": [
       "rec.array([('FTL', 'PPP1R15A', 'FTL', 'HSP90AA1', 'FTL', 'PPP1R15A', 'NEAT1', 'FTL', 'MT2A', 'HSPA8', 'FTL', 'MT2A', 'FTH1', 'HSPA8', 'MT2A', 'FTL', 'PPP1R15A', 'MT2A', 'TXNRD1', 'FTL', 'MT2A', 'FTL', 'NEAT1', 'FTL', 'MT2A', 'PPP1R15A', 'MT2A', 'HSP90AA1', 'FTL', 'FTL', 'ARHGAP26'),\n",
       "           ('PPP1R15A', 'NEAT1', 'MT2A', 'BIRC3', 'HSPA8', 'AKAP12', 'MALAT1', 'MT2A', 'FTL', 'PPP1R15A', 'MT2A', 'PPP1R15A', 'FTL', 'NEAT1', 'MYC', 'MT2A', 'FTL', 'FTL', 'WWC1', 'MT2A', 'FTL', 'MT2A', 'ARHGAP26', 'MT2A', 'FTL', 'HSPA8', 'FTL', 'HES1', 'MT2A', 'MT2A', 'PDE4D'),\n",
       "           ('HES1', 'DDIT4', 'FTH1', 'PRKDC', 'TXNRD1', 'NEAT1', 'THSD4', 'HES1', 'MT1X', 'SOD2', 'KRT81', 'ADM', 'TXNRD1', 'BHLHE40', 'NUP58', 'HSPA8', 'MT2A', 'DDIT4', 'DDIT4', 'HSPA8', 'CYP1B1', 'HSP90AA1', 'KYNU', 'HSP90AA1', 'HES1', 'HSP90AA1', 'MT1X', 'NR3C1', 'UBC', 'HES1', 'KYNU'),\n",
       "           ...,\n",
       "           ('VCL', 'EFNA5', 'MALAT1', 'IGFBP3', 'IGFBP3', 'IARS1', 'IGSF11', 'HSPA5', 'VCL', 'EGR1', 'PDE4D', 'IGFBP3', 'EGR1', 'HSPA5', 'EFNA5', 'AADACP1', 'THSD4', 'EFNA5', 'MAML3', 'VCL', 'PDE10A', 'PDE4D', 'EGR1', 'EFNA5', 'PDE4D', 'PDE4D', 'IGFBP3', 'CD55', 'PDE4D', 'EFNA5', 'SCD'),\n",
       "           ('AADACP1', 'THSD4', 'EFNA5', 'AADACP1', 'EGR1', 'IGFBP4', 'IGFBP4', 'VCL', 'PDE4D', 'IGFBP4', 'EFNA5', 'PDE4D', 'THSD4', 'CD55', 'IGFBP3', 'EFNA5', 'VCL', 'PDE4D', 'THSD4', 'PDE10A', 'EFNA5', 'GRB10', 'KCNMA1', 'PDE10A', 'AADACP1', 'AADACP1', 'EFNA5', 'EGR1', 'EFNA5', 'PDE4D', 'HSPA5'),\n",
       "           ('PDE4D', 'AADACP1', 'PDE4D', 'EGR1', 'AADACP1', 'HSPA5', 'AKR1C2', 'EFNA5', 'EFNA5', 'AADACP1', 'MALAT1', 'MALAT1', 'AADACP1', 'AADACP1', 'PDE4D', 'VCL', 'EFNA5', 'MALAT1', 'AADACP1', 'MAML3', 'PDE4D', 'AUTS2', 'HSPA5', 'PDE4D', 'EFNA5', 'EFNA5', 'PDE4D', 'AADACP1', 'MALAT1', 'MALAT1', 'MUC5AC')],\n",
       "          dtype=[('ATM', 'O'), ('ATR', 'O'), ('AURKB', 'O'), ('BCL2', 'O'), ('BRAF', 'O'), ('CYP19A1', 'O'), ('EIF4E', 'O'), ('EPAS1', 'O'), ('EPHB4', 'O'), ('ERBB2', 'O'), ('GSK3B', 'O'), ('KLF5', 'O'), ('KRAS', 'O'), ('MAP2K1', 'O'), ('MAP3K8', 'O'), ('MAP4K4', 'O'), ('MAPK7', 'O'), ('MAPK14', 'O'), ('MET', 'O'), ('MTOR', 'O'), ('NR3C1', 'O'), ('PBK', 'O'), ('PIK3CA', 'O'), ('PRKAA1', 'O'), ('PRKDC', 'O'), ('PSMB5', 'O'), ('PTGS2', 'O'), ('RET', 'O'), ('RPS6KB1', 'O'), ('SMO', 'O'), ('TOP1', 'O')])"
      ]
     },
     "execution_count": 18,
     "metadata": {},
     "output_type": "execute_result"
    }
   ],
   "source": [
    "# Wilcoxon rank\n",
    "sc.tl.rank_genes_groups(adata, 'gene_target', method='wilcoxon', key_added = \"wilcoxon\", n_genes=max_len-1, reference='ctrl')\n",
    "adata.uns['wilcoxon']['names']"
   ]
  },
  {
   "cell_type": "code",
   "execution_count": 19,
   "metadata": {},
   "outputs": [
    {
     "data": {
      "text/plain": [
       "{'params': {'groupby': 'gene_target',\n",
       "  'reference': 'ctrl',\n",
       "  'method': 'wilcoxon',\n",
       "  'use_raw': False,\n",
       "  'layer': None,\n",
       "  'corr_method': 'benjamini-hochberg'},\n",
       " 'names': rec.array([('FTL', 'PPP1R15A', 'FTL', 'HSP90AA1', 'FTL', 'PPP1R15A', 'NEAT1', 'FTL', 'MT2A', 'HSPA8', 'FTL', 'MT2A', 'FTH1', 'HSPA8', 'MT2A', 'FTL', 'PPP1R15A', 'MT2A', 'TXNRD1', 'FTL', 'MT2A', 'FTL', 'NEAT1', 'FTL', 'MT2A', 'PPP1R15A', 'MT2A', 'HSP90AA1', 'FTL', 'FTL', 'ARHGAP26'),\n",
       "            ('PPP1R15A', 'NEAT1', 'MT2A', 'BIRC3', 'HSPA8', 'AKAP12', 'MALAT1', 'MT2A', 'FTL', 'PPP1R15A', 'MT2A', 'PPP1R15A', 'FTL', 'NEAT1', 'MYC', 'MT2A', 'FTL', 'FTL', 'WWC1', 'MT2A', 'FTL', 'MT2A', 'ARHGAP26', 'MT2A', 'FTL', 'HSPA8', 'FTL', 'HES1', 'MT2A', 'MT2A', 'PDE4D'),\n",
       "            ('HES1', 'DDIT4', 'FTH1', 'PRKDC', 'TXNRD1', 'NEAT1', 'THSD4', 'HES1', 'MT1X', 'SOD2', 'KRT81', 'ADM', 'TXNRD1', 'BHLHE40', 'NUP58', 'HSPA8', 'MT2A', 'DDIT4', 'DDIT4', 'HSPA8', 'CYP1B1', 'HSP90AA1', 'KYNU', 'HSP90AA1', 'HES1', 'HSP90AA1', 'MT1X', 'NR3C1', 'UBC', 'HES1', 'KYNU'),\n",
       "            ...,\n",
       "            ('VCL', 'EFNA5', 'MALAT1', 'IGFBP3', 'IGFBP3', 'IARS1', 'IGSF11', 'HSPA5', 'VCL', 'EGR1', 'PDE4D', 'IGFBP3', 'EGR1', 'HSPA5', 'EFNA5', 'AADACP1', 'THSD4', 'EFNA5', 'MAML3', 'VCL', 'PDE10A', 'PDE4D', 'EGR1', 'EFNA5', 'PDE4D', 'PDE4D', 'IGFBP3', 'CD55', 'PDE4D', 'EFNA5', 'SCD'),\n",
       "            ('AADACP1', 'THSD4', 'EFNA5', 'AADACP1', 'EGR1', 'IGFBP4', 'IGFBP4', 'VCL', 'PDE4D', 'IGFBP4', 'EFNA5', 'PDE4D', 'THSD4', 'CD55', 'IGFBP3', 'EFNA5', 'VCL', 'PDE4D', 'THSD4', 'PDE10A', 'EFNA5', 'GRB10', 'KCNMA1', 'PDE10A', 'AADACP1', 'AADACP1', 'EFNA5', 'EGR1', 'EFNA5', 'PDE4D', 'HSPA5'),\n",
       "            ('PDE4D', 'AADACP1', 'PDE4D', 'EGR1', 'AADACP1', 'HSPA5', 'AKR1C2', 'EFNA5', 'EFNA5', 'AADACP1', 'MALAT1', 'MALAT1', 'AADACP1', 'AADACP1', 'PDE4D', 'VCL', 'EFNA5', 'MALAT1', 'AADACP1', 'MAML3', 'PDE4D', 'AUTS2', 'HSPA5', 'PDE4D', 'EFNA5', 'EFNA5', 'PDE4D', 'AADACP1', 'MALAT1', 'MALAT1', 'MUC5AC')],\n",
       "           dtype=[('ATM', 'O'), ('ATR', 'O'), ('AURKB', 'O'), ('BCL2', 'O'), ('BRAF', 'O'), ('CYP19A1', 'O'), ('EIF4E', 'O'), ('EPAS1', 'O'), ('EPHB4', 'O'), ('ERBB2', 'O'), ('GSK3B', 'O'), ('KLF5', 'O'), ('KRAS', 'O'), ('MAP2K1', 'O'), ('MAP3K8', 'O'), ('MAP4K4', 'O'), ('MAPK7', 'O'), ('MAPK14', 'O'), ('MET', 'O'), ('MTOR', 'O'), ('NR3C1', 'O'), ('PBK', 'O'), ('PIK3CA', 'O'), ('PRKAA1', 'O'), ('PRKDC', 'O'), ('PSMB5', 'O'), ('PTGS2', 'O'), ('RET', 'O'), ('RPS6KB1', 'O'), ('SMO', 'O'), ('TOP1', 'O')]),\n",
       " 'scores': rec.array([( 13.004625,  20.773424 ,  16.205795,  14.743001,  20.15494 , 23.965343 ,  34.253128,  14.685018,  16.644337,  19.420689,  18.799162,  16.500124 ,  39.071068,  13.881689 ,   5.140043 ,  14.78714 ,  14.963137,  16.070345,  10.707019,  25.48324 ,  16.822136 ,  25.033773, 21.868095,  19.937725 ,  16.356153,  24.714392,  19.538074 ,  17.384747 ,  13.192702 ,  20.17589 , 28.338009),\n",
       "            ( 11.620474,   8.670977 ,  13.212947,  11.431037,  16.654564, 20.84362  ,  25.331821,   9.355286,  13.16435 ,  18.36699 ,  17.461164,   7.82271  ,  21.649466,  13.1160345,   3.8574698,  11.304729,  14.091866,   9.987949,  10.266525,  19.415237,  12.423299 ,  21.744726, 16.978497,  14.3195505,  16.233158,  22.505135,   7.477576 ,  17.245813 ,   9.445305 ,  12.763376, 26.01086 ),\n",
       "            (  9.319885,   7.3507686,  10.136743,  10.702889,  16.04468 , 19.84987  ,  23.54179 ,   8.164644,   6.761196,  12.55477 ,   7.688903,   7.5677314,  20.063475,  12.489177 ,   2.8949633,   9.648521,  11.110079,   3.972401,   9.192914,  12.103917,   4.8681097,  21.102713, 14.31952 ,  11.427924 ,  11.816299,  21.289057,   4.8514132,  15.324726 ,   5.5223856,   8.892691, 24.407448),\n",
       "            ...,\n",
       "            (-19.3867  , -33.059    , -21.000662, -17.250406, -14.851923, -5.5490174,  -8.56576 , -14.681096, -21.66692 , -10.664269, -29.46335 , -25.72246  , -24.601322,  -6.9579206, -27.825014 , -17.861425, -12.172062, -33.90285 , -19.503857, -25.590145, -23.73571  , -23.14423 , -8.888119, -33.233723 , -17.360863, -23.853804, -27.89218  ,  -7.7046714, -24.08431  , -31.658525, -3.446127),\n",
       "            (-19.835304, -34.129353 , -22.8216  , -18.208534, -15.117993, -6.7041   ,  -8.724998, -15.048779, -22.5411  , -11.661121, -31.187607, -26.060907 , -27.25708 ,  -9.302624 , -29.542456 , -18.36918 , -13.846419, -37.70258 , -20.69785 , -25.844128, -24.612768 , -24.028397, -9.359698, -33.629593 , -17.386993, -25.626043, -29.6516   , -11.839893 , -25.568655 , -32.35558 , -4.196808),\n",
       "            (-20.543232, -36.42255  , -23.586597, -19.59234 , -18.431108, -8.311115 , -10.013469, -15.057331, -22.65008 , -15.46491 , -35.136417, -26.64139  , -31.473314, -11.153848 , -29.739323 , -21.026266, -14.138953, -41.509567, -23.564518, -25.952612, -29.824577 , -24.037794, -9.689269, -40.175903 , -18.791351, -28.206667, -29.65193  , -12.338503 , -31.005135 , -42.141003, -4.571752)],\n",
       "           dtype=[('ATM', '<f4'), ('ATR', '<f4'), ('AURKB', '<f4'), ('BCL2', '<f4'), ('BRAF', '<f4'), ('CYP19A1', '<f4'), ('EIF4E', '<f4'), ('EPAS1', '<f4'), ('EPHB4', '<f4'), ('ERBB2', '<f4'), ('GSK3B', '<f4'), ('KLF5', '<f4'), ('KRAS', '<f4'), ('MAP2K1', '<f4'), ('MAP3K8', '<f4'), ('MAP4K4', '<f4'), ('MAPK7', '<f4'), ('MAPK14', '<f4'), ('MET', '<f4'), ('MTOR', '<f4'), ('NR3C1', '<f4'), ('PBK', '<f4'), ('PIK3CA', '<f4'), ('PRKAA1', '<f4'), ('PRKDC', '<f4'), ('PSMB5', '<f4'), ('PTGS2', '<f4'), ('RET', '<f4'), ('RPS6KB1', '<f4'), ('SMO', '<f4'), ('TOP1', '<f4')]),\n",
       " 'pvals': rec.array([(1.15162199e-38, 7.52940141e-096, 4.58912158e-059, 3.41277345e-49, 2.43557744e-90, 6.39388325e-127, 3.91802300e-257, 8.04139063e-49, 3.32628904e-062, 5.15934985e-84, 7.67192703e-079, 3.66143291e-061, 0.00000000e+000, 8.17938961e-44, 2.74675764e-007, 1.77330020e-49, 1.27855450e-50, 4.11783388e-058, 9.43515226e-027, 3.02398230e-143, 1.67991884e-063, 2.62273573e-138, 5.22963204e-106, 1.91584678e-088, 3.93194984e-60, 7.49023743e-135, 5.21107792e-085, 1.07660431e-67, 9.66569817e-040, 1.59469943e-090, 1.17627171e-176),\n",
       "            (3.24332114e-31, 4.28431247e-018, 7.38745530e-040, 2.92594160e-30, 2.80380964e-62, 1.74156602e-096, 1.42548278e-141, 8.33740540e-21, 1.40743724e-039, 2.41442128e-75, 2.83096137e-068, 5.16981034e-015, 6.14898496e-104, 2.66519813e-39, 1.14566777e-004, 1.24337148e-29, 4.26153167e-45, 1.72105330e-023, 9.97323418e-025, 5.73701667e-084, 1.95337791e-035, 7.74935584e-105, 1.18481152e-064, 1.65189198e-046, 2.93937426e-59, 3.69694386e-112, 7.57060084e-014, 1.20308505e-66, 3.54372690e-021, 2.62569341e-037, 3.73210914e-149),\n",
       "            (1.16466623e-20, 1.97070055e-013, 3.79545413e-024, 9.86531288e-27, 6.22801301e-58, 1.10486460e-087, 1.52360492e-122, 3.22382971e-16, 1.36857198e-011, 3.74265842e-36, 1.48402338e-014, 3.79798072e-014, 1.53943047e-089, 8.55344685e-36, 3.79202911e-003, 4.98696548e-22, 1.12060065e-28, 7.11518088e-005, 3.82341309e-020, 1.00688925e-033, 1.12670743e-006, 7.51018486e-099, 1.65260987e-046, 3.03270820e-030, 3.21537411e-32, 1.43382337e-100, 1.22584717e-006, 5.22744003e-53, 3.34427283e-008, 5.96469379e-019, 1.42550893e-131),\n",
       "            ...,\n",
       "            (9.99469802e-84, 1.15508349e-239, 6.46783731e-098, 1.11113785e-66, 6.76010457e-50, 2.87279306e-008, 1.07365421e-017, 8.52014152e-49, 4.21002043e-104, 1.49570579e-26, 8.49247963e-191, 6.55545015e-146, 1.22270064e-133, 3.45331998e-12, 2.16141497e-170, 2.35549905e-71, 4.37881081e-34, 6.04769255e-252, 1.01809009e-084, 1.96401683e-144, 1.54347647e-124, 1.66187161e-118, 6.21521795e-019, 3.50855361e-242, 1.63249338e-67, 9.24661643e-126, 3.31935637e-171, 1.31180317e-14, 3.65037209e-128, 5.78813443e-220, 5.68683234e-004),\n",
       "            (1.47617808e-87, 2.70758437e-255, 2.79868233e-115, 4.41614201e-74, 1.23240776e-51, 2.02651038e-011, 2.66184876e-018, 3.51669700e-51, 1.64192208e-112, 2.01373120e-31, 1.56893079e-213, 1.01209723e-149, 1.36990347e-163, 1.37022035e-20, 8.20888970e-192, 2.31883846e-75, 1.33713707e-43, 0.00000000e+000, 3.62172097e-095, 2.83254262e-147, 9.22126167e-134, 1.40440010e-127, 7.99644496e-021, 6.19821459e-248, 1.03523550e-67, 7.82143389e-145, 3.23423871e-193, 2.42761897e-32, 3.40598374e-144, 1.15802591e-229, 2.70703358e-005),\n",
       "            (8.84758743e-94, 1.87175612e-290, 5.29063887e-123, 1.79734113e-85, 7.39510864e-76, 9.48069217e-017, 1.33004940e-023, 3.09011303e-51, 1.39259326e-113, 5.98577058e-54, 1.87416212e-270, 2.25188411e-156, 2.01434767e-217, 6.85755634e-29, 2.38324991e-194, 3.77187966e-98, 2.18509314e-45, 0.00000000e+000, 8.91195297e-123, 1.69896438e-148, 1.87594750e-195, 1.12008620e-127, 3.34917745e-022, 0.00000000e+000, 8.88875789e-79, 4.84401795e-175, 3.20265476e-193, 5.61910325e-35, 4.59639823e-211, 0.00000000e+000, 4.83662641e-006)],\n",
       "           dtype=[('ATM', '<f8'), ('ATR', '<f8'), ('AURKB', '<f8'), ('BCL2', '<f8'), ('BRAF', '<f8'), ('CYP19A1', '<f8'), ('EIF4E', '<f8'), ('EPAS1', '<f8'), ('EPHB4', '<f8'), ('ERBB2', '<f8'), ('GSK3B', '<f8'), ('KLF5', '<f8'), ('KRAS', '<f8'), ('MAP2K1', '<f8'), ('MAP3K8', '<f8'), ('MAP4K4', '<f8'), ('MAPK7', '<f8'), ('MAPK14', '<f8'), ('MET', '<f8'), ('MTOR', '<f8'), ('NR3C1', '<f8'), ('PBK', '<f8'), ('PIK3CA', '<f8'), ('PRKAA1', '<f8'), ('PRKDC', '<f8'), ('PSMB5', '<f8'), ('PTGS2', '<f8'), ('RET', '<f8'), ('RPS6KB1', '<f8'), ('SMO', '<f8'), ('TOP1', '<f8')]),\n",
       " 'pvals_adj': rec.array([(1.08872571e-36, 4.62681717e-094, 4.02859316e-057, 6.99049761e-47, 2.99332467e-87, 7.85808252e-124, 4.81525027e-254, 2.61781348e-46, 3.40667436e-060, 6.34084097e-81, 4.71439916e-077, 2.24995052e-059, 0.00000000e+000, 1.00524698e-40, 1.75821101e-006, 1.67645073e-47, 1.57134348e-47, 8.43469640e-057, 6.10305375e-025, 7.43294850e-141, 1.29038766e-061, 3.22334221e-135, 6.42721778e-103, 8.40919890e-087, 9.66473271e-58, 3.06850060e-132, 3.55800820e-083, 1.32314669e-64, 4.24255109e-038, 1.30659040e-088, 1.44563794e-173),\n",
       "            (2.21446760e-29, 5.06290387e-017, 3.78299274e-038, 3.99553580e-28, 1.14862735e-59, 1.07019232e-093, 8.75959169e-139, 3.53333491e-19, 6.17764415e-038, 1.48366188e-72, 1.05431864e-066, 6.22911462e-014, 8.39678058e-102, 1.63776425e-36, 5.72368167e-004, 8.48946416e-28, 1.74580747e-42, 1.74807811e-022, 5.10712700e-023, 4.70052899e-082, 5.85536940e-034, 1.58732639e-102, 7.28066680e-062, 3.22250039e-045, 6.02081828e-57, 6.49077715e-110, 6.69371830e-013, 7.39295761e-64, 7.25873394e-020, 5.29012656e-036, 2.29338107e-146),\n",
       "            (3.67019177e-19, 1.95321853e-012, 9.14630024e-023, 8.66033538e-25, 1.91355700e-55, 4.52626196e-085, 6.24170148e-120, 1.16531962e-14, 1.51529276e-010, 1.14993180e-33, 1.45909179e-013, 4.28231037e-013, 1.71996367e-087, 3.50406206e-33, 1.55866347e-002, 1.85726684e-20, 1.37721819e-26, 2.99471140e-004, 1.51579828e-018, 3.01821194e-032, 8.87643227e-006, 1.02555747e-096, 6.77019176e-044, 4.38493927e-029, 2.19538599e-30, 1.95796547e-098, 6.75590213e-006, 2.14150793e-50, 3.31460589e-007, 7.11709579e-018, 5.83983490e-129),\n",
       "            ...,\n",
       "            (4.09449462e-81, 4.73199205e-237, 2.64965735e-095, 4.55196141e-64, 9.23129835e-48, 4.64560878e-007, 1.75936136e-016, 2.61781348e-46, 1.72470504e-101, 1.67111129e-24, 3.47908582e-188, 2.68554941e-143, 3.75674772e-131, 1.92915011e-10, 8.85459666e-168, 9.64969442e-69, 1.07631170e-31, 2.47753805e-249, 4.17077574e-082, 8.04592227e-142, 6.32310860e-122, 5.10610053e-116, 4.49323698e-017, 1.43733746e-239, 6.68778120e-65, 2.84102290e-123, 1.35982966e-168, 5.75787892e-13, 1.49543577e-125, 2.37120574e-217, 2.22101042e-003),\n",
       "            (9.07111428e-85, 1.66381059e-252, 1.71979029e-112, 2.71371926e-71, 2.16375590e-49, 4.78957933e-010, 4.74117700e-017, 2.16101031e-48, 1.00896112e-109, 3.53553663e-29, 9.64107968e-211, 6.21933745e-147, 5.61203789e-161, 1.20285773e-18, 5.04436272e-189, 1.42492623e-72, 4.10835364e-41, 0.00000000e+000, 2.22554754e-092, 1.74059744e-144, 5.66646530e-131, 5.75335909e-125, 6.55175390e-019, 3.80880286e-245, 6.36152217e-65, 4.80627113e-142, 1.98743969e-190, 3.72942964e-30, 2.09297701e-141, 7.11606920e-227, 1.20541459e-004),\n",
       "            (1.08736849e-90, 2.30038827e-287, 6.50219517e-120, 2.20893224e-82, 4.54429426e-73, 3.14912721e-015, 3.40548066e-022, 2.16101031e-48, 1.71149712e-110, 2.45217068e-51, 2.30334524e-267, 2.76756557e-153, 1.23781665e-214, 1.40465612e-26, 2.92901414e-191, 4.63564010e-95, 1.34273973e-42, 0.00000000e+000, 1.09527902e-119, 2.08802723e-145, 2.30553948e-192, 5.75335909e-125, 2.94009934e-020, 0.00000000e+000, 1.09242835e-75, 5.95329806e-172, 1.98743969e-190, 9.86553985e-33, 5.64897342e-208, 0.00000000e+000, 2.42620974e-005)],\n",
       "           dtype=[('ATM', '<f8'), ('ATR', '<f8'), ('AURKB', '<f8'), ('BCL2', '<f8'), ('BRAF', '<f8'), ('CYP19A1', '<f8'), ('EIF4E', '<f8'), ('EPAS1', '<f8'), ('EPHB4', '<f8'), ('ERBB2', '<f8'), ('GSK3B', '<f8'), ('KLF5', '<f8'), ('KRAS', '<f8'), ('MAP2K1', '<f8'), ('MAP3K8', '<f8'), ('MAP4K4', '<f8'), ('MAPK7', '<f8'), ('MAPK14', '<f8'), ('MET', '<f8'), ('MTOR', '<f8'), ('NR3C1', '<f8'), ('PBK', '<f8'), ('PIK3CA', '<f8'), ('PRKAA1', '<f8'), ('PRKDC', '<f8'), ('PSMB5', '<f8'), ('PTGS2', '<f8'), ('RET', '<f8'), ('RPS6KB1', '<f8'), ('SMO', '<f8'), ('TOP1', '<f8')]),\n",
       " 'logfoldchanges': rec.array([( 0.636993  ,  1.0574871 ,  1.0566629 ,  0.66884047,  0.6932809 ,  1.0675435 ,  1.0260863 ,  0.7099188 ,  1.0601922 ,  1.4558331 ,  1.0647974,  0.76300085,  1.3053567 ,  1.4599316 ,  0.22570817,  0.77306694,  1.2252442 ,  0.9096158 ,  0.53547823,  0.87582225,  1.1519009 ,  1.1141421 ,  0.730039  ,  0.7767241 ,  1.1514539 ,  1.041585  ,  1.1064658 ,  0.9948867 ,  0.91145194,  1.154336 ,  1.0960971 ),\n",
       "            ( 0.72280806,  0.27367687,  1.0229096 ,  0.5285236 ,  1.0373651 ,  0.56053615,  0.55719775,  0.5159039 ,  0.7972837 ,  1.0239637 ,  1.185366 ,  0.43797544,  0.8166829 ,  0.598962  ,  0.577599  ,  0.6858095 ,  0.969228  ,  0.49989328,  0.5587955 ,  0.8021646 ,  0.75613374,  1.0733901 ,  0.6135561 ,  0.65881485,  1.0165387 ,  1.4412408 ,  0.38149136,  1.5412406 ,  0.7789582 ,  0.8787893,  0.7989046 ),\n",
       "            ( 0.90237236,  0.6408194 ,  0.60342497,  0.61641353,  0.7112442 ,  0.5496168 ,  0.72063744,  0.80063057,  0.74879307,  0.5166311 ,  0.5919708,  0.5105304 ,  0.9573754 ,  0.8933933 ,  0.3083521 ,  0.9577221 ,  0.88752645,  0.45919615,  0.76306474,  0.8633162 ,  1.5526284 ,  1.123522  ,  0.5558614 ,  0.5020083 ,  1.3247823 ,  1.2791375 ,  0.48219824,  0.78133637,  0.364832  ,  1.0172405,  1.0144094 ),\n",
       "            ...,\n",
       "            (-0.860405  , -1.1345533 , -0.7862302 , -0.70686007, -0.50578535, -0.4157017 , -0.747379  , -1.2227448 , -1.2221332 , -0.7686223 , -1.4344158, -1.0859163 , -1.9827917 , -0.6696671 , -0.98143065, -0.8873584 , -0.7043536 , -1.5812217 , -0.83893454, -0.86035585, -1.4568211 , -0.8215399 , -0.6295334 , -1.0730641 , -0.8322077 , -0.70498294, -1.6676605 , -0.42622203, -1.2832916 , -1.7089863, -0.28156456),\n",
       "            (-0.97942615, -1.365713  , -1.2541113 , -0.74853575, -0.87983674, -0.24509601, -0.34745002, -0.6474669 , -0.95578825, -0.53572786, -1.6608067, -0.82757473, -0.98337674, -0.5986008 , -1.3623849 , -0.7099393 , -0.87322557, -1.7559302 , -0.7568454 , -0.86343485, -1.2935842 , -0.98617965, -0.44620726, -1.2606262 , -1.1505643 , -0.8837068 , -1.321569  , -1.0766385 , -1.4691038 , -1.6568687, -0.35082915),\n",
       "            (-0.7869461 , -1.7086695 , -1.3484842 , -1.5444692 , -0.63381606, -0.5162107 , -0.69630295, -0.5613988 , -1.044964  , -0.6747533 , -1.3252525, -0.61924505, -1.31169   , -0.67137456, -1.048883  , -0.99701935, -0.7370413 , -1.4523927 , -0.9966475 , -1.0101235 , -1.5939202 , -1.1831135 , -0.6744651 , -1.4337335 , -0.95888555, -0.7998805 , -1.2396158 , -0.62777686, -1.3539522 , -1.7865537, -1.3253223 )],\n",
       "           dtype=[('ATM', '<f4'), ('ATR', '<f4'), ('AURKB', '<f4'), ('BCL2', '<f4'), ('BRAF', '<f4'), ('CYP19A1', '<f4'), ('EIF4E', '<f4'), ('EPAS1', '<f4'), ('EPHB4', '<f4'), ('ERBB2', '<f4'), ('GSK3B', '<f4'), ('KLF5', '<f4'), ('KRAS', '<f4'), ('MAP2K1', '<f4'), ('MAP3K8', '<f4'), ('MAP4K4', '<f4'), ('MAPK7', '<f4'), ('MAPK14', '<f4'), ('MET', '<f4'), ('MTOR', '<f4'), ('NR3C1', '<f4'), ('PBK', '<f4'), ('PIK3CA', '<f4'), ('PRKAA1', '<f4'), ('PRKDC', '<f4'), ('PSMB5', '<f4'), ('PTGS2', '<f4'), ('RET', '<f4'), ('RPS6KB1', '<f4'), ('SMO', '<f4'), ('TOP1', '<f4')])}"
      ]
     },
     "execution_count": 19,
     "metadata": {},
     "output_type": "execute_result"
    }
   ],
   "source": [
    "adata.uns['wilcoxon']"
   ]
  },
  {
   "cell_type": "code",
   "execution_count": 21,
   "metadata": {},
   "outputs": [],
   "source": [
    "import pickle\n",
    "\n",
    "# Save to a pickle file\n",
    "with open(\"wilcoxon_filtered.pkl\", \"wb\") as f:\n",
    "    pickle.dump(adata.uns[\"wilcoxon\"], f)"
   ]
  },
  {
   "cell_type": "code",
   "execution_count": 22,
   "metadata": {},
   "outputs": [
    {
     "data": {
      "text/plain": [
       "rec.array([('FTL', 'PPP1R15A', 'FTL', 'HSP90AA1', 'FTL', 'PPP1R15A', 'NEAT1', 'FTL', 'MT2A', 'HSPA8', 'FTL', 'MT2A', 'FTH1', 'HSPA8', 'MT2A', 'FTL', 'PPP1R15A', 'MT2A', 'TXNRD1', 'FTL', 'MT2A', 'FTL', 'NEAT1', 'FTL', 'MT2A', 'PPP1R15A', 'MT2A', 'HSP90AA1', 'FTL', 'FTL', 'ARHGAP26'),\n",
       "           ('PPP1R15A', 'NEAT1', 'MT2A', 'BIRC3', 'HSPA8', 'AKAP12', 'MALAT1', 'MT2A', 'FTL', 'PPP1R15A', 'MT2A', 'PPP1R15A', 'FTL', 'NEAT1', 'MYC', 'MT2A', 'FTL', 'FTL', 'WWC1', 'MT2A', 'FTL', 'MT2A', 'ARHGAP26', 'MT2A', 'FTL', 'HSPA8', 'FTL', 'HES1', 'MT2A', 'MT2A', 'PDE4D'),\n",
       "           ('HES1', 'DDIT4', 'FTH1', 'PRKDC', 'TXNRD1', 'NEAT1', 'THSD4', 'HES1', 'MT1X', 'SOD2', 'KRT81', 'ADM', 'TXNRD1', 'BHLHE40', 'NUP58', 'HSPA8', 'MT2A', 'DDIT4', 'DDIT4', 'HSPA8', 'CYP1B1', 'HSP90AA1', 'KYNU', 'HSP90AA1', 'HES1', 'HSP90AA1', 'MT1X', 'NR3C1', 'UBC', 'HES1', 'KYNU'),\n",
       "           ...,\n",
       "           ('VCL', 'EFNA5', 'MALAT1', 'IGFBP3', 'IGFBP3', 'IARS1', 'IGSF11', 'HSPA5', 'VCL', 'EGR1', 'PDE4D', 'IGFBP3', 'EGR1', 'HSPA5', 'EFNA5', 'AADACP1', 'THSD4', 'EFNA5', 'MAML3', 'VCL', 'PDE10A', 'PDE4D', 'EGR1', 'EFNA5', 'PDE4D', 'PDE4D', 'IGFBP3', 'CD55', 'PDE4D', 'EFNA5', 'SCD'),\n",
       "           ('AADACP1', 'THSD4', 'EFNA5', 'AADACP1', 'EGR1', 'IGFBP4', 'IGFBP4', 'VCL', 'PDE4D', 'IGFBP4', 'EFNA5', 'PDE4D', 'THSD4', 'CD55', 'IGFBP3', 'EFNA5', 'VCL', 'PDE4D', 'THSD4', 'PDE10A', 'EFNA5', 'GRB10', 'KCNMA1', 'PDE10A', 'AADACP1', 'AADACP1', 'EFNA5', 'EGR1', 'EFNA5', 'PDE4D', 'HSPA5'),\n",
       "           ('PDE4D', 'AADACP1', 'PDE4D', 'EGR1', 'AADACP1', 'HSPA5', 'AKR1C2', 'EFNA5', 'EFNA5', 'AADACP1', 'MALAT1', 'MALAT1', 'AADACP1', 'AADACP1', 'PDE4D', 'VCL', 'EFNA5', 'MALAT1', 'AADACP1', 'MAML3', 'PDE4D', 'AUTS2', 'HSPA5', 'PDE4D', 'EFNA5', 'EFNA5', 'PDE4D', 'AADACP1', 'MALAT1', 'MALAT1', 'MUC5AC')],\n",
       "          dtype=[('ATM', 'O'), ('ATR', 'O'), ('AURKB', 'O'), ('BCL2', 'O'), ('BRAF', 'O'), ('CYP19A1', 'O'), ('EIF4E', 'O'), ('EPAS1', 'O'), ('EPHB4', 'O'), ('ERBB2', 'O'), ('GSK3B', 'O'), ('KLF5', 'O'), ('KRAS', 'O'), ('MAP2K1', 'O'), ('MAP3K8', 'O'), ('MAP4K4', 'O'), ('MAPK7', 'O'), ('MAPK14', 'O'), ('MET', 'O'), ('MTOR', 'O'), ('NR3C1', 'O'), ('PBK', 'O'), ('PIK3CA', 'O'), ('PRKAA1', 'O'), ('PRKDC', 'O'), ('PSMB5', 'O'), ('PTGS2', 'O'), ('RET', 'O'), ('RPS6KB1', 'O'), ('SMO', 'O'), ('TOP1', 'O')])"
      ]
     },
     "execution_count": 22,
     "metadata": {},
     "output_type": "execute_result"
    }
   ],
   "source": [
    "adata.uns['wilcoxon']['names']"
   ]
  },
  {
   "cell_type": "code",
   "execution_count": 23,
   "metadata": {},
   "outputs": [
    {
     "name": "stdout",
     "output_type": "stream",
     "text": [
      "EIF4E 330\n",
      "GSK3B 37\n",
      "PIK3CA 313\n",
      "CYP19A1 770\n",
      "PRKDC 519\n",
      "MTOR 370\n",
      "ATM 65\n",
      "EPAS1 54\n",
      "PSMB5 342\n",
      "MET 212\n",
      "PTGS2 33\n",
      "ATR 200\n",
      "MAPK7 490\n",
      "PRKAA1 269\n",
      "PBK 228\n",
      "TOP1 63\n",
      "PSMB5 342\n",
      "RPS6KB1 171\n",
      "NR3C1 107\n",
      "PRKAA1 269\n",
      "KLF5 56\n",
      "EPHB4 594\n",
      "MAP3K8 483\n",
      "MAP4K4 19\n",
      "MAPK14 268\n",
      "RET 549\n",
      "KRAS 146\n",
      "MTOR 370\n",
      "SMO 566\n",
      "MAP2K1 42\n",
      "AURKB 849\n",
      "ERBB2 591\n",
      "BRAF 125\n",
      "BCL2 946\n"
     ]
    }
   ],
   "source": [
    "baseline_rank = []\n",
    "\n",
    "for c in perturb_conditions:\n",
    "    # print(c)\n",
    "    hvg_list = adata.uns['wilcoxon']['names'][c]\n",
    "    p_val = adata.uns['wilcoxon']['pvals_adj'][c]\n",
    "    df_gene_emb_dist = pd.DataFrame()\n",
    "    df_gene_emb_dist['gene'] = hvg_list\n",
    "    df_gene_emb_dist['p_val'] = p_val\n",
    "    df_gene_emb_dist = df_gene_emb_dist.sort_values(by='p_val')\n",
    "    print(c, np.where(df_gene_emb_dist.gene.values==c.split('+')[0])[0][0])\n",
    "    baseline_rank.append(np.where(df_gene_emb_dist.gene.values==c.split('+')[0])[0][0])"
   ]
  },
  {
   "cell_type": "code",
   "execution_count": 24,
   "metadata": {},
   "outputs": [
    {
     "data": {
      "text/plain": [
       "[330,\n",
       " 37,\n",
       " 313,\n",
       " 770,\n",
       " 519,\n",
       " 370,\n",
       " 65,\n",
       " 54,\n",
       " 342,\n",
       " 212,\n",
       " 33,\n",
       " 200,\n",
       " 490,\n",
       " 269,\n",
       " 228,\n",
       " 63,\n",
       " 342,\n",
       " 171,\n",
       " 107,\n",
       " 269,\n",
       " 56,\n",
       " 594,\n",
       " 483,\n",
       " 19,\n",
       " 268,\n",
       " 549,\n",
       " 146,\n",
       " 370,\n",
       " 566,\n",
       " 42,\n",
       " 849,\n",
       " 591,\n",
       " 125,\n",
       " 946]"
      ]
     },
     "execution_count": 24,
     "metadata": {},
     "output_type": "execute_result"
    }
   ],
   "source": [
    "baseline_rank"
   ]
  },
  {
   "cell_type": "code",
   "execution_count": 25,
   "metadata": {},
   "outputs": [],
   "source": [
    "with open(\"baseline_filtered.pkl\", \"wb\") as f:\n",
    "    pickle.dump(baseline_rank, f)"
   ]
  },
  {
   "cell_type": "code",
   "execution_count": 26,
   "metadata": {},
   "outputs": [
    {
     "data": {
      "text/plain": [
       "317.29411764705884"
      ]
     },
     "execution_count": 26,
     "metadata": {},
     "output_type": "execute_result"
    }
   ],
   "source": [
    "np.mean(baseline_rank)"
   ]
  },
  {
   "cell_type": "code",
   "execution_count": 27,
   "metadata": {},
   "outputs": [
    {
     "data": {
      "text/plain": [
       "Text(0, 0.5, 'Rank Value')"
      ]
     },
     "execution_count": 27,
     "metadata": {},
     "output_type": "execute_result"
    },
    {
     "data": {
      "image/png": "[encoded data removed]",
      "text/plain": [
       "<Figure size 432x288 with 1 Axes>"
      ]
     },
     "metadata": {
      "needs_background": "light"
     },
     "output_type": "display_data"
    }
   ],
   "source": [
    "import seaborn as sns\n",
    "\n",
    "sns.boxplot(y=baseline_rank)\n",
    "\n",
    "# Add title and labels\n",
    "plt.title(\"Boxplot of Wilcoxon Rank\")\n",
    "plt.ylabel(\"Rank Value\")"
   ]
  }
 ],
 "metadata": {
  "kernelspec": {
   "display_name": "Python 3 (ipykernel)",
   "language": "python",
   "name": "python3"
  },
  "language_info": {
   "codemirror_mode": {
    "name": "ipython",
    "version": 3
   },
   "file_extension": ".py",
   "mimetype": "text/x-python",
   "name": "python",
   "nbconvert_exporter": "python",
   "pygments_lexer": "ipython3",
   "version": "3.9.10"
  },
  "orig_nbformat": 4
 },
 "nbformat": 4,
 "nbformat_minor": 2
}

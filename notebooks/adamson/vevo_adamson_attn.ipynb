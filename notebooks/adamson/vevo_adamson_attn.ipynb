{
 "cells": [
  {
   "cell_type": "code",
   "execution_count": 1,
   "id": "abafa220",
   "metadata": {},
   "outputs": [
    {
     "name": "stderr",
     "output_type": "stream",
     "text": [
      "/h/chloexq/.local/lib/python3.9/site-packages/scanpy/_settings.py:447: DeprecationWarning: `set_matplotlib_formats` is deprecated since IPython 7.23, directly use `matplotlib_inline.backend_inline.set_matplotlib_formats()`\n",
      "  IPython.display.set_matplotlib_formats(*ipython_format)\n"
     ]
    }
   ],
   "source": [
    "import copy\n",
    "import gc\n",
    "import json\n",
    "import os\n",
    "from pathlib import Path\n",
    "import sys\n",
    "import time\n",
    "import traceback\n",
    "from typing import List, Tuple, Dict, Union, Optional\n",
    "import warnings\n",
    "\n",
    "import torch\n",
    "from anndata import AnnData\n",
    "import scanpy as sc\n",
    "#import scvi\n",
    "import numpy as np\n",
    "import pandas as pd\n",
    "import wandb\n",
    "from scipy.sparse import issparse\n",
    "import matplotlib.pyplot as plt\n",
    "from torch import nn\n",
    "from torch.nn import functional as F\n",
    "from torch.utils.data import Dataset, DataLoader\n",
    "from sklearn.model_selection import train_test_split\n",
    "from torchtext.vocab import Vocab\n",
    "from torchtext._torchtext import (\n",
    "    Vocab as VocabPybind,\n",
    ")\n",
    "\n",
    "\n",
    "sys.path.insert(0, \"../\")\n",
    "#import scgpt as scg\n",
    "from scgpt.model import TransformerModel, AdversarialDiscriminator\n",
    "from scgpt.tokenizer import tokenize_and_pad_batch, random_mask_value\n",
    "from scgpt.tokenizer.gene_tokenizer import GeneVocab\n",
    "from scgpt.loss import (\n",
    "    masked_mse_loss,\n",
    "    masked_relative_error,\n",
    "    criterion_neg_log_bernoulli,\n",
    ")\n",
    "from scgpt.preprocess import Preprocessor\n",
    "from scgpt import SubsetsBatchSampler\n",
    "from scgpt.utils import set_seed, eval_scib_metrics, load_pretrained\n",
    "\n",
    "sc.set_figure_params(figsize=(4, 4))\n",
    "os.environ[\"KMP_WARNINGS\"] = \"off\"\n",
    "warnings.filterwarnings('ignore')"
   ]
  },
  {
   "cell_type": "code",
   "execution_count": 2,
   "id": "716574d1",
   "metadata": {},
   "outputs": [
    {
     "name": "stderr",
     "output_type": "stream",
     "text": [
      "Failed to detect the name of this notebook, you can set it manually with the WANDB_NOTEBOOK_NAME environment variable to enable code saving.\n",
      "\u001b[34m\u001b[1mwandb\u001b[0m: Currently logged in as: \u001b[33mchloewxq\u001b[0m (\u001b[33mscformer\u001b[0m). Use \u001b[1m`wandb login --relogin`\u001b[0m to force relogin\n"
     ]
    },
    {
     "data": {
      "text/html": [
       "wandb version 0.19.6 is available!  To upgrade, please run:\n",
       " $ pip install wandb --upgrade"
      ],
      "text/plain": [
       "<IPython.core.display.HTML object>"
      ]
     },
     "metadata": {},
     "output_type": "display_data"
    },
    {
     "data": {
      "text/html": [
       "Tracking run with wandb version 0.15.12"
      ],
      "text/plain": [
       "<IPython.core.display.HTML object>"
      ]
     },
     "metadata": {},
     "output_type": "display_data"
    },
    {
     "data": {
      "text/html": [
       "Run data is saved locally in <code>/fs01/home/chloexq/scgpt-vevo-attn/notebooks/wandb/run-20250206_151243-99zex33a</code>"
      ],
      "text/plain": [
       "<IPython.core.display.HTML object>"
      ]
     },
     "metadata": {},
     "output_type": "display_data"
    },
    {
     "data": {
      "text/html": [
       "Syncing run <strong><a href='https://wandb.ai/scformer/scGPT/runs/99zex33a' target=\"_blank\">efficient-bush-782</a></strong> to <a href='https://wandb.ai/scformer/scGPT' target=\"_blank\">Weights & Biases</a> (<a href='https://wandb.me/run' target=\"_blank\">docs</a>)<br/>"
      ],
      "text/plain": [
       "<IPython.core.display.HTML object>"
      ]
     },
     "metadata": {},
     "output_type": "display_data"
    },
    {
     "data": {
      "text/html": [
       " View project at <a href='https://wandb.ai/scformer/scGPT' target=\"_blank\">https://wandb.ai/scformer/scGPT</a>"
      ],
      "text/plain": [
       "<IPython.core.display.HTML object>"
      ]
     },
     "metadata": {},
     "output_type": "display_data"
    },
    {
     "data": {
      "text/html": [
       " View run at <a href='https://wandb.ai/scformer/scGPT/runs/99zex33a' target=\"_blank\">https://wandb.ai/scformer/scGPT/runs/99zex33a</a>"
      ],
      "text/plain": [
       "<IPython.core.display.HTML object>"
      ]
     },
     "metadata": {},
     "output_type": "display_data"
    },
    {
     "name": "stdout",
     "output_type": "stream",
     "text": [
      "{'seed': 42, 'dataset_name': 'fibro', 'do_train': True, 'load_model': '/scratch/ssd004/scratch/chloexq/scGPT_models/scGPT_human_model', 'model_name': 'best_model.pt', 'GEPC': True, 'ecs_thres': 0.8, 'dab_weight': 1.0, 'mask_ratio': 0.4, 'epochs': 15, 'n_bins': 51, 'lr': 0.0001, 'batch_size': 64, 'layer_size': 128, 'nlayers': 4, 'nhead': 4, 'dropout': 0.2, 'schedule_ratio': 0.9, 'save_eval_interval': 5, 'log_interval': 100, 'fast_transformer': True, 'pre_norm': False, 'amp': True}\n"
     ]
    }
   ],
   "source": [
    "hyperparameter_defaults = dict(\n",
    "    seed=42,\n",
    "    dataset_name=\"fibro\", # Dataset name\n",
    "    do_train=True, # Flag to indicate whether to do update model parameters during training\n",
    "    load_model=\"/scratch/ssd004/scratch/chloexq/scGPT_models/scGPT_human_model\",\n",
    "    model_name=\"best_model.pt\",\n",
    "    GEPC=True,  # Gene expression modelling for cell objective\n",
    "    ecs_thres=0.8,  # Elastic cell similarity objective, 0.0 to 1.0, 0.0 to disable\n",
    "    dab_weight=1.0, # DAR objective weight for batch correction\n",
    "    mask_ratio=0.4, # Default mask ratio\n",
    "    epochs=15, # Default number of epochs for fine-tuning\n",
    "    n_bins=51, # Default number of bins for value binning in data pre-processing\n",
    "    lr=1e-4, # Default learning rate for fine-tuning\n",
    "    batch_size=64, # Default batch size for fine-tuning\n",
    "    layer_size=128,\n",
    "    nlayers=4,\n",
    "    nhead=4, # if load model, batch_size, layer_size, nlayers, nhead will be ignored\n",
    "    dropout=0.2, # Default dropout rate during model fine-tuning\n",
    "    schedule_ratio=0.9,  # Default rate for learning rate decay\n",
    "    save_eval_interval=5, # Default model evaluation interval\n",
    "    log_interval=100, # Default log interval\n",
    "    fast_transformer=True, # Default setting\n",
    "    pre_norm=False, # Default setting\n",
    "    amp=True,  # # Default setting: Automatic Mixed Precision\n",
    ")\n",
    "run = wandb.init(\n",
    "    config=hyperparameter_defaults,\n",
    "    project=\"scGPT\",\n",
    "    reinit=True,\n",
    "    settings=wandb.Settings(start_method=\"fork\"),\n",
    ")\n",
    "config = wandb.config\n",
    "print(config)\n",
    "\n",
    "set_seed(config.seed)"
   ]
  },
  {
   "cell_type": "code",
   "execution_count": 3,
   "id": "40811ce3",
   "metadata": {},
   "outputs": [
    {
     "name": "stdout",
     "output_type": "stream",
     "text": [
      "save to /scratch/ssd004/scratch/chloexq/fibro/dev_fibro-Feb06-15-12\n"
     ]
    }
   ],
   "source": [
    "from pathlib import Path\n",
    "# settings for input and preprocessing\n",
    "pad_token = \"<pad>\"\n",
    "special_tokens = [pad_token, \"<cls>\", \"<eoc>\"]\n",
    "mask_ratio = config.mask_ratio\n",
    "mask_value = -1\n",
    "pad_value = -2\n",
    "n_input_bins = config.n_bins\n",
    "\n",
    "n_hvg = 1200  # number of highly variable genes\n",
    "max_seq_len = n_hvg + 1\n",
    "per_seq_batch_sample = True\n",
    "DSBN = True  # Domain-spec batchnorm\n",
    "explicit_zero_prob = True  # whether explicit bernoulli for zeros\n",
    "\n",
    "dataset_name = config.dataset_name\n",
    "save_dir = Path(f\"/scratch/ssd004/scratch/chloexq/fibro/dev_{dataset_name}-{time.strftime('%b%d-%H-%M')}/\")\n",
    "save_dir.mkdir(parents=True, exist_ok=True)\n",
    "print(f\"save to {save_dir}\")"
   ]
  },
  {
   "cell_type": "code",
   "execution_count": 4,
   "id": "f6a65666",
   "metadata": {},
   "outputs": [],
   "source": [
    "from pathlib import Path"
   ]
  },
  {
   "cell_type": "markdown",
   "id": "5519cb9d",
   "metadata": {},
   "source": [
    "## Load and preprocess dataset\n",
    "\n",
    "####  ✅ Note\n",
    "Perturbation datasets can be found in this path: `/scratch/ssd004/scratch/chloexq/perturb_analysis/{dataset_name}` "
   ]
  },
  {
   "cell_type": "code",
   "execution_count": 5,
   "id": "8699653f",
   "metadata": {},
   "outputs": [],
   "source": [
    "# Perturbation datasets can be found in this path\n",
    "data_dir = Path(\"/scratch/ssd004/scratch/chloexq/perturb_analysis\")\n",
    "adata = sc.read(data_dir / \"adamson/perturb_processed.h5ad\")\n",
    "ori_batch_col = \"control\"\n",
    "adata.obs[\"celltype\"] = adata.obs[\"condition\"].astype(\"category\")\n",
    "adata.obs[\"str_batch\"] = adata.obs[\"control\"].astype(str)\n",
    "data_is_raw = False"
   ]
  },
  {
   "cell_type": "code",
   "execution_count": 6,
   "id": "73e74c83",
   "metadata": {},
   "outputs": [
    {
     "name": "stdout",
     "output_type": "stream",
     "text": [
      "match 4399/5060 genes in vocabulary of size 60697.\n",
      "Resume model from /scratch/ssd004/scratch/chloexq/scGPT_models/scGPT_human_model/best_model.pt, the model args will be overriden by the config /scratch/ssd004/scratch/chloexq/scGPT_models/scGPT_human_model/args.json.\n"
     ]
    }
   ],
   "source": [
    "if config.load_model is not None:\n",
    "    model_dir = Path(config.load_model)\n",
    "    model_config_file = model_dir / \"args.json\"\n",
    "    model_file = model_dir / config.model_name\n",
    "    vocab_file = model_dir / \"vocab.json\"\n",
    "\n",
    "    vocab = GeneVocab.from_file(vocab_file)\n",
    "    for s in special_tokens:\n",
    "        if s not in vocab:\n",
    "            vocab.append_token(s)\n",
    "\n",
    "    adata.var[\"id_in_vocab\"] = [\n",
    "        1 if gene in vocab else -1 for gene in adata.var[\"gene_name\"]\n",
    "    ]\n",
    "    gene_ids_in_vocab = np.array(adata.var[\"id_in_vocab\"])\n",
    "    print(\n",
    "        f\"match {np.sum(gene_ids_in_vocab >= 0)}/{len(gene_ids_in_vocab)} genes \"\n",
    "        f\"in vocabulary of size {len(vocab)}.\"\n",
    "    )\n",
    "    adata = adata[:, adata.var[\"id_in_vocab\"] >= 0]\n",
    "    \n",
    "    # model\n",
    "    with open(model_config_file, \"r\") as f:\n",
    "        model_configs = json.load(f)\n",
    "    print(\n",
    "        f\"Resume model from {model_file}, the model args will be overriden by the \"\n",
    "        f\"config {model_config_file}.\"\n",
    "    )\n",
    "    embsize = model_configs[\"embsize\"]\n",
    "    nhead = model_configs[\"nheads\"]\n",
    "    d_hid = model_configs[\"d_hid\"]\n",
    "    nlayers = model_configs[\"nlayers\"]\n",
    "    n_layers_cls = model_configs[\"n_layers_cls\"]\n",
    "else:\n",
    "    embsize = config.layer_size \n",
    "    nhead = config.nhead\n",
    "    nlayers = config.nlayers  \n",
    "    d_hid = config.layer_size"
   ]
  },
  {
   "cell_type": "code",
   "execution_count": 7,
   "id": "8e69a49d",
   "metadata": {},
   "outputs": [],
   "source": [
    "# Align perturbation condition naming\n",
    "gene_names_set = [i + '+ctrl' for i in adata.var.gene_name.values]\n",
    "gene_names_set = gene_names_set + ['ctrl']"
   ]
  },
  {
   "cell_type": "markdown",
   "id": "2a71cdc1",
   "metadata": {},
   "source": [
    "####  ✅ Note\n",
    "This experiment is computationally expensive, so we select 1000 cells per perturbation condition."
   ]
  },
  {
   "cell_type": "code",
   "execution_count": 8,
   "id": "1185ae66",
   "metadata": {
    "scrolled": true
   },
   "outputs": [
    {
     "data": {
      "text/html": [
       "<div>\n",
       "<style scoped>\n",
       "    .dataframe tbody tr th:only-of-type {\n",
       "        vertical-align: middle;\n",
       "    }\n",
       "\n",
       "    .dataframe tbody tr th {\n",
       "        vertical-align: top;\n",
       "    }\n",
       "\n",
       "    .dataframe thead th {\n",
       "        text-align: right;\n",
       "    }\n",
       "</style>\n",
       "<table border=\"1\" class=\"dataframe\">\n",
       "  <thead>\n",
       "    <tr style=\"text-align: right;\">\n",
       "      <th></th>\n",
       "      <th>cell_type</th>\n",
       "      <th>dose_val</th>\n",
       "      <th>control</th>\n",
       "      <th>condition_name</th>\n",
       "      <th>celltype</th>\n",
       "      <th>str_batch</th>\n",
       "    </tr>\n",
       "    <tr>\n",
       "      <th>condition</th>\n",
       "      <th></th>\n",
       "      <th></th>\n",
       "      <th></th>\n",
       "      <th></th>\n",
       "      <th></th>\n",
       "      <th></th>\n",
       "    </tr>\n",
       "  </thead>\n",
       "  <tbody>\n",
       "    <tr>\n",
       "      <th>AMIGO3+ctrl</th>\n",
       "      <td>616</td>\n",
       "      <td>616</td>\n",
       "      <td>616</td>\n",
       "      <td>616</td>\n",
       "      <td>616</td>\n",
       "      <td>616</td>\n",
       "    </tr>\n",
       "    <tr>\n",
       "      <th>ARHGAP22+ctrl</th>\n",
       "      <td>406</td>\n",
       "      <td>406</td>\n",
       "      <td>406</td>\n",
       "      <td>406</td>\n",
       "      <td>406</td>\n",
       "      <td>406</td>\n",
       "    </tr>\n",
       "    <tr>\n",
       "      <th>ASCC3+ctrl</th>\n",
       "      <td>524</td>\n",
       "      <td>524</td>\n",
       "      <td>524</td>\n",
       "      <td>524</td>\n",
       "      <td>524</td>\n",
       "      <td>524</td>\n",
       "    </tr>\n",
       "    <tr>\n",
       "      <th>BHLHE40+ctrl</th>\n",
       "      <td>504</td>\n",
       "      <td>504</td>\n",
       "      <td>504</td>\n",
       "      <td>504</td>\n",
       "      <td>504</td>\n",
       "      <td>504</td>\n",
       "    </tr>\n",
       "    <tr>\n",
       "      <th>CAD+ctrl</th>\n",
       "      <td>242</td>\n",
       "      <td>242</td>\n",
       "      <td>242</td>\n",
       "      <td>242</td>\n",
       "      <td>242</td>\n",
       "      <td>242</td>\n",
       "    </tr>\n",
       "    <tr>\n",
       "      <th>...</th>\n",
       "      <td>...</td>\n",
       "      <td>...</td>\n",
       "      <td>...</td>\n",
       "      <td>...</td>\n",
       "      <td>...</td>\n",
       "      <td>...</td>\n",
       "    </tr>\n",
       "    <tr>\n",
       "      <th>UFM1+ctrl</th>\n",
       "      <td>591</td>\n",
       "      <td>591</td>\n",
       "      <td>591</td>\n",
       "      <td>591</td>\n",
       "      <td>591</td>\n",
       "      <td>591</td>\n",
       "    </tr>\n",
       "    <tr>\n",
       "      <th>XRN1+ctrl</th>\n",
       "      <td>621</td>\n",
       "      <td>621</td>\n",
       "      <td>621</td>\n",
       "      <td>621</td>\n",
       "      <td>621</td>\n",
       "      <td>621</td>\n",
       "    </tr>\n",
       "    <tr>\n",
       "      <th>YIPF5+ctrl</th>\n",
       "      <td>1000</td>\n",
       "      <td>1000</td>\n",
       "      <td>1000</td>\n",
       "      <td>1000</td>\n",
       "      <td>1000</td>\n",
       "      <td>1000</td>\n",
       "    </tr>\n",
       "    <tr>\n",
       "      <th>ZNF326+ctrl</th>\n",
       "      <td>517</td>\n",
       "      <td>517</td>\n",
       "      <td>517</td>\n",
       "      <td>517</td>\n",
       "      <td>517</td>\n",
       "      <td>517</td>\n",
       "    </tr>\n",
       "    <tr>\n",
       "      <th>ctrl</th>\n",
       "      <td>1000</td>\n",
       "      <td>1000</td>\n",
       "      <td>1000</td>\n",
       "      <td>1000</td>\n",
       "      <td>1000</td>\n",
       "      <td>1000</td>\n",
       "    </tr>\n",
       "  </tbody>\n",
       "</table>\n",
       "<p>76 rows × 6 columns</p>\n",
       "</div>"
      ],
      "text/plain": [
       "               cell_type  dose_val  control  condition_name  celltype  \\\n",
       "condition                                                               \n",
       "AMIGO3+ctrl          616       616      616             616       616   \n",
       "ARHGAP22+ctrl        406       406      406             406       406   \n",
       "ASCC3+ctrl           524       524      524             524       524   \n",
       "BHLHE40+ctrl         504       504      504             504       504   \n",
       "CAD+ctrl             242       242      242             242       242   \n",
       "...                  ...       ...      ...             ...       ...   \n",
       "UFM1+ctrl            591       591      591             591       591   \n",
       "XRN1+ctrl            621       621      621             621       621   \n",
       "YIPF5+ctrl          1000      1000     1000            1000      1000   \n",
       "ZNF326+ctrl          517       517      517             517       517   \n",
       "ctrl                1000      1000     1000            1000      1000   \n",
       "\n",
       "               str_batch  \n",
       "condition                 \n",
       "AMIGO3+ctrl          616  \n",
       "ARHGAP22+ctrl        406  \n",
       "ASCC3+ctrl           524  \n",
       "BHLHE40+ctrl         504  \n",
       "CAD+ctrl             242  \n",
       "...                  ...  \n",
       "UFM1+ctrl            591  \n",
       "XRN1+ctrl            621  \n",
       "YIPF5+ctrl          1000  \n",
       "ZNF326+ctrl          517  \n",
       "ctrl                1000  \n",
       "\n",
       "[76 rows x 6 columns]"
      ]
     },
     "execution_count": 8,
     "metadata": {},
     "output_type": "execute_result"
    }
   ],
   "source": [
    "# Cap all conditions to 1000 cells\n",
    "sampled_df = (\n",
    "    adata.obs[adata.obs['condition'].isin(gene_names_set)]\n",
    "    .groupby('condition', group_keys=False)\n",
    "    .apply(lambda x: x.sample(min(len(x), 1000), random_state=42))\n",
    ")\n",
    "adata = adata[sampled_df.index].copy()\n",
    "adata.obs.groupby('condition').count()"
   ]
  },
  {
   "cell_type": "code",
   "execution_count": 9,
   "id": "7f2e8155",
   "metadata": {},
   "outputs": [
    {
     "data": {
      "text/html": [
       "<div>\n",
       "<style scoped>\n",
       "    .dataframe tbody tr th:only-of-type {\n",
       "        vertical-align: middle;\n",
       "    }\n",
       "\n",
       "    .dataframe tbody tr th {\n",
       "        vertical-align: top;\n",
       "    }\n",
       "\n",
       "    .dataframe thead th {\n",
       "        text-align: right;\n",
       "    }\n",
       "</style>\n",
       "<table border=\"1\" class=\"dataframe\">\n",
       "  <thead>\n",
       "    <tr style=\"text-align: right;\">\n",
       "      <th></th>\n",
       "      <th>cell_type</th>\n",
       "      <th>dose_val</th>\n",
       "      <th>control</th>\n",
       "      <th>condition_name</th>\n",
       "      <th>celltype</th>\n",
       "      <th>str_batch</th>\n",
       "    </tr>\n",
       "    <tr>\n",
       "      <th>condition</th>\n",
       "      <th></th>\n",
       "      <th></th>\n",
       "      <th></th>\n",
       "      <th></th>\n",
       "      <th></th>\n",
       "      <th></th>\n",
       "    </tr>\n",
       "  </thead>\n",
       "  <tbody>\n",
       "    <tr>\n",
       "      <th>HSPA5+ctrl</th>\n",
       "      <td>1000.0</td>\n",
       "      <td>1000.0</td>\n",
       "      <td>1000.0</td>\n",
       "      <td>1000.0</td>\n",
       "      <td>1000.0</td>\n",
       "      <td>1000.0</td>\n",
       "    </tr>\n",
       "    <tr>\n",
       "      <th>IER3IP1+ctrl</th>\n",
       "      <td>1000.0</td>\n",
       "      <td>1000.0</td>\n",
       "      <td>1000.0</td>\n",
       "      <td>1000.0</td>\n",
       "      <td>1000.0</td>\n",
       "      <td>1000.0</td>\n",
       "    </tr>\n",
       "    <tr>\n",
       "      <th>SCYL1+ctrl</th>\n",
       "      <td>1000.0</td>\n",
       "      <td>1000.0</td>\n",
       "      <td>1000.0</td>\n",
       "      <td>1000.0</td>\n",
       "      <td>1000.0</td>\n",
       "      <td>1000.0</td>\n",
       "    </tr>\n",
       "    <tr>\n",
       "      <th>YIPF5+ctrl</th>\n",
       "      <td>1000.0</td>\n",
       "      <td>1000.0</td>\n",
       "      <td>1000.0</td>\n",
       "      <td>1000.0</td>\n",
       "      <td>1000.0</td>\n",
       "      <td>1000.0</td>\n",
       "    </tr>\n",
       "    <tr>\n",
       "      <th>ctrl</th>\n",
       "      <td>1000.0</td>\n",
       "      <td>1000.0</td>\n",
       "      <td>1000.0</td>\n",
       "      <td>1000.0</td>\n",
       "      <td>1000.0</td>\n",
       "      <td>1000.0</td>\n",
       "    </tr>\n",
       "  </tbody>\n",
       "</table>\n",
       "</div>"
      ],
      "text/plain": [
       "              cell_type  dose_val  control  condition_name  celltype  \\\n",
       "condition                                                              \n",
       "HSPA5+ctrl       1000.0    1000.0   1000.0          1000.0    1000.0   \n",
       "IER3IP1+ctrl     1000.0    1000.0   1000.0          1000.0    1000.0   \n",
       "SCYL1+ctrl       1000.0    1000.0   1000.0          1000.0    1000.0   \n",
       "YIPF5+ctrl       1000.0    1000.0   1000.0          1000.0    1000.0   \n",
       "ctrl             1000.0    1000.0   1000.0          1000.0    1000.0   \n",
       "\n",
       "              str_batch  \n",
       "condition                \n",
       "HSPA5+ctrl       1000.0  \n",
       "IER3IP1+ctrl     1000.0  \n",
       "SCYL1+ctrl       1000.0  \n",
       "YIPF5+ctrl       1000.0  \n",
       "ctrl             1000.0  "
      ]
     },
     "execution_count": 9,
     "metadata": {},
     "output_type": "execute_result"
    }
   ],
   "source": [
    "# 5 conditions are capped, including ctrl\n",
    "condition_counts = adata.obs.groupby('condition').count()\n",
    "condition_counts[condition_counts == 1000].dropna()"
   ]
  },
  {
   "cell_type": "code",
   "execution_count": 10,
   "id": "926217f6",
   "metadata": {},
   "outputs": [],
   "source": [
    "condition_names = set(adata.obs.condition.tolist())"
   ]
  },
  {
   "cell_type": "code",
   "execution_count": 11,
   "id": "20cf69bb",
   "metadata": {},
   "outputs": [],
   "source": [
    "condition_names.remove('ctrl')"
   ]
  },
  {
   "cell_type": "code",
   "execution_count": 12,
   "id": "b9982e8d",
   "metadata": {},
   "outputs": [],
   "source": [
    "condition_names_gene = [i.split('+')[0] for i in list(condition_names)]"
   ]
  },
  {
   "cell_type": "code",
   "execution_count": 13,
   "id": "d2272c3f",
   "metadata": {},
   "outputs": [],
   "source": [
    "condition_names_gene.sort()"
   ]
  },
  {
   "cell_type": "markdown",
   "id": "3514c230",
   "metadata": {},
   "source": [
    "####  ✅ Note\n",
    "HVGs selection will filter out some perturbed genes. We manually add them back in the experiment."
   ]
  },
  {
   "cell_type": "code",
   "execution_count": 14,
   "id": "2c33ad80",
   "metadata": {},
   "outputs": [
    {
     "name": "stdout",
     "output_type": "stream",
     "text": [
      "scGPT - INFO - Filtering genes by counts ...\n"
     ]
    }
   ],
   "source": [
    "# Do filtering\n",
    "preprocessor = Preprocessor(\n",
    "    use_key=\"X\",  # the key in adata.layers to use as raw data\n",
    "    filter_gene_by_counts=3,  # step 1\n",
    "    filter_cell_by_counts=None,  # step 2\n",
    "    normalize_total=None,  # 3. whether to normalize the raw data and to what sum\n",
    "    result_normed_key=\"X_normed\",  # the key in adata.layers to store the normalized data\n",
    "    log1p=False,  # 4. whether to log1p the normalized data\n",
    "    result_log1p_key=\"X_log1p\",\n",
    "    subset_hvg=None,  # 5. whether to subset the raw data to highly variable genes\n",
    "    hvg_flavor=\"seurat_v3\" if data_is_raw else \"cell_ranger\",\n",
    "    #binning=config.n_bins,  # 6. whether to bin the raw data and to what number of bins\n",
    "    #result_binned_key=\"X_binned\",  # the key in adata.layers to store the binned data\n",
    ")\n",
    "preprocessor(adata, batch_key=None)"
   ]
  },
  {
   "cell_type": "code",
   "execution_count": 15,
   "id": "e45f8001",
   "metadata": {},
   "outputs": [],
   "source": [
    "sc.pp.highly_variable_genes(\n",
    "    adata,\n",
    "    layer=None,\n",
    "    n_top_genes=1200,\n",
    "    flavor=\"seurat_v3\" if data_is_raw else \"cell_ranger\",\n",
    "    subset=False,\n",
    ")"
   ]
  },
  {
   "cell_type": "code",
   "execution_count": 16,
   "id": "ba8063a0",
   "metadata": {},
   "outputs": [],
   "source": [
    "add_counter = 0\n",
    "for g in condition_names_gene:\n",
    "    if not adata.var.loc[adata.var[adata.var.gene_name==g].index, 'highly_variable'].values[0]:\n",
    "        adata.var.loc[adata.var[adata.var.gene_name==g].index, 'highly_variable'] = True\n",
    "        add_counter += 1"
   ]
  },
  {
   "cell_type": "code",
   "execution_count": 17,
   "id": "8289f29f",
   "metadata": {},
   "outputs": [
    {
     "name": "stdout",
     "output_type": "stream",
     "text": [
      "Manually add conditions: 67, 0.8933333333333333\n"
     ]
    }
   ],
   "source": [
    "print('Manually add conditions: {}, {}'.format(add_counter, add_counter/len(condition_names_gene)))"
   ]
  },
  {
   "cell_type": "code",
   "execution_count": 18,
   "id": "3395eff1",
   "metadata": {},
   "outputs": [
    {
     "name": "stdout",
     "output_type": "stream",
     "text": [
      "scGPT - INFO - Binning data ...\n"
     ]
    }
   ],
   "source": [
    "preprocessor = Preprocessor(\n",
    "    use_key=\"X\",  # the key in adata.layers to use as raw data\n",
    "    filter_gene_by_counts=0,  # step 1\n",
    "    filter_cell_by_counts=None,  # step 2\n",
    "    normalize_total=None,  # 3. whether to normalize the raw data and to what sum\n",
    "    result_normed_key=\"X_normed\",  # the key in adata.layers to store the normalized data\n",
    "    log1p=False,  # 4. whether to log1p the normalized data\n",
    "    result_log1p_key=\"X_log1p\",\n",
    "    subset_hvg=None,  # 5. whether to subset the raw data to highly variable genes\n",
    "    hvg_flavor=\"seurat_v3\" if data_is_raw else \"cell_ranger\",\n",
    "    binning=config.n_bins,  # 6. whether to bin the raw data and to what number of bins\n",
    "    result_binned_key=\"X_binned\",  # the key in adata.layers to store the binned data\n",
    ")\n",
    "preprocessor(adata, batch_key=None)"
   ]
  },
  {
   "cell_type": "code",
   "execution_count": 19,
   "id": "3e32705a",
   "metadata": {},
   "outputs": [
    {
     "name": "stdout",
     "output_type": "stream",
     "text": [
      "AnnData object with n_obs × n_vars = 39847 × 1267\n",
      "    obs: 'condition', 'cell_type', 'dose_val', 'control', 'condition_name', 'celltype', 'str_batch'\n",
      "    var: 'gene_name', 'id_in_vocab', 'n_counts', 'highly_variable', 'means', 'dispersions', 'dispersions_norm'\n",
      "    uns: 'non_dropout_gene_idx', 'non_zeros_gene_idx', 'rank_genes_groups_cov_all', 'top_non_dropout_de_20', 'top_non_zero_de_20', 'hvg'\n",
      "    obsm: 'bin_edges'\n",
      "    layers: 'X_binned'\n"
     ]
    }
   ],
   "source": [
    "adata = adata[:, adata.var[\"highly_variable\"]].copy()\n",
    "print(adata)"
   ]
  },
  {
   "cell_type": "markdown",
   "id": "b73d3c22",
   "metadata": {},
   "source": [
    "#### 🔵 Optional\n",
    "Create another randomly shuffled list of `condition_names_gene_match` as control, if running the control experiment. \n",
    "Note that there are many ways to construct the control list, either from perturbation targets or random from all genes."
   ]
  },
  {
   "cell_type": "code",
   "execution_count": 20,
   "id": "d2c9c6bf",
   "metadata": {},
   "outputs": [
    {
     "data": {
      "text/plain": [
       "(['AMIGO3',\n",
       "  'ARHGAP22',\n",
       "  'ASCC3',\n",
       "  'BHLHE40',\n",
       "  'CAD',\n",
       "  'CCND3',\n",
       "  'CHERP',\n",
       "  'COPB1',\n",
       "  'COPZ1',\n",
       "  'CREB1',\n",
       "  'DAD1',\n",
       "  'DDIT3',\n",
       "  'DDOST',\n",
       "  'DDRGK1',\n",
       "  'DERL2',\n",
       "  'DHDDS',\n",
       "  'DNAJC19',\n",
       "  'EIF2B2',\n",
       "  'EIF2B3',\n",
       "  'EIF2B4',\n",
       "  'EIF2S1',\n",
       "  'FARSB',\n",
       "  'FECH',\n",
       "  'GBF1',\n",
       "  'GMPPB',\n",
       "  'GNPNAT1',\n",
       "  'HSD17B12',\n",
       "  'HSPA5',\n",
       "  'HSPA9',\n",
       "  'HYOU1',\n",
       "  'IARS2',\n",
       "  'IDH3A',\n",
       "  'IER3IP1',\n",
       "  'KCTD16',\n",
       "  'MANF',\n",
       "  'MRGBP',\n",
       "  'MRPL39',\n",
       "  'MTHFD1',\n",
       "  'NEDD8',\n",
       "  'OST4',\n",
       "  'P4HB',\n",
       "  'PDIA6',\n",
       "  'PPWD1',\n",
       "  'PSMD4',\n",
       "  'PTDSS1',\n",
       "  'SAMM50',\n",
       "  'SCYL1',\n",
       "  'SEC61A1',\n",
       "  'SEC61B',\n",
       "  'SEC61G',\n",
       "  'SEC63',\n",
       "  'SEL1L',\n",
       "  'SLC35B1',\n",
       "  'SLC39A7',\n",
       "  'SOCS1',\n",
       "  'SPCS2',\n",
       "  'SPCS3',\n",
       "  'SRP68',\n",
       "  'SRP72',\n",
       "  'SRPRB',\n",
       "  'STT3A',\n",
       "  'SYVN1',\n",
       "  'TELO2',\n",
       "  'TIMM23',\n",
       "  'TIMM44',\n",
       "  'TMED10',\n",
       "  'TMED2',\n",
       "  'TMEM167A',\n",
       "  'TTI1',\n",
       "  'TTI2',\n",
       "  'UFL1',\n",
       "  'UFM1',\n",
       "  'XRN1',\n",
       "  'YIPF5',\n",
       "  'ZNF326'],\n",
       " ['SCYL1',\n",
       "  'EIF2B3',\n",
       "  'MRPL39',\n",
       "  'COPZ1',\n",
       "  'COPB1',\n",
       "  'SRPRB',\n",
       "  'UFM1',\n",
       "  'STT3A',\n",
       "  'PSMD4',\n",
       "  'OST4',\n",
       "  'DHDDS',\n",
       "  'TMED10',\n",
       "  'SRP68',\n",
       "  'IARS2',\n",
       "  'SPCS2',\n",
       "  'HYOU1',\n",
       "  'SEC61G',\n",
       "  'SLC35B1',\n",
       "  'TIMM23',\n",
       "  'EIF2B4',\n",
       "  'EIF2S1',\n",
       "  'P4HB',\n",
       "  'SEL1L',\n",
       "  'ASCC3',\n",
       "  'SPCS3',\n",
       "  'TIMM44',\n",
       "  'TMED2',\n",
       "  'SEC63',\n",
       "  'GBF1',\n",
       "  'SRP72',\n",
       "  'GNPNAT1',\n",
       "  'DNAJC19',\n",
       "  'KCTD16',\n",
       "  'FECH',\n",
       "  'SEC61B',\n",
       "  'GMPPB',\n",
       "  'CCND3',\n",
       "  'CHERP',\n",
       "  'PPWD1',\n",
       "  'TELO2',\n",
       "  'CREB1',\n",
       "  'SEC61A1',\n",
       "  'FARSB',\n",
       "  'HSPA5',\n",
       "  'SLC39A7',\n",
       "  'DAD1',\n",
       "  'AMIGO3',\n",
       "  'TTI2',\n",
       "  'MTHFD1',\n",
       "  'UFL1',\n",
       "  'SYVN1',\n",
       "  'HSD17B12',\n",
       "  'MANF',\n",
       "  'PTDSS1',\n",
       "  'PDIA6',\n",
       "  'SAMM50',\n",
       "  'DDOST',\n",
       "  'XRN1',\n",
       "  'ARHGAP22',\n",
       "  'NEDD8',\n",
       "  'IER3IP1',\n",
       "  'ZNF326',\n",
       "  'TTI1',\n",
       "  'TMEM167A',\n",
       "  'YIPF5',\n",
       "  'CAD',\n",
       "  'SOCS1',\n",
       "  'DDIT3',\n",
       "  'DDRGK1',\n",
       "  'EIF2B2',\n",
       "  'HSPA9',\n",
       "  'IDH3A',\n",
       "  'MRGBP',\n",
       "  'BHLHE40',\n",
       "  'DERL2'])"
      ]
     },
     "execution_count": 20,
     "metadata": {},
     "output_type": "execute_result"
    }
   ],
   "source": [
    "# Here is an example of randomly shuffle perturbation targets\n",
    "import random\n",
    "random.seed(42)\n",
    "condition_names_gene_match = condition_names_gene.copy()\n",
    "random.shuffle(condition_names_gene_match)\n",
    "condition_names_gene, condition_names_gene_match"
   ]
  },
  {
   "cell_type": "code",
   "execution_count": 22,
   "id": "245d782c",
   "metadata": {},
   "outputs": [],
   "source": [
    "# Here is an example of using non-targets\n",
    "# This is the most recent version\n",
    "genes = adata.var[\"gene_name\"].tolist()\n",
    "non_targets = list(set(genes).difference(set(condition_names_gene)))\n",
    "non_targets.sort()\n",
    "random.seed(42)\n",
    "random.shuffle(non_targets)\n",
    "non_targets\n",
    "condition_names_gene_match = non_targets[:len(condition_names_gene)]"
   ]
  },
  {
   "cell_type": "markdown",
   "id": "dd2246e0",
   "metadata": {},
   "source": [
    "## Prepare model input"
   ]
  },
  {
   "cell_type": "code",
   "execution_count": 23,
   "id": "e3ebbb68",
   "metadata": {},
   "outputs": [
    {
     "data": {
      "text/plain": [
       "1268"
      ]
     },
     "execution_count": 23,
     "metadata": {},
     "output_type": "execute_result"
    }
   ],
   "source": [
    "max_len = adata.shape[1] + 1\n",
    "max_len"
   ]
  },
  {
   "cell_type": "code",
   "execution_count": 24,
   "id": "f3663c07",
   "metadata": {},
   "outputs": [],
   "source": [
    "if config.load_model is None:\n",
    "    vocab = Vocab(\n",
    "        VocabPybind(genes + special_tokens, None)\n",
    "    )  # bidirectional lookup [gene <-> int]\n",
    "vocab.set_default_index(vocab[\"<pad>\"])\n",
    "genes = adata.var[\"gene_name\"].tolist()\n",
    "gene_ids = np.array(vocab(genes), dtype=int)\n",
    "adata.obs['batch_id'] = adata.obs['condition'].copy()\n",
    "batch_ids = adata.obs[\"batch_id\"].tolist()\n",
    "num_batch_types = len(set(batch_ids))\n",
    "input_layer_key = \"X_binned\""
   ]
  },
  {
   "cell_type": "code",
   "execution_count": 25,
   "id": "7e4a5693",
   "metadata": {},
   "outputs": [],
   "source": [
    "def prepare_data(sort_seq_batch=False) -> Tuple[Dict[str, torch.Tensor]]:\n",
    "    masked_values_train = random_mask_value(\n",
    "        tokenized_train[\"values\"],\n",
    "        mask_ratio=mask_ratio,\n",
    "        mask_value=mask_value,\n",
    "        pad_value=pad_value,\n",
    "    )\n",
    "    masked_values_valid = random_mask_value(\n",
    "        tokenized_valid[\"values\"],\n",
    "        mask_ratio=mask_ratio,\n",
    "        mask_value=mask_value,\n",
    "        pad_value=pad_value,\n",
    "    )\n",
    "    print(\n",
    "        f\"random masking at epoch {epoch:3d}, ratio of masked values in train: \",\n",
    "        f\"{(masked_values_train == mask_value).sum() / (masked_values_train - pad_value).count_nonzero():.4f}\",\n",
    "    )\n",
    "\n",
    "    input_gene_ids_train, input_gene_ids_valid = (\n",
    "        tokenized_train[\"genes\"],\n",
    "        tokenized_valid[\"genes\"],\n",
    "    )\n",
    "    input_values_train, input_values_valid = masked_values_train, masked_values_valid\n",
    "    target_values_train, target_values_valid = (\n",
    "        tokenized_train[\"values\"],\n",
    "        tokenized_valid[\"values\"],\n",
    "    )\n",
    "\n",
    "    tensor_batch_labels_train = torch.from_numpy(train_batch_labels).long()\n",
    "    tensor_batch_labels_valid = torch.from_numpy(valid_batch_labels).long()\n",
    "\n",
    "    if sort_seq_batch:\n",
    "        train_sort_ids = np.argsort(train_batch_labels)\n",
    "        input_gene_ids_train = input_gene_ids_train[train_sort_ids]\n",
    "        input_values_train = input_values_train[train_sort_ids]\n",
    "        target_values_train = target_values_train[train_sort_ids]\n",
    "        tensor_batch_labels_train = tensor_batch_labels_train[train_sort_ids]\n",
    "\n",
    "        valid_sort_ids = np.argsort(valid_batch_labels)\n",
    "        input_gene_ids_valid = input_gene_ids_valid[valid_sort_ids]\n",
    "        input_values_valid = input_values_valid[valid_sort_ids]\n",
    "        target_values_valid = target_values_valid[valid_sort_ids]\n",
    "        tensor_batch_labels_valid = tensor_batch_labels_valid[valid_sort_ids]\n",
    "\n",
    "    train_data_pt = {\n",
    "        \"gene_ids\": input_gene_ids_train,\n",
    "        \"values\": input_values_train,\n",
    "        \"target_values\": target_values_train,\n",
    "        \"batch_labels\": tensor_batch_labels_train,\n",
    "    }\n",
    "    valid_data_pt = {\n",
    "        \"gene_ids\": input_gene_ids_valid,\n",
    "        \"values\": input_values_valid,\n",
    "        \"target_values\": target_values_valid,\n",
    "        \"batch_labels\": tensor_batch_labels_valid,\n",
    "    }\n",
    "\n",
    "    return train_data_pt, valid_data_pt\n",
    "\n",
    "\n",
    "# dataset\n",
    "class SeqDataset(Dataset):\n",
    "    def __init__(self, data: Dict[str, torch.Tensor]):\n",
    "        self.data = data\n",
    "\n",
    "    def __len__(self):\n",
    "        return self.data[\"gene_ids\"].shape[0]\n",
    "\n",
    "    def __getitem__(self, idx):\n",
    "        return {k: v[idx] for k, v in self.data.items()}\n",
    "\n",
    "\n",
    "# data_loader\n",
    "def prepare_dataloader(\n",
    "    data_pt: Dict[str, torch.Tensor],\n",
    "    batch_size: int,\n",
    "    shuffle: bool = False,\n",
    "    intra_domain_shuffle: bool = False,\n",
    "    drop_last: bool = False,\n",
    "    num_workers: int = 0,\n",
    ") -> DataLoader:\n",
    "    dataset = SeqDataset(data_pt)\n",
    "\n",
    "    if per_seq_batch_sample:\n",
    "        # find the indices of samples in each seq batch\n",
    "        subsets = []\n",
    "        batch_labels_array = data_pt[\"batch_labels\"].numpy()\n",
    "        for batch_label in np.unique(batch_labels_array):\n",
    "            batch_indices = np.where(batch_labels_array == batch_label)[0].tolist()\n",
    "            subsets.append(batch_indices)\n",
    "        data_loader = DataLoader(\n",
    "            dataset=dataset,\n",
    "            batch_sampler=SubsetsBatchSampler(\n",
    "                subsets,\n",
    "                batch_size,\n",
    "                intra_subset_shuffle=intra_domain_shuffle,\n",
    "                inter_subset_shuffle=shuffle,\n",
    "                drop_last=drop_last,\n",
    "            ),\n",
    "            num_workers=num_workers,\n",
    "            pin_memory=True,\n",
    "        )\n",
    "        return data_loader\n",
    "\n",
    "    data_loader = DataLoader(\n",
    "        dataset=dataset,\n",
    "        batch_size=batch_size,\n",
    "        shuffle=shuffle,\n",
    "        drop_last=drop_last,\n",
    "        num_workers=num_workers,\n",
    "        pin_memory=True,\n",
    "    )\n",
    "    return data_loader"
   ]
  },
  {
   "cell_type": "markdown",
   "id": "b5753701",
   "metadata": {},
   "source": [
    "## Load the pre-trained scGPT model"
   ]
  },
  {
   "cell_type": "code",
   "execution_count": 26,
   "id": "e346fb67",
   "metadata": {},
   "outputs": [
    {
     "name": "stdout",
     "output_type": "stream",
     "text": [
      "Use domain specific batchnorm with affine=False\n"
     ]
    },
    {
     "data": {
      "text/plain": [
       "[]"
      ]
     },
     "execution_count": 26,
     "metadata": {},
     "output_type": "execute_result"
    }
   ],
   "source": [
    "device = torch.device(\"cuda\" if torch.cuda.is_available() else \"cpu\")\n",
    "\n",
    "ntokens = len(vocab)  # size of vocabulary\n",
    "model = TransformerModel(\n",
    "    ntokens,\n",
    "    embsize,\n",
    "    nhead,\n",
    "    d_hid,\n",
    "    nlayers,\n",
    "    vocab=vocab,\n",
    "    dropout=config.dropout,\n",
    "    pad_token=pad_token,\n",
    "    pad_value=pad_value,\n",
    "    do_mvc=config.GEPC,\n",
    "    do_dab=True,\n",
    "    use_batch_labels=True,\n",
    "    num_batch_labels=num_batch_types,\n",
    "    domain_spec_batchnorm=DSBN,\n",
    "    n_input_bins=n_input_bins,\n",
    "    ecs_threshold=config.ecs_thres,\n",
    "    explicit_zero_prob=explicit_zero_prob,\n",
    "    use_fast_transformer=config.fast_transformer,\n",
    "    pre_norm=config.pre_norm,\n",
    ")\n",
    "if config.load_model is not None:\n",
    "    load_pretrained(model, torch.load(model_file), verbose=False)\n",
    "\n",
    "model.to(device)\n",
    "wandb.watch(model)"
   ]
  },
  {
   "cell_type": "code",
   "execution_count": 27,
   "id": "6dd1c8c9",
   "metadata": {},
   "outputs": [],
   "source": [
    "model.eval()\n",
    "adata_t = adata.copy()"
   ]
  },
  {
   "cell_type": "code",
   "execution_count": 28,
   "id": "3ca655eb",
   "metadata": {},
   "outputs": [],
   "source": [
    "all_counts = (\n",
    "    adata_t.layers[input_layer_key].A\n",
    "    if issparse(adata_t.layers[input_layer_key])\n",
    "    else adata_t.layers[input_layer_key]\n",
    ")\n",
    "celltypes_labels = adata_t.obs[\"celltype\"].tolist()\n",
    "celltypes_labels = np.array(celltypes_labels)\n",
    "\n",
    "batch_ids = adata_t.obs[\"batch_id\"].tolist()\n",
    "batch_ids = np.array(batch_ids)\n",
    "\n",
    "tokenized_all = tokenize_and_pad_batch(\n",
    "    all_counts,\n",
    "    gene_ids,\n",
    "    max_len=max_len,\n",
    "    vocab=vocab,\n",
    "    pad_token=pad_token,\n",
    "    pad_value=pad_value,\n",
    "    append_cls=True,  # append <cls> token at the beginning\n",
    "    include_zero_gene=True,\n",
    ")\n",
    "all_gene_ids, all_values = tokenized_all[\"genes\"], tokenized_all[\"values\"]\n",
    "src_key_padding_mask = all_gene_ids.eq(vocab[pad_token])"
   ]
  },
  {
   "cell_type": "markdown",
   "id": "e0cad17f",
   "metadata": {},
   "source": [
    "##  Get attention vectors"
   ]
  },
  {
   "cell_type": "code",
   "execution_count": 29,
   "id": "b2f8d435",
   "metadata": {},
   "outputs": [],
   "source": [
    "from einops import rearrange\n",
    "from tqdm import tqdm"
   ]
  },
  {
   "cell_type": "code",
   "execution_count": 30,
   "id": "7494d3b9",
   "metadata": {},
   "outputs": [],
   "source": [
    "condition_ids = np.array(adata_t.obs[\"condition\"].tolist())"
   ]
  },
  {
   "cell_type": "code",
   "execution_count": 31,
   "id": "f7284c44",
   "metadata": {},
   "outputs": [],
   "source": [
    "torch.cuda.empty_cache()\n",
    "dict_sum_condition = {}\n",
    "num_attn_layers = 11 \n",
    "batch_size = 16"
   ]
  },
  {
   "cell_type": "code",
   "execution_count": 32,
   "id": "d1623454",
   "metadata": {},
   "outputs": [
    {
     "data": {
      "text/plain": [
       "tensor([[60695, 10954, 33817,  ..., 11394, 20695, 12288],\n",
       "        [60695, 10954, 33817,  ..., 11394, 20695, 12288],\n",
       "        [60695, 10954, 33817,  ..., 11394, 20695, 12288],\n",
       "        ...,\n",
       "        [60695, 10954, 33817,  ..., 11394, 20695, 12288],\n",
       "        [60695, 10954, 33817,  ..., 11394, 20695, 12288],\n",
       "        [60695, 10954, 33817,  ..., 11394, 20695, 12288]])"
      ]
     },
     "execution_count": 32,
     "metadata": {},
     "output_type": "execute_result"
    }
   ],
   "source": [
    "all_gene_ids"
   ]
  },
  {
   "cell_type": "code",
   "execution_count": 33,
   "id": "ac878392",
   "metadata": {},
   "outputs": [
    {
     "name": "stderr",
     "output_type": "stream",
     "text": [
      "100%|██████████| 2491/2491 [14:44<00:00,  2.82it/s]\n"
     ]
    }
   ],
   "source": [
    "model.eval()\n",
    "with torch.no_grad(), torch.cuda.amp.autocast(enabled=True):\n",
    "    M = all_gene_ids.size(1)\n",
    "    N = all_gene_ids.size(0)\n",
    "    device = next(model.parameters()).device\n",
    "    for i in tqdm(range(0, N, batch_size)):\n",
    "        batch_size = all_gene_ids[i : i + batch_size].size(0)\n",
    "        outputs = np.zeros((batch_size, M, M), dtype=np.float32)\n",
    "        # Replicate the operations in model forward pass\n",
    "        src_embs = model.encoder(torch.tensor(all_gene_ids[i : i + batch_size], dtype=torch.long).to(device))\n",
    "        val_embs = model.value_encoder(torch.tensor(all_values[i : i + batch_size], dtype=torch.float).to(device))\n",
    "        total_embs = src_embs + val_embs\n",
    "        #total_embs = model.bn(total_embs.permute(0, 2, 1)).permute(0, 2, 1)\n",
    "        # Send total_embs to attention layers for attention operations\n",
    "        # Retrieve the output from second to last layer\n",
    "        for layer in model.transformer_encoder.layers[:num_attn_layers]:\n",
    "            total_embs = layer(total_embs, src_key_padding_mask=src_key_padding_mask[i : i + batch_size].to(device))\n",
    "        # Send total_embs to the last layer in flash-attn\n",
    "        # https://github.com/HazyResearch/flash-attention/blob/1b18f1b7a133c20904c096b8b222a0916e1b3d37/flash_attn/flash_attention.py#L90\n",
    "        qkv = model.transformer_encoder.layers[num_attn_layers].self_attn.Wqkv(total_embs)\n",
    "        # Retrieve q, k, and v from flast-attn wrapper\n",
    "        qkv = rearrange(qkv, 'b s (three h d) -> b s three h d', three=3, h=8)\n",
    "        q = qkv[:, :, 0, :, :]\n",
    "        k = qkv[:, :, 1, :, :]\n",
    "        v = qkv[:, :, 2, :, :]\n",
    "        # https://towardsdatascience.com/illustrated-self-attention-2d627e33b20a\n",
    "        # q = [batch, gene, n_heads, n_hid]\n",
    "        # k = [batch, gene, n_heads, n_hid]\n",
    "        # attn_scores = [batch, n_heads, gene, gene]\n",
    "        attn_scores = q.permute(0, 2, 1, 3) @ k.permute(0, 2, 3, 1)\n",
    "        # Rank normalization by row\n",
    "        attn_scores = attn_scores.reshape((-1, M))\n",
    "        order = torch.argsort(attn_scores, dim=1)\n",
    "        rank = torch.argsort(order, dim=1)\n",
    "        attn_scores = rank.reshape((-1, 8, M, M))/M\n",
    "        # Rank normalization by column\n",
    "        attn_scores = attn_scores.permute(0, 1, 3, 2).reshape((-1, M))\n",
    "        order = torch.argsort(attn_scores, dim=1)\n",
    "        rank = torch.argsort(order, dim=1)\n",
    "        attn_scores = (rank.reshape((-1, 8, M, M))/M).permute(0, 1, 3, 2)\n",
    "        # Average 8 attention heads\n",
    "        attn_scores = attn_scores.mean(1)\n",
    "        #attn_scores = attn_scores[:, head_num, :, :].squeeze(1)\n",
    "        \n",
    "        outputs = attn_scores.detach().cpu().numpy()\n",
    "        \n",
    "        for index in range(batch_size):\n",
    "            # Keep track of sum per condition\n",
    "            c = condition_ids[i : i + batch_size][index]\n",
    "            if c not in dict_sum_condition:\n",
    "                dict_sum_condition[c] = np.zeros((M, M), dtype=np.float32)\n",
    "                #dict_sum_condition[c] = [np.expand_dims(outputs[index, :, :], 0)]\n",
    "            else:\n",
    "                #dict_sum_condition[c].append(np.expand_dims(outputs[index, :, :], 0))\n",
    "                dict_sum_condition[c] += outputs[index, :, :]"
   ]
  },
  {
   "cell_type": "markdown",
   "id": "1afe6366",
   "metadata": {},
   "source": [
    "#### ✅ Note\n",
    "Each perturbation group has one n_gene x n_gene matrix associated with it"
   ]
  },
  {
   "cell_type": "code",
   "execution_count": 34,
   "id": "6e4a8e4d",
   "metadata": {},
   "outputs": [
    {
     "data": {
      "text/plain": [
       "{'AMIGO3+ctrl': array([[0.5310546 , 0.3011772 , 0.61151224, ..., 0.66566384, 0.2138397 ,\n",
       "         0.19172029],\n",
       "        [0.60797244, 0.55480415, 0.6012709 , ..., 0.59466916, 0.48264793,\n",
       "         0.5755632 ],\n",
       "        [0.61890405, 0.54929096, 0.43206474, ..., 0.5508291 , 0.59692013,\n",
       "         0.53999317],\n",
       "        ...,\n",
       "        [0.57601035, 0.40707183, 0.46932662, ..., 0.6160896 , 0.53505355,\n",
       "         0.38854548],\n",
       "        [0.5352424 , 0.32389387, 0.4493968 , ..., 0.6112954 , 0.35057646,\n",
       "         0.49225843],\n",
       "        [0.48438302, 0.39183864, 0.5697442 , ..., 0.55788374, 0.36243856,\n",
       "         0.5271803 ]], dtype=float32),\n",
       " 'ARHGAP22+ctrl': array([[0.5289558 , 0.31310806, 0.610498  , ..., 0.65732014, 0.22263235,\n",
       "         0.20019177],\n",
       "        [0.60951245, 0.5595481 , 0.5937757 , ..., 0.5969046 , 0.480081  ,\n",
       "         0.57757056],\n",
       "        [0.6138089 , 0.54193395, 0.43774462, ..., 0.55455554, 0.5955508 ,\n",
       "         0.53952247],\n",
       "        ...,\n",
       "        [0.5747428 , 0.4027575 , 0.46881834, ..., 0.62020457, 0.53204423,\n",
       "         0.39280525],\n",
       "        [0.5374229 , 0.32583416, 0.44793537, ..., 0.607979  , 0.35172287,\n",
       "         0.49372038],\n",
       "        [0.48277685, 0.39392766, 0.5671335 , ..., 0.56056565, 0.36940968,\n",
       "         0.5263094 ]], dtype=float32),\n",
       " 'ASCC3+ctrl': array([[0.53780556, 0.2959711 , 0.609936  , ..., 0.6633836 , 0.22544107,\n",
       "         0.18693046],\n",
       "        [0.6081224 , 0.55474323, 0.58825964, ..., 0.6027295 , 0.4717239 ,\n",
       "         0.5690282 ],\n",
       "        [0.608393  , 0.54171866, 0.4288413 , ..., 0.55988145, 0.595662  ,\n",
       "         0.53662586],\n",
       "        ...,\n",
       "        [0.57366   , 0.4052032 , 0.47035298, ..., 0.6203948 , 0.5342513 ,\n",
       "         0.3957933 ],\n",
       "        [0.5385696 , 0.32692352, 0.44423968, ..., 0.6078792 , 0.36050567,\n",
       "         0.494626  ],\n",
       "        [0.4814654 , 0.38684085, 0.5737385 , ..., 0.5677122 , 0.365403  ,\n",
       "         0.5238889 ]], dtype=float32),\n",
       " 'BHLHE40+ctrl': array([[0.54380876, 0.2916254 , 0.6440622 , ..., 0.62474126, 0.21579075,\n",
       "         0.21041529],\n",
       "        [0.5878591 , 0.5581212 , 0.59114677, ..., 0.65324295, 0.4578834 ,\n",
       "         0.50779706],\n",
       "        [0.6137591 , 0.5799224 , 0.40332326, ..., 0.5214167 , 0.6715852 ,\n",
       "         0.5761054 ],\n",
       "        ...,\n",
       "        [0.59620994, 0.4300638 , 0.4719599 , ..., 0.6659654 , 0.53519994,\n",
       "         0.43220648],\n",
       "        [0.48564902, 0.32297036, 0.42967612, ..., 0.62921166, 0.37168905,\n",
       "         0.47914737],\n",
       "        [0.47288573, 0.35071   , 0.5650645 , ..., 0.58144736, 0.3147468 ,\n",
       "         0.5000021 ]], dtype=float32),\n",
       " 'CAD+ctrl': array([[0.51797134, 0.30275145, 0.5866571 , ..., 0.6646994 , 0.19870391,\n",
       "         0.20062466],\n",
       "        [0.60492957, 0.5490555 , 0.5886032 , ..., 0.60212487, 0.48488277,\n",
       "         0.5746179 ],\n",
       "        [0.6135791 , 0.54199636, 0.44926175, ..., 0.5469511 , 0.5919903 ,\n",
       "         0.55370176],\n",
       "        ...,\n",
       "        [0.57360286, 0.39679715, 0.4670799 , ..., 0.6117204 , 0.5315548 ,\n",
       "         0.37678018],\n",
       "        [0.5230595 , 0.3170689 , 0.4538952 , ..., 0.6172974 , 0.34873474,\n",
       "         0.4767298 ],\n",
       "        [0.4754958 , 0.40125728, 0.5627893 , ..., 0.5608627 , 0.35986143,\n",
       "         0.5206377 ]], dtype=float32),\n",
       " 'CCND3+ctrl': array([[0.5166864 , 0.29301476, 0.6006647 , ..., 0.65926486, 0.21964714,\n",
       "         0.19850054],\n",
       "        [0.5966994 , 0.54452693, 0.5930435 , ..., 0.60869414, 0.47502205,\n",
       "         0.5570719 ],\n",
       "        [0.6173648 , 0.5484165 , 0.4382918 , ..., 0.53768283, 0.5892346 ,\n",
       "         0.54338586],\n",
       "        ...,\n",
       "        [0.5720639 , 0.41221735, 0.47656584, ..., 0.6245185 , 0.53045464,\n",
       "         0.38375524],\n",
       "        [0.53542656, 0.3319652 , 0.4477869 , ..., 0.6132057 , 0.35049558,\n",
       "         0.4923456 ],\n",
       "        [0.48433793, 0.40239665, 0.57152617, ..., 0.55784   , 0.36572102,\n",
       "         0.52098966]], dtype=float32),\n",
       " 'CHERP+ctrl': array([[0.5317394 , 0.29420978, 0.6139515 , ..., 0.65043443, 0.23074403,\n",
       "         0.20345464],\n",
       "        [0.5972392 , 0.5422195 , 0.6114942 , ..., 0.59529674, 0.4613072 ,\n",
       "         0.54688996],\n",
       "        [0.61706734, 0.55074286, 0.42865777, ..., 0.5614824 , 0.5827389 ,\n",
       "         0.5287398 ],\n",
       "        ...,\n",
       "        [0.5812478 , 0.4187869 , 0.47149363, ..., 0.6114678 , 0.52804965,\n",
       "         0.3841274 ],\n",
       "        [0.553341  , 0.3447056 , 0.44940132, ..., 0.59430265, 0.3490077 ,\n",
       "         0.50049096],\n",
       "        [0.48880625, 0.4055362 , 0.57018006, ..., 0.5501369 , 0.3836424 ,\n",
       "         0.52734506]], dtype=float32),\n",
       " 'COPB1+ctrl': array([[0.52670044, 0.30487955, 0.6142611 , ..., 0.6543747 , 0.22865114,\n",
       "         0.19789037],\n",
       "        [0.60822356, 0.5612312 , 0.5979436 , ..., 0.5912357 , 0.47852328,\n",
       "         0.5743474 ],\n",
       "        [0.6072795 , 0.53832865, 0.42913032, ..., 0.5534056 , 0.59458554,\n",
       "         0.54113615],\n",
       "        ...,\n",
       "        [0.5739385 , 0.40178838, 0.46858534, ..., 0.617576  , 0.5325747 ,\n",
       "         0.397025  ],\n",
       "        [0.53666717, 0.32566187, 0.44608137, ..., 0.6051245 , 0.34902054,\n",
       "         0.4957025 ],\n",
       "        [0.48534885, 0.38497218, 0.55991143, ..., 0.56840426, 0.36459622,\n",
       "         0.5207746 ]], dtype=float32),\n",
       " 'COPZ1+ctrl': array([[0.52359694, 0.3027182 , 0.6197288 , ..., 0.6526648 , 0.25000712,\n",
       "         0.19983152],\n",
       "        [0.6040969 , 0.5666995 , 0.60029227, ..., 0.5951915 , 0.4687539 ,\n",
       "         0.55934894],\n",
       "        [0.5997733 , 0.5390286 , 0.4220882 , ..., 0.5452907 , 0.5878146 ,\n",
       "         0.5477658 ],\n",
       "        ...,\n",
       "        [0.5749941 , 0.41443238, 0.4676226 , ..., 0.6186984 , 0.5400259 ,\n",
       "         0.40614957],\n",
       "        [0.5434878 , 0.32407787, 0.44240257, ..., 0.6031842 , 0.34836718,\n",
       "         0.50359905],\n",
       "        [0.4893048 , 0.38222092, 0.55643326, ..., 0.57512724, 0.36674625,\n",
       "         0.51681334]], dtype=float32),\n",
       " 'CREB1+ctrl': array([[0.5429044 , 0.28834847, 0.64084834, ..., 0.63096875, 0.21478106,\n",
       "         0.207219  ],\n",
       "        [0.5833367 , 0.5588036 , 0.5971998 , ..., 0.6575545 , 0.45445794,\n",
       "         0.5020065 ],\n",
       "        [0.62138015, 0.59074277, 0.4022991 , ..., 0.5056365 , 0.6786179 ,\n",
       "         0.5842276 ],\n",
       "        ...,\n",
       "        [0.599153  , 0.4321791 , 0.47267076, ..., 0.66919035, 0.5353723 ,\n",
       "         0.43365943],\n",
       "        [0.4835021 , 0.32279617, 0.4330646 , ..., 0.63114536, 0.37329042,\n",
       "         0.47796237],\n",
       "        [0.47027463, 0.34588587, 0.5631866 , ..., 0.5787682 , 0.3103467 ,\n",
       "         0.49842826]], dtype=float32),\n",
       " 'DAD1+ctrl': array([[0.5281881 , 0.29609466, 0.6049748 , ..., 0.67058027, 0.21431938,\n",
       "         0.18541132],\n",
       "        [0.6084589 , 0.5564921 , 0.5998384 , ..., 0.59965324, 0.479885  ,\n",
       "         0.5769679 ],\n",
       "        [0.6197711 , 0.5419724 , 0.43775678, ..., 0.5572304 , 0.5908321 ,\n",
       "         0.53709155],\n",
       "        ...,\n",
       "        [0.57779175, 0.3984891 , 0.46785656, ..., 0.6213003 , 0.52926105,\n",
       "         0.38514414],\n",
       "        [0.5361924 , 0.3215048 , 0.45053342, ..., 0.61406595, 0.3515329 ,\n",
       "         0.49521407],\n",
       "        [0.48638058, 0.3906406 , 0.568981  , ..., 0.5607664 , 0.35919616,\n",
       "         0.52452964]], dtype=float32),\n",
       " 'DDIT3+ctrl': array([[0.5426189 , 0.28671932, 0.6405478 , ..., 0.6315943 , 0.21833901,\n",
       "         0.20551567],\n",
       "        [0.58131975, 0.55708814, 0.59927857, ..., 0.6589522 , 0.45283967,\n",
       "         0.49774513],\n",
       "        [0.62025356, 0.5923585 , 0.40242672, ..., 0.50386256, 0.6766436 ,\n",
       "         0.5847236 ],\n",
       "        ...,\n",
       "        [0.6033314 , 0.43250635, 0.47333673, ..., 0.6712535 , 0.5341598 ,\n",
       "         0.43329173],\n",
       "        [0.485369  , 0.32367167, 0.43296954, ..., 0.63204676, 0.37722522,\n",
       "         0.4803952 ],\n",
       "        [0.46998623, 0.34497982, 0.5621786 , ..., 0.5771537 , 0.31189373,\n",
       "         0.4973799 ]], dtype=float32),\n",
       " 'DDOST+ctrl': array([[0.5214926 , 0.30311963, 0.6143341 , ..., 0.6612533 , 0.20468163,\n",
       "         0.195582  ],\n",
       "        [0.6053965 , 0.5614345 , 0.605003  , ..., 0.5980283 , 0.4769302 ,\n",
       "         0.5731165 ],\n",
       "        [0.6242517 , 0.55132765, 0.4385966 , ..., 0.5351247 , 0.6121264 ,\n",
       "         0.54882467],\n",
       "        ...,\n",
       "        [0.5778249 , 0.40004888, 0.46877417, ..., 0.62487394, 0.53195477,\n",
       "         0.38835445],\n",
       "        [0.5301025 , 0.31604275, 0.44376382, ..., 0.61519754, 0.34172285,\n",
       "         0.48874876],\n",
       "        [0.48387447, 0.3899839 , 0.56771   , ..., 0.5596119 , 0.3582981 ,\n",
       "         0.5283437 ]], dtype=float32),\n",
       " 'DDRGK1+ctrl': array([[0.5296963 , 0.29793948, 0.60997576, ..., 0.66677445, 0.21927054,\n",
       "         0.19139476],\n",
       "        [0.60729104, 0.55365515, 0.6009461 , ..., 0.59167725, 0.4784511 ,\n",
       "         0.5729604 ],\n",
       "        [0.61734134, 0.54732734, 0.42894998, ..., 0.5537414 , 0.5952038 ,\n",
       "         0.53619117],\n",
       "        ...,\n",
       "        [0.57794875, 0.40279636, 0.4700551 , ..., 0.61383814, 0.53216463,\n",
       "         0.38543218],\n",
       "        [0.54293096, 0.32828602, 0.45007825, ..., 0.6060584 , 0.3504002 ,\n",
       "         0.49408373],\n",
       "        [0.48652637, 0.3987787 , 0.5710228 , ..., 0.55551744, 0.36952776,\n",
       "         0.5280843 ]], dtype=float32),\n",
       " 'DERL2+ctrl': array([[0.5259974 , 0.29989022, 0.61268586, ..., 0.6596927 , 0.22034891,\n",
       "         0.19580312],\n",
       "        [0.6036628 , 0.55862707, 0.6030996 , ..., 0.6000135 , 0.48225904,\n",
       "         0.5665438 ],\n",
       "        [0.6139466 , 0.54596615, 0.43542904, ..., 0.5484732 , 0.58887345,\n",
       "         0.54230577],\n",
       "        ...,\n",
       "        [0.57671547, 0.4087603 , 0.4674559 , ..., 0.6198197 , 0.53214645,\n",
       "         0.3908883 ],\n",
       "        [0.5308624 , 0.3273717 , 0.4491046 , ..., 0.61793584, 0.353476  ,\n",
       "         0.49555084],\n",
       "        [0.4838482 , 0.39197606, 0.56689864, ..., 0.565181  , 0.35705152,\n",
       "         0.52349496]], dtype=float32),\n",
       " 'DHDDS+ctrl': array([[0.50168276, 0.3085443 , 0.63283134, ..., 0.65477157, 0.2284298 ,\n",
       "         0.20107388],\n",
       "        [0.6001024 , 0.5819013 , 0.62577325, ..., 0.6037255 , 0.47354144,\n",
       "         0.5719761 ],\n",
       "        [0.633228  , 0.56359965, 0.4429654 , ..., 0.50477624, 0.61545074,\n",
       "         0.56458193],\n",
       "        ...,\n",
       "        [0.5792618 , 0.39601463, 0.46630532, ..., 0.64831614, 0.5241477 ,\n",
       "         0.39192176],\n",
       "        [0.53193974, 0.31026477, 0.4475119 , ..., 0.6260244 , 0.337825  ,\n",
       "         0.4989909 ],\n",
       "        [0.48484766, 0.37870994, 0.5607741 , ..., 0.5668295 , 0.35510406,\n",
       "         0.52823937]], dtype=float32),\n",
       " 'DNAJC19+ctrl': array([[0.53589475, 0.30772278, 0.61143845, ..., 0.6575775 , 0.25080407,\n",
       "         0.19705786],\n",
       "        [0.60560894, 0.56491417, 0.6036551 , ..., 0.5909208 , 0.46233666,\n",
       "         0.5715541 ],\n",
       "        [0.6120857 , 0.5443246 , 0.4259317 , ..., 0.55830467, 0.5926157 ,\n",
       "         0.5298047 ],\n",
       "        ...,\n",
       "        [0.5760011 , 0.41027004, 0.46657363, ..., 0.6185285 , 0.53238153,\n",
       "         0.39580074],\n",
       "        [0.5547613 , 0.33531004, 0.44797903, ..., 0.59657705, 0.35770178,\n",
       "         0.5084869 ],\n",
       "        [0.48452437, 0.3906999 , 0.5623119 , ..., 0.5658754 , 0.38859472,\n",
       "         0.5266529 ]], dtype=float32),\n",
       " 'EIF2B2+ctrl': array([[0.52522296, 0.30169493, 0.61984473, ..., 0.6499822 , 0.27593547,\n",
       "         0.20228554],\n",
       "        [0.59461313, 0.57445663, 0.6153102 , ..., 0.6047552 , 0.45312107,\n",
       "         0.55707794],\n",
       "        [0.61214685, 0.55622077, 0.42966127, ..., 0.5371168 , 0.5891698 ,\n",
       "         0.537585  ],\n",
       "        ...,\n",
       "        [0.57406056, 0.41987416, 0.46149284, ..., 0.63210166, 0.5364584 ,\n",
       "         0.4065363 ],\n",
       "        [0.5536463 , 0.3359284 , 0.44540724, ..., 0.60179967, 0.36040995,\n",
       "         0.5155086 ],\n",
       "        [0.48458177, 0.3822778 , 0.55805326, ..., 0.5781409 , 0.3907025 ,\n",
       "         0.5268596 ]], dtype=float32),\n",
       " 'EIF2B3+ctrl': array([[0.5214966 , 0.30292967, 0.62062794, ..., 0.6524188 , 0.29169688,\n",
       "         0.20179959],\n",
       "        [0.5940584 , 0.57436126, 0.61595035, ..., 0.60026485, 0.45121178,\n",
       "         0.56331474],\n",
       "        [0.6110835 , 0.55423105, 0.42833158, ..., 0.53095466, 0.582204  ,\n",
       "         0.53612787],\n",
       "        ...,\n",
       "        [0.57118523, 0.42089525, 0.45466474, ..., 0.6299125 , 0.54035825,\n",
       "         0.40875813],\n",
       "        [0.56042683, 0.33703515, 0.44766632, ..., 0.595959  , 0.35624552,\n",
       "         0.5197938 ],\n",
       "        [0.485261  , 0.3858494 , 0.55871457, ..., 0.5766766 , 0.39941123,\n",
       "         0.52807844]], dtype=float32),\n",
       " 'EIF2B4+ctrl': array([[0.52978885, 0.29995477, 0.61672354, ..., 0.649362  , 0.25961164,\n",
       "         0.20204878],\n",
       "        [0.59866786, 0.57168716, 0.6072466 , ..., 0.60682636, 0.4584613 ,\n",
       "         0.56445146],\n",
       "        [0.61275256, 0.5495009 , 0.4315161 , ..., 0.5456677 , 0.5944651 ,\n",
       "         0.5345271 ],\n",
       "        ...,\n",
       "        [0.5708018 , 0.41707844, 0.46518755, ..., 0.63012975, 0.53449327,\n",
       "         0.40515044],\n",
       "        [0.5501852 , 0.3305004 , 0.44605857, ..., 0.6032695 , 0.3580016 ,\n",
       "         0.5073805 ],\n",
       "        [0.4828827 , 0.38192928, 0.56032854, ..., 0.57385343, 0.38500017,\n",
       "         0.52824336]], dtype=float32),\n",
       " 'EIF2S1+ctrl': array([[0.5157956 , 0.2989337 , 0.6226142 , ..., 0.6515647 , 0.30477175,\n",
       "         0.19841136],\n",
       "        [0.59124005, 0.57440716, 0.627403  , ..., 0.59939843, 0.44840375,\n",
       "         0.55678403],\n",
       "        [0.60790664, 0.5476    , 0.43247566, ..., 0.5357766 , 0.556473  ,\n",
       "         0.5317994 ],\n",
       "        ...,\n",
       "        [0.5728985 , 0.4207028 , 0.45611984, ..., 0.62859106, 0.54343635,\n",
       "         0.40430754],\n",
       "        [0.567552  , 0.34428498, 0.44895363, ..., 0.58793825, 0.35081983,\n",
       "         0.52825385],\n",
       "        [0.49457884, 0.3870283 , 0.5608091 , ..., 0.5772613 , 0.40667698,\n",
       "         0.52913684]], dtype=float32),\n",
       " 'FARSB+ctrl': array([[0.52627426, 0.29992554, 0.6167502 , ..., 0.6584561 , 0.24699306,\n",
       "         0.1968842 ],\n",
       "        [0.59839785, 0.56660575, 0.6046149 , ..., 0.6078456 , 0.46717876,\n",
       "         0.566999  ],\n",
       "        [0.6131263 , 0.5485187 , 0.43567982, ..., 0.54528123, 0.5981679 ,\n",
       "         0.5384715 ],\n",
       "        ...,\n",
       "        [0.57051396, 0.4113619 , 0.46467397, ..., 0.6282732 , 0.5364235 ,\n",
       "         0.40391365],\n",
       "        [0.5417911 , 0.3280695 , 0.4460422 , ..., 0.6120153 , 0.3587239 ,\n",
       "         0.5030325 ],\n",
       "        [0.48374397, 0.3842309 , 0.5624644 , ..., 0.5705431 , 0.37437233,\n",
       "         0.52540314]], dtype=float32),\n",
       " 'FECH+ctrl': array([[0.540052  , 0.30308703, 0.6057537 , ..., 0.6548086 , 0.22895767,\n",
       "         0.19380853],\n",
       "        [0.6117958 , 0.5540969 , 0.5977896 , ..., 0.5846418 , 0.48003164,\n",
       "         0.5788319 ],\n",
       "        [0.6059246 , 0.53841245, 0.4276183 , ..., 0.56863534, 0.57932806,\n",
       "         0.52534926],\n",
       "        ...,\n",
       "        [0.57880044, 0.40337387, 0.46674308, ..., 0.60809684, 0.53225625,\n",
       "         0.3893353 ],\n",
       "        [0.5468337 , 0.3391711 , 0.45037568, ..., 0.5945249 , 0.35998356,\n",
       "         0.50107276],\n",
       "        [0.48412314, 0.40205467, 0.57319754, ..., 0.5541367 , 0.37823352,\n",
       "         0.5299131 ]], dtype=float32),\n",
       " 'GBF1+ctrl': array([[0.5282267 , 0.30204496, 0.61257964, ..., 0.66282225, 0.22034922,\n",
       "         0.19431958],\n",
       "        [0.6063353 , 0.5583907 , 0.59907806, ..., 0.6014493 , 0.48044834,\n",
       "         0.5713267 ],\n",
       "        [0.6163093 , 0.5464498 , 0.4348683 , ..., 0.55121243, 0.59693444,\n",
       "         0.54067296],\n",
       "        ...,\n",
       "        [0.5712334 , 0.4058662 , 0.46870458, ..., 0.6212976 , 0.53537095,\n",
       "         0.3907603 ],\n",
       "        [0.5350394 , 0.3221972 , 0.44826946, ..., 0.6150307 , 0.35005242,\n",
       "         0.49211162],\n",
       "        [0.48509398, 0.39325717, 0.5698043 , ..., 0.5637154 , 0.3635051 ,\n",
       "         0.52556634]], dtype=float32),\n",
       " 'GMPPB+ctrl': array([[0.53045714, 0.29820934, 0.6091161 , ..., 0.66759163, 0.21792431,\n",
       "         0.19046633],\n",
       "        [0.60529876, 0.55439   , 0.60203826, ..., 0.59848344, 0.48109758,\n",
       "         0.57161194],\n",
       "        [0.6212519 , 0.5489785 , 0.43516022, ..., 0.549281  , 0.5916695 ,\n",
       "         0.54080486],\n",
       "        ...,\n",
       "        [0.5771058 , 0.40410325, 0.46934238, ..., 0.61926216, 0.5318065 ,\n",
       "         0.38692126],\n",
       "        [0.5342117 , 0.3226241 , 0.45205167, ..., 0.6162565 , 0.3545591 ,\n",
       "         0.49167112],\n",
       "        [0.48298362, 0.39346182, 0.56974864, ..., 0.5577383 , 0.3607542 ,\n",
       "         0.5262262 ]], dtype=float32),\n",
       " 'GNPNAT1+ctrl': array([[0.5342535 , 0.298684  , 0.60420984, ..., 0.6672404 , 0.21821551,\n",
       "         0.18951812],\n",
       "        [0.60819936, 0.552235  , 0.5972889 , ..., 0.5947544 , 0.4862843 ,\n",
       "         0.57492167],\n",
       "        [0.61764526, 0.5459564 , 0.43428627, ..., 0.55892086, 0.58457834,\n",
       "         0.5351413 ],\n",
       "        ...,\n",
       "        [0.57332695, 0.40197206, 0.46810144, ..., 0.6134244 , 0.531967  ,\n",
       "         0.3858595 ],\n",
       "        [0.5388911 , 0.32684937, 0.4511364 , ..., 0.6106462 , 0.3581966 ,\n",
       "         0.49345106],\n",
       "        [0.48356104, 0.39409524, 0.57217085, ..., 0.55628407, 0.36391246,\n",
       "         0.52536964]], dtype=float32),\n",
       " 'HSD17B12+ctrl': array([[0.53235286, 0.3099126 , 0.6067381 , ..., 0.65133566, 0.2280623 ,\n",
       "         0.20067257],\n",
       "        [0.6116294 , 0.557908  , 0.5868046 , ..., 0.59174067, 0.4787302 ,\n",
       "         0.5703184 ],\n",
       "        [0.60035866, 0.53057635, 0.4297189 , ..., 0.5642112 , 0.5806436 ,\n",
       "         0.53240716],\n",
       "        ...,\n",
       "        [0.5732207 , 0.40582177, 0.47523084, ..., 0.61089665, 0.53742105,\n",
       "         0.39692158],\n",
       "        [0.5424432 , 0.3332567 , 0.45187613, ..., 0.5965225 , 0.35426667,\n",
       "         0.49944133],\n",
       "        [0.48704296, 0.39758793, 0.5672136 , ..., 0.564713  , 0.3708247 ,\n",
       "         0.5243702 ]], dtype=float32),\n",
       " 'HSPA5+ctrl': array([[0.50587755, 0.30376697, 0.63538045, ..., 0.65726364, 0.22955416,\n",
       "         0.19692183],\n",
       "        [0.60133153, 0.57427216, 0.6383299 , ..., 0.5983542 , 0.47289222,\n",
       "         0.5649232 ],\n",
       "        [0.63642824, 0.5685349 , 0.4334963 , ..., 0.5223029 , 0.6033548 ,\n",
       "         0.55896217],\n",
       "        ...,\n",
       "        [0.578633  , 0.39687485, 0.46457994, ..., 0.6476659 , 0.524468  ,\n",
       "         0.3837148 ],\n",
       "        [0.535432  , 0.31144404, 0.45373625, ..., 0.6170757 , 0.32771772,\n",
       "         0.5005757 ],\n",
       "        [0.48610538, 0.38348153, 0.5688536 , ..., 0.5620382 , 0.36276203,\n",
       "         0.52532667]], dtype=float32),\n",
       " 'HSPA9+ctrl': array([[0.5200168 , 0.30191514, 0.6206797 , ..., 0.6597925 , 0.2969845 ,\n",
       "         0.2011058 ],\n",
       "        [0.5938012 , 0.5722265 , 0.62373847, ..., 0.5947651 , 0.45558304,\n",
       "         0.56034416],\n",
       "        [0.61425835, 0.5576172 , 0.42349166, ..., 0.52702117, 0.5758682 ,\n",
       "         0.5377571 ],\n",
       "        ...,\n",
       "        [0.5734763 , 0.4186021 , 0.45855156, ..., 0.629645  , 0.5431148 ,\n",
       "         0.40594822],\n",
       "        [0.5641996 , 0.3453257 , 0.45325178, ..., 0.5882927 , 0.35564485,\n",
       "         0.52723646],\n",
       "        [0.48976713, 0.3923424 , 0.5628932 , ..., 0.57001334, 0.40694216,\n",
       "         0.5312694 ]], dtype=float32),\n",
       " 'HYOU1+ctrl': array([[0.53376496, 0.29559684, 0.60661197, ..., 0.6646278 , 0.21987407,\n",
       "         0.19257984],\n",
       "        [0.60562974, 0.5526004 , 0.59680295, ..., 0.5989775 , 0.47574386,\n",
       "         0.57252496],\n",
       "        [0.6144483 , 0.5458333 , 0.43129832, ..., 0.5565854 , 0.5929696 ,\n",
       "         0.5332416 ],\n",
       "        ...,\n",
       "        [0.5725511 , 0.40663534, 0.47210538, ..., 0.61673325, 0.5329559 ,\n",
       "         0.38925865],\n",
       "        [0.5402581 , 0.32963794, 0.44958484, ..., 0.60644543, 0.35461125,\n",
       "         0.49379295],\n",
       "        [0.48473394, 0.39378378, 0.57240367, ..., 0.5576007 , 0.37072492,\n",
       "         0.5278914 ]], dtype=float32),\n",
       " 'IARS2+ctrl': array([[0.52287215, 0.29896978, 0.6208581 , ..., 0.6549452 , 0.28389743,\n",
       "         0.20019652],\n",
       "        [0.59308755, 0.5693686 , 0.6190404 , ..., 0.6028008 , 0.45231694,\n",
       "         0.55818987],\n",
       "        [0.612356  , 0.55468196, 0.42843267, ..., 0.54043967, 0.57973886,\n",
       "         0.53478044],\n",
       "        ...,\n",
       "        [0.57449263, 0.4191776 , 0.45904636, ..., 0.6288251 , 0.5389499 ,\n",
       "         0.40532568],\n",
       "        [0.5605178 , 0.33814445, 0.45058468, ..., 0.5965508 , 0.35796967,\n",
       "         0.51859117],\n",
       "        [0.48747987, 0.3863201 , 0.56221765, ..., 0.5715337 , 0.39867803,\n",
       "         0.5281546 ]], dtype=float32),\n",
       " 'IDH3A+ctrl': array([[0.5251349 , 0.31062672, 0.6102225 , ..., 0.6615966 , 0.21895525,\n",
       "         0.19759959],\n",
       "        [0.60931504, 0.5601894 , 0.5950166 , ..., 0.5982306 , 0.48421517,\n",
       "         0.57223487],\n",
       "        [0.6152773 , 0.5476004 , 0.4370431 , ..., 0.54420745, 0.59707767,\n",
       "         0.54770976],\n",
       "        ...,\n",
       "        [0.5768361 , 0.4006496 , 0.46657395, ..., 0.6228578 , 0.53399336,\n",
       "         0.39286113],\n",
       "        [0.5320482 , 0.32382274, 0.44889113, ..., 0.618139  , 0.3545695 ,\n",
       "         0.4906429 ],\n",
       "        [0.48013616, 0.39575016, 0.56604904, ..., 0.56258404, 0.36163253,\n",
       "         0.5244223 ]], dtype=float32),\n",
       " 'IER3IP1+ctrl': array([[0.51752746, 0.31296104, 0.62250835, ..., 0.6614285 , 0.2227314 ,\n",
       "         0.19626151],\n",
       "        [0.61315906, 0.56916285, 0.60240054, ..., 0.59355533, 0.48496398,\n",
       "         0.5848234 ],\n",
       "        [0.6245642 , 0.5473705 , 0.4394832 , ..., 0.54023516, 0.60414815,\n",
       "         0.55155796],\n",
       "        ...,\n",
       "        [0.57613266, 0.39403647, 0.4698481 , ..., 0.6269905 , 0.5306496 ,\n",
       "         0.38950172],\n",
       "        [0.53650016, 0.31553602, 0.4469401 , ..., 0.6183297 , 0.34598354,\n",
       "         0.49506328],\n",
       "        [0.48553252, 0.38822222, 0.5677014 , ..., 0.56164455, 0.35999876,\n",
       "         0.5278923 ]], dtype=float32),\n",
       " 'KCTD16+ctrl': array([[0.52849394, 0.30730003, 0.6117991 , ..., 0.6615471 , 0.21588719,\n",
       "         0.19495744],\n",
       "        [0.60861355, 0.5582917 , 0.5956727 , ..., 0.596226  , 0.4799833 ,\n",
       "         0.57235897],\n",
       "        [0.61494195, 0.5413045 , 0.4326287 , ..., 0.5500316 , 0.59617364,\n",
       "         0.5398268 ],\n",
       "        ...,\n",
       "        [0.5766547 , 0.4034292 , 0.46995208, ..., 0.6213003 , 0.5334138 ,\n",
       "         0.39378643],\n",
       "        [0.5338066 , 0.32494485, 0.446095  , ..., 0.6124143 , 0.35253745,\n",
       "         0.4919389 ],\n",
       "        [0.48313487, 0.39275238, 0.56837714, ..., 0.56454116, 0.3587418 ,\n",
       "         0.52393544]], dtype=float32),\n",
       " 'MANF+ctrl': array([[0.53111243, 0.30265066, 0.6085043 , ..., 0.6653983 , 0.20942897,\n",
       "         0.19097629],\n",
       "        [0.60717994, 0.5537315 , 0.59634835, ..., 0.5973954 , 0.48839867,\n",
       "         0.57358557],\n",
       "        [0.61655045, 0.5446836 , 0.4345388 , ..., 0.55564207, 0.5928054 ,\n",
       "         0.53716403],\n",
       "        ...,\n",
       "        [0.57297766, 0.40682074, 0.46873635, ..., 0.6169174 , 0.53316087,\n",
       "         0.38825315],\n",
       "        [0.5307462 , 0.32438853, 0.447215  , ..., 0.61582226, 0.35157862,\n",
       "         0.49117586],\n",
       "        [0.48302102, 0.39316902, 0.5701223 , ..., 0.56055707, 0.3559035 ,\n",
       "         0.5248627 ]], dtype=float32),\n",
       " 'MRGBP+ctrl': array([[0.5276658 , 0.35582227, 0.6052024 , ..., 0.6651713 , 0.22081372,\n",
       "         0.19088176],\n",
       "        [0.6336113 , 0.56645507, 0.57659966, ..., 0.564408  , 0.49889833,\n",
       "         0.6101524 ],\n",
       "        [0.6171885 , 0.53343415, 0.43048424, ..., 0.54588336, 0.6008653 ,\n",
       "         0.54675984],\n",
       "        ...,\n",
       "        [0.57517123, 0.38716292, 0.47649294, ..., 0.612384  , 0.53329307,\n",
       "         0.38882238],\n",
       "        [0.5443318 , 0.31556514, 0.4580966 , ..., 0.60793614, 0.3528616 ,\n",
       "         0.49088693],\n",
       "        [0.48475963, 0.41544327, 0.57074094, ..., 0.5571107 , 0.3729089 ,\n",
       "         0.52652186]], dtype=float32),\n",
       " 'MRPL39+ctrl': array([[0.53697556, 0.2980644 , 0.60837215, ..., 0.6582901 , 0.22560996,\n",
       "         0.19458741],\n",
       "        [0.60720474, 0.5553274 , 0.5979163 , ..., 0.5933519 , 0.4725203 ,\n",
       "         0.5730893 ],\n",
       "        [0.61499923, 0.54290056, 0.4283154 , ..., 0.562618  , 0.5968354 ,\n",
       "         0.5336258 ],\n",
       "        ...,\n",
       "        [0.57596904, 0.4052795 , 0.46976155, ..., 0.61480767, 0.5308528 ,\n",
       "         0.39240605],\n",
       "        [0.5463717 , 0.3355237 , 0.44847074, ..., 0.5967435 , 0.35424578,\n",
       "         0.49872136],\n",
       "        [0.4851596 , 0.39919475, 0.5684096 , ..., 0.55627984, 0.38005623,\n",
       "         0.5290308 ]], dtype=float32),\n",
       " 'MTHFD1+ctrl': array([[0.5295598 , 0.30219808, 0.5986515 , ..., 0.6627111 , 0.21343064,\n",
       "         0.1869004 ],\n",
       "        [0.60143733, 0.5558987 , 0.59575534, ..., 0.6117291 , 0.4803905 ,\n",
       "         0.55743027],\n",
       "        [0.6163209 , 0.54390275, 0.44864038, ..., 0.55144113, 0.5854825 ,\n",
       "         0.5471043 ],\n",
       "        ...,\n",
       "        [0.5706867 , 0.40976852, 0.46931195, ..., 0.62488264, 0.53232205,\n",
       "         0.39189833],\n",
       "        [0.5205096 , 0.3243079 , 0.45105472, ..., 0.6230237 , 0.35700303,\n",
       "         0.4873334 ],\n",
       "        [0.48671433, 0.3874336 , 0.56233245, ..., 0.56264216, 0.34796828,\n",
       "         0.5191752 ]], dtype=float32),\n",
       " 'NEDD8+ctrl': array([[0.52689433, 0.32729653, 0.60138875, ..., 0.6661927 , 0.21603914,\n",
       "         0.18377294],\n",
       "        [0.6227572 , 0.5693418 , 0.5929772 , ..., 0.5692443 , 0.48702374,\n",
       "         0.5913472 ],\n",
       "        [0.6064214 , 0.53883344, 0.43434614, ..., 0.56810707, 0.59216535,\n",
       "         0.5347498 ],\n",
       "        ...,\n",
       "        [0.5870319 , 0.3937863 , 0.4634522 , ..., 0.6028341 , 0.52775556,\n",
       "         0.39042726],\n",
       "        [0.5381381 , 0.32470644, 0.45275345, ..., 0.59935105, 0.35119098,\n",
       "         0.49911597],\n",
       "        [0.4795065 , 0.39925304, 0.5580377 , ..., 0.57460386, 0.3660649 ,\n",
       "         0.52590907]], dtype=float32),\n",
       " 'OST4+ctrl': array([[0.5278529 , 0.2984514 , 0.6044262 , ..., 0.67534   , 0.20833153,\n",
       "         0.1851828 ],\n",
       "        [0.6061493 , 0.5605278 , 0.60038793, ..., 0.5905085 , 0.4835952 ,\n",
       "         0.57903194],\n",
       "        [0.6159044 , 0.54893947, 0.43091124, ..., 0.5482733 , 0.6006777 ,\n",
       "         0.54073936],\n",
       "        ...,\n",
       "        [0.5828559 , 0.4004281 , 0.46434477, ..., 0.6200745 , 0.5312997 ,\n",
       "         0.38825417],\n",
       "        [0.53470916, 0.32201135, 0.45172676, ..., 0.6113942 , 0.35631981,\n",
       "         0.49435735],\n",
       "        [0.48303926, 0.38999704, 0.5693794 , ..., 0.5607244 , 0.35706747,\n",
       "         0.5268297 ]], dtype=float32),\n",
       " 'P4HB+ctrl': array([[0.5287667 , 0.31093135, 0.60368544, ..., 0.66545844, 0.20843002,\n",
       "         0.19416873],\n",
       "        [0.61378866, 0.555932  , 0.5908635 , ..., 0.587605  , 0.492618  ,\n",
       "         0.58363014],\n",
       "        [0.614164  , 0.5389042 , 0.4364836 , ..., 0.557944  , 0.5882092 ,\n",
       "         0.53328305],\n",
       "        ...,\n",
       "        [0.5760804 , 0.39697435, 0.4740011 , ..., 0.61008275, 0.5333924 ,\n",
       "         0.38566363],\n",
       "        [0.5365213 , 0.322445  , 0.45082733, ..., 0.60712737, 0.34696618,\n",
       "         0.49137875],\n",
       "        [0.4846748 , 0.40339813, 0.57092094, ..., 0.5579454 , 0.36410603,\n",
       "         0.52733445]], dtype=float32),\n",
       " 'PDIA6+ctrl': array([[0.53205293, 0.3004687 , 0.6050177 , ..., 0.66689616, 0.2131357 ,\n",
       "         0.19048098],\n",
       "        [0.6098921 , 0.55261123, 0.59488004, ..., 0.5940122 , 0.48462597,\n",
       "         0.5751169 ],\n",
       "        [0.61717534, 0.54595023, 0.4318167 , ..., 0.5569452 , 0.5904175 ,\n",
       "         0.53491974],\n",
       "        ...,\n",
       "        [0.57605046, 0.40516672, 0.469835  , ..., 0.6131797 , 0.53409886,\n",
       "         0.38688627],\n",
       "        [0.53625685, 0.32757616, 0.4508258 , ..., 0.6142307 , 0.35524052,\n",
       "         0.48985702],\n",
       "        [0.48475933, 0.40152943, 0.574381  , ..., 0.55854756, 0.36391157,\n",
       "         0.5261744 ]], dtype=float32),\n",
       " 'PPWD1+ctrl': array([[0.52608913, 0.29366896, 0.6131004 , ..., 0.65135825, 0.24986352,\n",
       "         0.19859706],\n",
       "        [0.59311384, 0.5524792 , 0.60034186, ..., 0.6080571 , 0.46748883,\n",
       "         0.5392615 ],\n",
       "        [0.60281897, 0.5478733 , 0.42732698, ..., 0.5469798 , 0.57061887,\n",
       "         0.5408466 ],\n",
       "        ...,\n",
       "        [0.5726196 , 0.4227235 , 0.4672483 , ..., 0.62044126, 0.53468305,\n",
       "         0.39753795],\n",
       "        [0.54093575, 0.34073547, 0.44421524, ..., 0.6082199 , 0.35910565,\n",
       "         0.50474226],\n",
       "        [0.48941615, 0.39343876, 0.56595916, ..., 0.5666611 , 0.36708707,\n",
       "         0.5201157 ]], dtype=float32),\n",
       " 'PSMD4+ctrl': array([[0.5023316 , 0.3060142 , 0.5724823 , ..., 0.65570325, 0.21369103,\n",
       "         0.20760834],\n",
       "        [0.5995533 , 0.5413479 , 0.58424896, ..., 0.6043263 , 0.4787648 ,\n",
       "         0.5581072 ],\n",
       "        [0.61138695, 0.5390549 , 0.4553103 , ..., 0.5360849 , 0.57069546,\n",
       "         0.54424274],\n",
       "        ...,\n",
       "        [0.5716781 , 0.4088155 , 0.485835  , ..., 0.6241545 , 0.525381  ,\n",
       "         0.37421477],\n",
       "        [0.5333915 , 0.32728416, 0.45620462, ..., 0.6133007 , 0.34699607,\n",
       "         0.48291412],\n",
       "        [0.493014  , 0.4122387 , 0.5691251 , ..., 0.554996  , 0.37283108,\n",
       "         0.5280786 ]], dtype=float32),\n",
       " 'PTDSS1+ctrl': array([[0.5336564 , 0.29992756, 0.6023788 , ..., 0.6658985 , 0.20784485,\n",
       "         0.19072129],\n",
       "        [0.6110208 , 0.5545254 , 0.59375745, ..., 0.59178364, 0.48624176,\n",
       "         0.5808544 ],\n",
       "        [0.616055  , 0.5424205 , 0.43272516, ..., 0.5558008 , 0.59014845,\n",
       "         0.5370288 ],\n",
       "        ...,\n",
       "        [0.5750491 , 0.3995773 , 0.47329202, ..., 0.6124336 , 0.53080904,\n",
       "         0.38637632],\n",
       "        [0.53591835, 0.32739988, 0.4511562 , ..., 0.6062787 , 0.35321078,\n",
       "         0.49147177],\n",
       "        [0.4844924 , 0.39952895, 0.57071483, ..., 0.5550873 , 0.3643121 ,\n",
       "         0.5265942 ]], dtype=float32),\n",
       " 'SAMM50+ctrl': array([[0.5399319 , 0.304802  , 0.6033118 , ..., 0.6615679 , 0.23974691,\n",
       "         0.19370599],\n",
       "        [0.609575  , 0.556944  , 0.6086921 , ..., 0.5780154 , 0.47319102,\n",
       "         0.5780811 ],\n",
       "        [0.61541855, 0.5468001 , 0.42494506, ..., 0.5616812 , 0.58503675,\n",
       "         0.52424884],\n",
       "        ...,\n",
       "        [0.5814389 , 0.40611857, 0.4662726 , ..., 0.6055717 , 0.5311692 ,\n",
       "         0.38810435],\n",
       "        [0.5565717 , 0.3417303 , 0.45547   , ..., 0.58950365, 0.35811505,\n",
       "         0.5070675 ],\n",
       "        [0.48309684, 0.40557376, 0.5680209 , ..., 0.5510244 , 0.39416426,\n",
       "         0.53389317]], dtype=float32),\n",
       " 'SCYL1+ctrl': array([[0.52217126, 0.305273  , 0.61768025, ..., 0.6609742 , 0.22217397,\n",
       "         0.19933957],\n",
       "        [0.6086527 , 0.55913085, 0.6052113 , ..., 0.59637696, 0.4804582 ,\n",
       "         0.5738832 ],\n",
       "        [0.6213457 , 0.54690033, 0.43711054, ..., 0.5504819 , 0.5930456 ,\n",
       "         0.54409325],\n",
       "        ...,\n",
       "        [0.5766286 , 0.40341538, 0.46973696, ..., 0.62133723, 0.5313849 ,\n",
       "         0.38966987],\n",
       "        [0.5391235 , 0.32033354, 0.4505085 , ..., 0.614601  , 0.3460842 ,\n",
       "         0.49634975],\n",
       "        [0.48706776, 0.38970736, 0.5666239 , ..., 0.56061625, 0.3634826 ,\n",
       "         0.52752995]], dtype=float32),\n",
       " 'SEC61A1+ctrl': array([[0.5200715 , 0.29981056, 0.62659883, ..., 0.657819  , 0.23647408,\n",
       "         0.1943415 ],\n",
       "        [0.59051675, 0.5676016 , 0.6116435 , ..., 0.61569893, 0.46776846,\n",
       "         0.5498566 ],\n",
       "        [0.6149764 , 0.5531733 , 0.4328496 , ..., 0.5292139 , 0.59641504,\n",
       "         0.54866254],\n",
       "        ...,\n",
       "        [0.5691145 , 0.42051238, 0.46715283, ..., 0.6369444 , 0.53816545,\n",
       "         0.40020746],\n",
       "        [0.53140974, 0.32429576, 0.44525442, ..., 0.6268067 , 0.35613307,\n",
       "         0.49757698],\n",
       "        [0.48901346, 0.3783437 , 0.5639609 , ..., 0.57584435, 0.35983828,\n",
       "         0.5235592 ]], dtype=float32),\n",
       " 'SEC61B+ctrl': array([[0.5263133 , 0.30622345, 0.6074386 , ..., 0.67090774, 0.2180819 ,\n",
       "         0.18682739],\n",
       "        [0.6075001 , 0.5621117 , 0.6028274 , ..., 0.5904167 , 0.4829378 ,\n",
       "         0.57842606],\n",
       "        [0.6225649 , 0.54708534, 0.43849897, ..., 0.5496706 , 0.59285784,\n",
       "         0.5408006 ],\n",
       "        ...,\n",
       "        [0.57547134, 0.40145034, 0.4681406 , ..., 0.6192466 , 0.5286971 ,\n",
       "         0.38373283],\n",
       "        [0.53787154, 0.32596895, 0.45053366, ..., 0.6105754 , 0.35290036,\n",
       "         0.49385414],\n",
       "        [0.483358  , 0.3955187 , 0.5681245 , ..., 0.5584397 , 0.36684227,\n",
       "         0.5289867 ]], dtype=float32),\n",
       " 'SEC61G+ctrl': array([[0.5253785 , 0.30509603, 0.6166451 , ..., 0.66626143, 0.2198003 ,\n",
       "         0.19012488],\n",
       "        [0.5993502 , 0.5640586 , 0.60753727, ..., 0.5987378 , 0.4786441 ,\n",
       "         0.5654017 ],\n",
       "        [0.6178123 , 0.5505634 , 0.43198785, ..., 0.538154  , 0.597215  ,\n",
       "         0.5424414 ],\n",
       "        ...,\n",
       "        [0.574993  , 0.40903938, 0.46702585, ..., 0.6280262 , 0.53271824,\n",
       "         0.3929547 ],\n",
       "        [0.528855  , 0.32161924, 0.4478624 , ..., 0.6193935 , 0.3536241 ,\n",
       "         0.49266788],\n",
       "        [0.4863747 , 0.38798264, 0.5672163 , ..., 0.56780684, 0.35854927,\n",
       "         0.5271651 ]], dtype=float32),\n",
       " 'SEC63+ctrl': array([[0.52950346, 0.30481333, 0.60862035, ..., 0.66732067, 0.21929862,\n",
       "         0.19154666],\n",
       "        [0.6102128 , 0.55574745, 0.5966735 , ..., 0.5914059 , 0.48562232,\n",
       "         0.57659125],\n",
       "        [0.6194096 , 0.5434844 , 0.4350612 , ..., 0.55861986, 0.58288765,\n",
       "         0.5345391 ],\n",
       "        ...,\n",
       "        [0.5737175 , 0.4027951 , 0.47056785, ..., 0.6130057 , 0.5297022 ,\n",
       "         0.38556284],\n",
       "        [0.5422014 , 0.32593784, 0.44941065, ..., 0.60990095, 0.35346186,\n",
       "         0.49534708],\n",
       "        [0.48646215, 0.39933896, 0.5718586 , ..., 0.5568121 , 0.3660999 ,\n",
       "         0.52887166]], dtype=float32),\n",
       " 'SEL1L+ctrl': array([[0.5235823 , 0.2998697 , 0.6157769 , ..., 0.66821295, 0.20515043,\n",
       "         0.19226052],\n",
       "        [0.6094282 , 0.56024873, 0.60639614, ..., 0.5944073 , 0.48690575,\n",
       "         0.582514  ],\n",
       "        [0.62180895, 0.5487257 , 0.43196625, ..., 0.547947  , 0.6034132 ,\n",
       "         0.5402216 ],\n",
       "        ...,\n",
       "        [0.5811879 , 0.3947333 , 0.46661243, ..., 0.6176477 , 0.5309978 ,\n",
       "         0.38279867],\n",
       "        [0.53296304, 0.32027668, 0.44846928, ..., 0.61632013, 0.34407312,\n",
       "         0.4932456 ],\n",
       "        [0.48331085, 0.3957794 , 0.5698194 , ..., 0.55997396, 0.35734925,\n",
       "         0.5267256 ]], dtype=float32),\n",
       " 'SLC35B1+ctrl': array([[0.5303615 , 0.30395854, 0.6087956 , ..., 0.6656305 , 0.21591128,\n",
       "         0.19094591],\n",
       "        [0.6109201 , 0.55601686, 0.5935735 , ..., 0.5940725 , 0.48106423,\n",
       "         0.5807441 ],\n",
       "        [0.6172854 , 0.5433529 , 0.43486664, ..., 0.55550987, 0.5973248 ,\n",
       "         0.53733593],\n",
       "        ...,\n",
       "        [0.572668  , 0.39855206, 0.47055417, ..., 0.6169434 , 0.5303551 ,\n",
       "         0.3862232 ],\n",
       "        [0.5412192 , 0.32356608, 0.44790944, ..., 0.60506856, 0.34768534,\n",
       "         0.49432588],\n",
       "        [0.4846605 , 0.39476115, 0.57128406, ..., 0.5567883 , 0.36776507,\n",
       "         0.5273993 ]], dtype=float32),\n",
       " 'SLC39A7+ctrl': array([[0.5264451 , 0.31219843, 0.6151494 , ..., 0.6638514 , 0.21670292,\n",
       "         0.19651628],\n",
       "        [0.61447376, 0.5641733 , 0.59483635, ..., 0.5929171 , 0.49037158,\n",
       "         0.58758086],\n",
       "        [0.62011385, 0.5423476 , 0.43616268, ..., 0.55292577, 0.5971137 ,\n",
       "         0.5399327 ],\n",
       "        ...,\n",
       "        [0.5741814 , 0.3920213 , 0.46879363, ..., 0.61911136, 0.5334177 ,\n",
       "         0.38751206],\n",
       "        [0.5364336 , 0.3180378 , 0.44812205, ..., 0.61448026, 0.34744674,\n",
       "         0.4920592 ],\n",
       "        [0.48421037, 0.39907023, 0.5711424 , ..., 0.5571602 , 0.36277765,\n",
       "         0.5287745 ]], dtype=float32),\n",
       " 'SOCS1+ctrl': array([[0.5258435 , 0.30330396, 0.61329174, ..., 0.666054  , 0.21578696,\n",
       "         0.19090809],\n",
       "        [0.60583335, 0.5608248 , 0.60736144, ..., 0.595799  , 0.48043293,\n",
       "         0.57320094],\n",
       "        [0.6205296 , 0.5474477 , 0.43507618, ..., 0.5518241 , 0.5934898 ,\n",
       "         0.53995156],\n",
       "        ...,\n",
       "        [0.57636094, 0.4003464 , 0.46956667, ..., 0.6181625 , 0.5288607 ,\n",
       "         0.38449183],\n",
       "        [0.5352855 , 0.31957874, 0.44881976, ..., 0.6134399 , 0.34807628,\n",
       "         0.49554121],\n",
       "        [0.48272654, 0.39372337, 0.56686914, ..., 0.5577601 , 0.3613001 ,\n",
       "         0.52488405]], dtype=float32),\n",
       " 'SPCS2+ctrl': array([[0.5344896 , 0.30372098, 0.6087135 , ..., 0.66338575, 0.20622557,\n",
       "         0.19285916],\n",
       "        [0.6121515 , 0.5544455 , 0.59422624, ..., 0.59372485, 0.4881584 ,\n",
       "         0.5789929 ],\n",
       "        [0.6133318 , 0.5438564 , 0.42956275, ..., 0.5634479 , 0.5923116 ,\n",
       "         0.53238356],\n",
       "        ...,\n",
       "        [0.5732196 , 0.40359887, 0.4687179 , ..., 0.6151522 , 0.5320616 ,\n",
       "         0.38764974],\n",
       "        [0.53504825, 0.32775456, 0.4470117 , ..., 0.6086742 , 0.35266098,\n",
       "         0.494506  ],\n",
       "        [0.4849704 , 0.39526802, 0.5721673 , ..., 0.5613793 , 0.356848  ,\n",
       "         0.5273776 ]], dtype=float32),\n",
       " 'SPCS3+ctrl': array([[0.52393353, 0.30759564, 0.6229262 , ..., 0.66172016, 0.21724859,\n",
       "         0.19698879],\n",
       "        [0.6065862 , 0.5624557 , 0.6057452 , ..., 0.5923106 , 0.487416  ,\n",
       "         0.56875324],\n",
       "        [0.61483914, 0.5474611 , 0.42775354, ..., 0.54930484, 0.5948162 ,\n",
       "         0.5421951 ],\n",
       "        ...,\n",
       "        [0.5757002 , 0.40667257, 0.4663911 , ..., 0.6193159 , 0.5322877 ,\n",
       "         0.3935969 ],\n",
       "        [0.5350222 , 0.3230352 , 0.4453706 , ..., 0.6155485 , 0.34506622,\n",
       "         0.49599907],\n",
       "        [0.48948383, 0.38688484, 0.5681481 , ..., 0.5636196 , 0.35475826,\n",
       "         0.5285023 ]], dtype=float32),\n",
       " 'SRP68+ctrl': array([[0.5263432 , 0.29893115, 0.6205394 , ..., 0.6558032 , 0.21319352,\n",
       "         0.19140288],\n",
       "        [0.5963223 , 0.55911595, 0.60112333, ..., 0.6131631 , 0.47701797,\n",
       "         0.5566192 ],\n",
       "        [0.6153357 , 0.5474839 , 0.43299818, ..., 0.5441346 , 0.60186213,\n",
       "         0.5456665 ],\n",
       "        ...,\n",
       "        [0.571428  , 0.41191307, 0.46716157, ..., 0.6292855 , 0.53847784,\n",
       "         0.39579073],\n",
       "        [0.52031976, 0.32215807, 0.4430855 , ..., 0.6252571 , 0.35109875,\n",
       "         0.48770833],\n",
       "        [0.48344293, 0.38656285, 0.56925386, ..., 0.5674184 , 0.3498805 ,\n",
       "         0.52061236]], dtype=float32),\n",
       " 'SRP72+ctrl': array([[0.53423154, 0.3004749 , 0.61098164, ..., 0.66360545, 0.20702313,\n",
       "         0.1895826 ],\n",
       "        [0.60758466, 0.555697  , 0.5930818 , ..., 0.6003429 , 0.49249226,\n",
       "         0.5703309 ],\n",
       "        [0.615681  , 0.54313093, 0.43317273, ..., 0.5575231 , 0.59237945,\n",
       "         0.53740597],\n",
       "        ...,\n",
       "        [0.57073253, 0.4032196 , 0.4707208 , ..., 0.6170677 , 0.53575295,\n",
       "         0.38878903],\n",
       "        [0.52410436, 0.3242292 , 0.44810897, ..., 0.6195425 , 0.35629204,\n",
       "         0.48920223],\n",
       "        [0.48284712, 0.39477605, 0.57097536, ..., 0.5600586 , 0.34995627,\n",
       "         0.5255539 ]], dtype=float32),\n",
       " 'SRPRB+ctrl': array([[0.5308884 , 0.29753116, 0.6092474 , ..., 0.65731937, 0.21654385,\n",
       "         0.19123068],\n",
       "        [0.5999674 , 0.55795664, 0.5940824 , ..., 0.6117257 , 0.48201066,\n",
       "         0.56540334],\n",
       "        [0.6124113 , 0.540705  , 0.439246  , ..., 0.5454748 , 0.5925262 ,\n",
       "         0.54144377],\n",
       "        ...,\n",
       "        [0.5693489 , 0.40964538, 0.4683661 , ..., 0.6245988 , 0.53978974,\n",
       "         0.39473352],\n",
       "        [0.52068204, 0.32295576, 0.44615164, ..., 0.6226826 , 0.35842448,\n",
       "         0.48660094],\n",
       "        [0.48218992, 0.38821673, 0.56807804, ..., 0.56484747, 0.35188642,\n",
       "         0.5223477 ]], dtype=float32),\n",
       " 'STT3A+ctrl': array([[0.52890086, 0.30087414, 0.60992056, ..., 0.66858965, 0.22833674,\n",
       "         0.19125997],\n",
       "        [0.6065923 , 0.55216014, 0.6002157 , ..., 0.5952212 , 0.4744178 ,\n",
       "         0.5724231 ],\n",
       "        [0.61436963, 0.54669523, 0.43027514, ..., 0.5549187 , 0.58712596,\n",
       "         0.53641635],\n",
       "        ...,\n",
       "        [0.5749961 , 0.40668523, 0.4682913 , ..., 0.61500037, 0.53082424,\n",
       "         0.38558307],\n",
       "        [0.543578  , 0.32713193, 0.45059726, ..., 0.60995   , 0.35517186,\n",
       "         0.49783915],\n",
       "        [0.48442826, 0.39656946, 0.57153493, ..., 0.5582781 , 0.37253982,\n",
       "         0.5263581 ]], dtype=float32),\n",
       " 'SYVN1+ctrl': array([[0.5272732 , 0.30497718, 0.6119989 , ..., 0.66628486, 0.2086054 ,\n",
       "         0.19228874],\n",
       "        [0.6103589 , 0.5575869 , 0.6002141 , ..., 0.59027773, 0.4850119 ,\n",
       "         0.5769878 ],\n",
       "        [0.61962444, 0.54767925, 0.43206602, ..., 0.5514693 , 0.60070187,\n",
       "         0.539098  ],\n",
       "        ...,\n",
       "        [0.57946867, 0.39869344, 0.46983412, ..., 0.6144395 , 0.53185   ,\n",
       "         0.3846923 ],\n",
       "        [0.5383987 , 0.32351443, 0.4501478 , ..., 0.6102995 , 0.34510604,\n",
       "         0.49286854],\n",
       "        [0.4852827 , 0.4002031 , 0.57094467, ..., 0.5584911 , 0.36361977,\n",
       "         0.5275982 ]], dtype=float32),\n",
       " 'TELO2+ctrl': array([[0.52855843, 0.29773808, 0.6008566 , ..., 0.6676972 , 0.21493831,\n",
       "         0.19297203],\n",
       "        [0.60710186, 0.5521334 , 0.5966483 , ..., 0.59528595, 0.4853945 ,\n",
       "         0.57282823],\n",
       "        [0.61467135, 0.5455565 , 0.43638772, ..., 0.5521701 , 0.58303535,\n",
       "         0.53591245],\n",
       "        ...,\n",
       "        [0.57439953, 0.40608624, 0.47386795, ..., 0.612805  , 0.530096  ,\n",
       "         0.38386333],\n",
       "        [0.53901166, 0.3304052 , 0.45219707, ..., 0.61426127, 0.35570335,\n",
       "         0.49559978],\n",
       "        [0.4849183 , 0.4016493 , 0.5721703 , ..., 0.55865115, 0.36446717,\n",
       "         0.52847964]], dtype=float32),\n",
       " 'TIMM23+ctrl': array([[0.5359782 , 0.30667067, 0.61219496, ..., 0.6556229 , 0.2370965 ,\n",
       "         0.19819239],\n",
       "        [0.6089299 , 0.56211317, 0.60014164, ..., 0.5933856 , 0.47295722,\n",
       "         0.57382214],\n",
       "        [0.61434084, 0.5431384 , 0.42760703, ..., 0.559846  , 0.5966026 ,\n",
       "         0.53267235],\n",
       "        ...,\n",
       "        [0.57416385, 0.4074635 , 0.46734273, ..., 0.61822927, 0.5337464 ,\n",
       "         0.3965612 ],\n",
       "        [0.5445226 , 0.3303894 , 0.44717684, ..., 0.6015845 , 0.35676444,\n",
       "         0.50019604],\n",
       "        [0.48440352, 0.39185095, 0.5652702 , ..., 0.56391656, 0.3773656 ,\n",
       "         0.52727854]], dtype=float32),\n",
       " 'TIMM44+ctrl': array([[0.5235608 , 0.30550265, 0.6178813 , ..., 0.65159565, 0.28120553,\n",
       "         0.20511058],\n",
       "        [0.5970478 , 0.571243  , 0.6134497 , ..., 0.59944624, 0.45856392,\n",
       "         0.5643265 ],\n",
       "        [0.61054236, 0.5509446 , 0.42755413, ..., 0.54180026, 0.57897085,\n",
       "         0.5338042 ],\n",
       "        ...,\n",
       "        [0.57245284, 0.42004645, 0.46166664, ..., 0.62725824, 0.5386933 ,\n",
       "         0.40452495],\n",
       "        [0.5573597 , 0.3389571 , 0.44764692, ..., 0.5956086 , 0.35816732,\n",
       "         0.5202311 ],\n",
       "        [0.4873523 , 0.38367552, 0.5595367 , ..., 0.57371014, 0.39567733,\n",
       "         0.5276621 ]], dtype=float32),\n",
       " 'TMED2+ctrl': array([[0.52954835, 0.30748305, 0.60731715, ..., 0.6662694 , 0.21039644,\n",
       "         0.19632387],\n",
       "        [0.6111266 , 0.5524741 , 0.589536  , ..., 0.59345365, 0.49039564,\n",
       "         0.5817958 ],\n",
       "        [0.6150667 , 0.5397338 , 0.4349136 , ..., 0.5609676 , 0.5936504 ,\n",
       "         0.5333158 ],\n",
       "        ...,\n",
       "        [0.5709741 , 0.40043163, 0.47159868, ..., 0.6144693 , 0.53068763,\n",
       "         0.38440165],\n",
       "        [0.53975785, 0.32248   , 0.44868124, ..., 0.6112519 , 0.34721896,\n",
       "         0.49069384],\n",
       "        [0.4854987 , 0.39744043, 0.5734496 , ..., 0.55838203, 0.36403188,\n",
       "         0.52837914]], dtype=float32),\n",
       " 'TMED10+ctrl': array([[0.5286744 , 0.30858648, 0.61173433, ..., 0.6648563 , 0.21953309,\n",
       "         0.19327174],\n",
       "        [0.60999435, 0.5588778 , 0.5950892 , ..., 0.5926166 , 0.48353046,\n",
       "         0.57982117],\n",
       "        [0.61811465, 0.54427564, 0.43362248, ..., 0.5548038 , 0.5935054 ,\n",
       "         0.53465354],\n",
       "        ...,\n",
       "        [0.5718279 , 0.40261018, 0.47071162, ..., 0.6163972 , 0.53183126,\n",
       "         0.38776812],\n",
       "        [0.54034346, 0.3252089 , 0.4472743 , ..., 0.6111604 , 0.350755  ,\n",
       "         0.4946497 ],\n",
       "        [0.48606902, 0.3991105 , 0.57113945, ..., 0.55838174, 0.36844754,\n",
       "         0.5284785 ]], dtype=float32),\n",
       " 'TMEM167A+ctrl': array([[0.5225266 , 0.3089376 , 0.6203048 , ..., 0.66242635, 0.22074392,\n",
       "         0.1948248 ],\n",
       "        [0.6101128 , 0.564878  , 0.602712  , ..., 0.59177786, 0.48295185,\n",
       "         0.5805556 ],\n",
       "        [0.62055814, 0.545954  , 0.43583712, ..., 0.54738146, 0.59597474,\n",
       "         0.5425631 ],\n",
       "        ...,\n",
       "        [0.5734451 , 0.40034446, 0.4656308 , ..., 0.6192936 , 0.53255486,\n",
       "         0.38928387],\n",
       "        [0.5355742 , 0.3207766 , 0.44655305, ..., 0.61244076, 0.3472338 ,\n",
       "         0.4964917 ],\n",
       "        [0.48516867, 0.39311385, 0.566184  , ..., 0.5587761 , 0.36502266,\n",
       "         0.52753174]], dtype=float32),\n",
       " 'TTI1+ctrl': array([[0.51339257, 0.29667795, 0.594108  , ..., 0.66514915, 0.22049429,\n",
       "         0.19551916],\n",
       "        [0.59912944, 0.5551243 , 0.59803486, ..., 0.6030819 , 0.47739255,\n",
       "         0.56538475],\n",
       "        [0.61439097, 0.54290706, 0.4475869 , ..., 0.5354024 , 0.5803304 ,\n",
       "         0.5448603 ],\n",
       "        ...,\n",
       "        [0.5758806 , 0.40755966, 0.47387183, ..., 0.62351996, 0.530158  ,\n",
       "         0.37895408],\n",
       "        [0.5352931 , 0.32594478, 0.4496089 , ..., 0.6141208 , 0.35040936,\n",
       "         0.49440613],\n",
       "        [0.48662308, 0.39972106, 0.56841135, ..., 0.5643633 , 0.36573726,\n",
       "         0.52572846]], dtype=float32),\n",
       " 'TTI2+ctrl': array([[0.5304876 , 0.29640338, 0.6041449 , ..., 0.66807365, 0.21474293,\n",
       "         0.19288537],\n",
       "        [0.60581857, 0.55161625, 0.5976017 , ..., 0.59775805, 0.4806125 ,\n",
       "         0.5732296 ],\n",
       "        [0.6146379 , 0.54465836, 0.43302128, ..., 0.5574558 , 0.5909311 ,\n",
       "         0.53347504],\n",
       "        ...,\n",
       "        [0.57262486, 0.40426937, 0.47178695, ..., 0.61352354, 0.53152514,\n",
       "         0.38477165],\n",
       "        [0.5390695 , 0.32936573, 0.44934815, ..., 0.60674065, 0.35169327,\n",
       "         0.49278557],\n",
       "        [0.48593214, 0.3989478 , 0.5728468 , ..., 0.5567296 , 0.3688982 ,\n",
       "         0.52733743]], dtype=float32),\n",
       " 'UFL1+ctrl': array([[0.5287332 , 0.29837832, 0.6117824 , ..., 0.66822886, 0.21877664,\n",
       "         0.19108003],\n",
       "        [0.60959804, 0.5564659 , 0.6007567 , ..., 0.58784676, 0.47971022,\n",
       "         0.5778317 ],\n",
       "        [0.6203272 , 0.5483957 , 0.42953703, ..., 0.5556063 , 0.6007192 ,\n",
       "         0.5352721 ],\n",
       "        ...,\n",
       "        [0.5772609 , 0.401089  , 0.47102514, ..., 0.60950583, 0.5324162 ,\n",
       "         0.38722035],\n",
       "        [0.54836255, 0.3284516 , 0.4487532 , ..., 0.6000184 , 0.34350476,\n",
       "         0.49619052],\n",
       "        [0.48650634, 0.40062088, 0.56913686, ..., 0.55456966, 0.37729606,\n",
       "         0.5304094 ]], dtype=float32),\n",
       " 'UFM1+ctrl': array([[0.5288518 , 0.30274367, 0.60807014, ..., 0.66530496, 0.21984056,\n",
       "         0.19311519],\n",
       "        [0.6085467 , 0.5541448 , 0.602627  , ..., 0.59129345, 0.4796841 ,\n",
       "         0.57384026],\n",
       "        [0.61844265, 0.5485588 , 0.4320379 , ..., 0.5531917 , 0.59049046,\n",
       "         0.536143  ],\n",
       "        ...,\n",
       "        [0.5777868 , 0.4042456 , 0.47169802, ..., 0.6145814 , 0.5316956 ,\n",
       "         0.3864399 ],\n",
       "        [0.5445999 , 0.3286281 , 0.45048532, ..., 0.6060786 , 0.35169902,\n",
       "         0.4950499 ],\n",
       "        [0.4847615 , 0.3981322 , 0.5722084 , ..., 0.55322516, 0.37082714,\n",
       "         0.5294414 ]], dtype=float32),\n",
       " 'XRN1+ctrl': array([[0.5335968 , 0.31115127, 0.5906044 , ..., 0.67353094, 0.22927208,\n",
       "         0.18578468],\n",
       "        [0.6183317 , 0.557028  , 0.59917086, ..., 0.5771857 , 0.48490128,\n",
       "         0.58921015],\n",
       "        [0.61590964, 0.54202545, 0.44008255, ..., 0.5595777 , 0.57433444,\n",
       "         0.526468  ],\n",
       "        ...,\n",
       "        [0.5775005 , 0.39820826, 0.47381863, ..., 0.6011602 , 0.53047794,\n",
       "         0.37951708],\n",
       "        [0.5586741 , 0.33153182, 0.4602812 , ..., 0.5909083 , 0.3556532 ,\n",
       "         0.49924833],\n",
       "        [0.48486033, 0.4143721 , 0.5733518 , ..., 0.54859114, 0.3905791 ,\n",
       "         0.53179216]], dtype=float32),\n",
       " 'YIPF5+ctrl': array([[0.5222302 , 0.30552217, 0.6204526 , ..., 0.66554576, 0.21493217,\n",
       "         0.19776894],\n",
       "        [0.60890645, 0.5635605 , 0.60913664, ..., 0.5937078 , 0.47939608,\n",
       "         0.5765347 ],\n",
       "        [0.6240819 , 0.5505489 , 0.43634915, ..., 0.5451769 , 0.6056157 ,\n",
       "         0.5448708 ],\n",
       "        ...,\n",
       "        [0.57695764, 0.4030108 , 0.46776316, ..., 0.6224129 , 0.53139883,\n",
       "         0.38994592],\n",
       "        [0.5368214 , 0.3195201 , 0.44629776, ..., 0.6135405 , 0.34275243,\n",
       "         0.4953768 ],\n",
       "        [0.48651475, 0.39036933, 0.5673684 , ..., 0.5603998 , 0.36238858,\n",
       "         0.52953607]], dtype=float32),\n",
       " 'ZNF326+ctrl': array([[0.5427556 , 0.28564355, 0.6381307 , ..., 0.6308902 , 0.21762252,\n",
       "         0.2040975 ],\n",
       "        [0.5809941 , 0.5518788 , 0.59544826, ..., 0.663357  , 0.45015374,\n",
       "         0.48967323],\n",
       "        [0.62204057, 0.5932382 , 0.4024228 , ..., 0.504114  , 0.67459756,\n",
       "         0.58727086],\n",
       "        ...,\n",
       "        [0.59834176, 0.43493345, 0.47800925, ..., 0.6690048 , 0.53288555,\n",
       "         0.4297868 ],\n",
       "        [0.48405832, 0.32149208, 0.43486628, ..., 0.6340006 , 0.37264627,\n",
       "         0.474927  ],\n",
       "        [0.47232747, 0.34914893, 0.5625858 , ..., 0.57637316, 0.3133657 ,\n",
       "         0.4963733 ]], dtype=float32),\n",
       " 'ctrl': array([[0.5330176 , 0.29152253, 0.6151563 , ..., 0.66443694, 0.20183238,\n",
       "         0.19455159],\n",
       "        [0.60265464, 0.5387089 , 0.6020169 , ..., 0.6068173 , 0.47488025,\n",
       "         0.5526226 ],\n",
       "        [0.62034684, 0.5633958 , 0.42562145, ..., 0.55642426, 0.61323464,\n",
       "         0.54031736],\n",
       "        ...,\n",
       "        [0.5826416 , 0.41709894, 0.48086533, ..., 0.61549526, 0.53390956,\n",
       "         0.39379135],\n",
       "        [0.53277516, 0.3277042 , 0.44372857, ..., 0.6128893 , 0.34909374,\n",
       "         0.48816258],\n",
       "        [0.48206308, 0.39608857, 0.5670579 , ..., 0.5495151 , 0.35842884,\n",
       "         0.5246871 ]], dtype=float32)}"
      ]
     },
     "execution_count": 34,
     "metadata": {},
     "output_type": "execute_result"
    }
   ],
   "source": [
    "groups = adata_t.obs.groupby('condition').groups\n",
    "dict_sum_condition_mean = dict_sum_condition.copy()\n",
    "for i in groups.keys():\n",
    "    dict_sum_condition_mean[i] = dict_sum_condition_mean[i]/len(groups[i])\n",
    "gene_vocab_idx = all_gene_ids[0].clone().detach().cpu().numpy()\n",
    "dict_sum_condition_mean"
   ]
  },
  {
   "cell_type": "code",
   "execution_count": 35,
   "id": "2b93f795",
   "metadata": {},
   "outputs": [
    {
     "data": {
      "text/plain": [
       "76"
      ]
     },
     "execution_count": 35,
     "metadata": {},
     "output_type": "execute_result"
    }
   ],
   "source": [
    "perturb_conditions = list(dict_sum_condition_mean.keys())\n",
    "len(perturb_conditions)"
   ]
  },
  {
   "cell_type": "code",
   "execution_count": 36,
   "id": "0173d689",
   "metadata": {},
   "outputs": [],
   "source": [
    "perturb_conditions.remove('ctrl')"
   ]
  },
  {
   "cell_type": "code",
   "execution_count": 37,
   "id": "02ce48c9",
   "metadata": {},
   "outputs": [],
   "source": [
    "assert 'ctrl' not in perturb_conditions"
   ]
  },
  {
   "cell_type": "markdown",
   "id": "9fd877e1",
   "metadata": {},
   "source": [
    "#### ✅ Note\n",
    "Calculate consine distance between control and each perturbation conditions"
   ]
  },
  {
   "cell_type": "code",
   "execution_count": 38,
   "id": "63d15689",
   "metadata": {},
   "outputs": [],
   "source": [
    "from sklearn.metrics.pairwise import cosine_distances"
   ]
  },
  {
   "cell_type": "code",
   "execution_count": 39,
   "id": "dca76801",
   "metadata": {},
   "outputs": [],
   "source": [
    "rank_list = []"
   ]
  },
  {
   "cell_type": "code",
   "execution_count": 40,
   "id": "61f9c6be",
   "metadata": {},
   "outputs": [
    {
     "name": "stderr",
     "output_type": "stream",
     "text": [
      "1267it [00:00, 3083.87it/s]\n"
     ]
    },
    {
     "name": "stdout",
     "output_type": "stream",
     "text": [
      "AMIGO3+ctrl 569\n"
     ]
    },
    {
     "name": "stderr",
     "output_type": "stream",
     "text": [
      "1267it [00:00, 3054.00it/s]\n"
     ]
    },
    {
     "name": "stdout",
     "output_type": "stream",
     "text": [
      "ARHGAP22+ctrl 175\n"
     ]
    },
    {
     "name": "stderr",
     "output_type": "stream",
     "text": [
      "1267it [00:00, 3114.26it/s]\n"
     ]
    },
    {
     "name": "stdout",
     "output_type": "stream",
     "text": [
      "ASCC3+ctrl 15\n"
     ]
    },
    {
     "name": "stderr",
     "output_type": "stream",
     "text": [
      "1267it [00:00, 3008.22it/s]\n"
     ]
    },
    {
     "name": "stdout",
     "output_type": "stream",
     "text": [
      "BHLHE40+ctrl 584\n"
     ]
    },
    {
     "name": "stderr",
     "output_type": "stream",
     "text": [
      "1267it [00:00, 3071.66it/s]\n"
     ]
    },
    {
     "name": "stdout",
     "output_type": "stream",
     "text": [
      "CAD+ctrl 257\n"
     ]
    },
    {
     "name": "stderr",
     "output_type": "stream",
     "text": [
      "1267it [00:00, 2748.08it/s]\n"
     ]
    },
    {
     "name": "stdout",
     "output_type": "stream",
     "text": [
      "CCND3+ctrl 14\n"
     ]
    },
    {
     "name": "stderr",
     "output_type": "stream",
     "text": [
      "1267it [00:00, 2996.84it/s]\n"
     ]
    },
    {
     "name": "stdout",
     "output_type": "stream",
     "text": [
      "CHERP+ctrl 3\n"
     ]
    },
    {
     "name": "stderr",
     "output_type": "stream",
     "text": [
      "1267it [00:00, 3051.56it/s]\n"
     ]
    },
    {
     "name": "stdout",
     "output_type": "stream",
     "text": [
      "COPB1+ctrl 312\n"
     ]
    },
    {
     "name": "stderr",
     "output_type": "stream",
     "text": [
      "1267it [00:00, 2928.79it/s]\n"
     ]
    },
    {
     "name": "stdout",
     "output_type": "stream",
     "text": [
      "COPZ1+ctrl 8\n"
     ]
    },
    {
     "name": "stderr",
     "output_type": "stream",
     "text": [
      "1267it [00:00, 3036.30it/s]\n"
     ]
    },
    {
     "name": "stdout",
     "output_type": "stream",
     "text": [
      "CREB1+ctrl 85\n"
     ]
    },
    {
     "name": "stderr",
     "output_type": "stream",
     "text": [
      "1267it [00:00, 3067.71it/s]\n"
     ]
    },
    {
     "name": "stdout",
     "output_type": "stream",
     "text": [
      "DAD1+ctrl 0\n"
     ]
    },
    {
     "name": "stderr",
     "output_type": "stream",
     "text": [
      "1267it [00:00, 2983.96it/s]\n"
     ]
    },
    {
     "name": "stdout",
     "output_type": "stream",
     "text": [
      "DDIT3+ctrl 231\n"
     ]
    },
    {
     "name": "stderr",
     "output_type": "stream",
     "text": [
      "1267it [00:00, 2906.21it/s]\n"
     ]
    },
    {
     "name": "stdout",
     "output_type": "stream",
     "text": [
      "DDOST+ctrl 18\n"
     ]
    },
    {
     "name": "stderr",
     "output_type": "stream",
     "text": [
      "1267it [00:00, 2940.82it/s]\n"
     ]
    },
    {
     "name": "stdout",
     "output_type": "stream",
     "text": [
      "DDRGK1+ctrl 6\n"
     ]
    },
    {
     "name": "stderr",
     "output_type": "stream",
     "text": [
      "1267it [00:00, 2977.28it/s]\n"
     ]
    },
    {
     "name": "stdout",
     "output_type": "stream",
     "text": [
      "DERL2+ctrl 23\n"
     ]
    },
    {
     "name": "stderr",
     "output_type": "stream",
     "text": [
      "1267it [00:00, 3002.14it/s]\n"
     ]
    },
    {
     "name": "stdout",
     "output_type": "stream",
     "text": [
      "DHDDS+ctrl 385\n"
     ]
    },
    {
     "name": "stderr",
     "output_type": "stream",
     "text": [
      "1267it [00:00, 3206.87it/s]\n"
     ]
    },
    {
     "name": "stdout",
     "output_type": "stream",
     "text": [
      "DNAJC19+ctrl 3\n"
     ]
    },
    {
     "name": "stderr",
     "output_type": "stream",
     "text": [
      "1267it [00:00, 3399.98it/s]\n"
     ]
    },
    {
     "name": "stdout",
     "output_type": "stream",
     "text": [
      "EIF2B2+ctrl 345\n"
     ]
    },
    {
     "name": "stderr",
     "output_type": "stream",
     "text": [
      "1267it [00:00, 3337.59it/s]\n"
     ]
    },
    {
     "name": "stdout",
     "output_type": "stream",
     "text": [
      "EIF2B3+ctrl 12\n"
     ]
    },
    {
     "name": "stderr",
     "output_type": "stream",
     "text": [
      "1267it [00:00, 3501.81it/s]\n"
     ]
    },
    {
     "name": "stdout",
     "output_type": "stream",
     "text": [
      "EIF2B4+ctrl 21\n"
     ]
    },
    {
     "name": "stderr",
     "output_type": "stream",
     "text": [
      "1267it [00:00, 3396.39it/s]\n"
     ]
    },
    {
     "name": "stdout",
     "output_type": "stream",
     "text": [
      "EIF2S1+ctrl 30\n"
     ]
    },
    {
     "name": "stderr",
     "output_type": "stream",
     "text": [
      "1267it [00:00, 3282.66it/s]\n"
     ]
    },
    {
     "name": "stdout",
     "output_type": "stream",
     "text": [
      "FARSB+ctrl 6\n"
     ]
    },
    {
     "name": "stderr",
     "output_type": "stream",
     "text": [
      "1267it [00:00, 3418.82it/s]\n"
     ]
    },
    {
     "name": "stdout",
     "output_type": "stream",
     "text": [
      "FECH+ctrl 65\n"
     ]
    },
    {
     "name": "stderr",
     "output_type": "stream",
     "text": [
      "1267it [00:00, 3380.86it/s]\n"
     ]
    },
    {
     "name": "stdout",
     "output_type": "stream",
     "text": [
      "GBF1+ctrl 15\n"
     ]
    },
    {
     "name": "stderr",
     "output_type": "stream",
     "text": [
      "1267it [00:00, 3269.42it/s]\n"
     ]
    },
    {
     "name": "stdout",
     "output_type": "stream",
     "text": [
      "GMPPB+ctrl 416\n"
     ]
    },
    {
     "name": "stderr",
     "output_type": "stream",
     "text": [
      "1267it [00:00, 3318.29it/s]\n"
     ]
    },
    {
     "name": "stdout",
     "output_type": "stream",
     "text": [
      "GNPNAT1+ctrl 0\n"
     ]
    },
    {
     "name": "stderr",
     "output_type": "stream",
     "text": [
      "1267it [00:00, 3313.07it/s]\n"
     ]
    },
    {
     "name": "stdout",
     "output_type": "stream",
     "text": [
      "HSD17B12+ctrl 12\n"
     ]
    },
    {
     "name": "stderr",
     "output_type": "stream",
     "text": [
      "1267it [00:00, 3465.52it/s]\n"
     ]
    },
    {
     "name": "stdout",
     "output_type": "stream",
     "text": [
      "HSPA5+ctrl 5\n"
     ]
    },
    {
     "name": "stderr",
     "output_type": "stream",
     "text": [
      "1267it [00:00, 3282.56it/s]\n"
     ]
    },
    {
     "name": "stdout",
     "output_type": "stream",
     "text": [
      "HSPA9+ctrl 7\n"
     ]
    },
    {
     "name": "stderr",
     "output_type": "stream",
     "text": [
      "1267it [00:00, 3435.40it/s]\n"
     ]
    },
    {
     "name": "stdout",
     "output_type": "stream",
     "text": [
      "HYOU1+ctrl 26\n"
     ]
    },
    {
     "name": "stderr",
     "output_type": "stream",
     "text": [
      "1267it [00:00, 3096.23it/s]\n"
     ]
    },
    {
     "name": "stdout",
     "output_type": "stream",
     "text": [
      "IARS2+ctrl 138\n"
     ]
    },
    {
     "name": "stderr",
     "output_type": "stream",
     "text": [
      "1267it [00:00, 2974.29it/s]\n"
     ]
    },
    {
     "name": "stdout",
     "output_type": "stream",
     "text": [
      "IDH3A+ctrl 11\n"
     ]
    },
    {
     "name": "stderr",
     "output_type": "stream",
     "text": [
      "1267it [00:00, 3078.08it/s]\n"
     ]
    },
    {
     "name": "stdout",
     "output_type": "stream",
     "text": [
      "IER3IP1+ctrl 33\n"
     ]
    },
    {
     "name": "stderr",
     "output_type": "stream",
     "text": [
      "1267it [00:00, 3038.53it/s]\n"
     ]
    },
    {
     "name": "stdout",
     "output_type": "stream",
     "text": [
      "KCTD16+ctrl 267\n"
     ]
    },
    {
     "name": "stderr",
     "output_type": "stream",
     "text": [
      "1267it [00:00, 2862.06it/s]\n"
     ]
    },
    {
     "name": "stdout",
     "output_type": "stream",
     "text": [
      "MANF+ctrl 6\n"
     ]
    },
    {
     "name": "stderr",
     "output_type": "stream",
     "text": [
      "1267it [00:00, 2914.48it/s]\n"
     ]
    },
    {
     "name": "stdout",
     "output_type": "stream",
     "text": [
      "MRGBP+ctrl 0\n"
     ]
    },
    {
     "name": "stderr",
     "output_type": "stream",
     "text": [
      "1267it [00:00, 3187.70it/s]\n"
     ]
    },
    {
     "name": "stdout",
     "output_type": "stream",
     "text": [
      "MRPL39+ctrl 3\n"
     ]
    },
    {
     "name": "stderr",
     "output_type": "stream",
     "text": [
      "1267it [00:00, 3066.49it/s]\n"
     ]
    },
    {
     "name": "stdout",
     "output_type": "stream",
     "text": [
      "MTHFD1+ctrl 53\n"
     ]
    },
    {
     "name": "stderr",
     "output_type": "stream",
     "text": [
      "1267it [00:00, 2818.07it/s]\n"
     ]
    },
    {
     "name": "stdout",
     "output_type": "stream",
     "text": [
      "NEDD8+ctrl 5\n"
     ]
    },
    {
     "name": "stderr",
     "output_type": "stream",
     "text": [
      "1267it [00:00, 2992.69it/s]\n"
     ]
    },
    {
     "name": "stdout",
     "output_type": "stream",
     "text": [
      "OST4+ctrl 3\n"
     ]
    },
    {
     "name": "stderr",
     "output_type": "stream",
     "text": [
      "1267it [00:00, 2950.90it/s]\n"
     ]
    },
    {
     "name": "stdout",
     "output_type": "stream",
     "text": [
      "P4HB+ctrl 2\n"
     ]
    },
    {
     "name": "stderr",
     "output_type": "stream",
     "text": [
      "1267it [00:00, 2946.31it/s]\n"
     ]
    },
    {
     "name": "stdout",
     "output_type": "stream",
     "text": [
      "PDIA6+ctrl 0\n"
     ]
    },
    {
     "name": "stderr",
     "output_type": "stream",
     "text": [
      "1267it [00:00, 3033.95it/s]\n"
     ]
    },
    {
     "name": "stdout",
     "output_type": "stream",
     "text": [
      "PPWD1+ctrl 3\n"
     ]
    },
    {
     "name": "stderr",
     "output_type": "stream",
     "text": [
      "1267it [00:00, 3216.80it/s]\n"
     ]
    },
    {
     "name": "stdout",
     "output_type": "stream",
     "text": [
      "PSMD4+ctrl 35\n"
     ]
    },
    {
     "name": "stderr",
     "output_type": "stream",
     "text": [
      "1267it [00:00, 2954.79it/s]\n"
     ]
    },
    {
     "name": "stdout",
     "output_type": "stream",
     "text": [
      "PTDSS1+ctrl 10\n"
     ]
    },
    {
     "name": "stderr",
     "output_type": "stream",
     "text": [
      "1267it [00:00, 2974.08it/s]\n"
     ]
    },
    {
     "name": "stdout",
     "output_type": "stream",
     "text": [
      "SAMM50+ctrl 21\n"
     ]
    },
    {
     "name": "stderr",
     "output_type": "stream",
     "text": [
      "1267it [00:00, 3116.42it/s]\n"
     ]
    },
    {
     "name": "stdout",
     "output_type": "stream",
     "text": [
      "SCYL1+ctrl 1\n"
     ]
    },
    {
     "name": "stderr",
     "output_type": "stream",
     "text": [
      "1267it [00:00, 3064.53it/s]\n"
     ]
    },
    {
     "name": "stdout",
     "output_type": "stream",
     "text": [
      "SEC61A1+ctrl 82\n"
     ]
    },
    {
     "name": "stderr",
     "output_type": "stream",
     "text": [
      "1267it [00:00, 3084.89it/s]\n"
     ]
    },
    {
     "name": "stdout",
     "output_type": "stream",
     "text": [
      "SEC61B+ctrl 0\n"
     ]
    },
    {
     "name": "stderr",
     "output_type": "stream",
     "text": [
      "1267it [00:00, 2993.49it/s]\n"
     ]
    },
    {
     "name": "stdout",
     "output_type": "stream",
     "text": [
      "SEC61G+ctrl 1\n"
     ]
    },
    {
     "name": "stderr",
     "output_type": "stream",
     "text": [
      "1267it [00:00, 3040.64it/s]\n"
     ]
    },
    {
     "name": "stdout",
     "output_type": "stream",
     "text": [
      "SEC63+ctrl 7\n"
     ]
    },
    {
     "name": "stderr",
     "output_type": "stream",
     "text": [
      "1267it [00:00, 3063.29it/s]\n"
     ]
    },
    {
     "name": "stdout",
     "output_type": "stream",
     "text": [
      "SEL1L+ctrl 18\n"
     ]
    },
    {
     "name": "stderr",
     "output_type": "stream",
     "text": [
      "1267it [00:00, 2992.03it/s]\n"
     ]
    },
    {
     "name": "stdout",
     "output_type": "stream",
     "text": [
      "SLC35B1+ctrl 11\n"
     ]
    },
    {
     "name": "stderr",
     "output_type": "stream",
     "text": [
      "1267it [00:00, 2970.52it/s]\n"
     ]
    },
    {
     "name": "stdout",
     "output_type": "stream",
     "text": [
      "SLC39A7+ctrl 77\n"
     ]
    },
    {
     "name": "stderr",
     "output_type": "stream",
     "text": [
      "1267it [00:00, 2950.89it/s]\n"
     ]
    },
    {
     "name": "stdout",
     "output_type": "stream",
     "text": [
      "SOCS1+ctrl 754\n"
     ]
    },
    {
     "name": "stderr",
     "output_type": "stream",
     "text": [
      "1267it [00:00, 2967.80it/s]\n"
     ]
    },
    {
     "name": "stdout",
     "output_type": "stream",
     "text": [
      "SPCS2+ctrl 2\n"
     ]
    },
    {
     "name": "stderr",
     "output_type": "stream",
     "text": [
      "1267it [00:00, 2971.31it/s]\n"
     ]
    },
    {
     "name": "stdout",
     "output_type": "stream",
     "text": [
      "SPCS3+ctrl 12\n"
     ]
    },
    {
     "name": "stderr",
     "output_type": "stream",
     "text": [
      "1267it [00:00, 2991.84it/s]\n"
     ]
    },
    {
     "name": "stdout",
     "output_type": "stream",
     "text": [
      "SRP68+ctrl 63\n"
     ]
    },
    {
     "name": "stderr",
     "output_type": "stream",
     "text": [
      "1267it [00:00, 3045.77it/s]\n"
     ]
    },
    {
     "name": "stdout",
     "output_type": "stream",
     "text": [
      "SRP72+ctrl 1\n"
     ]
    },
    {
     "name": "stderr",
     "output_type": "stream",
     "text": [
      "1267it [00:00, 2841.09it/s]\n"
     ]
    },
    {
     "name": "stdout",
     "output_type": "stream",
     "text": [
      "SRPRB+ctrl 81\n"
     ]
    },
    {
     "name": "stderr",
     "output_type": "stream",
     "text": [
      "1267it [00:00, 2817.32it/s]\n"
     ]
    },
    {
     "name": "stdout",
     "output_type": "stream",
     "text": [
      "STT3A+ctrl 20\n"
     ]
    },
    {
     "name": "stderr",
     "output_type": "stream",
     "text": [
      "1267it [00:00, 2907.96it/s]\n"
     ]
    },
    {
     "name": "stdout",
     "output_type": "stream",
     "text": [
      "SYVN1+ctrl 4\n"
     ]
    },
    {
     "name": "stderr",
     "output_type": "stream",
     "text": [
      "1267it [00:00, 3071.55it/s]\n"
     ]
    },
    {
     "name": "stdout",
     "output_type": "stream",
     "text": [
      "TELO2+ctrl 11\n"
     ]
    },
    {
     "name": "stderr",
     "output_type": "stream",
     "text": [
      "1267it [00:00, 3217.80it/s]\n"
     ]
    },
    {
     "name": "stdout",
     "output_type": "stream",
     "text": [
      "TIMM23+ctrl 4\n"
     ]
    },
    {
     "name": "stderr",
     "output_type": "stream",
     "text": [
      "1267it [00:00, 2910.08it/s]\n"
     ]
    },
    {
     "name": "stdout",
     "output_type": "stream",
     "text": [
      "TIMM44+ctrl 53\n"
     ]
    },
    {
     "name": "stderr",
     "output_type": "stream",
     "text": [
      "1267it [00:00, 2979.27it/s]\n"
     ]
    },
    {
     "name": "stdout",
     "output_type": "stream",
     "text": [
      "TMED2+ctrl 0\n"
     ]
    },
    {
     "name": "stderr",
     "output_type": "stream",
     "text": [
      "1267it [00:00, 2965.33it/s]\n"
     ]
    },
    {
     "name": "stdout",
     "output_type": "stream",
     "text": [
      "TMED10+ctrl 15\n"
     ]
    },
    {
     "name": "stderr",
     "output_type": "stream",
     "text": [
      "1267it [00:00, 3087.15it/s]\n"
     ]
    },
    {
     "name": "stdout",
     "output_type": "stream",
     "text": [
      "TMEM167A+ctrl 6\n"
     ]
    },
    {
     "name": "stderr",
     "output_type": "stream",
     "text": [
      "1267it [00:00, 2938.55it/s]\n"
     ]
    },
    {
     "name": "stdout",
     "output_type": "stream",
     "text": [
      "TTI1+ctrl 77\n"
     ]
    },
    {
     "name": "stderr",
     "output_type": "stream",
     "text": [
      "1267it [00:00, 3100.57it/s]\n"
     ]
    },
    {
     "name": "stdout",
     "output_type": "stream",
     "text": [
      "TTI2+ctrl 295\n"
     ]
    },
    {
     "name": "stderr",
     "output_type": "stream",
     "text": [
      "1267it [00:00, 2953.48it/s]\n"
     ]
    },
    {
     "name": "stdout",
     "output_type": "stream",
     "text": [
      "UFL1+ctrl 3\n"
     ]
    },
    {
     "name": "stderr",
     "output_type": "stream",
     "text": [
      "1267it [00:00, 3136.05it/s]\n"
     ]
    },
    {
     "name": "stdout",
     "output_type": "stream",
     "text": [
      "UFM1+ctrl 4\n"
     ]
    },
    {
     "name": "stderr",
     "output_type": "stream",
     "text": [
      "1267it [00:00, 3119.04it/s]\n"
     ]
    },
    {
     "name": "stdout",
     "output_type": "stream",
     "text": [
      "XRN1+ctrl 163\n"
     ]
    },
    {
     "name": "stderr",
     "output_type": "stream",
     "text": [
      "1267it [00:00, 3078.76it/s]\n"
     ]
    },
    {
     "name": "stdout",
     "output_type": "stream",
     "text": [
      "YIPF5+ctrl 16\n"
     ]
    },
    {
     "name": "stderr",
     "output_type": "stream",
     "text": [
      "1267it [00:00, 3183.95it/s]\n"
     ]
    },
    {
     "name": "stdout",
     "output_type": "stream",
     "text": [
      "ZNF326+ctrl 218\n"
     ]
    }
   ],
   "source": [
    "for c in perturb_conditions:\n",
    "    celltype_0 = c\n",
    "    celltype_1 = 'ctrl'\n",
    "    gene_emb_celltype_0 = np.expand_dims(dict_sum_condition_mean[celltype_0][1:, 1:], 0)\n",
    "    gene_emb_celltype_1 = np.expand_dims(dict_sum_condition_mean[celltype_1][1:, 1:], 0)\n",
    "    gene_dist_dict = {}\n",
    "    for i, g in tqdm(enumerate(genes)):\n",
    "        gene_dist_dict[g] = cosine_distances(gene_emb_celltype_0[:, i, :], gene_emb_celltype_1[:, i, :]).mean()\n",
    "    df_gene_emb_dist = pd.DataFrame.from_dict(gene_dist_dict, orient='index', columns=['cos_dist'])\n",
    "    df_deg = df_gene_emb_dist.sort_values(by='cos_dist', ascending=False)\n",
    "    print(c, np.where(df_deg.index==c.split('+')[0])[0][0])\n",
    "    rank_list.append(np.where(df_deg.index==c.split('+')[0])[0][0])"
   ]
  },
  {
   "cell_type": "code",
   "execution_count": 41,
   "id": "96287248",
   "metadata": {},
   "outputs": [
    {
     "name": "stdout",
     "output_type": "stream",
     "text": [
      "['AMIGO3+ctrl', 'ARHGAP22+ctrl', 'ASCC3+ctrl', 'BHLHE40+ctrl', 'CAD+ctrl', 'CCND3+ctrl', 'CHERP+ctrl', 'COPB1+ctrl', 'COPZ1+ctrl', 'CREB1+ctrl', 'DAD1+ctrl', 'DDIT3+ctrl', 'DDOST+ctrl', 'DDRGK1+ctrl', 'DERL2+ctrl', 'DHDDS+ctrl', 'DNAJC19+ctrl', 'EIF2B2+ctrl', 'EIF2B3+ctrl', 'EIF2B4+ctrl', 'EIF2S1+ctrl', 'FARSB+ctrl', 'FECH+ctrl', 'GBF1+ctrl', 'GMPPB+ctrl', 'GNPNAT1+ctrl', 'HSD17B12+ctrl', 'HSPA5+ctrl', 'HSPA9+ctrl', 'HYOU1+ctrl', 'IARS2+ctrl', 'IDH3A+ctrl', 'IER3IP1+ctrl', 'KCTD16+ctrl', 'MANF+ctrl', 'MRGBP+ctrl', 'MRPL39+ctrl', 'MTHFD1+ctrl', 'NEDD8+ctrl', 'OST4+ctrl', 'P4HB+ctrl', 'PDIA6+ctrl', 'PPWD1+ctrl', 'PSMD4+ctrl', 'PTDSS1+ctrl', 'SAMM50+ctrl', 'SCYL1+ctrl', 'SEC61A1+ctrl', 'SEC61B+ctrl', 'SEC61G+ctrl', 'SEC63+ctrl', 'SEL1L+ctrl', 'SLC35B1+ctrl', 'SLC39A7+ctrl', 'SOCS1+ctrl', 'SPCS2+ctrl', 'SPCS3+ctrl', 'SRP68+ctrl', 'SRP72+ctrl', 'SRPRB+ctrl', 'STT3A+ctrl', 'SYVN1+ctrl', 'TELO2+ctrl', 'TIMM23+ctrl', 'TIMM44+ctrl', 'TMED2+ctrl', 'TMED10+ctrl', 'TMEM167A+ctrl', 'TTI1+ctrl', 'TTI2+ctrl', 'UFL1+ctrl', 'UFM1+ctrl', 'XRN1+ctrl', 'YIPF5+ctrl', 'ZNF326+ctrl']\n"
     ]
    }
   ],
   "source": [
    "print(perturb_conditions)"
   ]
  },
  {
   "cell_type": "markdown",
   "id": "9d3264db",
   "metadata": {},
   "source": [
    "#### 🔵 Optional\n",
    "For control experiment, run the following block"
   ]
  },
  {
   "cell_type": "code",
   "execution_count": 42,
   "id": "224b1c2a",
   "metadata": {},
   "outputs": [
    {
     "name": "stderr",
     "output_type": "stream",
     "text": [
      "1267it [00:00, 3041.27it/s]\n"
     ]
    },
    {
     "name": "stdout",
     "output_type": "stream",
     "text": [
      "RP5-1159O4.2 497\n"
     ]
    },
    {
     "name": "stderr",
     "output_type": "stream",
     "text": [
      "1267it [00:00, 3384.85it/s]\n"
     ]
    },
    {
     "name": "stdout",
     "output_type": "stream",
     "text": [
      "RP11-584P21.2 69\n"
     ]
    },
    {
     "name": "stderr",
     "output_type": "stream",
     "text": [
      "1267it [00:00, 2880.84it/s]\n"
     ]
    },
    {
     "name": "stdout",
     "output_type": "stream",
     "text": [
      "FBXO32 651\n"
     ]
    },
    {
     "name": "stderr",
     "output_type": "stream",
     "text": [
      "1267it [00:00, 2861.64it/s]\n"
     ]
    },
    {
     "name": "stdout",
     "output_type": "stream",
     "text": [
      "NUSAP1 867\n"
     ]
    },
    {
     "name": "stderr",
     "output_type": "stream",
     "text": [
      "1267it [00:00, 3119.23it/s]\n"
     ]
    },
    {
     "name": "stdout",
     "output_type": "stream",
     "text": [
      "PCNA 1194\n"
     ]
    },
    {
     "name": "stderr",
     "output_type": "stream",
     "text": [
      "1267it [00:00, 3254.93it/s]\n"
     ]
    },
    {
     "name": "stdout",
     "output_type": "stream",
     "text": [
      "SKIL 420\n"
     ]
    },
    {
     "name": "stderr",
     "output_type": "stream",
     "text": [
      "1267it [00:00, 3412.56it/s]\n"
     ]
    },
    {
     "name": "stdout",
     "output_type": "stream",
     "text": [
      "MYOZ1 924\n"
     ]
    },
    {
     "name": "stderr",
     "output_type": "stream",
     "text": [
      "1267it [00:00, 3369.22it/s]\n"
     ]
    },
    {
     "name": "stdout",
     "output_type": "stream",
     "text": [
      "GADD45G 1237\n"
     ]
    },
    {
     "name": "stderr",
     "output_type": "stream",
     "text": [
      "1267it [00:00, 3355.00it/s]\n"
     ]
    },
    {
     "name": "stdout",
     "output_type": "stream",
     "text": [
      "EEF1A1 724\n"
     ]
    },
    {
     "name": "stderr",
     "output_type": "stream",
     "text": [
      "1267it [00:00, 3175.43it/s]\n"
     ]
    },
    {
     "name": "stdout",
     "output_type": "stream",
     "text": [
      "MCF2L 607\n"
     ]
    },
    {
     "name": "stderr",
     "output_type": "stream",
     "text": [
      "1267it [00:00, 3307.21it/s]\n"
     ]
    },
    {
     "name": "stdout",
     "output_type": "stream",
     "text": [
      "DLX4 991\n"
     ]
    },
    {
     "name": "stderr",
     "output_type": "stream",
     "text": [
      "1267it [00:00, 2935.36it/s]\n"
     ]
    },
    {
     "name": "stdout",
     "output_type": "stream",
     "text": [
      "CCNE2 134\n"
     ]
    },
    {
     "name": "stderr",
     "output_type": "stream",
     "text": [
      "1267it [00:00, 3132.50it/s]\n"
     ]
    },
    {
     "name": "stdout",
     "output_type": "stream",
     "text": [
      "COCH 1202\n"
     ]
    },
    {
     "name": "stderr",
     "output_type": "stream",
     "text": [
      "1267it [00:00, 3358.02it/s]\n"
     ]
    },
    {
     "name": "stdout",
     "output_type": "stream",
     "text": [
      "NAV2 602\n"
     ]
    },
    {
     "name": "stderr",
     "output_type": "stream",
     "text": [
      "1267it [00:00, 3138.28it/s]\n"
     ]
    },
    {
     "name": "stdout",
     "output_type": "stream",
     "text": [
      "KCNQ1 592\n"
     ]
    },
    {
     "name": "stderr",
     "output_type": "stream",
     "text": [
      "1267it [00:00, 3166.87it/s]\n"
     ]
    },
    {
     "name": "stdout",
     "output_type": "stream",
     "text": [
      "SLC39A10 596\n"
     ]
    },
    {
     "name": "stderr",
     "output_type": "stream",
     "text": [
      "1267it [00:00, 2980.64it/s]\n"
     ]
    },
    {
     "name": "stdout",
     "output_type": "stream",
     "text": [
      "AC023590.1 574\n"
     ]
    },
    {
     "name": "stderr",
     "output_type": "stream",
     "text": [
      "1267it [00:00, 3022.95it/s]\n"
     ]
    },
    {
     "name": "stdout",
     "output_type": "stream",
     "text": [
      "CAPN2 765\n"
     ]
    },
    {
     "name": "stderr",
     "output_type": "stream",
     "text": [
      "1267it [00:00, 2842.75it/s]\n"
     ]
    },
    {
     "name": "stdout",
     "output_type": "stream",
     "text": [
      "PTPN7 93\n"
     ]
    },
    {
     "name": "stderr",
     "output_type": "stream",
     "text": [
      "1267it [00:00, 3051.15it/s]\n"
     ]
    },
    {
     "name": "stdout",
     "output_type": "stream",
     "text": [
      "TUBB1 1173\n"
     ]
    },
    {
     "name": "stderr",
     "output_type": "stream",
     "text": [
      "1267it [00:00, 2948.59it/s]\n"
     ]
    },
    {
     "name": "stdout",
     "output_type": "stream",
     "text": [
      "SLC6A20 317\n"
     ]
    },
    {
     "name": "stderr",
     "output_type": "stream",
     "text": [
      "1267it [00:00, 3076.71it/s]\n"
     ]
    },
    {
     "name": "stdout",
     "output_type": "stream",
     "text": [
      "RP11-96K19.2 675\n"
     ]
    },
    {
     "name": "stderr",
     "output_type": "stream",
     "text": [
      "1267it [00:00, 2973.82it/s]\n"
     ]
    },
    {
     "name": "stdout",
     "output_type": "stream",
     "text": [
      "STAR 308\n"
     ]
    },
    {
     "name": "stderr",
     "output_type": "stream",
     "text": [
      "1267it [00:00, 2950.75it/s]\n"
     ]
    },
    {
     "name": "stdout",
     "output_type": "stream",
     "text": [
      "OR8D1 620\n"
     ]
    },
    {
     "name": "stderr",
     "output_type": "stream",
     "text": [
      "1267it [00:00, 2825.25it/s]\n"
     ]
    },
    {
     "name": "stdout",
     "output_type": "stream",
     "text": [
      "TRIM24 69\n"
     ]
    },
    {
     "name": "stderr",
     "output_type": "stream",
     "text": [
      "1267it [00:00, 2968.36it/s]\n"
     ]
    },
    {
     "name": "stdout",
     "output_type": "stream",
     "text": [
      "KDM7A 213\n"
     ]
    },
    {
     "name": "stderr",
     "output_type": "stream",
     "text": [
      "1267it [00:00, 2787.28it/s]\n"
     ]
    },
    {
     "name": "stdout",
     "output_type": "stream",
     "text": [
      "HSPA8 1009\n"
     ]
    },
    {
     "name": "stderr",
     "output_type": "stream",
     "text": [
      "1267it [00:00, 2940.79it/s]\n"
     ]
    },
    {
     "name": "stdout",
     "output_type": "stream",
     "text": [
      "SLC7A8 865\n"
     ]
    },
    {
     "name": "stderr",
     "output_type": "stream",
     "text": [
      "1267it [00:00, 2996.65it/s]\n"
     ]
    },
    {
     "name": "stdout",
     "output_type": "stream",
     "text": [
      "PSRC1 858\n"
     ]
    },
    {
     "name": "stderr",
     "output_type": "stream",
     "text": [
      "1267it [00:00, 3011.77it/s]\n"
     ]
    },
    {
     "name": "stdout",
     "output_type": "stream",
     "text": [
      "TGIF1 416\n"
     ]
    },
    {
     "name": "stderr",
     "output_type": "stream",
     "text": [
      "1267it [00:00, 2959.52it/s]\n"
     ]
    },
    {
     "name": "stdout",
     "output_type": "stream",
     "text": [
      "NR4A1 1223\n"
     ]
    },
    {
     "name": "stderr",
     "output_type": "stream",
     "text": [
      "1267it [00:00, 2986.28it/s]\n"
     ]
    },
    {
     "name": "stdout",
     "output_type": "stream",
     "text": [
      "PTH2 993\n"
     ]
    },
    {
     "name": "stderr",
     "output_type": "stream",
     "text": [
      "1267it [00:00, 3044.42it/s]\n"
     ]
    },
    {
     "name": "stdout",
     "output_type": "stream",
     "text": [
      "DLGAP5 1093\n"
     ]
    },
    {
     "name": "stderr",
     "output_type": "stream",
     "text": [
      "1267it [00:00, 3066.02it/s]\n"
     ]
    },
    {
     "name": "stdout",
     "output_type": "stream",
     "text": [
      "NMU 478\n"
     ]
    },
    {
     "name": "stderr",
     "output_type": "stream",
     "text": [
      "1267it [00:00, 3046.79it/s]\n"
     ]
    },
    {
     "name": "stdout",
     "output_type": "stream",
     "text": [
      "RBPMS 956\n"
     ]
    },
    {
     "name": "stderr",
     "output_type": "stream",
     "text": [
      "1267it [00:00, 3046.47it/s]\n"
     ]
    },
    {
     "name": "stdout",
     "output_type": "stream",
     "text": [
      "LGALS3 1193\n"
     ]
    },
    {
     "name": "stderr",
     "output_type": "stream",
     "text": [
      "1267it [00:00, 3080.03it/s]\n"
     ]
    },
    {
     "name": "stdout",
     "output_type": "stream",
     "text": [
      "PSAT1 298\n"
     ]
    },
    {
     "name": "stderr",
     "output_type": "stream",
     "text": [
      "1267it [00:00, 3211.95it/s]\n"
     ]
    },
    {
     "name": "stdout",
     "output_type": "stream",
     "text": [
      "AQP1 76\n"
     ]
    },
    {
     "name": "stderr",
     "output_type": "stream",
     "text": [
      "1267it [00:00, 2985.50it/s]\n"
     ]
    },
    {
     "name": "stdout",
     "output_type": "stream",
     "text": [
      "RP11-867G2.8 228\n"
     ]
    },
    {
     "name": "stderr",
     "output_type": "stream",
     "text": [
      "1267it [00:00, 3022.93it/s]\n"
     ]
    },
    {
     "name": "stdout",
     "output_type": "stream",
     "text": [
      "MYLIP 1237\n"
     ]
    },
    {
     "name": "stderr",
     "output_type": "stream",
     "text": [
      "1267it [00:00, 3050.76it/s]\n"
     ]
    },
    {
     "name": "stdout",
     "output_type": "stream",
     "text": [
      "F8 394\n"
     ]
    },
    {
     "name": "stderr",
     "output_type": "stream",
     "text": [
      "1267it [00:00, 2903.10it/s]\n"
     ]
    },
    {
     "name": "stdout",
     "output_type": "stream",
     "text": [
      "PTTG1 1136\n"
     ]
    },
    {
     "name": "stderr",
     "output_type": "stream",
     "text": [
      "1267it [00:00, 2945.93it/s]\n"
     ]
    },
    {
     "name": "stdout",
     "output_type": "stream",
     "text": [
      "HNMT 616\n"
     ]
    },
    {
     "name": "stderr",
     "output_type": "stream",
     "text": [
      "1267it [00:00, 3142.30it/s]\n"
     ]
    },
    {
     "name": "stdout",
     "output_type": "stream",
     "text": [
      "FNDC4 1229\n"
     ]
    },
    {
     "name": "stderr",
     "output_type": "stream",
     "text": [
      "1267it [00:00, 3059.73it/s]\n"
     ]
    },
    {
     "name": "stdout",
     "output_type": "stream",
     "text": [
      "RP11-320G24.1 212\n"
     ]
    },
    {
     "name": "stderr",
     "output_type": "stream",
     "text": [
      "1267it [00:00, 2968.97it/s]\n"
     ]
    },
    {
     "name": "stdout",
     "output_type": "stream",
     "text": [
      "BAIAP3 695\n"
     ]
    },
    {
     "name": "stderr",
     "output_type": "stream",
     "text": [
      "1267it [00:00, 3129.99it/s]\n"
     ]
    },
    {
     "name": "stdout",
     "output_type": "stream",
     "text": [
      "CTC-203F4.2 866\n"
     ]
    },
    {
     "name": "stderr",
     "output_type": "stream",
     "text": [
      "1267it [00:00, 3208.04it/s]\n"
     ]
    },
    {
     "name": "stdout",
     "output_type": "stream",
     "text": [
      "HOTAIRM1 1227\n"
     ]
    },
    {
     "name": "stderr",
     "output_type": "stream",
     "text": [
      "1267it [00:00, 3357.40it/s]\n"
     ]
    },
    {
     "name": "stdout",
     "output_type": "stream",
     "text": [
      "SMC4 528\n"
     ]
    },
    {
     "name": "stderr",
     "output_type": "stream",
     "text": [
      "1267it [00:00, 3432.51it/s]\n"
     ]
    },
    {
     "name": "stdout",
     "output_type": "stream",
     "text": [
      "MRAP2 816\n"
     ]
    },
    {
     "name": "stderr",
     "output_type": "stream",
     "text": [
      "1267it [00:00, 3404.84it/s]\n"
     ]
    },
    {
     "name": "stdout",
     "output_type": "stream",
     "text": [
      "FEV 41\n"
     ]
    },
    {
     "name": "stderr",
     "output_type": "stream",
     "text": [
      "1267it [00:00, 3201.23it/s]\n"
     ]
    },
    {
     "name": "stdout",
     "output_type": "stream",
     "text": [
      "RP11-1277A3.1 755\n"
     ]
    },
    {
     "name": "stderr",
     "output_type": "stream",
     "text": [
      "1267it [00:00, 3423.46it/s]\n"
     ]
    },
    {
     "name": "stdout",
     "output_type": "stream",
     "text": [
      "HMGCS1 1107\n"
     ]
    },
    {
     "name": "stderr",
     "output_type": "stream",
     "text": [
      "1267it [00:00, 2985.54it/s]\n"
     ]
    },
    {
     "name": "stdout",
     "output_type": "stream",
     "text": [
      "RP11-422P24.10 1150\n"
     ]
    },
    {
     "name": "stderr",
     "output_type": "stream",
     "text": [
      "1267it [00:00, 3193.05it/s]\n"
     ]
    },
    {
     "name": "stdout",
     "output_type": "stream",
     "text": [
      "RIMS3 373\n"
     ]
    },
    {
     "name": "stderr",
     "output_type": "stream",
     "text": [
      "1267it [00:00, 3260.06it/s]\n"
     ]
    },
    {
     "name": "stdout",
     "output_type": "stream",
     "text": [
      "IFITM1 786\n"
     ]
    },
    {
     "name": "stderr",
     "output_type": "stream",
     "text": [
      "1267it [00:00, 3241.10it/s]\n"
     ]
    },
    {
     "name": "stdout",
     "output_type": "stream",
     "text": [
      "VIM 5\n"
     ]
    },
    {
     "name": "stderr",
     "output_type": "stream",
     "text": [
      "1267it [00:00, 3003.26it/s]\n"
     ]
    },
    {
     "name": "stdout",
     "output_type": "stream",
     "text": [
      "PPP3CA 947\n"
     ]
    },
    {
     "name": "stderr",
     "output_type": "stream",
     "text": [
      "1267it [00:00, 3418.20it/s]\n"
     ]
    },
    {
     "name": "stdout",
     "output_type": "stream",
     "text": [
      "HBZ 139\n"
     ]
    },
    {
     "name": "stderr",
     "output_type": "stream",
     "text": [
      "1267it [00:00, 3263.39it/s]\n"
     ]
    },
    {
     "name": "stdout",
     "output_type": "stream",
     "text": [
      "IL4R 815\n"
     ]
    },
    {
     "name": "stderr",
     "output_type": "stream",
     "text": [
      "1267it [00:00, 3407.74it/s]\n"
     ]
    },
    {
     "name": "stdout",
     "output_type": "stream",
     "text": [
      "TNFAIP2 1047\n"
     ]
    },
    {
     "name": "stderr",
     "output_type": "stream",
     "text": [
      "1267it [00:00, 3332.14it/s]\n"
     ]
    },
    {
     "name": "stdout",
     "output_type": "stream",
     "text": [
      "SQSTM1 700\n"
     ]
    },
    {
     "name": "stderr",
     "output_type": "stream",
     "text": [
      "1267it [00:00, 3389.85it/s]\n"
     ]
    },
    {
     "name": "stdout",
     "output_type": "stream",
     "text": [
      "PCK2 490\n"
     ]
    },
    {
     "name": "stderr",
     "output_type": "stream",
     "text": [
      "1267it [00:00, 3187.13it/s]\n"
     ]
    },
    {
     "name": "stdout",
     "output_type": "stream",
     "text": [
      "LGALS1 253\n"
     ]
    },
    {
     "name": "stderr",
     "output_type": "stream",
     "text": [
      "1267it [00:00, 2964.30it/s]\n"
     ]
    },
    {
     "name": "stdout",
     "output_type": "stream",
     "text": [
      "MUC4 46\n"
     ]
    },
    {
     "name": "stderr",
     "output_type": "stream",
     "text": [
      "1267it [00:00, 3090.29it/s]\n"
     ]
    },
    {
     "name": "stdout",
     "output_type": "stream",
     "text": [
      "AQP3 852\n"
     ]
    },
    {
     "name": "stderr",
     "output_type": "stream",
     "text": [
      "1267it [00:00, 2972.41it/s]\n"
     ]
    },
    {
     "name": "stdout",
     "output_type": "stream",
     "text": [
      "AP000640.10 1212\n"
     ]
    },
    {
     "name": "stderr",
     "output_type": "stream",
     "text": [
      "1267it [00:00, 2959.95it/s]\n"
     ]
    },
    {
     "name": "stdout",
     "output_type": "stream",
     "text": [
      "AC034243.1 822\n"
     ]
    },
    {
     "name": "stderr",
     "output_type": "stream",
     "text": [
      "1267it [00:00, 3066.94it/s]\n"
     ]
    },
    {
     "name": "stdout",
     "output_type": "stream",
     "text": [
      "KALRN 184\n"
     ]
    },
    {
     "name": "stderr",
     "output_type": "stream",
     "text": [
      "1267it [00:00, 2835.31it/s]\n"
     ]
    },
    {
     "name": "stdout",
     "output_type": "stream",
     "text": [
      "SEC24D 21\n"
     ]
    },
    {
     "name": "stderr",
     "output_type": "stream",
     "text": [
      "1267it [00:00, 2944.18it/s]\n"
     ]
    },
    {
     "name": "stdout",
     "output_type": "stream",
     "text": [
      "RP11-727F15.9 287\n"
     ]
    },
    {
     "name": "stderr",
     "output_type": "stream",
     "text": [
      "1267it [00:00, 2867.33it/s]\n"
     ]
    },
    {
     "name": "stdout",
     "output_type": "stream",
     "text": [
      "ABTB2 405\n"
     ]
    },
    {
     "name": "stderr",
     "output_type": "stream",
     "text": [
      "1267it [00:00, 3137.11it/s]\n"
     ]
    },
    {
     "name": "stdout",
     "output_type": "stream",
     "text": [
      "LIMS1 59\n"
     ]
    },
    {
     "name": "stderr",
     "output_type": "stream",
     "text": [
      "1267it [00:00, 3021.16it/s]\n"
     ]
    },
    {
     "name": "stdout",
     "output_type": "stream",
     "text": [
      "PRSS57 477\n"
     ]
    },
    {
     "name": "stderr",
     "output_type": "stream",
     "text": [
      "1267it [00:00, 2802.01it/s]"
     ]
    },
    {
     "name": "stdout",
     "output_type": "stream",
     "text": [
      "ARL6IP1 989\n"
     ]
    },
    {
     "name": "stderr",
     "output_type": "stream",
     "text": [
      "\n"
     ]
    }
   ],
   "source": [
    "rank_list = []\n",
    "for i, c in enumerate(perturb_conditions):\n",
    "    celltype_0 = c\n",
    "    celltype_1 = 'ctrl'\n",
    "    gene_emb_celltype_0 = np.expand_dims(dict_sum_condition_mean[celltype_0][1:, 1:], 0)\n",
    "    gene_emb_celltype_1 = np.expand_dims(dict_sum_condition_mean[celltype_1][1:, 1:], 0)\n",
    "    gene_dist_dict = {}\n",
    "    for i, g in tqdm(enumerate(genes)):\n",
    "        gene_dist_dict[g] = cosine_distances(gene_emb_celltype_0[:, i, :], gene_emb_celltype_1[:, i, :]).mean()\n",
    "    df_gene_emb_dist = pd.DataFrame.from_dict(gene_dist_dict, orient='index', columns=['cos_dist'])\n",
    "    df_deg = df_gene_emb_dist.sort_values(by='cos_dist', ascending=False)\n",
    "    c = condition_names_gene_match.pop(0)\n",
    "    print(c, np.where(df_deg.index==c.split('+')[0])[0][0])\n",
    "    rank_list.append(np.where(df_deg.index==c.split('+')[0])[0][0])"
   ]
  },
  {
   "cell_type": "code",
   "execution_count": 46,
   "id": "879569ca",
   "metadata": {},
   "outputs": [
    {
     "data": {
      "text/html": [
       "<div>\n",
       "<style scoped>\n",
       "    .dataframe tbody tr th:only-of-type {\n",
       "        vertical-align: middle;\n",
       "    }\n",
       "\n",
       "    .dataframe tbody tr th {\n",
       "        vertical-align: top;\n",
       "    }\n",
       "\n",
       "    .dataframe thead th {\n",
       "        text-align: right;\n",
       "    }\n",
       "</style>\n",
       "<table border=\"1\" class=\"dataframe\">\n",
       "  <thead>\n",
       "    <tr style=\"text-align: right;\">\n",
       "      <th></th>\n",
       "      <th>conditions</th>\n",
       "      <th>wilcoxon</th>\n",
       "      <th>scGPT_rank (attn)</th>\n",
       "      <th>scGPT_rank (gene emb)</th>\n",
       "      <th>scGPT_rank (attn, mean)</th>\n",
       "      <th>scGPT_rank (gene emb, mean)</th>\n",
       "      <th>wilcoxon (random)</th>\n",
       "      <th>scGPT_rank (attn, random)</th>\n",
       "      <th>scGPT_rank (gene emb, random)</th>\n",
       "      <th>scGPT_rank (attn, random, null)</th>\n",
       "      <th>scGPT_rank (gene emb, random, null)</th>\n",
       "    </tr>\n",
       "  </thead>\n",
       "  <tbody>\n",
       "    <tr>\n",
       "      <th>0</th>\n",
       "      <td>AMIGO3+ctrl</td>\n",
       "      <td>1098</td>\n",
       "      <td>569</td>\n",
       "      <td>409</td>\n",
       "      <td>569</td>\n",
       "      <td>409</td>\n",
       "      <td>1098</td>\n",
       "      <td>569</td>\n",
       "      <td>409</td>\n",
       "      <td>1</td>\n",
       "      <td>1</td>\n",
       "    </tr>\n",
       "    <tr>\n",
       "      <th>1</th>\n",
       "      <td>ARHGAP22+ctrl</td>\n",
       "      <td>318</td>\n",
       "      <td>175</td>\n",
       "      <td>126</td>\n",
       "      <td>0</td>\n",
       "      <td>0</td>\n",
       "      <td>837</td>\n",
       "      <td>0</td>\n",
       "      <td>0</td>\n",
       "      <td>5</td>\n",
       "      <td>3</td>\n",
       "    </tr>\n",
       "    <tr>\n",
       "      <th>2</th>\n",
       "      <td>ASCC3+ctrl</td>\n",
       "      <td>36</td>\n",
       "      <td>15</td>\n",
       "      <td>48</td>\n",
       "      <td>0</td>\n",
       "      <td>0</td>\n",
       "      <td>834</td>\n",
       "      <td>5</td>\n",
       "      <td>7</td>\n",
       "      <td>14</td>\n",
       "      <td>2</td>\n",
       "    </tr>\n",
       "    <tr>\n",
       "      <th>3</th>\n",
       "      <td>BHLHE40+ctrl</td>\n",
       "      <td>3</td>\n",
       "      <td>584</td>\n",
       "      <td>558</td>\n",
       "      <td>0</td>\n",
       "      <td>0</td>\n",
       "      <td>1075</td>\n",
       "      <td>25</td>\n",
       "      <td>1</td>\n",
       "      <td>91</td>\n",
       "      <td>211</td>\n",
       "    </tr>\n",
       "    <tr>\n",
       "      <th>4</th>\n",
       "      <td>CAD+ctrl</td>\n",
       "      <td>93</td>\n",
       "      <td>257</td>\n",
       "      <td>557</td>\n",
       "      <td>0</td>\n",
       "      <td>0</td>\n",
       "      <td>1257</td>\n",
       "      <td>59</td>\n",
       "      <td>28</td>\n",
       "      <td>58</td>\n",
       "      <td>58</td>\n",
       "    </tr>\n",
       "    <tr>\n",
       "      <th>...</th>\n",
       "      <td>...</td>\n",
       "      <td>...</td>\n",
       "      <td>...</td>\n",
       "      <td>...</td>\n",
       "      <td>...</td>\n",
       "      <td>...</td>\n",
       "      <td>...</td>\n",
       "      <td>...</td>\n",
       "      <td>...</td>\n",
       "      <td>...</td>\n",
       "      <td>...</td>\n",
       "    </tr>\n",
       "    <tr>\n",
       "      <th>70</th>\n",
       "      <td>UFL1+ctrl</td>\n",
       "      <td>19</td>\n",
       "      <td>3</td>\n",
       "      <td>39</td>\n",
       "      <td>0</td>\n",
       "      <td>0</td>\n",
       "      <td>962</td>\n",
       "      <td>6</td>\n",
       "      <td>5</td>\n",
       "      <td>369</td>\n",
       "      <td>53</td>\n",
       "    </tr>\n",
       "    <tr>\n",
       "      <th>71</th>\n",
       "      <td>UFM1+ctrl</td>\n",
       "      <td>0</td>\n",
       "      <td>4</td>\n",
       "      <td>2</td>\n",
       "      <td>0</td>\n",
       "      <td>0</td>\n",
       "      <td>612</td>\n",
       "      <td>21</td>\n",
       "      <td>1</td>\n",
       "      <td>4</td>\n",
       "      <td>1</td>\n",
       "    </tr>\n",
       "    <tr>\n",
       "      <th>72</th>\n",
       "      <td>XRN1+ctrl</td>\n",
       "      <td>216</td>\n",
       "      <td>163</td>\n",
       "      <td>206</td>\n",
       "      <td>0</td>\n",
       "      <td>0</td>\n",
       "      <td>789</td>\n",
       "      <td>71</td>\n",
       "      <td>127</td>\n",
       "      <td>6</td>\n",
       "      <td>2</td>\n",
       "    </tr>\n",
       "    <tr>\n",
       "      <th>73</th>\n",
       "      <td>YIPF5+ctrl</td>\n",
       "      <td>11</td>\n",
       "      <td>16</td>\n",
       "      <td>55</td>\n",
       "      <td>0</td>\n",
       "      <td>0</td>\n",
       "      <td>1061</td>\n",
       "      <td>12</td>\n",
       "      <td>3</td>\n",
       "      <td>0</td>\n",
       "      <td>0</td>\n",
       "    </tr>\n",
       "    <tr>\n",
       "      <th>74</th>\n",
       "      <td>ZNF326+ctrl</td>\n",
       "      <td>0</td>\n",
       "      <td>218</td>\n",
       "      <td>434</td>\n",
       "      <td>0</td>\n",
       "      <td>0</td>\n",
       "      <td>882</td>\n",
       "      <td>20</td>\n",
       "      <td>0</td>\n",
       "      <td>33</td>\n",
       "      <td>0</td>\n",
       "    </tr>\n",
       "  </tbody>\n",
       "</table>\n",
       "<p>75 rows × 11 columns</p>\n",
       "</div>"
      ],
      "text/plain": [
       "       conditions  wilcoxon  scGPT_rank (attn)  scGPT_rank (gene emb)  \\\n",
       "0     AMIGO3+ctrl      1098                569                    409   \n",
       "1   ARHGAP22+ctrl       318                175                    126   \n",
       "2      ASCC3+ctrl        36                 15                     48   \n",
       "3    BHLHE40+ctrl         3                584                    558   \n",
       "4        CAD+ctrl        93                257                    557   \n",
       "..            ...       ...                ...                    ...   \n",
       "70      UFL1+ctrl        19                  3                     39   \n",
       "71      UFM1+ctrl         0                  4                      2   \n",
       "72      XRN1+ctrl       216                163                    206   \n",
       "73     YIPF5+ctrl        11                 16                     55   \n",
       "74    ZNF326+ctrl         0                218                    434   \n",
       "\n",
       "    scGPT_rank (attn, mean)  scGPT_rank (gene emb, mean)  wilcoxon (random)  \\\n",
       "0                       569                          409               1098   \n",
       "1                         0                            0                837   \n",
       "2                         0                            0                834   \n",
       "3                         0                            0               1075   \n",
       "4                         0                            0               1257   \n",
       "..                      ...                          ...                ...   \n",
       "70                        0                            0                962   \n",
       "71                        0                            0                612   \n",
       "72                        0                            0                789   \n",
       "73                        0                            0               1061   \n",
       "74                        0                            0                882   \n",
       "\n",
       "    scGPT_rank (attn, random)  scGPT_rank (gene emb, random)  \\\n",
       "0                         569                            409   \n",
       "1                           0                              0   \n",
       "2                           5                              7   \n",
       "3                          25                              1   \n",
       "4                          59                             28   \n",
       "..                        ...                            ...   \n",
       "70                          6                              5   \n",
       "71                         21                              1   \n",
       "72                         71                            127   \n",
       "73                         12                              3   \n",
       "74                         20                              0   \n",
       "\n",
       "    scGPT_rank (attn, random, null)  scGPT_rank (gene emb, random, null)  \n",
       "0                                 1                                    1  \n",
       "1                                 5                                    3  \n",
       "2                                14                                    2  \n",
       "3                                91                                  211  \n",
       "4                                58                                   58  \n",
       "..                              ...                                  ...  \n",
       "70                              369                                   53  \n",
       "71                                4                                    1  \n",
       "72                                6                                    2  \n",
       "73                                0                                    0  \n",
       "74                               33                                    0  \n",
       "\n",
       "[75 rows x 11 columns]"
      ]
     },
     "execution_count": 46,
     "metadata": {},
     "output_type": "execute_result"
    }
   ],
   "source": [
    "df_results = pd.read_csv('/fs01/home/chloexq/scGPT-release/tutorials/vevo_adamson_ranks_Nov21.csv', index_col=0)\n",
    "df_results"
   ]
  },
  {
   "cell_type": "code",
   "execution_count": 61,
   "id": "f1c20e37",
   "metadata": {},
   "outputs": [],
   "source": [
    "df_results['scGPT_rank (attn, null, non-targets)'] = rank_list"
   ]
  },
  {
   "cell_type": "code",
   "execution_count": 62,
   "id": "006ebd59",
   "metadata": {},
   "outputs": [
    {
     "data": {
      "text/html": [
       "<div>\n",
       "<style scoped>\n",
       "    .dataframe tbody tr th:only-of-type {\n",
       "        vertical-align: middle;\n",
       "    }\n",
       "\n",
       "    .dataframe tbody tr th {\n",
       "        vertical-align: top;\n",
       "    }\n",
       "\n",
       "    .dataframe thead th {\n",
       "        text-align: right;\n",
       "    }\n",
       "</style>\n",
       "<table border=\"1\" class=\"dataframe\">\n",
       "  <thead>\n",
       "    <tr style=\"text-align: right;\">\n",
       "      <th></th>\n",
       "      <th>conditions</th>\n",
       "      <th>wilcoxon</th>\n",
       "      <th>scGPT_rank (attn)</th>\n",
       "      <th>scGPT_rank (gene emb)</th>\n",
       "      <th>scGPT_rank (attn, mean)</th>\n",
       "      <th>scGPT_rank (gene emb, mean)</th>\n",
       "      <th>wilcoxon (random)</th>\n",
       "      <th>scGPT_rank (attn, random)</th>\n",
       "      <th>scGPT_rank (gene emb, random)</th>\n",
       "      <th>scGPT_rank (attn, random, null)</th>\n",
       "      <th>scGPT_rank (gene emb, random, null)</th>\n",
       "      <th>scGPT_rank (attn, null, targets)</th>\n",
       "      <th>scGPT_rank (attn, null, non-targets)</th>\n",
       "    </tr>\n",
       "  </thead>\n",
       "  <tbody>\n",
       "    <tr>\n",
       "      <th>0</th>\n",
       "      <td>AMIGO3+ctrl</td>\n",
       "      <td>1098</td>\n",
       "      <td>569</td>\n",
       "      <td>409</td>\n",
       "      <td>569</td>\n",
       "      <td>409</td>\n",
       "      <td>1098</td>\n",
       "      <td>569</td>\n",
       "      <td>409</td>\n",
       "      <td>1</td>\n",
       "      <td>1</td>\n",
       "      <td>586</td>\n",
       "      <td>497</td>\n",
       "    </tr>\n",
       "    <tr>\n",
       "      <th>1</th>\n",
       "      <td>ARHGAP22+ctrl</td>\n",
       "      <td>318</td>\n",
       "      <td>175</td>\n",
       "      <td>126</td>\n",
       "      <td>0</td>\n",
       "      <td>0</td>\n",
       "      <td>837</td>\n",
       "      <td>0</td>\n",
       "      <td>0</td>\n",
       "      <td>5</td>\n",
       "      <td>3</td>\n",
       "      <td>565</td>\n",
       "      <td>69</td>\n",
       "    </tr>\n",
       "    <tr>\n",
       "      <th>2</th>\n",
       "      <td>ASCC3+ctrl</td>\n",
       "      <td>36</td>\n",
       "      <td>15</td>\n",
       "      <td>48</td>\n",
       "      <td>0</td>\n",
       "      <td>0</td>\n",
       "      <td>834</td>\n",
       "      <td>5</td>\n",
       "      <td>7</td>\n",
       "      <td>14</td>\n",
       "      <td>2</td>\n",
       "      <td>248</td>\n",
       "      <td>651</td>\n",
       "    </tr>\n",
       "    <tr>\n",
       "      <th>3</th>\n",
       "      <td>BHLHE40+ctrl</td>\n",
       "      <td>3</td>\n",
       "      <td>584</td>\n",
       "      <td>558</td>\n",
       "      <td>0</td>\n",
       "      <td>0</td>\n",
       "      <td>1075</td>\n",
       "      <td>25</td>\n",
       "      <td>1</td>\n",
       "      <td>91</td>\n",
       "      <td>211</td>\n",
       "      <td>56</td>\n",
       "      <td>867</td>\n",
       "    </tr>\n",
       "    <tr>\n",
       "      <th>4</th>\n",
       "      <td>CAD+ctrl</td>\n",
       "      <td>93</td>\n",
       "      <td>257</td>\n",
       "      <td>557</td>\n",
       "      <td>0</td>\n",
       "      <td>0</td>\n",
       "      <td>1257</td>\n",
       "      <td>59</td>\n",
       "      <td>28</td>\n",
       "      <td>58</td>\n",
       "      <td>58</td>\n",
       "      <td>819</td>\n",
       "      <td>1194</td>\n",
       "    </tr>\n",
       "    <tr>\n",
       "      <th>...</th>\n",
       "      <td>...</td>\n",
       "      <td>...</td>\n",
       "      <td>...</td>\n",
       "      <td>...</td>\n",
       "      <td>...</td>\n",
       "      <td>...</td>\n",
       "      <td>...</td>\n",
       "      <td>...</td>\n",
       "      <td>...</td>\n",
       "      <td>...</td>\n",
       "      <td>...</td>\n",
       "      <td>...</td>\n",
       "      <td>...</td>\n",
       "    </tr>\n",
       "    <tr>\n",
       "      <th>70</th>\n",
       "      <td>UFL1+ctrl</td>\n",
       "      <td>19</td>\n",
       "      <td>3</td>\n",
       "      <td>39</td>\n",
       "      <td>0</td>\n",
       "      <td>0</td>\n",
       "      <td>962</td>\n",
       "      <td>6</td>\n",
       "      <td>5</td>\n",
       "      <td>369</td>\n",
       "      <td>53</td>\n",
       "      <td>1012</td>\n",
       "      <td>287</td>\n",
       "    </tr>\n",
       "    <tr>\n",
       "      <th>71</th>\n",
       "      <td>UFM1+ctrl</td>\n",
       "      <td>0</td>\n",
       "      <td>4</td>\n",
       "      <td>2</td>\n",
       "      <td>0</td>\n",
       "      <td>0</td>\n",
       "      <td>612</td>\n",
       "      <td>21</td>\n",
       "      <td>1</td>\n",
       "      <td>4</td>\n",
       "      <td>1</td>\n",
       "      <td>743</td>\n",
       "      <td>405</td>\n",
       "    </tr>\n",
       "    <tr>\n",
       "      <th>72</th>\n",
       "      <td>XRN1+ctrl</td>\n",
       "      <td>216</td>\n",
       "      <td>163</td>\n",
       "      <td>206</td>\n",
       "      <td>0</td>\n",
       "      <td>0</td>\n",
       "      <td>789</td>\n",
       "      <td>71</td>\n",
       "      <td>127</td>\n",
       "      <td>6</td>\n",
       "      <td>2</td>\n",
       "      <td>832</td>\n",
       "      <td>59</td>\n",
       "    </tr>\n",
       "    <tr>\n",
       "      <th>73</th>\n",
       "      <td>YIPF5+ctrl</td>\n",
       "      <td>11</td>\n",
       "      <td>16</td>\n",
       "      <td>55</td>\n",
       "      <td>0</td>\n",
       "      <td>0</td>\n",
       "      <td>1061</td>\n",
       "      <td>12</td>\n",
       "      <td>3</td>\n",
       "      <td>0</td>\n",
       "      <td>0</td>\n",
       "      <td>319</td>\n",
       "      <td>477</td>\n",
       "    </tr>\n",
       "    <tr>\n",
       "      <th>74</th>\n",
       "      <td>ZNF326+ctrl</td>\n",
       "      <td>0</td>\n",
       "      <td>218</td>\n",
       "      <td>434</td>\n",
       "      <td>0</td>\n",
       "      <td>0</td>\n",
       "      <td>882</td>\n",
       "      <td>20</td>\n",
       "      <td>0</td>\n",
       "      <td>33</td>\n",
       "      <td>0</td>\n",
       "      <td>487</td>\n",
       "      <td>989</td>\n",
       "    </tr>\n",
       "  </tbody>\n",
       "</table>\n",
       "<p>75 rows × 13 columns</p>\n",
       "</div>"
      ],
      "text/plain": [
       "       conditions  wilcoxon  scGPT_rank (attn)  scGPT_rank (gene emb)  \\\n",
       "0     AMIGO3+ctrl      1098                569                    409   \n",
       "1   ARHGAP22+ctrl       318                175                    126   \n",
       "2      ASCC3+ctrl        36                 15                     48   \n",
       "3    BHLHE40+ctrl         3                584                    558   \n",
       "4        CAD+ctrl        93                257                    557   \n",
       "..            ...       ...                ...                    ...   \n",
       "70      UFL1+ctrl        19                  3                     39   \n",
       "71      UFM1+ctrl         0                  4                      2   \n",
       "72      XRN1+ctrl       216                163                    206   \n",
       "73     YIPF5+ctrl        11                 16                     55   \n",
       "74    ZNF326+ctrl         0                218                    434   \n",
       "\n",
       "    scGPT_rank (attn, mean)  scGPT_rank (gene emb, mean)  wilcoxon (random)  \\\n",
       "0                       569                          409               1098   \n",
       "1                         0                            0                837   \n",
       "2                         0                            0                834   \n",
       "3                         0                            0               1075   \n",
       "4                         0                            0               1257   \n",
       "..                      ...                          ...                ...   \n",
       "70                        0                            0                962   \n",
       "71                        0                            0                612   \n",
       "72                        0                            0                789   \n",
       "73                        0                            0               1061   \n",
       "74                        0                            0                882   \n",
       "\n",
       "    scGPT_rank (attn, random)  scGPT_rank (gene emb, random)  \\\n",
       "0                         569                            409   \n",
       "1                           0                              0   \n",
       "2                           5                              7   \n",
       "3                          25                              1   \n",
       "4                          59                             28   \n",
       "..                        ...                            ...   \n",
       "70                          6                              5   \n",
       "71                         21                              1   \n",
       "72                         71                            127   \n",
       "73                         12                              3   \n",
       "74                         20                              0   \n",
       "\n",
       "    scGPT_rank (attn, random, null)  scGPT_rank (gene emb, random, null)  \\\n",
       "0                                 1                                    1   \n",
       "1                                 5                                    3   \n",
       "2                                14                                    2   \n",
       "3                                91                                  211   \n",
       "4                                58                                   58   \n",
       "..                              ...                                  ...   \n",
       "70                              369                                   53   \n",
       "71                                4                                    1   \n",
       "72                                6                                    2   \n",
       "73                                0                                    0   \n",
       "74                               33                                    0   \n",
       "\n",
       "    scGPT_rank (attn, null, targets)  scGPT_rank (attn, null, non-targets)  \n",
       "0                                586                                   497  \n",
       "1                                565                                    69  \n",
       "2                                248                                   651  \n",
       "3                                 56                                   867  \n",
       "4                                819                                  1194  \n",
       "..                               ...                                   ...  \n",
       "70                              1012                                   287  \n",
       "71                               743                                   405  \n",
       "72                               832                                    59  \n",
       "73                               319                                   477  \n",
       "74                               487                                   989  \n",
       "\n",
       "[75 rows x 13 columns]"
      ]
     },
     "execution_count": 62,
     "metadata": {},
     "output_type": "execute_result"
    }
   ],
   "source": [
    "df_results"
   ]
  },
  {
   "cell_type": "code",
   "execution_count": 63,
   "id": "58f1f49d",
   "metadata": {},
   "outputs": [
    {
     "data": {
      "text/plain": [
       "wilcoxon                                 69.920000\n",
       "scGPT_rank (attn)                        83.160000\n",
       "scGPT_rank (gene emb)                   110.320000\n",
       "scGPT_rank (attn, mean)                  70.506667\n",
       "scGPT_rank (gene emb, mean)              68.320000\n",
       "wilcoxon (random)                       848.866667\n",
       "scGPT_rank (attn, random)               122.093333\n",
       "scGPT_rank (gene emb, random)            83.560000\n",
       "scGPT_rank (attn, random, null)         151.720000\n",
       "scGPT_rank (gene emb, random, null)     102.866667\n",
       "scGPT_rank (attn, null, targets)        594.253333\n",
       "scGPT_rank (attn, null, non-targets)    649.573333\n",
       "dtype: float64"
      ]
     },
     "execution_count": 63,
     "metadata": {},
     "output_type": "execute_result"
    }
   ],
   "source": [
    "df_results.mean()"
   ]
  },
  {
   "cell_type": "code",
   "execution_count": null,
   "id": "2db4a224",
   "metadata": {},
   "outputs": [],
   "source": []
  },
  {
   "cell_type": "code",
   "execution_count": null,
   "id": "a2a6cab6",
   "metadata": {},
   "outputs": [],
   "source": []
  },
  {
   "cell_type": "markdown",
   "id": "c85730fb",
   "metadata": {},
   "source": [
    "## Misc/Baseline Wilcoxon"
   ]
  },
  {
   "cell_type": "code",
   "execution_count": 53,
   "id": "605d09b4",
   "metadata": {},
   "outputs": [],
   "source": [
    "df_results = pd.DataFrame()"
   ]
  },
  {
   "cell_type": "code",
   "execution_count": 49,
   "id": "20f0b4dd",
   "metadata": {},
   "outputs": [],
   "source": [
    "df_results['conditions'] = perturb_conditions"
   ]
  },
  {
   "cell_type": "code",
   "execution_count": 55,
   "id": "95bd8b3f",
   "metadata": {},
   "outputs": [],
   "source": [
    "adata_t_sub_copy = adata_t.copy()\n",
    "adata_t_sub_copy.X = adata_t_sub_copy.X\n",
    "adata_t_sub_copy.var.index = genes"
   ]
  },
  {
   "cell_type": "code",
   "execution_count": 56,
   "id": "10557f17",
   "metadata": {},
   "outputs": [
    {
     "data": {
      "text/plain": [
       "AnnData object with n_obs × n_vars = 39847 × 1267\n",
       "    obs: 'condition', 'cell_type', 'dose_val', 'control', 'condition_name', 'celltype', 'str_batch', 'n_counts', 'batch_id'\n",
       "    var: 'gene_name', 'id_in_vocab', 'n_counts', 'highly_variable', 'means', 'dispersions', 'dispersions_norm'\n",
       "    uns: 'non_dropout_gene_idx', 'non_zeros_gene_idx', 'rank_genes_groups_cov_all', 'top_non_dropout_de_20', 'top_non_zero_de_20', 'hvg'\n",
       "    obsm: 'bin_edges'\n",
       "    layers: 'X_binned'"
      ]
     },
     "execution_count": 56,
     "metadata": {},
     "output_type": "execute_result"
    }
   ],
   "source": [
    "adata_t_sub_copy"
   ]
  },
  {
   "cell_type": "code",
   "execution_count": 57,
   "id": "e96d97dc",
   "metadata": {},
   "outputs": [],
   "source": [
    "sc.tl.rank_genes_groups(adata_t_sub_copy, 'condition', method='wilcoxon', key_added = \"wilcoxon\", n_genes=max_len-1, reference\n",
    "='ctrl')"
   ]
  },
  {
   "cell_type": "code",
   "execution_count": 58,
   "id": "c419433a",
   "metadata": {},
   "outputs": [
    {
     "data": {
      "text/plain": [
       "AnnData object with n_obs × n_vars = 39847 × 1267\n",
       "    obs: 'condition', 'cell_type', 'dose_val', 'control', 'condition_name', 'celltype', 'str_batch', 'n_counts', 'batch_id'\n",
       "    var: 'gene_name', 'id_in_vocab', 'n_counts', 'highly_variable', 'means', 'dispersions', 'dispersions_norm'\n",
       "    uns: 'non_dropout_gene_idx', 'non_zeros_gene_idx', 'rank_genes_groups_cov_all', 'top_non_dropout_de_20', 'top_non_zero_de_20', 'hvg', 'wilcoxon'\n",
       "    obsm: 'bin_edges'\n",
       "    layers: 'X_binned'"
      ]
     },
     "execution_count": 58,
     "metadata": {},
     "output_type": "execute_result"
    }
   ],
   "source": [
    "adata_t_sub_copy"
   ]
  },
  {
   "cell_type": "code",
   "execution_count": 59,
   "id": "abd507a0",
   "metadata": {},
   "outputs": [
    {
     "data": {
      "text/plain": [
       "rec.array([('CITED2', 'SH3BGRL3', 'SH3BGRL3', 'EEF1A1', 'BLVRB', 'ALAS2', 'GYPB', 'SH3BGRL3', 'SH3BGRL3', 'EEF1A1', 'PDIA3', 'EEF1A1', 'PDIA6', 'CITED2', 'SH3BGRL3', 'PDIA6', 'SH3BGRL3', 'PRSS57', 'PHGDH', 'PRSS57', 'S100A11', 'PHGDH', 'CITED2', 'CITED2', 'CITED2', 'CITED2', 'SH3BGRL3', 'PDIA6', 'S100A11', 'CITED2', 'PHGDH', 'KLF1', 'PDIA6', 'CITED2', 'CITED2', 'HES4', 'CITED2', 'BLVRB', 'SH3BGRL3', 'CITED2', 'CITED2', 'CITED2', 'CLCA1', 'BLVRB', 'CITED2', 'SERPINF1', 'CALR', 'SLC3A2', 'SLC3A2', 'SLC3A2', 'CITED2', 'HSPA5', 'CITED2', 'PDIA6', 'PDIA6', 'CITED2', 'PDIA6', 'SLC3A2', 'CITED2', 'SLC3A2', 'CITED2', 'PDIA3', 'SH3BGRL3', 'SH3BGRL3', 'PHGDH', 'SH3BGRL3', 'CITED2', 'PDIA6', 'RHCE', 'CITED2', 'PDIA6', 'CITED2', 'CLCA1', 'PDIA6', 'EEF1A1'),\n",
       "           ('PDIA3', 'LIMS1', 'CITED2', 'AIF1', 'ALAS2', 'GYPB', 'CITED2', 'NFKBIA', 'NFKBIA', 'RPSAP58', 'PDIA6', 'RPSAP58', 'PDIA3', 'PDIA6', 'PDIA3', 'HSP90B1', 'PRSS57', 'PHGDH', 'S100A11', 'PHGDH', 'UBE2L6', 'SERPINF1', 'SH3BGRL3', 'FCER1G', 'PDIA3', 'TXNIP', 'CD52', 'HSP90B1', 'SERPINF1', 'SH3BGRL3', 'S100A11', 'BLVRB', 'PDIA3', 'SH3BGRL3', 'DDIT4', 'CITED2', 'TSC22D1', 'HSPA8', 'PRKCB', 'PDIA6', 'SH3BGRL3', 'PDIA3', 'SH3BGRL3', 'MYL4', 'KLF1', 'PHGDH', 'PDIA6', 'FCER1G', 'CANX', 'FCER1G', 'SH3BGRL3', 'PDIA6', 'SH3BGRL3', 'SH3BGRL3', 'PDIA3', 'SH3BGRL3', 'PDIA3', 'CANX', 'DDIT4', 'CITED2', 'PDIA6', 'PDIA6', 'CITED2', 'CLCA1', 'S100A11', 'CITED2', 'SH3BGRL3', 'PDIA3', 'ALAS2', 'RHCE', 'CITED2', 'PDIA6', 'DDIT4', 'PDIA3', 'RPL39'),\n",
       "           ('DDIT4', 'INSIG1', 'CD52', 'RPL39', 'TXNIP', 'HBZ', 'LIMS1', 'LGALS1', 'LGALS1', 'IFITM1', 'CITED2', 'RPL39', 'HSP90B1', 'CANX', 'PDIA6', 'CALR', 'CLCA1', 'SERPINF1', 'PRSS57', 'SH3BGRL3', 'PHGDH', 'CLCA1', 'FCER1G', 'SH3BGRL3', 'PDIA6', 'DDIT4', 'INSIG1', 'PDIA3', 'UBE2L6', 'DDIT4', 'SERPINF1', 'PDIA3', 'CALR', 'DDIT4', 'SH3BGRL3', 'DDIT4', 'FCER1G', 'CRYM', 'ESAM', 'SH3BGRL3', 'PDIA3', 'DDIT4', 'CD52', 'HBZ', 'DDIT4', 'ASNS', 'PDIA3', 'SPCS2', 'PDIA3', 'SPCS2', 'PDIA6', 'HSP90B1', 'PDIA3', 'PDIA3', 'HSP90B1', 'CD52', 'SH3BGRL3', 'DAD1', 'FCER1G', 'DDIT4', 'PDIA3', 'CITED2', 'CLCA1', 'PRSS57', 'SH3BGRL3', 'CLCA1', 'DDIT4', 'SLC3A2', 'CLCA1', 'DDIT4', 'PDIA3', 'PDIA3', 'CITED2', 'CALR', 'HBA1'),\n",
       "           ...,\n",
       "           ('SEC61A1', 'VIM', 'PDIA3', 'DDIT3', 'MTHFD2', 'CDC45', 'GINS2', 'TMED2', 'ODC1', 'CEBPB', 'RPL39', 'DDIT4', 'ODC1', 'STXBP6', 'TMED2', 'VIM', 'VIM', 'MS4A4A', 'GAL', 'GAL', 'HBA1', 'LYAR', 'MANF', 'STXBP6', 'STXBP6', 'STXBP6', 'VIM', 'GAL', 'GAL', 'DNAJB11', 'GAL', 'TMED2', 'STXBP6', 'TMED2', 'SEC61A1', 'PHF19', 'RPL39', 'DNAJA1', 'GAL', 'RPL39', 'MANF', 'RPL39', 'DUT', 'PHF19', 'RPL39', 'BOLA3', 'HBA1', 'ODC1', 'RPL39', 'HBA1', 'HSPA8', 'TMED2', 'CKS1B', 'HBZ', 'TMED2', 'GMNN', 'VIM', 'COCH', 'CRELD2', 'VIM', 'TMED2', 'STXBP6', 'MANF', 'HBA1', 'MS4A4A', 'RPL39', 'HBA1', 'HBA1', 'RGS16', 'STXBP6', 'TUBB2B', 'STXBP6', 'MANF', 'HBZ', 'DDIT3'),\n",
       "           ('STXBP6', 'HSD17B12', 'HSP90B1', 'SLC3A2', 'VIM', 'GINS2', 'NPW', 'HBA1', 'HBZ', 'DDIT3', 'STXBP6', 'CEBPB', 'STXBP6', 'RPL39', 'ODC1', 'HBZ', 'HBA1', 'HBA1', 'HBA1', 'HBA1', 'GAL', 'HBZ', 'HBA1', 'RPL39', 'RPL39', 'MANF', 'MANF', 'HBZ', 'HBA1', 'MANF', 'HBA1', 'STXBP6', 'HBA1', 'STXBP6', 'RPL39', 'TMED2', 'MANF', 'TMED2', 'HBZ', 'STXBP6', 'STXBP6', 'TMED2', 'GAL', 'ODC1', 'MANF', 'HBA1', 'STXBP6', 'GAL', 'DNAJB11', 'ODC1', 'RPL39', 'RPL39', 'STXBP6', 'STXBP6', 'HSPA5', 'STXBP6', 'HBA1', 'DDRGK1', 'MANF', 'GAL', 'STXBP6', 'TMED2', 'STXBP6', 'HBZ', 'HBA1', 'STXBP6', 'STXBP6', 'STXBP6', 'STXBP6', 'MANF', 'RPL39', 'RPL39', 'TMED2', 'HBA1', 'HERPUD1'),\n",
       "           ('VIM', 'IDH3A', 'VIM', 'CHI3L2', 'MS4A4A', 'VIM', 'GAL', 'STXBP6', 'HBA1', 'SLC3A2', 'VIM', 'SLC3A2', 'VIM', 'VIM', 'VIM', 'HBA1', 'HBZ', 'HBZ', 'HBZ', 'HBZ', 'HBZ', 'HBA1', 'HBZ', 'VIM', 'VIM', 'VIM', 'STXBP6', 'HBA1', 'HBZ', 'VIM', 'HBZ', 'VIM', 'VIM', 'VIM', 'VIM', 'VIM', 'VIM', 'ODC1', 'HBA1', 'VIM', 'VIM', 'VIM', 'ODC1', 'VIM', 'VIM', 'HBZ', 'VIM', 'HBA1', 'VIM', 'GAL', 'VIM', 'VIM', 'VIM', 'VIM', 'VIM', 'VIM', 'HBZ', 'GAL', 'VIM', 'MANF', 'VIM', 'VIM', 'VIM', 'VIM', 'HBZ', 'VIM', 'VIM', 'VIM', 'VIM', 'VIM', 'VIM', 'VIM', 'VIM', 'VIM', 'SLC3A2')],\n",
       "          dtype=[('AMIGO3+ctrl', 'O'), ('ARHGAP22+ctrl', 'O'), ('ASCC3+ctrl', 'O'), ('BHLHE40+ctrl', 'O'), ('CAD+ctrl', 'O'), ('CCND3+ctrl', 'O'), ('CHERP+ctrl', 'O'), ('COPB1+ctrl', 'O'), ('COPZ1+ctrl', 'O'), ('CREB1+ctrl', 'O'), ('DAD1+ctrl', 'O'), ('DDIT3+ctrl', 'O'), ('DDOST+ctrl', 'O'), ('DDRGK1+ctrl', 'O'), ('DERL2+ctrl', 'O'), ('DHDDS+ctrl', 'O'), ('DNAJC19+ctrl', 'O'), ('EIF2B2+ctrl', 'O'), ('EIF2B3+ctrl', 'O'), ('EIF2B4+ctrl', 'O'), ('EIF2S1+ctrl', 'O'), ('FARSB+ctrl', 'O'), ('FECH+ctrl', 'O'), ('GBF1+ctrl', 'O'), ('GMPPB+ctrl', 'O'), ('GNPNAT1+ctrl', 'O'), ('HSD17B12+ctrl', 'O'), ('HSPA5+ctrl', 'O'), ('HSPA9+ctrl', 'O'), ('HYOU1+ctrl', 'O'), ('IARS2+ctrl', 'O'), ('IDH3A+ctrl', 'O'), ('IER3IP1+ctrl', 'O'), ('KCTD16+ctrl', 'O'), ('MANF+ctrl', 'O'), ('MRGBP+ctrl', 'O'), ('MRPL39+ctrl', 'O'), ('MTHFD1+ctrl', 'O'), ('NEDD8+ctrl', 'O'), ('OST4+ctrl', 'O'), ('P4HB+ctrl', 'O'), ('PDIA6+ctrl', 'O'), ('PPWD1+ctrl', 'O'), ('PSMD4+ctrl', 'O'), ('PTDSS1+ctrl', 'O'), ('SAMM50+ctrl', 'O'), ('SCYL1+ctrl', 'O'), ('SEC61A1+ctrl', 'O'), ('SEC61B+ctrl', 'O'), ('SEC61G+ctrl', 'O'), ('SEC63+ctrl', 'O'), ('SEL1L+ctrl', 'O'), ('SLC35B1+ctrl', 'O'), ('SLC39A7+ctrl', 'O'), ('SOCS1+ctrl', 'O'), ('SPCS2+ctrl', 'O'), ('SPCS3+ctrl', 'O'), ('SRP68+ctrl', 'O'), ('SRP72+ctrl', 'O'), ('SRPRB+ctrl', 'O'), ('STT3A+ctrl', 'O'), ('SYVN1+ctrl', 'O'), ('TELO2+ctrl', 'O'), ('TIMM23+ctrl', 'O'), ('TIMM44+ctrl', 'O'), ('TMED2+ctrl', 'O'), ('TMED10+ctrl', 'O'), ('TMEM167A+ctrl', 'O'), ('TTI1+ctrl', 'O'), ('TTI2+ctrl', 'O'), ('UFL1+ctrl', 'O'), ('UFM1+ctrl', 'O'), ('XRN1+ctrl', 'O'), ('YIPF5+ctrl', 'O'), ('ZNF326+ctrl', 'O')])"
      ]
     },
     "execution_count": 59,
     "metadata": {},
     "output_type": "execute_result"
    }
   ],
   "source": [
    "adata_t_sub_copy.uns['wilcoxon']['names']"
   ]
  },
  {
   "cell_type": "code",
   "execution_count": 60,
   "id": "0190e9b6",
   "metadata": {},
   "outputs": [],
   "source": [
    "baseline_rank = []"
   ]
  },
  {
   "cell_type": "code",
   "execution_count": 61,
   "id": "8ef45255",
   "metadata": {},
   "outputs": [
    {
     "name": "stdout",
     "output_type": "stream",
     "text": [
      "AMIGO3+ctrl 1098\n",
      "ARHGAP22+ctrl 837\n",
      "ASCC3+ctrl 834\n",
      "BHLHE40+ctrl 1075\n",
      "CAD+ctrl 1257\n",
      "CCND3+ctrl 417\n",
      "CHERP+ctrl 921\n",
      "COPB1+ctrl 671\n",
      "COPZ1+ctrl 746\n",
      "CREB1+ctrl 1242\n",
      "DAD1+ctrl 515\n",
      "DDIT3+ctrl 1063\n",
      "DDOST+ctrl 1263\n",
      "DDRGK1+ctrl 1094\n",
      "DERL2+ctrl 537\n",
      "DHDDS+ctrl 932\n",
      "DNAJC19+ctrl 959\n",
      "EIF2B2+ctrl 803\n",
      "EIF2B3+ctrl 714\n",
      "EIF2B4+ctrl 1239\n",
      "EIF2S1+ctrl 556\n",
      "FARSB+ctrl 1001\n",
      "FECH+ctrl 967\n",
      "GBF1+ctrl 794\n",
      "GMPPB+ctrl 1211\n",
      "GNPNAT1+ctrl 1265\n",
      "HSD17B12+ctrl 822\n",
      "HSPA5+ctrl 1142\n",
      "HSPA9+ctrl 1075\n",
      "HYOU1+ctrl 908\n",
      "IARS2+ctrl 1037\n",
      "IDH3A+ctrl 716\n",
      "IER3IP1+ctrl 654\n",
      "KCTD16+ctrl 1028\n",
      "MANF+ctrl 415\n",
      "MRGBP+ctrl 784\n",
      "MRPL39+ctrl 827\n",
      "MTHFD1+ctrl 1155\n",
      "NEDD8+ctrl 658\n",
      "OST4+ctrl 643\n",
      "P4HB+ctrl 634\n",
      "PDIA6+ctrl 984\n",
      "PPWD1+ctrl 744\n",
      "PSMD4+ctrl 814\n",
      "PTDSS1+ctrl 916\n",
      "SAMM50+ctrl 782\n",
      "SCYL1+ctrl 710\n",
      "SEC61A1+ctrl 760\n",
      "SEC61B+ctrl 822\n",
      "SEC61G+ctrl 923\n",
      "SEC63+ctrl 678\n",
      "SEL1L+ctrl 748\n",
      "SLC35B1+ctrl 881\n",
      "SLC39A7+ctrl 673\n",
      "SOCS1+ctrl 838\n",
      "SPCS2+ctrl 731\n",
      "SPCS3+ctrl 760\n",
      "SRP68+ctrl 659\n",
      "SRP72+ctrl 1012\n",
      "SRPRB+ctrl 1009\n",
      "STT3A+ctrl 692\n",
      "SYVN1+ctrl 469\n",
      "TELO2+ctrl 951\n",
      "TIMM23+ctrl 863\n",
      "TIMM44+ctrl 817\n",
      "TMED2+ctrl 991\n",
      "TMED10+ctrl 741\n",
      "TMEM167A+ctrl 705\n",
      "TTI1+ctrl 607\n",
      "TTI2+ctrl 570\n",
      "UFL1+ctrl 962\n",
      "UFM1+ctrl 612\n",
      "XRN1+ctrl 789\n",
      "YIPF5+ctrl 1061\n",
      "ZNF326+ctrl 882\n"
     ]
    }
   ],
   "source": [
    "for c in perturb_conditions:\n",
    "    hvg_list = adata_t_sub_copy.uns['wilcoxon']['names'][c]\n",
    "    p_val = adata_t_sub_copy.uns['wilcoxon']['pvals_adj'][c]\n",
    "    df_gene_emb_dist = pd.DataFrame()\n",
    "    df_gene_emb_dist['gene'] = hvg_list\n",
    "    df_gene_emb_dist['p_val'] = p_val\n",
    "    df_gene_emb_dist = df_gene_emb_dist.sort_values(by='p_val')\n",
    "    print(c, np.where(df_gene_emb_dist.gene.values==c.split('+')[0])[0][0])\n",
    "    baseline_rank.append(np.where(df_gene_emb_dist.gene.values==c.split('+')[0])[0][0])"
   ]
  },
  {
   "cell_type": "code",
   "execution_count": 62,
   "id": "218ad3fe",
   "metadata": {},
   "outputs": [
    {
     "data": {
      "text/html": [
       "<div>\n",
       "<style scoped>\n",
       "    .dataframe tbody tr th:only-of-type {\n",
       "        vertical-align: middle;\n",
       "    }\n",
       "\n",
       "    .dataframe tbody tr th {\n",
       "        vertical-align: top;\n",
       "    }\n",
       "\n",
       "    .dataframe thead th {\n",
       "        text-align: right;\n",
       "    }\n",
       "</style>\n",
       "<table border=\"1\" class=\"dataframe\">\n",
       "  <thead>\n",
       "    <tr style=\"text-align: right;\">\n",
       "      <th></th>\n",
       "      <th>conditions</th>\n",
       "      <th>wilcoxon</th>\n",
       "      <th>scGPT_rank (attn)</th>\n",
       "      <th>scGPT_rank (gene emb)</th>\n",
       "      <th>scGPT_rank (attn, mean)</th>\n",
       "      <th>scGPT_rank (gene emb, mean)</th>\n",
       "    </tr>\n",
       "  </thead>\n",
       "  <tbody>\n",
       "    <tr>\n",
       "      <th>0</th>\n",
       "      <td>AMIGO3+ctrl</td>\n",
       "      <td>1098</td>\n",
       "      <td>569</td>\n",
       "      <td>409</td>\n",
       "      <td>569</td>\n",
       "      <td>409</td>\n",
       "    </tr>\n",
       "    <tr>\n",
       "      <th>1</th>\n",
       "      <td>ARHGAP22+ctrl</td>\n",
       "      <td>318</td>\n",
       "      <td>175</td>\n",
       "      <td>126</td>\n",
       "      <td>0</td>\n",
       "      <td>0</td>\n",
       "    </tr>\n",
       "    <tr>\n",
       "      <th>2</th>\n",
       "      <td>ASCC3+ctrl</td>\n",
       "      <td>36</td>\n",
       "      <td>15</td>\n",
       "      <td>48</td>\n",
       "      <td>0</td>\n",
       "      <td>0</td>\n",
       "    </tr>\n",
       "    <tr>\n",
       "      <th>3</th>\n",
       "      <td>BHLHE40+ctrl</td>\n",
       "      <td>3</td>\n",
       "      <td>584</td>\n",
       "      <td>558</td>\n",
       "      <td>0</td>\n",
       "      <td>0</td>\n",
       "    </tr>\n",
       "    <tr>\n",
       "      <th>4</th>\n",
       "      <td>CAD+ctrl</td>\n",
       "      <td>93</td>\n",
       "      <td>257</td>\n",
       "      <td>557</td>\n",
       "      <td>0</td>\n",
       "      <td>0</td>\n",
       "    </tr>\n",
       "    <tr>\n",
       "      <th>...</th>\n",
       "      <td>...</td>\n",
       "      <td>...</td>\n",
       "      <td>...</td>\n",
       "      <td>...</td>\n",
       "      <td>...</td>\n",
       "      <td>...</td>\n",
       "    </tr>\n",
       "    <tr>\n",
       "      <th>70</th>\n",
       "      <td>UFL1+ctrl</td>\n",
       "      <td>19</td>\n",
       "      <td>3</td>\n",
       "      <td>39</td>\n",
       "      <td>0</td>\n",
       "      <td>0</td>\n",
       "    </tr>\n",
       "    <tr>\n",
       "      <th>71</th>\n",
       "      <td>UFM1+ctrl</td>\n",
       "      <td>0</td>\n",
       "      <td>4</td>\n",
       "      <td>2</td>\n",
       "      <td>0</td>\n",
       "      <td>0</td>\n",
       "    </tr>\n",
       "    <tr>\n",
       "      <th>72</th>\n",
       "      <td>XRN1+ctrl</td>\n",
       "      <td>216</td>\n",
       "      <td>163</td>\n",
       "      <td>206</td>\n",
       "      <td>0</td>\n",
       "      <td>0</td>\n",
       "    </tr>\n",
       "    <tr>\n",
       "      <th>73</th>\n",
       "      <td>YIPF5+ctrl</td>\n",
       "      <td>11</td>\n",
       "      <td>16</td>\n",
       "      <td>55</td>\n",
       "      <td>0</td>\n",
       "      <td>0</td>\n",
       "    </tr>\n",
       "    <tr>\n",
       "      <th>74</th>\n",
       "      <td>ZNF326+ctrl</td>\n",
       "      <td>0</td>\n",
       "      <td>218</td>\n",
       "      <td>434</td>\n",
       "      <td>0</td>\n",
       "      <td>0</td>\n",
       "    </tr>\n",
       "  </tbody>\n",
       "</table>\n",
       "<p>75 rows × 6 columns</p>\n",
       "</div>"
      ],
      "text/plain": [
       "       conditions  wilcoxon  scGPT_rank (attn)  scGPT_rank (gene emb)  \\\n",
       "0     AMIGO3+ctrl      1098                569                    409   \n",
       "1   ARHGAP22+ctrl       318                175                    126   \n",
       "2      ASCC3+ctrl        36                 15                     48   \n",
       "3    BHLHE40+ctrl         3                584                    558   \n",
       "4        CAD+ctrl        93                257                    557   \n",
       "..            ...       ...                ...                    ...   \n",
       "70      UFL1+ctrl        19                  3                     39   \n",
       "71      UFM1+ctrl         0                  4                      2   \n",
       "72      XRN1+ctrl       216                163                    206   \n",
       "73     YIPF5+ctrl        11                 16                     55   \n",
       "74    ZNF326+ctrl         0                218                    434   \n",
       "\n",
       "    scGPT_rank (attn, mean)  scGPT_rank (gene emb, mean)  \n",
       "0                       569                          409  \n",
       "1                         0                            0  \n",
       "2                         0                            0  \n",
       "3                         0                            0  \n",
       "4                         0                            0  \n",
       "..                      ...                          ...  \n",
       "70                        0                            0  \n",
       "71                        0                            0  \n",
       "72                        0                            0  \n",
       "73                        0                            0  \n",
       "74                        0                            0  \n",
       "\n",
       "[75 rows x 6 columns]"
      ]
     },
     "execution_count": 62,
     "metadata": {},
     "output_type": "execute_result"
    }
   ],
   "source": [
    "df_results"
   ]
  },
  {
   "cell_type": "code",
   "execution_count": 63,
   "id": "ab746bb6",
   "metadata": {},
   "outputs": [],
   "source": [
    "df_results['wilcoxon (random)'] = baseline_rank"
   ]
  },
  {
   "cell_type": "code",
   "execution_count": 64,
   "id": "7d96a9a2",
   "metadata": {},
   "outputs": [
    {
     "data": {
      "text/html": [
       "<div>\n",
       "<style scoped>\n",
       "    .dataframe tbody tr th:only-of-type {\n",
       "        vertical-align: middle;\n",
       "    }\n",
       "\n",
       "    .dataframe tbody tr th {\n",
       "        vertical-align: top;\n",
       "    }\n",
       "\n",
       "    .dataframe thead th {\n",
       "        text-align: right;\n",
       "    }\n",
       "</style>\n",
       "<table border=\"1\" class=\"dataframe\">\n",
       "  <thead>\n",
       "    <tr style=\"text-align: right;\">\n",
       "      <th></th>\n",
       "      <th>conditions</th>\n",
       "      <th>wilcoxon</th>\n",
       "      <th>scGPT_rank (attn)</th>\n",
       "      <th>scGPT_rank (gene emb)</th>\n",
       "      <th>scGPT_rank (attn, mean)</th>\n",
       "      <th>scGPT_rank (gene emb, mean)</th>\n",
       "      <th>wilcoxon (random)</th>\n",
       "    </tr>\n",
       "  </thead>\n",
       "  <tbody>\n",
       "    <tr>\n",
       "      <th>0</th>\n",
       "      <td>AMIGO3+ctrl</td>\n",
       "      <td>1098</td>\n",
       "      <td>569</td>\n",
       "      <td>409</td>\n",
       "      <td>569</td>\n",
       "      <td>409</td>\n",
       "      <td>1098</td>\n",
       "    </tr>\n",
       "    <tr>\n",
       "      <th>1</th>\n",
       "      <td>ARHGAP22+ctrl</td>\n",
       "      <td>318</td>\n",
       "      <td>175</td>\n",
       "      <td>126</td>\n",
       "      <td>0</td>\n",
       "      <td>0</td>\n",
       "      <td>837</td>\n",
       "    </tr>\n",
       "    <tr>\n",
       "      <th>2</th>\n",
       "      <td>ASCC3+ctrl</td>\n",
       "      <td>36</td>\n",
       "      <td>15</td>\n",
       "      <td>48</td>\n",
       "      <td>0</td>\n",
       "      <td>0</td>\n",
       "      <td>834</td>\n",
       "    </tr>\n",
       "    <tr>\n",
       "      <th>3</th>\n",
       "      <td>BHLHE40+ctrl</td>\n",
       "      <td>3</td>\n",
       "      <td>584</td>\n",
       "      <td>558</td>\n",
       "      <td>0</td>\n",
       "      <td>0</td>\n",
       "      <td>1075</td>\n",
       "    </tr>\n",
       "    <tr>\n",
       "      <th>4</th>\n",
       "      <td>CAD+ctrl</td>\n",
       "      <td>93</td>\n",
       "      <td>257</td>\n",
       "      <td>557</td>\n",
       "      <td>0</td>\n",
       "      <td>0</td>\n",
       "      <td>1257</td>\n",
       "    </tr>\n",
       "    <tr>\n",
       "      <th>...</th>\n",
       "      <td>...</td>\n",
       "      <td>...</td>\n",
       "      <td>...</td>\n",
       "      <td>...</td>\n",
       "      <td>...</td>\n",
       "      <td>...</td>\n",
       "      <td>...</td>\n",
       "    </tr>\n",
       "    <tr>\n",
       "      <th>70</th>\n",
       "      <td>UFL1+ctrl</td>\n",
       "      <td>19</td>\n",
       "      <td>3</td>\n",
       "      <td>39</td>\n",
       "      <td>0</td>\n",
       "      <td>0</td>\n",
       "      <td>962</td>\n",
       "    </tr>\n",
       "    <tr>\n",
       "      <th>71</th>\n",
       "      <td>UFM1+ctrl</td>\n",
       "      <td>0</td>\n",
       "      <td>4</td>\n",
       "      <td>2</td>\n",
       "      <td>0</td>\n",
       "      <td>0</td>\n",
       "      <td>612</td>\n",
       "    </tr>\n",
       "    <tr>\n",
       "      <th>72</th>\n",
       "      <td>XRN1+ctrl</td>\n",
       "      <td>216</td>\n",
       "      <td>163</td>\n",
       "      <td>206</td>\n",
       "      <td>0</td>\n",
       "      <td>0</td>\n",
       "      <td>789</td>\n",
       "    </tr>\n",
       "    <tr>\n",
       "      <th>73</th>\n",
       "      <td>YIPF5+ctrl</td>\n",
       "      <td>11</td>\n",
       "      <td>16</td>\n",
       "      <td>55</td>\n",
       "      <td>0</td>\n",
       "      <td>0</td>\n",
       "      <td>1061</td>\n",
       "    </tr>\n",
       "    <tr>\n",
       "      <th>74</th>\n",
       "      <td>ZNF326+ctrl</td>\n",
       "      <td>0</td>\n",
       "      <td>218</td>\n",
       "      <td>434</td>\n",
       "      <td>0</td>\n",
       "      <td>0</td>\n",
       "      <td>882</td>\n",
       "    </tr>\n",
       "  </tbody>\n",
       "</table>\n",
       "<p>75 rows × 7 columns</p>\n",
       "</div>"
      ],
      "text/plain": [
       "       conditions  wilcoxon  scGPT_rank (attn)  scGPT_rank (gene emb)  \\\n",
       "0     AMIGO3+ctrl      1098                569                    409   \n",
       "1   ARHGAP22+ctrl       318                175                    126   \n",
       "2      ASCC3+ctrl        36                 15                     48   \n",
       "3    BHLHE40+ctrl         3                584                    558   \n",
       "4        CAD+ctrl        93                257                    557   \n",
       "..            ...       ...                ...                    ...   \n",
       "70      UFL1+ctrl        19                  3                     39   \n",
       "71      UFM1+ctrl         0                  4                      2   \n",
       "72      XRN1+ctrl       216                163                    206   \n",
       "73     YIPF5+ctrl        11                 16                     55   \n",
       "74    ZNF326+ctrl         0                218                    434   \n",
       "\n",
       "    scGPT_rank (attn, mean)  scGPT_rank (gene emb, mean)  wilcoxon (random)  \n",
       "0                       569                          409               1098  \n",
       "1                         0                            0                837  \n",
       "2                         0                            0                834  \n",
       "3                         0                            0               1075  \n",
       "4                         0                            0               1257  \n",
       "..                      ...                          ...                ...  \n",
       "70                        0                            0                962  \n",
       "71                        0                            0                612  \n",
       "72                        0                            0                789  \n",
       "73                        0                            0               1061  \n",
       "74                        0                            0                882  \n",
       "\n",
       "[75 rows x 7 columns]"
      ]
     },
     "execution_count": 64,
     "metadata": {},
     "output_type": "execute_result"
    }
   ],
   "source": [
    "df_results"
   ]
  },
  {
   "cell_type": "code",
   "execution_count": 95,
   "id": "0523b0b6",
   "metadata": {},
   "outputs": [
    {
     "data": {
      "text/plain": [
       "scGPT_rank    83.16\n",
       "wilcoxon      69.92\n",
       "dtype: float64"
      ]
     },
     "execution_count": 95,
     "metadata": {},
     "output_type": "execute_result"
    }
   ],
   "source": [
    "df_results.mean()"
   ]
  },
  {
   "cell_type": "code",
   "execution_count": 64,
   "id": "8667e80a",
   "metadata": {},
   "outputs": [],
   "source": [
    "#df_results.to_csv('/fs01/home/chloexq/scGPT-release/tutorials/vevo_adamson_ranks_Nov28.csv')"
   ]
  },
  {
   "cell_type": "code",
   "execution_count": null,
   "id": "e3321132",
   "metadata": {},
   "outputs": [],
   "source": []
  }
 ],
 "metadata": {
  "kernelspec": {
   "display_name": "Python 3 (ipykernel)",
   "language": "python",
   "name": "python3"
  },
  "language_info": {
   "codemirror_mode": {
    "name": "ipython",
    "version": 3
   },
   "file_extension": ".py",
   "mimetype": "text/x-python",
   "name": "python",
   "nbconvert_exporter": "python",
   "pygments_lexer": "ipython3",
   "version": "3.9.12"
  }
 },
 "nbformat": 4,
 "nbformat_minor": 5
}

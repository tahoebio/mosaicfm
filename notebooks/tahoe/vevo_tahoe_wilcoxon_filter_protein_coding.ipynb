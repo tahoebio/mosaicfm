{
 "cells": [
  {
   "cell_type": "code",
   "execution_count": 1,
   "metadata": {},
   "outputs": [],
   "source": [
    "import copy\n",
    "import gc\n",
    "import json\n",
    "import os\n",
    "from pathlib import Path\n",
    "import sys\n",
    "import time\n",
    "import traceback\n",
    "from typing import List, Tuple, Dict, Union, Optional\n",
    "import warnings\n",
    "\n",
    "import torch\n",
    "from anndata import AnnData\n",
    "import scanpy as sc\n",
    "#import scvi\n",
    "import numpy as np\n",
    "import pandas as pd\n",
    "import wandb\n",
    "from scipy.sparse import issparse\n",
    "import matplotlib.pyplot as plt\n",
    "from pathlib import Path"
   ]
  },
  {
   "cell_type": "code",
   "execution_count": 2,
   "metadata": {},
   "outputs": [
    {
     "name": "stderr",
     "output_type": "stream",
     "text": [
      "/fs01/home/ahz/poetry_env/lib/python3.9/site-packages/anndata/__init__.py:55: FutureWarning: `anndata.read` is deprecated, use `anndata.read_h5ad` instead. `ad.read` will be removed in mid 2024.\n",
      "  warnings.warn(\n"
     ]
    },
    {
     "data": {
      "text/plain": [
       "AnnData object with n_obs × n_vars = 83476 × 62710\n",
       "    obs: 'sample', 'species', 'gene_count', 'tscp_count', 'mread_count', 'bc1_wind', 'bc2_wind', 'bc3_wind', 'bc1_well', 'bc2_well', 'bc3_well', 'id', 'drugname_drugconc', 'drug', 'INT_ID', 'NUM.SNPS', 'NUM.READS', 'demuxlet_call', 'BEST.GUESS', 'BEST.LLK', 'NEXT.GUESS', 'NEXT.LLK', 'DIFF.LLK.BEST.NEXT', 'BEST.POSTERIOR', 'SNG.POSTERIOR', 'cell_line', 'SNG.BEST.LLK', 'SNG.NEXT.GUESS', 'SNG.NEXT.LLK', 'SNG.ONLY.POSTERIOR', 'DBL.BEST.GUESS', 'DBL.BEST.LLK', 'DIFF.LLK.SNG.DBL', 'sublibrary', 'BARCODE', 'pcnt_mito', 'S_score', 'G2M_score', 'phase', 'cell_line_orig', 'pass_filter', 'cell_name', 'condition', 'dosage'"
      ]
     },
     "execution_count": 2,
     "metadata": {},
     "output_type": "execute_result"
    }
   ],
   "source": [
    "data_dir = Path(\"/datasets/Tahoe-100M/Tahoe/vevo_filter/plate2_demo_final.h5ad\")\n",
    "adata = sc.read(data_dir)\n",
    "adata"
   ]
  },
  {
   "cell_type": "code",
   "execution_count": 3,
   "metadata": {},
   "outputs": [
    {
     "data": {
      "text/plain": [
       "62710"
      ]
     },
     "execution_count": 3,
     "metadata": {},
     "output_type": "execute_result"
    }
   ],
   "source": [
    "adata.n_vars"
   ]
  },
  {
   "cell_type": "code",
   "execution_count": 4,
   "metadata": {},
   "outputs": [],
   "source": [
    "data_is_raw = True\n"
   ]
  },
  {
   "cell_type": "code",
   "execution_count": 5,
   "metadata": {},
   "outputs": [
    {
     "name": "stdout",
     "output_type": "stream",
     "text": [
      " baseline_filtered.pkl\n",
      " boxplot_83968_samples_mean_9387.77.png\n",
      " job.sb\n",
      " scgpt_gene_biotypes.csv\n",
      " slurm-15039023.out\n",
      " slurm-15047666.out\n",
      " slurm-15397690.out\n",
      " slurm-15398051.out\n",
      " slurm-15398423.out\n",
      " tahoe_filter_count.py\n",
      " vevo_adamson_attn.ipynb\n",
      " vevo_adamson_gene_emb.ipynb\n",
      " vevo_adamson_mask.ipynb\n",
      " vevo_adamson_mask_null.py\n",
      " vevo_adamson_mask.py\n",
      "'vevo_norman_gene_emb copy.ipynb'\n",
      " vevo_norman_gene_emb.ipynb\n",
      " vevo_norman_gene_mask.ipynb\n",
      " vevo_norman_mask.py\n",
      " vevo_tahoe_wilcoxon_filter_count.ipynb\n",
      " vevo_tahoe_wilcoxon_filter_protein_coding.ipynb\n",
      " vevo_tahoe_wilcoxon_hvg.ipynb\n",
      " wandb\n",
      " wilcoxon_filtered.pkl\n"
     ]
    }
   ],
   "source": [
    "!ls"
   ]
  },
  {
   "cell_type": "code",
   "execution_count": 6,
   "metadata": {},
   "outputs": [],
   "source": [
    "# filter by protein coding gene\n",
    "df = pd.read_csv(\"scgpt_gene_biotypes.csv\")"
   ]
  },
  {
   "cell_type": "code",
   "execution_count": 7,
   "metadata": {},
   "outputs": [
    {
     "data": {
      "text/html": [
       "<div>\n",
       "<style scoped>\n",
       "    .dataframe tbody tr th:only-of-type {\n",
       "        vertical-align: middle;\n",
       "    }\n",
       "\n",
       "    .dataframe tbody tr th {\n",
       "        vertical-align: top;\n",
       "    }\n",
       "\n",
       "    .dataframe thead th {\n",
       "        text-align: right;\n",
       "    }\n",
       "</style>\n",
       "<table border=\"1\" class=\"dataframe\">\n",
       "  <thead>\n",
       "    <tr style=\"text-align: right;\">\n",
       "      <th></th>\n",
       "      <th>feature_id</th>\n",
       "      <th>feature_name</th>\n",
       "      <th>feature_length</th>\n",
       "      <th>feature_type</th>\n",
       "    </tr>\n",
       "  </thead>\n",
       "  <tbody>\n",
       "    <tr>\n",
       "      <th>0</th>\n",
       "      <td>ENSG00000121410</td>\n",
       "      <td>A1BG</td>\n",
       "      <td>3999</td>\n",
       "      <td>protein_coding</td>\n",
       "    </tr>\n",
       "    <tr>\n",
       "      <th>1</th>\n",
       "      <td>ENSG00000268895</td>\n",
       "      <td>A1BG-AS1</td>\n",
       "      <td>3374</td>\n",
       "      <td>lncRNA</td>\n",
       "    </tr>\n",
       "    <tr>\n",
       "      <th>2</th>\n",
       "      <td>ENSG00000148584</td>\n",
       "      <td>A1CF</td>\n",
       "      <td>9603</td>\n",
       "      <td>protein_coding</td>\n",
       "    </tr>\n",
       "    <tr>\n",
       "      <th>3</th>\n",
       "      <td>ENSG00000175899</td>\n",
       "      <td>A2M</td>\n",
       "      <td>6318</td>\n",
       "      <td>protein_coding</td>\n",
       "    </tr>\n",
       "    <tr>\n",
       "      <th>4</th>\n",
       "      <td>ENSG00000245105</td>\n",
       "      <td>A2M-AS1</td>\n",
       "      <td>2948</td>\n",
       "      <td>lncRNA</td>\n",
       "    </tr>\n",
       "    <tr>\n",
       "      <th>...</th>\n",
       "      <td>...</td>\n",
       "      <td>...</td>\n",
       "      <td>...</td>\n",
       "      <td>...</td>\n",
       "    </tr>\n",
       "    <tr>\n",
       "      <th>60512</th>\n",
       "      <td>ENSG00000288719</td>\n",
       "      <td>RP4-669P10.21</td>\n",
       "      <td>4252</td>\n",
       "      <td>lncRNA</td>\n",
       "    </tr>\n",
       "    <tr>\n",
       "      <th>60513</th>\n",
       "      <td>ENSG00000288720</td>\n",
       "      <td>RP11-852E15.3</td>\n",
       "      <td>7007</td>\n",
       "      <td>lncRNA</td>\n",
       "    </tr>\n",
       "    <tr>\n",
       "      <th>60514</th>\n",
       "      <td>ENSG00000288721</td>\n",
       "      <td>RP5-973N23.5</td>\n",
       "      <td>7765</td>\n",
       "      <td>protein_coding</td>\n",
       "    </tr>\n",
       "    <tr>\n",
       "      <th>60515</th>\n",
       "      <td>ENSG00000288723</td>\n",
       "      <td>RP11-553N16.6</td>\n",
       "      <td>1015</td>\n",
       "      <td>lncRNA</td>\n",
       "    </tr>\n",
       "    <tr>\n",
       "      <th>60516</th>\n",
       "      <td>ENSG00000288724</td>\n",
       "      <td>RP13-546I2.2</td>\n",
       "      <td>625</td>\n",
       "      <td>lncRNA</td>\n",
       "    </tr>\n",
       "  </tbody>\n",
       "</table>\n",
       "<p>60517 rows × 4 columns</p>\n",
       "</div>"
      ],
      "text/plain": [
       "            feature_id   feature_name  feature_length    feature_type\n",
       "0      ENSG00000121410           A1BG            3999  protein_coding\n",
       "1      ENSG00000268895       A1BG-AS1            3374          lncRNA\n",
       "2      ENSG00000148584           A1CF            9603  protein_coding\n",
       "3      ENSG00000175899            A2M            6318  protein_coding\n",
       "4      ENSG00000245105        A2M-AS1            2948          lncRNA\n",
       "...                ...            ...             ...             ...\n",
       "60512  ENSG00000288719  RP4-669P10.21            4252          lncRNA\n",
       "60513  ENSG00000288720  RP11-852E15.3            7007          lncRNA\n",
       "60514  ENSG00000288721   RP5-973N23.5            7765  protein_coding\n",
       "60515  ENSG00000288723  RP11-553N16.6            1015          lncRNA\n",
       "60516  ENSG00000288724   RP13-546I2.2             625          lncRNA\n",
       "\n",
       "[60517 rows x 4 columns]"
      ]
     },
     "execution_count": 7,
     "metadata": {},
     "output_type": "execute_result"
    }
   ],
   "source": [
    "df"
   ]
  },
  {
   "cell_type": "code",
   "execution_count": 9,
   "metadata": {},
   "outputs": [
    {
     "data": {
      "text/plain": [
       "19966"
      ]
     },
     "execution_count": 9,
     "metadata": {},
     "output_type": "execute_result"
    }
   ],
   "source": [
    "protein_coding_genes = df[df[\"feature_type\"] == \"protein_coding\"][\"feature_name\"].tolist()\n",
    "len(protein_coding_genes)"
   ]
  },
  {
   "cell_type": "code",
   "execution_count": 10,
   "metadata": {},
   "outputs": [
    {
     "data": {
      "text/plain": [
       "['A1BG', 'A1CF', 'A2M', 'A2ML1', 'A3GALT2']"
      ]
     },
     "execution_count": 10,
     "metadata": {},
     "output_type": "execute_result"
    }
   ],
   "source": [
    "protein_coding_genes[:5]"
   ]
  },
  {
   "cell_type": "code",
   "execution_count": 12,
   "metadata": {},
   "outputs": [
    {
     "data": {
      "text/plain": [
       "Index(['TSPAN6', 'TNMD', 'DPM1', 'SCYL3', 'C1orf112', 'FGR', 'CFH', 'FUCA2',\n",
       "       'GCLC', 'NFYA',\n",
       "       ...\n",
       "       'POLGARF', 'ENSG00000291308', 'LY6S', 'ENSG00000291310',\n",
       "       'ENSG00000291312', 'ENSG00000291313', 'ENSG00000291314',\n",
       "       'ENSG00000291315', 'ENSG00000291316', 'TMEM276'],\n",
       "      dtype='object', name='gene_name', length=62710)"
      ]
     },
     "execution_count": 12,
     "metadata": {},
     "output_type": "execute_result"
    }
   ],
   "source": [
    "adata.var.index"
   ]
  },
  {
   "cell_type": "code",
   "execution_count": 13,
   "metadata": {},
   "outputs": [],
   "source": [
    "mask = adata.var.index.isin(protein_coding_genes)\n",
    "adata = adata[:, mask].copy()"
   ]
  },
  {
   "cell_type": "code",
   "execution_count": 14,
   "metadata": {},
   "outputs": [
    {
     "data": {
      "text/plain": [
       "AnnData object with n_obs × n_vars = 83476 × 19219\n",
       "    obs: 'sample', 'species', 'gene_count', 'tscp_count', 'mread_count', 'bc1_wind', 'bc2_wind', 'bc3_wind', 'bc1_well', 'bc2_well', 'bc3_well', 'id', 'drugname_drugconc', 'drug', 'INT_ID', 'NUM.SNPS', 'NUM.READS', 'demuxlet_call', 'BEST.GUESS', 'BEST.LLK', 'NEXT.GUESS', 'NEXT.LLK', 'DIFF.LLK.BEST.NEXT', 'BEST.POSTERIOR', 'SNG.POSTERIOR', 'cell_line', 'SNG.BEST.LLK', 'SNG.NEXT.GUESS', 'SNG.NEXT.LLK', 'SNG.ONLY.POSTERIOR', 'DBL.BEST.GUESS', 'DBL.BEST.LLK', 'DIFF.LLK.SNG.DBL', 'sublibrary', 'BARCODE', 'pcnt_mito', 'S_score', 'G2M_score', 'phase', 'cell_line_orig', 'pass_filter', 'cell_name', 'condition', 'dosage'"
      ]
     },
     "execution_count": 14,
     "metadata": {},
     "output_type": "execute_result"
    }
   ],
   "source": [
    "adata"
   ]
  },
  {
   "cell_type": "code",
   "execution_count": 15,
   "metadata": {},
   "outputs": [],
   "source": [
    "drug_df = pd.read_csv(\"/datasets/Tahoe-100M/Tahoe/vevo_filter/plate2_demo_final_targets.csv\")\n",
    "drug_target_map = dict(zip(drug_df[\"compound\"], drug_df[\"targets\"]))\n",
    "\n",
    "perturb_conditions = list(drug_target_map.values())\n",
    "condition_names_gene = perturb_conditions\n",
    "\n",
    "drug_target_map[\"ctrl\"] = \"ctrl\""
   ]
  },
  {
   "cell_type": "code",
   "execution_count": 16,
   "metadata": {},
   "outputs": [
    {
     "data": {
      "text/plain": [
       "34"
      ]
     },
     "execution_count": 16,
     "metadata": {},
     "output_type": "execute_result"
    }
   ],
   "source": [
    "len(condition_names_gene)"
   ]
  },
  {
   "cell_type": "code",
   "execution_count": 17,
   "metadata": {},
   "outputs": [
    {
     "data": {
      "text/plain": [
       "['EIF4E',\n",
       " 'GSK3B',\n",
       " 'PIK3CA',\n",
       " 'CYP19A1',\n",
       " 'PRKDC',\n",
       " 'MTOR',\n",
       " 'ATM',\n",
       " 'EPAS1',\n",
       " 'PSMB5',\n",
       " 'MET',\n",
       " 'PTGS2',\n",
       " 'ATR',\n",
       " 'MAPK7',\n",
       " 'PRKAA1',\n",
       " 'PBK',\n",
       " 'TOP1',\n",
       " 'PSMB5',\n",
       " 'RPS6KB1',\n",
       " 'NR3C1',\n",
       " 'PRKAA1',\n",
       " 'KLF5',\n",
       " 'EPHB4',\n",
       " 'MAP3K8',\n",
       " 'MAP4K4',\n",
       " 'MAPK14',\n",
       " 'RET',\n",
       " 'KRAS',\n",
       " 'MTOR',\n",
       " 'SMO',\n",
       " 'MAP2K1',\n",
       " 'AURKB',\n",
       " 'ERBB2',\n",
       " 'BRAF',\n",
       " 'BCL2']"
      ]
     },
     "execution_count": 17,
     "metadata": {},
     "output_type": "execute_result"
    }
   ],
   "source": [
    "condition_names_gene"
   ]
  },
  {
   "cell_type": "code",
   "execution_count": 18,
   "metadata": {},
   "outputs": [],
   "source": [
    "# add_counter = 0\n",
    "# for g in condition_names_gene:\n",
    "#     if not adata.var.loc[adata.var[adata.var.index==g].index, 'highly_variable'].values[0]:\n",
    "#         adata.var.loc[adata.var[adata.var.index==g].index, 'highly_variable'] = True\n",
    "#         add_counter += 1"
   ]
  },
  {
   "cell_type": "code",
   "execution_count": 19,
   "metadata": {},
   "outputs": [],
   "source": [
    "# print('Manually add conditions: {}, {}'.format(add_counter, add_counter/len(condition_names_gene)))"
   ]
  },
  {
   "cell_type": "code",
   "execution_count": 20,
   "metadata": {},
   "outputs": [],
   "source": [
    "# adata = adata[:, adata.var[\"highly_variable\"]].copy()\n"
   ]
  },
  {
   "cell_type": "code",
   "execution_count": 21,
   "metadata": {},
   "outputs": [
    {
     "data": {
      "text/plain": [
       "AnnData object with n_obs × n_vars = 83476 × 19219\n",
       "    obs: 'sample', 'species', 'gene_count', 'tscp_count', 'mread_count', 'bc1_wind', 'bc2_wind', 'bc3_wind', 'bc1_well', 'bc2_well', 'bc3_well', 'id', 'drugname_drugconc', 'drug', 'INT_ID', 'NUM.SNPS', 'NUM.READS', 'demuxlet_call', 'BEST.GUESS', 'BEST.LLK', 'NEXT.GUESS', 'NEXT.LLK', 'DIFF.LLK.BEST.NEXT', 'BEST.POSTERIOR', 'SNG.POSTERIOR', 'cell_line', 'SNG.BEST.LLK', 'SNG.NEXT.GUESS', 'SNG.NEXT.LLK', 'SNG.ONLY.POSTERIOR', 'DBL.BEST.GUESS', 'DBL.BEST.LLK', 'DIFF.LLK.SNG.DBL', 'sublibrary', 'BARCODE', 'pcnt_mito', 'S_score', 'G2M_score', 'phase', 'cell_line_orig', 'pass_filter', 'cell_name', 'condition', 'dosage'"
      ]
     },
     "execution_count": 21,
     "metadata": {},
     "output_type": "execute_result"
    }
   ],
   "source": [
    "adata"
   ]
  },
  {
   "cell_type": "code",
   "execution_count": 22,
   "metadata": {},
   "outputs": [],
   "source": [
    "adata.obs[\"gene_target\"] = adata.obs[\"condition\"].map(drug_target_map)"
   ]
  },
  {
   "cell_type": "code",
   "execution_count": 23,
   "metadata": {},
   "outputs": [],
   "source": [
    "def sample_cells_per_label(adata, column, n=75, random_state=None):\n",
    "    \"\"\"\n",
    "    Randomly sample `n` cells per unique label in `adata.obs[column]`.\n",
    "    \n",
    "    Parameters:\n",
    "        adata (AnnData): The AnnData object.\n",
    "        column (str): Column in `adata.obs` to sample from.\n",
    "        n (int): Number of cells to sample per label.\n",
    "        random_state (int, optional): Random seed for reproducibility.\n",
    "\n",
    "    Returns:\n",
    "        AnnData: A new AnnData object with the sampled cells.\n",
    "    \"\"\"\n",
    "    sampled_indices = (\n",
    "        adata.obs.groupby(column)\n",
    "        .apply(lambda x: x.sample(n=min(n, len(x)), random_state=random_state))\n",
    "        .index.get_level_values(1)\n",
    "    )\n",
    "    \n",
    "    return adata[sampled_indices].copy()\n",
    "# adata = sample_cells_per_label(adata, column=\"gene_target\", n=75, random_state=42)\n",
    "# adata"
   ]
  },
  {
   "cell_type": "code",
   "execution_count": 24,
   "metadata": {},
   "outputs": [
    {
     "data": {
      "text/plain": [
       "BARCODE_SUB_LIB_ID\n",
       "08_003_169-lib_1000    TOP1\n",
       "08_028_044-lib_1000    TOP1\n",
       "08_046_119-lib_1000    TOP1\n",
       "08_050_191-lib_1000    TOP1\n",
       "08_064_086-lib_1000    TOP1\n",
       "                       ... \n",
       "96_133_088-lib_999     ctrl\n",
       "96_144_143-lib_999     ctrl\n",
       "96_146_192-lib_999     ctrl\n",
       "96_172_041-lib_999     ctrl\n",
       "96_173_021-lib_999     ctrl\n",
       "Name: gene_target, Length: 83476, dtype: object"
      ]
     },
     "execution_count": 24,
     "metadata": {},
     "output_type": "execute_result"
    }
   ],
   "source": [
    "adata.obs[\"gene_target\"]"
   ]
  },
  {
   "cell_type": "code",
   "execution_count": 25,
   "metadata": {},
   "outputs": [
    {
     "data": {
      "text/plain": [
       "AnnData object with n_obs × n_vars = 83476 × 19219\n",
       "    obs: 'sample', 'species', 'gene_count', 'tscp_count', 'mread_count', 'bc1_wind', 'bc2_wind', 'bc3_wind', 'bc1_well', 'bc2_well', 'bc3_well', 'id', 'drugname_drugconc', 'drug', 'INT_ID', 'NUM.SNPS', 'NUM.READS', 'demuxlet_call', 'BEST.GUESS', 'BEST.LLK', 'NEXT.GUESS', 'NEXT.LLK', 'DIFF.LLK.BEST.NEXT', 'BEST.POSTERIOR', 'SNG.POSTERIOR', 'cell_line', 'SNG.BEST.LLK', 'SNG.NEXT.GUESS', 'SNG.NEXT.LLK', 'SNG.ONLY.POSTERIOR', 'DBL.BEST.GUESS', 'DBL.BEST.LLK', 'DIFF.LLK.SNG.DBL', 'sublibrary', 'BARCODE', 'pcnt_mito', 'S_score', 'G2M_score', 'phase', 'cell_line_orig', 'pass_filter', 'cell_name', 'condition', 'dosage', 'gene_target'"
      ]
     },
     "execution_count": 25,
     "metadata": {},
     "output_type": "execute_result"
    }
   ],
   "source": [
    "adata"
   ]
  },
  {
   "cell_type": "code",
   "execution_count": 26,
   "metadata": {},
   "outputs": [],
   "source": [
    "from sklearn.metrics.pairwise import cosine_distances\n",
    "from tqdm import tqdm\n",
    "import pandas as pd"
   ]
  },
  {
   "cell_type": "code",
   "execution_count": 27,
   "metadata": {},
   "outputs": [
    {
     "data": {
      "text/plain": [
       "19220"
      ]
     },
     "execution_count": 27,
     "metadata": {},
     "output_type": "execute_result"
    }
   ],
   "source": [
    "max_len = adata.shape[1] + 1\n",
    "max_len"
   ]
  },
  {
   "cell_type": "code",
   "execution_count": 28,
   "metadata": {},
   "outputs": [
    {
     "data": {
      "text/plain": [
       "array([[0., 0., 0., 0., 0.],\n",
       "       [0., 0., 0., 0., 0.],\n",
       "       [0., 0., 0., 0., 0.],\n",
       "       [0., 0., 0., 1., 0.],\n",
       "       [0., 0., 0., 0., 0.]], dtype=float32)"
      ]
     },
     "execution_count": 28,
     "metadata": {},
     "output_type": "execute_result"
    }
   ],
   "source": [
    "adata.X[:5, :5].toarray()"
   ]
  },
  {
   "cell_type": "code",
   "execution_count": 29,
   "metadata": {},
   "outputs": [],
   "source": [
    "sc.pp.log1p(adata)"
   ]
  },
  {
   "cell_type": "markdown",
   "metadata": {},
   "source": [
    "# Baseline Wilcoxon"
   ]
  },
  {
   "cell_type": "code",
   "execution_count": 30,
   "metadata": {},
   "outputs": [
    {
     "name": "stderr",
     "output_type": "stream",
     "text": [
      "/fs01/home/ahz/poetry_env/lib/python3.9/site-packages/scanpy/tools/_rank_genes_groups.py:394: PerformanceWarning: DataFrame is highly fragmented.  This is usually the result of calling `frame.insert` many times, which has poor performance.  Consider joining all columns at once using pd.concat(axis=1) instead.  To get a de-fragmented frame, use `newframe = frame.copy()`\n",
      "  self.stats[group_name, 'names'] = self.var_names[global_indices]\n",
      "/fs01/home/ahz/poetry_env/lib/python3.9/site-packages/scanpy/tools/_rank_genes_groups.py:396: PerformanceWarning: DataFrame is highly fragmented.  This is usually the result of calling `frame.insert` many times, which has poor performance.  Consider joining all columns at once using pd.concat(axis=1) instead.  To get a de-fragmented frame, use `newframe = frame.copy()`\n",
      "  self.stats[group_name, 'scores'] = scores[global_indices]\n",
      "/fs01/home/ahz/poetry_env/lib/python3.9/site-packages/scanpy/tools/_rank_genes_groups.py:399: PerformanceWarning: DataFrame is highly fragmented.  This is usually the result of calling `frame.insert` many times, which has poor performance.  Consider joining all columns at once using pd.concat(axis=1) instead.  To get a de-fragmented frame, use `newframe = frame.copy()`\n",
      "  self.stats[group_name, 'pvals'] = pvals[global_indices]\n",
      "/fs01/home/ahz/poetry_env/lib/python3.9/site-packages/scanpy/tools/_rank_genes_groups.py:409: PerformanceWarning: DataFrame is highly fragmented.  This is usually the result of calling `frame.insert` many times, which has poor performance.  Consider joining all columns at once using pd.concat(axis=1) instead.  To get a de-fragmented frame, use `newframe = frame.copy()`\n",
      "  self.stats[group_name, 'pvals_adj'] = pvals_adj[global_indices]\n",
      "/fs01/home/ahz/poetry_env/lib/python3.9/site-packages/scanpy/tools/_rank_genes_groups.py:420: PerformanceWarning: DataFrame is highly fragmented.  This is usually the result of calling `frame.insert` many times, which has poor performance.  Consider joining all columns at once using pd.concat(axis=1) instead.  To get a de-fragmented frame, use `newframe = frame.copy()`\n",
      "  self.stats[group_name, 'logfoldchanges'] = np.log2(\n"
     ]
    },
    {
     "data": {
      "text/plain": [
       "rec.array([('RPL3', 'HNRNPA1', 'RPS19', 'NPM1', 'NPM1', 'MYH9', 'NRIP1', 'FTL', 'RPS3', 'RPL4', 'RPS19', 'RPS8', 'FTH1', 'EEF2', 'EEF1G', 'MT-ND4', 'RPS3', 'RPLP1', 'RPS4X', 'RPS2', 'RPS19', 'MT-ND2', 'CRIM1', 'RPL12', 'RPS3', 'EEF2', 'MT2A', 'HSP90AB1', 'FTL', 'FTL', 'SMAD3'),\n",
       "           ('RACK1', 'PPP1R15A', 'MT-ATP8', 'HSP90AB1', 'RPS6', 'RPS2', 'PABPC1', 'MT-ND2', 'MT2A', 'ALDOA', 'RPS3', 'MT-ATP8', 'NPM1', 'MYH9', 'MT-ND4', 'RPS3', 'EEF2', 'RPS3', 'CRIM1', 'NPM1', 'RPS3', 'MT-ATP8', 'FAM107B', 'RPS19', 'RPS6', 'HSPD1', 'RPS19', 'NCL', 'RPS19', 'MT-ATP8', 'CRIM1'),\n",
       "           ('EEF2', 'MT-ND6', 'RPS6', 'PLOD2', 'ACTG1', 'PLEC', 'TFPI', 'RPS3', 'RPS19', 'MYH9', 'RPL37A', 'RPS3', 'FTL', 'PLEC', 'MT-CO1', 'FTL', 'RPS19', 'RPS19', 'TRIO', 'FTL', 'MT2A', 'RPS3', 'SMAD3', 'RPS3', 'MT-ATP8', 'HSP90AB1', 'MT-ATP8', 'NPM1', 'RPS8', 'RPS3', 'FNDC3B'),\n",
       "           ...,\n",
       "           ('EFNA5', 'PDE4D', 'MT-ND1', 'MT-CO1', 'AADAC', 'NDRG1', 'IGFBP4', 'HSPA5', 'EFNA5', 'NDRG1', 'PDE4D', 'EGFR', 'EGR1', 'CD55', 'IGFBP3', 'PDE4D', 'PRKCA', 'SPTBN1', 'EGR1', 'PDE10A', 'PDE10A', 'PDE4D', 'TMSB10', 'EFNA5', 'PRKCA', 'EFNA5', 'EFNA5', 'DUSP5', 'MT-ND1', 'FNDC3B', 'LAMA5'),\n",
       "           ('VCL', 'EFNA5', 'EFNA5', 'MT-ND5', 'IGFBP3', 'MT-CO3', 'AKR1C2', 'VCL', 'PRKCA', 'SLCO1B3-SLCO1B7', 'FNDC3B', 'MT-CO3', 'MCL1', 'MT-CO3', 'PDE4D', 'EFNA5', 'VCL', 'FNDC3B', 'MAML3', 'MAML3', 'EFNA5', 'GRB10', 'MT-ND1', 'PDE10A', 'MT-ND1', 'MT-CO1', 'PDE4D', 'MT-ND1', 'PDE4D', 'EFNA5', 'MT-ATP6'),\n",
       "           ('PDE4D', 'THSD4', 'PDE4D', 'MT-ND1', 'EGR1', 'MT-ATP6', 'TMSB10', 'EFNA5', 'FNDC3B', 'IGFBP4', 'EFNA5', 'MT-ND1', 'THSD4', 'MT-ND1', 'TMSB10', 'VCL', 'EFNA5', 'PDE4D', 'THSD4', 'EGFR', 'PDE4D', 'AUTS2', 'MT-ATP6', 'PDE4D', 'EFNA5', 'MT-ND1', 'FNDC3B', 'EGR1', 'EFNA5', 'PDE4D', 'MT-ND1')],\n",
       "          dtype=[('ATM', 'O'), ('ATR', 'O'), ('AURKB', 'O'), ('BCL2', 'O'), ('BRAF', 'O'), ('CYP19A1', 'O'), ('EIF4E', 'O'), ('EPAS1', 'O'), ('EPHB4', 'O'), ('ERBB2', 'O'), ('GSK3B', 'O'), ('KLF5', 'O'), ('KRAS', 'O'), ('MAP2K1', 'O'), ('MAP3K8', 'O'), ('MAP4K4', 'O'), ('MAPK7', 'O'), ('MAPK14', 'O'), ('MET', 'O'), ('MTOR', 'O'), ('NR3C1', 'O'), ('PBK', 'O'), ('PIK3CA', 'O'), ('PRKAA1', 'O'), ('PRKDC', 'O'), ('PSMB5', 'O'), ('PTGS2', 'O'), ('RET', 'O'), ('RPS6KB1', 'O'), ('SMO', 'O'), ('TOP1', 'O')])"
      ]
     },
     "execution_count": 30,
     "metadata": {},
     "output_type": "execute_result"
    }
   ],
   "source": [
    "# Wilcoxon rank\n",
    "sc.tl.rank_genes_groups(adata, 'gene_target', method='wilcoxon', key_added = \"wilcoxon\", n_genes=max_len-1, reference='ctrl')\n",
    "adata.uns['wilcoxon']['names']"
   ]
  },
  {
   "cell_type": "code",
   "execution_count": 31,
   "metadata": {},
   "outputs": [
    {
     "data": {
      "text/plain": [
       "{'params': {'groupby': 'gene_target',\n",
       "  'reference': 'ctrl',\n",
       "  'method': 'wilcoxon',\n",
       "  'use_raw': False,\n",
       "  'layer': None,\n",
       "  'corr_method': 'benjamini-hochberg'},\n",
       " 'names': rec.array([('RPL3', 'HNRNPA1', 'RPS19', 'NPM1', 'NPM1', 'MYH9', 'NRIP1', 'FTL', 'RPS3', 'RPL4', 'RPS19', 'RPS8', 'FTH1', 'EEF2', 'EEF1G', 'MT-ND4', 'RPS3', 'RPLP1', 'RPS4X', 'RPS2', 'RPS19', 'MT-ND2', 'CRIM1', 'RPL12', 'RPS3', 'EEF2', 'MT2A', 'HSP90AB1', 'FTL', 'FTL', 'SMAD3'),\n",
       "            ('RACK1', 'PPP1R15A', 'MT-ATP8', 'HSP90AB1', 'RPS6', 'RPS2', 'PABPC1', 'MT-ND2', 'MT2A', 'ALDOA', 'RPS3', 'MT-ATP8', 'NPM1', 'MYH9', 'MT-ND4', 'RPS3', 'EEF2', 'RPS3', 'CRIM1', 'NPM1', 'RPS3', 'MT-ATP8', 'FAM107B', 'RPS19', 'RPS6', 'HSPD1', 'RPS19', 'NCL', 'RPS19', 'MT-ATP8', 'CRIM1'),\n",
       "            ('EEF2', 'MT-ND6', 'RPS6', 'PLOD2', 'ACTG1', 'PLEC', 'TFPI', 'RPS3', 'RPS19', 'MYH9', 'RPL37A', 'RPS3', 'FTL', 'PLEC', 'MT-CO1', 'FTL', 'RPS19', 'RPS19', 'TRIO', 'FTL', 'MT2A', 'RPS3', 'SMAD3', 'RPS3', 'MT-ATP8', 'HSP90AB1', 'MT-ATP8', 'NPM1', 'RPS8', 'RPS3', 'FNDC3B'),\n",
       "            ...,\n",
       "            ('EFNA5', 'PDE4D', 'MT-ND1', 'MT-CO1', 'AADAC', 'NDRG1', 'IGFBP4', 'HSPA5', 'EFNA5', 'NDRG1', 'PDE4D', 'EGFR', 'EGR1', 'CD55', 'IGFBP3', 'PDE4D', 'PRKCA', 'SPTBN1', 'EGR1', 'PDE10A', 'PDE10A', 'PDE4D', 'TMSB10', 'EFNA5', 'PRKCA', 'EFNA5', 'EFNA5', 'DUSP5', 'MT-ND1', 'FNDC3B', 'LAMA5'),\n",
       "            ('VCL', 'EFNA5', 'EFNA5', 'MT-ND5', 'IGFBP3', 'MT-CO3', 'AKR1C2', 'VCL', 'PRKCA', 'SLCO1B3-SLCO1B7', 'FNDC3B', 'MT-CO3', 'MCL1', 'MT-CO3', 'PDE4D', 'EFNA5', 'VCL', 'FNDC3B', 'MAML3', 'MAML3', 'EFNA5', 'GRB10', 'MT-ND1', 'PDE10A', 'MT-ND1', 'MT-CO1', 'PDE4D', 'MT-ND1', 'PDE4D', 'EFNA5', 'MT-ATP6'),\n",
       "            ('PDE4D', 'THSD4', 'PDE4D', 'MT-ND1', 'EGR1', 'MT-ATP6', 'TMSB10', 'EFNA5', 'FNDC3B', 'IGFBP4', 'EFNA5', 'MT-ND1', 'THSD4', 'MT-ND1', 'TMSB10', 'VCL', 'EFNA5', 'PDE4D', 'THSD4', 'EGFR', 'PDE4D', 'AUTS2', 'MT-ATP6', 'PDE4D', 'EFNA5', 'MT-ND1', 'FNDC3B', 'EGR1', 'EFNA5', 'PDE4D', 'MT-ND1')],\n",
       "           dtype=[('ATM', 'O'), ('ATR', 'O'), ('AURKB', 'O'), ('BCL2', 'O'), ('BRAF', 'O'), ('CYP19A1', 'O'), ('EIF4E', 'O'), ('EPAS1', 'O'), ('EPHB4', 'O'), ('ERBB2', 'O'), ('GSK3B', 'O'), ('KLF5', 'O'), ('KRAS', 'O'), ('MAP2K1', 'O'), ('MAP3K8', 'O'), ('MAP4K4', 'O'), ('MAPK7', 'O'), ('MAPK14', 'O'), ('MET', 'O'), ('MTOR', 'O'), ('NR3C1', 'O'), ('PBK', 'O'), ('PIK3CA', 'O'), ('PRKAA1', 'O'), ('PRKDC', 'O'), ('PSMB5', 'O'), ('PTGS2', 'O'), ('RET', 'O'), ('RPS6KB1', 'O'), ('SMO', 'O'), ('TOP1', 'O')]),\n",
       " 'scores': rec.array([( 19.638594,  22.987059,  18.169214,  23.533329,  26.68261 ,  36.144245,  25.114765,  14.685018,  16.804428,  37.611713,  22.13611 ,  18.784468,  39.071068,  23.010902 ,  22.119625,  19.816828,  17.456274,  20.451702,  16.781597,  27.633596,  18.435406,  32.594894,  20.319206,  23.815622,  21.436148,  28.520153,  19.538074,  24.194828,  13.192702,  20.17589 ,  29.606058 ),\n",
       "            ( 18.100874,  20.773424,  17.880827,  22.216599,  25.570269,  27.226147,  24.188572,  14.072711,  16.644337,  27.321733,  21.288322,  18.299438,  23.115116,  22.43357  ,  19.303844,  19.215805,  15.502224,  20.269417,  16.138306,  27.034004,  17.307419,  31.683573,  18.400167,  23.098392,  18.4426  ,  26.070211,  18.387224,  20.962866,  11.191445,  19.226023,  28.77422  ),\n",
       "            ( 16.051338,  19.863678,  17.42146 ,  18.416538,  25.377476,  25.27366 ,  23.974697,  13.194583,  15.444572,  26.322012,  19.69748 ,  17.190805,  21.649466,  22.146183 ,  12.205914,  14.78714 ,  15.166836,  18.98846 ,  12.91752 ,  25.48324 ,  16.822136,  28.939758,  18.122402,  22.725548,  17.951336,  25.120026,  16.979609,  20.798134,  10.926195,  19.12474 ,  28.758125 ),\n",
       "            ...,\n",
       "            (-18.905272, -31.233126, -20.307224, -25.740992, -12.632139,  -8.703722,  -8.724998, -14.681096, -22.65008 , -10.776387, -29.46335 , -26.325413, -24.601322,  -9.302624 , -29.542456, -17.181456, -13.227842, -34.45421 , -19.02063 , -25.844128, -23.73571 , -23.14423 , -20.973307, -33.233723, -18.117184, -28.206667, -29.6516  ,  -9.287521, -22.833075, -29.68615 ,  -6.9783587),\n",
       "            (-19.3867  , -33.059   , -22.8216  , -25.748205, -14.851923,  -9.20674 , -10.013469, -15.048779, -22.869846, -10.827181, -29.871954, -26.404745, -26.904272,  -9.913445 , -29.739323, -18.36918 , -13.846419, -34.512287, -19.503857, -25.952612, -24.612768, -24.028397, -21.631546, -33.629593, -18.586113, -29.465034, -29.65193 ,  -9.698398, -24.08431 , -31.658525, -12.337615 ),\n",
       "            (-20.543232, -34.129353, -23.586597, -34.803013, -15.117993, -18.378195, -14.368588, -15.057331, -23.99074 , -11.661121, -31.187607, -32.829006, -27.25708 , -11.3104315, -30.455385, -21.026266, -14.138953, -37.70258 , -20.69785 , -27.346706, -29.824577, -24.037794, -22.488483, -40.175903, -18.791351, -30.636185, -29.877502, -11.839893, -25.568655, -32.35558 , -13.504585 )],\n",
       "           dtype=[('ATM', '<f4'), ('ATR', '<f4'), ('AURKB', '<f4'), ('BCL2', '<f4'), ('BRAF', '<f4'), ('CYP19A1', '<f4'), ('EIF4E', '<f4'), ('EPAS1', '<f4'), ('EPHB4', '<f4'), ('ERBB2', '<f4'), ('GSK3B', '<f4'), ('KLF5', '<f4'), ('KRAS', '<f4'), ('MAP2K1', '<f4'), ('MAP3K8', '<f4'), ('MAP4K4', '<f4'), ('MAPK7', '<f4'), ('MAPK14', '<f4'), ('MET', '<f4'), ('MTOR', '<f4'), ('NR3C1', '<f4'), ('PBK', '<f4'), ('PIK3CA', '<f4'), ('PRKAA1', '<f4'), ('PRKDC', '<f4'), ('PSMB5', '<f4'), ('PTGS2', '<f4'), ('RET', '<f4'), ('RPS6KB1', '<f4'), ('SMO', '<f4'), ('TOP1', '<f4')]),\n",
       " 'pvals': rec.array([(7.23749410e-86, 6.28025657e-117, 9.04846979e-074, 1.86004220e-122, 7.49209929e-157, 4.58128873e-286, 3.43078614e-139, 8.04139063e-49, 2.26487470e-063, 1.38334893e-309, 1.41970331e-108, 1.01194079e-078, 0.00000000e+000, 3.62549930e-117, 2.04624092e-108, 2.13129491e-87, 3.08419575e-68, 5.80160072e-093, 3.32768994e-63, 4.39449623e-168, 6.83044740e-076, 4.84462822e-233, 8.69722644e-092, 2.30088619e-125, 6.14975126e-102, 6.58997719e-179, 5.21107792e-085, 2.52186204e-129, 9.66569817e-040, 1.59469943e-090, 1.24868890e-192),\n",
       "            (3.13652929e-73, 7.52940141e-096, 1.66348953e-071, 2.37387152e-109, 3.26804851e-144, 3.18521269e-163, 2.93470343e-129, 5.58850621e-45, 3.32628904e-062, 2.34099097e-164, 1.45651088e-100, 8.36047406e-075, 3.26291398e-118, 1.85162354e-111, 4.98577795e-083, 2.72962280e-82, 3.35088610e-54, 2.39479602e-091, 1.37255784e-58, 5.88996343e-161, 4.13538821e-067, 2.61618745e-220, 1.30961157e-075, 4.80543193e-118, 5.97961839e-076, 7.93878543e-150, 1.66277293e-075, 1.43201107e-097, 4.49054706e-029, 2.24176778e-082, 4.50947564e-182),\n",
       "            (5.59449453e-58, 8.39320233e-088, 5.67124209e-068, 9.68002279e-076, 4.47167330e-142, 6.22396086e-141, 5.10771094e-127, 9.42746915e-40, 8.20702330e-054, 1.07373136e-152, 2.26624576e-086, 3.11183283e-066, 6.14898496e-104, 1.13542398e-108, 2.89046762e-034, 1.77330020e-49, 5.86358540e-52, 2.12469290e-080, 3.58511851e-38, 3.02398230e-143, 1.67991884e-063, 3.77587725e-184, 2.12127694e-073, 2.50481625e-114, 4.68495849e-072, 3.00555240e-139, 1.16260253e-064, 4.49969725e-096, 8.63955012e-028, 1.57150433e-081, 7.16831048e-182),\n",
       "            ...,\n",
       "            (1.03205180e-79, 3.78433632e-214, 1.11001023e-091, 4.06621718e-146, 1.40407855e-036, 3.21173362e-018, 2.66184876e-018, 8.52014152e-49, 1.39259326e-113, 4.45022160e-027, 8.49247963e-191, 9.81648418e-153, 1.22270064e-133, 1.37022035e-020, 8.20888970e-192, 3.65625324e-66, 6.06025125e-40, 3.89487626e-260, 1.15093678e-80, 2.83254262e-147, 1.54347647e-124, 1.66187161e-118, 1.14986201e-097, 3.50855361e-242, 2.33235374e-073, 4.84401795e-175, 3.23423871e-193, 1.57923243e-020, 2.15271788e-115, 1.15900291e-193, 2.98648509e-012),\n",
       "            (9.99469802e-84, 1.15508349e-239, 2.79868233e-115, 3.37607245e-146, 6.76010457e-050, 3.36179274e-020, 1.33004940e-023, 3.51669700e-51, 9.27597047e-116, 2.55912116e-027, 4.55409207e-196, 1.20862801e-153, 1.95744522e-159, 3.63876066e-023, 2.38324991e-194, 2.31883846e-75, 1.33713707e-43, 5.24750833e-261, 1.01809009e-84, 1.69896438e-148, 9.22126167e-134, 1.40440010e-127, 9.06931428e-104, 6.19821459e-248, 4.16280640e-077, 8.08078111e-191, 3.20265476e-193, 3.06269833e-022, 3.65037209e-128, 5.78813443e-220, 5.68137846e-035),\n",
       "            (8.84758743e-94, 2.70758437e-255, 5.29063887e-123, 2.19007855e-265, 1.23240776e-051, 1.96397562e-075, 8.14746794e-047, 3.09011303e-51, 3.47405501e-127, 2.01373120e-031, 1.56893079e-213, 2.27102038e-236, 1.36990347e-163, 1.16514766e-029, 1.01651878e-203, 3.77187966e-98, 2.18509314e-45, 0.00000000e+000, 3.62172097e-95, 1.18180584e-164, 1.87594750e-195, 1.12008620e-127, 5.38079185e-112, 0.00000000e+000, 8.88875789e-079, 4.03738001e-206, 3.85781020e-196, 2.42761897e-032, 3.40598374e-144, 1.15802591e-229, 1.46938948e-041)],\n",
       "           dtype=[('ATM', '<f8'), ('ATR', '<f8'), ('AURKB', '<f8'), ('BCL2', '<f8'), ('BRAF', '<f8'), ('CYP19A1', '<f8'), ('EIF4E', '<f8'), ('EPAS1', '<f8'), ('EPHB4', '<f8'), ('ERBB2', '<f8'), ('GSK3B', '<f8'), ('KLF5', '<f8'), ('KRAS', '<f8'), ('MAP2K1', '<f8'), ('MAP3K8', '<f8'), ('MAP4K4', '<f8'), ('MAPK7', '<f8'), ('MAPK14', '<f8'), ('MET', '<f8'), ('MTOR', '<f8'), ('NR3C1', '<f8'), ('PBK', '<f8'), ('PIK3CA', '<f8'), ('PRKAA1', '<f8'), ('PRKDC', '<f8'), ('PSMB5', '<f8'), ('PTGS2', '<f8'), ('RET', '<f8'), ('RPS6KB1', '<f8'), ('SMO', '<f8'), ('TOP1', '<f8')]),\n",
       " 'pvals_adj': rec.array([(6.95486996e-82, 4.31072325e-114, 1.44918784e-070, 7.14963020e-119, 1.43990656e-152, 8.80477881e-282, 6.59362788e-135, 4.09371499e-45, 8.21294847e-061, 2.65865831e-305, 8.26826605e-106, 4.86212252e-076, 0.00000000e+000, 6.96784711e-113, 2.31333554e-105, 2.04806784e-83, 5.92751582e-64, 8.99201325e-091, 7.99435912e-60, 8.44578231e-164, 6.25116041e-073, 9.31089098e-229, 3.34303990e-088, 1.05287456e-122, 1.18192069e-97, 4.22175905e-175, 1.47281921e-082, 4.84676665e-125, 1.59364930e-037, 5.78274121e-088, 2.39985521e-188),\n",
       "            (1.00468261e-69, 3.21572368e-093, 2.13137368e-068, 7.60390613e-106, 3.14043121e-140, 3.06083014e-159, 2.82010326e-125, 1.53436430e-41, 1.14157052e-059, 2.24957527e-160, 6.66492443e-098, 3.21359902e-072, 7.83874297e-115, 1.77931764e-107, 3.30419539e-080, 1.74868735e-78, 3.22003400e-50, 3.62406179e-089, 2.63791891e-55, 3.77330691e-157, 2.64926754e-064, 2.51402533e-216, 3.59563210e-072, 2.05234658e-115, 2.87305714e-72, 2.54292529e-146, 3.47356879e-073, 1.37609104e-093, 3.99554741e-027, 6.15493356e-080, 4.33338062e-178),\n",
       "            (7.68004217e-55, 2.88051706e-085, 5.73661062e-065, 2.06711509e-072, 2.86470297e-138, 3.98727679e-137, 3.27216988e-123, 1.81186530e-36, 1.97163476e-051, 6.87868103e-149, 5.73091805e-084, 1.03114337e-063, 1.07433947e-100, 7.27390447e-105, 2.45804855e-032, 1.79373982e-46, 3.75640826e-48, 2.58446030e-078, 3.28106632e-35, 7.26473948e-140, 7.87472201e-061, 2.41895283e-180, 5.09610269e-070, 9.74217963e-112, 1.50067029e-68, 8.25195880e-136, 1.75937465e-062, 2.88265605e-092, 6.94742735e-026, 4.19482523e-079, 4.59225864e-178),\n",
       "            ...,\n",
       "            (4.95875091e-76, 2.42437199e-210, 7.11109551e-088, 2.60495426e-142, 2.91433480e-034, 2.89794875e-016, 8.74496947e-017, 4.09371499e-45, 8.92141662e-110, 1.64478479e-024, 5.44056553e-187, 6.28876698e-149, 5.87477091e-130, 3.70905141e-018, 5.25888837e-188, 1.40539062e-62, 9.70599740e-37, 2.49518756e-256, 7.37328463e-77, 1.08877273e-143, 9.88802475e-121, 1.52092907e-115, 6.76783365e-094, 2.24769639e-238, 8.96510132e-70, 2.32742952e-171, 2.07196112e-189, 2.33471292e-018, 1.37910283e-111, 7.42495899e-190, 4.24535925e-011),\n",
       "            (6.40293671e-80, 1.10997748e-235, 2.68939379e-111, 2.60495426e-142, 2.40597129e-047, 3.45509598e-018, 6.85314196e-022, 3.37936998e-47, 8.91374382e-112, 9.83674990e-025, 4.37625477e-192, 1.16143109e-149, 1.25400465e-155, 1.24880966e-020, 2.29018400e-190, 1.11414391e-71, 2.56984373e-40, 5.04259313e-257, 9.78333673e-81, 8.16309911e-145, 8.86117140e-130, 1.92794040e-124, 8.71515755e-100, 5.95617431e-244, 2.66683254e-73, 7.76522661e-187, 2.07196112e-189, 4.98830501e-020, 3.50782506e-124, 5.56210778e-216, 3.24971466e-033),\n",
       "            (1.70041783e-89, 5.20370639e-251, 1.01680788e-118, 4.20911197e-261, 4.64424405e-049, 1.79741179e-072, 1.63110611e-044, 3.37936998e-47, 6.67678632e-123, 1.04599730e-028, 3.01532808e-209, 4.36467407e-232, 1.31640874e-159, 6.22027026e-027, 1.95364745e-199, 7.24917551e-94, 5.99932928e-42, 0.00000000e+000, 6.96058553e-91, 1.13565632e-160, 3.60538351e-191, 1.65591821e-124, 1.03413439e-107, 0.00000000e+000, 8.54165190e-75, 7.75944064e-202, 7.41432542e-192, 6.48005680e-030, 6.54596016e-140, 2.22560999e-225, 1.16214800e-039)],\n",
       "           dtype=[('ATM', '<f8'), ('ATR', '<f8'), ('AURKB', '<f8'), ('BCL2', '<f8'), ('BRAF', '<f8'), ('CYP19A1', '<f8'), ('EIF4E', '<f8'), ('EPAS1', '<f8'), ('EPHB4', '<f8'), ('ERBB2', '<f8'), ('GSK3B', '<f8'), ('KLF5', '<f8'), ('KRAS', '<f8'), ('MAP2K1', '<f8'), ('MAP3K8', '<f8'), ('MAP4K4', '<f8'), ('MAPK7', '<f8'), ('MAPK14', '<f8'), ('MET', '<f8'), ('MTOR', '<f8'), ('NR3C1', '<f8'), ('PBK', '<f8'), ('PIK3CA', '<f8'), ('PRKAA1', '<f8'), ('PRKDC', '<f8'), ('PSMB5', '<f8'), ('PTGS2', '<f8'), ('RET', '<f8'), ('RPS6KB1', '<f8'), ('SMO', '<f8'), ('TOP1', '<f8')]),\n",
       " 'logfoldchanges': rec.array([( 1.8722186 ,  1.1012708 ,  1.0581337,  1.0157259 ,  0.95404893,  1.2861296 ,  0.9197209 ,  0.7099188 ,  1.0663723 ,  1.7638141 ,  1.1410019,  0.79776454,  1.3053567 ,  1.2728598,  1.1651751,  0.6241142 ,  1.2763622 ,  0.9611204,  0.8733581 ,  1.3452585 ,  1.0171573,  1.1808329 ,  0.6951785 ,  1.0159547 ,  1.4658917 ,  0.9024463 ,  1.1064658,  1.0894883 ,  0.91145194,  1.154336 ,  0.93754643),\n",
       "            ( 0.9390769 ,  1.0574871 ,  1.3340285,  0.7730081 ,  0.7049744 ,  1.2910872 ,  0.6606438 ,  0.54572344,  1.0601922 ,  1.2146622 ,  1.3325404,  0.89429307,  0.9327723 ,  1.369465 ,  0.5165576,  1.0551025 ,  0.97841966,  1.124314 ,  0.5317089 ,  0.999781  ,  1.1471661,  1.6158454 ,  0.6569955 ,  0.8026256 ,  0.9154894 ,  1.0691191 ,  0.854363 ,  1.1034784 ,  0.6679991 ,  1.3258172,  1.0890248 ),\n",
       "            ( 0.74002665,  1.3718202 ,  0.9165705,  0.6873288 ,  0.62856674,  1.0743399 ,  0.81332433,  0.7116979 ,  0.81877524,  1.1725891 ,  1.1737342,  0.79596734,  0.8166829 ,  1.538129 ,  0.3518726,  0.77306694,  0.898626  ,  0.8751912,  0.416367  ,  0.87582225,  1.1519009,  1.3863518 ,  0.5382495 ,  0.98130065,  1.2961156 ,  0.84262574,  1.0711976,  1.1187116 ,  0.7649805 ,  1.226117 ,  0.81336963),\n",
       "            ...,\n",
       "            (-0.70667624, -0.99223727, -1.5217203, -0.85627395, -0.9395845 , -0.24821453, -0.34745002, -1.2227448 , -1.044964  , -0.3898239 , -1.4344158, -0.96452755, -1.9827917 , -0.5986008, -1.3623849, -0.64868116, -0.75965166, -1.622271 , -1.444083  , -0.86343485, -1.4568211, -0.8215399 , -0.74414575, -1.0730641 , -1.0266203 , -0.7998805 , -1.321569 , -0.6180038 , -1.8972044 , -1.3813454, -0.48869225),\n",
       "            (-0.860405  , -1.1345533 , -1.2541113, -0.8724559 , -0.50578535, -0.31637   , -0.69630295, -0.6474669 , -1.227993  , -0.7375318 , -1.3844498, -1.1994871 , -1.112236  , -0.6052639, -1.048883 , -0.7099393 , -0.87322557, -1.4510514, -0.83893454, -1.0101235 , -1.2935842, -0.98617965, -0.97458696, -1.2606262 , -1.3233534 , -0.7987415 , -1.2396158, -0.48955145, -1.2832916 , -1.7089863, -0.53073967),\n",
       "            (-0.7869461 , -1.365713  , -1.3484842, -1.7352399 , -0.87983674, -0.63830405, -0.4391197 , -0.5613988 , -0.9824206 , -0.53572786, -1.6608067, -1.5615392 , -0.98337674, -0.6839346, -1.1167645, -0.99701935, -0.7370413 , -1.7559302, -0.7568454 , -0.87344116, -1.5939202, -1.1831135 , -0.974038  , -1.4337335 , -0.95888555, -1.1102053 , -1.1879625, -1.0766385 , -1.4691038 , -1.6568687, -0.61261517)],\n",
       "           dtype=[('ATM', '<f4'), ('ATR', '<f4'), ('AURKB', '<f4'), ('BCL2', '<f4'), ('BRAF', '<f4'), ('CYP19A1', '<f4'), ('EIF4E', '<f4'), ('EPAS1', '<f4'), ('EPHB4', '<f4'), ('ERBB2', '<f4'), ('GSK3B', '<f4'), ('KLF5', '<f4'), ('KRAS', '<f4'), ('MAP2K1', '<f4'), ('MAP3K8', '<f4'), ('MAP4K4', '<f4'), ('MAPK7', '<f4'), ('MAPK14', '<f4'), ('MET', '<f4'), ('MTOR', '<f4'), ('NR3C1', '<f4'), ('PBK', '<f4'), ('PIK3CA', '<f4'), ('PRKAA1', '<f4'), ('PRKDC', '<f4'), ('PSMB5', '<f4'), ('PTGS2', '<f4'), ('RET', '<f4'), ('RPS6KB1', '<f4'), ('SMO', '<f4'), ('TOP1', '<f4')])}"
      ]
     },
     "execution_count": 31,
     "metadata": {},
     "output_type": "execute_result"
    }
   ],
   "source": [
    "adata.uns['wilcoxon']"
   ]
  },
  {
   "cell_type": "code",
   "execution_count": 32,
   "metadata": {},
   "outputs": [],
   "source": [
    "import pickle\n",
    "\n",
    "# Save to a pickle file\n",
    "with open(\"wilcoxon_filtered.pkl\", \"wb\") as f:\n",
    "    pickle.dump(adata.uns[\"wilcoxon\"], f)"
   ]
  },
  {
   "cell_type": "code",
   "execution_count": 33,
   "metadata": {},
   "outputs": [
    {
     "data": {
      "text/plain": [
       "rec.array([('RPL3', 'HNRNPA1', 'RPS19', 'NPM1', 'NPM1', 'MYH9', 'NRIP1', 'FTL', 'RPS3', 'RPL4', 'RPS19', 'RPS8', 'FTH1', 'EEF2', 'EEF1G', 'MT-ND4', 'RPS3', 'RPLP1', 'RPS4X', 'RPS2', 'RPS19', 'MT-ND2', 'CRIM1', 'RPL12', 'RPS3', 'EEF2', 'MT2A', 'HSP90AB1', 'FTL', 'FTL', 'SMAD3'),\n",
       "           ('RACK1', 'PPP1R15A', 'MT-ATP8', 'HSP90AB1', 'RPS6', 'RPS2', 'PABPC1', 'MT-ND2', 'MT2A', 'ALDOA', 'RPS3', 'MT-ATP8', 'NPM1', 'MYH9', 'MT-ND4', 'RPS3', 'EEF2', 'RPS3', 'CRIM1', 'NPM1', 'RPS3', 'MT-ATP8', 'FAM107B', 'RPS19', 'RPS6', 'HSPD1', 'RPS19', 'NCL', 'RPS19', 'MT-ATP8', 'CRIM1'),\n",
       "           ('EEF2', 'MT-ND6', 'RPS6', 'PLOD2', 'ACTG1', 'PLEC', 'TFPI', 'RPS3', 'RPS19', 'MYH9', 'RPL37A', 'RPS3', 'FTL', 'PLEC', 'MT-CO1', 'FTL', 'RPS19', 'RPS19', 'TRIO', 'FTL', 'MT2A', 'RPS3', 'SMAD3', 'RPS3', 'MT-ATP8', 'HSP90AB1', 'MT-ATP8', 'NPM1', 'RPS8', 'RPS3', 'FNDC3B'),\n",
       "           ...,\n",
       "           ('EFNA5', 'PDE4D', 'MT-ND1', 'MT-CO1', 'AADAC', 'NDRG1', 'IGFBP4', 'HSPA5', 'EFNA5', 'NDRG1', 'PDE4D', 'EGFR', 'EGR1', 'CD55', 'IGFBP3', 'PDE4D', 'PRKCA', 'SPTBN1', 'EGR1', 'PDE10A', 'PDE10A', 'PDE4D', 'TMSB10', 'EFNA5', 'PRKCA', 'EFNA5', 'EFNA5', 'DUSP5', 'MT-ND1', 'FNDC3B', 'LAMA5'),\n",
       "           ('VCL', 'EFNA5', 'EFNA5', 'MT-ND5', 'IGFBP3', 'MT-CO3', 'AKR1C2', 'VCL', 'PRKCA', 'SLCO1B3-SLCO1B7', 'FNDC3B', 'MT-CO3', 'MCL1', 'MT-CO3', 'PDE4D', 'EFNA5', 'VCL', 'FNDC3B', 'MAML3', 'MAML3', 'EFNA5', 'GRB10', 'MT-ND1', 'PDE10A', 'MT-ND1', 'MT-CO1', 'PDE4D', 'MT-ND1', 'PDE4D', 'EFNA5', 'MT-ATP6'),\n",
       "           ('PDE4D', 'THSD4', 'PDE4D', 'MT-ND1', 'EGR1', 'MT-ATP6', 'TMSB10', 'EFNA5', 'FNDC3B', 'IGFBP4', 'EFNA5', 'MT-ND1', 'THSD4', 'MT-ND1', 'TMSB10', 'VCL', 'EFNA5', 'PDE4D', 'THSD4', 'EGFR', 'PDE4D', 'AUTS2', 'MT-ATP6', 'PDE4D', 'EFNA5', 'MT-ND1', 'FNDC3B', 'EGR1', 'EFNA5', 'PDE4D', 'MT-ND1')],\n",
       "          dtype=[('ATM', 'O'), ('ATR', 'O'), ('AURKB', 'O'), ('BCL2', 'O'), ('BRAF', 'O'), ('CYP19A1', 'O'), ('EIF4E', 'O'), ('EPAS1', 'O'), ('EPHB4', 'O'), ('ERBB2', 'O'), ('GSK3B', 'O'), ('KLF5', 'O'), ('KRAS', 'O'), ('MAP2K1', 'O'), ('MAP3K8', 'O'), ('MAP4K4', 'O'), ('MAPK7', 'O'), ('MAPK14', 'O'), ('MET', 'O'), ('MTOR', 'O'), ('NR3C1', 'O'), ('PBK', 'O'), ('PIK3CA', 'O'), ('PRKAA1', 'O'), ('PRKDC', 'O'), ('PSMB5', 'O'), ('PTGS2', 'O'), ('RET', 'O'), ('RPS6KB1', 'O'), ('SMO', 'O'), ('TOP1', 'O')])"
      ]
     },
     "execution_count": 33,
     "metadata": {},
     "output_type": "execute_result"
    }
   ],
   "source": [
    "adata.uns['wilcoxon']['names']"
   ]
  },
  {
   "cell_type": "code",
   "execution_count": 34,
   "metadata": {},
   "outputs": [
    {
     "name": "stdout",
     "output_type": "stream",
     "text": [
      "EIF4E 5119\n",
      "GSK3B 152\n",
      "PIK3CA 13504\n",
      "CYP19A1 9169\n",
      "PRKDC 9684\n",
      "MTOR 4146\n",
      "ATM 364\n",
      "EPAS1 351\n",
      "PSMB5 3845\n",
      "MET 1368\n",
      "PTGS2 158\n",
      "ATR 1649\n",
      "MAPK7 9098\n",
      "PRKAA1 3133\n",
      "PBK 1895\n",
      "TOP1 520\n",
      "PSMB5 3845\n",
      "RPS6KB1 1998\n",
      "NR3C1 876\n",
      "PRKAA1 3133\n",
      "KLF5 295\n",
      "EPHB4 8950\n",
      "MAP3K8 6407\n",
      "MAP4K4 91\n",
      "MAPK14 2975\n",
      "RET 10849\n",
      "KRAS 967\n",
      "MTOR 4146\n",
      "SMO 9619\n",
      "MAP2K1 412\n",
      "AURKB 13263\n",
      "ERBB2 7575\n",
      "BRAF 1457\n",
      "BCL2 11819\n"
     ]
    }
   ],
   "source": [
    "baseline_rank = []\n",
    "\n",
    "for c in perturb_conditions:\n",
    "    # print(c)\n",
    "    hvg_list = adata.uns['wilcoxon']['names'][c]\n",
    "    p_val = adata.uns['wilcoxon']['pvals_adj'][c]\n",
    "    df_gene_emb_dist = pd.DataFrame()\n",
    "    df_gene_emb_dist['gene'] = hvg_list\n",
    "    df_gene_emb_dist['p_val'] = p_val\n",
    "    df_gene_emb_dist = df_gene_emb_dist.sort_values(by='p_val')\n",
    "    print(c, np.where(df_gene_emb_dist.gene.values==c.split('+')[0])[0][0])\n",
    "    baseline_rank.append(np.where(df_gene_emb_dist.gene.values==c.split('+')[0])[0][0])"
   ]
  },
  {
   "cell_type": "code",
   "execution_count": 35,
   "metadata": {},
   "outputs": [
    {
     "data": {
      "text/plain": [
       "[5119,\n",
       " 152,\n",
       " 13504,\n",
       " 9169,\n",
       " 9684,\n",
       " 4146,\n",
       " 364,\n",
       " 351,\n",
       " 3845,\n",
       " 1368,\n",
       " 158,\n",
       " 1649,\n",
       " 9098,\n",
       " 3133,\n",
       " 1895,\n",
       " 520,\n",
       " 3845,\n",
       " 1998,\n",
       " 876,\n",
       " 3133,\n",
       " 295,\n",
       " 8950,\n",
       " 6407,\n",
       " 91,\n",
       " 2975,\n",
       " 10849,\n",
       " 967,\n",
       " 4146,\n",
       " 9619,\n",
       " 412,\n",
       " 13263,\n",
       " 7575,\n",
       " 1457,\n",
       " 11819]"
      ]
     },
     "execution_count": 35,
     "metadata": {},
     "output_type": "execute_result"
    }
   ],
   "source": [
    "baseline_rank"
   ]
  },
  {
   "cell_type": "code",
   "execution_count": 36,
   "metadata": {},
   "outputs": [],
   "source": [
    "with open(\"baseline_filtered.pkl\", \"wb\") as f:\n",
    "    pickle.dump(baseline_rank, f)"
   ]
  },
  {
   "cell_type": "code",
   "execution_count": 37,
   "metadata": {},
   "outputs": [
    {
     "data": {
      "text/plain": [
       "4495.058823529412"
      ]
     },
     "execution_count": 37,
     "metadata": {},
     "output_type": "execute_result"
    }
   ],
   "source": [
    "np.mean(baseline_rank)"
   ]
  },
  {
   "cell_type": "code",
   "execution_count": 38,
   "metadata": {},
   "outputs": [
    {
     "data": {
      "text/plain": [
       "Text(0, 0.5, 'Rank Value')"
      ]
     },
     "execution_count": 38,
     "metadata": {},
     "output_type": "execute_result"
    },
    {
     "data": {
      "image/png": "[encoded data removed]",
      "text/plain": [
       "<Figure size 432x288 with 1 Axes>"
      ]
     },
     "metadata": {
      "needs_background": "light"
     },
     "output_type": "display_data"
    }
   ],
   "source": [
    "import seaborn as sns\n",
    "\n",
    "sns.boxplot(y=baseline_rank)\n",
    "\n",
    "# Add title and labels\n",
    "plt.title(\"Boxplot of Wilcoxon Rank\")\n",
    "plt.ylabel(\"Rank Value\")"
   ]
  },
  {
   "cell_type": "markdown",
   "metadata": {},
   "source": [
    "# scGPT Embedding"
   ]
  },
  {
   "cell_type": "code",
   "execution_count": 39,
   "metadata": {},
   "outputs": [
    {
     "name": "stderr",
     "output_type": "stream",
     "text": [
      "/fs01/home/ahz/poetry_env/lib/python3.9/site-packages/scanpy/_settings.py:447: DeprecationWarning: `set_matplotlib_formats` is deprecated since IPython 7.23, directly use `matplotlib_inline.backend_inline.set_matplotlib_formats()`\n",
      "  IPython.display.set_matplotlib_formats(*ipython_format)\n"
     ]
    }
   ],
   "source": [
    "from pathlib import Path\n",
    "\n",
    "from torch import nn\n",
    "from torch.nn import functional as F\n",
    "from torch.utils.data import Dataset, DataLoader\n",
    "from sklearn.model_selection import train_test_split\n",
    "from torchtext.vocab import Vocab\n",
    "from torchtext._torchtext import (\n",
    "    Vocab as VocabPybind,\n",
    ")\n",
    "\n",
    "sys.path.insert(0, \"../\")\n",
    "#import scgpt as scg\n",
    "from scgpt.model import TransformerModel, AdversarialDiscriminator\n",
    "from scgpt.tokenizer import tokenize_and_pad_batch, random_mask_value\n",
    "from scgpt.tokenizer.gene_tokenizer import GeneVocab\n",
    "from scgpt.loss import (\n",
    "    masked_mse_loss,\n",
    "    masked_relative_error,\n",
    "    criterion_neg_log_bernoulli,\n",
    ")\n",
    "from scgpt.preprocess import Preprocessor\n",
    "from scgpt import SubsetsBatchSampler\n",
    "from scgpt.utils import set_seed, eval_scib_metrics, load_pretrained\n",
    "\n",
    "sc.set_figure_params(figsize=(4, 4))\n",
    "os.environ[\"KMP_WARNINGS\"] = \"off\"\n",
    "warnings.filterwarnings('ignore')"
   ]
  },
  {
   "cell_type": "code",
   "execution_count": 40,
   "metadata": {},
   "outputs": [
    {
     "name": "stderr",
     "output_type": "stream",
     "text": [
      "\u001b[34m\u001b[1mwandb\u001b[0m: Currently logged in as: \u001b[33mandrewhz-zhang\u001b[0m. Use \u001b[1m`wandb login --relogin`\u001b[0m to force relogin\n"
     ]
    },
    {
     "data": {
      "text/html": [
       "wandb version 0.19.9 is available!  To upgrade, please run:\n",
       " $ pip install wandb --upgrade"
      ],
      "text/plain": [
       "<IPython.core.display.HTML object>"
      ]
     },
     "metadata": {},
     "output_type": "display_data"
    },
    {
     "data": {
      "text/html": [
       "Tracking run with wandb version 0.12.21"
      ],
      "text/plain": [
       "<IPython.core.display.HTML object>"
      ]
     },
     "metadata": {},
     "output_type": "display_data"
    },
    {
     "data": {
      "text/html": [
       "Run data is saved locally in <code>/fs01/home/ahz/mosaicfm/notebooks/wandb/run-20250401_213507-1jsayndf</code>"
      ],
      "text/plain": [
       "<IPython.core.display.HTML object>"
      ]
     },
     "metadata": {},
     "output_type": "display_data"
    },
    {
     "data": {
      "text/html": [
       "Syncing run <strong><a href=\"https://wandb.ai/andrewhz-zhang/scGPT/runs/1jsayndf\" target=\"_blank\">exalted-forest-146</a></strong> to <a href=\"https://wandb.ai/andrewhz-zhang/scGPT\" target=\"_blank\">Weights & Biases</a> (<a href=\"https://wandb.me/run\" target=\"_blank\">docs</a>)<br/>"
      ],
      "text/plain": [
       "<IPython.core.display.HTML object>"
      ]
     },
     "metadata": {},
     "output_type": "display_data"
    },
    {
     "name": "stdout",
     "output_type": "stream",
     "text": [
      "{'seed': 42, 'dataset_name': 'fibro', 'do_train': True, 'load_model': '/scratch/ssd004/scratch/chloexq/scGPT_models/scGPT_human_model', 'model_name': 'best_model.pt', 'GEPC': True, 'ecs_thres': 0.8, 'dab_weight': 1.0, 'mask_ratio': 0.4, 'epochs': 15, 'n_bins': 51, 'lr': 0.0001, 'batch_size': 64, 'layer_size': 128, 'nlayers': 4, 'nhead': 4, 'dropout': 0.2, 'schedule_ratio': 0.9, 'save_eval_interval': 5, 'log_interval': 100, 'fast_transformer': True, 'pre_norm': False, 'amp': True}\n"
     ]
    }
   ],
   "source": [
    "hyperparameter_defaults = dict(\n",
    "    seed=42,\n",
    "    dataset_name=\"fibro\", # Dataset name\n",
    "    do_train=True, # Flag to indicate whether to do update model parameters during training\n",
    "    load_model=\"/scratch/ssd004/scratch/chloexq/scGPT_models/scGPT_human_model\",\n",
    "    model_name=\"best_model.pt\",\n",
    "    GEPC=True,  # Gene expression modelling for cell objective\n",
    "    ecs_thres=0.8,  # Elastic cell similarity objective, 0.0 to 1.0, 0.0 to disable\n",
    "    dab_weight=1.0, # DAR objective weight for batch correction\n",
    "    mask_ratio=0.4, # Default mask ratio\n",
    "    epochs=15, # Default number of epochs for fine-tuning\n",
    "    n_bins=51, # Default number of bins for value binning in data pre-processing\n",
    "    lr=1e-4, # Default learning rate for fine-tuning\n",
    "    batch_size=64, # Default batch size for fine-tuning\n",
    "    layer_size=128,\n",
    "    nlayers=4,\n",
    "    nhead=4, # if load model, batch_size, layer_size, nlayers, nhead will be ignored\n",
    "    dropout=0.2, # Default dropout rate during model fine-tuning\n",
    "    schedule_ratio=0.9,  # Default rate for learning rate decay\n",
    "    save_eval_interval=5, # Default model evaluation interval\n",
    "    log_interval=100, # Default log interval\n",
    "    fast_transformer=True, # Default setting\n",
    "    pre_norm=False, # Default setting\n",
    "    amp=True,  # # Default setting: Automatic Mixed Precision\n",
    ")\n",
    "run = wandb.init(\n",
    "    config=hyperparameter_defaults,\n",
    "    project=\"scGPT\",\n",
    "    reinit=True,\n",
    "    settings=wandb.Settings(start_method=\"fork\"),\n",
    ")\n",
    "config = wandb.config\n",
    "print(config)\n",
    "\n",
    "set_seed(config.seed)"
   ]
  },
  {
   "cell_type": "code",
   "execution_count": 41,
   "metadata": {},
   "outputs": [
    {
     "name": "stdout",
     "output_type": "stream",
     "text": [
      "save to /scratch/ssd004/scratch/ahz/perturb/dev_fibro-Apr01-21-35\n"
     ]
    }
   ],
   "source": [
    "# settings for input and preprocessing\n",
    "pad_token = \"<pad>\"\n",
    "special_tokens = [pad_token, \"<cls>\", \"<eoc>\"]\n",
    "mask_ratio = config.mask_ratio\n",
    "mask_value = -1\n",
    "pad_value = -2\n",
    "n_input_bins = config.n_bins\n",
    "\n",
    "# n_hvg = 1200  # number of highly variable genes\n",
    "max_seq_len = adata.n_vars + 1\n",
    "per_seq_batch_sample = True\n",
    "DSBN = True  # Domain-spec batchnorm\n",
    "explicit_zero_prob = True  # whether explicit bernoulli for zeros\n",
    "\n",
    "dataset_name = config.dataset_name\n",
    "save_dir = Path(f\"/scratch/ssd004/scratch/ahz/perturb/dev_{dataset_name}-{time.strftime('%b%d-%H-%M')}/\")\n",
    "save_dir.mkdir(parents=True, exist_ok=True)\n",
    "print(f\"save to {save_dir}\")"
   ]
  },
  {
   "cell_type": "code",
   "execution_count": 42,
   "metadata": {},
   "outputs": [
    {
     "name": "stdout",
     "output_type": "stream",
     "text": [
      "match 19219/19219 genes in vocabulary of size 60697.\n",
      "Resume model from /scratch/ssd004/scratch/chloexq/scGPT_models/scGPT_human_model/best_model.pt, the model args will be overriden by the config /scratch/ssd004/scratch/chloexq/scGPT_models/scGPT_human_model/args.json.\n"
     ]
    }
   ],
   "source": [
    "if config.load_model is not None:\n",
    "    model_dir = Path(config.load_model)\n",
    "    model_config_file = model_dir / \"args.json\"\n",
    "    model_file = model_dir / config.model_name\n",
    "    vocab_file = model_dir / \"vocab.json\"\n",
    "\n",
    "    vocab = GeneVocab.from_file(vocab_file)\n",
    "    for s in special_tokens:\n",
    "        if s not in vocab:\n",
    "            vocab.append_token(s)\n",
    "\n",
    "    adata.var[\"id_in_vocab\"] = [\n",
    "        1 if gene in vocab else -1 for gene in adata.var.index\n",
    "    ]\n",
    "    gene_ids_in_vocab = np.array(adata.var[\"id_in_vocab\"])\n",
    "    print(\n",
    "        f\"match {np.sum(gene_ids_in_vocab >= 0)}/{len(gene_ids_in_vocab)} genes \"\n",
    "        f\"in vocabulary of size {len(vocab)}.\"\n",
    "    )\n",
    "    adata = adata[:, adata.var[\"id_in_vocab\"] >= 0]\n",
    "    \n",
    "    # model\n",
    "    with open(model_config_file, \"r\") as f:\n",
    "        model_configs = json.load(f)\n",
    "    print(\n",
    "        f\"Resume model from {model_file}, the model args will be overriden by the \"\n",
    "        f\"config {model_config_file}.\"\n",
    "    )\n",
    "    embsize = model_configs[\"embsize\"]\n",
    "    nhead = model_configs[\"nheads\"]\n",
    "    d_hid = model_configs[\"d_hid\"]\n",
    "    nlayers = model_configs[\"nlayers\"]\n",
    "    n_layers_cls = model_configs[\"n_layers_cls\"]\n",
    "else:\n",
    "    embsize = config.layer_size \n",
    "    nhead = config.nhead\n",
    "    nlayers = config.nlayers  \n",
    "    d_hid = config.layer_size"
   ]
  },
  {
   "cell_type": "code",
   "execution_count": 43,
   "metadata": {},
   "outputs": [],
   "source": [
    "torch.cuda.empty_cache()"
   ]
  },
  {
   "cell_type": "code",
   "execution_count": 44,
   "metadata": {},
   "outputs": [
    {
     "name": "stdout",
     "output_type": "stream",
     "text": [
      "scGPT - INFO - Binning data ...\n"
     ]
    }
   ],
   "source": [
    "# This step for binning\n",
    "preprocessor = Preprocessor(\n",
    "    use_key=\"X\",  # the key in adata.layers to use as raw data\n",
    "    filter_gene_by_counts=0,  # step 1\n",
    "    filter_cell_by_counts=None,  # step 2\n",
    "    normalize_total=None,  # 3. whether to normalize the raw data and to what sum\n",
    "    result_normed_key=\"X_normed\",  # the key in adata.layers to store the normalized data\n",
    "    log1p=False,  # 4. whether to log1p the normalized data\n",
    "    result_log1p_key=\"X_log1p\",\n",
    "    subset_hvg=None,  # 5. whether to subset the raw data to highly variable genes\n",
    "    hvg_flavor=\"seurat_v3\" if data_is_raw else \"cell_ranger\",\n",
    "    binning=config.n_bins,  # 6. whether to bin the raw data and to what number of bins\n",
    "    result_binned_key=\"X_binned\",  # the key in adata.layers to store the binned data\n",
    ")\n",
    "preprocessor(adata, batch_key=None)"
   ]
  },
  {
   "cell_type": "code",
   "execution_count": 45,
   "metadata": {},
   "outputs": [
    {
     "data": {
      "text/plain": [
       "TransformerModel(\n",
       "  (encoder): GeneEncoder(\n",
       "    (embedding): Embedding(60697, 512, padding_idx=60694)\n",
       "    (enc_norm): LayerNorm((512,), eps=1e-05, elementwise_affine=True)\n",
       "  )\n",
       "  (flag_encoder): Embedding(2, 512)\n",
       "  (value_encoder): ContinuousValueEncoder(\n",
       "    (dropout): Dropout(p=0.2, inplace=False)\n",
       "    (linear1): Linear(in_features=1, out_features=512, bias=True)\n",
       "    (activation): ReLU()\n",
       "    (linear2): Linear(in_features=512, out_features=512, bias=True)\n",
       "    (norm): LayerNorm((512,), eps=1e-05, elementwise_affine=True)\n",
       "  )\n",
       "  (transformer_encoder): TransformerEncoder(\n",
       "    (layers): ModuleList(\n",
       "      (0-11): 12 x FlashTransformerEncoderLayer(\n",
       "        (self_attn): FlashMHA(\n",
       "          (Wqkv): Linear(in_features=512, out_features=1536, bias=True)\n",
       "          (inner_attn): FlashAttention()\n",
       "          (out_proj): Linear(in_features=512, out_features=512, bias=True)\n",
       "        )\n",
       "        (linear1): Linear(in_features=512, out_features=512, bias=True)\n",
       "        (dropout): Dropout(p=0.2, inplace=False)\n",
       "        (linear2): Linear(in_features=512, out_features=512, bias=True)\n",
       "        (norm1): LayerNorm((512,), eps=1e-05, elementwise_affine=True)\n",
       "        (norm2): LayerNorm((512,), eps=1e-05, elementwise_affine=True)\n",
       "        (dropout1): Dropout(p=0.2, inplace=False)\n",
       "        (dropout2): Dropout(p=0.2, inplace=False)\n",
       "      )\n",
       "    )\n",
       "  )\n",
       "  (decoder): ExprDecoder(\n",
       "    (fc): Sequential(\n",
       "      (0): Linear(in_features=512, out_features=512, bias=True)\n",
       "      (1): LeakyReLU(negative_slope=0.01)\n",
       "      (2): Linear(in_features=512, out_features=512, bias=True)\n",
       "      (3): LeakyReLU(negative_slope=0.01)\n",
       "      (4): Linear(in_features=512, out_features=1, bias=True)\n",
       "    )\n",
       "    (zero_logit): Sequential(\n",
       "      (0): Linear(in_features=512, out_features=512, bias=True)\n",
       "      (1): LeakyReLU(negative_slope=0.01)\n",
       "      (2): Linear(in_features=512, out_features=512, bias=True)\n",
       "      (3): LeakyReLU(negative_slope=0.01)\n",
       "      (4): Linear(in_features=512, out_features=1, bias=True)\n",
       "    )\n",
       "  )\n",
       "  (mvc_decoder): MVCDecoder(\n",
       "    (gene2query): Linear(in_features=512, out_features=512, bias=True)\n",
       "    (query_activation): Sigmoid()\n",
       "    (W): Linear(in_features=512, out_features=512, bias=False)\n",
       "    (W_zero_logit): Linear(in_features=512, out_features=512, bias=True)\n",
       "  )\n",
       "  (grad_reverse_discriminator): AdversarialDiscriminator(\n",
       "    (_decoder): ModuleList(\n",
       "      (0): Linear(in_features=512, out_features=512, bias=True)\n",
       "      (1): LeakyReLU(negative_slope=0.01)\n",
       "      (2): LayerNorm((512,), eps=1e-05, elementwise_affine=True)\n",
       "      (3): Linear(in_features=512, out_features=512, bias=True)\n",
       "      (4): LeakyReLU(negative_slope=0.01)\n",
       "      (5): LayerNorm((512,), eps=1e-05, elementwise_affine=True)\n",
       "    )\n",
       "    (out_layer): Linear(in_features=512, out_features=35, bias=True)\n",
       "  )\n",
       ")"
      ]
     },
     "execution_count": 45,
     "metadata": {},
     "output_type": "execute_result"
    }
   ],
   "source": [
    "genes = adata.var.index.tolist()\n",
    "if config.load_model is None:\n",
    "    vocab = Vocab(\n",
    "        VocabPybind(genes + special_tokens, None)\n",
    "    )  # bidirectional lookup [gene <-> int]\n",
    "vocab.set_default_index(vocab[\"<pad>\"])\n",
    "gene_ids = np.array(vocab(genes), dtype=int)\n",
    "adata.obs['batch_id'] = adata.obs['condition'].copy()\n",
    "batch_ids = adata.obs[\"batch_id\"].tolist()\n",
    "num_batch_types = len(set(batch_ids))\n",
    "input_layer_key = \"X_binned\"\n",
    "\n",
    "\n",
    "ntokens = len(vocab)  # size of vocabulary\n",
    "model = TransformerModel(\n",
    "    ntokens,\n",
    "    embsize,\n",
    "    nhead,\n",
    "    d_hid,\n",
    "    nlayers,\n",
    "    vocab=vocab,\n",
    "    dropout=config.dropout,\n",
    "    pad_token=pad_token,\n",
    "    pad_value=pad_value,\n",
    "    do_mvc=config.GEPC,\n",
    "    do_dab=True,\n",
    "    use_batch_labels=False,\n",
    "    num_batch_labels=num_batch_types,\n",
    "    domain_spec_batchnorm=False,\n",
    "    n_input_bins=n_input_bins,\n",
    "    ecs_threshold=config.ecs_thres,\n",
    "    explicit_zero_prob=explicit_zero_prob,\n",
    "    use_fast_transformer=config.fast_transformer,\n",
    "    pre_norm=config.pre_norm,\n",
    ")\n",
    "if config.load_model is not None:\n",
    "    load_pretrained(model, torch.load(model_file), verbose=False)\n",
    "\n",
    "device = torch.device(\"cuda\" if torch.cuda.is_available() else \"cpu\")\n",
    "model.to(device)"
   ]
  },
  {
   "cell_type": "code",
   "execution_count": 46,
   "metadata": {},
   "outputs": [],
   "source": [
    "model.eval()\n",
    "adata_t = adata.copy()"
   ]
  },
  {
   "cell_type": "code",
   "execution_count": 47,
   "metadata": {},
   "outputs": [
    {
     "data": {
      "text/plain": [
       "AnnData object with n_obs × n_vars = 83476 × 19219\n",
       "    obs: 'sample', 'species', 'gene_count', 'tscp_count', 'mread_count', 'bc1_wind', 'bc2_wind', 'bc3_wind', 'bc1_well', 'bc2_well', 'bc3_well', 'id', 'drugname_drugconc', 'drug', 'INT_ID', 'NUM.SNPS', 'NUM.READS', 'demuxlet_call', 'BEST.GUESS', 'BEST.LLK', 'NEXT.GUESS', 'NEXT.LLK', 'DIFF.LLK.BEST.NEXT', 'BEST.POSTERIOR', 'SNG.POSTERIOR', 'cell_line', 'SNG.BEST.LLK', 'SNG.NEXT.GUESS', 'SNG.NEXT.LLK', 'SNG.ONLY.POSTERIOR', 'DBL.BEST.GUESS', 'DBL.BEST.LLK', 'DIFF.LLK.SNG.DBL', 'sublibrary', 'BARCODE', 'pcnt_mito', 'S_score', 'G2M_score', 'phase', 'cell_line_orig', 'pass_filter', 'cell_name', 'condition', 'dosage', 'gene_target', 'batch_id'\n",
       "    var: 'id_in_vocab'\n",
       "    uns: 'log1p', 'wilcoxon'\n",
       "    obsm: 'bin_edges'\n",
       "    layers: 'X_binned'"
      ]
     },
     "execution_count": 47,
     "metadata": {},
     "output_type": "execute_result"
    }
   ],
   "source": [
    "adata"
   ]
  },
  {
   "cell_type": "code",
   "execution_count": 48,
   "metadata": {},
   "outputs": [],
   "source": [
    "all_counts = (\n",
    "    adata_t.layers[input_layer_key].A\n",
    "    if issparse(adata_t.layers[input_layer_key])\n",
    "    else adata_t.layers[input_layer_key]\n",
    ")\n",
    "celltypes_labels = adata_t.obs[\"cell_line\"].tolist()\n",
    "celltypes_labels = np.array(celltypes_labels)\n",
    "\n",
    "batch_ids = adata_t.obs[\"batch_id\"].tolist()\n",
    "batch_ids = np.array(batch_ids)\n",
    "\n",
    "tokenized_all = tokenize_and_pad_batch(\n",
    "    all_counts,\n",
    "    gene_ids,\n",
    "    max_len=max_len,\n",
    "    vocab=vocab,\n",
    "    pad_token=pad_token,\n",
    "    pad_value=pad_value,\n",
    "    append_cls=True,  # append <cls> token at the beginning\n",
    "    include_zero_gene=True,\n",
    ")\n",
    "all_gene_ids, all_values = tokenized_all[\"genes\"], tokenized_all[\"values\"]\n",
    "src_key_padding_mask = all_gene_ids.eq(vocab[pad_token])"
   ]
  },
  {
   "cell_type": "code",
   "execution_count": 49,
   "metadata": {},
   "outputs": [
    {
     "data": {
      "text/plain": [
       "0"
      ]
     },
     "execution_count": 49,
     "metadata": {},
     "output_type": "execute_result"
    }
   ],
   "source": [
    "gc.collect()"
   ]
  },
  {
   "cell_type": "code",
   "execution_count": 50,
   "metadata": {},
   "outputs": [
    {
     "name": "stderr",
     "output_type": "stream",
     "text": [
      " 34%|███████████████████████████████████████████████████████████████████████████████████████▎                                                                                                                                                                      | 44/128 [03:51<07:21,  5.25s/it]\n",
      "Random partitions:   0%|                                                                                                                                                                                                                                                     | 0/41 [03:51<?, ?it/s]\n"
     ]
    },
    {
     "ename": "KeyboardInterrupt",
     "evalue": "",
     "output_type": "error",
     "traceback": [
      "\u001b[0;31m---------------------------------------------------------------------------\u001b[0m",
      "\u001b[0;31mKeyboardInterrupt\u001b[0m                         Traceback (most recent call last)",
      "\u001b[0;32m/tmp/ipykernel_17193/3822672349.py\u001b[0m in \u001b[0;36m<cell line: 16>\u001b[0;34m()\u001b[0m\n\u001b[1;32m     26\u001b[0m     \u001b[0;31m# Compute embeddings for the current random sub-batch\u001b[0m\u001b[0;34m\u001b[0m\u001b[0;34m\u001b[0m\u001b[0m\n\u001b[1;32m     27\u001b[0m     \u001b[0;32mwith\u001b[0m \u001b[0mtorch\u001b[0m\u001b[0;34m.\u001b[0m\u001b[0mno_grad\u001b[0m\u001b[0;34m(\u001b[0m\u001b[0;34m)\u001b[0m\u001b[0;34m,\u001b[0m \u001b[0mtorch\u001b[0m\u001b[0;34m.\u001b[0m\u001b[0mcuda\u001b[0m\u001b[0;34m.\u001b[0m\u001b[0mamp\u001b[0m\u001b[0;34m.\u001b[0m\u001b[0mautocast\u001b[0m\u001b[0;34m(\u001b[0m\u001b[0menabled\u001b[0m\u001b[0;34m=\u001b[0m\u001b[0mconfig\u001b[0m\u001b[0;34m.\u001b[0m\u001b[0mamp\u001b[0m\u001b[0;34m)\u001b[0m\u001b[0;34m:\u001b[0m\u001b[0;34m\u001b[0m\u001b[0;34m\u001b[0m\u001b[0m\n\u001b[0;32m---> 28\u001b[0;31m         gene_embeddings_batch = model.encode_batch(\n\u001b[0m\u001b[1;32m     29\u001b[0m             \u001b[0mbatch_gene_ids\u001b[0m\u001b[0;34m,\u001b[0m\u001b[0;34m\u001b[0m\u001b[0;34m\u001b[0m\u001b[0m\n\u001b[1;32m     30\u001b[0m             \u001b[0mbatch_values\u001b[0m\u001b[0;34m,\u001b[0m\u001b[0;34m\u001b[0m\u001b[0;34m\u001b[0m\u001b[0m\n",
      "\u001b[0;32m/fs01/home/ahz/mosaicfm/notebooks/../scgpt/model/model.py\u001b[0m in \u001b[0;36mencode_batch\u001b[0;34m(self, src, values, src_key_padding_mask, batch_size, batch_labels, output_to_cpu, time_step, return_np)\u001b[0m\n\u001b[1;32m    665\u001b[0m             \u001b[0moutput\u001b[0m \u001b[0;34m=\u001b[0m \u001b[0mraw_output\u001b[0m\u001b[0;34m.\u001b[0m\u001b[0mdetach\u001b[0m\u001b[0;34m(\u001b[0m\u001b[0;34m)\u001b[0m\u001b[0;34m\u001b[0m\u001b[0;34m\u001b[0m\u001b[0m\n\u001b[1;32m    666\u001b[0m             \u001b[0;32mif\u001b[0m \u001b[0moutput_to_cpu\u001b[0m\u001b[0;34m:\u001b[0m\u001b[0;34m\u001b[0m\u001b[0;34m\u001b[0m\u001b[0m\n\u001b[0;32m--> 667\u001b[0;31m                 \u001b[0moutput\u001b[0m \u001b[0;34m=\u001b[0m \u001b[0moutput\u001b[0m\u001b[0;34m.\u001b[0m\u001b[0mcpu\u001b[0m\u001b[0;34m(\u001b[0m\u001b[0;34m)\u001b[0m\u001b[0;34m\u001b[0m\u001b[0;34m\u001b[0m\u001b[0m\n\u001b[0m\u001b[1;32m    668\u001b[0m             \u001b[0;32mif\u001b[0m \u001b[0mreturn_np\u001b[0m\u001b[0;34m:\u001b[0m\u001b[0;34m\u001b[0m\u001b[0;34m\u001b[0m\u001b[0m\n\u001b[1;32m    669\u001b[0m                 \u001b[0moutput\u001b[0m \u001b[0;34m=\u001b[0m \u001b[0moutput\u001b[0m\u001b[0;34m.\u001b[0m\u001b[0mnumpy\u001b[0m\u001b[0;34m(\u001b[0m\u001b[0;34m)\u001b[0m\u001b[0;34m\u001b[0m\u001b[0;34m\u001b[0m\u001b[0m\n",
      "\u001b[0;31mKeyboardInterrupt\u001b[0m: "
     ]
    }
   ],
   "source": [
    "condition_ids = np.array(adata_t.obs[\"condition\"].tolist())\n",
    "\n",
    "# Initialize accumulators for running sums, counts, means, and the rank list\n",
    "dict_sum_condition = {}\n",
    "dict_count_condition = {}\n",
    "dict_sum_condition_mean = {}\n",
    "rank_list = []  # To store computed ranks from analysis iterations\n",
    "\n",
    "sub_batch_size = 2048  # Use batch_size=16\n",
    "num_samples = len(all_gene_ids)\n",
    "\n",
    "# Create a random permutation of indices\n",
    "random_indices = np.random.permutation(num_samples)\n",
    "\n",
    "# Process the dataset in random sub-batches\n",
    "for i in tqdm(range(0, num_samples, sub_batch_size), desc=\"Random partitions\"):\n",
    "    # Get a batch of random indices\n",
    "    batch_indices = random_indices[i : i + sub_batch_size]\n",
    "    \n",
    "    # Index the arrays using the random batch indices\n",
    "    batch_gene_ids = all_gene_ids[batch_indices]\n",
    "    batch_values = all_values[batch_indices].float()  # assuming all_values is a tensor\n",
    "    batch_padding_mask = (src_key_padding_mask[batch_indices]\n",
    "                          if src_key_padding_mask is not None else None)\n",
    "    \n",
    "    # Compute embeddings for the current random sub-batch\n",
    "    with torch.no_grad(), torch.cuda.amp.autocast(enabled=config.amp):\n",
    "        gene_embeddings_batch = model.encode_batch(\n",
    "            batch_gene_ids,\n",
    "            batch_values,\n",
    "            src_key_padding_mask=batch_padding_mask,\n",
    "            batch_size=16,  # Explicitly use batch_size=16 here\n",
    "            batch_labels=None,\n",
    "            return_np=True,\n",
    "        )\n",
    "    \n",
    "    # Update cumulative sums and counts, then recalc the running mean per condition\n",
    "    # Note: We index condition_ids with the original index from batch_indices.\n",
    "    for idx, sample_idx in enumerate(batch_indices):\n",
    "        condition = condition_ids[sample_idx]\n",
    "        if condition in dict_sum_condition:\n",
    "            dict_sum_condition[condition] += gene_embeddings_batch[idx, :, :]\n",
    "            dict_count_condition[condition] += 1\n",
    "        else:\n",
    "            dict_sum_condition[condition] = gene_embeddings_batch[idx, :, :]\n",
    "            dict_count_condition[condition] = 1\n",
    "        \n",
    "        # Update the running mean for this condition\n",
    "        dict_sum_condition_mean[condition] = dict_sum_condition[condition] / dict_count_condition[condition]\n",
    "    \n",
    "    # ----- Analysis for the batches processed so far -----\n",
    "    # Map conditions to target genes via drug_target_map.\n",
    "    dict_sum_target_gene_mean = {\n",
    "        drug_target_map[drug]: dict_sum_condition_mean[drug]\n",
    "        for drug in dict_sum_condition_mean.keys() if drug in drug_target_map\n",
    "    }\n",
    "    \n",
    "    # (Optional) Get the gene vocabulary index from the first element\n",
    "    gene_vocab_idx = all_gene_ids[0].clone().detach().cpu().numpy()\n",
    "    \n",
    "    # Create a list of perturbation targets, excluding control ('ctrl')\n",
    "    perturb_targets = list(dict_sum_target_gene_mean.keys())\n",
    "    if 'ctrl' in perturb_targets:\n",
    "        perturb_targets.remove('ctrl')\n",
    "    assert 'ctrl' not in perturb_targets\n",
    "    \n",
    "    # For each perturbation target, compute cosine distances and determine a ranking.\n",
    "    if \"ctrl\" in dict_sum_target_gene_mean.keys():\n",
    "        for t in perturb_targets:\n",
    "            celltype_0 = t\n",
    "            celltype_1 = 'ctrl'\n",
    "            # Expand dims so that cosine_distances receives 2D arrays.\n",
    "            gene_emb_celltype_0 = np.expand_dims(dict_sum_target_gene_mean[celltype_0][1:, :], axis=0)\n",
    "            gene_emb_celltype_1 = np.expand_dims(dict_sum_target_gene_mean[celltype_1][1:, :], axis=0)\n",
    "            gene_dist_dict = {}\n",
    "            \n",
    "            for j, g in tqdm(enumerate(genes), total=len(genes), desc=f\"Analyzing {t}\", disable=True):\n",
    "                gene_dist = cosine_distances(gene_emb_celltype_0[:, j, :],\n",
    "                                            gene_emb_celltype_1[:, j, :]).mean()\n",
    "                gene_dist_dict[g] = gene_dist\n",
    "            \n",
    "            df_gene_emb_dist = pd.DataFrame.from_dict(gene_dist_dict, orient='index', columns=['cos_dist'])\n",
    "            df_deg = df_gene_emb_dist.sort_values(by='cos_dist', ascending=False)\n",
    "            rank = np.where(df_deg.index == t)[0][0]\n",
    "            print(f\"Target {t} rank: {rank}\")\n",
    "            rank_list.append(rank)\n",
    "        # ----- End Analysis -----\n",
    "        \n",
    "        # Save a box and whisker plot of rank_list as a PNG file.\n",
    "        if rank_list:\n",
    "            rank_mean = np.mean(rank_list)\n",
    "            plt.figure()\n",
    "            plt.boxplot(rank_list)\n",
    "            # plt.title(f\"Boxplot after {i + sub_batch_size} random samples processed (mean: {rank_mean:.2f})\")\n",
    "            plt.savefig(f\"boxplot_{i + sub_batch_size}_samples_mean_{rank_mean:.2f}.png\")\n",
    "            plt.close()\n",
    "    \n",
    "    # Free memory used by the current sub-batch\n",
    "    del gene_embeddings_batch\n",
    "    gc.collect()"
   ]
  },
  {
   "cell_type": "code",
   "execution_count": null,
   "metadata": {},
   "outputs": [
    {
     "data": {
      "text/plain": [
       "{'TOP1': array([[-0.11615115,  0.24844779, -0.11260942, ...,  0.129785  ,\n",
       "          0.16195199, -0.07603846],\n",
       "        [-0.35701963,  0.24251509, -0.14003128, ...,  0.44481516,\n",
       "         -0.31772625, -0.47711706],\n",
       "        [-0.26342896, -0.05267463,  0.2484469 , ...,  0.36603752,\n",
       "         -0.21433096, -0.8648994 ],\n",
       "        ...,\n",
       "        [-0.29426682,  0.27625751,  0.40686172, ..., -0.02277755,\n",
       "          0.360824  , -0.42829806],\n",
       "        [-0.1973518 , -0.01216858,  0.2917378 , ...,  0.15134878,\n",
       "          0.11688229, -0.20826164],\n",
       "        [-0.32079697, -0.3628924 , -0.03575832, ...,  0.36918753,\n",
       "          0.27251163, -0.54093087]], dtype=float32)}"
      ]
     },
     "execution_count": 46,
     "metadata": {},
     "output_type": "execute_result"
    }
   ],
   "source": [
    "dict_sum_target_gene_mean"
   ]
  },
  {
   "cell_type": "code",
   "execution_count": null,
   "metadata": {},
   "outputs": [
    {
     "ename": "MemoryError",
     "evalue": "Unable to allocate 4.19 TiB for an array with shape (83476, 26930, 512) and data type float32",
     "output_type": "error",
     "traceback": [
      "\u001b[0;31m---------------------------------------------------------------------------\u001b[0m",
      "\u001b[0;31mMemoryError\u001b[0m                               Traceback (most recent call last)",
      "\u001b[0;32m/tmp/ipykernel_37488/3619458003.py\u001b[0m in \u001b[0;36m<cell line: 4>\u001b[0;34m()\u001b[0m\n\u001b[1;32m      3\u001b[0m \u001b[0;34m\u001b[0m\u001b[0m\n\u001b[1;32m      4\u001b[0m \u001b[0;32mwith\u001b[0m \u001b[0mtorch\u001b[0m\u001b[0;34m.\u001b[0m\u001b[0mno_grad\u001b[0m\u001b[0;34m(\u001b[0m\u001b[0;34m)\u001b[0m\u001b[0;34m,\u001b[0m \u001b[0mtorch\u001b[0m\u001b[0;34m.\u001b[0m\u001b[0mcuda\u001b[0m\u001b[0;34m.\u001b[0m\u001b[0mamp\u001b[0m\u001b[0;34m.\u001b[0m\u001b[0mautocast\u001b[0m\u001b[0;34m(\u001b[0m\u001b[0menabled\u001b[0m\u001b[0;34m=\u001b[0m\u001b[0mconfig\u001b[0m\u001b[0;34m.\u001b[0m\u001b[0mamp\u001b[0m\u001b[0;34m)\u001b[0m\u001b[0;34m:\u001b[0m\u001b[0;34m\u001b[0m\u001b[0;34m\u001b[0m\u001b[0m\n\u001b[0;32m----> 5\u001b[0;31m     gene_embeddings = model.encode_batch(\n\u001b[0m\u001b[1;32m      6\u001b[0m         \u001b[0mall_gene_ids\u001b[0m\u001b[0;34m,\u001b[0m\u001b[0;34m\u001b[0m\u001b[0;34m\u001b[0m\u001b[0m\n\u001b[1;32m      7\u001b[0m         \u001b[0mall_values\u001b[0m\u001b[0;34m.\u001b[0m\u001b[0mfloat\u001b[0m\u001b[0;34m(\u001b[0m\u001b[0;34m)\u001b[0m\u001b[0;34m,\u001b[0m\u001b[0;34m\u001b[0m\u001b[0;34m\u001b[0m\u001b[0m\n",
      "\u001b[0;32m/fs01/home/ahz/mosaicfm/notebooks/../scgpt/model/model.py\u001b[0m in \u001b[0;36mencode_batch\u001b[0;34m(self, src, values, src_key_padding_mask, batch_size, batch_labels, output_to_cpu, time_step, return_np)\u001b[0m\n\u001b[1;32m    652\u001b[0m             \u001b[0;32melse\u001b[0m \u001b[0;34m(\u001b[0m\u001b[0mN\u001b[0m\u001b[0;34m,\u001b[0m \u001b[0msrc\u001b[0m\u001b[0;34m.\u001b[0m\u001b[0msize\u001b[0m\u001b[0;34m(\u001b[0m\u001b[0;36m1\u001b[0m\u001b[0;34m)\u001b[0m\u001b[0;34m,\u001b[0m \u001b[0mself\u001b[0m\u001b[0;34m.\u001b[0m\u001b[0md_model\u001b[0m\u001b[0;34m)\u001b[0m\u001b[0;34m\u001b[0m\u001b[0;34m\u001b[0m\u001b[0m\n\u001b[1;32m    653\u001b[0m         )\n\u001b[0;32m--> 654\u001b[0;31m         \u001b[0moutputs\u001b[0m \u001b[0;34m=\u001b[0m \u001b[0marray_func\u001b[0m\u001b[0;34m(\u001b[0m\u001b[0mshape\u001b[0m\u001b[0;34m,\u001b[0m \u001b[0mdtype\u001b[0m\u001b[0;34m=\u001b[0m\u001b[0mfloat32_\u001b[0m\u001b[0;34m)\u001b[0m\u001b[0;34m\u001b[0m\u001b[0;34m\u001b[0m\u001b[0m\n\u001b[0m\u001b[1;32m    655\u001b[0m \u001b[0;34m\u001b[0m\u001b[0m\n\u001b[1;32m    656\u001b[0m         \u001b[0;32mfor\u001b[0m \u001b[0mi\u001b[0m \u001b[0;32min\u001b[0m \u001b[0mtrange\u001b[0m\u001b[0;34m(\u001b[0m\u001b[0;36m0\u001b[0m\u001b[0;34m,\u001b[0m \u001b[0mN\u001b[0m\u001b[0;34m,\u001b[0m \u001b[0mbatch_size\u001b[0m\u001b[0;34m)\u001b[0m\u001b[0;34m:\u001b[0m\u001b[0;34m\u001b[0m\u001b[0;34m\u001b[0m\u001b[0m\n",
      "\u001b[0;31mMemoryError\u001b[0m: Unable to allocate 4.19 TiB for an array with shape (83476, 26930, 512) and data type float32"
     ]
    }
   ],
   "source": [
    "# model.to(device)\n",
    "# wandb.watch(model)\n",
    "\n",
    "# with torch.no_grad(), torch.cuda.amp.autocast(enabled=config.amp):\n",
    "#     gene_embeddings = model.encode_batch(\n",
    "#         all_gene_ids,\n",
    "#         all_values.float(),\n",
    "#         src_key_padding_mask=src_key_padding_mask,\n",
    "#         batch_size=16,\n",
    "#         batch_labels=None,\n",
    "#         return_np=True,\n",
    "#     )"
   ]
  },
  {
   "cell_type": "code",
   "execution_count": null,
   "metadata": {},
   "outputs": [
    {
     "data": {
      "text/plain": [
       "array(['AZD1390', 'AZD1390', 'AZD1390', ..., 'ctrl', 'ctrl', 'ctrl'],\n",
       "      dtype='<U28')"
      ]
     },
     "execution_count": 43,
     "metadata": {},
     "output_type": "execute_result"
    }
   ],
   "source": [
    "condition_ids"
   ]
  },
  {
   "cell_type": "code",
   "execution_count": null,
   "metadata": {},
   "outputs": [],
   "source": [
    "# dict_sum_condition = {}\n",
    "# for i, c in enumerate(condition_ids):\n",
    "#     if c in dict_sum_condition:\n",
    "#         dict_sum_condition[c]+=gene_embeddings[i, :, :]\n",
    "#     else:\n",
    "#         dict_sum_condition[c]=gene_embeddings[i, :, :]"
   ]
  },
  {
   "cell_type": "code",
   "execution_count": null,
   "metadata": {},
   "outputs": [
    {
     "data": {
      "text/plain": [
       "{'AZD1390': array([[ -8.148453 ,  18.083431 ,  -7.322385 , ...,   9.024526 ,\n",
       "          13.199939 ,  -4.864532 ],\n",
       "        [-26.262653 ,  17.475304 , -12.206568 , ...,  32.67421  ,\n",
       "         -23.564209 , -35.327793 ],\n",
       "        [-19.267513 ,  -4.245804 ,  18.698374 , ...,  24.58391  ,\n",
       "         -16.135706 , -64.12608  ],\n",
       "        ...,\n",
       "        [-20.94814  ,  19.598473 ,  31.749445 , ...,  -2.0941536,\n",
       "          30.456165 , -32.514927 ],\n",
       "        [-13.197169 ,  -1.4194692,  23.054062 , ...,  11.142487 ,\n",
       "           9.118238 , -16.487276 ],\n",
       "        [-25.47564  , -19.530859 ,   6.156649 , ...,  22.46046  ,\n",
       "          13.98754  , -33.78483  ]], dtype=float32),\n",
       " 'Elimusertib hydrochloride': array([[ -7.5823164,  17.935604 ,  -6.8965144, ...,   8.540687 ,\n",
       "          14.532765 ,  -6.2247953],\n",
       "        [-26.128792 ,  17.725828 , -11.837996 , ...,  32.418293 ,\n",
       "         -22.906015 , -36.569836 ],\n",
       "        [-18.855818 ,  -4.047278 ,  19.72148  , ...,  24.393497 ,\n",
       "         -14.55857  , -65.31503  ],\n",
       "        ...,\n",
       "        [-20.524685 ,  19.68868  ,  32.583614 , ...,  -2.617221 ,\n",
       "          31.780643 , -33.614037 ],\n",
       "        [-14.036844 ,  -1.1890563,  23.628061 , ...,  10.851258 ,\n",
       "          11.212824 , -16.034534 ],\n",
       "        [-25.190542 , -19.126547 ,   6.9016604, ...,  22.009207 ,\n",
       "          14.591808 , -33.89664  ]], dtype=float32),\n",
       " 'TAK-901': array([[ -8.245993 ,  18.177132 ,  -7.7786508, ...,   8.902791 ,\n",
       "          13.865258 ,  -4.461367 ],\n",
       "        [-26.329641 ,  17.593712 , -12.779744 , ...,  32.64686  ,\n",
       "         -23.418598 , -35.218395 ],\n",
       "        [-19.038746 ,  -3.9580045,  17.761986 , ...,  23.977287 ,\n",
       "         -15.999621 , -63.05173  ],\n",
       "        ...,\n",
       "        [-20.455397 ,  19.656649 ,  31.243101 , ...,  -2.232064 ,\n",
       "          31.044262 , -32.310223 ],\n",
       "        [-13.580182 ,  -0.9714709,  22.156246 , ...,  11.543569 ,\n",
       "           9.831677 , -15.560834 ],\n",
       "        [-25.807812 , -17.989227 ,   6.495294 , ...,  21.749193 ,\n",
       "          13.803324 , -32.625134 ]], dtype=float32),\n",
       " 'venetoclax': array([[ -7.841974 ,  18.035303 ,  -7.143399 , ...,   8.908971 ,\n",
       "          14.208934 ,  -6.1211286],\n",
       "        [-26.498297 ,  17.751364 , -11.450882 , ...,  32.701275 ,\n",
       "         -22.918507 , -36.01049  ],\n",
       "        [-19.307106 ,  -4.202763 ,  19.891811 , ...,  25.421663 ,\n",
       "         -14.618608 , -65.08373  ],\n",
       "        ...,\n",
       "        [-21.062496 ,  20.372652 ,  32.42816  , ...,  -1.9820467,\n",
       "          30.357893 , -33.261845 ],\n",
       "        [-14.2889595,  -1.1713338,  23.4254   , ...,  10.955811 ,\n",
       "          10.52659  , -16.163818 ],\n",
       "        [-25.114286 , -20.82177  ,   5.301117 , ...,  23.355778 ,\n",
       "          15.690898 , -35.49826  ]], dtype=float32),\n",
       " 'Vemurafenib': array([[ -8.18009  ,  18.203518 ,  -7.8171105, ...,   9.453063 ,\n",
       "          12.610389 ,  -5.1693263],\n",
       "        [-26.368458 ,  17.741041 , -12.042565 , ...,  33.08613  ,\n",
       "         -24.070518 , -35.567516 ],\n",
       "        [-19.180243 ,  -4.061926 ,  18.47161  , ...,  25.450636 ,\n",
       "         -16.49923  , -64.51617  ],\n",
       "        ...,\n",
       "        [-20.872965 ,  20.004698 ,  31.435476 , ...,  -1.7870449,\n",
       "          29.315    , -32.46146  ],\n",
       "        [-13.944395 ,  -0.9420747,  22.351856 , ...,  11.539455 ,\n",
       "           9.228851 , -15.765796 ],\n",
       "        [-25.489952 , -19.800438 ,   4.544374 , ...,  23.30829  ,\n",
       "          14.892183 , -34.351734 ]], dtype=float32),\n",
       " 'Anastrozole': array([[ -7.96225  ,  18.229841 ,  -7.4192147, ...,   9.361178 ,\n",
       "          12.657908 ,  -5.6963077],\n",
       "        [-26.38599  ,  17.612713 , -11.641637 , ...,  33.035587 ,\n",
       "         -23.490494 , -35.503345 ],\n",
       "        [-19.316729 ,  -3.9567747,  19.265026 , ...,  25.94883  ,\n",
       "         -16.173208 , -65.555374 ],\n",
       "        ...,\n",
       "        [-21.2334   ,  20.139053 ,  32.064774 , ...,  -1.7183816,\n",
       "          29.462872 , -32.785133 ],\n",
       "        [-14.3548565,  -0.6920673,  22.853537 , ...,  11.587325 ,\n",
       "           9.660508 , -15.627192 ],\n",
       "        [-25.28654  , -19.912006 ,   5.7001367, ...,  23.107021 ,\n",
       "          14.530092 , -34.97398  ]], dtype=float32),\n",
       " '4EGI-1': array([[ -7.723706 ,  18.071712 ,  -6.8061147, ...,   9.229269 ,\n",
       "          13.01449  ,  -6.5407124],\n",
       "        [-26.330664 ,  17.70471  , -10.871863 , ...,  33.001728 ,\n",
       "         -23.216988 , -35.958786 ],\n",
       "        [-19.229053 ,  -4.2123113,  20.292282 , ...,  26.284071 ,\n",
       "         -15.456978 , -66.47942  ],\n",
       "        ...,\n",
       "        [-21.699266 ,  20.405783 ,  32.711044 , ...,  -1.9700537,\n",
       "          29.278778 , -33.882164 ],\n",
       "        [-14.223954 ,  -1.1769531,  23.562733 , ...,  11.238299 ,\n",
       "           9.901253 , -16.208496 ],\n",
       "        [-24.28095  , -22.617565 ,   2.8618653, ...,  25.069752 ,\n",
       "          17.768818 , -36.79385  ]], dtype=float32),\n",
       " 'Belzutifan': array([[ -7.6644473,  18.039427 ,  -7.3008103, ...,   9.176926 ,\n",
       "          13.386931 ,  -5.150732 ],\n",
       "        [-26.195005 ,  17.519268 , -11.579842 , ...,  32.98258  ,\n",
       "         -23.32921  , -35.39801  ],\n",
       "        [-18.883926 ,  -4.0965047,  18.93043  , ...,  24.874    ,\n",
       "         -15.928711 , -64.43153  ],\n",
       "        ...,\n",
       "        [-20.874596 ,  19.795618 ,  32.135883 , ...,  -2.0157614,\n",
       "          30.685759 , -33.040077 ],\n",
       "        [-13.537456 ,  -0.9429722,  22.911974 , ...,  11.5925665,\n",
       "           9.866813 , -16.041882 ],\n",
       "        [-25.061563 , -19.690105 ,   5.570603 , ...,  23.010319 ,\n",
       "          14.686873 , -34.247406 ]], dtype=float32),\n",
       " 'NVP-BHG712': array([[ -7.8149967,  17.956099 ,  -6.8601036, ...,   8.528425 ,\n",
       "          14.726882 ,  -5.170378 ],\n",
       "        [-26.068972 ,  17.650814 , -12.210183 , ...,  32.30347  ,\n",
       "         -23.005112 , -35.97048  ],\n",
       "        [-19.094677 ,  -4.211061 ,  18.800257 , ...,  23.765123 ,\n",
       "         -15.076808 , -64.0378   ],\n",
       "        ...,\n",
       "        [-20.551565 ,  19.61411  ,  32.184647 , ...,  -2.4546742,\n",
       "          31.984829 , -33.054733 ],\n",
       "        [-13.69103  ,  -1.1301806,  23.112709 , ...,  11.15601  ,\n",
       "          10.79981  , -15.739919 ],\n",
       "        [-25.39112  , -18.853737 ,   7.2582965, ...,  21.6687   ,\n",
       "          14.2494545, -33.206757 ]], dtype=float32),\n",
       " 'Tucatinib': array([[ -7.919312 ,  18.083641 ,  -6.780195 , ...,   9.120186 ,\n",
       "          13.27567  ,  -5.900849 ],\n",
       "        [-26.508062 ,  17.539032 , -11.173117 , ...,  32.88682  ,\n",
       "         -22.889694 , -35.410995 ],\n",
       "        [-19.433846 ,  -4.231638 ,  19.781284 , ...,  25.572401 ,\n",
       "         -15.607858 , -65.56197  ],\n",
       "        ...,\n",
       "        [-21.510971 ,  20.228544 ,  32.671585 , ...,  -1.9878136,\n",
       "          29.939407 , -33.326298 ],\n",
       "        [-14.430068 ,  -0.9684048,  23.492502 , ...,  11.424667 ,\n",
       "          10.130709 , -15.814215 ],\n",
       "        [-25.132347 , -21.074974 ,   4.0764384, ...,  23.852945 ,\n",
       "          16.379162 , -35.26868  ]], dtype=float32),\n",
       " '9-ING-41': array([[ -7.635582 ,  18.177485 ,  -7.3975205, ...,   8.739621 ,\n",
       "          14.60731  ,  -4.2652206],\n",
       "        [-25.942081 ,  17.83008  , -12.674592 , ...,  32.595352 ,\n",
       "         -23.417727 , -35.42531  ],\n",
       "        [-18.516747 ,  -3.823424 ,  17.911846 , ...,  23.384468 ,\n",
       "         -15.690398 , -62.72115  ],\n",
       "        ...,\n",
       "        [-19.888397 ,  19.519014 ,  31.517149 , ...,  -2.4902015,\n",
       "          31.966015 , -32.664284 ],\n",
       "        [-12.86107  ,  -1.0668035,  22.381657 , ...,  11.418199 ,\n",
       "          10.298254 , -15.990696 ],\n",
       "        [-25.227795 , -18.489721 ,   6.413494 , ...,  21.906723 ,\n",
       "          14.190132 , -32.748573 ]], dtype=float32),\n",
       " 'ML264': array([[ -7.5884957,  18.078741 ,  -6.9504967, ...,   8.821655 ,\n",
       "          14.294524 ,  -5.5878463],\n",
       "        [-26.128014 ,  17.766205 , -11.747503 , ...,  32.67509  ,\n",
       "         -23.039562 , -36.08776  ],\n",
       "        [-18.968855 ,  -4.08033  ,  19.271206 , ...,  24.544933 ,\n",
       "         -15.016603 , -64.79119  ],\n",
       "        ...,\n",
       "        [-20.566898 ,  20.018763 ,  32.38697  , ...,  -2.2469265,\n",
       "          31.336649 , -33.244656 ],\n",
       "        [-13.548944 ,  -1.1636348,  23.363369 , ...,  11.058967 ,\n",
       "          10.51936  , -16.329163 ],\n",
       "        [-24.945581 , -20.474878 ,   5.1675754, ...,  23.047676 ,\n",
       "          15.9843855, -34.78959  ]], dtype=float32),\n",
       " 'RMC-6236': array([[ -8.022012 ,  18.048782 ,  -6.9701853, ...,   9.097844 ,\n",
       "          13.302082 ,  -5.1332235],\n",
       "        [-26.396042 ,  17.53216  , -11.538172 , ...,  32.743954 ,\n",
       "         -23.518517 , -35.481583 ],\n",
       "        [-19.435879 ,  -4.427987 ,  19.247997 , ...,  25.119984 ,\n",
       "         -15.868351 , -64.57384  ],\n",
       "        ...,\n",
       "        [-21.408651 ,  19.880993 ,  32.189026 , ...,  -1.9547349,\n",
       "          30.346407 , -32.8332   ],\n",
       "        [-13.876021 ,  -1.3661853,  23.337702 , ...,  11.322426 ,\n",
       "           9.762746 , -16.122782 ],\n",
       "        [-25.343523 , -19.794085 ,   6.01516  , ...,  22.89076  ,\n",
       "          14.551275 , -34.179874 ]], dtype=float32),\n",
       " 'TAK-733': array([[ -8.191841 ,  18.182817 ,  -7.685781 , ...,   9.277005 ,\n",
       "          12.4974375,  -5.3163867],\n",
       "        [-26.342806 ,  17.625177 , -11.795904 , ...,  32.970016 ,\n",
       "         -23.807205 , -35.567596 ],\n",
       "        [-19.110573 ,  -4.1062675,  18.879341 , ...,  25.449654 ,\n",
       "         -16.676897 , -64.90818  ],\n",
       "        ...,\n",
       "        [-21.043325 ,  19.743397 ,  31.51369  , ...,  -2.0843558,\n",
       "          29.253908 , -32.70592  ],\n",
       "        [-14.123743 ,  -0.9127634,  22.789679 , ...,  11.460686 ,\n",
       "           9.324392 , -15.898863 ],\n",
       "        [-25.470242 , -20.009823 ,   4.8950243, ...,  23.20955  ,\n",
       "          15.006308 , -34.901154 ]], dtype=float32),\n",
       " 'OTS514': array([[ -7.107065 ,  17.796667 ,  -6.332661 , ...,   8.995836 ,\n",
       "          14.176705 ,  -6.4392695],\n",
       "        [-25.82348  ,  17.612486 , -11.460493 , ...,  32.797417 ,\n",
       "         -23.1178   , -36.630276 ],\n",
       "        [-18.771292 ,  -4.087241 ,  20.309107 , ...,  24.84888  ,\n",
       "         -14.770998 , -65.87071  ],\n",
       "        ...,\n",
       "        [-20.899973 ,  19.799152 ,  33.19468  , ...,  -2.0901842,\n",
       "          31.734049 , -34.31249  ],\n",
       "        [-13.180131 ,  -1.528173 ,  24.143864 , ...,  10.985654 ,\n",
       "          10.574544 , -16.960613 ],\n",
       "        [-24.59195  , -19.894802 ,   6.208795 , ...,  23.041079 ,\n",
       "          15.559311 , -34.457153 ]], dtype=float32),\n",
       " 'PF-06260933': array([[ -8.256136  ,  18.298435  ,  -7.7480187 , ...,   9.206211  ,\n",
       "          13.042988  ,  -4.607491  ],\n",
       "        [-26.42567   ,  17.645412  , -12.443143  , ...,  32.9332    ,\n",
       "         -23.468699  , -34.88067   ],\n",
       "        [-19.05575   ,  -3.9327102 ,  17.965929  , ...,  24.686659  ,\n",
       "         -16.597136  , -63.866077  ],\n",
       "        ...,\n",
       "        [-20.528507  ,  19.741371  ,  31.156122  , ...,  -2.0147362 ,\n",
       "          30.076746  , -32.25862   ],\n",
       "        [-13.483981  ,  -0.89081126,  22.299105  , ...,  11.520081  ,\n",
       "           9.241818  , -15.883678  ],\n",
       "        [-25.771702  , -18.113567  ,   8.1368475 , ...,  21.457998  ,\n",
       "          12.081769  , -33.12533   ]], dtype=float32),\n",
       " 'PH-797804': array([[ -7.454006 ,  18.03508  ,  -7.282208 , ...,   8.51319  ,\n",
       "          15.120278 ,  -5.239817 ],\n",
       "        [-25.927298 ,  17.695227 , -12.547365 , ...,  32.451195 ,\n",
       "         -22.787712 , -35.911205 ],\n",
       "        [-18.390472 ,  -3.8012166,  18.530231 , ...,  23.437065 ,\n",
       "         -14.857804 , -63.65729  ],\n",
       "        ...,\n",
       "        [-19.643261 ,  19.479298 ,  31.651503 , ...,  -2.7549927,\n",
       "          32.401524 , -33.153248 ],\n",
       "        [-12.819001 ,  -1.2782744,  22.682047 , ...,  10.805413 ,\n",
       "          10.628151 , -16.42697  ],\n",
       "        [-25.064339 , -18.467812 ,   6.850777 , ...,  21.612255 ,\n",
       "          14.281728 , -32.853153 ]], dtype=float32),\n",
       " 'ERK5-IN-2': array([[ -8.263621  ,  18.244017  ,  -7.412326  , ...,   8.982342  ,\n",
       "          13.361273  ,  -4.626144  ],\n",
       "        [-26.291786  ,  17.723951  , -12.380562  , ...,  32.633747  ,\n",
       "         -23.748865  , -35.48977   ],\n",
       "        [-19.381435  ,  -4.080912  ,  18.326822  , ...,  24.527845  ,\n",
       "         -16.15232   , -63.843395  ],\n",
       "        ...,\n",
       "        [-20.760462  ,  19.914923  ,  31.669725  , ...,  -2.0604749 ,\n",
       "          30.445143  , -32.399464  ],\n",
       "        [-13.996789  ,  -0.77522475,  22.677025  , ...,  11.546543  ,\n",
       "           9.899053  , -15.567604  ],\n",
       "        [-25.443775  , -19.851997  ,   5.628311  , ...,  22.624626  ,\n",
       "          14.972723  , -34.29492   ]], dtype=float32),\n",
       " 'Capmatinib': array([[ -7.611117 ,  18.06645  ,  -6.9916496, ...,   9.235372 ,\n",
       "          13.328146 ,  -6.189607 ],\n",
       "        [-26.183819 ,  17.80522  , -11.659621 , ...,  33.02628  ,\n",
       "         -23.669706 , -36.139603 ],\n",
       "        [-19.118912 ,  -4.138619 ,  19.857002 , ...,  25.78443  ,\n",
       "         -15.304885 , -65.8099   ],\n",
       "        ...,\n",
       "        [-21.244652 ,  20.216381 ,  32.5705   , ...,  -1.8916378,\n",
       "          30.165373 , -33.687878 ],\n",
       "        [-14.153087 ,  -1.0194067,  23.37175  , ...,  11.48948  ,\n",
       "          10.329086 , -16.077589 ],\n",
       "        [-24.917591 , -19.998362 ,   5.034388 , ...,  23.375393 ,\n",
       "          15.330705 , -34.759808 ]], dtype=float32),\n",
       " 'AZD-8055': array([[ -4.94364  ,  11.073716 ,  -4.49028  , ...,   5.5688515,\n",
       "           8.314471 ,  -3.1641657],\n",
       "        [-16.16821  ,  10.757686 ,  -7.046012 , ...,  20.051834 ,\n",
       "         -14.221905 , -21.858082 ],\n",
       "        [-11.842916 ,  -2.6405883,  11.504844 , ...,  15.282686 ,\n",
       "          -9.688069 , -39.441162 ],\n",
       "        ...,\n",
       "        [-13.003761 ,  12.2490425,  19.60998  , ...,  -1.2869939,\n",
       "          18.557398 , -20.102505 ],\n",
       "        [ -8.278307 ,  -0.8965119,  14.079451 , ...,   6.82991  ,\n",
       "           5.730946 , -10.081255 ],\n",
       "        [-15.18247  , -13.744432 ,   1.0612222, ...,  15.213328 ,\n",
       "          11.190144 , -21.92516  ]], dtype=float32),\n",
       " 'Sapanisertib': array([[ -3.2071266 ,   7.032169  ,  -3.3111672 , ...,   3.3834069 ,\n",
       "           5.5678787 ,  -1.7206521 ],\n",
       "        [-10.152788  ,   6.824292  ,  -5.1220717 , ...,  12.583738  ,\n",
       "          -9.033002  , -13.725509  ],\n",
       "        [ -7.243086  ,  -1.4835346 ,   6.6044855 , ...,   9.10255   ,\n",
       "          -6.0683675 , -24.163012  ],\n",
       "        ...,\n",
       "        [ -7.507528  ,   7.597157  ,  11.760738  , ...,  -0.94530404,\n",
       "          12.088769  , -12.312319  ],\n",
       "        [ -5.1243052 ,  -0.28078344,   8.367344  , ...,   4.259337  ,\n",
       "           3.8417635 ,  -6.0662894 ],\n",
       "        [ -9.935462  ,  -7.0015745 ,   2.7878811 , ...,   8.320673  ,\n",
       "           4.9247327 , -12.676477  ]], dtype=float32),\n",
       " 'Methylprednisolone succinate': array([[ -7.9887795 ,  18.111671  ,  -7.644633  , ...,   8.680857  ,\n",
       "          14.295557  ,  -4.678015  ],\n",
       "        [-26.140053  ,  17.635962  , -12.717211  , ...,  32.389206  ,\n",
       "         -23.426823  , -35.69858   ],\n",
       "        [-18.778372  ,  -3.9141312 ,  18.069435  , ...,  23.665081  ,\n",
       "         -15.566591  , -63.153366  ],\n",
       "        ...,\n",
       "        [-19.881104  ,  19.580961  ,  31.29127   , ...,  -2.399735  ,\n",
       "          31.557808  , -32.463135  ],\n",
       "        [-13.472015  ,  -0.98360074,  22.370876  , ...,  11.253223  ,\n",
       "          10.37172   , -15.736541  ],\n",
       "        [-25.697323  , -17.690548  ,   7.250394  , ...,  21.290525  ,\n",
       "          13.533626  , -32.43748   ]], dtype=float32),\n",
       " 'HI-TOPK-032': array([[ -8.268958  ,  18.507103  ,  -8.168261  , ...,   9.314588  ,\n",
       "          12.987493  ,  -4.028253  ],\n",
       "        [-26.340347  ,  17.62002   , -12.44725   , ...,  32.859383  ,\n",
       "         -23.64971   , -34.82801   ],\n",
       "        [-18.986488  ,  -3.7807784 ,  17.179188  , ...,  24.432365  ,\n",
       "         -16.831423  , -63.15857   ],\n",
       "        ...,\n",
       "        [-19.980602  ,  19.97301   ,  30.649187  , ...,  -1.788902  ,\n",
       "          29.983538  , -31.766869  ],\n",
       "        [-13.970361  ,  -0.12279446,  21.895931  , ...,  11.961712  ,\n",
       "           9.810232  , -14.8515835 ],\n",
       "        [-25.884146  , -18.030092  ,   6.042738  , ...,  22.09511   ,\n",
       "          13.563914  , -32.85697   ]], dtype=float32),\n",
       " 'Alpelisib': array([[ -7.8767276,  18.021143 ,  -6.4370184, ...,   8.6319685,\n",
       "          14.122889 ,  -6.1684456],\n",
       "        [-26.475353 ,  17.723455 , -10.981785 , ...,  32.489838 ,\n",
       "         -22.643793 , -36.031643 ],\n",
       "        [-19.735466 ,  -4.4298177,  20.447924 , ...,  25.394705 ,\n",
       "         -14.706612 , -65.98817  ],\n",
       "        ...,\n",
       "        [-21.863728 ,  20.38277  ,  33.1272   , ...,  -2.2917058,\n",
       "          30.56732  , -33.743908 ],\n",
       "        [-14.387542 ,  -1.3420985,  24.047173 , ...,  10.922966 ,\n",
       "          10.563301 , -16.340885 ],\n",
       "        [-24.999748 , -21.260641 ,   4.5769973, ...,  23.5264   ,\n",
       "          16.527018 , -35.60343  ]], dtype=float32),\n",
       " 'EX229': array([[ -5.0396266 ,  11.100952  ,  -4.8163376 , ...,   5.186749  ,\n",
       "           9.036131  ,  -2.8983834 ],\n",
       "        [-16.147825  ,  10.857224  ,  -7.852739  , ...,  19.796799  ,\n",
       "         -14.117203  , -21.891264  ],\n",
       "        [-11.751381  ,  -2.4312325 ,  11.171499  , ...,  14.485733  ,\n",
       "          -9.286777  , -38.669952  ],\n",
       "        ...,\n",
       "        [-12.189464  ,  12.140804  ,  19.179     , ...,  -1.4795749 ,\n",
       "          19.34663   , -19.797174  ],\n",
       "        [ -8.184411  ,  -0.64496213,  13.709324  , ...,   6.6551614 ,\n",
       "           6.207491  ,  -9.789387  ],\n",
       "        [-15.802766  , -11.440447  ,   4.318025  , ...,  13.198396  ,\n",
       "           8.337954  , -20.375608  ]], dtype=float32),\n",
       " 'MK-3903': array([[ -2.90234   ,   6.960175  ,  -2.8233695 , ...,   3.4860563 ,\n",
       "           5.5169883 ,  -2.2277794 ],\n",
       "        [-10.1982355 ,   6.7921085 ,  -4.5403204 , ...,  12.7182045 ,\n",
       "          -8.776295  , -13.768809  ],\n",
       "        [ -7.2831397 ,  -1.49968   ,   7.452034  , ...,   9.637232  ,\n",
       "          -5.7211294 , -24.94971   ],\n",
       "        ...,\n",
       "        [ -7.961594  ,   7.77047   ,  12.479112  , ...,  -0.80456233,\n",
       "          12.087576  , -12.874827  ],\n",
       "        [ -5.4591804 ,  -0.37396255,   8.909845  , ...,   4.407878  ,\n",
       "           4.2504053 ,  -6.113911  ],\n",
       "        [ -9.690291  ,  -7.49338   ,   1.9535102 , ...,   8.918137  ,\n",
       "           6.076306  , -13.125674  ]], dtype=float32),\n",
       " 'AZD-7648': array([[ -8.139708 ,  18.191734 ,  -7.728844 , ...,   9.050164 ,\n",
       "          13.601137 ,  -4.4476585],\n",
       "        [-26.300203 ,  17.529297 , -12.459809 , ...,  32.68402  ,\n",
       "         -23.367393 , -35.019646 ],\n",
       "        [-19.077217 ,  -3.9493554,  17.793228 , ...,  24.121958 ,\n",
       "         -16.044815 , -63.08394  ],\n",
       "        ...,\n",
       "        [-20.287382 ,  19.629234 ,  31.311422 , ...,  -1.8979131,\n",
       "          31.162037 , -31.871248 ],\n",
       "        [-13.069319 ,  -1.0944648,  22.306562 , ...,  11.4045925,\n",
       "           9.457521 , -16.108044 ],\n",
       "        [-25.59687  , -18.232103 ,   7.3176785, ...,  21.715246 ,\n",
       "          12.932902 , -32.853493 ]], dtype=float32),\n",
       " 'Ixazomib': array([[ -4.611791  ,  10.416477  ,  -3.8753858 , ...,   5.069696  ,\n",
       "           7.7206492 ,  -3.260407  ],\n",
       "        [-15.155168  ,  10.174281  ,  -6.616942  , ...,  18.67714   ,\n",
       "         -13.388683  , -20.5764    ],\n",
       "        [-11.190229  ,  -2.474526  ,  11.192265  , ...,  14.500951  ,\n",
       "          -8.939278  , -37.747227  ],\n",
       "        ...,\n",
       "        [-12.326     ,  11.570883  ,  18.731205  , ...,  -1.2935876 ,\n",
       "          17.275442  , -19.050425  ],\n",
       "        [ -8.179425  ,  -0.61348325,  13.506239  , ...,   6.3279195 ,\n",
       "           5.7236276 ,  -9.136074  ],\n",
       "        [-14.480468  , -11.696485  ,   3.3793468 , ...,  13.155819  ,\n",
       "           8.692874  , -20.10869   ]], dtype=float32),\n",
       " 'Bortezomib': array([[ -3.3125634 ,   7.6817775 ,  -3.2720954 , ...,   3.6664634 ,\n",
       "           6.304006  ,  -2.2327197 ],\n",
       "        [-11.295922  ,   7.4916816 ,  -5.2559786 , ...,  13.805721  ,\n",
       "          -9.501366  , -15.084385  ],\n",
       "        [ -8.133372  ,  -1.517733  ,   7.9951634 , ...,  10.268724  ,\n",
       "          -6.4187613 , -27.221466  ],\n",
       "        ...,\n",
       "        [ -8.465755  ,   8.460057  ,  13.379783  , ...,  -0.8468645 ,\n",
       "          13.502736  , -13.946368  ],\n",
       "        [ -5.6375046 ,  -0.59001654,   9.796483  , ...,   4.5672164 ,\n",
       "           4.2342277 ,  -7.063966  ],\n",
       "        [-10.979051  ,  -7.9025226 ,   3.3023887 , ...,   9.123663  ,\n",
       "           5.598183  , -14.195217  ]], dtype=float32),\n",
       " 'Celecoxib': array([[ -7.6067877,  18.039928 ,  -7.160544 , ...,   8.649901 ,\n",
       "          14.823509 ,  -5.2518506],\n",
       "        [-26.25881  ,  17.496595 , -12.2362585, ...,  32.584736 ,\n",
       "         -22.31751  , -35.142323 ],\n",
       "        [-18.746872 ,  -3.9650993,  18.847351 , ...,  23.831245 ,\n",
       "         -14.920033 , -63.79546  ],\n",
       "        ...,\n",
       "        [-20.110315 ,  19.776608 ,  31.955381 , ...,  -2.3544345,\n",
       "          32.080326 , -33.095036 ],\n",
       "        [-12.900071 ,  -1.3712246,  23.011066 , ...,  10.9401655,\n",
       "          10.331157 , -16.546339 ],\n",
       "        [-25.478167 , -17.683722 ,   8.659624 , ...,  20.951145 ,\n",
       "          12.718565 , -32.466984 ]], dtype=float32),\n",
       " 'Pralsetinib': array([[ -8.382136 ,  18.163902 ,  -7.891055 , ...,   9.480374 ,\n",
       "          12.477079 ,  -4.988622 ],\n",
       "        [-26.55436  ,  17.41209  , -12.255147 , ...,  33.136757 ,\n",
       "         -23.755157 , -34.909584 ],\n",
       "        [-19.333189 ,  -4.2241716,  18.288328 , ...,  25.585163 ,\n",
       "         -16.611662 , -64.41498  ],\n",
       "        ...,\n",
       "        [-21.008034 ,  19.885574 ,  31.361174 , ...,  -1.6633545,\n",
       "          29.17314  , -31.971682 ],\n",
       "        [-14.299497 ,  -0.8625465,  22.327213 , ...,  11.642371 ,\n",
       "           9.25454  , -15.507343 ],\n",
       "        [-25.653803 , -19.708025 ,   5.1193814, ...,  23.122484 ,\n",
       "          14.426508 , -34.340424 ]], dtype=float32),\n",
       " 'LY-2584702 (tosylate salt)': array([[ -7.351162 ,  17.88756  ,  -6.805836 , ...,   8.594151 ,\n",
       "          14.960175 ,  -5.499295 ],\n",
       "        [-26.099586 ,  17.566284 , -11.995931 , ...,  32.526375 ,\n",
       "         -22.538885 , -35.58473  ],\n",
       "        [-18.67311  ,  -3.963337 ,  19.186998 , ...,  23.838888 ,\n",
       "         -14.5200615, -64.202484 ],\n",
       "        ...,\n",
       "        [-20.244862 ,  19.69976  ,  32.585926 , ...,  -2.4376304,\n",
       "          32.291023 , -33.387184 ],\n",
       "        [-12.745371 ,  -1.6705885,  23.578888 , ...,  10.797651 ,\n",
       "          10.535031 , -16.963335 ],\n",
       "        [-25.157545 , -18.688772 ,   7.779968 , ...,  21.71761  ,\n",
       "          13.9705   , -33.258373 ]], dtype=float32),\n",
       " 'Sonidegib': array([[ -8.303306 ,  18.114498 ,  -7.528934 , ...,   8.920987 ,\n",
       "          13.581736 ,  -3.6044896],\n",
       "        [-26.126547 ,  17.508505 , -12.664105 , ...,  32.47508  ,\n",
       "         -23.71013  , -35.024025 ],\n",
       "        [-18.916664 ,  -4.093433 ,  17.398651 , ...,  23.469728 ,\n",
       "         -16.664799 , -62.419075 ],\n",
       "        ...,\n",
       "        [-20.375576 ,  19.105429 ,  31.076227 , ...,  -2.3086863,\n",
       "          31.12795  , -31.815872 ],\n",
       "        [-12.9859085,  -1.2826291,  22.285522 , ...,  11.514124 ,\n",
       "           9.269976 , -15.8064   ],\n",
       "        [-25.583958 , -19.011635 ,   6.7640944, ...,  21.94717  ,\n",
       "          13.379473 , -33.072605 ]], dtype=float32),\n",
       " 'Irinotecan': array([[ -8.113502 ,  18.443415 ,  -7.5321703, ...,   9.212259 ,\n",
       "          12.97319  ,  -5.9735346],\n",
       "        [-26.632631 ,  17.901045 , -10.58259  , ...,  32.95779  ,\n",
       "         -23.149984 , -35.677616 ],\n",
       "        [-19.592655 ,  -4.048777 ,  19.544329 , ...,  26.469599 ,\n",
       "         -15.528689 , -65.64642  ],\n",
       "        ...,\n",
       "        [-21.665247 ,  20.731667 ,  31.819942 , ...,  -1.9291714,\n",
       "          28.586626 , -32.93426  ],\n",
       "        [-14.967366 ,  -0.6667413,  22.590149 , ...,  11.50879  ,\n",
       "          10.011756 , -15.234025 ],\n",
       "        [-24.886665 , -22.586939 ,   1.4534723, ...,  24.890617 ,\n",
       "          17.76906  , -36.77137  ]], dtype=float32),\n",
       " 'ctrl': array([[ -7.437623 ,  18.089651 ,  -6.845439 , ...,   9.145506 ,\n",
       "          13.43928  ,  -6.1926985],\n",
       "        [-26.083235 ,  17.780792 , -11.579432 , ...,  32.923805 ,\n",
       "         -23.55157  , -36.197964 ],\n",
       "        [-19.062998 ,  -3.9831612,  20.076008 , ...,  25.667875 ,\n",
       "         -15.30581  , -65.9415   ],\n",
       "        ...,\n",
       "        [-21.18512  ,  20.273335 ,  32.718983 , ...,  -1.9756099,\n",
       "          30.331318 , -33.76842  ],\n",
       "        [-13.897359 ,  -1.0843406,  23.462017 , ...,  11.3744755,\n",
       "          10.369312 , -16.076258 ],\n",
       "        [-24.725698 , -20.561506 ,   5.2866063, ...,  23.503113 ,\n",
       "          15.517186 , -35.07082  ]], dtype=float32)}"
      ]
     },
     "execution_count": 45,
     "metadata": {},
     "output_type": "execute_result"
    }
   ],
   "source": [
    "dict_sum_condition"
   ]
  },
  {
   "cell_type": "code",
   "execution_count": null,
   "metadata": {},
   "outputs": [],
   "source": [
    "dict_sum_condition_mean = {}\n",
    "groups = adata_t.obs.groupby('condition').groups\n",
    "for i in groups.keys():\n",
    "    dict_sum_condition_mean[i] = dict_sum_condition[i]/len(groups[i])"
   ]
  },
  {
   "cell_type": "code",
   "execution_count": null,
   "metadata": {},
   "outputs": [],
   "source": [
    "dict_sum_target_gene_mean = {drug_target_map[drug] : dict_sum_condition_mean[drug] for drug in dict_sum_condition_mean.keys()}\n",
    "gene_vocab_idx = all_gene_ids[0].clone().detach().cpu().numpy()\n",
    "perturb_targets = list(dict_sum_target_gene_mean.keys())\n",
    "perturb_targets.remove('ctrl')\n",
    "assert 'ctrl' not in perturb_targets\n",
    "rank_list = []\n",
    "\n",
    "for t in perturb_targets:\n",
    "    celltype_0 = t\n",
    "    celltype_1 = 'ctrl'\n",
    "    gene_emb_celltype_0 = np.expand_dims(dict_sum_target_gene_mean[celltype_0][1:, :], 0)\n",
    "    gene_emb_celltype_1 = np.expand_dims(dict_sum_target_gene_mean[celltype_1][1:, :], 0)\n",
    "    gene_dist_dict = {}\n",
    "    for i, g in tqdm(enumerate(genes)):\n",
    "        gene_dist_dict[g] = cosine_distances(gene_emb_celltype_0[:, i, :], gene_emb_celltype_1[:, i, :]).mean()\n",
    "    df_gene_emb_dist = pd.DataFrame.from_dict(gene_dist_dict, orient='index', columns=['cos_dist'])\n",
    "    df_deg = df_gene_emb_dist.sort_values(by='cos_dist', ascending=False)\n",
    "    print(t, np.where(df_deg.index==t)[0][0])\n",
    "    rank_list.append(np.where(df_deg.index==t)[0][0])"
   ]
  },
  {
   "cell_type": "code",
   "execution_count": null,
   "metadata": {},
   "outputs": [],
   "source": [
    "def is_one_to_one_mapping(d):\n",
    "    \"\"\"\n",
    "    Checks if a dictionary represents a one-to-one mapping.\n",
    "    Returns True if it is, otherwise returns False and a dictionary\n",
    "    of colliding values with their associated keys.\n",
    "    \"\"\"\n",
    "    value_to_keys = {}\n",
    "    collisions = {}\n",
    "    \n",
    "    for key, value in d.items():\n",
    "        if value in value_to_keys:\n",
    "            value_to_keys[value].append(key)\n",
    "            collisions[value] = value_to_keys[value]\n",
    "        else:\n",
    "            value_to_keys[value] = [key]\n",
    "    \n",
    "    if collisions:\n",
    "        return False, collisions\n",
    "    return True, None"
   ]
  },
  {
   "cell_type": "code",
   "execution_count": null,
   "metadata": {},
   "outputs": [
    {
     "data": {
      "text/plain": [
       "(False,\n",
       " {'PSMB5': ['Bortezomib', 'Ixazomib'],\n",
       "  'PRKAA1': ['EX229', 'MK-3903'],\n",
       "  'MTOR': ['AZD-8055', 'Sapanisertib']})"
      ]
     },
     "execution_count": 50,
     "metadata": {},
     "output_type": "execute_result"
    }
   ],
   "source": [
    "is_one_to_one_mapping(drug_target_map)"
   ]
  },
  {
   "cell_type": "markdown",
   "metadata": {},
   "source": [
    "## Save Results & Analysis"
   ]
  },
  {
   "cell_type": "code",
   "execution_count": null,
   "metadata": {},
   "outputs": [
    {
     "data": {
      "text/plain": [
       "rec.array([('TIPARP', 'SF3B2', 'RPS19', 'NPM1', 'RPS8', 'CRIM1', 'MET', 'FTL', 'MTATP6P1', 'MT-RNR2', 'RPS19', 'TFPI2', 'FTH1', 'PLEC', 'EEF1G', 'RPS19', 'MT-ATP6', 'RPL37A', 'MYO1B', 'RPL37A', 'RPS19', 'RPL19', 'CRIM1', 'RPL37A', 'RPS19', 'RACK1', 'RPS19', 'TIPARP', 'RPS19', 'MT-ATP8', 'TALAM1'),\n",
       "           ('RACK1', 'HNRNPH1', 'MT-ATP8', 'PRRC2C', 'EEF2', 'LINC-PINT', 'TFPI', 'RPL37A', 'RPS3', 'RPL4', 'RPS12', 'EFR3A', 'PDCD5', 'MYH9', 'MT-ND4', 'RPS3', 'RPL18', 'RPLP2', 'DGKD', 'RPS8', 'RPS3', 'RPL12', 'PLOD2', 'RPL26', 'MT-ATP8', 'NPM1', 'MT2A', 'TALAM1', 'RPS8', 'RPS19', 'ARHGAP26'),\n",
       "           ('ACTG1', 'KRT18', 'MT2A', 'PPP2R5E', 'PRRC2C', 'SHB', 'LINC-PINT', 'RACK1', 'HNRNPH1', 'CLU', 'RPL37A', 'MT-ATP8', 'CRIM1', 'PABPC1', 'MBNL2', 'MT-ND4', 'EEF2', 'RPS19', 'MBNL2', 'RPLP2', 'TMSB10', 'RPS19', 'FAM107B', 'RPS3', 'RPS3', 'EIF4A1', 'MT-ATP8', 'TPI1', 'RPL11', 'RPS3', 'PSD3'),\n",
       "           ...,\n",
       "           ('PDE4D', 'AADACP1', 'EFNA5', 'MT-RNR2', 'MCL1', 'NCOR2', 'PFN1', 'TAOK1', 'PDE4D', 'TALAM1', 'MALAT1', 'MIR31HG', 'NCOR2', 'MBD5', 'EFNA5', 'NPEPPS', 'TAOK1', 'MALAT1', 'NPEPPS', 'TNS3', 'PDE4D', 'PTPRM', 'MT-RNR1', 'PDE4D', 'PDE4D', 'MT-RNR2', 'PTPRM', 'EOLA2-DT', 'MALAT1', 'MALAT1', 'NEPRO'),\n",
       "           ('BACH1', 'THSD4', 'MT-RNR2', 'MT-ND1', 'AADACP1', '7SK', 'AKR1B1', 'NCOR2', 'MT-RNR2', 'NDRG1', 'MT-RNR2', 'MT-RNR1', 'EFNA5', 'AADACP1', 'PDE4D', 'AADACP1', 'MT-RNR2', 'MT-RNR1', 'H1-0', 'PTPRM', 'MT-RNR2', 'MT-RNR2', 'KMT2E', 'MT-RNR2', 'MT-RNR2', 'MT-CO1', 'MT-RNR2', 'GPC6', 'MT-RNR2', 'MT-RNR1', 'LASP1'),\n",
       "           ('MT-RNR1', 'MT-RNR1', 'MT-RNR1', 'MT-RNR1', 'MT-RNR1', 'HMGA1', 'MT-RNR1', 'PLSCR1', 'MT-RNR1', 'RPS6', 'MT-RNR1', 'MT-RNR2', 'AADACP1', 'TALAM1', 'MT-RNR1', 'VCL', 'MT-RNR1', 'MT-RNR2', 'AADACP1', 'MT-RNR1', 'MT-RNR1', 'MT-RNR1', 'MT-ND1', 'MT-RNR1', 'MT-RNR1', 'MT-RNR1', 'MT-RNR1', 'AADACP1', 'MT-RNR1', 'MT-RNR2', '7SK')],\n",
       "          dtype=[('ATM', 'O'), ('ATR', 'O'), ('AURKB', 'O'), ('BCL2', 'O'), ('BRAF', 'O'), ('CYP19A1', 'O'), ('EIF4E', 'O'), ('EPAS1', 'O'), ('EPHB4', 'O'), ('ERBB2', 'O'), ('GSK3B', 'O'), ('KLF5', 'O'), ('KRAS', 'O'), ('MAP2K1', 'O'), ('MAP3K8', 'O'), ('MAP4K4', 'O'), ('MAPK7', 'O'), ('MAPK14', 'O'), ('MET', 'O'), ('MTOR', 'O'), ('NR3C1', 'O'), ('PBK', 'O'), ('PIK3CA', 'O'), ('PRKAA1', 'O'), ('PRKDC', 'O'), ('PSMB5', 'O'), ('PTGS2', 'O'), ('RET', 'O'), ('RPS6KB1', 'O'), ('SMO', 'O'), ('TOP1', 'O')])"
      ]
     },
     "execution_count": 63,
     "metadata": {},
     "output_type": "execute_result"
    }
   ],
   "source": [
    "adata.uns['wilcoxon']['names']"
   ]
  },
  {
   "cell_type": "code",
   "execution_count": null,
   "metadata": {},
   "outputs": [
    {
     "data": {
      "text/plain": [
       "['EIF4E',\n",
       " 'GSK3B',\n",
       " 'ATM',\n",
       " 'PRKDC',\n",
       " 'MTOR',\n",
       " 'PIK3CA',\n",
       " 'CYP19A1',\n",
       " 'EPAS1',\n",
       " 'PSMB5',\n",
       " 'MET',\n",
       " 'PTGS2',\n",
       " 'MAPK7',\n",
       " 'PRKAA1',\n",
       " 'ATR',\n",
       " 'PBK',\n",
       " 'TOP1',\n",
       " 'RPS6KB1',\n",
       " 'KLF5',\n",
       " 'NR3C1',\n",
       " 'EPHB4',\n",
       " 'MAP3K8',\n",
       " 'MAP4K4',\n",
       " 'MAPK14',\n",
       " 'RET',\n",
       " 'KRAS',\n",
       " 'SMO',\n",
       " 'MAP2K1',\n",
       " 'AURKB',\n",
       " 'ERBB2',\n",
       " 'BRAF',\n",
       " 'BCL2']"
      ]
     },
     "execution_count": 64,
     "metadata": {},
     "output_type": "execute_result"
    }
   ],
   "source": [
    "perturb_targets"
   ]
  },
  {
   "cell_type": "code",
   "execution_count": null,
   "metadata": {},
   "outputs": [
    {
     "name": "stdout",
     "output_type": "stream",
     "text": [
      "EIF4E 30340\n",
      "GSK3B 214\n",
      "ATM 13787\n",
      "PRKDC 13057\n",
      "MTOR 26540\n",
      "PIK3CA 26058\n",
      "CYP19A1 33527\n",
      "EPAS1 29464\n",
      "PSMB5 27511\n",
      "MET 28530\n",
      "PTGS2 182\n",
      "MAPK7 19449\n",
      "PRKAA1 11610\n",
      "ATR 18390\n",
      "PBK 26045\n",
      "TOP1 28154\n",
      "RPS6KB1 27795\n",
      "KLF5 13737\n",
      "NR3C1 13462\n",
      "EPHB4 12028\n",
      "MAP3K8 18611\n",
      "MAP4K4 13821\n",
      "MAPK14 28524\n",
      "RET 35699\n",
      "KRAS 27906\n",
      "SMO 12779\n",
      "MAP2K1 27464\n",
      "AURKB 30528\n",
      "ERBB2 19029\n",
      "BRAF 31170\n",
      "BCL2 32362\n"
     ]
    }
   ],
   "source": [
    "# rerun wilcoxon rank for gene targets instead\n",
    "\n",
    "baseline_rank_t = []\n",
    "\n",
    "for t in perturb_targets:\n",
    "    # print(c)\n",
    "    hvg_list = adata.uns['wilcoxon']['names'][t]\n",
    "    p_val = adata.uns['wilcoxon']['pvals_adj'][t]\n",
    "    df_gene_emb_dist = pd.DataFrame()\n",
    "    df_gene_emb_dist['gene'] = hvg_list\n",
    "    df_gene_emb_dist['p_val'] = p_val\n",
    "    df_gene_emb_dist = df_gene_emb_dist.sort_values(by='p_val')\n",
    "    print(t, np.where(df_gene_emb_dist.gene.values==t)[0][0])\n",
    "    baseline_rank_t.append(np.where(df_gene_emb_dist.gene.values==t)[0][0])"
   ]
  },
  {
   "cell_type": "code",
   "execution_count": null,
   "metadata": {},
   "outputs": [
    {
     "data": {
      "text/plain": [
       "[30340,\n",
       " 214,\n",
       " 13787,\n",
       " 13057,\n",
       " 26540,\n",
       " 26058,\n",
       " 33527,\n",
       " 29464,\n",
       " 27511,\n",
       " 28530,\n",
       " 182,\n",
       " 19449,\n",
       " 11610,\n",
       " 18390,\n",
       " 26045,\n",
       " 28154,\n",
       " 27795,\n",
       " 13737,\n",
       " 13462,\n",
       " 12028,\n",
       " 18611,\n",
       " 13821,\n",
       " 28524,\n",
       " 35699,\n",
       " 27906,\n",
       " 12779,\n",
       " 27464,\n",
       " 30528,\n",
       " 19029,\n",
       " 31170,\n",
       " 32362]"
      ]
     },
     "execution_count": 66,
     "metadata": {},
     "output_type": "execute_result"
    }
   ],
   "source": [
    "baseline_rank_t"
   ]
  },
  {
   "cell_type": "code",
   "execution_count": null,
   "metadata": {},
   "outputs": [
    {
     "data": {
      "text/plain": [
       "['EIF4E',\n",
       " 'GSK3B',\n",
       " 'ATM',\n",
       " 'PRKDC',\n",
       " 'MTOR',\n",
       " 'PIK3CA',\n",
       " 'CYP19A1',\n",
       " 'EPAS1',\n",
       " 'PSMB5',\n",
       " 'MET',\n",
       " 'PTGS2',\n",
       " 'MAPK7',\n",
       " 'PRKAA1',\n",
       " 'ATR',\n",
       " 'PBK',\n",
       " 'TOP1',\n",
       " 'RPS6KB1',\n",
       " 'KLF5',\n",
       " 'NR3C1',\n",
       " 'EPHB4',\n",
       " 'MAP3K8',\n",
       " 'MAP4K4',\n",
       " 'MAPK14',\n",
       " 'RET',\n",
       " 'KRAS',\n",
       " 'SMO',\n",
       " 'MAP2K1',\n",
       " 'AURKB',\n",
       " 'ERBB2',\n",
       " 'BRAF',\n",
       " 'BCL2']"
      ]
     },
     "execution_count": 67,
     "metadata": {},
     "output_type": "execute_result"
    }
   ],
   "source": [
    "perturb_targets"
   ]
  },
  {
   "cell_type": "code",
   "execution_count": null,
   "metadata": {},
   "outputs": [
    {
     "data": {
      "text/plain": [
       "31"
      ]
     },
     "execution_count": 68,
     "metadata": {},
     "output_type": "execute_result"
    }
   ],
   "source": [
    "len(perturb_targets)"
   ]
  },
  {
   "cell_type": "code",
   "execution_count": null,
   "metadata": {},
   "outputs": [
    {
     "data": {
      "text/plain": [
       "31"
      ]
     },
     "execution_count": 69,
     "metadata": {},
     "output_type": "execute_result"
    }
   ],
   "source": [
    "len(baseline_rank_t)"
   ]
  },
  {
   "cell_type": "code",
   "execution_count": null,
   "metadata": {},
   "outputs": [
    {
     "data": {
      "text/plain": [
       "31"
      ]
     },
     "execution_count": 70,
     "metadata": {},
     "output_type": "execute_result"
    }
   ],
   "source": [
    "len(rank_list)"
   ]
  },
  {
   "cell_type": "code",
   "execution_count": null,
   "metadata": {},
   "outputs": [],
   "source": [
    "df_results = df = pd.DataFrame({\n",
    "    'conditions': perturb_targets,\n",
    "    'wilcoxon': baseline_rank_t,\n",
    "    'scGPT_rank': rank_list\n",
    "})"
   ]
  },
  {
   "cell_type": "code",
   "execution_count": null,
   "metadata": {},
   "outputs": [
    {
     "data": {
      "text/html": [
       "<div>\n",
       "<style scoped>\n",
       "    .dataframe tbody tr th:only-of-type {\n",
       "        vertical-align: middle;\n",
       "    }\n",
       "\n",
       "    .dataframe tbody tr th {\n",
       "        vertical-align: top;\n",
       "    }\n",
       "\n",
       "    .dataframe thead th {\n",
       "        text-align: right;\n",
       "    }\n",
       "</style>\n",
       "<table border=\"1\" class=\"dataframe\">\n",
       "  <thead>\n",
       "    <tr style=\"text-align: right;\">\n",
       "      <th></th>\n",
       "      <th>conditions</th>\n",
       "      <th>wilcoxon</th>\n",
       "      <th>scGPT_rank</th>\n",
       "    </tr>\n",
       "  </thead>\n",
       "  <tbody>\n",
       "    <tr>\n",
       "      <th>0</th>\n",
       "      <td>EIF4E</td>\n",
       "      <td>30340</td>\n",
       "      <td>17175</td>\n",
       "    </tr>\n",
       "    <tr>\n",
       "      <th>1</th>\n",
       "      <td>GSK3B</td>\n",
       "      <td>214</td>\n",
       "      <td>311</td>\n",
       "    </tr>\n",
       "    <tr>\n",
       "      <th>2</th>\n",
       "      <td>ATM</td>\n",
       "      <td>13787</td>\n",
       "      <td>462</td>\n",
       "    </tr>\n",
       "    <tr>\n",
       "      <th>3</th>\n",
       "      <td>PRKDC</td>\n",
       "      <td>13057</td>\n",
       "      <td>18819</td>\n",
       "    </tr>\n",
       "    <tr>\n",
       "      <th>4</th>\n",
       "      <td>MTOR</td>\n",
       "      <td>26540</td>\n",
       "      <td>1189</td>\n",
       "    </tr>\n",
       "    <tr>\n",
       "      <th>5</th>\n",
       "      <td>PIK3CA</td>\n",
       "      <td>26058</td>\n",
       "      <td>4624</td>\n",
       "    </tr>\n",
       "    <tr>\n",
       "      <th>6</th>\n",
       "      <td>CYP19A1</td>\n",
       "      <td>33527</td>\n",
       "      <td>3903</td>\n",
       "    </tr>\n",
       "    <tr>\n",
       "      <th>7</th>\n",
       "      <td>EPAS1</td>\n",
       "      <td>29464</td>\n",
       "      <td>2785</td>\n",
       "    </tr>\n",
       "    <tr>\n",
       "      <th>8</th>\n",
       "      <td>PSMB5</td>\n",
       "      <td>27511</td>\n",
       "      <td>26759</td>\n",
       "    </tr>\n",
       "    <tr>\n",
       "      <th>9</th>\n",
       "      <td>MET</td>\n",
       "      <td>28530</td>\n",
       "      <td>864</td>\n",
       "    </tr>\n",
       "    <tr>\n",
       "      <th>10</th>\n",
       "      <td>PTGS2</td>\n",
       "      <td>182</td>\n",
       "      <td>250</td>\n",
       "    </tr>\n",
       "    <tr>\n",
       "      <th>11</th>\n",
       "      <td>MAPK7</td>\n",
       "      <td>19449</td>\n",
       "      <td>26219</td>\n",
       "    </tr>\n",
       "    <tr>\n",
       "      <th>12</th>\n",
       "      <td>PRKAA1</td>\n",
       "      <td>11610</td>\n",
       "      <td>3274</td>\n",
       "    </tr>\n",
       "    <tr>\n",
       "      <th>13</th>\n",
       "      <td>ATR</td>\n",
       "      <td>18390</td>\n",
       "      <td>15737</td>\n",
       "    </tr>\n",
       "    <tr>\n",
       "      <th>14</th>\n",
       "      <td>PBK</td>\n",
       "      <td>26045</td>\n",
       "      <td>16808</td>\n",
       "    </tr>\n",
       "    <tr>\n",
       "      <th>15</th>\n",
       "      <td>TOP1</td>\n",
       "      <td>28154</td>\n",
       "      <td>12774</td>\n",
       "    </tr>\n",
       "    <tr>\n",
       "      <th>16</th>\n",
       "      <td>RPS6KB1</td>\n",
       "      <td>27795</td>\n",
       "      <td>1859</td>\n",
       "    </tr>\n",
       "    <tr>\n",
       "      <th>17</th>\n",
       "      <td>KLF5</td>\n",
       "      <td>13737</td>\n",
       "      <td>618</td>\n",
       "    </tr>\n",
       "    <tr>\n",
       "      <th>18</th>\n",
       "      <td>NR3C1</td>\n",
       "      <td>13462</td>\n",
       "      <td>2132</td>\n",
       "    </tr>\n",
       "    <tr>\n",
       "      <th>19</th>\n",
       "      <td>EPHB4</td>\n",
       "      <td>12028</td>\n",
       "      <td>5071</td>\n",
       "    </tr>\n",
       "    <tr>\n",
       "      <th>20</th>\n",
       "      <td>MAP3K8</td>\n",
       "      <td>18611</td>\n",
       "      <td>10307</td>\n",
       "    </tr>\n",
       "    <tr>\n",
       "      <th>21</th>\n",
       "      <td>MAP4K4</td>\n",
       "      <td>13821</td>\n",
       "      <td>51</td>\n",
       "    </tr>\n",
       "    <tr>\n",
       "      <th>22</th>\n",
       "      <td>MAPK14</td>\n",
       "      <td>28524</td>\n",
       "      <td>10040</td>\n",
       "    </tr>\n",
       "    <tr>\n",
       "      <th>23</th>\n",
       "      <td>RET</td>\n",
       "      <td>35699</td>\n",
       "      <td>15454</td>\n",
       "    </tr>\n",
       "    <tr>\n",
       "      <th>24</th>\n",
       "      <td>KRAS</td>\n",
       "      <td>27906</td>\n",
       "      <td>408</td>\n",
       "    </tr>\n",
       "    <tr>\n",
       "      <th>25</th>\n",
       "      <td>SMO</td>\n",
       "      <td>12779</td>\n",
       "      <td>5758</td>\n",
       "    </tr>\n",
       "    <tr>\n",
       "      <th>26</th>\n",
       "      <td>MAP2K1</td>\n",
       "      <td>27464</td>\n",
       "      <td>597</td>\n",
       "    </tr>\n",
       "    <tr>\n",
       "      <th>27</th>\n",
       "      <td>AURKB</td>\n",
       "      <td>30528</td>\n",
       "      <td>22010</td>\n",
       "    </tr>\n",
       "    <tr>\n",
       "      <th>28</th>\n",
       "      <td>ERBB2</td>\n",
       "      <td>19029</td>\n",
       "      <td>5781</td>\n",
       "    </tr>\n",
       "    <tr>\n",
       "      <th>29</th>\n",
       "      <td>BRAF</td>\n",
       "      <td>31170</td>\n",
       "      <td>13755</td>\n",
       "    </tr>\n",
       "    <tr>\n",
       "      <th>30</th>\n",
       "      <td>BCL2</td>\n",
       "      <td>32362</td>\n",
       "      <td>12399</td>\n",
       "    </tr>\n",
       "  </tbody>\n",
       "</table>\n",
       "</div>"
      ],
      "text/plain": [
       "   conditions  wilcoxon  scGPT_rank\n",
       "0       EIF4E     30340       17175\n",
       "1       GSK3B       214         311\n",
       "2         ATM     13787         462\n",
       "3       PRKDC     13057       18819\n",
       "4        MTOR     26540        1189\n",
       "5      PIK3CA     26058        4624\n",
       "6     CYP19A1     33527        3903\n",
       "7       EPAS1     29464        2785\n",
       "8       PSMB5     27511       26759\n",
       "9         MET     28530         864\n",
       "10      PTGS2       182         250\n",
       "11      MAPK7     19449       26219\n",
       "12     PRKAA1     11610        3274\n",
       "13        ATR     18390       15737\n",
       "14        PBK     26045       16808\n",
       "15       TOP1     28154       12774\n",
       "16    RPS6KB1     27795        1859\n",
       "17       KLF5     13737         618\n",
       "18      NR3C1     13462        2132\n",
       "19      EPHB4     12028        5071\n",
       "20     MAP3K8     18611       10307\n",
       "21     MAP4K4     13821          51\n",
       "22     MAPK14     28524       10040\n",
       "23        RET     35699       15454\n",
       "24       KRAS     27906         408\n",
       "25        SMO     12779        5758\n",
       "26     MAP2K1     27464         597\n",
       "27      AURKB     30528       22010\n",
       "28      ERBB2     19029        5781\n",
       "29       BRAF     31170       13755\n",
       "30       BCL2     32362       12399"
      ]
     },
     "execution_count": 72,
     "metadata": {},
     "output_type": "execute_result"
    }
   ],
   "source": [
    "df_results"
   ]
  },
  {
   "cell_type": "code",
   "execution_count": null,
   "metadata": {},
   "outputs": [
    {
     "data": {
      "text/plain": [
       "wilcoxon      21863.645161\n",
       "scGPT_rank     8328.806452\n",
       "dtype: float64"
      ]
     },
     "execution_count": 73,
     "metadata": {},
     "output_type": "execute_result"
    }
   ],
   "source": [
    "df_results.mean()"
   ]
  },
  {
   "cell_type": "code",
   "execution_count": null,
   "metadata": {},
   "outputs": [],
   "source": [
    "df_results.to_csv('/scratch/ssd004/scratch/ahz/perturb/vevo_tahoe_ranks_Mar13.csv')"
   ]
  },
  {
   "cell_type": "code",
   "execution_count": null,
   "metadata": {},
   "outputs": [
    {
     "data": {
      "text/plain": [
       "<matplotlib.legend.Legend at 0x7f0289117f70>"
      ]
     },
     "execution_count": 75,
     "metadata": {},
     "output_type": "execute_result"
    },
    {
     "data": {
      "image/png": "[encoded data removed]",
      "text/plain": [
       "<Figure size 800x800 with 1 Axes>"
      ]
     },
     "metadata": {
      "image/png": {
       "height": 780,
       "width": 782
      },
      "needs_background": "light"
     },
     "output_type": "display_data"
    }
   ],
   "source": [
    "import seaborn as sns\n",
    "plt.figure(figsize=(10, 10))\n",
    "sns.boxplot(data=df_results)\n",
    "\n",
    "# Add titles and labels\n",
    "plt.title('Comparison of Methods Across Conditions')\n",
    "plt.xlabel('Method')\n",
    "plt.ylabel('Rank')\n",
    "plt.xticks(rotation=-45)\n",
    "# plt.yscale('log')\n",
    "# Display the plot\n",
    "plt.tight_layout()\n",
    "\n",
    "plt.legend([],[], frameon=False)"
   ]
  },
  {
   "cell_type": "code",
   "execution_count": null,
   "metadata": {},
   "outputs": [
    {
     "data": {
      "text/plain": [
       "<AxesSubplot:xlabel='wilcoxon', ylabel='scGPT_rank'>"
      ]
     },
     "execution_count": 76,
     "metadata": {},
     "output_type": "execute_result"
    },
    {
     "data": {
      "image/png": "[encoded data removed]",
      "text/plain": [
       "<Figure size 320x320 with 1 Axes>"
      ]
     },
     "metadata": {
      "image/png": {
       "height": 306,
       "width": 348
      },
      "needs_background": "light"
     },
     "output_type": "display_data"
    }
   ],
   "source": [
    "sns.scatterplot(data=df_results, x=\"wilcoxon\", y=\"scGPT_rank\")"
   ]
  },
  {
   "cell_type": "code",
   "execution_count": null,
   "metadata": {},
   "outputs": [
    {
     "name": "stdout",
     "output_type": "stream",
     "text": [
      "Pearson Correlation: 0.3373957721744743, p-value: 0.06342606451828253\n"
     ]
    }
   ],
   "source": [
    "from scipy.stats import pearsonr\n",
    "corr, p_value = pearsonr(df_results['wilcoxon'], df_results['scGPT_rank'])\n",
    "\n",
    "print(f'Pearson Correlation: {corr}, p-value: {p_value}')"
   ]
  }
 ],
 "metadata": {
  "kernelspec": {
   "display_name": "Python 3 (ipykernel)",
   "language": "python",
   "name": "python3"
  },
  "language_info": {
   "codemirror_mode": {
    "name": "ipython",
    "version": 3
   },
   "file_extension": ".py",
   "mimetype": "text/x-python",
   "name": "python",
   "nbconvert_exporter": "python",
   "pygments_lexer": "ipython3",
   "version": "3.9.10"
  },
  "orig_nbformat": 4
 },
 "nbformat": 4,
 "nbformat_minor": 2
}

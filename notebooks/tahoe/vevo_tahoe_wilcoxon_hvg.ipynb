{
 "cells": [
  {
   "cell_type": "code",
   "execution_count": 1,
   "metadata": {},
   "outputs": [],
   "source": [
    "import copy\n",
    "import gc\n",
    "import json\n",
    "import os\n",
    "from pathlib import Path\n",
    "import sys\n",
    "import time\n",
    "import traceback\n",
    "from typing import List, Tuple, Dict, Union, Optional\n",
    "import warnings\n",
    "\n",
    "import torch\n",
    "from anndata import AnnData\n",
    "import scanpy as sc\n",
    "#import scvi\n",
    "import numpy as np\n",
    "import pandas as pd\n",
    "import wandb\n",
    "from scipy.sparse import issparse\n",
    "import matplotlib.pyplot as plt\n",
    "from pathlib import Path\n"
   ]
  },
  {
   "cell_type": "code",
   "execution_count": 2,
   "metadata": {},
   "outputs": [
    {
     "name": "stderr",
     "output_type": "stream",
     "text": [
      "/fs01/home/ahz/poetry_env/lib/python3.9/site-packages/anndata/__init__.py:55: FutureWarning: `anndata.read` is deprecated, use `anndata.read_h5ad` instead. `ad.read` will be removed in mid 2024.\n",
      "  warnings.warn(\n"
     ]
    }
   ],
   "source": [
    "data_dir = Path(\"/datasets/Tahoe-100M/Tahoe/vevo_filter/plate2_demo_final.h5ad\")\n",
    "adata = sc.read(data_dir)"
   ]
  },
  {
   "cell_type": "code",
   "execution_count": 3,
   "metadata": {},
   "outputs": [
    {
     "data": {
      "text/plain": [
       "AnnData object with n_obs × n_vars = 83476 × 62710\n",
       "    obs: 'sample', 'species', 'gene_count', 'tscp_count', 'mread_count', 'bc1_wind', 'bc2_wind', 'bc3_wind', 'bc1_well', 'bc2_well', 'bc3_well', 'id', 'drugname_drugconc', 'drug', 'INT_ID', 'NUM.SNPS', 'NUM.READS', 'demuxlet_call', 'BEST.GUESS', 'BEST.LLK', 'NEXT.GUESS', 'NEXT.LLK', 'DIFF.LLK.BEST.NEXT', 'BEST.POSTERIOR', 'SNG.POSTERIOR', 'cell_line', 'SNG.BEST.LLK', 'SNG.NEXT.GUESS', 'SNG.NEXT.LLK', 'SNG.ONLY.POSTERIOR', 'DBL.BEST.GUESS', 'DBL.BEST.LLK', 'DIFF.LLK.SNG.DBL', 'sublibrary', 'BARCODE', 'pcnt_mito', 'S_score', 'G2M_score', 'phase', 'cell_line_orig', 'pass_filter', 'cell_name', 'condition', 'dosage'"
      ]
     },
     "execution_count": 3,
     "metadata": {},
     "output_type": "execute_result"
    }
   ],
   "source": [
    "adata"
   ]
  },
  {
   "cell_type": "code",
   "execution_count": 4,
   "metadata": {},
   "outputs": [],
   "source": [
    "data_is_raw = True\n",
    "n_hvg = 1200\n",
    "sc.pp.highly_variable_genes(\n",
    "    adata,\n",
    "    layer=None,\n",
    "    n_top_genes=1200,\n",
    "    flavor=\"seurat_v3\" if data_is_raw else \"cell_ranger\",\n",
    "    subset=False,\n",
    ")"
   ]
  },
  {
   "cell_type": "code",
   "execution_count": 5,
   "metadata": {},
   "outputs": [],
   "source": [
    "drug_df = pd.read_csv(\"/datasets/Tahoe-100M/Tahoe/vevo_filter/plate2_demo_final_targets.csv\")\n",
    "drug_target_map = dict(zip(drug_df[\"compound\"], drug_df[\"targets\"]))\n",
    "\n",
    "perturb_conditions = list(drug_target_map.values())\n",
    "condition_names_gene = perturb_conditions\n",
    "\n",
    "drug_target_map[\"ctrl\"] = \"ctrl\""
   ]
  },
  {
   "cell_type": "code",
   "execution_count": 6,
   "metadata": {},
   "outputs": [
    {
     "data": {
      "text/plain": [
       "34"
      ]
     },
     "execution_count": 6,
     "metadata": {},
     "output_type": "execute_result"
    }
   ],
   "source": [
    "len(condition_names_gene)"
   ]
  },
  {
   "cell_type": "code",
   "execution_count": 75,
   "metadata": {},
   "outputs": [
    {
     "data": {
      "text/plain": [
       "['EIF4E',\n",
       " 'GSK3B',\n",
       " 'PIK3CA',\n",
       " 'CYP19A1',\n",
       " 'PRKDC',\n",
       " 'MTOR',\n",
       " 'ATM',\n",
       " 'EPAS1',\n",
       " 'PSMB5',\n",
       " 'MET',\n",
       " 'PTGS2',\n",
       " 'ATR',\n",
       " 'MAPK7',\n",
       " 'PRKAA1',\n",
       " 'PBK',\n",
       " 'TOP1',\n",
       " 'PSMB5',\n",
       " 'RPS6KB1',\n",
       " 'NR3C1',\n",
       " 'PRKAA1',\n",
       " 'KLF5',\n",
       " 'EPHB4',\n",
       " 'MAP3K8',\n",
       " 'MAP4K4',\n",
       " 'MAPK14',\n",
       " 'RET',\n",
       " 'KRAS',\n",
       " 'MTOR',\n",
       " 'SMO',\n",
       " 'MAP2K1',\n",
       " 'AURKB',\n",
       " 'ERBB2',\n",
       " 'BRAF',\n",
       " 'BCL2']"
      ]
     },
     "execution_count": 75,
     "metadata": {},
     "output_type": "execute_result"
    }
   ],
   "source": [
    "condition_names_gene"
   ]
  },
  {
   "cell_type": "code",
   "execution_count": 7,
   "metadata": {},
   "outputs": [],
   "source": [
    "add_counter = 0\n",
    "for g in condition_names_gene:\n",
    "    if not adata.var.loc[adata.var[adata.var.index==g].index, 'highly_variable'].values[0]:\n",
    "        adata.var.loc[adata.var[adata.var.index==g].index, 'highly_variable'] = True\n",
    "        add_counter += 1"
   ]
  },
  {
   "cell_type": "code",
   "execution_count": 8,
   "metadata": {},
   "outputs": [
    {
     "name": "stdout",
     "output_type": "stream",
     "text": [
      "Manually add conditions: 29, 0.8529411764705882\n"
     ]
    }
   ],
   "source": [
    "print('Manually add conditions: {}, {}'.format(add_counter, add_counter/len(condition_names_gene)))"
   ]
  },
  {
   "cell_type": "code",
   "execution_count": 9,
   "metadata": {},
   "outputs": [],
   "source": [
    "adata = adata[:, adata.var[\"highly_variable\"]].copy()\n"
   ]
  },
  {
   "cell_type": "code",
   "execution_count": 10,
   "metadata": {},
   "outputs": [
    {
     "data": {
      "text/plain": [
       "AnnData object with n_obs × n_vars = 83476 × 1229\n",
       "    obs: 'sample', 'species', 'gene_count', 'tscp_count', 'mread_count', 'bc1_wind', 'bc2_wind', 'bc3_wind', 'bc1_well', 'bc2_well', 'bc3_well', 'id', 'drugname_drugconc', 'drug', 'INT_ID', 'NUM.SNPS', 'NUM.READS', 'demuxlet_call', 'BEST.GUESS', 'BEST.LLK', 'NEXT.GUESS', 'NEXT.LLK', 'DIFF.LLK.BEST.NEXT', 'BEST.POSTERIOR', 'SNG.POSTERIOR', 'cell_line', 'SNG.BEST.LLK', 'SNG.NEXT.GUESS', 'SNG.NEXT.LLK', 'SNG.ONLY.POSTERIOR', 'DBL.BEST.GUESS', 'DBL.BEST.LLK', 'DIFF.LLK.SNG.DBL', 'sublibrary', 'BARCODE', 'pcnt_mito', 'S_score', 'G2M_score', 'phase', 'cell_line_orig', 'pass_filter', 'cell_name', 'condition', 'dosage'\n",
       "    var: 'highly_variable', 'highly_variable_rank', 'means', 'variances', 'variances_norm'\n",
       "    uns: 'hvg'"
      ]
     },
     "execution_count": 10,
     "metadata": {},
     "output_type": "execute_result"
    }
   ],
   "source": [
    "adata"
   ]
  },
  {
   "cell_type": "code",
   "execution_count": 11,
   "metadata": {},
   "outputs": [],
   "source": [
    "adata.obs[\"gene_target\"] = adata.obs[\"condition\"].map(drug_target_map)"
   ]
  },
  {
   "cell_type": "code",
   "execution_count": 12,
   "metadata": {},
   "outputs": [
    {
     "data": {
      "text/plain": [
       "BARCODE_SUB_LIB_ID\n",
       "08_003_169-lib_1000    TOP1\n",
       "08_028_044-lib_1000    TOP1\n",
       "08_046_119-lib_1000    TOP1\n",
       "08_050_191-lib_1000    TOP1\n",
       "08_064_086-lib_1000    TOP1\n",
       "                       ... \n",
       "96_133_088-lib_999     ctrl\n",
       "96_144_143-lib_999     ctrl\n",
       "96_146_192-lib_999     ctrl\n",
       "96_172_041-lib_999     ctrl\n",
       "96_173_021-lib_999     ctrl\n",
       "Name: gene_target, Length: 83476, dtype: object"
      ]
     },
     "execution_count": 12,
     "metadata": {},
     "output_type": "execute_result"
    }
   ],
   "source": [
    "adata.obs[\"gene_target\"]"
   ]
  },
  {
   "cell_type": "code",
   "execution_count": 13,
   "metadata": {},
   "outputs": [
    {
     "data": {
      "text/plain": [
       "AnnData object with n_obs × n_vars = 83476 × 1229\n",
       "    obs: 'sample', 'species', 'gene_count', 'tscp_count', 'mread_count', 'bc1_wind', 'bc2_wind', 'bc3_wind', 'bc1_well', 'bc2_well', 'bc3_well', 'id', 'drugname_drugconc', 'drug', 'INT_ID', 'NUM.SNPS', 'NUM.READS', 'demuxlet_call', 'BEST.GUESS', 'BEST.LLK', 'NEXT.GUESS', 'NEXT.LLK', 'DIFF.LLK.BEST.NEXT', 'BEST.POSTERIOR', 'SNG.POSTERIOR', 'cell_line', 'SNG.BEST.LLK', 'SNG.NEXT.GUESS', 'SNG.NEXT.LLK', 'SNG.ONLY.POSTERIOR', 'DBL.BEST.GUESS', 'DBL.BEST.LLK', 'DIFF.LLK.SNG.DBL', 'sublibrary', 'BARCODE', 'pcnt_mito', 'S_score', 'G2M_score', 'phase', 'cell_line_orig', 'pass_filter', 'cell_name', 'condition', 'dosage', 'gene_target'\n",
       "    var: 'highly_variable', 'highly_variable_rank', 'means', 'variances', 'variances_norm'\n",
       "    uns: 'hvg'"
      ]
     },
     "execution_count": 13,
     "metadata": {},
     "output_type": "execute_result"
    }
   ],
   "source": [
    "adata"
   ]
  },
  {
   "cell_type": "code",
   "execution_count": 14,
   "metadata": {},
   "outputs": [],
   "source": [
    "from sklearn.metrics.pairwise import cosine_distances\n",
    "from tqdm import tqdm\n",
    "import pandas as pd"
   ]
  },
  {
   "cell_type": "code",
   "execution_count": 15,
   "metadata": {},
   "outputs": [
    {
     "data": {
      "text/plain": [
       "1230"
      ]
     },
     "execution_count": 15,
     "metadata": {},
     "output_type": "execute_result"
    }
   ],
   "source": [
    "max_len = adata.shape[1] + 1\n",
    "max_len"
   ]
  },
  {
   "cell_type": "code",
   "execution_count": 16,
   "metadata": {},
   "outputs": [
    {
     "data": {
      "text/plain": [
       "array([[0., 4., 0., 0., 0.],\n",
       "       [0., 0., 0., 0., 0.],\n",
       "       [0., 2., 0., 0., 0.],\n",
       "       [0., 0., 0., 0., 0.],\n",
       "       [0., 0., 0., 0., 0.]], dtype=float32)"
      ]
     },
     "execution_count": 16,
     "metadata": {},
     "output_type": "execute_result"
    }
   ],
   "source": [
    "adata.X[:5, :5].toarray()"
   ]
  },
  {
   "cell_type": "code",
   "execution_count": 17,
   "metadata": {},
   "outputs": [],
   "source": [
    "sc.pp.log1p(adata)"
   ]
  },
  {
   "cell_type": "markdown",
   "metadata": {},
   "source": [
    "# Baseline Wilcoxon"
   ]
  },
  {
   "cell_type": "code",
   "execution_count": 18,
   "metadata": {},
   "outputs": [
    {
     "name": "stderr",
     "output_type": "stream",
     "text": [
      "/fs01/home/ahz/poetry_env/lib/python3.9/site-packages/scanpy/tools/_rank_genes_groups.py:394: PerformanceWarning: DataFrame is highly fragmented.  This is usually the result of calling `frame.insert` many times, which has poor performance.  Consider joining all columns at once using pd.concat(axis=1) instead.  To get a de-fragmented frame, use `newframe = frame.copy()`\n",
      "  self.stats[group_name, 'names'] = self.var_names[global_indices]\n",
      "/fs01/home/ahz/poetry_env/lib/python3.9/site-packages/scanpy/tools/_rank_genes_groups.py:396: PerformanceWarning: DataFrame is highly fragmented.  This is usually the result of calling `frame.insert` many times, which has poor performance.  Consider joining all columns at once using pd.concat(axis=1) instead.  To get a de-fragmented frame, use `newframe = frame.copy()`\n",
      "  self.stats[group_name, 'scores'] = scores[global_indices]\n",
      "/fs01/home/ahz/poetry_env/lib/python3.9/site-packages/scanpy/tools/_rank_genes_groups.py:399: PerformanceWarning: DataFrame is highly fragmented.  This is usually the result of calling `frame.insert` many times, which has poor performance.  Consider joining all columns at once using pd.concat(axis=1) instead.  To get a de-fragmented frame, use `newframe = frame.copy()`\n",
      "  self.stats[group_name, 'pvals'] = pvals[global_indices]\n",
      "/fs01/home/ahz/poetry_env/lib/python3.9/site-packages/scanpy/tools/_rank_genes_groups.py:409: PerformanceWarning: DataFrame is highly fragmented.  This is usually the result of calling `frame.insert` many times, which has poor performance.  Consider joining all columns at once using pd.concat(axis=1) instead.  To get a de-fragmented frame, use `newframe = frame.copy()`\n",
      "  self.stats[group_name, 'pvals_adj'] = pvals_adj[global_indices]\n",
      "/fs01/home/ahz/poetry_env/lib/python3.9/site-packages/scanpy/tools/_rank_genes_groups.py:420: PerformanceWarning: DataFrame is highly fragmented.  This is usually the result of calling `frame.insert` many times, which has poor performance.  Consider joining all columns at once using pd.concat(axis=1) instead.  To get a de-fragmented frame, use `newframe = frame.copy()`\n",
      "  self.stats[group_name, 'logfoldchanges'] = np.log2(\n"
     ]
    },
    {
     "data": {
      "text/plain": [
       "rec.array([('FTL', 'PPP1R15A', 'FTL', 'HSP90AA1', 'FTL', 'PPP1R15A', 'NEAT1', 'FTL', 'MT2A', 'HSPA8', 'FTL', 'MT2A', 'FTH1', 'HSPA8', 'MT2A', 'FTL', 'PPP1R15A', 'MT2A', 'TXNRD1', 'FTL', 'MT2A', 'FTL', 'NEAT1', 'FTL', 'MT2A', 'PPP1R15A', 'MT2A', 'HSP90AA1', 'FTL', 'FTL', 'ARHGAP26'),\n",
       "           ('PPP1R15A', 'NEAT1', 'MT2A', 'BIRC3', 'HSPA8', 'AKAP12', 'MALAT1', 'MT2A', 'FTL', 'PPP1R15A', 'MT2A', 'PPP1R15A', 'FTL', 'NEAT1', 'MYC', 'MT2A', 'FTL', 'FTL', 'WWC1', 'MT2A', 'FTL', 'MT2A', 'ARHGAP26', 'MT2A', 'FTL', 'HSPA8', 'FTL', 'HES1', 'MT2A', 'MT2A', 'PDE4D'),\n",
       "           ('HES1', 'DDIT4', 'FTH1', 'PRKDC', 'TXNRD1', 'NEAT1', 'THSD4', 'HES1', 'MT1X', 'SOD2', 'KRT81', 'ADM', 'TXNRD1', 'BHLHE40', 'NUP58', 'HSPA8', 'MT2A', 'DDIT4', 'DDIT4', 'HSPA8', 'CYP1B1', 'HSP90AA1', 'KYNU', 'HSP90AA1', 'HES1', 'HSP90AA1', 'MT1X', 'NR3C1', 'UBC', 'HES1', 'KYNU'),\n",
       "           ...,\n",
       "           ('VCL', 'EFNA5', 'MALAT1', 'IGFBP3', 'IGFBP3', 'IARS1', 'IGSF11', 'HSPA5', 'VCL', 'EGR1', 'PDE4D', 'IGFBP3', 'EGR1', 'HSPA5', 'EFNA5', 'AADACP1', 'THSD4', 'EFNA5', 'MAML3', 'VCL', 'PDE10A', 'PDE4D', 'EGR1', 'EFNA5', 'PDE4D', 'PDE4D', 'IGFBP3', 'CD55', 'PDE4D', 'EFNA5', 'SCD'),\n",
       "           ('AADACP1', 'THSD4', 'EFNA5', 'AADACP1', 'EGR1', 'IGFBP4', 'IGFBP4', 'VCL', 'PDE4D', 'IGFBP4', 'EFNA5', 'PDE4D', 'THSD4', 'CD55', 'IGFBP3', 'EFNA5', 'VCL', 'PDE4D', 'THSD4', 'PDE10A', 'EFNA5', 'GRB10', 'KCNMA1', 'PDE10A', 'AADACP1', 'AADACP1', 'EFNA5', 'EGR1', 'EFNA5', 'PDE4D', 'HSPA5'),\n",
       "           ('PDE4D', 'AADACP1', 'PDE4D', 'EGR1', 'AADACP1', 'HSPA5', 'AKR1C2', 'EFNA5', 'EFNA5', 'AADACP1', 'MALAT1', 'MALAT1', 'AADACP1', 'AADACP1', 'PDE4D', 'VCL', 'EFNA5', 'MALAT1', 'AADACP1', 'MAML3', 'PDE4D', 'AUTS2', 'HSPA5', 'PDE4D', 'EFNA5', 'EFNA5', 'PDE4D', 'AADACP1', 'MALAT1', 'MALAT1', 'MUC5AC')],\n",
       "          dtype=[('ATM', 'O'), ('ATR', 'O'), ('AURKB', 'O'), ('BCL2', 'O'), ('BRAF', 'O'), ('CYP19A1', 'O'), ('EIF4E', 'O'), ('EPAS1', 'O'), ('EPHB4', 'O'), ('ERBB2', 'O'), ('GSK3B', 'O'), ('KLF5', 'O'), ('KRAS', 'O'), ('MAP2K1', 'O'), ('MAP3K8', 'O'), ('MAP4K4', 'O'), ('MAPK7', 'O'), ('MAPK14', 'O'), ('MET', 'O'), ('MTOR', 'O'), ('NR3C1', 'O'), ('PBK', 'O'), ('PIK3CA', 'O'), ('PRKAA1', 'O'), ('PRKDC', 'O'), ('PSMB5', 'O'), ('PTGS2', 'O'), ('RET', 'O'), ('RPS6KB1', 'O'), ('SMO', 'O'), ('TOP1', 'O')])"
      ]
     },
     "execution_count": 18,
     "metadata": {},
     "output_type": "execute_result"
    }
   ],
   "source": [
    "# Wilcoxon rank\n",
    "sc.tl.rank_genes_groups(adata, 'gene_target', method='wilcoxon', key_added = \"wilcoxon\", n_genes=max_len-1, reference='ctrl')\n",
    "adata.uns['wilcoxon']['names']"
   ]
  },
  {
   "cell_type": "code",
   "execution_count": 19,
   "metadata": {},
   "outputs": [
    {
     "data": {
      "text/plain": [
       "{'params': {'groupby': 'gene_target',\n",
       "  'reference': 'ctrl',\n",
       "  'method': 'wilcoxon',\n",
       "  'use_raw': False,\n",
       "  'layer': None,\n",
       "  'corr_method': 'benjamini-hochberg'},\n",
       " 'names': rec.array([('FTL', 'PPP1R15A', 'FTL', 'HSP90AA1', 'FTL', 'PPP1R15A', 'NEAT1', 'FTL', 'MT2A', 'HSPA8', 'FTL', 'MT2A', 'FTH1', 'HSPA8', 'MT2A', 'FTL', 'PPP1R15A', 'MT2A', 'TXNRD1', 'FTL', 'MT2A', 'FTL', 'NEAT1', 'FTL', 'MT2A', 'PPP1R15A', 'MT2A', 'HSP90AA1', 'FTL', 'FTL', 'ARHGAP26'),\n",
       "            ('PPP1R15A', 'NEAT1', 'MT2A', 'BIRC3', 'HSPA8', 'AKAP12', 'MALAT1', 'MT2A', 'FTL', 'PPP1R15A', 'MT2A', 'PPP1R15A', 'FTL', 'NEAT1', 'MYC', 'MT2A', 'FTL', 'FTL', 'WWC1', 'MT2A', 'FTL', 'MT2A', 'ARHGAP26', 'MT2A', 'FTL', 'HSPA8', 'FTL', 'HES1', 'MT2A', 'MT2A', 'PDE4D'),\n",
       "            ('HES1', 'DDIT4', 'FTH1', 'PRKDC', 'TXNRD1', 'NEAT1', 'THSD4', 'HES1', 'MT1X', 'SOD2', 'KRT81', 'ADM', 'TXNRD1', 'BHLHE40', 'NUP58', 'HSPA8', 'MT2A', 'DDIT4', 'DDIT4', 'HSPA8', 'CYP1B1', 'HSP90AA1', 'KYNU', 'HSP90AA1', 'HES1', 'HSP90AA1', 'MT1X', 'NR3C1', 'UBC', 'HES1', 'KYNU'),\n",
       "            ...,\n",
       "            ('VCL', 'EFNA5', 'MALAT1', 'IGFBP3', 'IGFBP3', 'IARS1', 'IGSF11', 'HSPA5', 'VCL', 'EGR1', 'PDE4D', 'IGFBP3', 'EGR1', 'HSPA5', 'EFNA5', 'AADACP1', 'THSD4', 'EFNA5', 'MAML3', 'VCL', 'PDE10A', 'PDE4D', 'EGR1', 'EFNA5', 'PDE4D', 'PDE4D', 'IGFBP3', 'CD55', 'PDE4D', 'EFNA5', 'SCD'),\n",
       "            ('AADACP1', 'THSD4', 'EFNA5', 'AADACP1', 'EGR1', 'IGFBP4', 'IGFBP4', 'VCL', 'PDE4D', 'IGFBP4', 'EFNA5', 'PDE4D', 'THSD4', 'CD55', 'IGFBP3', 'EFNA5', 'VCL', 'PDE4D', 'THSD4', 'PDE10A', 'EFNA5', 'GRB10', 'KCNMA1', 'PDE10A', 'AADACP1', 'AADACP1', 'EFNA5', 'EGR1', 'EFNA5', 'PDE4D', 'HSPA5'),\n",
       "            ('PDE4D', 'AADACP1', 'PDE4D', 'EGR1', 'AADACP1', 'HSPA5', 'AKR1C2', 'EFNA5', 'EFNA5', 'AADACP1', 'MALAT1', 'MALAT1', 'AADACP1', 'AADACP1', 'PDE4D', 'VCL', 'EFNA5', 'MALAT1', 'AADACP1', 'MAML3', 'PDE4D', 'AUTS2', 'HSPA5', 'PDE4D', 'EFNA5', 'EFNA5', 'PDE4D', 'AADACP1', 'MALAT1', 'MALAT1', 'MUC5AC')],\n",
       "           dtype=[('ATM', 'O'), ('ATR', 'O'), ('AURKB', 'O'), ('BCL2', 'O'), ('BRAF', 'O'), ('CYP19A1', 'O'), ('EIF4E', 'O'), ('EPAS1', 'O'), ('EPHB4', 'O'), ('ERBB2', 'O'), ('GSK3B', 'O'), ('KLF5', 'O'), ('KRAS', 'O'), ('MAP2K1', 'O'), ('MAP3K8', 'O'), ('MAP4K4', 'O'), ('MAPK7', 'O'), ('MAPK14', 'O'), ('MET', 'O'), ('MTOR', 'O'), ('NR3C1', 'O'), ('PBK', 'O'), ('PIK3CA', 'O'), ('PRKAA1', 'O'), ('PRKDC', 'O'), ('PSMB5', 'O'), ('PTGS2', 'O'), ('RET', 'O'), ('RPS6KB1', 'O'), ('SMO', 'O'), ('TOP1', 'O')]),\n",
       " 'scores': rec.array([( 13.004625,  20.773424 ,  16.205795,  14.743001,  20.15494 , 23.965343 ,  34.253128,  14.685018,  16.644337,  19.420689,  18.799162,  16.500124 ,  39.071068,  13.881689 ,   5.140043 ,  14.78714 ,  14.963137,  16.070345,  10.707019,  25.48324 ,  16.822136 ,  25.033773, 21.868095,  19.937725 ,  16.356153,  24.714392,  19.538074 ,  17.384747 ,  13.192702 ,  20.17589 , 28.338009),\n",
       "            ( 11.620474,   8.670977 ,  13.212947,  11.431037,  16.654564, 20.84362  ,  25.331821,   9.355286,  13.16435 ,  18.36699 ,  17.461164,   7.82271  ,  21.649466,  13.1160345,   3.8574698,  11.304729,  14.091866,   9.987949,  10.266525,  19.415237,  12.423299 ,  21.744726, 16.978497,  14.3195505,  16.233158,  22.505135,   7.477576 ,  17.245813 ,   9.445305 ,  12.763376, 26.01086 ),\n",
       "            (  9.319885,   7.3507686,  10.136743,  10.702889,  16.04468 , 19.84987  ,  23.54179 ,   8.164644,   6.761196,  12.55477 ,   7.688903,   7.5677314,  20.063475,  12.489177 ,   2.8949633,   9.648521,  11.110079,   3.972401,   9.192914,  12.103917,   4.8681097,  21.102713, 14.31952 ,  11.427924 ,  11.816299,  21.289057,   4.8514132,  15.324726 ,   5.5223856,   8.892691, 24.407448),\n",
       "            ...,\n",
       "            (-19.3867  , -33.059    , -21.000662, -17.250406, -14.851923, -5.5490174,  -8.56576 , -14.681096, -21.66692 , -10.664269, -29.46335 , -25.72246  , -24.601322,  -6.9579206, -27.825014 , -17.861425, -12.172062, -33.90285 , -19.503857, -25.590145, -23.73571  , -23.14423 , -8.888119, -33.233723 , -17.360863, -23.853804, -27.89218  ,  -7.7046714, -24.08431  , -31.658525, -3.446127),\n",
       "            (-19.835304, -34.129353 , -22.8216  , -18.208534, -15.117993, -6.7041   ,  -8.724998, -15.048779, -22.5411  , -11.661121, -31.187607, -26.060907 , -27.25708 ,  -9.302624 , -29.542456 , -18.36918 , -13.846419, -37.70258 , -20.69785 , -25.844128, -24.612768 , -24.028397, -9.359698, -33.629593 , -17.386993, -25.626043, -29.6516   , -11.839893 , -25.568655 , -32.35558 , -4.196808),\n",
       "            (-20.543232, -36.42255  , -23.586597, -19.59234 , -18.431108, -8.311115 , -10.013469, -15.057331, -22.65008 , -15.46491 , -35.136417, -26.64139  , -31.473314, -11.153848 , -29.739323 , -21.026266, -14.138953, -41.509567, -23.564518, -25.952612, -29.824577 , -24.037794, -9.689269, -40.175903 , -18.791351, -28.206667, -29.65193  , -12.338503 , -31.005135 , -42.141003, -4.571752)],\n",
       "           dtype=[('ATM', '<f4'), ('ATR', '<f4'), ('AURKB', '<f4'), ('BCL2', '<f4'), ('BRAF', '<f4'), ('CYP19A1', '<f4'), ('EIF4E', '<f4'), ('EPAS1', '<f4'), ('EPHB4', '<f4'), ('ERBB2', '<f4'), ('GSK3B', '<f4'), ('KLF5', '<f4'), ('KRAS', '<f4'), ('MAP2K1', '<f4'), ('MAP3K8', '<f4'), ('MAP4K4', '<f4'), ('MAPK7', '<f4'), ('MAPK14', '<f4'), ('MET', '<f4'), ('MTOR', '<f4'), ('NR3C1', '<f4'), ('PBK', '<f4'), ('PIK3CA', '<f4'), ('PRKAA1', '<f4'), ('PRKDC', '<f4'), ('PSMB5', '<f4'), ('PTGS2', '<f4'), ('RET', '<f4'), ('RPS6KB1', '<f4'), ('SMO', '<f4'), ('TOP1', '<f4')]),\n",
       " 'pvals': rec.array([(1.15162199e-38, 7.52940141e-096, 4.58912158e-059, 3.41277345e-49, 2.43557744e-90, 6.39388325e-127, 3.91802300e-257, 8.04139063e-49, 3.32628904e-062, 5.15934985e-84, 7.67192703e-079, 3.66143291e-061, 0.00000000e+000, 8.17938961e-44, 2.74675764e-007, 1.77330020e-49, 1.27855450e-50, 4.11783388e-058, 9.43515226e-027, 3.02398230e-143, 1.67991884e-063, 2.62273573e-138, 5.22963204e-106, 1.91584678e-088, 3.93194984e-60, 7.49023743e-135, 5.21107792e-085, 1.07660431e-67, 9.66569817e-040, 1.59469943e-090, 1.17627171e-176),\n",
       "            (3.24332114e-31, 4.28431247e-018, 7.38745530e-040, 2.92594160e-30, 2.80380964e-62, 1.74156602e-096, 1.42548278e-141, 8.33740540e-21, 1.40743724e-039, 2.41442128e-75, 2.83096137e-068, 5.16981034e-015, 6.14898496e-104, 2.66519813e-39, 1.14566777e-004, 1.24337148e-29, 4.26153167e-45, 1.72105330e-023, 9.97323418e-025, 5.73701667e-084, 1.95337791e-035, 7.74935584e-105, 1.18481152e-064, 1.65189198e-046, 2.93937426e-59, 3.69694386e-112, 7.57060084e-014, 1.20308505e-66, 3.54372690e-021, 2.62569341e-037, 3.73210914e-149),\n",
       "            (1.16466623e-20, 1.97070055e-013, 3.79545413e-024, 9.86531288e-27, 6.22801301e-58, 1.10486460e-087, 1.52360492e-122, 3.22382971e-16, 1.36857198e-011, 3.74265842e-36, 1.48402338e-014, 3.79798072e-014, 1.53943047e-089, 8.55344685e-36, 3.79202911e-003, 4.98696548e-22, 1.12060065e-28, 7.11518088e-005, 3.82341309e-020, 1.00688925e-033, 1.12670743e-006, 7.51018486e-099, 1.65260987e-046, 3.03270820e-030, 3.21537411e-32, 1.43382337e-100, 1.22584717e-006, 5.22744003e-53, 3.34427283e-008, 5.96469379e-019, 1.42550893e-131),\n",
       "            ...,\n",
       "            (9.99469802e-84, 1.15508349e-239, 6.46783731e-098, 1.11113785e-66, 6.76010457e-50, 2.87279306e-008, 1.07365421e-017, 8.52014152e-49, 4.21002043e-104, 1.49570579e-26, 8.49247963e-191, 6.55545015e-146, 1.22270064e-133, 3.45331998e-12, 2.16141497e-170, 2.35549905e-71, 4.37881081e-34, 6.04769255e-252, 1.01809009e-084, 1.96401683e-144, 1.54347647e-124, 1.66187161e-118, 6.21521795e-019, 3.50855361e-242, 1.63249338e-67, 9.24661643e-126, 3.31935637e-171, 1.31180317e-14, 3.65037209e-128, 5.78813443e-220, 5.68683234e-004),\n",
       "            (1.47617808e-87, 2.70758437e-255, 2.79868233e-115, 4.41614201e-74, 1.23240776e-51, 2.02651038e-011, 2.66184876e-018, 3.51669700e-51, 1.64192208e-112, 2.01373120e-31, 1.56893079e-213, 1.01209723e-149, 1.36990347e-163, 1.37022035e-20, 8.20888970e-192, 2.31883846e-75, 1.33713707e-43, 0.00000000e+000, 3.62172097e-095, 2.83254262e-147, 9.22126167e-134, 1.40440010e-127, 7.99644496e-021, 6.19821459e-248, 1.03523550e-67, 7.82143389e-145, 3.23423871e-193, 2.42761897e-32, 3.40598374e-144, 1.15802591e-229, 2.70703358e-005),\n",
       "            (8.84758743e-94, 1.87175612e-290, 5.29063887e-123, 1.79734113e-85, 7.39510864e-76, 9.48069217e-017, 1.33004940e-023, 3.09011303e-51, 1.39259326e-113, 5.98577058e-54, 1.87416212e-270, 2.25188411e-156, 2.01434767e-217, 6.85755634e-29, 2.38324991e-194, 3.77187966e-98, 2.18509314e-45, 0.00000000e+000, 8.91195297e-123, 1.69896438e-148, 1.87594750e-195, 1.12008620e-127, 3.34917745e-022, 0.00000000e+000, 8.88875789e-79, 4.84401795e-175, 3.20265476e-193, 5.61910325e-35, 4.59639823e-211, 0.00000000e+000, 4.83662641e-006)],\n",
       "           dtype=[('ATM', '<f8'), ('ATR', '<f8'), ('AURKB', '<f8'), ('BCL2', '<f8'), ('BRAF', '<f8'), ('CYP19A1', '<f8'), ('EIF4E', '<f8'), ('EPAS1', '<f8'), ('EPHB4', '<f8'), ('ERBB2', '<f8'), ('GSK3B', '<f8'), ('KLF5', '<f8'), ('KRAS', '<f8'), ('MAP2K1', '<f8'), ('MAP3K8', '<f8'), ('MAP4K4', '<f8'), ('MAPK7', '<f8'), ('MAPK14', '<f8'), ('MET', '<f8'), ('MTOR', '<f8'), ('NR3C1', '<f8'), ('PBK', '<f8'), ('PIK3CA', '<f8'), ('PRKAA1', '<f8'), ('PRKDC', '<f8'), ('PSMB5', '<f8'), ('PTGS2', '<f8'), ('RET', '<f8'), ('RPS6KB1', '<f8'), ('SMO', '<f8'), ('TOP1', '<f8')]),\n",
       " 'pvals_adj': rec.array([(1.08872571e-36, 4.62681717e-094, 4.02859316e-057, 6.99049761e-47, 2.99332467e-87, 7.85808252e-124, 4.81525027e-254, 2.61781348e-46, 3.40667436e-060, 6.34084097e-81, 4.71439916e-077, 2.24995052e-059, 0.00000000e+000, 1.00524698e-40, 1.75821101e-006, 1.67645073e-47, 1.57134348e-47, 8.43469640e-057, 6.10305375e-025, 7.43294850e-141, 1.29038766e-061, 3.22334221e-135, 6.42721778e-103, 8.40919890e-087, 9.66473271e-58, 3.06850060e-132, 3.55800820e-083, 1.32314669e-64, 4.24255109e-038, 1.30659040e-088, 1.44563794e-173),\n",
       "            (2.21446760e-29, 5.06290387e-017, 3.78299274e-038, 3.99553580e-28, 1.14862735e-59, 1.07019232e-093, 8.75959169e-139, 3.53333491e-19, 6.17764415e-038, 1.48366188e-72, 1.05431864e-066, 6.22911462e-014, 8.39678058e-102, 1.63776425e-36, 5.72368167e-004, 8.48946416e-28, 1.74580747e-42, 1.74807811e-022, 5.10712700e-023, 4.70052899e-082, 5.85536940e-034, 1.58732639e-102, 7.28066680e-062, 3.22250039e-045, 6.02081828e-57, 6.49077715e-110, 6.69371830e-013, 7.39295761e-64, 7.25873394e-020, 5.29012656e-036, 2.29338107e-146),\n",
       "            (3.67019177e-19, 1.95321853e-012, 9.14630024e-023, 8.66033538e-25, 1.91355700e-55, 4.52626196e-085, 6.24170148e-120, 1.16531962e-14, 1.51529276e-010, 1.14993180e-33, 1.45909179e-013, 4.28231037e-013, 1.71996367e-087, 3.50406206e-33, 1.55866347e-002, 1.85726684e-20, 1.37721819e-26, 2.99471140e-004, 1.51579828e-018, 3.01821194e-032, 8.87643227e-006, 1.02555747e-096, 6.77019176e-044, 4.38493927e-029, 2.19538599e-30, 1.95796547e-098, 6.75590213e-006, 2.14150793e-50, 3.31460589e-007, 7.11709579e-018, 5.83983490e-129),\n",
       "            ...,\n",
       "            (4.09449462e-81, 4.73199205e-237, 2.64965735e-095, 4.55196141e-64, 9.23129835e-48, 4.64560878e-007, 1.75936136e-016, 2.61781348e-46, 1.72470504e-101, 1.67111129e-24, 3.47908582e-188, 2.68554941e-143, 3.75674772e-131, 1.92915011e-10, 8.85459666e-168, 9.64969442e-69, 1.07631170e-31, 2.47753805e-249, 4.17077574e-082, 8.04592227e-142, 6.32310860e-122, 5.10610053e-116, 4.49323698e-017, 1.43733746e-239, 6.68778120e-65, 2.84102290e-123, 1.35982966e-168, 5.75787892e-13, 1.49543577e-125, 2.37120574e-217, 2.22101042e-003),\n",
       "            (9.07111428e-85, 1.66381059e-252, 1.71979029e-112, 2.71371926e-71, 2.16375590e-49, 4.78957933e-010, 4.74117700e-017, 2.16101031e-48, 1.00896112e-109, 3.53553663e-29, 9.64107968e-211, 6.21933745e-147, 5.61203789e-161, 1.20285773e-18, 5.04436272e-189, 1.42492623e-72, 4.10835364e-41, 0.00000000e+000, 2.22554754e-092, 1.74059744e-144, 5.66646530e-131, 5.75335909e-125, 6.55175390e-019, 3.80880286e-245, 6.36152217e-65, 4.80627113e-142, 1.98743969e-190, 3.72942964e-30, 2.09297701e-141, 7.11606920e-227, 1.20541459e-004),\n",
       "            (1.08736849e-90, 2.30038827e-287, 6.50219517e-120, 2.20893224e-82, 4.54429426e-73, 3.14912721e-015, 3.40548066e-022, 2.16101031e-48, 1.71149712e-110, 2.45217068e-51, 2.30334524e-267, 2.76756557e-153, 1.23781665e-214, 1.40465612e-26, 2.92901414e-191, 4.63564010e-95, 1.34273973e-42, 0.00000000e+000, 1.09527902e-119, 2.08802723e-145, 2.30553948e-192, 5.75335909e-125, 2.94009934e-020, 0.00000000e+000, 1.09242835e-75, 5.95329806e-172, 1.98743969e-190, 9.86553985e-33, 5.64897342e-208, 0.00000000e+000, 2.42620974e-005)],\n",
       "           dtype=[('ATM', '<f8'), ('ATR', '<f8'), ('AURKB', '<f8'), ('BCL2', '<f8'), ('BRAF', '<f8'), ('CYP19A1', '<f8'), ('EIF4E', '<f8'), ('EPAS1', '<f8'), ('EPHB4', '<f8'), ('ERBB2', '<f8'), ('GSK3B', '<f8'), ('KLF5', '<f8'), ('KRAS', '<f8'), ('MAP2K1', '<f8'), ('MAP3K8', '<f8'), ('MAP4K4', '<f8'), ('MAPK7', '<f8'), ('MAPK14', '<f8'), ('MET', '<f8'), ('MTOR', '<f8'), ('NR3C1', '<f8'), ('PBK', '<f8'), ('PIK3CA', '<f8'), ('PRKAA1', '<f8'), ('PRKDC', '<f8'), ('PSMB5', '<f8'), ('PTGS2', '<f8'), ('RET', '<f8'), ('RPS6KB1', '<f8'), ('SMO', '<f8'), ('TOP1', '<f8')]),\n",
       " 'logfoldchanges': rec.array([( 0.636993  ,  1.0574871 ,  1.0566629 ,  0.66884047,  0.6932809 ,  1.0675435 ,  1.0260863 ,  0.7099188 ,  1.0601922 ,  1.4558331 ,  1.0647974,  0.76300085,  1.3053567 ,  1.4599316 ,  0.22570817,  0.77306694,  1.2252442 ,  0.9096158 ,  0.53547823,  0.87582225,  1.1519009 ,  1.1141421 ,  0.730039  ,  0.7767241 ,  1.1514539 ,  1.041585  ,  1.1064658 ,  0.9948867 ,  0.91145194,  1.154336 ,  1.0960971 ),\n",
       "            ( 0.72280806,  0.27367687,  1.0229096 ,  0.5285236 ,  1.0373651 ,  0.56053615,  0.55719775,  0.5159039 ,  0.7972837 ,  1.0239637 ,  1.185366 ,  0.43797544,  0.8166829 ,  0.598962  ,  0.577599  ,  0.6858095 ,  0.969228  ,  0.49989328,  0.5587955 ,  0.8021646 ,  0.75613374,  1.0733901 ,  0.6135561 ,  0.65881485,  1.0165387 ,  1.4412408 ,  0.38149136,  1.5412406 ,  0.7789582 ,  0.8787893,  0.7989046 ),\n",
       "            ( 0.90237236,  0.6408194 ,  0.60342497,  0.61641353,  0.7112442 ,  0.5496168 ,  0.72063744,  0.80063057,  0.74879307,  0.5166311 ,  0.5919708,  0.5105304 ,  0.9573754 ,  0.8933933 ,  0.3083521 ,  0.9577221 ,  0.88752645,  0.45919615,  0.76306474,  0.8633162 ,  1.5526284 ,  1.123522  ,  0.5558614 ,  0.5020083 ,  1.3247823 ,  1.2791375 ,  0.48219824,  0.78133637,  0.364832  ,  1.0172405,  1.0144094 ),\n",
       "            ...,\n",
       "            (-0.860405  , -1.1345533 , -0.7862302 , -0.70686007, -0.50578535, -0.4157017 , -0.747379  , -1.2227448 , -1.2221332 , -0.7686223 , -1.4344158, -1.0859163 , -1.9827917 , -0.6696671 , -0.98143065, -0.8873584 , -0.7043536 , -1.5812217 , -0.83893454, -0.86035585, -1.4568211 , -0.8215399 , -0.6295334 , -1.0730641 , -0.8322077 , -0.70498294, -1.6676605 , -0.42622203, -1.2832916 , -1.7089863, -0.28156456),\n",
       "            (-0.97942615, -1.365713  , -1.2541113 , -0.74853575, -0.87983674, -0.24509601, -0.34745002, -0.6474669 , -0.95578825, -0.53572786, -1.6608067, -0.82757473, -0.98337674, -0.5986008 , -1.3623849 , -0.7099393 , -0.87322557, -1.7559302 , -0.7568454 , -0.86343485, -1.2935842 , -0.98617965, -0.44620726, -1.2606262 , -1.1505643 , -0.8837068 , -1.321569  , -1.0766385 , -1.4691038 , -1.6568687, -0.35082915),\n",
       "            (-0.7869461 , -1.7086695 , -1.3484842 , -1.5444692 , -0.63381606, -0.5162107 , -0.69630295, -0.5613988 , -1.044964  , -0.6747533 , -1.3252525, -0.61924505, -1.31169   , -0.67137456, -1.048883  , -0.99701935, -0.7370413 , -1.4523927 , -0.9966475 , -1.0101235 , -1.5939202 , -1.1831135 , -0.6744651 , -1.4337335 , -0.95888555, -0.7998805 , -1.2396158 , -0.62777686, -1.3539522 , -1.7865537, -1.3253223 )],\n",
       "           dtype=[('ATM', '<f4'), ('ATR', '<f4'), ('AURKB', '<f4'), ('BCL2', '<f4'), ('BRAF', '<f4'), ('CYP19A1', '<f4'), ('EIF4E', '<f4'), ('EPAS1', '<f4'), ('EPHB4', '<f4'), ('ERBB2', '<f4'), ('GSK3B', '<f4'), ('KLF5', '<f4'), ('KRAS', '<f4'), ('MAP2K1', '<f4'), ('MAP3K8', '<f4'), ('MAP4K4', '<f4'), ('MAPK7', '<f4'), ('MAPK14', '<f4'), ('MET', '<f4'), ('MTOR', '<f4'), ('NR3C1', '<f4'), ('PBK', '<f4'), ('PIK3CA', '<f4'), ('PRKAA1', '<f4'), ('PRKDC', '<f4'), ('PSMB5', '<f4'), ('PTGS2', '<f4'), ('RET', '<f4'), ('RPS6KB1', '<f4'), ('SMO', '<f4'), ('TOP1', '<f4')])}"
      ]
     },
     "execution_count": 19,
     "metadata": {},
     "output_type": "execute_result"
    }
   ],
   "source": [
    "adata.uns['wilcoxon']"
   ]
  },
  {
   "cell_type": "code",
   "execution_count": 20,
   "metadata": {},
   "outputs": [],
   "source": [
    "import pickle\n",
    "\n",
    "# Save to a pickle file\n",
    "with open(\"wilcoxon_filtered.pkl\", \"wb\") as f:\n",
    "    pickle.dump(adata.uns[\"wilcoxon\"], f)"
   ]
  },
  {
   "cell_type": "code",
   "execution_count": 21,
   "metadata": {},
   "outputs": [
    {
     "data": {
      "text/plain": [
       "rec.array([('FTL', 'PPP1R15A', 'FTL', 'HSP90AA1', 'FTL', 'PPP1R15A', 'NEAT1', 'FTL', 'MT2A', 'HSPA8', 'FTL', 'MT2A', 'FTH1', 'HSPA8', 'MT2A', 'FTL', 'PPP1R15A', 'MT2A', 'TXNRD1', 'FTL', 'MT2A', 'FTL', 'NEAT1', 'FTL', 'MT2A', 'PPP1R15A', 'MT2A', 'HSP90AA1', 'FTL', 'FTL', 'ARHGAP26'),\n",
       "           ('PPP1R15A', 'NEAT1', 'MT2A', 'BIRC3', 'HSPA8', 'AKAP12', 'MALAT1', 'MT2A', 'FTL', 'PPP1R15A', 'MT2A', 'PPP1R15A', 'FTL', 'NEAT1', 'MYC', 'MT2A', 'FTL', 'FTL', 'WWC1', 'MT2A', 'FTL', 'MT2A', 'ARHGAP26', 'MT2A', 'FTL', 'HSPA8', 'FTL', 'HES1', 'MT2A', 'MT2A', 'PDE4D'),\n",
       "           ('HES1', 'DDIT4', 'FTH1', 'PRKDC', 'TXNRD1', 'NEAT1', 'THSD4', 'HES1', 'MT1X', 'SOD2', 'KRT81', 'ADM', 'TXNRD1', 'BHLHE40', 'NUP58', 'HSPA8', 'MT2A', 'DDIT4', 'DDIT4', 'HSPA8', 'CYP1B1', 'HSP90AA1', 'KYNU', 'HSP90AA1', 'HES1', 'HSP90AA1', 'MT1X', 'NR3C1', 'UBC', 'HES1', 'KYNU'),\n",
       "           ...,\n",
       "           ('VCL', 'EFNA5', 'MALAT1', 'IGFBP3', 'IGFBP3', 'IARS1', 'IGSF11', 'HSPA5', 'VCL', 'EGR1', 'PDE4D', 'IGFBP3', 'EGR1', 'HSPA5', 'EFNA5', 'AADACP1', 'THSD4', 'EFNA5', 'MAML3', 'VCL', 'PDE10A', 'PDE4D', 'EGR1', 'EFNA5', 'PDE4D', 'PDE4D', 'IGFBP3', 'CD55', 'PDE4D', 'EFNA5', 'SCD'),\n",
       "           ('AADACP1', 'THSD4', 'EFNA5', 'AADACP1', 'EGR1', 'IGFBP4', 'IGFBP4', 'VCL', 'PDE4D', 'IGFBP4', 'EFNA5', 'PDE4D', 'THSD4', 'CD55', 'IGFBP3', 'EFNA5', 'VCL', 'PDE4D', 'THSD4', 'PDE10A', 'EFNA5', 'GRB10', 'KCNMA1', 'PDE10A', 'AADACP1', 'AADACP1', 'EFNA5', 'EGR1', 'EFNA5', 'PDE4D', 'HSPA5'),\n",
       "           ('PDE4D', 'AADACP1', 'PDE4D', 'EGR1', 'AADACP1', 'HSPA5', 'AKR1C2', 'EFNA5', 'EFNA5', 'AADACP1', 'MALAT1', 'MALAT1', 'AADACP1', 'AADACP1', 'PDE4D', 'VCL', 'EFNA5', 'MALAT1', 'AADACP1', 'MAML3', 'PDE4D', 'AUTS2', 'HSPA5', 'PDE4D', 'EFNA5', 'EFNA5', 'PDE4D', 'AADACP1', 'MALAT1', 'MALAT1', 'MUC5AC')],\n",
       "          dtype=[('ATM', 'O'), ('ATR', 'O'), ('AURKB', 'O'), ('BCL2', 'O'), ('BRAF', 'O'), ('CYP19A1', 'O'), ('EIF4E', 'O'), ('EPAS1', 'O'), ('EPHB4', 'O'), ('ERBB2', 'O'), ('GSK3B', 'O'), ('KLF5', 'O'), ('KRAS', 'O'), ('MAP2K1', 'O'), ('MAP3K8', 'O'), ('MAP4K4', 'O'), ('MAPK7', 'O'), ('MAPK14', 'O'), ('MET', 'O'), ('MTOR', 'O'), ('NR3C1', 'O'), ('PBK', 'O'), ('PIK3CA', 'O'), ('PRKAA1', 'O'), ('PRKDC', 'O'), ('PSMB5', 'O'), ('PTGS2', 'O'), ('RET', 'O'), ('RPS6KB1', 'O'), ('SMO', 'O'), ('TOP1', 'O')])"
      ]
     },
     "execution_count": 21,
     "metadata": {},
     "output_type": "execute_result"
    }
   ],
   "source": [
    "adata.uns['wilcoxon']['names']"
   ]
  },
  {
   "cell_type": "code",
   "execution_count": 22,
   "metadata": {},
   "outputs": [
    {
     "name": "stdout",
     "output_type": "stream",
     "text": [
      "EIF4E 330\n",
      "GSK3B 37\n",
      "PIK3CA 313\n",
      "CYP19A1 770\n",
      "PRKDC 519\n",
      "MTOR 370\n",
      "ATM 65\n",
      "EPAS1 54\n",
      "PSMB5 342\n",
      "MET 212\n",
      "PTGS2 33\n",
      "ATR 200\n",
      "MAPK7 490\n",
      "PRKAA1 269\n",
      "PBK 228\n",
      "TOP1 63\n",
      "PSMB5 342\n",
      "RPS6KB1 171\n",
      "NR3C1 107\n",
      "PRKAA1 269\n",
      "KLF5 56\n",
      "EPHB4 594\n",
      "MAP3K8 483\n",
      "MAP4K4 19\n",
      "MAPK14 268\n",
      "RET 549\n",
      "KRAS 146\n",
      "MTOR 370\n",
      "SMO 566\n",
      "MAP2K1 42\n",
      "AURKB 849\n",
      "ERBB2 591\n",
      "BRAF 125\n",
      "BCL2 946\n"
     ]
    }
   ],
   "source": [
    "baseline_rank = []\n",
    "\n",
    "for c in perturb_conditions:\n",
    "    # print(c)\n",
    "    hvg_list = adata.uns['wilcoxon']['names'][c]\n",
    "    p_val = adata.uns['wilcoxon']['pvals_adj'][c]\n",
    "    df_gene_emb_dist = pd.DataFrame()\n",
    "    df_gene_emb_dist['gene'] = hvg_list\n",
    "    df_gene_emb_dist['p_val'] = p_val\n",
    "    df_gene_emb_dist = df_gene_emb_dist.sort_values(by='p_val')\n",
    "    print(c, np.where(df_gene_emb_dist.gene.values==c.split('+')[0])[0][0])\n",
    "    baseline_rank.append(np.where(df_gene_emb_dist.gene.values==c.split('+')[0])[0][0])"
   ]
  },
  {
   "cell_type": "code",
   "execution_count": 23,
   "metadata": {},
   "outputs": [
    {
     "data": {
      "text/plain": [
       "[330,\n",
       " 37,\n",
       " 313,\n",
       " 770,\n",
       " 519,\n",
       " 370,\n",
       " 65,\n",
       " 54,\n",
       " 342,\n",
       " 212,\n",
       " 33,\n",
       " 200,\n",
       " 490,\n",
       " 269,\n",
       " 228,\n",
       " 63,\n",
       " 342,\n",
       " 171,\n",
       " 107,\n",
       " 269,\n",
       " 56,\n",
       " 594,\n",
       " 483,\n",
       " 19,\n",
       " 268,\n",
       " 549,\n",
       " 146,\n",
       " 370,\n",
       " 566,\n",
       " 42,\n",
       " 849,\n",
       " 591,\n",
       " 125,\n",
       " 946]"
      ]
     },
     "execution_count": 23,
     "metadata": {},
     "output_type": "execute_result"
    }
   ],
   "source": [
    "baseline_rank"
   ]
  },
  {
   "cell_type": "code",
   "execution_count": 24,
   "metadata": {},
   "outputs": [],
   "source": [
    "with open(\"baseline_filtered.pkl\", \"wb\") as f:\n",
    "    pickle.dump(baseline_rank, f)"
   ]
  },
  {
   "cell_type": "code",
   "execution_count": 25,
   "metadata": {},
   "outputs": [
    {
     "data": {
      "text/plain": [
       "317.29411764705884"
      ]
     },
     "execution_count": 25,
     "metadata": {},
     "output_type": "execute_result"
    }
   ],
   "source": [
    "np.mean(baseline_rank)"
   ]
  },
  {
   "cell_type": "code",
   "execution_count": 26,
   "metadata": {},
   "outputs": [
    {
     "data": {
      "text/plain": [
       "Text(0, 0.5, 'Rank Value')"
      ]
     },
     "execution_count": 26,
     "metadata": {},
     "output_type": "execute_result"
    },
    {
     "data": {
      "image/png": "[encoded data removed]",
      "text/plain": [
       "<Figure size 432x288 with 1 Axes>"
      ]
     },
     "metadata": {
      "needs_background": "light"
     },
     "output_type": "display_data"
    }
   ],
   "source": [
    "import seaborn as sns\n",
    "\n",
    "sns.boxplot(y=baseline_rank)\n",
    "\n",
    "# Add title and labels\n",
    "plt.title(\"Boxplot of Wilcoxon Rank\")\n",
    "plt.ylabel(\"Rank Value\")"
   ]
  },
  {
   "cell_type": "markdown",
   "metadata": {},
   "source": [
    "# scGPT Embedding"
   ]
  },
  {
   "cell_type": "code",
   "execution_count": 27,
   "metadata": {},
   "outputs": [
    {
     "name": "stderr",
     "output_type": "stream",
     "text": [
      "/fs01/home/ahz/poetry_env/lib/python3.9/site-packages/scanpy/_settings.py:447: DeprecationWarning: `set_matplotlib_formats` is deprecated since IPython 7.23, directly use `matplotlib_inline.backend_inline.set_matplotlib_formats()`\n",
      "  IPython.display.set_matplotlib_formats(*ipython_format)\n"
     ]
    }
   ],
   "source": [
    "from pathlib import Path\n",
    "\n",
    "from torch import nn\n",
    "from torch.nn import functional as F\n",
    "from torch.utils.data import Dataset, DataLoader\n",
    "from sklearn.model_selection import train_test_split\n",
    "from torchtext.vocab import Vocab\n",
    "from torchtext._torchtext import (\n",
    "    Vocab as VocabPybind,\n",
    ")\n",
    "\n",
    "sys.path.insert(0, \"../\")\n",
    "#import scgpt as scg\n",
    "from scgpt.model import TransformerModel, AdversarialDiscriminator\n",
    "from scgpt.tokenizer import tokenize_and_pad_batch, random_mask_value\n",
    "from scgpt.tokenizer.gene_tokenizer import GeneVocab\n",
    "from scgpt.loss import (\n",
    "    masked_mse_loss,\n",
    "    masked_relative_error,\n",
    "    criterion_neg_log_bernoulli,\n",
    ")\n",
    "from scgpt.preprocess import Preprocessor\n",
    "from scgpt import SubsetsBatchSampler\n",
    "from scgpt.utils import set_seed, eval_scib_metrics, load_pretrained\n",
    "\n",
    "sc.set_figure_params(figsize=(4, 4))\n",
    "os.environ[\"KMP_WARNINGS\"] = \"off\"\n",
    "warnings.filterwarnings('ignore')"
   ]
  },
  {
   "cell_type": "code",
   "execution_count": 28,
   "metadata": {},
   "outputs": [
    {
     "name": "stderr",
     "output_type": "stream",
     "text": [
      "\u001b[34m\u001b[1mwandb\u001b[0m: Currently logged in as: \u001b[33mandrewhz-zhang\u001b[0m. Use \u001b[1m`wandb login --relogin`\u001b[0m to force relogin\n"
     ]
    },
    {
     "data": {
      "text/html": [
       "wandb version 0.19.8 is available!  To upgrade, please run:\n",
       " $ pip install wandb --upgrade"
      ],
      "text/plain": [
       "<IPython.core.display.HTML object>"
      ]
     },
     "metadata": {},
     "output_type": "display_data"
    },
    {
     "data": {
      "text/html": [
       "Tracking run with wandb version 0.12.21"
      ],
      "text/plain": [
       "<IPython.core.display.HTML object>"
      ]
     },
     "metadata": {},
     "output_type": "display_data"
    },
    {
     "data": {
      "text/html": [
       "Run data is saved locally in <code>/fs01/home/ahz/mosaicfm/notebooks/wandb/run-20250313_193906-25y6h91p</code>"
      ],
      "text/plain": [
       "<IPython.core.display.HTML object>"
      ]
     },
     "metadata": {},
     "output_type": "display_data"
    },
    {
     "data": {
      "text/html": [
       "Syncing run <strong><a href=\"https://wandb.ai/andrewhz-zhang/scGPT/runs/25y6h91p\" target=\"_blank\">expert-water-130</a></strong> to <a href=\"https://wandb.ai/andrewhz-zhang/scGPT\" target=\"_blank\">Weights & Biases</a> (<a href=\"https://wandb.me/run\" target=\"_blank\">docs</a>)<br/>"
      ],
      "text/plain": [
       "<IPython.core.display.HTML object>"
      ]
     },
     "metadata": {},
     "output_type": "display_data"
    },
    {
     "name": "stdout",
     "output_type": "stream",
     "text": [
      "{'seed': 42, 'dataset_name': 'fibro', 'do_train': True, 'load_model': '/scratch/ssd004/scratch/chloexq/scGPT_models/scGPT_human_model', 'model_name': 'best_model.pt', 'GEPC': True, 'ecs_thres': 0.8, 'dab_weight': 1.0, 'mask_ratio': 0.4, 'epochs': 15, 'n_bins': 51, 'lr': 0.0001, 'batch_size': 64, 'layer_size': 128, 'nlayers': 4, 'nhead': 4, 'dropout': 0.2, 'schedule_ratio': 0.9, 'save_eval_interval': 5, 'log_interval': 100, 'fast_transformer': True, 'pre_norm': False, 'amp': True}\n"
     ]
    }
   ],
   "source": [
    "hyperparameter_defaults = dict(\n",
    "    seed=42,\n",
    "    dataset_name=\"fibro\", # Dataset name\n",
    "    do_train=True, # Flag to indicate whether to do update model parameters during training\n",
    "    load_model=\"/scratch/ssd004/scratch/chloexq/scGPT_models/scGPT_human_model\",\n",
    "    model_name=\"best_model.pt\",\n",
    "    GEPC=True,  # Gene expression modelling for cell objective\n",
    "    ecs_thres=0.8,  # Elastic cell similarity objective, 0.0 to 1.0, 0.0 to disable\n",
    "    dab_weight=1.0, # DAR objective weight for batch correction\n",
    "    mask_ratio=0.4, # Default mask ratio\n",
    "    epochs=15, # Default number of epochs for fine-tuning\n",
    "    n_bins=51, # Default number of bins for value binning in data pre-processing\n",
    "    lr=1e-4, # Default learning rate for fine-tuning\n",
    "    batch_size=64, # Default batch size for fine-tuning\n",
    "    layer_size=128,\n",
    "    nlayers=4,\n",
    "    nhead=4, # if load model, batch_size, layer_size, nlayers, nhead will be ignored\n",
    "    dropout=0.2, # Default dropout rate during model fine-tuning\n",
    "    schedule_ratio=0.9,  # Default rate for learning rate decay\n",
    "    save_eval_interval=5, # Default model evaluation interval\n",
    "    log_interval=100, # Default log interval\n",
    "    fast_transformer=True, # Default setting\n",
    "    pre_norm=False, # Default setting\n",
    "    amp=True,  # # Default setting: Automatic Mixed Precision\n",
    ")\n",
    "run = wandb.init(\n",
    "    config=hyperparameter_defaults,\n",
    "    project=\"scGPT\",\n",
    "    reinit=True,\n",
    "    settings=wandb.Settings(start_method=\"fork\"),\n",
    ")\n",
    "config = wandb.config\n",
    "print(config)\n",
    "\n",
    "set_seed(config.seed)"
   ]
  },
  {
   "cell_type": "code",
   "execution_count": 29,
   "metadata": {},
   "outputs": [
    {
     "name": "stdout",
     "output_type": "stream",
     "text": [
      "save to /scratch/ssd004/scratch/ahz/perturb/dev_fibro-Mar13-19-39\n"
     ]
    }
   ],
   "source": [
    "# settings for input and preprocessing\n",
    "pad_token = \"<pad>\"\n",
    "special_tokens = [pad_token, \"<cls>\", \"<eoc>\"]\n",
    "mask_ratio = config.mask_ratio\n",
    "mask_value = -1\n",
    "pad_value = -2\n",
    "n_input_bins = config.n_bins\n",
    "\n",
    "n_hvg = 1200  # number of highly variable genes\n",
    "max_seq_len = n_hvg + 1\n",
    "per_seq_batch_sample = True\n",
    "DSBN = True  # Domain-spec batchnorm\n",
    "explicit_zero_prob = True  # whether explicit bernoulli for zeros\n",
    "\n",
    "dataset_name = config.dataset_name\n",
    "save_dir = Path(f\"/scratch/ssd004/scratch/ahz/perturb/dev_{dataset_name}-{time.strftime('%b%d-%H-%M')}/\")\n",
    "save_dir.mkdir(parents=True, exist_ok=True)\n",
    "print(f\"save to {save_dir}\")"
   ]
  },
  {
   "cell_type": "code",
   "execution_count": 31,
   "metadata": {},
   "outputs": [
    {
     "name": "stdout",
     "output_type": "stream",
     "text": [
      "match 954/1229 genes in vocabulary of size 60697.\n",
      "Resume model from /scratch/ssd004/scratch/chloexq/scGPT_models/scGPT_human_model/best_model.pt, the model args will be overriden by the config /scratch/ssd004/scratch/chloexq/scGPT_models/scGPT_human_model/args.json.\n"
     ]
    }
   ],
   "source": [
    "if config.load_model is not None:\n",
    "    model_dir = Path(config.load_model)\n",
    "    model_config_file = model_dir / \"args.json\"\n",
    "    model_file = model_dir / config.model_name\n",
    "    vocab_file = model_dir / \"vocab.json\"\n",
    "\n",
    "    vocab = GeneVocab.from_file(vocab_file)\n",
    "    for s in special_tokens:\n",
    "        if s not in vocab:\n",
    "            vocab.append_token(s)\n",
    "\n",
    "    adata.var[\"id_in_vocab\"] = [\n",
    "        1 if gene in vocab else -1 for gene in adata.var.index\n",
    "    ]\n",
    "    gene_ids_in_vocab = np.array(adata.var[\"id_in_vocab\"])\n",
    "    print(\n",
    "        f\"match {np.sum(gene_ids_in_vocab >= 0)}/{len(gene_ids_in_vocab)} genes \"\n",
    "        f\"in vocabulary of size {len(vocab)}.\"\n",
    "    )\n",
    "    adata = adata[:, adata.var[\"id_in_vocab\"] >= 0]\n",
    "    \n",
    "    # model\n",
    "    with open(model_config_file, \"r\") as f:\n",
    "        model_configs = json.load(f)\n",
    "    print(\n",
    "        f\"Resume model from {model_file}, the model args will be overriden by the \"\n",
    "        f\"config {model_config_file}.\"\n",
    "    )\n",
    "    embsize = model_configs[\"embsize\"]\n",
    "    nhead = model_configs[\"nheads\"]\n",
    "    d_hid = model_configs[\"d_hid\"]\n",
    "    nlayers = model_configs[\"nlayers\"]\n",
    "    n_layers_cls = model_configs[\"n_layers_cls\"]\n",
    "else:\n",
    "    embsize = config.layer_size \n",
    "    nhead = config.nhead\n",
    "    nlayers = config.nlayers  \n",
    "    d_hid = config.layer_size"
   ]
  },
  {
   "cell_type": "code",
   "execution_count": 39,
   "metadata": {},
   "outputs": [
    {
     "name": "stdout",
     "output_type": "stream",
     "text": [
      "scGPT - INFO - Binning data ...\n"
     ]
    }
   ],
   "source": [
    "# This step for binning\n",
    "preprocessor = Preprocessor(\n",
    "    use_key=\"X\",  # the key in adata.layers to use as raw data\n",
    "    filter_gene_by_counts=0,  # step 1\n",
    "    filter_cell_by_counts=None,  # step 2\n",
    "    normalize_total=None,  # 3. whether to normalize the raw data and to what sum\n",
    "    result_normed_key=\"X_normed\",  # the key in adata.layers to store the normalized data\n",
    "    log1p=False,  # 4. whether to log1p the normalized data\n",
    "    result_log1p_key=\"X_log1p\",\n",
    "    subset_hvg=None,  # 5. whether to subset the raw data to highly variable genes\n",
    "    hvg_flavor=\"seurat_v3\" if data_is_raw else \"cell_ranger\",\n",
    "    binning=config.n_bins,  # 6. whether to bin the raw data and to what number of bins\n",
    "    result_binned_key=\"X_binned\",  # the key in adata.layers to store the binned data\n",
    ")\n",
    "preprocessor(adata, batch_key=None)"
   ]
  },
  {
   "cell_type": "code",
   "execution_count": 40,
   "metadata": {},
   "outputs": [],
   "source": [
    "genes = adata.var.index.tolist()\n",
    "if config.load_model is None:\n",
    "    vocab = Vocab(\n",
    "        VocabPybind(genes + special_tokens, None)\n",
    "    )  # bidirectional lookup [gene <-> int]\n",
    "vocab.set_default_index(vocab[\"<pad>\"])\n",
    "gene_ids = np.array(vocab(genes), dtype=int)\n",
    "adata.obs['batch_id'] = adata.obs['condition'].copy()\n",
    "batch_ids = adata.obs[\"batch_id\"].tolist()\n",
    "num_batch_types = len(set(batch_ids))\n",
    "input_layer_key = \"X_binned\"\n",
    "\n",
    "device = torch.device(\"cuda\" if torch.cuda.is_available() else \"cpu\")\n",
    "\n",
    "ntokens = len(vocab)  # size of vocabulary\n",
    "model = TransformerModel(\n",
    "    ntokens,\n",
    "    embsize,\n",
    "    nhead,\n",
    "    d_hid,\n",
    "    nlayers,\n",
    "    vocab=vocab,\n",
    "    dropout=config.dropout,\n",
    "    pad_token=pad_token,\n",
    "    pad_value=pad_value,\n",
    "    do_mvc=config.GEPC,\n",
    "    do_dab=True,\n",
    "    use_batch_labels=False,\n",
    "    num_batch_labels=num_batch_types,\n",
    "    domain_spec_batchnorm=False,\n",
    "    n_input_bins=n_input_bins,\n",
    "    ecs_threshold=config.ecs_thres,\n",
    "    explicit_zero_prob=explicit_zero_prob,\n",
    "    use_fast_transformer=config.fast_transformer,\n",
    "    pre_norm=config.pre_norm,\n",
    ")\n",
    "if config.load_model is not None:\n",
    "    load_pretrained(model, torch.load(model_file), verbose=False)"
   ]
  },
  {
   "cell_type": "code",
   "execution_count": 41,
   "metadata": {},
   "outputs": [],
   "source": [
    "model.eval()\n",
    "adata_t = adata.copy()"
   ]
  },
  {
   "cell_type": "code",
   "execution_count": 44,
   "metadata": {},
   "outputs": [
    {
     "data": {
      "text/plain": [
       "AnnData object with n_obs × n_vars = 83476 × 954\n",
       "    obs: 'sample', 'species', 'gene_count', 'tscp_count', 'mread_count', 'bc1_wind', 'bc2_wind', 'bc3_wind', 'bc1_well', 'bc2_well', 'bc3_well', 'id', 'drugname_drugconc', 'drug', 'INT_ID', 'NUM.SNPS', 'NUM.READS', 'demuxlet_call', 'BEST.GUESS', 'BEST.LLK', 'NEXT.GUESS', 'NEXT.LLK', 'DIFF.LLK.BEST.NEXT', 'BEST.POSTERIOR', 'SNG.POSTERIOR', 'cell_line', 'SNG.BEST.LLK', 'SNG.NEXT.GUESS', 'SNG.NEXT.LLK', 'SNG.ONLY.POSTERIOR', 'DBL.BEST.GUESS', 'DBL.BEST.LLK', 'DIFF.LLK.SNG.DBL', 'sublibrary', 'BARCODE', 'pcnt_mito', 'S_score', 'G2M_score', 'phase', 'cell_line_orig', 'pass_filter', 'cell_name', 'condition', 'dosage', 'gene_target', 'batch_id'\n",
       "    var: 'highly_variable', 'highly_variable_rank', 'means', 'variances', 'variances_norm', 'id_in_vocab'\n",
       "    uns: 'hvg', 'log1p', 'wilcoxon'\n",
       "    obsm: 'bin_edges'\n",
       "    layers: 'X_binned'"
      ]
     },
     "execution_count": 44,
     "metadata": {},
     "output_type": "execute_result"
    }
   ],
   "source": [
    "adata"
   ]
  },
  {
   "cell_type": "code",
   "execution_count": 45,
   "metadata": {},
   "outputs": [],
   "source": [
    "all_counts = (\n",
    "    adata_t.layers[input_layer_key].A\n",
    "    if issparse(adata_t.layers[input_layer_key])\n",
    "    else adata_t.layers[input_layer_key]\n",
    ")\n",
    "celltypes_labels = adata_t.obs[\"cell_line\"].tolist()\n",
    "celltypes_labels = np.array(celltypes_labels)\n",
    "\n",
    "batch_ids = adata_t.obs[\"batch_id\"].tolist()\n",
    "batch_ids = np.array(batch_ids)\n",
    "\n",
    "tokenized_all = tokenize_and_pad_batch(\n",
    "    all_counts,\n",
    "    gene_ids,\n",
    "    max_len=max_len,\n",
    "    vocab=vocab,\n",
    "    pad_token=pad_token,\n",
    "    pad_value=pad_value,\n",
    "    append_cls=True,  # append <cls> token at the beginning\n",
    "    include_zero_gene=True,\n",
    ")\n",
    "all_gene_ids, all_values = tokenized_all[\"genes\"], tokenized_all[\"values\"]\n",
    "src_key_padding_mask = all_gene_ids.eq(vocab[pad_token])"
   ]
  },
  {
   "cell_type": "code",
   "execution_count": 46,
   "metadata": {},
   "outputs": [
    {
     "name": "stderr",
     "output_type": "stream",
     "text": [
      "100%|███████████████████████████████████████████████████████████████████████████████████████████████████████████████████████████████████████████████████████████████████████████████████████████████████████████████████████████████████████████████████████████████████████████████████████████████████████████████████████████████████████████████████████████████████| 1305/1305 [08:13<00:00,  2.64it/s]\n"
     ]
    }
   ],
   "source": [
    "model.to(device)\n",
    "wandb.watch(model)\n",
    "\n",
    "with torch.no_grad(), torch.cuda.amp.autocast(enabled=config.amp):\n",
    "    gene_embeddings = model.encode_batch(\n",
    "        all_gene_ids,\n",
    "        all_values.float(),\n",
    "        src_key_padding_mask=src_key_padding_mask,\n",
    "        batch_size=config.batch_size,\n",
    "        batch_labels=None,\n",
    "        return_np=True,\n",
    "    )"
   ]
  },
  {
   "cell_type": "code",
   "execution_count": 47,
   "metadata": {},
   "outputs": [
    {
     "data": {
      "text/plain": [
       "(83476, 955, 512)"
      ]
     },
     "execution_count": 47,
     "metadata": {},
     "output_type": "execute_result"
    }
   ],
   "source": [
    "gene_embeddings.shape"
   ]
  },
  {
   "cell_type": "code",
   "execution_count": 49,
   "metadata": {},
   "outputs": [],
   "source": [
    "condition_ids = np.array(adata_t.obs[\"condition\"].tolist())"
   ]
  },
  {
   "cell_type": "code",
   "execution_count": 50,
   "metadata": {},
   "outputs": [
    {
     "data": {
      "text/plain": [
       "array(['Irinotecan', 'Irinotecan', 'Irinotecan', ..., 'ctrl', 'ctrl',\n",
       "       'ctrl'], dtype='<U28')"
      ]
     },
     "execution_count": 50,
     "metadata": {},
     "output_type": "execute_result"
    }
   ],
   "source": [
    "condition_ids"
   ]
  },
  {
   "cell_type": "code",
   "execution_count": 51,
   "metadata": {},
   "outputs": [],
   "source": [
    "dict_sum_condition = {}\n",
    "for i, c in enumerate(condition_ids):\n",
    "    if c in dict_sum_condition:\n",
    "        dict_sum_condition[c]+=gene_embeddings[i, :, :]\n",
    "    else:\n",
    "        dict_sum_condition[c]=gene_embeddings[i, :, :]"
   ]
  },
  {
   "cell_type": "code",
   "execution_count": 64,
   "metadata": {},
   "outputs": [
    {
     "data": {
      "text/plain": [
       "{'Irinotecan': array([[  -75.608376,  1598.8278  ,   433.63812 , ...,    96.76154 ,\n",
       "          -120.74786 ,   429.17065 ],\n",
       "        [-1118.343   ,  1152.359   ,  1413.7582  , ...,   955.5118  ,\n",
       "          -432.051   , -1527.7611  ],\n",
       "        [ -359.18027 ,  1024.6224  ,   464.3838  , ...,   670.4485  ,\n",
       "           104.91367 ,  -182.94014 ],\n",
       "        ...,\n",
       "        [ -642.5473  ,  1382.061   ,   169.32874 , ...,   967.307   ,\n",
       "          -314.99146 ,    40.873142],\n",
       "        [ -612.7693  ,  1121.8284  ,   610.2783  , ...,   515.186   ,\n",
       "          -467.96222 ,  -393.03976 ],\n",
       "        [ -479.58228 ,   537.57806 ,   367.87045 , ...,  1157.9993  ,\n",
       "          -551.0083  ,  -532.63043 ]], dtype=float32),\n",
       " 'Alpelisib': array([[ -170.38051  ,  1889.6472   ,   543.58636  , ...,   152.00046  ,\n",
       "          -261.77637  ,   495.31927  ],\n",
       "        [-1422.2404   ,  1416.558    ,  1773.8649   , ...,  1147.0747   ,\n",
       "          -633.94916  , -1849.8033   ],\n",
       "        [ -512.36945  ,  1238.5923   ,   492.41922  , ...,   853.44794  ,\n",
       "           -41.480244 ,  -241.21074  ],\n",
       "        ...,\n",
       "        [ -857.19855  ,  1683.6898   ,   181.04247  , ...,  1203.6265   ,\n",
       "          -531.24506  ,    11.1217985],\n",
       "        [ -847.04865  ,  1376.9465   ,   740.7106   , ...,   678.1267   ,\n",
       "          -698.7299   ,  -483.39716  ],\n",
       "        [ -704.38574  ,   647.9781   ,   552.49146  , ...,  1418.4785   ,\n",
       "          -792.115    ,  -649.09985  ]], dtype=float32),\n",
       " 'venetoclax': array([[ -155.06065  ,  2080.9182   ,   613.438    , ...,   176.98244  ,\n",
       "          -314.95898  ,   538.6982   ],\n",
       "        [-1556.4364   ,  1559.5592   ,  2015.1571   , ...,  1283.0397   ,\n",
       "          -700.19653  , -2081.2583   ],\n",
       "        [ -557.235    ,  1352.4724   ,   526.07135  , ...,   940.4394   ,\n",
       "           -46.08834  ,  -275.61304  ],\n",
       "        ...,\n",
       "        [ -912.31635  ,  1864.0347   ,   192.45508  , ...,  1340.282    ,\n",
       "          -599.61743  ,     2.9977915],\n",
       "        [ -925.80975  ,  1535.3236   ,   816.9206   , ...,   762.2944   ,\n",
       "          -778.1346   ,  -560.4551   ],\n",
       "        [ -783.03424  ,   703.27997  ,   653.2792   , ...,  1582.1721   ,\n",
       "          -883.61304  ,  -731.7101   ]], dtype=float32),\n",
       " 'Capmatinib': array([[ -202.34935 ,  2116.6836  ,   636.0276  , ...,   175.37183 ,\n",
       "          -375.10156 ,   554.6785  ],\n",
       "        [-1624.3223  ,  1598.466   ,  2079.863   , ...,  1285.2678  ,\n",
       "          -748.17865 , -2110.6848  ],\n",
       "        [ -593.0024  ,  1393.8647  ,   502.6103  , ...,   952.70605 ,\n",
       "          -113.8105  ,  -257.71658 ],\n",
       "        ...,\n",
       "        [ -970.1058  ,  1903.133   ,   190.46303 , ...,  1364.3827  ,\n",
       "          -662.06287 ,    12.443658],\n",
       "        [ -988.2412  ,  1575.9354  ,   840.87714 , ...,   786.47095 ,\n",
       "          -854.9809  ,  -553.0638  ],\n",
       "        [ -858.58417 ,   724.69556 ,   681.3523  , ...,  1600.601   ,\n",
       "          -953.1087  ,  -728.67084 ]], dtype=float32),\n",
       " 'Tucatinib': array([[ -148.6492  ,  1735.6086  ,   499.63583 , ...,   144.08907 ,\n",
       "          -274.14438 ,   483.8592  ],\n",
       "        [-1312.9415  ,  1294.2302  ,  1652.4604  , ...,  1060.0713  ,\n",
       "          -588.98975 , -1694.688   ],\n",
       "        [ -460.78906 ,  1140.2141  ,   424.6137  , ...,   770.2397  ,\n",
       "           -51.706852,  -196.49738 ],\n",
       "        ...,\n",
       "        [ -766.8165  ,  1552.945   ,   159.58034 , ...,  1101.0337  ,\n",
       "          -500.91605 ,    33.3002  ],\n",
       "        [ -782.51843 ,  1284.9537  ,   675.9668  , ...,   628.79224 ,\n",
       "          -660.569   ,  -433.4888  ],\n",
       "        [ -652.0012  ,   605.4958  ,   471.2238  , ...,  1273.7869  ,\n",
       "          -742.8982  ,  -583.7441  ]], dtype=float32),\n",
       " 'Vemurafenib': array([[ -309.45764,  3569.5251 ,  1017.199  , ...,   285.3516 ,\n",
       "          -555.2451 ,   975.1017 ],\n",
       "        [-2696.2244 ,  2668.4697 ,  3395.1035 , ...,  2171.0037 ,\n",
       "         -1196.4111 , -3490.6123 ],\n",
       "        [ -960.0937 ,  2332.1975 ,   862.8275 , ...,  1566.766  ,\n",
       "           -91.72667,  -403.509  ],\n",
       "        ...,\n",
       "        [-1584.4514 ,  3188.1155 ,   325.07968, ...,  2251.9954 ,\n",
       "         -1019.68353,    65.66851],\n",
       "        [-1611.7147 ,  2640.4307 ,  1379.4434 , ...,  1274.1761 ,\n",
       "         -1352.8413 ,  -895.7465 ],\n",
       "        [-1391.0155 ,  1221.6599 ,  1089.0284 , ...,  2671.585  ,\n",
       "         -1522.1458 , -1189.7466 ]], dtype=float32),\n",
       " 'AZD-8055': array([[ -206.7907  ,  1951.8751  ,   566.52026 , ...,   173.97058 ,\n",
       "          -328.32025 ,   538.22925 ],\n",
       "        [-1533.8065  ,  1484.6675  ,  1881.7542  , ...,  1207.733   ,\n",
       "          -704.4396  , -1931.703   ],\n",
       "        [ -560.1148  ,  1304.7534  ,   456.3666  , ...,   893.634   ,\n",
       "          -118.57226 ,  -235.22803 ],\n",
       "        ...,\n",
       "        [ -916.6535  ,  1770.794   ,   169.08003 , ...,  1257.975   ,\n",
       "          -626.9794  ,     7.568418],\n",
       "        [ -936.34906 ,  1460.8804  ,   758.0136  , ...,   725.2144  ,\n",
       "          -789.6811  ,  -499.1573  ],\n",
       "        [ -797.8044  ,   681.3248  ,   563.6079  , ...,  1464.8086  ,\n",
       "          -863.13965 ,  -664.114   ]], dtype=float32),\n",
       " 'ML264': array([[ -232.2466  ,  2132.48    ,   652.97003 , ...,   191.4495  ,\n",
       "          -422.0922  ,   573.46234 ],\n",
       "        [-1696.0011  ,  1640.2675  ,  2144.516   , ...,  1324.5563  ,\n",
       "          -813.8998  , -2167.5818  ],\n",
       "        [ -646.0504  ,  1437.8273  ,   484.98975 , ...,   989.6071  ,\n",
       "          -193.87018 ,  -274.37766 ],\n",
       "        ...,\n",
       "        [-1016.96796 ,  1973.1896  ,   181.39496 , ...,  1390.1018  ,\n",
       "          -746.77356 ,   -13.222866],\n",
       "        [-1065.4075  ,  1637.9602  ,   854.0969  , ...,   825.2407  ,\n",
       "          -923.05426 ,  -567.31036 ],\n",
       "        [ -953.31195 ,   737.9348  ,   731.4858  , ...,  1617.1609  ,\n",
       "         -1019.4417  ,  -720.5231  ]], dtype=float32),\n",
       " 'RMC-6236': array([[ -317.43268,  2492.0771 ,   719.47125, ...,   250.42911,\n",
       "          -510.83978,   728.685  ],\n",
       "        [-1982.8779 ,  1919.5912 ,  2414.784  , ...,  1495.7441 ,\n",
       "          -981.6781 , -2417.0396 ],\n",
       "        [ -764.39935,  1679.8035 ,   575.51685, ...,  1142.3376 ,\n",
       "          -241.57137,  -272.2428 ],\n",
       "        ...,\n",
       "        [-1233.1927 ,  2265.4978 ,   227.9166 , ...,  1625.0648 ,\n",
       "          -876.42737,    55.86804],\n",
       "        [-1245.5641 ,  1886.5087 ,   967.2621 , ...,   956.6649 ,\n",
       "         -1098.9441 ,  -605.55664],\n",
       "        [-1100.9296 ,   849.6062 ,   814.4662 , ...,  1899.285  ,\n",
       "         -1212.5742 ,  -800.8216 ]], dtype=float32),\n",
       " 'NVP-BHG712': array([[-102.26062 ,  860.34424 ,  261.47006 , ...,   74.96518 ,\n",
       "         -192.87773 ,  237.15482 ],\n",
       "        [-696.6956  ,  675.421   ,  866.77167 , ...,  524.1962  ,\n",
       "         -352.18225 , -872.0675  ],\n",
       "        [-279.04617 ,  586.96094 ,  191.72737 , ...,  398.1694  ,\n",
       "         -105.925385, -108.267815],\n",
       "        ...,\n",
       "        [-424.14456 ,  804.9883  ,   68.48255 , ...,  557.88477 ,\n",
       "         -331.18796 ,   -9.324894],\n",
       "        [-445.64502 ,  671.52374 ,  341.1975  , ...,  335.17822 ,\n",
       "         -399.5059  , -226.87    ],\n",
       "        [-413.74887 ,  297.6517  ,  315.1272  , ...,  653.68317 ,\n",
       "         -440.72906 , -276.09525 ]], dtype=float32),\n",
       " 'ERK5-IN-2': array([[ -74.34476 ,  617.08417 ,  179.38443 , ...,   56.6904  ,\n",
       "         -123.91985 ,  179.141   ],\n",
       "        [-490.46518 ,  475.92258 ,  604.6198  , ...,  372.16638 ,\n",
       "         -235.15112 , -601.37225 ],\n",
       "        [-188.3508  ,  412.39743 ,  140.75018 , ...,  277.98978 ,\n",
       "          -55.870502,  -68.19402 ],\n",
       "        ...,\n",
       "        [-296.78    ,  565.50024 ,   52.97257 , ...,  394.7282  ,\n",
       "         -212.45198 ,   13.536099],\n",
       "        [-307.34613 ,  471.9796  ,  241.24983 , ...,  233.54588 ,\n",
       "         -266.8633  , -148.73264 ],\n",
       "        [-280.9072  ,  211.95514 ,  218.18915 , ...,  464.46408 ,\n",
       "         -296.3833  , -193.67308 ]], dtype=float32),\n",
       " 'PH-797804': array([[ -121.83428 ,  1055.3679  ,   337.04385 , ...,    94.573875,\n",
       "          -255.58672 ,   284.7808  ],\n",
       "        [ -870.31854 ,   830.96454 ,  1097.1549  , ...,   658.70197 ,\n",
       "          -453.76492 , -1120.4491  ],\n",
       "        [ -342.12216 ,   740.9316  ,   219.59679 , ...,   508.72113 ,\n",
       "          -161.79782 ,  -145.89346 ],\n",
       "        ...,\n",
       "        [ -528.3684  ,  1004.6082  ,    82.561165, ...,   704.49445 ,\n",
       "          -431.54822 ,   -31.608519],\n",
       "        [ -562.1665  ,   844.1417  ,   434.36832 , ...,   434.68115 ,\n",
       "          -516.0108  ,  -294.93002 ],\n",
       "        [ -518.8011  ,   376.2402  ,   364.51398 , ...,   806.041   ,\n",
       "          -561.2818  ,  -355.53986 ]], dtype=float32),\n",
       " 'TAK-901': array([[ -83.31888  ,  657.0751   ,  198.64288  , ...,   62.865124 ,\n",
       "         -147.11754  ,  188.58437  ],\n",
       "        [-536.90704  ,  510.11475  ,  669.5799   , ...,  407.09277  ,\n",
       "         -268.5305   , -669.2693   ],\n",
       "        [-215.3818   ,  445.45233  ,  147.45143  , ...,  307.72983  ,\n",
       "          -76.69115  ,  -74.05428  ],\n",
       "        ...,\n",
       "        [-327.83514  ,  611.274    ,   55.736492 , ...,  431.0145   ,\n",
       "         -250.35667  ,    2.2324913],\n",
       "        [-343.9552   ,  515.46155  ,  262.74457  , ...,  261.5663   ,\n",
       "         -307.69708  , -171.12569  ],\n",
       "        [-327.838    ,  219.64677  ,  251.02063  , ...,  512.1044   ,\n",
       "         -336.73813  , -204.50592  ]], dtype=float32),\n",
       " 'Sapanisertib': array([[ -128.41432 ,  1184.163   ,   378.2607  , ...,   105.86002 ,\n",
       "          -276.2623  ,   328.94055 ],\n",
       "        [ -964.66724 ,   920.8339  ,  1232.0552  , ...,   739.1356  ,\n",
       "          -481.22946 , -1231.9636  ],\n",
       "        [ -378.79434 ,   815.56696 ,   246.77928 , ...,   557.317   ,\n",
       "          -148.4518  ,  -142.24698 ],\n",
       "        ...,\n",
       "        [ -578.26    ,  1119.9526  ,    95.33026 , ...,   782.64764 ,\n",
       "          -464.3494  ,   -11.764445],\n",
       "        [ -617.45715 ,   939.68335 ,   480.85345 , ...,   474.33197 ,\n",
       "          -559.7839  ,  -318.73502 ],\n",
       "        [ -579.23236 ,   406.7357  ,   435.89    , ...,   910.4994  ,\n",
       "          -607.5581  ,  -374.20505 ]], dtype=float32),\n",
       " '9-ING-41': array([[-105.83785  ,  789.91876  ,  245.39574  , ...,   75.29796  ,\n",
       "         -193.48323  ,  228.94873  ],\n",
       "        [-656.20306  ,  624.523    ,  812.647    , ...,  480.7937   ,\n",
       "         -342.6145   , -804.207    ],\n",
       "        [-265.38663  ,  558.36505  ,  161.30504  , ...,  374.50735  ,\n",
       "         -121.201385 ,  -89.35345  ],\n",
       "        ...,\n",
       "        [-411.77423  ,  752.7299   ,   65.53364  , ...,  519.52655  ,\n",
       "         -323.19324  ,   -5.4712396],\n",
       "        [-429.54724  ,  635.81604  ,  321.68738  , ...,  316.43033  ,\n",
       "         -387.93732  , -207.42949  ],\n",
       "        [-406.34357  ,  273.0909   ,  299.09995  , ...,  602.4957   ,\n",
       "         -421.15372  , -237.18575  ]], dtype=float32),\n",
       " 'PF-06260933': array([[ -146.45007  ,  1296.9331   ,   375.10632  , ...,   118.24501  ,\n",
       "          -257.16583  ,   359.4135   ],\n",
       "        [-1021.9935   ,   999.6124   ,  1274.568    , ...,   791.6913   ,\n",
       "          -497.10608  , -1288.4133   ],\n",
       "        [ -389.80307  ,   874.8135   ,   289.41315  , ...,   595.51215  ,\n",
       "          -115.62765  ,  -153.30875  ],\n",
       "        ...,\n",
       "        [ -617.332    ,  1193.1821   ,   106.98025  , ...,   834.06714  ,\n",
       "          -452.5986   ,     2.2355504],\n",
       "        [ -641.0968   ,   992.552    ,   503.27087  , ...,   494.11246  ,\n",
       "          -563.2711   ,  -337.00146  ],\n",
       "        [ -592.0396   ,   440.34778  ,   470.04828  , ...,   991.89264  ,\n",
       "          -628.6092   ,  -407.62097  ]], dtype=float32),\n",
       " 'LY-2584702 (tosylate salt)': array([[ -76.74812 ,  621.4656  ,  192.37982 , ...,   56.098114,\n",
       "         -145.174   ,  173.6936  ],\n",
       "        [-503.96295 ,  487.52826 ,  633.2652  , ...,  374.756   ,\n",
       "         -258.4378  , -628.6153  ],\n",
       "        [-201.27032 ,  427.51254 ,  133.50064 , ...,  285.91275 ,\n",
       "          -82.337776,  -74.06607 ],\n",
       "        ...,\n",
       "        [-311.6955  ,  583.07294 ,   52.09415 , ...,  403.97452 ,\n",
       "         -239.70753 ,   -4.073284],\n",
       "        [-324.35056 ,  491.29236 ,  250.61096 , ...,  241.91106 ,\n",
       "         -293.12714 , -164.84581 ],\n",
       "        [-300.93262 ,  217.1613  ,  220.46027 , ...,  465.91248 ,\n",
       "         -318.77652 , -200.98398 ]], dtype=float32),\n",
       " 'Sonidegib': array([[-101.969055 ,  782.4681   ,  239.31313  , ...,   72.29584  ,\n",
       "         -192.76808  ,  231.18645  ],\n",
       "        [-643.42145  ,  617.127    ,  801.5301   , ...,  473.68668  ,\n",
       "         -334.08533  , -788.70593  ],\n",
       "        [-255.32239  ,  547.0151   ,  163.09496  , ...,  358.80954  ,\n",
       "         -120.838715 ,  -89.92846  ],\n",
       "        ...,\n",
       "        [-397.83215  ,  739.4387   ,   62.156357 , ...,  506.9284   ,\n",
       "         -311.42612  ,    1.1903932],\n",
       "        [-417.70737  ,  628.8417   ,  314.4714   , ...,  307.79413  ,\n",
       "         -383.04276  , -203.56389  ],\n",
       "        [-395.0668   ,  274.56195  ,  281.4863   , ...,  586.85254  ,\n",
       "         -414.77133  , -238.05698  ]], dtype=float32),\n",
       " 'EX229': array([[ -168.31816 ,  1546.2843  ,   478.27414 , ...,   136.5309  ,\n",
       "          -345.12097 ,   443.35205 ],\n",
       "        [-1247.3428  ,  1195.966   ,  1583.8068  , ...,   961.0087  ,\n",
       "          -607.97675 , -1577.5886  ],\n",
       "        [ -483.9233  ,  1057.0021  ,   329.82925 , ...,   715.7523  ,\n",
       "          -176.36282 ,  -175.9421  ],\n",
       "        ...,\n",
       "        [ -741.3698  ,  1454.0931  ,   123.021164, ...,  1009.59546 ,\n",
       "          -574.8847  ,     5.700604],\n",
       "        [ -789.94165 ,  1224.275   ,   618.1562  , ...,   606.55005 ,\n",
       "          -712.52014 ,  -403.39365 ],\n",
       "        [ -740.6869  ,   536.1134  ,   552.5778  , ...,  1177.8574  ,\n",
       "          -777.76056 ,  -490.54565 ]], dtype=float32),\n",
       " 'MK-3903': array([[ -88.75219 ,  902.38715 ,  271.78787 , ...,   78.55379 ,\n",
       "         -167.11191 ,  245.85759 ],\n",
       "        [-705.1062  ,  691.20715 ,  898.59503 , ...,  554.9854  ,\n",
       "         -334.5802  , -907.5921  ],\n",
       "        [-268.58472 ,  600.83813 ,  211.75194 , ...,  411.39395 ,\n",
       "          -66.031136, -113.1986  ],\n",
       "        ...,\n",
       "        [-421.60303 ,  829.3795  ,   78.598495, ...,  582.7827  ,\n",
       "         -303.39218 ,    1.024492],\n",
       "        [-436.43237 ,  688.19147 ,  357.68668 , ...,  340.00623 ,\n",
       "         -377.43347 , -237.15613 ],\n",
       "        [-396.42554 ,  307.21085 ,  322.22247 , ...,  690.8338  ,\n",
       "         -422.94937 , -300.9235  ]], dtype=float32),\n",
       " 'Bortezomib': array([[ -153.66837 ,  1553.8059  ,   368.84482 , ...,   236.45625 ,\n",
       "          -451.69415 ,   468.22647 ],\n",
       "        [-1240.028   ,  1181.997   ,  1487.2018  , ...,   960.0457  ,\n",
       "          -673.8838  , -1590.4054  ],\n",
       "        [ -475.30344 ,  1060.7721  ,   273.9219  , ...,   732.70807 ,\n",
       "          -256.88608 ,  -195.34319 ],\n",
       "        ...,\n",
       "        [ -698.92737 ,  1491.6898  ,    78.49174 , ...,  1036.156   ,\n",
       "          -652.8678  ,   -37.048313],\n",
       "        [ -779.53015 ,  1263.4576  ,   516.70917 , ...,   627.74677 ,\n",
       "          -806.8166  ,  -457.15002 ],\n",
       "        [ -746.7203  ,   547.4339  ,   481.50635 , ...,  1165.5823  ,\n",
       "          -859.4851  ,  -466.0291  ]], dtype=float32),\n",
       " 'Belzutifan': array([[ -150.4448  ,  1399.6823  ,   415.22437 , ...,   124.12563 ,\n",
       "          -251.82417 ,   374.36304 ],\n",
       "        [-1098.9901  ,  1062.7572  ,  1380.6077  , ...,   862.36365 ,\n",
       "          -518.24    , -1407.0613  ],\n",
       "        [ -413.18414 ,   933.2917  ,   331.72342 , ...,   645.8288  ,\n",
       "          -103.38813 ,  -188.7698  ],\n",
       "        ...,\n",
       "        [ -665.8127  ,  1275.1486  ,   126.104904, ...,   907.2214  ,\n",
       "          -464.75232 ,    -2.542144],\n",
       "        [ -679.6267  ,  1054.7808  ,   552.5618  , ...,   531.468   ,\n",
       "          -581.1918  ,  -371.27994 ],\n",
       "        [ -617.0202  ,   470.0619  ,   506.5773  , ...,  1079.7557  ,\n",
       "          -651.0895  ,  -464.988   ]], dtype=float32),\n",
       " 'Pralsetinib': array([[  -99.55533 ,  1170.0374  ,   327.6897  , ...,   100.58606 ,\n",
       "          -167.66045 ,   329.67584 ],\n",
       "        [ -868.7214  ,   881.3614  ,  1100.6235  , ...,   703.4553  ,\n",
       "          -378.44336 , -1122.4935  ],\n",
       "        [ -308.9036  ,   765.46655 ,   284.958   , ...,   509.97275 ,\n",
       "            -9.148474,  -119.6535  ],\n",
       "        ...,\n",
       "        [ -516.16504 ,  1044.171   ,   110.42943 , ...,   732.7577  ,\n",
       "          -318.844   ,    31.053333],\n",
       "        [ -518.7312  ,   862.41016 ,   448.58295 , ...,   412.60986 ,\n",
       "          -425.29175 ,  -286.17807 ],\n",
       "        [ -436.86023 ,   396.99268 ,   350.3601  , ...,   866.4816  ,\n",
       "          -478.89883 ,  -380.6898  ]], dtype=float32),\n",
       " 'TAK-733': array([[ -70.47032  ,  799.7652   ,  225.8216   , ...,   61.67011  ,\n",
       "         -115.3877   ,  218.52878  ],\n",
       "        [-602.22125  ,  597.54706  ,  750.64154  , ...,  482.59882  ,\n",
       "         -261.0594   , -777.1496   ],\n",
       "        [-207.57793  ,  531.5623   ,  193.98706  , ...,  349.3472   ,\n",
       "          -17.37967  ,  -93.07022  ],\n",
       "        ...,\n",
       "        [-354.94833  ,  710.9885   ,   71.81191  , ...,  499.35165  ,\n",
       "         -219.72899  ,   12.8791485],\n",
       "        [-355.33292  ,  589.85394  ,  307.5715   , ...,  279.2414   ,\n",
       "         -294.50903  , -199.28459  ],\n",
       "        [-307.67316  ,  274.06314  ,  239.71498  , ...,  595.65533  ,\n",
       "         -335.89185  , -264.52567  ]], dtype=float32),\n",
       " 'Elimusertib hydrochloride': array([[ -227.25371 ,  2088.751   ,   636.74    , ...,   177.89743 ,\n",
       "          -478.3323  ,   562.5693  ],\n",
       "        [-1671.717   ,  1617.419   ,  2112.153   , ...,  1278.1105  ,\n",
       "          -837.29736 , -2132.9272  ],\n",
       "        [ -626.46674 ,  1413.6202  ,   426.02768 , ...,   971.49854 ,\n",
       "          -250.44037 ,  -249.43654 ],\n",
       "        ...,\n",
       "        [ -987.5276  ,  1931.7844  ,   157.90489 , ...,  1366.0946  ,\n",
       "          -785.5844  ,   -16.192669],\n",
       "        [-1045.5681  ,  1614.5574  ,   826.4557  , ...,   813.37634 ,\n",
       "          -969.9091  ,  -556.5151  ],\n",
       "        [ -949.261   ,   736.7956  ,   681.39685 , ...,  1576.3389  ,\n",
       "         -1062.8638  ,  -713.65704 ]], dtype=float32),\n",
       " 'AZD1390': array([[ -155.96596  ,  1390.477    ,   417.1376   , ...,   119.999176 ,\n",
       "          -280.93167  ,   381.3166   ],\n",
       "        [-1105.1259   ,  1065.4625   ,  1375.6008   , ...,   851.49207  ,\n",
       "          -534.2055   , -1387.6677   ],\n",
       "        [ -420.32693  ,   939.9889   ,   317.84616  , ...,   626.83386  ,\n",
       "          -130.20944  ,  -170.41881  ],\n",
       "        ...,\n",
       "        [ -664.18787  ,  1276.1927   ,   118.47804  , ...,   893.8836   ,\n",
       "          -480.05545  ,     2.1840498],\n",
       "        [ -689.31616  ,  1066.5083   ,   551.8265   , ...,   524.154    ,\n",
       "          -603.2686   ,  -360.91116  ],\n",
       "        [ -630.20654  ,   478.18686  ,   486.9832   , ...,  1056.6923   ,\n",
       "          -675.46686  ,  -454.43378  ]], dtype=float32),\n",
       " '4EGI-1': array([[ -197.29742 ,  2470.3816  ,   687.5376  , ...,   169.37389 ,\n",
       "          -253.25635 ,   662.8188  ],\n",
       "        [-1841.9326  ,  1811.1473  ,  2256.5925  , ...,  1513.3204  ,\n",
       "          -742.53296 , -2404.6475  ],\n",
       "        [ -604.04803 ,  1622.9241  ,   614.6601  , ...,  1100.0438  ,\n",
       "            51.85662 ,  -273.72964 ],\n",
       "        ...,\n",
       "        [-1082.5365  ,  2166.3938  ,   239.1277  , ...,  1538.7968  ,\n",
       "          -592.0064  ,    33.669155],\n",
       "        [-1054.4796  ,  1770.7665  ,   945.0542  , ...,   845.9406  ,\n",
       "          -830.5387  ,  -609.0064  ],\n",
       "        [ -877.5249  ,   833.03296 ,   672.6131  , ...,  1845.8398  ,\n",
       "          -937.72974 ,  -839.7839  ]], dtype=float32),\n",
       " 'Ixazomib': array([[ -218.03523  ,  2433.5337   ,   714.59625  , ...,   193.20778  ,\n",
       "          -372.27313  ,   636.01385  ],\n",
       "        [-1849.7804   ,  1831.3326   ,  2340.7017   , ...,  1484.0688   ,\n",
       "          -817.0835   , -2413.6174   ],\n",
       "        [ -667.2299   ,  1590.0323   ,   590.95935  , ...,  1093.6615   ,\n",
       "           -79.08335  ,  -304.8081   ],\n",
       "        ...,\n",
       "        [-1087.7675   ,  2183.4702   ,   221.8111   , ...,  1541.797    ,\n",
       "          -714.8321   ,     6.0992503],\n",
       "        [-1107.456    ,  1799.283    ,   954.79315  , ...,   872.3649   ,\n",
       "          -923.17426  ,  -634.7399   ],\n",
       "        [ -965.9687   ,   828.35736  ,   795.1555   , ...,  1833.475    ,\n",
       "         -1041.7485   ,  -826.3005   ]], dtype=float32),\n",
       " 'OTS514': array([[ -195.52219,  1833.0712 ,   569.3464 , ...,   156.28455,\n",
       "          -374.45776,   465.2892 ],\n",
       "        [-1467.1492 ,  1401.0953 ,  1872.9658 , ...,  1155.1147 ,\n",
       "          -712.0867 , -1916.9791 ],\n",
       "        [ -549.3042 ,  1233.7385 ,   394.71158, ...,   873.8408 ,\n",
       "          -186.19969,  -255.23965],\n",
       "        ...,\n",
       "        [ -875.2585 ,  1690.2831 ,   148.39021, ...,  1213.0116 ,\n",
       "          -656.58765,   -40.80258],\n",
       "        [ -918.22614,  1406.9073 ,   741.3375 , ...,   730.4138 ,\n",
       "          -814.0238 ,  -515.393  ],\n",
       "        [ -840.7158 ,   628.5359 ,   649.5986 , ...,  1419.3958 ,\n",
       "          -899.8328 ,  -636.40466]], dtype=float32),\n",
       " 'AZD-7648': array([[ -79.78223  ,  698.0593   ,  208.6976   , ...,   61.320198 ,\n",
       "         -146.00185  ,  194.79181  ],\n",
       "        [-553.3865   ,  543.8207   ,  696.7439   , ...,  418.9169   ,\n",
       "         -269.85422  , -689.6148   ],\n",
       "        [-212.52711  ,  475.68454  ,  147.18118  , ...,  315.07422  ,\n",
       "          -72.4252   ,  -79.18854  ],\n",
       "        ...,\n",
       "        [-336.42834  ,  646.66376  ,   59.600925 , ...,  445.89322  ,\n",
       "         -248.77669  ,    4.3863463],\n",
       "        [-350.112    ,  537.91345  ,  274.67017  , ...,  262.80194  ,\n",
       "         -308.6151   , -178.7152   ],\n",
       "        [-323.73615  ,  238.2283   ,  258.778    , ...,  529.45593  ,\n",
       "         -342.49933  , -220.20131  ]], dtype=float32),\n",
       " 'Methylprednisolone succinate': array([[-7.9747551e+01,  7.0961792e+02,  2.2105577e+02, ...,\n",
       "          5.9137421e+01, -1.6258638e+02,  2.0101674e+02],\n",
       "        [-5.7446564e+02,  5.5011523e+02,  7.2557172e+02, ...,\n",
       "          4.3415744e+02, -2.8490405e+02, -7.2757330e+02],\n",
       "        [-2.2387671e+02,  4.8170200e+02,  1.4742717e+02, ...,\n",
       "          3.2527011e+02, -8.6492432e+01, -8.2552330e+01],\n",
       "        ...,\n",
       "        [-3.4162720e+02,  6.6322943e+02,  5.7344879e+01, ...,\n",
       "          4.6101065e+02, -2.7207980e+02, -4.1690892e-01],\n",
       "        [-3.6545325e+02,  5.5557233e+02,  2.8325717e+02, ...,\n",
       "          2.7634854e+02, -3.3351978e+02, -1.8580275e+02],\n",
       "        [-3.4634479e+02,  2.3807889e+02,  2.6959015e+02, ...,\n",
       "          5.4232764e+02, -3.6308374e+02, -2.1888533e+02]], dtype=float32),\n",
       " 'Celecoxib': array([[ -118.97825 ,  1015.9589  ,   318.26782 , ...,    83.38357 ,\n",
       "          -231.86789 ,   273.07263 ],\n",
       "        [ -832.0012  ,   798.32495 ,  1038.5267  , ...,   625.2921  ,\n",
       "          -423.40817 , -1052.2693  ],\n",
       "        [ -325.58096 ,   705.2658  ,   202.95891 , ...,   481.21814 ,\n",
       "          -138.10895 ,  -126.96921 ],\n",
       "        ...,\n",
       "        [ -500.94016 ,   958.45856 ,    77.82331 , ...,   667.1998  ,\n",
       "          -396.39893 ,   -21.358927],\n",
       "        [ -530.62726 ,   800.5076  ,   407.30475 , ...,   403.87457 ,\n",
       "          -480.51486 ,  -271.88947 ],\n",
       "        [ -502.82056 ,   348.2222  ,   381.4607  , ...,   781.93286 ,\n",
       "          -526.1494  ,  -321.8301  ]], dtype=float32),\n",
       " 'HI-TOPK-032': array([[ -179.06871,  1622.6538 ,   472.0244 , ...,   157.15974,\n",
       "          -334.80035,   483.64804],\n",
       "        [-1287.095  ,  1259.418  ,  1606.861  , ...,   979.7667 ,\n",
       "          -624.72235, -1583.582  ],\n",
       "        [ -496.84055,  1093.2122 ,   344.14145, ...,   723.79297,\n",
       "          -147.6227 ,  -149.97214],\n",
       "        ...,\n",
       "        [ -774.2692 ,  1500.1376 ,   132.46675, ...,  1032.8811 ,\n",
       "          -560.66486,    37.52853],\n",
       "        [ -817.44073,  1255.5021 ,   630.6444 , ...,   618.807  ,\n",
       "          -710.633  ,  -397.66006],\n",
       "        [ -758.5784 ,   539.8954 ,   616.7222 , ...,  1234.4894 ,\n",
       "          -785.4593 ,  -479.9032 ]], dtype=float32),\n",
       " 'Anastrozole': array([[ -262.10703 ,  3148.8347  ,   885.88666 , ...,   226.62894 ,\n",
       "          -413.3941  ,   848.745   ],\n",
       "        [-2344.88    ,  2362.9182  ,  2930.0203  , ...,  1902.3428  ,\n",
       "         -1007.0863  , -3053.5994  ],\n",
       "        [ -802.8199  ,  2063.4612  ,   769.39374 , ...,  1377.9178  ,\n",
       "           -16.376417,  -350.564   ],\n",
       "        ...,\n",
       "        [-1383.2367  ,  2783.9954  ,   299.74734 , ...,  1957.9514  ,\n",
       "          -813.6782  ,    60.190704],\n",
       "        [-1378.9103  ,  2282.359   ,  1215.6748  , ...,  1097.7996  ,\n",
       "         -1112.6719  ,  -771.82666 ],\n",
       "        [-1193.3934  ,  1063.8103  ,   993.95514 , ...,  2355.8823  ,\n",
       "         -1267.3336  , -1036.8231  ]], dtype=float32),\n",
       " 'ctrl': array([[ -497.40366 ,  4845.365   ,  1426.8914  , ...,   392.00336 ,\n",
       "          -713.3199  ,  1262.0391  ],\n",
       "        [-3702.489   ,  3640.4736  ,  4644.3096  , ...,  2990.9326  ,\n",
       "         -1638.0975  , -4806.979   ],\n",
       "        [-1339.3693  ,  3171.4956  ,  1209.9106  , ...,  2203.5667  ,\n",
       "          -134.99759 ,  -602.56323 ],\n",
       "        ...,\n",
       "        [-2246.0867  ,  4327.4624  ,   459.0731  , ...,  3118.439   ,\n",
       "         -1383.2153  ,    30.387264],\n",
       "        [-2236.8943  ,  3554.0076  ,  1933.7339  , ...,  1781.8512  ,\n",
       "         -1806.5123  , -1225.214   ],\n",
       "        [-1947.4321  ,  1623.082   ,  1580.3175  , ...,  3689.2368  ,\n",
       "         -2033.4683  , -1667.3916  ]], dtype=float32)}"
      ]
     },
     "execution_count": 64,
     "metadata": {},
     "output_type": "execute_result"
    }
   ],
   "source": [
    "dict_sum_condition"
   ]
  },
  {
   "cell_type": "code",
   "execution_count": 52,
   "metadata": {},
   "outputs": [],
   "source": [
    "dict_sum_condition_mean = {}\n",
    "groups = adata_t.obs.groupby('condition').groups\n",
    "for i in groups.keys():\n",
    "    dict_sum_condition_mean[i] = dict_sum_condition[i]/len(groups[i])"
   ]
  },
  {
   "cell_type": "code",
   "execution_count": 53,
   "metadata": {},
   "outputs": [
    {
     "data": {
      "text/plain": [
       "dict_keys(['4EGI-1', '9-ING-41', 'AZD1390', 'AZD-7648', 'AZD-8055', 'Alpelisib', 'Anastrozole', 'Belzutifan', 'Bortezomib', 'Capmatinib', 'Celecoxib', 'ERK5-IN-2', 'EX229', 'Elimusertib hydrochloride', 'HI-TOPK-032', 'Irinotecan', 'Ixazomib', 'LY-2584702 (tosylate salt)', 'MK-3903', 'ML264', 'Methylprednisolone succinate', 'NVP-BHG712', 'OTS514', 'PF-06260933', 'PH-797804', 'Pralsetinib', 'RMC-6236', 'Sapanisertib', 'Sonidegib', 'TAK-733', 'TAK-901', 'Tucatinib', 'Vemurafenib', 'ctrl', 'venetoclax'])"
      ]
     },
     "execution_count": 53,
     "metadata": {},
     "output_type": "execute_result"
    }
   ],
   "source": [
    "dict_sum_condition_mean.keys()"
   ]
  },
  {
   "cell_type": "code",
   "execution_count": 67,
   "metadata": {},
   "outputs": [],
   "source": [
    "dict_sum_target_gene_mean = {drug_target_map[drug] : dict_sum_condition_mean[drug] for drug in dict_sum_condition_mean.keys()}"
   ]
  },
  {
   "cell_type": "code",
   "execution_count": 79,
   "metadata": {},
   "outputs": [],
   "source": [
    "def is_one_to_one_mapping(d):\n",
    "    \"\"\"\n",
    "    Checks if a dictionary represents a one-to-one mapping.\n",
    "    Returns True if it is, otherwise returns False and a dictionary\n",
    "    of colliding values with their associated keys.\n",
    "    \"\"\"\n",
    "    value_to_keys = {}\n",
    "    collisions = {}\n",
    "    \n",
    "    for key, value in d.items():\n",
    "        if value in value_to_keys:\n",
    "            value_to_keys[value].append(key)\n",
    "            collisions[value] = value_to_keys[value]\n",
    "        else:\n",
    "            value_to_keys[value] = [key]\n",
    "    \n",
    "    if collisions:\n",
    "        return False, collisions\n",
    "    return True, None"
   ]
  },
  {
   "cell_type": "code",
   "execution_count": 80,
   "metadata": {},
   "outputs": [
    {
     "data": {
      "text/plain": [
       "(False,\n",
       " {'PSMB5': ['Bortezomib', 'Ixazomib'],\n",
       "  'PRKAA1': ['EX229', 'MK-3903'],\n",
       "  'MTOR': ['AZD-8055', 'Sapanisertib']})"
      ]
     },
     "execution_count": 80,
     "metadata": {},
     "output_type": "execute_result"
    }
   ],
   "source": [
    "is_one_to_one_mapping(drug_target_map)"
   ]
  },
  {
   "cell_type": "code",
   "execution_count": 70,
   "metadata": {},
   "outputs": [
    {
     "data": {
      "text/plain": [
       "{'4EGI-1': 'EIF4E',\n",
       " '9-ING-41': 'GSK3B',\n",
       " 'Alpelisib': 'PIK3CA',\n",
       " 'Anastrozole': 'CYP19A1',\n",
       " 'AZD-7648': 'PRKDC',\n",
       " 'AZD-8055': 'MTOR',\n",
       " 'AZD1390': 'ATM',\n",
       " 'Belzutifan': 'EPAS1',\n",
       " 'Bortezomib': 'PSMB5',\n",
       " 'Capmatinib': 'MET',\n",
       " 'Celecoxib': 'PTGS2',\n",
       " 'Elimusertib hydrochloride': 'ATR',\n",
       " 'ERK5-IN-2': 'MAPK7',\n",
       " 'EX229': 'PRKAA1',\n",
       " 'HI-TOPK-032': 'PBK',\n",
       " 'Irinotecan': 'TOP1',\n",
       " 'Ixazomib': 'PSMB5',\n",
       " 'LY-2584702 (tosylate salt)': 'RPS6KB1',\n",
       " 'Methylprednisolone succinate': 'NR3C1',\n",
       " 'MK-3903': 'PRKAA1',\n",
       " 'ML264': 'KLF5',\n",
       " 'NVP-BHG712': 'EPHB4',\n",
       " 'OTS514': 'MAP3K8',\n",
       " 'PF-06260933': 'MAP4K4',\n",
       " 'PH-797804': 'MAPK14',\n",
       " 'Pralsetinib': 'RET',\n",
       " 'RMC-6236': 'KRAS',\n",
       " 'Sapanisertib': 'MTOR',\n",
       " 'Sonidegib': 'SMO',\n",
       " 'TAK-733': 'MAP2K1',\n",
       " 'TAK-901': 'AURKB',\n",
       " 'Tucatinib': 'ERBB2',\n",
       " 'Vemurafenib': 'BRAF',\n",
       " 'venetoclax': 'BCL2',\n",
       " 'ctrl': 'ctrl'}"
      ]
     },
     "execution_count": 70,
     "metadata": {},
     "output_type": "execute_result"
    }
   ],
   "source": [
    "drug_target_map"
   ]
  },
  {
   "cell_type": "code",
   "execution_count": 69,
   "metadata": {},
   "outputs": [
    {
     "data": {
      "text/plain": [
       "{'4EGI-1': array([[-0.05578101,  0.6984398 ,  0.1943844 , ...,  0.04788631,\n",
       "         -0.07160202,  0.18739575],\n",
       "        [-0.52076125,  0.5120575 ,  0.6379962 , ...,  0.42785424,\n",
       "         -0.20993298, -0.6798551 ],\n",
       "        [-0.17077976,  0.45884198,  0.17378007, ...,  0.31101042,\n",
       "          0.01466119, -0.07739034],\n",
       "        ...,\n",
       "        [-0.30606064,  0.6124947 ,  0.06760749, ...,  0.43505704,\n",
       "         -0.1673753 ,  0.00951913],\n",
       "        [-0.29812825,  0.5006408 ,  0.2671909 , ...,  0.23916896,\n",
       "         -0.23481445, -0.17218162],\n",
       "        [-0.24809864,  0.23551963,  0.19016486, ...,  0.52186596,\n",
       "         -0.2651201 , -0.2374283 ]], dtype=float32),\n",
       " '9-ING-41': array([[-0.08946564,  0.6677251 ,  0.20743512, ...,  0.06365   ,\n",
       "         -0.16355303,  0.19353232],\n",
       "        [-0.55469406,  0.52791464,  0.68693745, ...,  0.406419  ,\n",
       "         -0.28961498, -0.679803  ],\n",
       "        [-0.22433358,  0.47199073,  0.13635252, ...,  0.31657428,\n",
       "         -0.10245257, -0.07553123],\n",
       "        ...,\n",
       "        [-0.34807628,  0.636289  ,  0.05539614, ...,  0.43916023,\n",
       "         -0.273198  , -0.00462489],\n",
       "        [-0.36309996,  0.53746074,  0.2719251 , ...,  0.26748127,\n",
       "         -0.32792673, -0.17534192],\n",
       "        [-0.34348568,  0.23084608,  0.25283173, ...,  0.5092948 ,\n",
       "         -0.35600483, -0.20049514]], dtype=float32),\n",
       " 'AZD1390': array([[-0.07649139,  0.6819407 ,  0.2045795 , ...,  0.05885198,\n",
       "         -0.13777915,  0.18701157],\n",
       "        [-0.54199404,  0.5225417 ,  0.6746448 , ...,  0.41760278,\n",
       "         -0.26199389, -0.6805629 ],\n",
       "        [-0.20614366,  0.46100485,  0.15588336, ...,  0.3074222 ,\n",
       "         -0.06385946, -0.0835796 ],\n",
       "        ...,\n",
       "        [-0.32574198,  0.6258915 ,  0.05810596, ...,  0.43839315,\n",
       "         -0.23543671,  0.00107114],\n",
       "        [-0.3380658 ,  0.5230546 ,  0.27063584, ...,  0.25706425,\n",
       "         -0.29586494, -0.17700401],\n",
       "        [-0.30907628,  0.23452029,  0.23883432, ...,  0.51824045,\n",
       "         -0.3312736 , -0.2228709 ]], dtype=float32),\n",
       " 'AZD-7648': array([[-0.07798849,  0.68236494,  0.20400548, ...,  0.05994154,\n",
       "         -0.1427193 ,  0.19041233],\n",
       "        [-0.54094476,  0.53159404,  0.6810791 , ...,  0.40949842,\n",
       "         -0.26378712, -0.6741103 ],\n",
       "        [-0.20774889,  0.46498978,  0.14387213, ...,  0.30799043,\n",
       "         -0.07079687, -0.07740815],\n",
       "        ...,\n",
       "        [-0.32886446,  0.6321249 ,  0.05826093, ...,  0.43586826,\n",
       "         -0.24318346,  0.00428773],\n",
       "        [-0.34224048,  0.5258196 ,  0.26849478, ...,  0.2568934 ,\n",
       "         -0.30167654, -0.17469716],\n",
       "        [-0.31645763,  0.23287225,  0.25295994, ...,  0.51755226,\n",
       "         -0.33479896, -0.21525055]], dtype=float32),\n",
       " 'AZD-8055': array([[-0.07260909,  0.6853494 ,  0.19891863, ...,  0.06108518,\n",
       "         -0.11528099,  0.18898499],\n",
       "        [-0.5385557 ,  0.5213018 ,  0.6607283 , ...,  0.42406356,\n",
       "         -0.24734536, -0.6782665 ],\n",
       "        [-0.19666952,  0.4581297 ,  0.16024108, ...,  0.313776  ,\n",
       "         -0.04163352, -0.08259411],\n",
       "        ...,\n",
       "        [-0.32185867,  0.6217675 ,  0.05936799, ...,  0.4417047 ,\n",
       "         -0.22014725,  0.00265745],\n",
       "        [-0.32877424,  0.5129496 ,  0.26615646, ...,  0.2546399 ,\n",
       "         -0.27727565, -0.17526591],\n",
       "        [-0.28012794,  0.23922922,  0.19789603, ...,  0.51432884,\n",
       "         -0.3030687 , -0.2331861 ]], dtype=float32),\n",
       " 'Alpelisib': array([[-0.06231913,  0.69116575,  0.19882457, ...,  0.05559636,\n",
       "         -0.09574849,  0.18117018],\n",
       "        [-0.52020496,  0.51812655,  0.6488167 , ...,  0.41955915,\n",
       "         -0.23187606, -0.6765923 ],\n",
       "        [-0.18740653,  0.45303303,  0.18010944, ...,  0.3121609 ,\n",
       "         -0.015172  , -0.08822631],\n",
       "        ...,\n",
       "        [-0.31353274,  0.6158339 ,  0.0662189 , ...,  0.44024378,\n",
       "         -0.19431056,  0.00406796],\n",
       "        [-0.3098203 ,  0.5036381 ,  0.27092558, ...,  0.24803464,\n",
       "         -0.25557056, -0.17680949],\n",
       "        [-0.25763926,  0.23700735,  0.20208173, ...,  0.518829  ,\n",
       "         -0.2897275 , -0.23741765]], dtype=float32),\n",
       " 'Anastrozole': array([[-0.05814264,  0.69849926,  0.19651434, ...,  0.05027261,\n",
       "         -0.09170233,  0.18827529],\n",
       "        [-0.52015966,  0.5241611 ,  0.6499601 , ...,  0.42199263,\n",
       "         -0.2233998 , -0.6773734 ],\n",
       "        [-0.17808782,  0.45773318,  0.17067297, ...,  0.30566058,\n",
       "         -0.00363275, -0.07776486],\n",
       "        ...,\n",
       "        [-0.30684045,  0.6175677 ,  0.06649231, ...,  0.43432817,\n",
       "         -0.1804965 ,  0.01335198],\n",
       "        [-0.30588073,  0.5062908 ,  0.26967055, ...,  0.24352252,\n",
       "         -0.24682163, -0.17121266],\n",
       "        [-0.26472792,  0.23598276,  0.22048694, ...,  0.52260035,\n",
       "         -0.2811299 , -0.22999625]], dtype=float32),\n",
       " 'Belzutifan': array([[-0.07310243,  0.6801177 ,  0.20176111, ...,  0.06031372,\n",
       "         -0.12236355,  0.18190624],\n",
       "        [-0.5340088 ,  0.5164029 ,  0.6708492 , ...,  0.41902995,\n",
       "         -0.2518173 , -0.68370324],\n",
       "        [-0.20076975,  0.4534945 ,  0.16118728, ...,  0.3138138 ,\n",
       "         -0.05023719, -0.09172488],\n",
       "        ...,\n",
       "        [-0.32352415,  0.6196057 ,  0.06127546, ...,  0.4408267 ,\n",
       "         -0.22582717, -0.00123525],\n",
       "        [-0.3302365 ,  0.5125271 ,  0.26849458, ...,  0.2582449 ,\n",
       "         -0.28240612, -0.18040814],\n",
       "        [-0.29981545,  0.22840714,  0.24615029, ...,  0.5246627 ,\n",
       "         -0.31637   , -0.22594169]], dtype=float32),\n",
       " 'Bortezomib': array([[-0.06716274,  0.67911094,  0.1612084 , ...,  0.10334627,\n",
       "         -0.19741878,  0.20464444],\n",
       "        [-0.54197025,  0.51660705,  0.65000075, ...,  0.4196004 ,\n",
       "         -0.29452962, -0.6951073 ],\n",
       "        [-0.20773752,  0.46362418,  0.11972111, ...,  0.32023954,\n",
       "         -0.11227538, -0.08537727],\n",
       "        ...,\n",
       "        [-0.30547523,  0.65196234,  0.03430583, ...,  0.4528654 ,\n",
       "         -0.2853443 , -0.01619244],\n",
       "        [-0.34070373,  0.5522105 ,  0.22583443, ...,  0.27436486,\n",
       "         -0.35262963, -0.19980334],\n",
       "        [-0.32636374,  0.23926307,  0.21044858, ...,  0.5094328 ,\n",
       "         -0.3756491 , -0.20368405]], dtype=float32),\n",
       " 'Capmatinib': array([[-0.06516887,  0.68170166,  0.2048398 , ...,  0.05648046,\n",
       "         -0.12080566,  0.17864043],\n",
       "        [-0.5231312 ,  0.5148038 ,  0.6698432 , ...,  0.4139349 ,\n",
       "         -0.2409593 , -0.6797697 ],\n",
       "        [-0.19098306,  0.44890973,  0.16187127, ...,  0.30682966,\n",
       "         -0.03665395, -0.08300051],\n",
       "        ...,\n",
       "        [-0.31243342,  0.6129253 ,  0.06134075, ...,  0.4394147 ,\n",
       "         -0.21322475,  0.00400762],\n",
       "        [-0.31827414,  0.5075476 ,  0.27081388, ...,  0.25329176,\n",
       "         -0.27535617, -0.17812037],\n",
       "        [-0.27651665,  0.23339632,  0.21943714, ...,  0.5154914 ,\n",
       "         -0.30695933, -0.2346766 ]], dtype=float32),\n",
       " 'Celecoxib': array([[-0.07842996,  0.6697158 ,  0.20980081, ...,  0.0549661 ,\n",
       "         -0.15284634,  0.18000832],\n",
       "        [-0.5484517 ,  0.52625245,  0.6845924 , ...,  0.41218993,\n",
       "         -0.27910888, -0.6936515 ],\n",
       "        [-0.2146216 ,  0.46490824,  0.13378966, ...,  0.31721696,\n",
       "         -0.09104083, -0.08369756],\n",
       "        ...,\n",
       "        [-0.33021763,  0.63181186,  0.0513008 , ...,  0.4398153 ,\n",
       "         -0.2613045 , -0.01407971],\n",
       "        [-0.34978724,  0.52769125,  0.26849356, ...,  0.2662324 ,\n",
       "         -0.31675336, -0.1792284 ],\n",
       "        [-0.3314572 ,  0.2295466 ,  0.25145727, ...,  0.51544684,\n",
       "         -0.34683546, -0.21214905]], dtype=float32),\n",
       " 'ERK5-IN-2': array([[-0.08269717,  0.68641174,  0.19953774, ...,  0.0630594 ,\n",
       "         -0.13784188,  0.19926697],\n",
       "        [-0.5455675 ,  0.52939105,  0.67254704, ...,  0.4139782 ,\n",
       "         -0.26156965, -0.66893464],\n",
       "        [-0.20951146,  0.45872906,  0.15656306, ...,  0.30922112,\n",
       "         -0.06214739, -0.07585542],\n",
       "        ...,\n",
       "        [-0.33012235,  0.62903255,  0.05892388, ...,  0.43907475,\n",
       "         -0.23632033,  0.01505684],\n",
       "        [-0.34187555,  0.52500516,  0.26835355, ...,  0.25978407,\n",
       "         -0.29684463, -0.1654423 ],\n",
       "        [-0.3124663 ,  0.23576768,  0.24270205, ...,  0.51664525,\n",
       "         -0.3296811 , -0.21543168]], dtype=float32),\n",
       " 'EX229': array([[-0.07299139,  0.67054826,  0.20740423, ...,  0.05920681,\n",
       "         -0.14966217,  0.1922602 ],\n",
       "        [-0.54091185,  0.51863223,  0.6868199 , ...,  0.4167427 ,\n",
       "         -0.26364994, -0.68412346],\n",
       "        [-0.20985399,  0.45837036,  0.1430309 , ...,  0.31038696,\n",
       "         -0.07647998, -0.07629752],\n",
       "        ...,\n",
       "        [-0.321496  ,  0.63056946,  0.05334829, ...,  0.43781242,\n",
       "         -0.24929953,  0.00247207],\n",
       "        [-0.34255925,  0.5309085 ,  0.26806426, ...,  0.26303124,\n",
       "         -0.30898532, -0.1749322 ],\n",
       "        [-0.32119986,  0.2324863 ,  0.23962611, ...,  0.51077944,\n",
       "         -0.3372769 , -0.21272579]], dtype=float32),\n",
       " 'Elimusertib hydrochloride': array([[-0.07340236,  0.67466116,  0.20566536, ...,  0.05746041,\n",
       "         -0.1545001 ,  0.18170843],\n",
       "        [-0.53996027,  0.52242213,  0.68222   , ...,  0.4128264 ,\n",
       "         -0.27044487, -0.68893   ],\n",
       "        [-0.20234713,  0.4565957 ,  0.13760585, ...,  0.3137915 ,\n",
       "         -0.08089159, -0.08056736],\n",
       "        ...,\n",
       "        [-0.31896886,  0.6239614 ,  0.05100287, ...,  0.44124502,\n",
       "         -0.25374174, -0.00523019],\n",
       "        [-0.3377158 ,  0.52149785,  0.26694304, ...,  0.26271847,\n",
       "         -0.31327814, -0.17975293],\n",
       "        [-0.30660886,  0.23798308,  0.22008942, ...,  0.50915337,\n",
       "         -0.34330225, -0.23050939]], dtype=float32),\n",
       " 'HI-TOPK-032': array([[-0.0754609 ,  0.6837985 ,  0.19891463, ...,  0.06622829,\n",
       "         -0.14108738,  0.20381291],\n",
       "        [-0.5423915 ,  0.53072816,  0.6771433 , ...,  0.41288105,\n",
       "         -0.2632627 , -0.66733336],\n",
       "        [-0.20937233,  0.46068782,  0.1450238 , ...,  0.30501178,\n",
       "         -0.06220931, -0.06319939],\n",
       "        ...,\n",
       "        [-0.32628286,  0.63216925,  0.05582248, ...,  0.43526384,\n",
       "         -0.23626837,  0.0158148 ],\n",
       "        [-0.34447566,  0.529078  ,  0.26575828, ...,  0.2607699 ,\n",
       "         -0.29946607, -0.16757694],\n",
       "        [-0.31967065,  0.22751597,  0.25989136, ...,  0.5202231 ,\n",
       "         -0.33099845, -0.2022348 ]], dtype=float32),\n",
       " 'Irinotecan': array([[-0.03341068,  0.70650804,  0.19162092, ...,  0.04275808,\n",
       "         -0.05335743,  0.18964678],\n",
       "        [-0.49418604,  0.50921744,  0.6247274 , ...,  0.42223233,\n",
       "         -0.19091958, -0.6751043 ],\n",
       "        [-0.15871863,  0.45277172,  0.20520715, ...,  0.29626536,\n",
       "          0.04636044, -0.08083966],\n",
       "        ...,\n",
       "        [-0.28393605,  0.61072075,  0.07482489, ...,  0.42744455,\n",
       "         -0.13919199,  0.01806149],\n",
       "        [-0.2707774 ,  0.4957262 ,  0.2696767 , ...,  0.2276562 ,\n",
       "         -0.20678844, -0.17368086],\n",
       "        [-0.21192323,  0.23755106,  0.16255875, ...,  0.5117098 ,\n",
       "         -0.24348578, -0.23536475]], dtype=float32),\n",
       " 'Ixazomib': array([[-0.06166155,  0.68821657,  0.2020917 , ...,  0.05464021,\n",
       "         -0.10528086,  0.17986818],\n",
       "        [-0.5231279 ,  0.51791084,  0.66196316, ...,  0.41970274,\n",
       "         -0.23107564, -0.6825841 ],\n",
       "        [-0.18869625,  0.44966978,  0.1671265 , ...,  0.30929342,\n",
       "         -0.0223652 , -0.08620138],\n",
       "        ...,\n",
       "        [-0.30762655,  0.6174972 ,  0.06272938, ...,  0.43602857,\n",
       "         -0.20215839,  0.0017249 ],\n",
       "        [-0.31319457,  0.508847  ,  0.2700207 , ...,  0.24670954,\n",
       "         -0.2610787 , -0.1795079 ],\n",
       "        [-0.2731812 ,  0.23426396,  0.2248743 , ...,  0.51851666,\n",
       "         -0.29461214, -0.23368226]], dtype=float32),\n",
       " 'LY-2584702 (tosylate salt)': array([[-0.08315073,  0.67331046,  0.20842884, ...,  0.06077802,\n",
       "         -0.15728493,  0.18818375],\n",
       "        [-0.54600537,  0.5281996 ,  0.68609446, ...,  0.4060195 ,\n",
       "         -0.27999762, -0.6810567 ],\n",
       "        [-0.21806103,  0.46317717,  0.14463775, ...,  0.30976462,\n",
       "         -0.08920669, -0.08024493],\n",
       "        ...,\n",
       "        [-0.33769825,  0.631715  ,  0.05644003, ...,  0.43767554,\n",
       "         -0.2597048 , -0.00441309],\n",
       "        [-0.35140905,  0.53227776,  0.27151784, ...,  0.26209214,\n",
       "         -0.31758085, -0.17859784],\n",
       "        [-0.3260375 ,  0.23527768,  0.23885186, ...,  0.5047806 ,\n",
       "         -0.34537002, -0.21775079]], dtype=float32),\n",
       " 'MK-3903': array([[-0.06673097,  0.6784866 ,  0.20435178, ...,  0.059063  ,\n",
       "         -0.12564805,  0.18485533],\n",
       "        [-0.53015506,  0.51970464,  0.67563534, ...,  0.41728225,\n",
       "         -0.25156406, -0.68240005],\n",
       "        [-0.2019434 ,  0.451758  ,  0.15921198, ...,  0.30931875,\n",
       "         -0.04964747, -0.08511173],\n",
       "        ...,\n",
       "        [-0.31699476,  0.6235936 ,  0.05909661, ...,  0.4381825 ,\n",
       "         -0.22811443,  0.00077029],\n",
       "        [-0.32814464,  0.5174372 ,  0.26893735, ...,  0.25564378,\n",
       "         -0.28378457, -0.17831288],\n",
       "        [-0.29806432,  0.2309856 ,  0.24227254, ...,  0.5194239 ,\n",
       "         -0.31800705, -0.22625826]], dtype=float32),\n",
       " 'ML264': array([[-0.07365893,  0.67633367,  0.20709483, ...,  0.06071979,\n",
       "         -0.13387002,  0.18187831],\n",
       "        [-0.53790075,  0.5202244 ,  0.680151  , ...,  0.42009395,\n",
       "         -0.25813505, -0.68746644],\n",
       "        [-0.20490022,  0.4560188 ,  0.1538185 , ...,  0.3138621 ,\n",
       "         -0.06148753, -0.08702114],\n",
       "        ...,\n",
       "        [-0.32253978,  0.62581336,  0.05753091, ...,  0.44088227,\n",
       "         -0.2368454 , -0.00419374],\n",
       "        [-0.33790278,  0.5194926 ,  0.2708839 , ...,  0.26173192,\n",
       "         -0.2927543 , -0.17992717],\n",
       "        [-0.30235076,  0.23404212,  0.23199676, ...,  0.51289594,\n",
       "         -0.32332435, -0.22851984]], dtype=float32),\n",
       " 'Methylprednisolone succinate': array([[-7.5518511e-02,  6.7198664e-01,  2.0933312e-01, ...,\n",
       "          5.6001347e-02, -1.5396437e-01,  1.9035676e-01],\n",
       "        [-5.4400158e-01,  5.2094245e-01,  6.8709445e-01, ...,\n",
       "          4.1113394e-01, -2.6979551e-01, -6.8898988e-01],\n",
       "        [-2.1200445e-01,  4.5615721e-01,  1.3960907e-01, ...,\n",
       "          3.0802095e-01, -8.1905715e-02, -7.8174554e-02],\n",
       "        ...,\n",
       "        [-3.2351062e-01,  6.2805820e-01,  5.4303862e-02, ...,\n",
       "          4.3656310e-01, -2.5765133e-01, -3.9480012e-04],\n",
       "        [-3.4607315e-01,  5.2611017e-01,  2.6823595e-01, ...,\n",
       "          2.6169369e-01, -3.1583312e-01, -1.7594957e-01],\n",
       "        [-3.2797801e-01,  2.2545350e-01,  2.5529370e-01, ...,\n",
       "          5.1356786e-01, -3.4382930e-01, -2.0727777e-01]], dtype=float32),\n",
       " 'NVP-BHG712': array([[-0.08033042,  0.67583996,  0.20539676, ...,  0.05888859,\n",
       "         -0.15151432,  0.186296  ],\n",
       "        [-0.54728645,  0.53057426,  0.68088895, ...,  0.41178024,\n",
       "         -0.27665535, -0.6850491 ],\n",
       "        [-0.21920359,  0.46108478,  0.15061066, ...,  0.31278035,\n",
       "         -0.08320925, -0.08504935],\n",
       "        ...,\n",
       "        [-0.33318505,  0.6323553 ,  0.05379619, ...,  0.43824413,\n",
       "         -0.26016337, -0.00732513],\n",
       "        [-0.35007465,  0.5275128 ,  0.26802632, ...,  0.2632979 ,\n",
       "         -0.31383023, -0.1782168 ],\n",
       "        [-0.32501876,  0.2338191 ,  0.2475469 , ...,  0.5134982 ,\n",
       "         -0.34621292, -0.2168855 ]], dtype=float32),\n",
       " 'OTS514': array([[-0.07146279,  0.66998214,  0.20809443, ...,  0.05712155,\n",
       "         -0.13686322,  0.17006184],\n",
       "        [-0.53623873,  0.5120962 ,  0.6845635 , ...,  0.42219105,\n",
       "         -0.2602656 , -0.7006503 ],\n",
       "        [-0.20076908,  0.45092782,  0.14426593, ...,  0.31938627,\n",
       "         -0.06805544, -0.09328935],\n",
       "        ...,\n",
       "        [-0.31990442,  0.6177935 ,  0.05423619, ...,  0.4433522 ,\n",
       "         -0.23998086, -0.01491322],\n",
       "        [-0.33560896,  0.51422054,  0.2709567 , ...,  0.2669641 ,\n",
       "         -0.29752332, -0.18837464],\n",
       "        [-0.30727917,  0.22972803,  0.23742639, ...,  0.518785  ,\n",
       "         -0.32888627, -0.23260404]], dtype=float32),\n",
       " 'PF-06260933': array([[-0.07711957,  0.6829558 ,  0.19752835, ...,  0.06226699,\n",
       "         -0.13542171,  0.18926463],\n",
       "        [-0.53817457,  0.5263888 ,  0.6711785 , ...,  0.41689906,\n",
       "         -0.26177254, -0.67846936],\n",
       "        [-0.20526755,  0.4606706 ,  0.15240292, ...,  0.3135925 ,\n",
       "         -0.0608887 , -0.0807313 ],\n",
       "        ...,\n",
       "        [-0.32508266,  0.6283213 ,  0.05633504, ...,  0.43921387,\n",
       "         -0.23833524,  0.00117723],\n",
       "        [-0.33759704,  0.52267087,  0.26501888, ...,  0.26019612,\n",
       "         -0.2966146 , -0.1774626 ],\n",
       "        [-0.31176388,  0.23188403,  0.24752411, ...,  0.52232367,\n",
       "         -0.33102116, -0.21465033]], dtype=float32),\n",
       " 'PH-797804': array([[-0.07633727,  0.6612581 ,  0.21118036, ...,  0.05925681,\n",
       "         -0.16014205,  0.17843407],\n",
       "        [-0.54531235,  0.5206545 ,  0.6874404 , ...,  0.41272053,\n",
       "         -0.28431386, -0.7020358 ],\n",
       "        [-0.21436226,  0.46424285,  0.13759197, ...,  0.31874758,\n",
       "         -0.10137708, -0.09141194],\n",
       "        ...,\n",
       "        [-0.3310579 ,  0.6294538 ,  0.05173005, ...,  0.44141257,\n",
       "         -0.2703936 , -0.01980484],\n",
       "        [-0.35223466,  0.5289109 ,  0.2721606 , ...,  0.2723566 ,\n",
       "         -0.32331505, -0.18479325],\n",
       "        [-0.32506335,  0.23573947,  0.22839221, ...,  0.5050382 ,\n",
       "         -0.35168034, -0.22276933]], dtype=float32),\n",
       " 'Pralsetinib': array([[-0.05904824,  0.69397235,  0.19435926, ...,  0.05965959,\n",
       "         -0.09944274,  0.19553727],\n",
       "        [-0.51525587,  0.5227529 ,  0.65280163, ...,  0.4172333 ,\n",
       "         -0.22446226, -0.66577315],\n",
       "        [-0.18321684,  0.45401338,  0.16901425, ...,  0.30247495,\n",
       "         -0.00542614, -0.07096887],\n",
       "        ...,\n",
       "        [-0.30614772,  0.61931854,  0.06549788, ...,  0.4346131 ,\n",
       "         -0.1891127 ,  0.01841835],\n",
       "        [-0.30766976,  0.5115126 ,  0.26606342, ...,  0.24472709,\n",
       "         -0.25224897, -0.16973788],\n",
       "        [-0.25911045,  0.23546422,  0.20780551, ...,  0.5139274 ,\n",
       "         -0.28404438, -0.22579466]], dtype=float32),\n",
       " 'RMC-6236': array([[-0.08725473,  0.68501294,  0.1977656 , ...,  0.06883702,\n",
       "         -0.14041775,  0.20029823],\n",
       "        [-0.54504615,  0.5276501 ,  0.66376686, ...,  0.4111446 ,\n",
       "         -0.26984006, -0.6643869 ],\n",
       "        [-0.21011527,  0.46173817,  0.15819594, ...,  0.31400156,\n",
       "         -0.06640224, -0.0748331 ],\n",
       "        ...,\n",
       "        [-0.33897546,  0.6227317 ,  0.06264887, ...,  0.4466918 ,\n",
       "         -0.24090911,  0.0153568 ],\n",
       "        [-0.34237605,  0.51855654,  0.26587743, ...,  0.26296452,\n",
       "         -0.3020737 , -0.16645317],\n",
       "        [-0.30261946,  0.23353662,  0.22387746, ...,  0.52206844,\n",
       "         -0.33330792, -0.22012688]], dtype=float32),\n",
       " 'Sapanisertib': array([[-0.07206191,  0.66451347,  0.21226752, ...,  0.05940517,\n",
       "         -0.15502934,  0.18459065],\n",
       "        [-0.54133964,  0.5167418 ,  0.69138896, ...,  0.41477868,\n",
       "         -0.2700502 , -0.6913376 ],\n",
       "        [-0.21256697,  0.45766944,  0.13848445, ...,  0.31274804,\n",
       "         -0.08330628, -0.07982434],\n",
       "        ...,\n",
       "        [-0.32450056,  0.62848073,  0.05349622, ...,  0.4391962 ,\n",
       "         -0.26057765, -0.00660182],\n",
       "        [-0.34649673,  0.5273195 ,  0.2698392 , ...,  0.26617956,\n",
       "         -0.31413236, -0.17886364],\n",
       "        [-0.3250462 ,  0.22824673,  0.2446072 , ...,  0.5109424 ,\n",
       "         -0.3409417 , -0.2099916 ]], dtype=float32),\n",
       " 'Sonidegib': array([[-0.08767761,  0.67280143,  0.20577225, ...,  0.06216323,\n",
       "         -0.16575071,  0.19878456],\n",
       "        [-0.55324286,  0.53063375,  0.6891918 , ...,  0.40729722,\n",
       "         -0.28726166, -0.678165  ],\n",
       "        [-0.21953773,  0.4703483 ,  0.14023642, ...,  0.30852067,\n",
       "         -0.10390259, -0.07732455],\n",
       "        ...,\n",
       "        [-0.34207407,  0.63580287,  0.05344485, ...,  0.43587998,\n",
       "         -0.26777825,  0.00102355],\n",
       "        [-0.35916367,  0.5407065 ,  0.27039674, ...,  0.26465532,\n",
       "         -0.32935748, -0.17503344],\n",
       "        [-0.33969632,  0.23608078,  0.24203464, ...,  0.5046024 ,\n",
       "         -0.35663915, -0.20469216]], dtype=float32),\n",
       " 'TAK-733': array([[-0.0612253 ,  0.69484377,  0.196196  , ...,  0.05357959,\n",
       "         -0.10024996,  0.18985993],\n",
       "        [-0.5232157 ,  0.5191547 ,  0.6521647 , ...,  0.41928655,\n",
       "         -0.22681093, -0.67519516],\n",
       "        [-0.18034573,  0.4618265 ,  0.16853784, ...,  0.30351624,\n",
       "         -0.01509963, -0.08086032],\n",
       "        ...,\n",
       "        [-0.30838257,  0.61771375,  0.06239089, ...,  0.4338416 ,\n",
       "         -0.19090268,  0.01118953],\n",
       "        [-0.30871668,  0.51247084,  0.26722112, ...,  0.24260764,\n",
       "         -0.2558723 , -0.17314039],\n",
       "        [-0.26730943,  0.23810872,  0.2082667 , ...,  0.5175111 ,\n",
       "         -0.2918261 , -0.22982247]], dtype=float32),\n",
       " 'TAK-901': array([[-0.08528033,  0.6725436 ,  0.20331922, ...,  0.06434506,\n",
       "         -0.1505809 ,  0.19302392],\n",
       "        [-0.5495466 ,  0.5221236 ,  0.6853428 , ...,  0.41667634,\n",
       "         -0.2748521 , -0.68502486],\n",
       "        [-0.2204522 ,  0.45593894,  0.15092266, ...,  0.31497425,\n",
       "         -0.07849657, -0.07579762],\n",
       "        ...,\n",
       "        [-0.33555287,  0.6256643 ,  0.05704861, ...,  0.44116122,\n",
       "         -0.25625044,  0.00228505],\n",
       "        [-0.35205242,  0.52759624,  0.26892996, ...,  0.26772398,\n",
       "         -0.31494072, -0.17515424],\n",
       "        [-0.3355558 ,  0.22481757,  0.25693002, ...,  0.52416   ,\n",
       "         -0.34466544, -0.20932029]], dtype=float32),\n",
       " 'Tucatinib': array([[-0.05922279,  0.69147754,  0.1990581 , ...,  0.057406  ,\n",
       "         -0.10922087,  0.19277258],\n",
       "        [-0.5230843 ,  0.5156296 ,  0.65835077, ...,  0.42233917,\n",
       "         -0.23465727, -0.6751745 ],\n",
       "        [-0.1835813 ,  0.45426857,  0.16916882, ...,  0.3068684 ,\n",
       "         -0.02060034, -0.07828581],\n",
       "        ...,\n",
       "        [-0.3055046 ,  0.6187032 ,  0.06357782, ...,  0.43865883,\n",
       "         -0.19956815,  0.01326701],\n",
       "        [-0.31176034,  0.51193374,  0.2693095 , ...,  0.25051484,\n",
       "         -0.2631749 , -0.1727047 ],\n",
       "        [-0.25976145,  0.24123338,  0.18773855, ...,  0.5074848 ,\n",
       "         -0.2959754 , -0.23256736]], dtype=float32),\n",
       " 'Vemurafenib': array([[-0.05991435,  0.69109875,  0.19694075, ...,  0.05524716,\n",
       "         -0.10750148,  0.18879026],\n",
       "        [-0.52201825,  0.51664466,  0.65732884, ...,  0.42032984,\n",
       "         -0.23163816, -0.6758204 ],\n",
       "        [-0.18588455,  0.4515387 ,  0.16705276, ...,  0.30334288,\n",
       "         -0.01775928, -0.07812372],\n",
       "        ...,\n",
       "        [-0.306767  ,  0.6172537 ,  0.06293895, ...,  0.43601072,\n",
       "         -0.19742179,  0.01271414],\n",
       "        [-0.31204545,  0.511216  ,  0.26707518, ...,  0.24669431,\n",
       "         -0.26192474, -0.17342624],\n",
       "        [-0.2693157 ,  0.23652661,  0.21084772, ...,  0.5172478 ,\n",
       "         -0.29470393, -0.23034784]], dtype=float32),\n",
       " 'ctrl': array([[-0.07025475,  0.6843736 ,  0.20153832, ...,  0.0553677 ,\n",
       "         -0.10075139,  0.1782541 ],\n",
       "        [-0.5229504 ,  0.5141912 ,  0.65597594, ...,  0.4224481 ,\n",
       "         -0.2313697 , -0.67895186],\n",
       "        [-0.18917646,  0.44795135,  0.17089133, ...,  0.31123823,\n",
       "         -0.01906746, -0.0851078 ],\n",
       "        ...,\n",
       "        [-0.31724387,  0.6112235 ,  0.06484083, ...,  0.4404575 ,\n",
       "         -0.1953694 ,  0.00429199],\n",
       "        [-0.3159455 ,  0.50197846,  0.27312624, ...,  0.2516739 ,\n",
       "         -0.2551571 , -0.17305282],\n",
       "        [-0.27506104,  0.22924888,  0.22320868, ...,  0.52107865,\n",
       "         -0.28721303, -0.2355073 ]], dtype=float32),\n",
       " 'venetoclax': array([[-0.05092304,  0.6833886 ,  0.20145747, ...,  0.05812231,\n",
       "         -0.10343481,  0.17691237],\n",
       "        [-0.51114494,  0.5121705 ,  0.66179216, ...,  0.4213595 ,\n",
       "         -0.2299496 , -0.6835003 ],\n",
       "        [-0.183     ,  0.4441617 ,  0.17276563, ...,  0.3088471 ,\n",
       "         -0.01513574, -0.09051331],\n",
       "        ...,\n",
       "        [-0.29961127,  0.6121625 ,  0.06320364, ...,  0.44015828,\n",
       "         -0.1969187 ,  0.0009845 ],\n",
       "        [-0.3040426 ,  0.50421137,  0.26828262, ...,  0.25034297,\n",
       "         -0.25554502, -0.1840575 ],\n",
       "        [-0.2571541 ,  0.23096222,  0.2145416 , ...,  0.51959676,\n",
       "         -0.29018492, -0.24029888]], dtype=float32)}"
      ]
     },
     "execution_count": 69,
     "metadata": {},
     "output_type": "execute_result"
    }
   ],
   "source": [
    "dict_sum_condition_mean"
   ]
  },
  {
   "cell_type": "code",
   "execution_count": 74,
   "metadata": {},
   "outputs": [
    {
     "data": {
      "text/plain": [
       "35"
      ]
     },
     "execution_count": 74,
     "metadata": {},
     "output_type": "execute_result"
    }
   ],
   "source": [
    "len(dict_sum_condition_mean)"
   ]
  },
  {
   "cell_type": "code",
   "execution_count": 73,
   "metadata": {},
   "outputs": [
    {
     "data": {
      "text/plain": [
       "32"
      ]
     },
     "execution_count": 73,
     "metadata": {},
     "output_type": "execute_result"
    }
   ],
   "source": [
    "len(dict_sum_target_gene_mean)"
   ]
  },
  {
   "cell_type": "code",
   "execution_count": 68,
   "metadata": {},
   "outputs": [
    {
     "data": {
      "text/plain": [
       "{'EIF4E': array([[-0.05578101,  0.6984398 ,  0.1943844 , ...,  0.04788631,\n",
       "         -0.07160202,  0.18739575],\n",
       "        [-0.52076125,  0.5120575 ,  0.6379962 , ...,  0.42785424,\n",
       "         -0.20993298, -0.6798551 ],\n",
       "        [-0.17077976,  0.45884198,  0.17378007, ...,  0.31101042,\n",
       "          0.01466119, -0.07739034],\n",
       "        ...,\n",
       "        [-0.30606064,  0.6124947 ,  0.06760749, ...,  0.43505704,\n",
       "         -0.1673753 ,  0.00951913],\n",
       "        [-0.29812825,  0.5006408 ,  0.2671909 , ...,  0.23916896,\n",
       "         -0.23481445, -0.17218162],\n",
       "        [-0.24809864,  0.23551963,  0.19016486, ...,  0.52186596,\n",
       "         -0.2651201 , -0.2374283 ]], dtype=float32),\n",
       " 'GSK3B': array([[-0.08946564,  0.6677251 ,  0.20743512, ...,  0.06365   ,\n",
       "         -0.16355303,  0.19353232],\n",
       "        [-0.55469406,  0.52791464,  0.68693745, ...,  0.406419  ,\n",
       "         -0.28961498, -0.679803  ],\n",
       "        [-0.22433358,  0.47199073,  0.13635252, ...,  0.31657428,\n",
       "         -0.10245257, -0.07553123],\n",
       "        ...,\n",
       "        [-0.34807628,  0.636289  ,  0.05539614, ...,  0.43916023,\n",
       "         -0.273198  , -0.00462489],\n",
       "        [-0.36309996,  0.53746074,  0.2719251 , ...,  0.26748127,\n",
       "         -0.32792673, -0.17534192],\n",
       "        [-0.34348568,  0.23084608,  0.25283173, ...,  0.5092948 ,\n",
       "         -0.35600483, -0.20049514]], dtype=float32),\n",
       " 'ATM': array([[-0.07649139,  0.6819407 ,  0.2045795 , ...,  0.05885198,\n",
       "         -0.13777915,  0.18701157],\n",
       "        [-0.54199404,  0.5225417 ,  0.6746448 , ...,  0.41760278,\n",
       "         -0.26199389, -0.6805629 ],\n",
       "        [-0.20614366,  0.46100485,  0.15588336, ...,  0.3074222 ,\n",
       "         -0.06385946, -0.0835796 ],\n",
       "        ...,\n",
       "        [-0.32574198,  0.6258915 ,  0.05810596, ...,  0.43839315,\n",
       "         -0.23543671,  0.00107114],\n",
       "        [-0.3380658 ,  0.5230546 ,  0.27063584, ...,  0.25706425,\n",
       "         -0.29586494, -0.17700401],\n",
       "        [-0.30907628,  0.23452029,  0.23883432, ...,  0.51824045,\n",
       "         -0.3312736 , -0.2228709 ]], dtype=float32),\n",
       " 'PRKDC': array([[-0.07798849,  0.68236494,  0.20400548, ...,  0.05994154,\n",
       "         -0.1427193 ,  0.19041233],\n",
       "        [-0.54094476,  0.53159404,  0.6810791 , ...,  0.40949842,\n",
       "         -0.26378712, -0.6741103 ],\n",
       "        [-0.20774889,  0.46498978,  0.14387213, ...,  0.30799043,\n",
       "         -0.07079687, -0.07740815],\n",
       "        ...,\n",
       "        [-0.32886446,  0.6321249 ,  0.05826093, ...,  0.43586826,\n",
       "         -0.24318346,  0.00428773],\n",
       "        [-0.34224048,  0.5258196 ,  0.26849478, ...,  0.2568934 ,\n",
       "         -0.30167654, -0.17469716],\n",
       "        [-0.31645763,  0.23287225,  0.25295994, ...,  0.51755226,\n",
       "         -0.33479896, -0.21525055]], dtype=float32),\n",
       " 'MTOR': array([[-0.07206191,  0.66451347,  0.21226752, ...,  0.05940517,\n",
       "         -0.15502934,  0.18459065],\n",
       "        [-0.54133964,  0.5167418 ,  0.69138896, ...,  0.41477868,\n",
       "         -0.2700502 , -0.6913376 ],\n",
       "        [-0.21256697,  0.45766944,  0.13848445, ...,  0.31274804,\n",
       "         -0.08330628, -0.07982434],\n",
       "        ...,\n",
       "        [-0.32450056,  0.62848073,  0.05349622, ...,  0.4391962 ,\n",
       "         -0.26057765, -0.00660182],\n",
       "        [-0.34649673,  0.5273195 ,  0.2698392 , ...,  0.26617956,\n",
       "         -0.31413236, -0.17886364],\n",
       "        [-0.3250462 ,  0.22824673,  0.2446072 , ...,  0.5109424 ,\n",
       "         -0.3409417 , -0.2099916 ]], dtype=float32),\n",
       " 'PIK3CA': array([[-0.06231913,  0.69116575,  0.19882457, ...,  0.05559636,\n",
       "         -0.09574849,  0.18117018],\n",
       "        [-0.52020496,  0.51812655,  0.6488167 , ...,  0.41955915,\n",
       "         -0.23187606, -0.6765923 ],\n",
       "        [-0.18740653,  0.45303303,  0.18010944, ...,  0.3121609 ,\n",
       "         -0.015172  , -0.08822631],\n",
       "        ...,\n",
       "        [-0.31353274,  0.6158339 ,  0.0662189 , ...,  0.44024378,\n",
       "         -0.19431056,  0.00406796],\n",
       "        [-0.3098203 ,  0.5036381 ,  0.27092558, ...,  0.24803464,\n",
       "         -0.25557056, -0.17680949],\n",
       "        [-0.25763926,  0.23700735,  0.20208173, ...,  0.518829  ,\n",
       "         -0.2897275 , -0.23741765]], dtype=float32),\n",
       " 'CYP19A1': array([[-0.05814264,  0.69849926,  0.19651434, ...,  0.05027261,\n",
       "         -0.09170233,  0.18827529],\n",
       "        [-0.52015966,  0.5241611 ,  0.6499601 , ...,  0.42199263,\n",
       "         -0.2233998 , -0.6773734 ],\n",
       "        [-0.17808782,  0.45773318,  0.17067297, ...,  0.30566058,\n",
       "         -0.00363275, -0.07776486],\n",
       "        ...,\n",
       "        [-0.30684045,  0.6175677 ,  0.06649231, ...,  0.43432817,\n",
       "         -0.1804965 ,  0.01335198],\n",
       "        [-0.30588073,  0.5062908 ,  0.26967055, ...,  0.24352252,\n",
       "         -0.24682163, -0.17121266],\n",
       "        [-0.26472792,  0.23598276,  0.22048694, ...,  0.52260035,\n",
       "         -0.2811299 , -0.22999625]], dtype=float32),\n",
       " 'EPAS1': array([[-0.07310243,  0.6801177 ,  0.20176111, ...,  0.06031372,\n",
       "         -0.12236355,  0.18190624],\n",
       "        [-0.5340088 ,  0.5164029 ,  0.6708492 , ...,  0.41902995,\n",
       "         -0.2518173 , -0.68370324],\n",
       "        [-0.20076975,  0.4534945 ,  0.16118728, ...,  0.3138138 ,\n",
       "         -0.05023719, -0.09172488],\n",
       "        ...,\n",
       "        [-0.32352415,  0.6196057 ,  0.06127546, ...,  0.4408267 ,\n",
       "         -0.22582717, -0.00123525],\n",
       "        [-0.3302365 ,  0.5125271 ,  0.26849458, ...,  0.2582449 ,\n",
       "         -0.28240612, -0.18040814],\n",
       "        [-0.29981545,  0.22840714,  0.24615029, ...,  0.5246627 ,\n",
       "         -0.31637   , -0.22594169]], dtype=float32),\n",
       " 'PSMB5': array([[-0.06166155,  0.68821657,  0.2020917 , ...,  0.05464021,\n",
       "         -0.10528086,  0.17986818],\n",
       "        [-0.5231279 ,  0.51791084,  0.66196316, ...,  0.41970274,\n",
       "         -0.23107564, -0.6825841 ],\n",
       "        [-0.18869625,  0.44966978,  0.1671265 , ...,  0.30929342,\n",
       "         -0.0223652 , -0.08620138],\n",
       "        ...,\n",
       "        [-0.30762655,  0.6174972 ,  0.06272938, ...,  0.43602857,\n",
       "         -0.20215839,  0.0017249 ],\n",
       "        [-0.31319457,  0.508847  ,  0.2700207 , ...,  0.24670954,\n",
       "         -0.2610787 , -0.1795079 ],\n",
       "        [-0.2731812 ,  0.23426396,  0.2248743 , ...,  0.51851666,\n",
       "         -0.29461214, -0.23368226]], dtype=float32),\n",
       " 'MET': array([[-0.06516887,  0.68170166,  0.2048398 , ...,  0.05648046,\n",
       "         -0.12080566,  0.17864043],\n",
       "        [-0.5231312 ,  0.5148038 ,  0.6698432 , ...,  0.4139349 ,\n",
       "         -0.2409593 , -0.6797697 ],\n",
       "        [-0.19098306,  0.44890973,  0.16187127, ...,  0.30682966,\n",
       "         -0.03665395, -0.08300051],\n",
       "        ...,\n",
       "        [-0.31243342,  0.6129253 ,  0.06134075, ...,  0.4394147 ,\n",
       "         -0.21322475,  0.00400762],\n",
       "        [-0.31827414,  0.5075476 ,  0.27081388, ...,  0.25329176,\n",
       "         -0.27535617, -0.17812037],\n",
       "        [-0.27651665,  0.23339632,  0.21943714, ...,  0.5154914 ,\n",
       "         -0.30695933, -0.2346766 ]], dtype=float32),\n",
       " 'PTGS2': array([[-0.07842996,  0.6697158 ,  0.20980081, ...,  0.0549661 ,\n",
       "         -0.15284634,  0.18000832],\n",
       "        [-0.5484517 ,  0.52625245,  0.6845924 , ...,  0.41218993,\n",
       "         -0.27910888, -0.6936515 ],\n",
       "        [-0.2146216 ,  0.46490824,  0.13378966, ...,  0.31721696,\n",
       "         -0.09104083, -0.08369756],\n",
       "        ...,\n",
       "        [-0.33021763,  0.63181186,  0.0513008 , ...,  0.4398153 ,\n",
       "         -0.2613045 , -0.01407971],\n",
       "        [-0.34978724,  0.52769125,  0.26849356, ...,  0.2662324 ,\n",
       "         -0.31675336, -0.1792284 ],\n",
       "        [-0.3314572 ,  0.2295466 ,  0.25145727, ...,  0.51544684,\n",
       "         -0.34683546, -0.21214905]], dtype=float32),\n",
       " 'MAPK7': array([[-0.08269717,  0.68641174,  0.19953774, ...,  0.0630594 ,\n",
       "         -0.13784188,  0.19926697],\n",
       "        [-0.5455675 ,  0.52939105,  0.67254704, ...,  0.4139782 ,\n",
       "         -0.26156965, -0.66893464],\n",
       "        [-0.20951146,  0.45872906,  0.15656306, ...,  0.30922112,\n",
       "         -0.06214739, -0.07585542],\n",
       "        ...,\n",
       "        [-0.33012235,  0.62903255,  0.05892388, ...,  0.43907475,\n",
       "         -0.23632033,  0.01505684],\n",
       "        [-0.34187555,  0.52500516,  0.26835355, ...,  0.25978407,\n",
       "         -0.29684463, -0.1654423 ],\n",
       "        [-0.3124663 ,  0.23576768,  0.24270205, ...,  0.51664525,\n",
       "         -0.3296811 , -0.21543168]], dtype=float32),\n",
       " 'PRKAA1': array([[-0.06673097,  0.6784866 ,  0.20435178, ...,  0.059063  ,\n",
       "         -0.12564805,  0.18485533],\n",
       "        [-0.53015506,  0.51970464,  0.67563534, ...,  0.41728225,\n",
       "         -0.25156406, -0.68240005],\n",
       "        [-0.2019434 ,  0.451758  ,  0.15921198, ...,  0.30931875,\n",
       "         -0.04964747, -0.08511173],\n",
       "        ...,\n",
       "        [-0.31699476,  0.6235936 ,  0.05909661, ...,  0.4381825 ,\n",
       "         -0.22811443,  0.00077029],\n",
       "        [-0.32814464,  0.5174372 ,  0.26893735, ...,  0.25564378,\n",
       "         -0.28378457, -0.17831288],\n",
       "        [-0.29806432,  0.2309856 ,  0.24227254, ...,  0.5194239 ,\n",
       "         -0.31800705, -0.22625826]], dtype=float32),\n",
       " 'ATR': array([[-0.07340236,  0.67466116,  0.20566536, ...,  0.05746041,\n",
       "         -0.1545001 ,  0.18170843],\n",
       "        [-0.53996027,  0.52242213,  0.68222   , ...,  0.4128264 ,\n",
       "         -0.27044487, -0.68893   ],\n",
       "        [-0.20234713,  0.4565957 ,  0.13760585, ...,  0.3137915 ,\n",
       "         -0.08089159, -0.08056736],\n",
       "        ...,\n",
       "        [-0.31896886,  0.6239614 ,  0.05100287, ...,  0.44124502,\n",
       "         -0.25374174, -0.00523019],\n",
       "        [-0.3377158 ,  0.52149785,  0.26694304, ...,  0.26271847,\n",
       "         -0.31327814, -0.17975293],\n",
       "        [-0.30660886,  0.23798308,  0.22008942, ...,  0.50915337,\n",
       "         -0.34330225, -0.23050939]], dtype=float32),\n",
       " 'PBK': array([[-0.0754609 ,  0.6837985 ,  0.19891463, ...,  0.06622829,\n",
       "         -0.14108738,  0.20381291],\n",
       "        [-0.5423915 ,  0.53072816,  0.6771433 , ...,  0.41288105,\n",
       "         -0.2632627 , -0.66733336],\n",
       "        [-0.20937233,  0.46068782,  0.1450238 , ...,  0.30501178,\n",
       "         -0.06220931, -0.06319939],\n",
       "        ...,\n",
       "        [-0.32628286,  0.63216925,  0.05582248, ...,  0.43526384,\n",
       "         -0.23626837,  0.0158148 ],\n",
       "        [-0.34447566,  0.529078  ,  0.26575828, ...,  0.2607699 ,\n",
       "         -0.29946607, -0.16757694],\n",
       "        [-0.31967065,  0.22751597,  0.25989136, ...,  0.5202231 ,\n",
       "         -0.33099845, -0.2022348 ]], dtype=float32),\n",
       " 'TOP1': array([[-0.03341068,  0.70650804,  0.19162092, ...,  0.04275808,\n",
       "         -0.05335743,  0.18964678],\n",
       "        [-0.49418604,  0.50921744,  0.6247274 , ...,  0.42223233,\n",
       "         -0.19091958, -0.6751043 ],\n",
       "        [-0.15871863,  0.45277172,  0.20520715, ...,  0.29626536,\n",
       "          0.04636044, -0.08083966],\n",
       "        ...,\n",
       "        [-0.28393605,  0.61072075,  0.07482489, ...,  0.42744455,\n",
       "         -0.13919199,  0.01806149],\n",
       "        [-0.2707774 ,  0.4957262 ,  0.2696767 , ...,  0.2276562 ,\n",
       "         -0.20678844, -0.17368086],\n",
       "        [-0.21192323,  0.23755106,  0.16255875, ...,  0.5117098 ,\n",
       "         -0.24348578, -0.23536475]], dtype=float32),\n",
       " 'RPS6KB1': array([[-0.08315073,  0.67331046,  0.20842884, ...,  0.06077802,\n",
       "         -0.15728493,  0.18818375],\n",
       "        [-0.54600537,  0.5281996 ,  0.68609446, ...,  0.4060195 ,\n",
       "         -0.27999762, -0.6810567 ],\n",
       "        [-0.21806103,  0.46317717,  0.14463775, ...,  0.30976462,\n",
       "         -0.08920669, -0.08024493],\n",
       "        ...,\n",
       "        [-0.33769825,  0.631715  ,  0.05644003, ...,  0.43767554,\n",
       "         -0.2597048 , -0.00441309],\n",
       "        [-0.35140905,  0.53227776,  0.27151784, ...,  0.26209214,\n",
       "         -0.31758085, -0.17859784],\n",
       "        [-0.3260375 ,  0.23527768,  0.23885186, ...,  0.5047806 ,\n",
       "         -0.34537002, -0.21775079]], dtype=float32),\n",
       " 'KLF5': array([[-0.07365893,  0.67633367,  0.20709483, ...,  0.06071979,\n",
       "         -0.13387002,  0.18187831],\n",
       "        [-0.53790075,  0.5202244 ,  0.680151  , ...,  0.42009395,\n",
       "         -0.25813505, -0.68746644],\n",
       "        [-0.20490022,  0.4560188 ,  0.1538185 , ...,  0.3138621 ,\n",
       "         -0.06148753, -0.08702114],\n",
       "        ...,\n",
       "        [-0.32253978,  0.62581336,  0.05753091, ...,  0.44088227,\n",
       "         -0.2368454 , -0.00419374],\n",
       "        [-0.33790278,  0.5194926 ,  0.2708839 , ...,  0.26173192,\n",
       "         -0.2927543 , -0.17992717],\n",
       "        [-0.30235076,  0.23404212,  0.23199676, ...,  0.51289594,\n",
       "         -0.32332435, -0.22851984]], dtype=float32),\n",
       " 'NR3C1': array([[-7.5518511e-02,  6.7198664e-01,  2.0933312e-01, ...,\n",
       "          5.6001347e-02, -1.5396437e-01,  1.9035676e-01],\n",
       "        [-5.4400158e-01,  5.2094245e-01,  6.8709445e-01, ...,\n",
       "          4.1113394e-01, -2.6979551e-01, -6.8898988e-01],\n",
       "        [-2.1200445e-01,  4.5615721e-01,  1.3960907e-01, ...,\n",
       "          3.0802095e-01, -8.1905715e-02, -7.8174554e-02],\n",
       "        ...,\n",
       "        [-3.2351062e-01,  6.2805820e-01,  5.4303862e-02, ...,\n",
       "          4.3656310e-01, -2.5765133e-01, -3.9480012e-04],\n",
       "        [-3.4607315e-01,  5.2611017e-01,  2.6823595e-01, ...,\n",
       "          2.6169369e-01, -3.1583312e-01, -1.7594957e-01],\n",
       "        [-3.2797801e-01,  2.2545350e-01,  2.5529370e-01, ...,\n",
       "          5.1356786e-01, -3.4382930e-01, -2.0727777e-01]], dtype=float32),\n",
       " 'EPHB4': array([[-0.08033042,  0.67583996,  0.20539676, ...,  0.05888859,\n",
       "         -0.15151432,  0.186296  ],\n",
       "        [-0.54728645,  0.53057426,  0.68088895, ...,  0.41178024,\n",
       "         -0.27665535, -0.6850491 ],\n",
       "        [-0.21920359,  0.46108478,  0.15061066, ...,  0.31278035,\n",
       "         -0.08320925, -0.08504935],\n",
       "        ...,\n",
       "        [-0.33318505,  0.6323553 ,  0.05379619, ...,  0.43824413,\n",
       "         -0.26016337, -0.00732513],\n",
       "        [-0.35007465,  0.5275128 ,  0.26802632, ...,  0.2632979 ,\n",
       "         -0.31383023, -0.1782168 ],\n",
       "        [-0.32501876,  0.2338191 ,  0.2475469 , ...,  0.5134982 ,\n",
       "         -0.34621292, -0.2168855 ]], dtype=float32),\n",
       " 'MAP3K8': array([[-0.07146279,  0.66998214,  0.20809443, ...,  0.05712155,\n",
       "         -0.13686322,  0.17006184],\n",
       "        [-0.53623873,  0.5120962 ,  0.6845635 , ...,  0.42219105,\n",
       "         -0.2602656 , -0.7006503 ],\n",
       "        [-0.20076908,  0.45092782,  0.14426593, ...,  0.31938627,\n",
       "         -0.06805544, -0.09328935],\n",
       "        ...,\n",
       "        [-0.31990442,  0.6177935 ,  0.05423619, ...,  0.4433522 ,\n",
       "         -0.23998086, -0.01491322],\n",
       "        [-0.33560896,  0.51422054,  0.2709567 , ...,  0.2669641 ,\n",
       "         -0.29752332, -0.18837464],\n",
       "        [-0.30727917,  0.22972803,  0.23742639, ...,  0.518785  ,\n",
       "         -0.32888627, -0.23260404]], dtype=float32),\n",
       " 'MAP4K4': array([[-0.07711957,  0.6829558 ,  0.19752835, ...,  0.06226699,\n",
       "         -0.13542171,  0.18926463],\n",
       "        [-0.53817457,  0.5263888 ,  0.6711785 , ...,  0.41689906,\n",
       "         -0.26177254, -0.67846936],\n",
       "        [-0.20526755,  0.4606706 ,  0.15240292, ...,  0.3135925 ,\n",
       "         -0.0608887 , -0.0807313 ],\n",
       "        ...,\n",
       "        [-0.32508266,  0.6283213 ,  0.05633504, ...,  0.43921387,\n",
       "         -0.23833524,  0.00117723],\n",
       "        [-0.33759704,  0.52267087,  0.26501888, ...,  0.26019612,\n",
       "         -0.2966146 , -0.1774626 ],\n",
       "        [-0.31176388,  0.23188403,  0.24752411, ...,  0.52232367,\n",
       "         -0.33102116, -0.21465033]], dtype=float32),\n",
       " 'MAPK14': array([[-0.07633727,  0.6612581 ,  0.21118036, ...,  0.05925681,\n",
       "         -0.16014205,  0.17843407],\n",
       "        [-0.54531235,  0.5206545 ,  0.6874404 , ...,  0.41272053,\n",
       "         -0.28431386, -0.7020358 ],\n",
       "        [-0.21436226,  0.46424285,  0.13759197, ...,  0.31874758,\n",
       "         -0.10137708, -0.09141194],\n",
       "        ...,\n",
       "        [-0.3310579 ,  0.6294538 ,  0.05173005, ...,  0.44141257,\n",
       "         -0.2703936 , -0.01980484],\n",
       "        [-0.35223466,  0.5289109 ,  0.2721606 , ...,  0.2723566 ,\n",
       "         -0.32331505, -0.18479325],\n",
       "        [-0.32506335,  0.23573947,  0.22839221, ...,  0.5050382 ,\n",
       "         -0.35168034, -0.22276933]], dtype=float32),\n",
       " 'RET': array([[-0.05904824,  0.69397235,  0.19435926, ...,  0.05965959,\n",
       "         -0.09944274,  0.19553727],\n",
       "        [-0.51525587,  0.5227529 ,  0.65280163, ...,  0.4172333 ,\n",
       "         -0.22446226, -0.66577315],\n",
       "        [-0.18321684,  0.45401338,  0.16901425, ...,  0.30247495,\n",
       "         -0.00542614, -0.07096887],\n",
       "        ...,\n",
       "        [-0.30614772,  0.61931854,  0.06549788, ...,  0.4346131 ,\n",
       "         -0.1891127 ,  0.01841835],\n",
       "        [-0.30766976,  0.5115126 ,  0.26606342, ...,  0.24472709,\n",
       "         -0.25224897, -0.16973788],\n",
       "        [-0.25911045,  0.23546422,  0.20780551, ...,  0.5139274 ,\n",
       "         -0.28404438, -0.22579466]], dtype=float32),\n",
       " 'KRAS': array([[-0.08725473,  0.68501294,  0.1977656 , ...,  0.06883702,\n",
       "         -0.14041775,  0.20029823],\n",
       "        [-0.54504615,  0.5276501 ,  0.66376686, ...,  0.4111446 ,\n",
       "         -0.26984006, -0.6643869 ],\n",
       "        [-0.21011527,  0.46173817,  0.15819594, ...,  0.31400156,\n",
       "         -0.06640224, -0.0748331 ],\n",
       "        ...,\n",
       "        [-0.33897546,  0.6227317 ,  0.06264887, ...,  0.4466918 ,\n",
       "         -0.24090911,  0.0153568 ],\n",
       "        [-0.34237605,  0.51855654,  0.26587743, ...,  0.26296452,\n",
       "         -0.3020737 , -0.16645317],\n",
       "        [-0.30261946,  0.23353662,  0.22387746, ...,  0.52206844,\n",
       "         -0.33330792, -0.22012688]], dtype=float32),\n",
       " 'SMO': array([[-0.08767761,  0.67280143,  0.20577225, ...,  0.06216323,\n",
       "         -0.16575071,  0.19878456],\n",
       "        [-0.55324286,  0.53063375,  0.6891918 , ...,  0.40729722,\n",
       "         -0.28726166, -0.678165  ],\n",
       "        [-0.21953773,  0.4703483 ,  0.14023642, ...,  0.30852067,\n",
       "         -0.10390259, -0.07732455],\n",
       "        ...,\n",
       "        [-0.34207407,  0.63580287,  0.05344485, ...,  0.43587998,\n",
       "         -0.26777825,  0.00102355],\n",
       "        [-0.35916367,  0.5407065 ,  0.27039674, ...,  0.26465532,\n",
       "         -0.32935748, -0.17503344],\n",
       "        [-0.33969632,  0.23608078,  0.24203464, ...,  0.5046024 ,\n",
       "         -0.35663915, -0.20469216]], dtype=float32),\n",
       " 'MAP2K1': array([[-0.0612253 ,  0.69484377,  0.196196  , ...,  0.05357959,\n",
       "         -0.10024996,  0.18985993],\n",
       "        [-0.5232157 ,  0.5191547 ,  0.6521647 , ...,  0.41928655,\n",
       "         -0.22681093, -0.67519516],\n",
       "        [-0.18034573,  0.4618265 ,  0.16853784, ...,  0.30351624,\n",
       "         -0.01509963, -0.08086032],\n",
       "        ...,\n",
       "        [-0.30838257,  0.61771375,  0.06239089, ...,  0.4338416 ,\n",
       "         -0.19090268,  0.01118953],\n",
       "        [-0.30871668,  0.51247084,  0.26722112, ...,  0.24260764,\n",
       "         -0.2558723 , -0.17314039],\n",
       "        [-0.26730943,  0.23810872,  0.2082667 , ...,  0.5175111 ,\n",
       "         -0.2918261 , -0.22982247]], dtype=float32),\n",
       " 'AURKB': array([[-0.08528033,  0.6725436 ,  0.20331922, ...,  0.06434506,\n",
       "         -0.1505809 ,  0.19302392],\n",
       "        [-0.5495466 ,  0.5221236 ,  0.6853428 , ...,  0.41667634,\n",
       "         -0.2748521 , -0.68502486],\n",
       "        [-0.2204522 ,  0.45593894,  0.15092266, ...,  0.31497425,\n",
       "         -0.07849657, -0.07579762],\n",
       "        ...,\n",
       "        [-0.33555287,  0.6256643 ,  0.05704861, ...,  0.44116122,\n",
       "         -0.25625044,  0.00228505],\n",
       "        [-0.35205242,  0.52759624,  0.26892996, ...,  0.26772398,\n",
       "         -0.31494072, -0.17515424],\n",
       "        [-0.3355558 ,  0.22481757,  0.25693002, ...,  0.52416   ,\n",
       "         -0.34466544, -0.20932029]], dtype=float32),\n",
       " 'ERBB2': array([[-0.05922279,  0.69147754,  0.1990581 , ...,  0.057406  ,\n",
       "         -0.10922087,  0.19277258],\n",
       "        [-0.5230843 ,  0.5156296 ,  0.65835077, ...,  0.42233917,\n",
       "         -0.23465727, -0.6751745 ],\n",
       "        [-0.1835813 ,  0.45426857,  0.16916882, ...,  0.3068684 ,\n",
       "         -0.02060034, -0.07828581],\n",
       "        ...,\n",
       "        [-0.3055046 ,  0.6187032 ,  0.06357782, ...,  0.43865883,\n",
       "         -0.19956815,  0.01326701],\n",
       "        [-0.31176034,  0.51193374,  0.2693095 , ...,  0.25051484,\n",
       "         -0.2631749 , -0.1727047 ],\n",
       "        [-0.25976145,  0.24123338,  0.18773855, ...,  0.5074848 ,\n",
       "         -0.2959754 , -0.23256736]], dtype=float32),\n",
       " 'BRAF': array([[-0.05991435,  0.69109875,  0.19694075, ...,  0.05524716,\n",
       "         -0.10750148,  0.18879026],\n",
       "        [-0.52201825,  0.51664466,  0.65732884, ...,  0.42032984,\n",
       "         -0.23163816, -0.6758204 ],\n",
       "        [-0.18588455,  0.4515387 ,  0.16705276, ...,  0.30334288,\n",
       "         -0.01775928, -0.07812372],\n",
       "        ...,\n",
       "        [-0.306767  ,  0.6172537 ,  0.06293895, ...,  0.43601072,\n",
       "         -0.19742179,  0.01271414],\n",
       "        [-0.31204545,  0.511216  ,  0.26707518, ...,  0.24669431,\n",
       "         -0.26192474, -0.17342624],\n",
       "        [-0.2693157 ,  0.23652661,  0.21084772, ...,  0.5172478 ,\n",
       "         -0.29470393, -0.23034784]], dtype=float32),\n",
       " 'ctrl': array([[-0.07025475,  0.6843736 ,  0.20153832, ...,  0.0553677 ,\n",
       "         -0.10075139,  0.1782541 ],\n",
       "        [-0.5229504 ,  0.5141912 ,  0.65597594, ...,  0.4224481 ,\n",
       "         -0.2313697 , -0.67895186],\n",
       "        [-0.18917646,  0.44795135,  0.17089133, ...,  0.31123823,\n",
       "         -0.01906746, -0.0851078 ],\n",
       "        ...,\n",
       "        [-0.31724387,  0.6112235 ,  0.06484083, ...,  0.4404575 ,\n",
       "         -0.1953694 ,  0.00429199],\n",
       "        [-0.3159455 ,  0.50197846,  0.27312624, ...,  0.2516739 ,\n",
       "         -0.2551571 , -0.17305282],\n",
       "        [-0.27506104,  0.22924888,  0.22320868, ...,  0.52107865,\n",
       "         -0.28721303, -0.2355073 ]], dtype=float32),\n",
       " 'BCL2': array([[-0.05092304,  0.6833886 ,  0.20145747, ...,  0.05812231,\n",
       "         -0.10343481,  0.17691237],\n",
       "        [-0.51114494,  0.5121705 ,  0.66179216, ...,  0.4213595 ,\n",
       "         -0.2299496 , -0.6835003 ],\n",
       "        [-0.183     ,  0.4441617 ,  0.17276563, ...,  0.3088471 ,\n",
       "         -0.01513574, -0.09051331],\n",
       "        ...,\n",
       "        [-0.29961127,  0.6121625 ,  0.06320364, ...,  0.44015828,\n",
       "         -0.1969187 ,  0.0009845 ],\n",
       "        [-0.3040426 ,  0.50421137,  0.26828262, ...,  0.25034297,\n",
       "         -0.25554502, -0.1840575 ],\n",
       "        [-0.2571541 ,  0.23096222,  0.2145416 , ...,  0.51959676,\n",
       "         -0.29018492, -0.24029888]], dtype=float32)}"
      ]
     },
     "execution_count": 68,
     "metadata": {},
     "output_type": "execute_result"
    }
   ],
   "source": [
    "dict_sum_target_gene_mean"
   ]
  },
  {
   "cell_type": "code",
   "execution_count": 71,
   "metadata": {},
   "outputs": [],
   "source": [
    "gene_vocab_idx = all_gene_ids[0].clone().detach().cpu().numpy()"
   ]
  },
  {
   "cell_type": "code",
   "execution_count": 76,
   "metadata": {},
   "outputs": [],
   "source": [
    "perturb_targets = list(dict_sum_target_gene_mean.keys())"
   ]
  },
  {
   "cell_type": "code",
   "execution_count": 77,
   "metadata": {},
   "outputs": [
    {
     "data": {
      "text/plain": [
       "['EIF4E',\n",
       " 'GSK3B',\n",
       " 'ATM',\n",
       " 'PRKDC',\n",
       " 'MTOR',\n",
       " 'PIK3CA',\n",
       " 'CYP19A1',\n",
       " 'EPAS1',\n",
       " 'PSMB5',\n",
       " 'MET',\n",
       " 'PTGS2',\n",
       " 'MAPK7',\n",
       " 'PRKAA1',\n",
       " 'ATR',\n",
       " 'PBK',\n",
       " 'TOP1',\n",
       " 'RPS6KB1',\n",
       " 'KLF5',\n",
       " 'NR3C1',\n",
       " 'EPHB4',\n",
       " 'MAP3K8',\n",
       " 'MAP4K4',\n",
       " 'MAPK14',\n",
       " 'RET',\n",
       " 'KRAS',\n",
       " 'SMO',\n",
       " 'MAP2K1',\n",
       " 'AURKB',\n",
       " 'ERBB2',\n",
       " 'BRAF',\n",
       " 'ctrl',\n",
       " 'BCL2']"
      ]
     },
     "execution_count": 77,
     "metadata": {},
     "output_type": "execute_result"
    }
   ],
   "source": [
    "perturb_targets"
   ]
  },
  {
   "cell_type": "code",
   "execution_count": 78,
   "metadata": {},
   "outputs": [
    {
     "data": {
      "text/plain": [
       "['EIF4E',\n",
       " 'GSK3B',\n",
       " 'PIK3CA',\n",
       " 'CYP19A1',\n",
       " 'PRKDC',\n",
       " 'MTOR',\n",
       " 'ATM',\n",
       " 'EPAS1',\n",
       " 'PSMB5',\n",
       " 'MET',\n",
       " 'PTGS2',\n",
       " 'ATR',\n",
       " 'MAPK7',\n",
       " 'PRKAA1',\n",
       " 'PBK',\n",
       " 'TOP1',\n",
       " 'PSMB5',\n",
       " 'RPS6KB1',\n",
       " 'NR3C1',\n",
       " 'PRKAA1',\n",
       " 'KLF5',\n",
       " 'EPHB4',\n",
       " 'MAP3K8',\n",
       " 'MAP4K4',\n",
       " 'MAPK14',\n",
       " 'RET',\n",
       " 'KRAS',\n",
       " 'MTOR',\n",
       " 'SMO',\n",
       " 'MAP2K1',\n",
       " 'AURKB',\n",
       " 'ERBB2',\n",
       " 'BRAF',\n",
       " 'BCL2']"
      ]
     },
     "execution_count": 78,
     "metadata": {},
     "output_type": "execute_result"
    }
   ],
   "source": [
    "condition_names_gene"
   ]
  },
  {
   "cell_type": "code",
   "execution_count": 81,
   "metadata": {},
   "outputs": [],
   "source": [
    "perturb_targets.remove('ctrl')\n",
    "assert 'ctrl' not in perturb_targets"
   ]
  },
  {
   "cell_type": "code",
   "execution_count": 83,
   "metadata": {},
   "outputs": [
    {
     "data": {
      "text/plain": [
       "array([[-0.07025475,  0.6843736 ,  0.20153832, ...,  0.0553677 ,\n",
       "        -0.10075139,  0.1782541 ],\n",
       "       [-0.5229504 ,  0.5141912 ,  0.65597594, ...,  0.4224481 ,\n",
       "        -0.2313697 , -0.67895186],\n",
       "       [-0.18917646,  0.44795135,  0.17089133, ...,  0.31123823,\n",
       "        -0.01906746, -0.0851078 ],\n",
       "       ...,\n",
       "       [-0.31724387,  0.6112235 ,  0.06484083, ...,  0.4404575 ,\n",
       "        -0.1953694 ,  0.00429199],\n",
       "       [-0.3159455 ,  0.50197846,  0.27312624, ...,  0.2516739 ,\n",
       "        -0.2551571 , -0.17305282],\n",
       "       [-0.27506104,  0.22924888,  0.22320868, ...,  0.52107865,\n",
       "        -0.28721303, -0.2355073 ]], dtype=float32)"
      ]
     },
     "execution_count": 83,
     "metadata": {},
     "output_type": "execute_result"
    }
   ],
   "source": [
    "dict_sum_target_gene_mean[\"ctrl\"]"
   ]
  },
  {
   "cell_type": "code",
   "execution_count": 112,
   "metadata": {},
   "outputs": [
    {
     "name": "stderr",
     "output_type": "stream",
     "text": [
      "954it [00:00, 3355.53it/s]\n"
     ]
    },
    {
     "name": "stdout",
     "output_type": "stream",
     "text": [
      "EIF4E 796\n"
     ]
    },
    {
     "name": "stderr",
     "output_type": "stream",
     "text": [
      "954it [00:00, 3144.42it/s]\n"
     ]
    },
    {
     "name": "stdout",
     "output_type": "stream",
     "text": [
      "GSK3B 162\n"
     ]
    },
    {
     "name": "stderr",
     "output_type": "stream",
     "text": [
      "954it [00:00, 3326.77it/s]\n"
     ]
    },
    {
     "name": "stdout",
     "output_type": "stream",
     "text": [
      "ATM 178\n"
     ]
    },
    {
     "name": "stderr",
     "output_type": "stream",
     "text": [
      "954it [00:00, 3186.20it/s]\n"
     ]
    },
    {
     "name": "stdout",
     "output_type": "stream",
     "text": [
      "PRKDC 344\n"
     ]
    },
    {
     "name": "stderr",
     "output_type": "stream",
     "text": [
      "954it [00:00, 3313.79it/s]\n"
     ]
    },
    {
     "name": "stdout",
     "output_type": "stream",
     "text": [
      "MTOR 283\n"
     ]
    },
    {
     "name": "stderr",
     "output_type": "stream",
     "text": [
      "954it [00:00, 3219.95it/s]\n"
     ]
    },
    {
     "name": "stdout",
     "output_type": "stream",
     "text": [
      "PIK3CA 204\n"
     ]
    },
    {
     "name": "stderr",
     "output_type": "stream",
     "text": [
      "954it [00:00, 3428.56it/s]\n"
     ]
    },
    {
     "name": "stdout",
     "output_type": "stream",
     "text": [
      "CYP19A1 290\n"
     ]
    },
    {
     "name": "stderr",
     "output_type": "stream",
     "text": [
      "954it [00:00, 3351.11it/s]\n"
     ]
    },
    {
     "name": "stdout",
     "output_type": "stream",
     "text": [
      "EPAS1 401\n"
     ]
    },
    {
     "name": "stderr",
     "output_type": "stream",
     "text": [
      "954it [00:00, 3172.00it/s]\n"
     ]
    },
    {
     "name": "stdout",
     "output_type": "stream",
     "text": [
      "PSMB5 952\n"
     ]
    },
    {
     "name": "stderr",
     "output_type": "stream",
     "text": [
      "954it [00:00, 3188.01it/s]\n"
     ]
    },
    {
     "name": "stdout",
     "output_type": "stream",
     "text": [
      "MET 83\n"
     ]
    },
    {
     "name": "stderr",
     "output_type": "stream",
     "text": [
      "954it [00:00, 3232.70it/s]\n"
     ]
    },
    {
     "name": "stdout",
     "output_type": "stream",
     "text": [
      "PTGS2 542\n"
     ]
    },
    {
     "name": "stderr",
     "output_type": "stream",
     "text": [
      "954it [00:00, 3383.94it/s]\n"
     ]
    },
    {
     "name": "stdout",
     "output_type": "stream",
     "text": [
      "MAPK7 944\n"
     ]
    },
    {
     "name": "stderr",
     "output_type": "stream",
     "text": [
      "954it [00:00, 3361.51it/s]\n"
     ]
    },
    {
     "name": "stdout",
     "output_type": "stream",
     "text": [
      "PRKAA1 461\n"
     ]
    },
    {
     "name": "stderr",
     "output_type": "stream",
     "text": [
      "954it [00:00, 3289.91it/s]\n"
     ]
    },
    {
     "name": "stdout",
     "output_type": "stream",
     "text": [
      "ATR 235\n"
     ]
    },
    {
     "name": "stderr",
     "output_type": "stream",
     "text": [
      "954it [00:00, 3269.21it/s]\n"
     ]
    },
    {
     "name": "stdout",
     "output_type": "stream",
     "text": [
      "PBK 836\n"
     ]
    },
    {
     "name": "stderr",
     "output_type": "stream",
     "text": [
      "954it [00:00, 3353.56it/s]\n"
     ]
    },
    {
     "name": "stdout",
     "output_type": "stream",
     "text": [
      "TOP1 505\n"
     ]
    },
    {
     "name": "stderr",
     "output_type": "stream",
     "text": [
      "954it [00:00, 3089.66it/s]\n"
     ]
    },
    {
     "name": "stdout",
     "output_type": "stream",
     "text": [
      "RPS6KB1 334\n"
     ]
    },
    {
     "name": "stderr",
     "output_type": "stream",
     "text": [
      "954it [00:00, 3552.02it/s]\n"
     ]
    },
    {
     "name": "stdout",
     "output_type": "stream",
     "text": [
      "KLF5 636\n"
     ]
    },
    {
     "name": "stderr",
     "output_type": "stream",
     "text": [
      "954it [00:00, 3259.47it/s]\n"
     ]
    },
    {
     "name": "stdout",
     "output_type": "stream",
     "text": [
      "NR3C1 297\n"
     ]
    },
    {
     "name": "stderr",
     "output_type": "stream",
     "text": [
      "954it [00:00, 3418.68it/s]\n"
     ]
    },
    {
     "name": "stdout",
     "output_type": "stream",
     "text": [
      "EPHB4 774\n"
     ]
    },
    {
     "name": "stderr",
     "output_type": "stream",
     "text": [
      "954it [00:00, 3367.15it/s]\n"
     ]
    },
    {
     "name": "stdout",
     "output_type": "stream",
     "text": [
      "MAP3K8 608\n"
     ]
    },
    {
     "name": "stderr",
     "output_type": "stream",
     "text": [
      "954it [00:00, 3328.57it/s]\n"
     ]
    },
    {
     "name": "stdout",
     "output_type": "stream",
     "text": [
      "MAP4K4 180\n"
     ]
    },
    {
     "name": "stderr",
     "output_type": "stream",
     "text": [
      "954it [00:00, 3217.82it/s]\n"
     ]
    },
    {
     "name": "stdout",
     "output_type": "stream",
     "text": [
      "MAPK14 253\n"
     ]
    },
    {
     "name": "stderr",
     "output_type": "stream",
     "text": [
      "954it [00:00, 3385.58it/s]\n"
     ]
    },
    {
     "name": "stdout",
     "output_type": "stream",
     "text": [
      "RET 785\n"
     ]
    },
    {
     "name": "stderr",
     "output_type": "stream",
     "text": [
      "954it [00:00, 3374.66it/s]\n"
     ]
    },
    {
     "name": "stdout",
     "output_type": "stream",
     "text": [
      "KRAS 859\n"
     ]
    },
    {
     "name": "stderr",
     "output_type": "stream",
     "text": [
      "954it [00:00, 3454.32it/s]\n"
     ]
    },
    {
     "name": "stdout",
     "output_type": "stream",
     "text": [
      "SMO 857\n"
     ]
    },
    {
     "name": "stderr",
     "output_type": "stream",
     "text": [
      "954it [00:00, 3457.15it/s]\n"
     ]
    },
    {
     "name": "stdout",
     "output_type": "stream",
     "text": [
      "MAP2K1 298\n"
     ]
    },
    {
     "name": "stderr",
     "output_type": "stream",
     "text": [
      "954it [00:00, 3259.55it/s]\n"
     ]
    },
    {
     "name": "stdout",
     "output_type": "stream",
     "text": [
      "AURKB 753\n"
     ]
    },
    {
     "name": "stderr",
     "output_type": "stream",
     "text": [
      "954it [00:00, 3550.79it/s]\n"
     ]
    },
    {
     "name": "stdout",
     "output_type": "stream",
     "text": [
      "ERBB2 658\n"
     ]
    },
    {
     "name": "stderr",
     "output_type": "stream",
     "text": [
      "954it [00:00, 3332.55it/s]\n"
     ]
    },
    {
     "name": "stdout",
     "output_type": "stream",
     "text": [
      "BRAF 310\n"
     ]
    },
    {
     "name": "stderr",
     "output_type": "stream",
     "text": [
      "954it [00:00, 3357.60it/s]"
     ]
    },
    {
     "name": "stdout",
     "output_type": "stream",
     "text": [
      "BCL2 198\n"
     ]
    },
    {
     "name": "stderr",
     "output_type": "stream",
     "text": [
      "\n"
     ]
    }
   ],
   "source": [
    "rank_list = []\n",
    "\n",
    "for t in perturb_targets:\n",
    "    celltype_0 = t\n",
    "    celltype_1 = 'ctrl'\n",
    "    gene_emb_celltype_0 = np.expand_dims(dict_sum_target_gene_mean[celltype_0][1:, :], 0)\n",
    "    gene_emb_celltype_1 = np.expand_dims(dict_sum_target_gene_mean[celltype_1][1:, :], 0)\n",
    "    gene_dist_dict = {}\n",
    "    for i, 2048\n",
    "    dd in tqdm(enumerate(genes)):\n",
    "        gene_dist_dict[g] = cosine_distances(gene_emb_celltype_0[:, i, :], gene_emb_celltype_1[:, i, :]).mean()\n",
    "    df_gene_emb_dist = pd.DataFrame.from_dict(gene_dist_dict, orient='index', columns=['cos_dist'])\n",
    "    df_deg = df_gene_emb_dist.sort_values(by='cos_dist', ascending=False)\n",
    "    print(t, np.where(df_deg.index==t)[0][0])\n",
    "    rank_list.append(np.where(df_deg.index==t)[0][0])"
   ]
  },
  {
   "cell_type": "markdown",
   "metadata": {},
   "source": [
    "## Save Results & Analysis"
   ]
  },
  {
   "cell_type": "code",
   "execution_count": 113,
   "metadata": {},
   "outputs": [
    {
     "data": {
      "text/plain": [
       "rec.array([('FTL', 'PPP1R15A', 'FTL', 'HSP90AA1', 'FTL', 'PPP1R15A', 'NEAT1', 'FTL', 'MT2A', 'HSPA8', 'FTL', 'MT2A', 'FTH1', 'HSPA8', 'MT2A', 'FTL', 'PPP1R15A', 'MT2A', 'TXNRD1', 'FTL', 'MT2A', 'FTL', 'NEAT1', 'FTL', 'MT2A', 'PPP1R15A', 'MT2A', 'HSP90AA1', 'FTL', 'FTL', 'ARHGAP26'),\n",
       "           ('PPP1R15A', 'NEAT1', 'MT2A', 'BIRC3', 'HSPA8', 'AKAP12', 'MALAT1', 'MT2A', 'FTL', 'PPP1R15A', 'MT2A', 'PPP1R15A', 'FTL', 'NEAT1', 'MYC', 'MT2A', 'FTL', 'FTL', 'WWC1', 'MT2A', 'FTL', 'MT2A', 'ARHGAP26', 'MT2A', 'FTL', 'HSPA8', 'FTL', 'HES1', 'MT2A', 'MT2A', 'PDE4D'),\n",
       "           ('HES1', 'DDIT4', 'FTH1', 'PRKDC', 'TXNRD1', 'NEAT1', 'THSD4', 'HES1', 'MT1X', 'SOD2', 'KRT81', 'ADM', 'TXNRD1', 'BHLHE40', 'NUP58', 'HSPA8', 'MT2A', 'DDIT4', 'DDIT4', 'HSPA8', 'CYP1B1', 'HSP90AA1', 'KYNU', 'HSP90AA1', 'HES1', 'HSP90AA1', 'MT1X', 'NR3C1', 'UBC', 'HES1', 'KYNU'),\n",
       "           ...,\n",
       "           ('VCL', 'EFNA5', 'MALAT1', 'IGFBP3', 'IGFBP3', 'IARS1', 'IGSF11', 'HSPA5', 'VCL', 'EGR1', 'PDE4D', 'IGFBP3', 'EGR1', 'HSPA5', 'EFNA5', 'AADACP1', 'THSD4', 'EFNA5', 'MAML3', 'VCL', 'PDE10A', 'PDE4D', 'EGR1', 'EFNA5', 'PDE4D', 'PDE4D', 'IGFBP3', 'CD55', 'PDE4D', 'EFNA5', 'SCD'),\n",
       "           ('AADACP1', 'THSD4', 'EFNA5', 'AADACP1', 'EGR1', 'IGFBP4', 'IGFBP4', 'VCL', 'PDE4D', 'IGFBP4', 'EFNA5', 'PDE4D', 'THSD4', 'CD55', 'IGFBP3', 'EFNA5', 'VCL', 'PDE4D', 'THSD4', 'PDE10A', 'EFNA5', 'GRB10', 'KCNMA1', 'PDE10A', 'AADACP1', 'AADACP1', 'EFNA5', 'EGR1', 'EFNA5', 'PDE4D', 'HSPA5'),\n",
       "           ('PDE4D', 'AADACP1', 'PDE4D', 'EGR1', 'AADACP1', 'HSPA5', 'AKR1C2', 'EFNA5', 'EFNA5', 'AADACP1', 'MALAT1', 'MALAT1', 'AADACP1', 'AADACP1', 'PDE4D', 'VCL', 'EFNA5', 'MALAT1', 'AADACP1', 'MAML3', 'PDE4D', 'AUTS2', 'HSPA5', 'PDE4D', 'EFNA5', 'EFNA5', 'PDE4D', 'AADACP1', 'MALAT1', 'MALAT1', 'MUC5AC')],\n",
       "          dtype=[('ATM', 'O'), ('ATR', 'O'), ('AURKB', 'O'), ('BCL2', 'O'), ('BRAF', 'O'), ('CYP19A1', 'O'), ('EIF4E', 'O'), ('EPAS1', 'O'), ('EPHB4', 'O'), ('ERBB2', 'O'), ('GSK3B', 'O'), ('KLF5', 'O'), ('KRAS', 'O'), ('MAP2K1', 'O'), ('MAP3K8', 'O'), ('MAP4K4', 'O'), ('MAPK7', 'O'), ('MAPK14', 'O'), ('MET', 'O'), ('MTOR', 'O'), ('NR3C1', 'O'), ('PBK', 'O'), ('PIK3CA', 'O'), ('PRKAA1', 'O'), ('PRKDC', 'O'), ('PSMB5', 'O'), ('PTGS2', 'O'), ('RET', 'O'), ('RPS6KB1', 'O'), ('SMO', 'O'), ('TOP1', 'O')])"
      ]
     },
     "execution_count": 113,
     "metadata": {},
     "output_type": "execute_result"
    }
   ],
   "source": [
    "adata.uns['wilcoxon']['names']"
   ]
  },
  {
   "cell_type": "code",
   "execution_count": 114,
   "metadata": {},
   "outputs": [
    {
     "data": {
      "text/plain": [
       "['EIF4E',\n",
       " 'GSK3B',\n",
       " 'ATM',\n",
       " 'PRKDC',\n",
       " 'MTOR',\n",
       " 'PIK3CA',\n",
       " 'CYP19A1',\n",
       " 'EPAS1',\n",
       " 'PSMB5',\n",
       " 'MET',\n",
       " 'PTGS2',\n",
       " 'MAPK7',\n",
       " 'PRKAA1',\n",
       " 'ATR',\n",
       " 'PBK',\n",
       " 'TOP1',\n",
       " 'RPS6KB1',\n",
       " 'KLF5',\n",
       " 'NR3C1',\n",
       " 'EPHB4',\n",
       " 'MAP3K8',\n",
       " 'MAP4K4',\n",
       " 'MAPK14',\n",
       " 'RET',\n",
       " 'KRAS',\n",
       " 'SMO',\n",
       " 'MAP2K1',\n",
       " 'AURKB',\n",
       " 'ERBB2',\n",
       " 'BRAF',\n",
       " 'BCL2']"
      ]
     },
     "execution_count": 114,
     "metadata": {},
     "output_type": "execute_result"
    }
   ],
   "source": [
    "perturb_targets"
   ]
  },
  {
   "cell_type": "code",
   "execution_count": 115,
   "metadata": {},
   "outputs": [
    {
     "name": "stdout",
     "output_type": "stream",
     "text": [
      "EIF4E 330\n",
      "GSK3B 37\n",
      "ATM 65\n",
      "PRKDC 519\n",
      "MTOR 370\n",
      "PIK3CA 313\n",
      "CYP19A1 770\n",
      "EPAS1 54\n",
      "PSMB5 342\n",
      "MET 212\n",
      "PTGS2 33\n",
      "MAPK7 490\n",
      "PRKAA1 269\n",
      "ATR 200\n",
      "PBK 228\n",
      "TOP1 63\n",
      "RPS6KB1 171\n",
      "KLF5 56\n",
      "NR3C1 107\n",
      "EPHB4 594\n",
      "MAP3K8 483\n",
      "MAP4K4 19\n",
      "MAPK14 268\n",
      "RET 549\n",
      "KRAS 146\n",
      "SMO 566\n",
      "MAP2K1 42\n",
      "AURKB 849\n",
      "ERBB2 591\n",
      "BRAF 125\n",
      "BCL2 946\n"
     ]
    }
   ],
   "source": [
    "# rerun wilcoxon rank for gene targets instead\n",
    "\n",
    "baseline_rank_t = []\n",
    "\n",
    "for t in perturb_targets:\n",
    "    # print(c)\n",
    "    hvg_list = adata.uns['wilcoxon']['names'][t]\n",
    "    p_val = adata.uns['wilcoxon']['pvals_adj'][t]\n",
    "    df_gene_emb_dist = pd.DataFrame()\n",
    "    df_gene_emb_dist['gene'] = hvg_list\n",
    "    df_gene_emb_dist['p_val'] = p_val\n",
    "    df_gene_emb_dist = df_gene_emb_dist.sort_values(by='p_val')\n",
    "    print(t, np.where(df_gene_emb_dist.gene.values==t)[0][0])\n",
    "    baseline_rank_t.append(np.where(df_gene_emb_dist.gene.values==t)[0][0])"
   ]
  },
  {
   "cell_type": "code",
   "execution_count": 116,
   "metadata": {},
   "outputs": [
    {
     "data": {
      "text/plain": [
       "[330,\n",
       " 37,\n",
       " 65,\n",
       " 519,\n",
       " 370,\n",
       " 313,\n",
       " 770,\n",
       " 54,\n",
       " 342,\n",
       " 212,\n",
       " 33,\n",
       " 490,\n",
       " 269,\n",
       " 200,\n",
       " 228,\n",
       " 63,\n",
       " 171,\n",
       " 56,\n",
       " 107,\n",
       " 594,\n",
       " 483,\n",
       " 19,\n",
       " 268,\n",
       " 549,\n",
       " 146,\n",
       " 566,\n",
       " 42,\n",
       " 849,\n",
       " 591,\n",
       " 125,\n",
       " 946]"
      ]
     },
     "execution_count": 116,
     "metadata": {},
     "output_type": "execute_result"
    }
   ],
   "source": [
    "baseline_rank_t"
   ]
  },
  {
   "cell_type": "code",
   "execution_count": 117,
   "metadata": {},
   "outputs": [
    {
     "data": {
      "text/plain": [
       "['EIF4E',\n",
       " 'GSK3B',\n",
       " 'ATM',\n",
       " 'PRKDC',\n",
       " 'MTOR',\n",
       " 'PIK3CA',\n",
       " 'CYP19A1',\n",
       " 'EPAS1',\n",
       " 'PSMB5',\n",
       " 'MET',\n",
       " 'PTGS2',\n",
       " 'MAPK7',\n",
       " 'PRKAA1',\n",
       " 'ATR',\n",
       " 'PBK',\n",
       " 'TOP1',\n",
       " 'RPS6KB1',\n",
       " 'KLF5',\n",
       " 'NR3C1',\n",
       " 'EPHB4',\n",
       " 'MAP3K8',\n",
       " 'MAP4K4',\n",
       " 'MAPK14',\n",
       " 'RET',\n",
       " 'KRAS',\n",
       " 'SMO',\n",
       " 'MAP2K1',\n",
       " 'AURKB',\n",
       " 'ERBB2',\n",
       " 'BRAF',\n",
       " 'BCL2']"
      ]
     },
     "execution_count": 117,
     "metadata": {},
     "output_type": "execute_result"
    }
   ],
   "source": [
    "perturb_targets"
   ]
  },
  {
   "cell_type": "code",
   "execution_count": 118,
   "metadata": {},
   "outputs": [
    {
     "data": {
      "text/plain": [
       "31"
      ]
     },
     "execution_count": 118,
     "metadata": {},
     "output_type": "execute_result"
    }
   ],
   "source": [
    "len(perturb_targets)"
   ]
  },
  {
   "cell_type": "code",
   "execution_count": 119,
   "metadata": {},
   "outputs": [
    {
     "data": {
      "text/plain": [
       "31"
      ]
     },
     "execution_count": 119,
     "metadata": {},
     "output_type": "execute_result"
    }
   ],
   "source": [
    "len(baseline_rank_t)"
   ]
  },
  {
   "cell_type": "code",
   "execution_count": 120,
   "metadata": {},
   "outputs": [
    {
     "data": {
      "text/plain": [
       "31"
      ]
     },
     "execution_count": 120,
     "metadata": {},
     "output_type": "execute_result"
    }
   ],
   "source": [
    "len(rank_list)"
   ]
  },
  {
   "cell_type": "code",
   "execution_count": 121,
   "metadata": {},
   "outputs": [],
   "source": [
    "df_results = df = pd.DataFrame({\n",
    "    'conditions': perturb_targets,\n",
    "    'wilcoxon': baseline_rank_t,\n",
    "    'scGPT_rank': rank_list\n",
    "})"
   ]
  },
  {
   "cell_type": "code",
   "execution_count": 122,
   "metadata": {},
   "outputs": [
    {
     "data": {
      "text/html": [
       "<div>\n",
       "<style scoped>\n",
       "    .dataframe tbody tr th:only-of-type {\n",
       "        vertical-align: middle;\n",
       "    }\n",
       "\n",
       "    .dataframe tbody tr th {\n",
       "        vertical-align: top;\n",
       "    }\n",
       "\n",
       "    .dataframe thead th {\n",
       "        text-align: right;\n",
       "    }\n",
       "</style>\n",
       "<table border=\"1\" class=\"dataframe\">\n",
       "  <thead>\n",
       "    <tr style=\"text-align: right;\">\n",
       "      <th></th>\n",
       "      <th>conditions</th>\n",
       "      <th>wilcoxon</th>\n",
       "      <th>scGPT_rank</th>\n",
       "    </tr>\n",
       "  </thead>\n",
       "  <tbody>\n",
       "    <tr>\n",
       "      <th>0</th>\n",
       "      <td>EIF4E</td>\n",
       "      <td>330</td>\n",
       "      <td>796</td>\n",
       "    </tr>\n",
       "    <tr>\n",
       "      <th>1</th>\n",
       "      <td>GSK3B</td>\n",
       "      <td>37</td>\n",
       "      <td>162</td>\n",
       "    </tr>\n",
       "    <tr>\n",
       "      <th>2</th>\n",
       "      <td>ATM</td>\n",
       "      <td>65</td>\n",
       "      <td>178</td>\n",
       "    </tr>\n",
       "    <tr>\n",
       "      <th>3</th>\n",
       "      <td>PRKDC</td>\n",
       "      <td>519</td>\n",
       "      <td>344</td>\n",
       "    </tr>\n",
       "    <tr>\n",
       "      <th>4</th>\n",
       "      <td>MTOR</td>\n",
       "      <td>370</td>\n",
       "      <td>283</td>\n",
       "    </tr>\n",
       "    <tr>\n",
       "      <th>5</th>\n",
       "      <td>PIK3CA</td>\n",
       "      <td>313</td>\n",
       "      <td>204</td>\n",
       "    </tr>\n",
       "    <tr>\n",
       "      <th>6</th>\n",
       "      <td>CYP19A1</td>\n",
       "      <td>770</td>\n",
       "      <td>290</td>\n",
       "    </tr>\n",
       "    <tr>\n",
       "      <th>7</th>\n",
       "      <td>EPAS1</td>\n",
       "      <td>54</td>\n",
       "      <td>401</td>\n",
       "    </tr>\n",
       "    <tr>\n",
       "      <th>8</th>\n",
       "      <td>PSMB5</td>\n",
       "      <td>342</td>\n",
       "      <td>952</td>\n",
       "    </tr>\n",
       "    <tr>\n",
       "      <th>9</th>\n",
       "      <td>MET</td>\n",
       "      <td>212</td>\n",
       "      <td>83</td>\n",
       "    </tr>\n",
       "    <tr>\n",
       "      <th>10</th>\n",
       "      <td>PTGS2</td>\n",
       "      <td>33</td>\n",
       "      <td>542</td>\n",
       "    </tr>\n",
       "    <tr>\n",
       "      <th>11</th>\n",
       "      <td>MAPK7</td>\n",
       "      <td>490</td>\n",
       "      <td>944</td>\n",
       "    </tr>\n",
       "    <tr>\n",
       "      <th>12</th>\n",
       "      <td>PRKAA1</td>\n",
       "      <td>269</td>\n",
       "      <td>461</td>\n",
       "    </tr>\n",
       "    <tr>\n",
       "      <th>13</th>\n",
       "      <td>ATR</td>\n",
       "      <td>200</td>\n",
       "      <td>235</td>\n",
       "    </tr>\n",
       "    <tr>\n",
       "      <th>14</th>\n",
       "      <td>PBK</td>\n",
       "      <td>228</td>\n",
       "      <td>836</td>\n",
       "    </tr>\n",
       "    <tr>\n",
       "      <th>15</th>\n",
       "      <td>TOP1</td>\n",
       "      <td>63</td>\n",
       "      <td>505</td>\n",
       "    </tr>\n",
       "    <tr>\n",
       "      <th>16</th>\n",
       "      <td>RPS6KB1</td>\n",
       "      <td>171</td>\n",
       "      <td>334</td>\n",
       "    </tr>\n",
       "    <tr>\n",
       "      <th>17</th>\n",
       "      <td>KLF5</td>\n",
       "      <td>56</td>\n",
       "      <td>636</td>\n",
       "    </tr>\n",
       "    <tr>\n",
       "      <th>18</th>\n",
       "      <td>NR3C1</td>\n",
       "      <td>107</td>\n",
       "      <td>297</td>\n",
       "    </tr>\n",
       "    <tr>\n",
       "      <th>19</th>\n",
       "      <td>EPHB4</td>\n",
       "      <td>594</td>\n",
       "      <td>774</td>\n",
       "    </tr>\n",
       "    <tr>\n",
       "      <th>20</th>\n",
       "      <td>MAP3K8</td>\n",
       "      <td>483</td>\n",
       "      <td>608</td>\n",
       "    </tr>\n",
       "    <tr>\n",
       "      <th>21</th>\n",
       "      <td>MAP4K4</td>\n",
       "      <td>19</td>\n",
       "      <td>180</td>\n",
       "    </tr>\n",
       "    <tr>\n",
       "      <th>22</th>\n",
       "      <td>MAPK14</td>\n",
       "      <td>268</td>\n",
       "      <td>253</td>\n",
       "    </tr>\n",
       "    <tr>\n",
       "      <th>23</th>\n",
       "      <td>RET</td>\n",
       "      <td>549</td>\n",
       "      <td>785</td>\n",
       "    </tr>\n",
       "    <tr>\n",
       "      <th>24</th>\n",
       "      <td>KRAS</td>\n",
       "      <td>146</td>\n",
       "      <td>859</td>\n",
       "    </tr>\n",
       "    <tr>\n",
       "      <th>25</th>\n",
       "      <td>SMO</td>\n",
       "      <td>566</td>\n",
       "      <td>857</td>\n",
       "    </tr>\n",
       "    <tr>\n",
       "      <th>26</th>\n",
       "      <td>MAP2K1</td>\n",
       "      <td>42</td>\n",
       "      <td>298</td>\n",
       "    </tr>\n",
       "    <tr>\n",
       "      <th>27</th>\n",
       "      <td>AURKB</td>\n",
       "      <td>849</td>\n",
       "      <td>753</td>\n",
       "    </tr>\n",
       "    <tr>\n",
       "      <th>28</th>\n",
       "      <td>ERBB2</td>\n",
       "      <td>591</td>\n",
       "      <td>658</td>\n",
       "    </tr>\n",
       "    <tr>\n",
       "      <th>29</th>\n",
       "      <td>BRAF</td>\n",
       "      <td>125</td>\n",
       "      <td>310</td>\n",
       "    </tr>\n",
       "    <tr>\n",
       "      <th>30</th>\n",
       "      <td>BCL2</td>\n",
       "      <td>946</td>\n",
       "      <td>198</td>\n",
       "    </tr>\n",
       "  </tbody>\n",
       "</table>\n",
       "</div>"
      ],
      "text/plain": [
       "   conditions  wilcoxon  scGPT_rank\n",
       "0       EIF4E       330         796\n",
       "1       GSK3B        37         162\n",
       "2         ATM        65         178\n",
       "3       PRKDC       519         344\n",
       "4        MTOR       370         283\n",
       "5      PIK3CA       313         204\n",
       "6     CYP19A1       770         290\n",
       "7       EPAS1        54         401\n",
       "8       PSMB5       342         952\n",
       "9         MET       212          83\n",
       "10      PTGS2        33         542\n",
       "11      MAPK7       490         944\n",
       "12     PRKAA1       269         461\n",
       "13        ATR       200         235\n",
       "14        PBK       228         836\n",
       "15       TOP1        63         505\n",
       "16    RPS6KB1       171         334\n",
       "17       KLF5        56         636\n",
       "18      NR3C1       107         297\n",
       "19      EPHB4       594         774\n",
       "20     MAP3K8       483         608\n",
       "21     MAP4K4        19         180\n",
       "22     MAPK14       268         253\n",
       "23        RET       549         785\n",
       "24       KRAS       146         859\n",
       "25        SMO       566         857\n",
       "26     MAP2K1        42         298\n",
       "27      AURKB       849         753\n",
       "28      ERBB2       591         658\n",
       "29       BRAF       125         310\n",
       "30       BCL2       946         198"
      ]
     },
     "execution_count": 122,
     "metadata": {},
     "output_type": "execute_result"
    }
   ],
   "source": [
    "df_results"
   ]
  },
  {
   "cell_type": "code",
   "execution_count": 123,
   "metadata": {},
   "outputs": [
    {
     "data": {
      "text/plain": [
       "wilcoxon      316.354839\n",
       "scGPT_rank    484.387097\n",
       "dtype: float64"
      ]
     },
     "execution_count": 123,
     "metadata": {},
     "output_type": "execute_result"
    }
   ],
   "source": [
    "df_results.mean()"
   ]
  },
  {
   "cell_type": "code",
   "execution_count": 124,
   "metadata": {},
   "outputs": [],
   "source": [
    "df_results.to_csv('/scratch/ssd004/scratch/ahz/perturb/vevo_tahoe_ranks_Mar13.csv')"
   ]
  },
  {
   "cell_type": "code",
   "execution_count": 126,
   "metadata": {},
   "outputs": [
    {
     "data": {
      "text/plain": [
       "<matplotlib.legend.Legend at 0x7f21dc3f90d0>"
      ]
     },
     "execution_count": 126,
     "metadata": {},
     "output_type": "execute_result"
    },
    {
     "data": {
      "image/png": "[encoded data removed]",
      "text/plain": [
       "<Figure size 800x800 with 1 Axes>"
      ]
     },
     "metadata": {
      "image/png": {
       "height": 780,
       "width": 782
      },
      "needs_background": "light"
     },
     "output_type": "display_data"
    }
   ],
   "source": [
    "import seaborn as sns\n",
    "plt.figure(figsize=(10, 10))\n",
    "sns.boxplot(data=df_results)\n",
    "\n",
    "# Add titles and labels\n",
    "plt.title('Comparison of Methods Across Conditions')\n",
    "plt.xlabel('Method')\n",
    "plt.ylabel('Rank')\n",
    "plt.xticks(rotation=-45)\n",
    "# plt.yscale('log')\n",
    "# Display the plot\n",
    "plt.tight_layout()\n",
    "\n",
    "plt.legend([],[], frameon=False)"
   ]
  },
  {
   "cell_type": "code",
   "execution_count": 127,
   "metadata": {},
   "outputs": [
    {
     "data": {
      "text/plain": [
       "<AxesSubplot:xlabel='wilcoxon', ylabel='scGPT_rank'>"
      ]
     },
     "execution_count": 127,
     "metadata": {},
     "output_type": "execute_result"
    },
    {
     "data": {
      "image/png": "[encoded data removed]",
      "text/plain": [
       "<Figure size 320x320 with 1 Axes>"
      ]
     },
     "metadata": {
      "image/png": {
       "height": 306,
       "width": 328
      },
      "needs_background": "light"
     },
     "output_type": "display_data"
    }
   ],
   "source": [
    "sns.scatterplot(data=df_results, x=\"wilcoxon\", y=\"scGPT_rank\")"
   ]
  },
  {
   "cell_type": "code",
   "execution_count": 128,
   "metadata": {},
   "outputs": [
    {
     "name": "stdout",
     "output_type": "stream",
     "text": [
      "Pearson Correlation: 0.283193885139967, p-value: 0.12264674342302984\n"
     ]
    }
   ],
   "source": [
    "from scipy.stats import pearsonr\n",
    "corr, p_value = pearsonr(df_results['wilcoxon'], df_results['scGPT_rank'])\n",
    "\n",
    "print(f'Pearson Correlation: {corr}, p-value: {p_value}')"
   ]
  }
 ],
 "metadata": {
  "kernelspec": {
   "display_name": "Python 3 (ipykernel)",
   "language": "python",
   "name": "python3"
  },
  "language_info": {
   "codemirror_mode": {
    "name": "ipython",
    "version": 3
   },
   "file_extension": ".py",
   "mimetype": "text/x-python",
   "name": "python",
   "nbconvert_exporter": "python",
   "pygments_lexer": "ipython3",
   "version": "3.9.10"
  },
  "orig_nbformat": 4
 },
 "nbformat": 4,
 "nbformat_minor": 2
}

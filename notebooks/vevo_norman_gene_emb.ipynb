{
 "cells": [
  {
   "cell_type": "code",
   "execution_count": 1,
   "id": "abafa220",
   "metadata": {},
   "outputs": [
    {
     "name": "stderr",
     "output_type": "stream",
     "text": [
      "/h/chloexq/.local/lib/python3.9/site-packages/scanpy/_settings.py:447: DeprecationWarning: `set_matplotlib_formats` is deprecated since IPython 7.23, directly use `matplotlib_inline.backend_inline.set_matplotlib_formats()`\n",
      "  IPython.display.set_matplotlib_formats(*ipython_format)\n"
     ]
    }
   ],
   "source": [
    "import copy\n",
    "import gc\n",
    "import json\n",
    "import os\n",
    "from pathlib import Path\n",
    "import sys\n",
    "import time\n",
    "import traceback\n",
    "from typing import List, Tuple, Dict, Union, Optional\n",
    "import warnings\n",
    "\n",
    "import torch\n",
    "from anndata import AnnData\n",
    "import scanpy as sc\n",
    "#import scvi\n",
    "import numpy as np\n",
    "import pandas as pd\n",
    "import wandb\n",
    "from scipy.sparse import issparse\n",
    "import matplotlib.pyplot as plt\n",
    "from torch import nn\n",
    "from torch.nn import functional as F\n",
    "from torch.utils.data import Dataset, DataLoader\n",
    "from sklearn.model_selection import train_test_split\n",
    "from torchtext.vocab import Vocab\n",
    "from torchtext._torchtext import (\n",
    "    Vocab as VocabPybind,\n",
    ")\n",
    "\n",
    "\n",
    "sys.path.insert(0, \"../\")\n",
    "#import scgpt as scg\n",
    "from scgpt.model import TransformerModel, AdversarialDiscriminator\n",
    "from scgpt.tokenizer import tokenize_and_pad_batch, random_mask_value\n",
    "from scgpt.tokenizer.gene_tokenizer import GeneVocab\n",
    "from scgpt.loss import (\n",
    "    masked_mse_loss,\n",
    "    masked_relative_error,\n",
    "    criterion_neg_log_bernoulli,\n",
    ")\n",
    "from scgpt.preprocess import Preprocessor\n",
    "from scgpt import SubsetsBatchSampler\n",
    "from scgpt.utils import set_seed, eval_scib_metrics, load_pretrained\n",
    "\n",
    "sc.set_figure_params(figsize=(4, 4))\n",
    "os.environ[\"KMP_WARNINGS\"] = \"off\"\n",
    "warnings.filterwarnings('ignore')"
   ]
  },
  {
   "cell_type": "code",
   "execution_count": 2,
   "id": "716574d1",
   "metadata": {},
   "outputs": [
    {
     "name": "stderr",
     "output_type": "stream",
     "text": [
      "Failed to detect the name of this notebook, you can set it manually with the WANDB_NOTEBOOK_NAME environment variable to enable code saving.\n",
      "\u001b[34m\u001b[1mwandb\u001b[0m: Currently logged in as: \u001b[33mchloewxq\u001b[0m (\u001b[33mscformer\u001b[0m). Use \u001b[1m`wandb login --relogin`\u001b[0m to force relogin\n"
     ]
    },
    {
     "data": {
      "text/html": [
       "wandb version 0.19.6 is available!  To upgrade, please run:\n",
       " $ pip install wandb --upgrade"
      ],
      "text/plain": [
       "<IPython.core.display.HTML object>"
      ]
     },
     "metadata": {},
     "output_type": "display_data"
    },
    {
     "data": {
      "text/html": [
       "Tracking run with wandb version 0.15.12"
      ],
      "text/plain": [
       "<IPython.core.display.HTML object>"
      ]
     },
     "metadata": {},
     "output_type": "display_data"
    },
    {
     "data": {
      "text/html": [
       "Run data is saved locally in <code>/fs01/home/chloexq/scgpt-vevo-attn/notebooks/wandb/run-20250206_151624-0d9wj4od</code>"
      ],
      "text/plain": [
       "<IPython.core.display.HTML object>"
      ]
     },
     "metadata": {},
     "output_type": "display_data"
    },
    {
     "data": {
      "text/html": [
       "Syncing run <strong><a href='https://wandb.ai/scformer/scGPT/runs/0d9wj4od' target=\"_blank\">rare-river-783</a></strong> to <a href='https://wandb.ai/scformer/scGPT' target=\"_blank\">Weights & Biases</a> (<a href='https://wandb.me/run' target=\"_blank\">docs</a>)<br/>"
      ],
      "text/plain": [
       "<IPython.core.display.HTML object>"
      ]
     },
     "metadata": {},
     "output_type": "display_data"
    },
    {
     "data": {
      "text/html": [
       " View project at <a href='https://wandb.ai/scformer/scGPT' target=\"_blank\">https://wandb.ai/scformer/scGPT</a>"
      ],
      "text/plain": [
       "<IPython.core.display.HTML object>"
      ]
     },
     "metadata": {},
     "output_type": "display_data"
    },
    {
     "data": {
      "text/html": [
       " View run at <a href='https://wandb.ai/scformer/scGPT/runs/0d9wj4od' target=\"_blank\">https://wandb.ai/scformer/scGPT/runs/0d9wj4od</a>"
      ],
      "text/plain": [
       "<IPython.core.display.HTML object>"
      ]
     },
     "metadata": {},
     "output_type": "display_data"
    },
    {
     "name": "stdout",
     "output_type": "stream",
     "text": [
      "{'seed': 42, 'dataset_name': 'fibro', 'do_train': True, 'load_model': '/scratch/ssd004/scratch/chloexq/scGPT_models/scGPT_human_model', 'model_name': 'best_model.pt', 'GEPC': True, 'ecs_thres': 0.8, 'dab_weight': 1.0, 'mask_ratio': 0.4, 'epochs': 15, 'n_bins': 51, 'lr': 0.0001, 'batch_size': 64, 'layer_size': 128, 'nlayers': 4, 'nhead': 4, 'dropout': 0.2, 'schedule_ratio': 0.9, 'save_eval_interval': 5, 'log_interval': 100, 'fast_transformer': True, 'pre_norm': False, 'amp': True}\n"
     ]
    }
   ],
   "source": [
    "hyperparameter_defaults = dict(\n",
    "    seed=42,\n",
    "    dataset_name=\"fibro\", # Dataset name\n",
    "    do_train=True, # Flag to indicate whether to do update model parameters during training\n",
    "    load_model=\"/scratch/ssd004/scratch/chloexq/scGPT_models/scGPT_human_model\",\n",
    "    model_name=\"best_model.pt\",\n",
    "    GEPC=True,  # Gene expression modelling for cell objective\n",
    "    ecs_thres=0.8,  # Elastic cell similarity objective, 0.0 to 1.0, 0.0 to disable\n",
    "    dab_weight=1.0, # DAR objective weight for batch correction\n",
    "    mask_ratio=0.4, # Default mask ratio\n",
    "    epochs=15, # Default number of epochs for fine-tuning\n",
    "    n_bins=51, # Default number of bins for value binning in data pre-processing\n",
    "    lr=1e-4, # Default learning rate for fine-tuning\n",
    "    batch_size=64, # Default batch size for fine-tuning\n",
    "    layer_size=128,\n",
    "    nlayers=4,\n",
    "    nhead=4, # if load model, batch_size, layer_size, nlayers, nhead will be ignored\n",
    "    dropout=0.2, # Default dropout rate during model fine-tuning\n",
    "    schedule_ratio=0.9,  # Default rate for learning rate decay\n",
    "    save_eval_interval=5, # Default model evaluation interval\n",
    "    log_interval=100, # Default log interval\n",
    "    fast_transformer=True, # Default setting\n",
    "    pre_norm=False, # Default setting\n",
    "    amp=True,  # # Default setting: Automatic Mixed Precision\n",
    ")\n",
    "run = wandb.init(\n",
    "    config=hyperparameter_defaults,\n",
    "    project=\"scGPT\",\n",
    "    reinit=True,\n",
    "    settings=wandb.Settings(start_method=\"fork\"),\n",
    ")\n",
    "config = wandb.config\n",
    "print(config)\n",
    "\n",
    "set_seed(config.seed)"
   ]
  },
  {
   "cell_type": "code",
   "execution_count": 3,
   "id": "40811ce3",
   "metadata": {},
   "outputs": [
    {
     "name": "stdout",
     "output_type": "stream",
     "text": [
      "save to /scratch/ssd004/scratch/chloexq/fibro/dev_fibro-Feb06-15-16\n"
     ]
    }
   ],
   "source": [
    "from pathlib import Path\n",
    "# settings for input and preprocessing\n",
    "pad_token = \"<pad>\"\n",
    "special_tokens = [pad_token, \"<cls>\", \"<eoc>\"]\n",
    "mask_ratio = config.mask_ratio\n",
    "mask_value = -1\n",
    "pad_value = -2\n",
    "n_input_bins = config.n_bins\n",
    "\n",
    "n_hvg = 1200  # number of highly variable genes\n",
    "max_seq_len = n_hvg + 1\n",
    "per_seq_batch_sample = True\n",
    "DSBN = True  # Domain-spec batchnorm\n",
    "explicit_zero_prob = True  # whether explicit bernoulli for zeros\n",
    "\n",
    "dataset_name = config.dataset_name\n",
    "save_dir = Path(f\"/scratch/ssd004/scratch/chloexq/fibro/dev_{dataset_name}-{time.strftime('%b%d-%H-%M')}/\")\n",
    "save_dir.mkdir(parents=True, exist_ok=True)\n",
    "print(f\"save to {save_dir}\")"
   ]
  },
  {
   "cell_type": "code",
   "execution_count": 4,
   "id": "f6a65666",
   "metadata": {},
   "outputs": [],
   "source": [
    "from pathlib import Path"
   ]
  },
  {
   "cell_type": "markdown",
   "id": "e21128b5",
   "metadata": {},
   "source": [
    "## Load and preprocess dataset\n",
    "\n",
    "####  ✅ Note\n",
    "Perturbation datasets can be found in this path: `/scratch/ssd004/scratch/chloexq/perturb_analysis/{dataset_name}` "
   ]
  },
  {
   "cell_type": "code",
   "execution_count": 5,
   "id": "8699653f",
   "metadata": {},
   "outputs": [],
   "source": [
    "data_dir = Path(\"/scratch/ssd004/scratch/chloexq/perturb_analysis\")\n",
    "adata = sc.read(data_dir / \"norman/perturb_processed.h5ad\")"
   ]
  },
  {
   "cell_type": "code",
   "execution_count": 17,
   "id": "7db641f0",
   "metadata": {},
   "outputs": [
    {
     "data": {
      "text/plain": [
       "AnnData object with n_obs × n_vars = 91205 × 5045\n",
       "    obs: 'condition', 'cell_type', 'dose_val', 'control', 'condition_name'\n",
       "    var: 'gene_name'\n",
       "    uns: 'non_dropout_gene_idx', 'non_zeros_gene_idx', 'rank_genes_groups_cov_all', 'top_non_dropout_de_20', 'top_non_zero_de_20'\n",
       "    layers: 'counts'"
      ]
     },
     "execution_count": 17,
     "metadata": {},
     "output_type": "execute_result"
    }
   ],
   "source": [
    "adata"
   ]
  },
  {
   "cell_type": "code",
   "execution_count": 11,
   "id": "338c15de",
   "metadata": {},
   "outputs": [
    {
     "data": {
      "text/plain": [
       "array(['AHR+FEV', 'AHR+KLF1', 'AHR+ctrl', 'ARID1A+ctrl', 'ARRDC3+ctrl',\n",
       "       'ATL1+ctrl', 'BAK1+ctrl', 'BCL2L11+BAK1', 'BCL2L11+TGFBR2',\n",
       "       'BCL2L11+ctrl', 'BCORL1+ctrl', 'BPGM+SAMD1', 'BPGM+ZBTB1',\n",
       "       'BPGM+ctrl', 'C19orf26+ctrl', 'C3orf72+FOXL2', 'C3orf72+ctrl',\n",
       "       'CBFA2T3+ctrl', 'CBL+CNN1', 'CBL+PTPN12', 'CBL+PTPN9',\n",
       "       'CBL+TGFBR2', 'CBL+UBASH3A', 'CBL+UBASH3B', 'CBL+ctrl',\n",
       "       'CDKN1A+ctrl', 'CDKN1B+CDKN1A', 'CDKN1B+ctrl', 'CDKN1C+CDKN1A',\n",
       "       'CDKN1C+CDKN1B', 'CDKN1C+ctrl', 'CEBPA+ctrl', 'CEBPB+CEBPA',\n",
       "       'CEBPB+MAPK1', 'CEBPB+OSR2', 'CEBPB+PTPN12', 'CEBPB+ctrl',\n",
       "       'CEBPE+CEBPA', 'CEBPE+CEBPB', 'CEBPE+CNN1', 'CEBPE+KLF1',\n",
       "       'CEBPE+PTPN12', 'CEBPE+RUNX1T1', 'CEBPE+SPI1', 'CEBPE+ctrl',\n",
       "       'CELF2+ctrl', 'CITED1+ctrl', 'CKS1B+ctrl', 'CLDN6+ctrl',\n",
       "       'CNN1+MAPK1', 'CNN1+UBASH3A', 'CNN1+ctrl', 'CNNM4+ctrl',\n",
       "       'COL1A1+ctrl', 'COL2A1+ctrl', 'CSRNP1+ctrl', 'DLX2+ctrl',\n",
       "       'DUSP9+ETS2', 'DUSP9+IGDCC3', 'DUSP9+KLF1', 'DUSP9+MAPK1',\n",
       "       'DUSP9+PRTG', 'DUSP9+SNAI1', 'DUSP9+ctrl', 'EGR1+ctrl',\n",
       "       'ELMSAN1+ctrl', 'ETS2+CEBPE', 'ETS2+CNN1', 'ETS2+IGDCC3',\n",
       "       'ETS2+IKZF3', 'ETS2+MAP7D1', 'ETS2+MAPK1', 'ETS2+PRTG',\n",
       "       'ETS2+ctrl', 'FEV+CBFA2T3', 'FEV+ISL2', 'FEV+MAP7D1', 'FEV+ctrl',\n",
       "       'FOSB+CEBPB', 'FOSB+CEBPE', 'FOSB+IKZF3', 'FOSB+OSR2',\n",
       "       'FOSB+PTPN12', 'FOSB+UBASH3B', 'FOSB+ctrl', 'FOXA1+FOXF1',\n",
       "       'FOXA1+FOXL2', 'FOXA1+HOXB9', 'FOXA1+ctrl', 'FOXA3+FOXA1',\n",
       "       'FOXA3+FOXF1', 'FOXA3+FOXL2', 'FOXA3+HOXB9', 'FOXA3+ctrl',\n",
       "       'FOXF1+FOXL2', 'FOXF1+HOXB9', 'FOXF1+ctrl', 'FOXL2+HOXB9',\n",
       "       'FOXL2+MEIS1', 'FOXL2+ctrl', 'FOXO4+ctrl', 'GLB1L2+ctrl',\n",
       "       'HES7+ctrl', 'HK2+ctrl', 'HNF4A+ctrl', 'HOXA13+ctrl', 'HOXB9+ctrl',\n",
       "       'HOXC13+ctrl', 'IER5L+ctrl', 'IGDCC3+MAPK1', 'IGDCC3+PRTG',\n",
       "       'IGDCC3+ZBTB25', 'IGDCC3+ctrl', 'IKZF3+ctrl', 'IRF1+SET',\n",
       "       'IRF1+ctrl', 'ISL2+ctrl', 'JUN+CEBPA', 'JUN+CEBPB', 'JUN+ctrl',\n",
       "       'KIAA1804+ctrl', 'KIF18B+KIF2C', 'KIF18B+ctrl', 'KIF2C+ctrl',\n",
       "       'KLF1+BAK1', 'KLF1+CEBPA', 'KLF1+CLDN6', 'KLF1+COL2A1',\n",
       "       'KLF1+FOXA1', 'KLF1+MAP2K6', 'KLF1+TGFBR2', 'KLF1+ctrl',\n",
       "       'KMT2A+ctrl', 'LHX1+ELMSAN1', 'LHX1+ctrl', 'LYL1+CEBPB',\n",
       "       'LYL1+IER5L', 'LYL1+ctrl', 'MAML2+ctrl', 'MAP2K3+ELMSAN1',\n",
       "       'MAP2K3+IKZF3', 'MAP2K3+MAP2K6', 'MAP2K3+SLC38A2', 'MAP2K3+ctrl',\n",
       "       'MAP2K6+ELMSAN1', 'MAP2K6+IKZF3', 'MAP2K6+SPI1', 'MAP2K6+ctrl',\n",
       "       'MAP4K3+ctrl', 'MAP4K5+ctrl', 'MAP7D1+ctrl', 'MAPK1+IKZF3',\n",
       "       'MAPK1+PRTG', 'MAPK1+TGFBR2', 'MAPK1+ctrl', 'MEIS1+ctrl',\n",
       "       'MIDN+ctrl', 'NCL+ctrl', 'NIT1+ctrl', 'OSR2+ctrl', 'PLK4+STIL',\n",
       "       'PLK4+ctrl', 'POU3F2+CBFA2T3', 'POU3F2+FOXL2', 'POU3F2+ctrl',\n",
       "       'PRDM1+CBFA2T3', 'PRDM1+ctrl', 'PRTG+ctrl', 'PTPN1+ctrl',\n",
       "       'PTPN12+OSR2', 'PTPN12+PTPN9', 'PTPN12+SNAI1', 'PTPN12+UBASH3A',\n",
       "       'PTPN12+ZBTB25', 'PTPN12+ctrl', 'PTPN13+ctrl', 'PTPN9+ctrl',\n",
       "       'RHOXF2BB+SET', 'RHOXF2BB+ZBTB25', 'RHOXF2BB+ctrl', 'RREB1+ctrl',\n",
       "       'RUNX1T1+ctrl', 'S1PR2+ctrl', 'SAMD1+PTPN12', 'SAMD1+TGFBR2',\n",
       "       'SAMD1+UBASH3B', 'SAMD1+ZBTB1', 'SAMD1+ctrl', 'SET+CEBPE',\n",
       "       'SET+KLF1', 'SET+ctrl', 'SGK1+S1PR2', 'SGK1+TBX2', 'SGK1+TBX3',\n",
       "       'SGK1+ctrl', 'SLC4A1+ctrl', 'SLC6A9+ctrl', 'SNAI1+DLX2',\n",
       "       'SNAI1+UBASH3B', 'SNAI1+ctrl', 'SPI1+ctrl', 'STIL+ctrl',\n",
       "       'TBX2+ctrl', 'TBX3+TBX2', 'TBX3+ctrl', 'TGFBR2+C19orf26',\n",
       "       'TGFBR2+ETS2', 'TGFBR2+IGDCC3', 'TGFBR2+PRTG', 'TGFBR2+ctrl',\n",
       "       'TMSB4X+BAK1', 'TMSB4X+ctrl', 'TP73+ctrl', 'TSC22D1+ctrl',\n",
       "       'UBASH3A+ctrl', 'UBASH3B+CNN1', 'UBASH3B+OSR2', 'UBASH3B+PTPN12',\n",
       "       'UBASH3B+PTPN9', 'UBASH3B+UBASH3A', 'UBASH3B+ZBTB25',\n",
       "       'UBASH3B+ctrl', 'ZBTB1+ctrl', 'ZBTB10+DLX2', 'ZBTB10+ELMSAN1',\n",
       "       'ZBTB10+PTPN12', 'ZBTB10+SNAI1', 'ZBTB10+ctrl', 'ZBTB25+ctrl',\n",
       "       'ZC3HAV1+CEBPA', 'ZC3HAV1+CEBPE', 'ZC3HAV1+HOXC13', 'ZC3HAV1+ctrl',\n",
       "       'ZNF318+FOXL2', 'ZNF318+ctrl', 'ctrl', 'ctrl+BAK1',\n",
       "       'ctrl+C19orf26', 'ctrl+CBFA2T3', 'ctrl+CDKN1A', 'ctrl+CDKN1B',\n",
       "       'ctrl+CEBPA', 'ctrl+CEBPB', 'ctrl+CEBPE', 'ctrl+CLDN6',\n",
       "       'ctrl+CNN1', 'ctrl+COL2A1', 'ctrl+DLX2', 'ctrl+ELMSAN1',\n",
       "       'ctrl+ETS2', 'ctrl+FEV', 'ctrl+FOXA1', 'ctrl+FOXF1', 'ctrl+FOXL2',\n",
       "       'ctrl+HOXB9', 'ctrl+HOXC13', 'ctrl+IER5L', 'ctrl+IGDCC3',\n",
       "       'ctrl+IKZF3', 'ctrl+ISL2', 'ctrl+KIF2C', 'ctrl+KLF1',\n",
       "       'ctrl+MAP2K6', 'ctrl+MAP7D1', 'ctrl+MAPK1', 'ctrl+MEIS1',\n",
       "       'ctrl+OSR2', 'ctrl+PRTG', 'ctrl+PTPN12', 'ctrl+PTPN9',\n",
       "       'ctrl+RUNX1T1', 'ctrl+SAMD1', 'ctrl+SET', 'ctrl+SLC38A2',\n",
       "       'ctrl+SNAI1', 'ctrl+SPI1', 'ctrl+STIL', 'ctrl+TBX2', 'ctrl+TBX3',\n",
       "       'ctrl+TGFBR2', 'ctrl+UBASH3A', 'ctrl+UBASH3B', 'ctrl+ZBTB1',\n",
       "       'ctrl+ZBTB25'], dtype=object)"
      ]
     },
     "execution_count": 11,
     "metadata": {},
     "output_type": "execute_result"
    }
   ],
   "source": [
    "np.unique(adata.obs.condition.values)"
   ]
  },
  {
   "cell_type": "code",
   "execution_count": 22,
   "id": "1338d233",
   "metadata": {},
   "outputs": [
    {
     "name": "stdout",
     "output_type": "stream",
     "text": [
      "['AHR+ctrl', 'ARID1A+ctrl', 'ARRDC3+ctrl', 'ATL1+ctrl', 'BAK1+ctrl', 'BCL2L11+ctrl', 'BCORL1+ctrl', 'BPGM+ctrl', 'C19orf26+ctrl', 'C3orf72+ctrl', 'CBFA2T3+ctrl', 'CBL+ctrl', 'CDKN1A+ctrl', 'CDKN1B+ctrl', 'CDKN1C+ctrl', 'CEBPA+ctrl', 'CEBPB+ctrl', 'CEBPE+ctrl', 'CELF2+ctrl', 'CITED1+ctrl', 'CKS1B+ctrl', 'CLDN6+ctrl', 'CNN1+ctrl', 'CNNM4+ctrl', 'COL1A1+ctrl', 'COL2A1+ctrl', 'CSRNP1+ctrl', 'DLX2+ctrl', 'DUSP9+ctrl', 'EGR1+ctrl', 'ELMSAN1+ctrl', 'ETS2+ctrl', 'FEV+ctrl', 'FOSB+ctrl', 'FOXA1+ctrl', 'FOXA3+ctrl', 'FOXF1+ctrl', 'FOXL2+ctrl', 'FOXO4+ctrl', 'GLB1L2+ctrl', 'HES7+ctrl', 'HK2+ctrl', 'HNF4A+ctrl', 'HOXA13+ctrl', 'HOXB9+ctrl', 'HOXC13+ctrl', 'IER5L+ctrl', 'IGDCC3+ctrl', 'IKZF3+ctrl', 'IRF1+ctrl', 'ISL2+ctrl', 'JUN+ctrl', 'KIAA1804+ctrl', 'KIF18B+ctrl', 'KIF2C+ctrl', 'KLF1+ctrl', 'KMT2A+ctrl', 'LHX1+ctrl', 'LYL1+ctrl', 'MAML2+ctrl', 'MAP2K3+ctrl', 'MAP2K6+ctrl', 'MAP4K3+ctrl', 'MAP4K5+ctrl', 'MAP7D1+ctrl', 'MAPK1+ctrl', 'MEIS1+ctrl', 'MIDN+ctrl', 'NCL+ctrl', 'NIT1+ctrl', 'OSR2+ctrl', 'PLK4+ctrl', 'POU3F2+ctrl', 'PRDM1+ctrl', 'PRTG+ctrl', 'PTPN1+ctrl', 'PTPN12+ctrl', 'PTPN13+ctrl', 'PTPN9+ctrl', 'RHOXF2BB+ctrl', 'RREB1+ctrl', 'RUNX1T1+ctrl', 'S1PR2+ctrl', 'SAMD1+ctrl', 'SET+ctrl', 'SGK1+ctrl', 'SLC4A1+ctrl', 'SLC6A9+ctrl', 'SNAI1+ctrl', 'SPI1+ctrl', 'STIL+ctrl', 'TBX2+ctrl', 'TBX3+ctrl', 'TGFBR2+ctrl', 'TMSB4X+ctrl', 'TP73+ctrl', 'TSC22D1+ctrl', 'UBASH3A+ctrl', 'UBASH3B+ctrl', 'ZBTB1+ctrl', 'ZBTB10+ctrl', 'ZBTB25+ctrl', 'ZC3HAV1+ctrl', 'ZNF318+ctrl', 'ctrl', 'ctrl+BAK1', 'ctrl+C19orf26', 'ctrl+CBFA2T3', 'ctrl+CDKN1A', 'ctrl+CDKN1B', 'ctrl+CEBPA', 'ctrl+CEBPB', 'ctrl+CEBPE', 'ctrl+CLDN6', 'ctrl+CNN1', 'ctrl+COL2A1', 'ctrl+DLX2', 'ctrl+ELMSAN1', 'ctrl+ETS2', 'ctrl+FEV', 'ctrl+FOXA1', 'ctrl+FOXF1', 'ctrl+FOXL2', 'ctrl+HOXB9', 'ctrl+HOXC13', 'ctrl+IER5L', 'ctrl+IGDCC3', 'ctrl+IKZF3', 'ctrl+ISL2', 'ctrl+KIF2C', 'ctrl+KLF1', 'ctrl+MAP2K6', 'ctrl+MAP7D1', 'ctrl+MAPK1', 'ctrl+MEIS1', 'ctrl+OSR2', 'ctrl+PRTG', 'ctrl+PTPN12', 'ctrl+PTPN9', 'ctrl+RUNX1T1', 'ctrl+SAMD1', 'ctrl+SET', 'ctrl+SLC38A2', 'ctrl+SNAI1', 'ctrl+SPI1', 'ctrl+STIL', 'ctrl+TBX2', 'ctrl+TBX3', 'ctrl+TGFBR2', 'ctrl+UBASH3A', 'ctrl+UBASH3B', 'ctrl+ZBTB1', 'ctrl+ZBTB25'] 153\n"
     ]
    }
   ],
   "source": [
    "single_gene_filter = [i for i in np.unique(adata.obs.condition.values) if not ('+' in i and 'ctrl' not in i)]\n",
    "print(single_gene_filter, len(single_gene_filter))"
   ]
  },
  {
   "cell_type": "code",
   "execution_count": 18,
   "id": "0af595f4",
   "metadata": {},
   "outputs": [],
   "source": [
    "adata = adata[adata.obs.condition.isin(single_gene_filter)].copy()"
   ]
  },
  {
   "cell_type": "code",
   "execution_count": 19,
   "id": "9a7601f9",
   "metadata": {},
   "outputs": [
    {
     "data": {
      "text/plain": [
       "AnnData object with n_obs × n_vars = 55760 × 5045\n",
       "    obs: 'condition', 'cell_type', 'dose_val', 'control', 'condition_name'\n",
       "    var: 'gene_name'\n",
       "    uns: 'non_dropout_gene_idx', 'non_zeros_gene_idx', 'rank_genes_groups_cov_all', 'top_non_dropout_de_20', 'top_non_zero_de_20'\n",
       "    layers: 'counts'"
      ]
     },
     "execution_count": 19,
     "metadata": {},
     "output_type": "execute_result"
    }
   ],
   "source": [
    "adata"
   ]
  },
  {
   "cell_type": "code",
   "execution_count": null,
   "id": "12a8b044",
   "metadata": {},
   "outputs": [],
   "source": [
    "# TODO: Update condition names "
   ]
  },
  {
   "cell_type": "code",
   "execution_count": 20,
   "id": "a9e80ce2",
   "metadata": {},
   "outputs": [],
   "source": [
    "ori_batch_col = \"control\"\n",
    "adata.obs[\"celltype\"] = adata.obs[\"condition\"].astype(\"category\")\n",
    "adata.obs[\"str_batch\"] = adata.obs[\"control\"].astype(str)\n",
    "data_is_raw = False"
   ]
  },
  {
   "cell_type": "code",
   "execution_count": 21,
   "id": "73e74c83",
   "metadata": {},
   "outputs": [
    {
     "name": "stdout",
     "output_type": "stream",
     "text": [
      "match 4547/5045 genes in vocabulary of size 60697.\n",
      "Resume model from /scratch/ssd004/scratch/chloexq/scGPT_models/scGPT_human_model/best_model.pt, the model args will be overriden by the config /scratch/ssd004/scratch/chloexq/scGPT_models/scGPT_human_model/args.json.\n"
     ]
    }
   ],
   "source": [
    "if config.load_model is not None:\n",
    "    model_dir = Path(config.load_model)\n",
    "    model_config_file = model_dir / \"args.json\"\n",
    "    model_file = model_dir / config.model_name\n",
    "    vocab_file = model_dir / \"vocab.json\"\n",
    "\n",
    "    vocab = GeneVocab.from_file(vocab_file)\n",
    "    for s in special_tokens:\n",
    "        if s not in vocab:\n",
    "            vocab.append_token(s)\n",
    "\n",
    "    adata.var[\"id_in_vocab\"] = [\n",
    "        1 if gene in vocab else -1 for gene in adata.var[\"gene_name\"]\n",
    "    ]\n",
    "    gene_ids_in_vocab = np.array(adata.var[\"id_in_vocab\"])\n",
    "    print(\n",
    "        f\"match {np.sum(gene_ids_in_vocab >= 0)}/{len(gene_ids_in_vocab)} genes \"\n",
    "        f\"in vocabulary of size {len(vocab)}.\"\n",
    "    )\n",
    "    adata = adata[:, adata.var[\"id_in_vocab\"] >= 0]\n",
    "    \n",
    "    # model\n",
    "    with open(model_config_file, \"r\") as f:\n",
    "        model_configs = json.load(f)\n",
    "    print(\n",
    "        f\"Resume model from {model_file}, the model args will be overriden by the \"\n",
    "        f\"config {model_config_file}.\"\n",
    "    )\n",
    "    embsize = model_configs[\"embsize\"]\n",
    "    nhead = model_configs[\"nheads\"]\n",
    "    d_hid = model_configs[\"d_hid\"]\n",
    "    nlayers = model_configs[\"nlayers\"]\n",
    "    n_layers_cls = model_configs[\"n_layers_cls\"]\n",
    "else:\n",
    "    embsize = config.layer_size \n",
    "    nhead = config.nhead\n",
    "    nlayers = config.nlayers  \n",
    "    d_hid = config.layer_size"
   ]
  },
  {
   "cell_type": "code",
   "execution_count": 7,
   "id": "8e69a49d",
   "metadata": {},
   "outputs": [],
   "source": [
    "gene_names_set = [i + '+ctrl' for i in adata.var.gene_name.values]\n",
    "gene_names_set = gene_names_set + ['ctrl']"
   ]
  },
  {
   "cell_type": "markdown",
   "id": "6933d35f",
   "metadata": {},
   "source": [
    "####  ✅ Note\n",
    "This experiment is computationally expensive, so we select 1000 cells per perturbation condition."
   ]
  },
  {
   "cell_type": "code",
   "execution_count": 8,
   "id": "1185ae66",
   "metadata": {
    "scrolled": true
   },
   "outputs": [
    {
     "data": {
      "text/html": [
       "<div>\n",
       "<style scoped>\n",
       "    .dataframe tbody tr th:only-of-type {\n",
       "        vertical-align: middle;\n",
       "    }\n",
       "\n",
       "    .dataframe tbody tr th {\n",
       "        vertical-align: top;\n",
       "    }\n",
       "\n",
       "    .dataframe thead th {\n",
       "        text-align: right;\n",
       "    }\n",
       "</style>\n",
       "<table border=\"1\" class=\"dataframe\">\n",
       "  <thead>\n",
       "    <tr style=\"text-align: right;\">\n",
       "      <th></th>\n",
       "      <th>cell_type</th>\n",
       "      <th>dose_val</th>\n",
       "      <th>control</th>\n",
       "      <th>condition_name</th>\n",
       "      <th>celltype</th>\n",
       "      <th>str_batch</th>\n",
       "    </tr>\n",
       "    <tr>\n",
       "      <th>condition</th>\n",
       "      <th></th>\n",
       "      <th></th>\n",
       "      <th></th>\n",
       "      <th></th>\n",
       "      <th></th>\n",
       "      <th></th>\n",
       "    </tr>\n",
       "  </thead>\n",
       "  <tbody>\n",
       "    <tr>\n",
       "      <th>AMIGO3+ctrl</th>\n",
       "      <td>616</td>\n",
       "      <td>616</td>\n",
       "      <td>616</td>\n",
       "      <td>616</td>\n",
       "      <td>616</td>\n",
       "      <td>616</td>\n",
       "    </tr>\n",
       "    <tr>\n",
       "      <th>ARHGAP22+ctrl</th>\n",
       "      <td>406</td>\n",
       "      <td>406</td>\n",
       "      <td>406</td>\n",
       "      <td>406</td>\n",
       "      <td>406</td>\n",
       "      <td>406</td>\n",
       "    </tr>\n",
       "    <tr>\n",
       "      <th>ASCC3+ctrl</th>\n",
       "      <td>524</td>\n",
       "      <td>524</td>\n",
       "      <td>524</td>\n",
       "      <td>524</td>\n",
       "      <td>524</td>\n",
       "      <td>524</td>\n",
       "    </tr>\n",
       "    <tr>\n",
       "      <th>BHLHE40+ctrl</th>\n",
       "      <td>504</td>\n",
       "      <td>504</td>\n",
       "      <td>504</td>\n",
       "      <td>504</td>\n",
       "      <td>504</td>\n",
       "      <td>504</td>\n",
       "    </tr>\n",
       "    <tr>\n",
       "      <th>CAD+ctrl</th>\n",
       "      <td>242</td>\n",
       "      <td>242</td>\n",
       "      <td>242</td>\n",
       "      <td>242</td>\n",
       "      <td>242</td>\n",
       "      <td>242</td>\n",
       "    </tr>\n",
       "    <tr>\n",
       "      <th>...</th>\n",
       "      <td>...</td>\n",
       "      <td>...</td>\n",
       "      <td>...</td>\n",
       "      <td>...</td>\n",
       "      <td>...</td>\n",
       "      <td>...</td>\n",
       "    </tr>\n",
       "    <tr>\n",
       "      <th>UFM1+ctrl</th>\n",
       "      <td>591</td>\n",
       "      <td>591</td>\n",
       "      <td>591</td>\n",
       "      <td>591</td>\n",
       "      <td>591</td>\n",
       "      <td>591</td>\n",
       "    </tr>\n",
       "    <tr>\n",
       "      <th>XRN1+ctrl</th>\n",
       "      <td>621</td>\n",
       "      <td>621</td>\n",
       "      <td>621</td>\n",
       "      <td>621</td>\n",
       "      <td>621</td>\n",
       "      <td>621</td>\n",
       "    </tr>\n",
       "    <tr>\n",
       "      <th>YIPF5+ctrl</th>\n",
       "      <td>1000</td>\n",
       "      <td>1000</td>\n",
       "      <td>1000</td>\n",
       "      <td>1000</td>\n",
       "      <td>1000</td>\n",
       "      <td>1000</td>\n",
       "    </tr>\n",
       "    <tr>\n",
       "      <th>ZNF326+ctrl</th>\n",
       "      <td>517</td>\n",
       "      <td>517</td>\n",
       "      <td>517</td>\n",
       "      <td>517</td>\n",
       "      <td>517</td>\n",
       "      <td>517</td>\n",
       "    </tr>\n",
       "    <tr>\n",
       "      <th>ctrl</th>\n",
       "      <td>1000</td>\n",
       "      <td>1000</td>\n",
       "      <td>1000</td>\n",
       "      <td>1000</td>\n",
       "      <td>1000</td>\n",
       "      <td>1000</td>\n",
       "    </tr>\n",
       "  </tbody>\n",
       "</table>\n",
       "<p>76 rows × 6 columns</p>\n",
       "</div>"
      ],
      "text/plain": [
       "               cell_type  dose_val  control  condition_name  celltype  \\\n",
       "condition                                                               \n",
       "AMIGO3+ctrl          616       616      616             616       616   \n",
       "ARHGAP22+ctrl        406       406      406             406       406   \n",
       "ASCC3+ctrl           524       524      524             524       524   \n",
       "BHLHE40+ctrl         504       504      504             504       504   \n",
       "CAD+ctrl             242       242      242             242       242   \n",
       "...                  ...       ...      ...             ...       ...   \n",
       "UFM1+ctrl            591       591      591             591       591   \n",
       "XRN1+ctrl            621       621      621             621       621   \n",
       "YIPF5+ctrl          1000      1000     1000            1000      1000   \n",
       "ZNF326+ctrl          517       517      517             517       517   \n",
       "ctrl                1000      1000     1000            1000      1000   \n",
       "\n",
       "               str_batch  \n",
       "condition                 \n",
       "AMIGO3+ctrl          616  \n",
       "ARHGAP22+ctrl        406  \n",
       "ASCC3+ctrl           524  \n",
       "BHLHE40+ctrl         504  \n",
       "CAD+ctrl             242  \n",
       "...                  ...  \n",
       "UFM1+ctrl            591  \n",
       "XRN1+ctrl            621  \n",
       "YIPF5+ctrl          1000  \n",
       "ZNF326+ctrl          517  \n",
       "ctrl                1000  \n",
       "\n",
       "[76 rows x 6 columns]"
      ]
     },
     "execution_count": 8,
     "metadata": {},
     "output_type": "execute_result"
    }
   ],
   "source": [
    "# Cap all conditions to 1000 cells\n",
    "sampled_df = (\n",
    "    adata.obs[adata.obs['condition'].isin(gene_names_set)]\n",
    "    .groupby('condition', group_keys=False)\n",
    "    .apply(lambda x: x.sample(min(len(x), 1000), random_state=42))\n",
    ")\n",
    "adata = adata[sampled_df.index].copy()\n",
    "adata.obs.groupby('condition').count()"
   ]
  },
  {
   "cell_type": "code",
   "execution_count": 9,
   "id": "7f2e8155",
   "metadata": {},
   "outputs": [
    {
     "data": {
      "text/html": [
       "<div>\n",
       "<style scoped>\n",
       "    .dataframe tbody tr th:only-of-type {\n",
       "        vertical-align: middle;\n",
       "    }\n",
       "\n",
       "    .dataframe tbody tr th {\n",
       "        vertical-align: top;\n",
       "    }\n",
       "\n",
       "    .dataframe thead th {\n",
       "        text-align: right;\n",
       "    }\n",
       "</style>\n",
       "<table border=\"1\" class=\"dataframe\">\n",
       "  <thead>\n",
       "    <tr style=\"text-align: right;\">\n",
       "      <th></th>\n",
       "      <th>cell_type</th>\n",
       "      <th>dose_val</th>\n",
       "      <th>control</th>\n",
       "      <th>condition_name</th>\n",
       "      <th>celltype</th>\n",
       "      <th>str_batch</th>\n",
       "    </tr>\n",
       "    <tr>\n",
       "      <th>condition</th>\n",
       "      <th></th>\n",
       "      <th></th>\n",
       "      <th></th>\n",
       "      <th></th>\n",
       "      <th></th>\n",
       "      <th></th>\n",
       "    </tr>\n",
       "  </thead>\n",
       "  <tbody>\n",
       "    <tr>\n",
       "      <th>HSPA5+ctrl</th>\n",
       "      <td>1000.0</td>\n",
       "      <td>1000.0</td>\n",
       "      <td>1000.0</td>\n",
       "      <td>1000.0</td>\n",
       "      <td>1000.0</td>\n",
       "      <td>1000.0</td>\n",
       "    </tr>\n",
       "    <tr>\n",
       "      <th>IER3IP1+ctrl</th>\n",
       "      <td>1000.0</td>\n",
       "      <td>1000.0</td>\n",
       "      <td>1000.0</td>\n",
       "      <td>1000.0</td>\n",
       "      <td>1000.0</td>\n",
       "      <td>1000.0</td>\n",
       "    </tr>\n",
       "    <tr>\n",
       "      <th>SCYL1+ctrl</th>\n",
       "      <td>1000.0</td>\n",
       "      <td>1000.0</td>\n",
       "      <td>1000.0</td>\n",
       "      <td>1000.0</td>\n",
       "      <td>1000.0</td>\n",
       "      <td>1000.0</td>\n",
       "    </tr>\n",
       "    <tr>\n",
       "      <th>YIPF5+ctrl</th>\n",
       "      <td>1000.0</td>\n",
       "      <td>1000.0</td>\n",
       "      <td>1000.0</td>\n",
       "      <td>1000.0</td>\n",
       "      <td>1000.0</td>\n",
       "      <td>1000.0</td>\n",
       "    </tr>\n",
       "    <tr>\n",
       "      <th>ctrl</th>\n",
       "      <td>1000.0</td>\n",
       "      <td>1000.0</td>\n",
       "      <td>1000.0</td>\n",
       "      <td>1000.0</td>\n",
       "      <td>1000.0</td>\n",
       "      <td>1000.0</td>\n",
       "    </tr>\n",
       "  </tbody>\n",
       "</table>\n",
       "</div>"
      ],
      "text/plain": [
       "              cell_type  dose_val  control  condition_name  celltype  \\\n",
       "condition                                                              \n",
       "HSPA5+ctrl       1000.0    1000.0   1000.0          1000.0    1000.0   \n",
       "IER3IP1+ctrl     1000.0    1000.0   1000.0          1000.0    1000.0   \n",
       "SCYL1+ctrl       1000.0    1000.0   1000.0          1000.0    1000.0   \n",
       "YIPF5+ctrl       1000.0    1000.0   1000.0          1000.0    1000.0   \n",
       "ctrl             1000.0    1000.0   1000.0          1000.0    1000.0   \n",
       "\n",
       "              str_batch  \n",
       "condition                \n",
       "HSPA5+ctrl       1000.0  \n",
       "IER3IP1+ctrl     1000.0  \n",
       "SCYL1+ctrl       1000.0  \n",
       "YIPF5+ctrl       1000.0  \n",
       "ctrl             1000.0  "
      ]
     },
     "execution_count": 9,
     "metadata": {},
     "output_type": "execute_result"
    }
   ],
   "source": [
    "# 5 conditions are capped, including ctrl\n",
    "condition_counts = adata.obs.groupby('condition').count()\n",
    "condition_counts[condition_counts == 1000].dropna()"
   ]
  },
  {
   "cell_type": "code",
   "execution_count": 10,
   "id": "926217f6",
   "metadata": {},
   "outputs": [],
   "source": [
    "condition_names = set(adata.obs.condition.tolist())"
   ]
  },
  {
   "cell_type": "code",
   "execution_count": 11,
   "id": "20cf69bb",
   "metadata": {},
   "outputs": [],
   "source": [
    "condition_names.remove('ctrl')"
   ]
  },
  {
   "cell_type": "code",
   "execution_count": 12,
   "id": "b9982e8d",
   "metadata": {},
   "outputs": [],
   "source": [
    "condition_names_gene = [i.split('+')[0] for i in list(condition_names)]"
   ]
  },
  {
   "cell_type": "code",
   "execution_count": 13,
   "id": "da55a91e",
   "metadata": {},
   "outputs": [],
   "source": [
    "condition_names_gene.sort()"
   ]
  },
  {
   "cell_type": "markdown",
   "id": "6f72c6da",
   "metadata": {},
   "source": [
    "####  ✅ Note\n",
    "HVGs selection will filter out some perturbed genes. We manually add them back in the experiment."
   ]
  },
  {
   "cell_type": "code",
   "execution_count": 14,
   "id": "b5874e86",
   "metadata": {},
   "outputs": [
    {
     "name": "stdout",
     "output_type": "stream",
     "text": [
      "scGPT - INFO - Filtering genes by counts ...\n"
     ]
    }
   ],
   "source": [
    "# Do filtering\n",
    "preprocessor = Preprocessor(\n",
    "    use_key=\"X\",  # the key in adata.layers to use as raw data\n",
    "    filter_gene_by_counts=3,  # step 1\n",
    "    filter_cell_by_counts=None,  # step 2\n",
    "    normalize_total=None,  # 3. whether to normalize the raw data and to what sum\n",
    "    result_normed_key=\"X_normed\",  # the key in adata.layers to store the normalized data\n",
    "    log1p=False,  # 4. whether to log1p the normalized data\n",
    "    result_log1p_key=\"X_log1p\",\n",
    "    subset_hvg=None,  # 5. whether to subset the raw data to highly variable genes\n",
    "    hvg_flavor=\"seurat_v3\" if data_is_raw else \"cell_ranger\",\n",
    "    #binning=config.n_bins,  # 6. whether to bin the raw data and to what number of bins\n",
    "    #result_binned_key=\"X_binned\",  # the key in adata.layers to store the binned data\n",
    ")\n",
    "preprocessor(adata, batch_key=None)"
   ]
  },
  {
   "cell_type": "code",
   "execution_count": 15,
   "id": "4100ff1d",
   "metadata": {},
   "outputs": [],
   "source": [
    "sc.pp.highly_variable_genes(\n",
    "    adata,\n",
    "    layer=None,\n",
    "    n_top_genes=1200,\n",
    "    flavor=\"seurat_v3\" if data_is_raw else \"cell_ranger\",\n",
    "    subset=False,\n",
    ")"
   ]
  },
  {
   "cell_type": "code",
   "execution_count": 16,
   "id": "f73f0159",
   "metadata": {},
   "outputs": [],
   "source": [
    "add_counter = 0\n",
    "for g in condition_names_gene:\n",
    "    if not adata.var.loc[adata.var[adata.var.gene_name==g].index, 'highly_variable'].values[0]:\n",
    "        adata.var.loc[adata.var[adata.var.gene_name==g].index, 'highly_variable'] = True\n",
    "        add_counter += 1"
   ]
  },
  {
   "cell_type": "code",
   "execution_count": 17,
   "id": "f0196dd6",
   "metadata": {},
   "outputs": [
    {
     "name": "stdout",
     "output_type": "stream",
     "text": [
      "Manually add conditions: 67, 0.8933333333333333\n"
     ]
    }
   ],
   "source": [
    "print('Manually add conditions: {}, {}'.format(add_counter, add_counter/len(condition_names_gene)))"
   ]
  },
  {
   "cell_type": "code",
   "execution_count": 18,
   "id": "1a644f28",
   "metadata": {},
   "outputs": [
    {
     "name": "stdout",
     "output_type": "stream",
     "text": [
      "scGPT - INFO - Binning data ...\n"
     ]
    }
   ],
   "source": [
    "# This step for binning\n",
    "preprocessor = Preprocessor(\n",
    "    use_key=\"X\",  # the key in adata.layers to use as raw data\n",
    "    filter_gene_by_counts=0,  # step 1\n",
    "    filter_cell_by_counts=None,  # step 2\n",
    "    normalize_total=None,  # 3. whether to normalize the raw data and to what sum\n",
    "    result_normed_key=\"X_normed\",  # the key in adata.layers to store the normalized data\n",
    "    log1p=False,  # 4. whether to log1p the normalized data\n",
    "    result_log1p_key=\"X_log1p\",\n",
    "    subset_hvg=None,  # 5. whether to subset the raw data to highly variable genes\n",
    "    hvg_flavor=\"seurat_v3\" if data_is_raw else \"cell_ranger\",\n",
    "    binning=config.n_bins,  # 6. whether to bin the raw data and to what number of bins\n",
    "    result_binned_key=\"X_binned\",  # the key in adata.layers to store the binned data\n",
    ")\n",
    "preprocessor(adata, batch_key=None)"
   ]
  },
  {
   "cell_type": "code",
   "execution_count": 19,
   "id": "dab55acf",
   "metadata": {},
   "outputs": [
    {
     "name": "stdout",
     "output_type": "stream",
     "text": [
      "AnnData object with n_obs × n_vars = 39847 × 1267\n",
      "    obs: 'condition', 'cell_type', 'dose_val', 'control', 'condition_name', 'celltype', 'str_batch'\n",
      "    var: 'gene_name', 'id_in_vocab', 'n_counts', 'highly_variable', 'means', 'dispersions', 'dispersions_norm'\n",
      "    uns: 'non_dropout_gene_idx', 'non_zeros_gene_idx', 'rank_genes_groups_cov_all', 'top_non_dropout_de_20', 'top_non_zero_de_20', 'hvg'\n",
      "    obsm: 'bin_edges'\n",
      "    layers: 'X_binned'\n"
     ]
    }
   ],
   "source": [
    "adata = adata[:, adata.var[\"highly_variable\"]].copy()\n",
    "print(adata)"
   ]
  },
  {
   "cell_type": "markdown",
   "id": "5526d709",
   "metadata": {},
   "source": [
    "#### 🔵 Optional\n",
    "Create another randomly shuffled list of `condition_names_gene_match` as control, if running the control experiment. \n",
    "Note that there are many ways to construct the control list, either from perturbation targets or random from all genes."
   ]
  },
  {
   "cell_type": "code",
   "execution_count": 20,
   "id": "a3c8e01d",
   "metadata": {},
   "outputs": [],
   "source": [
    "# Here is an example of randomly shuffle perturbation targets\n",
    "import random\n",
    "random.seed(42)\n",
    "condition_names_gene_match = condition_names_gene.copy()\n",
    "random.shuffle(condition_names_gene_match)"
   ]
  },
  {
   "cell_type": "code",
   "execution_count": 21,
   "id": "9f5baedd",
   "metadata": {},
   "outputs": [],
   "source": [
    "# Here is an example of using non-targets\n",
    "# This is the most recent version\n",
    "genes = adata.var[\"gene_name\"].tolist()\n",
    "non_targets = list(set(genes).difference(set(condition_names_gene)))\n",
    "non_targets.sort()\n",
    "random.seed(42)\n",
    "random.shuffle(non_targets)\n",
    "non_targets\n",
    "condition_names_gene_match = non_targets[:len(condition_names_gene)]"
   ]
  },
  {
   "cell_type": "code",
   "execution_count": 22,
   "id": "5b2320a5",
   "metadata": {},
   "outputs": [
    {
     "name": "stdout",
     "output_type": "stream",
     "text": [
      "['AMIGO3', 'ARHGAP22', 'ASCC3', 'BHLHE40', 'CAD', 'CCND3', 'CHERP', 'COPB1', 'COPZ1', 'CREB1', 'DAD1', 'DDIT3', 'DDOST', 'DDRGK1', 'DERL2', 'DHDDS', 'DNAJC19', 'EIF2B2', 'EIF2B3', 'EIF2B4', 'EIF2S1', 'FARSB', 'FECH', 'GBF1', 'GMPPB', 'GNPNAT1', 'HSD17B12', 'HSPA5', 'HSPA9', 'HYOU1', 'IARS2', 'IDH3A', 'IER3IP1', 'KCTD16', 'MANF', 'MRGBP', 'MRPL39', 'MTHFD1', 'NEDD8', 'OST4', 'P4HB', 'PDIA6', 'PPWD1', 'PSMD4', 'PTDSS1', 'SAMM50', 'SCYL1', 'SEC61A1', 'SEC61B', 'SEC61G', 'SEC63', 'SEL1L', 'SLC35B1', 'SLC39A7', 'SOCS1', 'SPCS2', 'SPCS3', 'SRP68', 'SRP72', 'SRPRB', 'STT3A', 'SYVN1', 'TELO2', 'TIMM23', 'TIMM44', 'TMED10', 'TMED2', 'TMEM167A', 'TTI1', 'TTI2', 'UFL1', 'UFM1', 'XRN1', 'YIPF5', 'ZNF326']\n"
     ]
    }
   ],
   "source": [
    "print(condition_names_gene)"
   ]
  },
  {
   "cell_type": "code",
   "execution_count": 23,
   "id": "91295c9a",
   "metadata": {},
   "outputs": [
    {
     "name": "stdout",
     "output_type": "stream",
     "text": [
      "['RP5-1159O4.2', 'RP11-584P21.2', 'FBXO32', 'NUSAP1', 'PCNA', 'SKIL', 'MYOZ1', 'GADD45G', 'EEF1A1', 'MCF2L', 'DLX4', 'CCNE2', 'COCH', 'NAV2', 'KCNQ1', 'SLC39A10', 'AC023590.1', 'CAPN2', 'PTPN7', 'TUBB1', 'SLC6A20', 'RP11-96K19.2', 'STAR', 'OR8D1', 'TRIM24', 'KDM7A', 'HSPA8', 'SLC7A8', 'PSRC1', 'TGIF1', 'NR4A1', 'PTH2', 'DLGAP5', 'NMU', 'RBPMS', 'LGALS3', 'PSAT1', 'AQP1', 'RP11-867G2.8', 'MYLIP', 'F8', 'PTTG1', 'HNMT', 'FNDC4', 'RP11-320G24.1', 'BAIAP3', 'CTC-203F4.2', 'HOTAIRM1', 'SMC4', 'MRAP2', 'FEV', 'RP11-1277A3.1', 'HMGCS1', 'RP11-422P24.10', 'RIMS3', 'IFITM1', 'VIM', 'PPP3CA', 'HBZ', 'IL4R', 'TNFAIP2', 'SQSTM1', 'PCK2', 'LGALS1', 'MUC4', 'AQP3', 'AP000640.10', 'AC034243.1', 'KALRN', 'SEC24D', 'RP11-727F15.9', 'ABTB2', 'LIMS1', 'PRSS57', 'ARL6IP1']\n"
     ]
    }
   ],
   "source": [
    "print(condition_names_gene_match)"
   ]
  },
  {
   "cell_type": "markdown",
   "id": "77f8a4f5",
   "metadata": {},
   "source": [
    "## Prepare model input"
   ]
  },
  {
   "cell_type": "code",
   "execution_count": 24,
   "id": "e3ebbb68",
   "metadata": {},
   "outputs": [
    {
     "data": {
      "text/plain": [
       "1268"
      ]
     },
     "execution_count": 24,
     "metadata": {},
     "output_type": "execute_result"
    }
   ],
   "source": [
    "max_len = adata.shape[1] + 1\n",
    "max_len"
   ]
  },
  {
   "cell_type": "code",
   "execution_count": 25,
   "id": "f3663c07",
   "metadata": {},
   "outputs": [],
   "source": [
    "if config.load_model is None:\n",
    "    vocab = Vocab(\n",
    "        VocabPybind(genes + special_tokens, None)\n",
    "    )  # bidirectional lookup [gene <-> int]\n",
    "vocab.set_default_index(vocab[\"<pad>\"])\n",
    "gene_ids = np.array(vocab(genes), dtype=int)\n",
    "adata.obs['batch_id'] = adata.obs['condition'].copy()\n",
    "batch_ids = adata.obs[\"batch_id\"].tolist()\n",
    "num_batch_types = len(set(batch_ids))\n",
    "input_layer_key = \"X_binned\""
   ]
  },
  {
   "cell_type": "code",
   "execution_count": 26,
   "id": "7e4a5693",
   "metadata": {},
   "outputs": [],
   "source": [
    "def prepare_data(sort_seq_batch=False) -> Tuple[Dict[str, torch.Tensor]]:\n",
    "    masked_values_train = random_mask_value(\n",
    "        tokenized_train[\"values\"],\n",
    "        mask_ratio=mask_ratio,\n",
    "        mask_value=mask_value,\n",
    "        pad_value=pad_value,\n",
    "    )\n",
    "    masked_values_valid = random_mask_value(\n",
    "        tokenized_valid[\"values\"],\n",
    "        mask_ratio=mask_ratio,\n",
    "        mask_value=mask_value,\n",
    "        pad_value=pad_value,\n",
    "    )\n",
    "    print(\n",
    "        f\"random masking at epoch {epoch:3d}, ratio of masked values in train: \",\n",
    "        f\"{(masked_values_train == mask_value).sum() / (masked_values_train - pad_value).count_nonzero():.4f}\",\n",
    "    )\n",
    "\n",
    "    input_gene_ids_train, input_gene_ids_valid = (\n",
    "        tokenized_train[\"genes\"],\n",
    "        tokenized_valid[\"genes\"],\n",
    "    )\n",
    "    input_values_train, input_values_valid = masked_values_train, masked_values_valid\n",
    "    target_values_train, target_values_valid = (\n",
    "        tokenized_train[\"values\"],\n",
    "        tokenized_valid[\"values\"],\n",
    "    )\n",
    "\n",
    "    tensor_batch_labels_train = torch.from_numpy(train_batch_labels).long()\n",
    "    tensor_batch_labels_valid = torch.from_numpy(valid_batch_labels).long()\n",
    "\n",
    "    if sort_seq_batch:\n",
    "        train_sort_ids = np.argsort(train_batch_labels)\n",
    "        input_gene_ids_train = input_gene_ids_train[train_sort_ids]\n",
    "        input_values_train = input_values_train[train_sort_ids]\n",
    "        target_values_train = target_values_train[train_sort_ids]\n",
    "        tensor_batch_labels_train = tensor_batch_labels_train[train_sort_ids]\n",
    "\n",
    "        valid_sort_ids = np.argsort(valid_batch_labels)\n",
    "        input_gene_ids_valid = input_gene_ids_valid[valid_sort_ids]\n",
    "        input_values_valid = input_values_valid[valid_sort_ids]\n",
    "        target_values_valid = target_values_valid[valid_sort_ids]\n",
    "        tensor_batch_labels_valid = tensor_batch_labels_valid[valid_sort_ids]\n",
    "\n",
    "    train_data_pt = {\n",
    "        \"gene_ids\": input_gene_ids_train,\n",
    "        \"values\": input_values_train,\n",
    "        \"target_values\": target_values_train,\n",
    "        \"batch_labels\": tensor_batch_labels_train,\n",
    "    }\n",
    "    valid_data_pt = {\n",
    "        \"gene_ids\": input_gene_ids_valid,\n",
    "        \"values\": input_values_valid,\n",
    "        \"target_values\": target_values_valid,\n",
    "        \"batch_labels\": tensor_batch_labels_valid,\n",
    "    }\n",
    "\n",
    "    return train_data_pt, valid_data_pt\n",
    "\n",
    "\n",
    "# dataset\n",
    "class SeqDataset(Dataset):\n",
    "    def __init__(self, data: Dict[str, torch.Tensor]):\n",
    "        self.data = data\n",
    "\n",
    "    def __len__(self):\n",
    "        return self.data[\"gene_ids\"].shape[0]\n",
    "\n",
    "    def __getitem__(self, idx):\n",
    "        return {k: v[idx] for k, v in self.data.items()}\n",
    "\n",
    "\n",
    "# data_loader\n",
    "def prepare_dataloader(\n",
    "    data_pt: Dict[str, torch.Tensor],\n",
    "    batch_size: int,\n",
    "    shuffle: bool = False,\n",
    "    intra_domain_shuffle: bool = False,\n",
    "    drop_last: bool = False,\n",
    "    num_workers: int = 0,\n",
    ") -> DataLoader:\n",
    "    dataset = SeqDataset(data_pt)\n",
    "\n",
    "    if per_seq_batch_sample:\n",
    "        # find the indices of samples in each seq batch\n",
    "        subsets = []\n",
    "        batch_labels_array = data_pt[\"batch_labels\"].numpy()\n",
    "        for batch_label in np.unique(batch_labels_array):\n",
    "            batch_indices = np.where(batch_labels_array == batch_label)[0].tolist()\n",
    "            subsets.append(batch_indices)\n",
    "        data_loader = DataLoader(\n",
    "            dataset=dataset,\n",
    "            batch_sampler=SubsetsBatchSampler(\n",
    "                subsets,\n",
    "                batch_size,\n",
    "                intra_subset_shuffle=intra_domain_shuffle,\n",
    "                inter_subset_shuffle=shuffle,\n",
    "                drop_last=drop_last,\n",
    "            ),\n",
    "            num_workers=num_workers,\n",
    "            pin_memory=True,\n",
    "        )\n",
    "        return data_loader\n",
    "\n",
    "    data_loader = DataLoader(\n",
    "        dataset=dataset,\n",
    "        batch_size=batch_size,\n",
    "        shuffle=shuffle,\n",
    "        drop_last=drop_last,\n",
    "        num_workers=num_workers,\n",
    "        pin_memory=True,\n",
    "    )\n",
    "    return data_loader"
   ]
  },
  {
   "cell_type": "markdown",
   "id": "b5753701",
   "metadata": {},
   "source": [
    "## Load the pre-trained scGPT model"
   ]
  },
  {
   "cell_type": "code",
   "execution_count": 27,
   "id": "e346fb67",
   "metadata": {},
   "outputs": [
    {
     "name": "stdout",
     "output_type": "stream",
     "text": [
      "Using simple batchnorm instead of domain specific batchnorm\n"
     ]
    },
    {
     "data": {
      "text/plain": [
       "[]"
      ]
     },
     "execution_count": 27,
     "metadata": {},
     "output_type": "execute_result"
    }
   ],
   "source": [
    "device = torch.device(\"cuda\" if torch.cuda.is_available() else \"cpu\")\n",
    "\n",
    "ntokens = len(vocab)  # size of vocabulary\n",
    "model = TransformerModel(\n",
    "    ntokens,\n",
    "    embsize,\n",
    "    nhead,\n",
    "    d_hid,\n",
    "    nlayers,\n",
    "    vocab=vocab,\n",
    "    dropout=config.dropout,\n",
    "    pad_token=pad_token,\n",
    "    pad_value=pad_value,\n",
    "    do_mvc=config.GEPC,\n",
    "    do_dab=True,\n",
    "    use_batch_labels=False,\n",
    "    num_batch_labels=num_batch_types,\n",
    "    domain_spec_batchnorm=False,\n",
    "    n_input_bins=n_input_bins,\n",
    "    ecs_threshold=config.ecs_thres,\n",
    "    explicit_zero_prob=explicit_zero_prob,\n",
    "    use_fast_transformer=config.fast_transformer,\n",
    "    pre_norm=config.pre_norm,\n",
    ")\n",
    "if config.load_model is not None:\n",
    "    load_pretrained(model, torch.load(model_file), verbose=False)\n",
    "\n",
    "model.to(device)\n",
    "wandb.watch(model)"
   ]
  },
  {
   "cell_type": "code",
   "execution_count": 28,
   "id": "6dd1c8c9",
   "metadata": {},
   "outputs": [],
   "source": [
    "model.eval()\n",
    "adata_t = adata.copy()"
   ]
  },
  {
   "cell_type": "code",
   "execution_count": 29,
   "id": "3ca655eb",
   "metadata": {},
   "outputs": [],
   "source": [
    "all_counts = (\n",
    "    adata_t.layers[input_layer_key].A\n",
    "    if issparse(adata_t.layers[input_layer_key])\n",
    "    else adata_t.layers[input_layer_key]\n",
    ")\n",
    "celltypes_labels = adata_t.obs[\"celltype\"].tolist()\n",
    "celltypes_labels = np.array(celltypes_labels)\n",
    "\n",
    "batch_ids = adata_t.obs[\"batch_id\"].tolist()\n",
    "batch_ids = np.array(batch_ids)\n",
    "\n",
    "tokenized_all = tokenize_and_pad_batch(\n",
    "    all_counts,\n",
    "    gene_ids,\n",
    "    max_len=max_len,\n",
    "    vocab=vocab,\n",
    "    pad_token=pad_token,\n",
    "    pad_value=pad_value,\n",
    "    append_cls=True,  # append <cls> token at the beginning\n",
    "    include_zero_gene=True,\n",
    ")\n",
    "all_gene_ids, all_values = tokenized_all[\"genes\"], tokenized_all[\"values\"]\n",
    "src_key_padding_mask = all_gene_ids.eq(vocab[pad_token])"
   ]
  },
  {
   "cell_type": "markdown",
   "id": "900efa46",
   "metadata": {},
   "source": [
    "##  Get gene embeddings"
   ]
  },
  {
   "cell_type": "code",
   "execution_count": 30,
   "id": "42062c4f",
   "metadata": {},
   "outputs": [
    {
     "name": "stderr",
     "output_type": "stream",
     "text": [
      "100%|██████████| 623/623 [04:45<00:00,  2.18it/s]\n"
     ]
    }
   ],
   "source": [
    "with torch.no_grad(), torch.cuda.amp.autocast(enabled=config.amp):\n",
    "    gene_embeddings = model.encode_batch(\n",
    "        all_gene_ids,\n",
    "        all_values.float(),\n",
    "        src_key_padding_mask=src_key_padding_mask,\n",
    "        batch_size=config.batch_size,\n",
    "        batch_labels=None,\n",
    "        return_np=True,\n",
    "    )"
   ]
  },
  {
   "cell_type": "code",
   "execution_count": 31,
   "id": "e8c9d6c6",
   "metadata": {},
   "outputs": [
    {
     "data": {
      "text/plain": [
       "(39847, 1268, 512)"
      ]
     },
     "execution_count": 31,
     "metadata": {},
     "output_type": "execute_result"
    }
   ],
   "source": [
    "gene_embeddings.shape"
   ]
  },
  {
   "cell_type": "code",
   "execution_count": 32,
   "id": "9ad36f29",
   "metadata": {},
   "outputs": [
    {
     "data": {
      "text/plain": [
       "tensor([[60695, 10954, 33817,  ..., 11394, 20695, 12288],\n",
       "        [60695, 10954, 33817,  ..., 11394, 20695, 12288],\n",
       "        [60695, 10954, 33817,  ..., 11394, 20695, 12288],\n",
       "        ...,\n",
       "        [60695, 10954, 33817,  ..., 11394, 20695, 12288],\n",
       "        [60695, 10954, 33817,  ..., 11394, 20695, 12288],\n",
       "        [60695, 10954, 33817,  ..., 11394, 20695, 12288]])"
      ]
     },
     "execution_count": 32,
     "metadata": {},
     "output_type": "execute_result"
    }
   ],
   "source": [
    "all_gene_ids"
   ]
  },
  {
   "cell_type": "code",
   "execution_count": 33,
   "id": "1cea57ea",
   "metadata": {},
   "outputs": [
    {
     "data": {
      "text/plain": [
       "1267"
      ]
     },
     "execution_count": 33,
     "metadata": {},
     "output_type": "execute_result"
    }
   ],
   "source": [
    "len(genes)"
   ]
  },
  {
   "cell_type": "code",
   "execution_count": 34,
   "id": "84680766",
   "metadata": {},
   "outputs": [
    {
     "data": {
      "text/plain": [
       "(39847, 1268, 512)"
      ]
     },
     "execution_count": 34,
     "metadata": {},
     "output_type": "execute_result"
    }
   ],
   "source": [
    "gene_embeddings.shape"
   ]
  },
  {
   "cell_type": "code",
   "execution_count": 35,
   "id": "18b753c6",
   "metadata": {},
   "outputs": [],
   "source": [
    "condition_ids = np.array(adata_t.obs[\"condition\"].tolist())"
   ]
  },
  {
   "cell_type": "markdown",
   "id": "854e907c",
   "metadata": {},
   "source": [
    "#### ✅ Note\n",
    "Each perturbation group has one n_gene x 512 aggreagted profile associated with it"
   ]
  },
  {
   "cell_type": "code",
   "execution_count": 36,
   "id": "98f1ba2f",
   "metadata": {},
   "outputs": [],
   "source": [
    "dict_sum_condition = {}\n",
    "for i, c in enumerate(condition_ids):\n",
    "    if c in dict_sum_condition:\n",
    "        dict_sum_condition[c]+=gene_embeddings[i, :, :]\n",
    "    else:\n",
    "        dict_sum_condition[c]=gene_embeddings[i, :, :]"
   ]
  },
  {
   "cell_type": "code",
   "execution_count": 37,
   "id": "82e34b02",
   "metadata": {},
   "outputs": [],
   "source": [
    "dict_sum_condition_mean = {}\n",
    "groups = adata_t.obs.groupby('condition').groups\n",
    "for i in groups.keys():\n",
    "    dict_sum_condition_mean[i] = dict_sum_condition[i]/len(groups[i])"
   ]
  },
  {
   "cell_type": "code",
   "execution_count": 38,
   "id": "7a530d06",
   "metadata": {},
   "outputs": [
    {
     "data": {
      "text/plain": [
       "(1268, 512)"
      ]
     },
     "execution_count": 38,
     "metadata": {},
     "output_type": "execute_result"
    }
   ],
   "source": [
    "dict_sum_condition_mean['AMIGO3+ctrl'].shape"
   ]
  },
  {
   "cell_type": "code",
   "execution_count": 39,
   "id": "ca98b05e",
   "metadata": {},
   "outputs": [],
   "source": [
    "gene_vocab_idx = all_gene_ids[0].clone().detach().cpu().numpy()"
   ]
  },
  {
   "cell_type": "code",
   "execution_count": 40,
   "id": "2b93f795",
   "metadata": {},
   "outputs": [
    {
     "data": {
      "text/plain": [
       "76"
      ]
     },
     "execution_count": 40,
     "metadata": {},
     "output_type": "execute_result"
    }
   ],
   "source": [
    "perturb_conditions = list(dict_sum_condition_mean.keys())\n",
    "len(perturb_conditions)"
   ]
  },
  {
   "cell_type": "code",
   "execution_count": 41,
   "id": "0173d689",
   "metadata": {},
   "outputs": [],
   "source": [
    "perturb_conditions.remove('ctrl')"
   ]
  },
  {
   "cell_type": "code",
   "execution_count": 42,
   "id": "02ce48c9",
   "metadata": {},
   "outputs": [],
   "source": [
    "assert 'ctrl' not in perturb_conditions"
   ]
  },
  {
   "cell_type": "code",
   "execution_count": 43,
   "id": "63d15689",
   "metadata": {},
   "outputs": [],
   "source": [
    "from sklearn.metrics.pairwise import cosine_distances\n",
    "from tqdm import tqdm\n",
    "import pandas as pd"
   ]
  },
  {
   "cell_type": "markdown",
   "id": "ce104983",
   "metadata": {},
   "source": [
    "#### ✅ Note\n",
    "Calculate consine distance between control and each perturbation conditions"
   ]
  },
  {
   "cell_type": "code",
   "execution_count": 44,
   "id": "dca76801",
   "metadata": {},
   "outputs": [],
   "source": [
    "rank_list = []"
   ]
  },
  {
   "cell_type": "code",
   "execution_count": 45,
   "id": "61f9c6be",
   "metadata": {},
   "outputs": [
    {
     "name": "stderr",
     "output_type": "stream",
     "text": [
      "1267it [00:00, 3164.02it/s]\n"
     ]
    },
    {
     "name": "stdout",
     "output_type": "stream",
     "text": [
      "AMIGO3+ctrl 409\n"
     ]
    },
    {
     "name": "stderr",
     "output_type": "stream",
     "text": [
      "1267it [00:00, 3366.80it/s]\n"
     ]
    },
    {
     "name": "stdout",
     "output_type": "stream",
     "text": [
      "ARHGAP22+ctrl 126\n"
     ]
    },
    {
     "name": "stderr",
     "output_type": "stream",
     "text": [
      "1267it [00:00, 3105.31it/s]\n"
     ]
    },
    {
     "name": "stdout",
     "output_type": "stream",
     "text": [
      "ASCC3+ctrl 48\n"
     ]
    },
    {
     "name": "stderr",
     "output_type": "stream",
     "text": [
      "1267it [00:00, 3147.08it/s]\n"
     ]
    },
    {
     "name": "stdout",
     "output_type": "stream",
     "text": [
      "BHLHE40+ctrl 558\n"
     ]
    },
    {
     "name": "stderr",
     "output_type": "stream",
     "text": [
      "1267it [00:00, 3592.24it/s]\n"
     ]
    },
    {
     "name": "stdout",
     "output_type": "stream",
     "text": [
      "CAD+ctrl 557\n"
     ]
    },
    {
     "name": "stderr",
     "output_type": "stream",
     "text": [
      "1267it [00:00, 3517.92it/s]\n"
     ]
    },
    {
     "name": "stdout",
     "output_type": "stream",
     "text": [
      "CCND3+ctrl 3\n"
     ]
    },
    {
     "name": "stderr",
     "output_type": "stream",
     "text": [
      "1267it [00:00, 3578.69it/s]\n"
     ]
    },
    {
     "name": "stdout",
     "output_type": "stream",
     "text": [
      "CHERP+ctrl 34\n"
     ]
    },
    {
     "name": "stderr",
     "output_type": "stream",
     "text": [
      "1267it [00:00, 3337.85it/s]\n"
     ]
    },
    {
     "name": "stdout",
     "output_type": "stream",
     "text": [
      "COPB1+ctrl 933\n"
     ]
    },
    {
     "name": "stderr",
     "output_type": "stream",
     "text": [
      "1267it [00:00, 3514.65it/s]\n"
     ]
    },
    {
     "name": "stdout",
     "output_type": "stream",
     "text": [
      "COPZ1+ctrl 5\n"
     ]
    },
    {
     "name": "stderr",
     "output_type": "stream",
     "text": [
      "1267it [00:00, 3545.82it/s]\n"
     ]
    },
    {
     "name": "stdout",
     "output_type": "stream",
     "text": [
      "CREB1+ctrl 110\n"
     ]
    },
    {
     "name": "stderr",
     "output_type": "stream",
     "text": [
      "1267it [00:00, 3446.62it/s]\n"
     ]
    },
    {
     "name": "stdout",
     "output_type": "stream",
     "text": [
      "DAD1+ctrl 0\n"
     ]
    },
    {
     "name": "stderr",
     "output_type": "stream",
     "text": [
      "1267it [00:00, 3560.05it/s]\n"
     ]
    },
    {
     "name": "stdout",
     "output_type": "stream",
     "text": [
      "DDIT3+ctrl 298\n"
     ]
    },
    {
     "name": "stderr",
     "output_type": "stream",
     "text": [
      "1267it [00:00, 3467.19it/s]\n"
     ]
    },
    {
     "name": "stdout",
     "output_type": "stream",
     "text": [
      "DDOST+ctrl 2\n"
     ]
    },
    {
     "name": "stderr",
     "output_type": "stream",
     "text": [
      "1267it [00:00, 3325.94it/s]\n"
     ]
    },
    {
     "name": "stdout",
     "output_type": "stream",
     "text": [
      "DDRGK1+ctrl 2\n"
     ]
    },
    {
     "name": "stderr",
     "output_type": "stream",
     "text": [
      "1267it [00:00, 3224.86it/s]\n"
     ]
    },
    {
     "name": "stdout",
     "output_type": "stream",
     "text": [
      "DERL2+ctrl 10\n"
     ]
    },
    {
     "name": "stderr",
     "output_type": "stream",
     "text": [
      "1267it [00:00, 3307.58it/s]\n"
     ]
    },
    {
     "name": "stdout",
     "output_type": "stream",
     "text": [
      "DHDDS+ctrl 212\n"
     ]
    },
    {
     "name": "stderr",
     "output_type": "stream",
     "text": [
      "1267it [00:00, 3326.76it/s]\n"
     ]
    },
    {
     "name": "stdout",
     "output_type": "stream",
     "text": [
      "DNAJC19+ctrl 5\n"
     ]
    },
    {
     "name": "stderr",
     "output_type": "stream",
     "text": [
      "1267it [00:00, 2978.32it/s]\n"
     ]
    },
    {
     "name": "stdout",
     "output_type": "stream",
     "text": [
      "EIF2B2+ctrl 529\n"
     ]
    },
    {
     "name": "stderr",
     "output_type": "stream",
     "text": [
      "1267it [00:00, 3127.08it/s]\n"
     ]
    },
    {
     "name": "stdout",
     "output_type": "stream",
     "text": [
      "EIF2B3+ctrl 51\n"
     ]
    },
    {
     "name": "stderr",
     "output_type": "stream",
     "text": [
      "1267it [00:00, 3267.39it/s]\n"
     ]
    },
    {
     "name": "stdout",
     "output_type": "stream",
     "text": [
      "EIF2B4+ctrl 208\n"
     ]
    },
    {
     "name": "stderr",
     "output_type": "stream",
     "text": [
      "1267it [00:00, 3203.81it/s]\n"
     ]
    },
    {
     "name": "stdout",
     "output_type": "stream",
     "text": [
      "EIF2S1+ctrl 38\n"
     ]
    },
    {
     "name": "stderr",
     "output_type": "stream",
     "text": [
      "1267it [00:00, 3180.06it/s]\n"
     ]
    },
    {
     "name": "stdout",
     "output_type": "stream",
     "text": [
      "FARSB+ctrl 5\n"
     ]
    },
    {
     "name": "stderr",
     "output_type": "stream",
     "text": [
      "1267it [00:00, 3142.43it/s]\n"
     ]
    },
    {
     "name": "stdout",
     "output_type": "stream",
     "text": [
      "FECH+ctrl 228\n"
     ]
    },
    {
     "name": "stderr",
     "output_type": "stream",
     "text": [
      "1267it [00:00, 3278.99it/s]\n"
     ]
    },
    {
     "name": "stdout",
     "output_type": "stream",
     "text": [
      "GBF1+ctrl 40\n"
     ]
    },
    {
     "name": "stderr",
     "output_type": "stream",
     "text": [
      "1267it [00:00, 3164.75it/s]\n"
     ]
    },
    {
     "name": "stdout",
     "output_type": "stream",
     "text": [
      "GMPPB+ctrl 1010\n"
     ]
    },
    {
     "name": "stderr",
     "output_type": "stream",
     "text": [
      "1267it [00:00, 3140.60it/s]\n"
     ]
    },
    {
     "name": "stdout",
     "output_type": "stream",
     "text": [
      "GNPNAT1+ctrl 10\n"
     ]
    },
    {
     "name": "stderr",
     "output_type": "stream",
     "text": [
      "1267it [00:00, 3010.59it/s]\n"
     ]
    },
    {
     "name": "stdout",
     "output_type": "stream",
     "text": [
      "HSD17B12+ctrl 6\n"
     ]
    },
    {
     "name": "stderr",
     "output_type": "stream",
     "text": [
      "1267it [00:00, 3098.79it/s]\n"
     ]
    },
    {
     "name": "stdout",
     "output_type": "stream",
     "text": [
      "HSPA5+ctrl 2\n"
     ]
    },
    {
     "name": "stderr",
     "output_type": "stream",
     "text": [
      "1267it [00:00, 3181.82it/s]\n"
     ]
    },
    {
     "name": "stdout",
     "output_type": "stream",
     "text": [
      "HSPA9+ctrl 5\n"
     ]
    },
    {
     "name": "stderr",
     "output_type": "stream",
     "text": [
      "1267it [00:00, 3073.06it/s]\n"
     ]
    },
    {
     "name": "stdout",
     "output_type": "stream",
     "text": [
      "HYOU1+ctrl 48\n"
     ]
    },
    {
     "name": "stderr",
     "output_type": "stream",
     "text": [
      "1267it [00:00, 3167.57it/s]\n"
     ]
    },
    {
     "name": "stdout",
     "output_type": "stream",
     "text": [
      "IARS2+ctrl 327\n"
     ]
    },
    {
     "name": "stderr",
     "output_type": "stream",
     "text": [
      "1267it [00:00, 3119.90it/s]\n"
     ]
    },
    {
     "name": "stdout",
     "output_type": "stream",
     "text": [
      "IDH3A+ctrl 11\n"
     ]
    },
    {
     "name": "stderr",
     "output_type": "stream",
     "text": [
      "1267it [00:00, 2957.32it/s]\n"
     ]
    },
    {
     "name": "stdout",
     "output_type": "stream",
     "text": [
      "IER3IP1+ctrl 15\n"
     ]
    },
    {
     "name": "stderr",
     "output_type": "stream",
     "text": [
      "1267it [00:00, 3172.56it/s]\n"
     ]
    },
    {
     "name": "stdout",
     "output_type": "stream",
     "text": [
      "KCTD16+ctrl 112\n"
     ]
    },
    {
     "name": "stderr",
     "output_type": "stream",
     "text": [
      "1267it [00:00, 3112.66it/s]\n"
     ]
    },
    {
     "name": "stdout",
     "output_type": "stream",
     "text": [
      "MANF+ctrl 1\n"
     ]
    },
    {
     "name": "stderr",
     "output_type": "stream",
     "text": [
      "1267it [00:00, 3374.57it/s]\n"
     ]
    },
    {
     "name": "stdout",
     "output_type": "stream",
     "text": [
      "MRGBP+ctrl 11\n"
     ]
    },
    {
     "name": "stderr",
     "output_type": "stream",
     "text": [
      "1267it [00:00, 3296.08it/s]\n"
     ]
    },
    {
     "name": "stdout",
     "output_type": "stream",
     "text": [
      "MRPL39+ctrl 14\n"
     ]
    },
    {
     "name": "stderr",
     "output_type": "stream",
     "text": [
      "1267it [00:00, 3548.18it/s]\n"
     ]
    },
    {
     "name": "stdout",
     "output_type": "stream",
     "text": [
      "MTHFD1+ctrl 23\n"
     ]
    },
    {
     "name": "stderr",
     "output_type": "stream",
     "text": [
      "1267it [00:00, 3526.30it/s]\n"
     ]
    },
    {
     "name": "stdout",
     "output_type": "stream",
     "text": [
      "NEDD8+ctrl 0\n"
     ]
    },
    {
     "name": "stderr",
     "output_type": "stream",
     "text": [
      "1267it [00:00, 3557.32it/s]\n"
     ]
    },
    {
     "name": "stdout",
     "output_type": "stream",
     "text": [
      "OST4+ctrl 0\n"
     ]
    },
    {
     "name": "stderr",
     "output_type": "stream",
     "text": [
      "1267it [00:00, 3564.38it/s]\n"
     ]
    },
    {
     "name": "stdout",
     "output_type": "stream",
     "text": [
      "P4HB+ctrl 0\n"
     ]
    },
    {
     "name": "stderr",
     "output_type": "stream",
     "text": [
      "1267it [00:00, 3501.01it/s]\n"
     ]
    },
    {
     "name": "stdout",
     "output_type": "stream",
     "text": [
      "PDIA6+ctrl 0\n"
     ]
    },
    {
     "name": "stderr",
     "output_type": "stream",
     "text": [
      "1267it [00:00, 3437.95it/s]\n"
     ]
    },
    {
     "name": "stdout",
     "output_type": "stream",
     "text": [
      "PPWD1+ctrl 117\n"
     ]
    },
    {
     "name": "stderr",
     "output_type": "stream",
     "text": [
      "1267it [00:00, 3468.43it/s]\n"
     ]
    },
    {
     "name": "stdout",
     "output_type": "stream",
     "text": [
      "PSMD4+ctrl 15\n"
     ]
    },
    {
     "name": "stderr",
     "output_type": "stream",
     "text": [
      "1267it [00:00, 3465.43it/s]\n"
     ]
    },
    {
     "name": "stdout",
     "output_type": "stream",
     "text": [
      "PTDSS1+ctrl 12\n"
     ]
    },
    {
     "name": "stderr",
     "output_type": "stream",
     "text": [
      "1267it [00:00, 3523.72it/s]\n"
     ]
    },
    {
     "name": "stdout",
     "output_type": "stream",
     "text": [
      "SAMM50+ctrl 21\n"
     ]
    },
    {
     "name": "stderr",
     "output_type": "stream",
     "text": [
      "1267it [00:00, 3071.42it/s]\n"
     ]
    },
    {
     "name": "stdout",
     "output_type": "stream",
     "text": [
      "SCYL1+ctrl 20\n"
     ]
    },
    {
     "name": "stderr",
     "output_type": "stream",
     "text": [
      "1267it [00:00, 3081.88it/s]\n"
     ]
    },
    {
     "name": "stdout",
     "output_type": "stream",
     "text": [
      "SEC61A1+ctrl 29\n"
     ]
    },
    {
     "name": "stderr",
     "output_type": "stream",
     "text": [
      "1267it [00:00, 3140.58it/s]\n"
     ]
    },
    {
     "name": "stdout",
     "output_type": "stream",
     "text": [
      "SEC61B+ctrl 0\n"
     ]
    },
    {
     "name": "stderr",
     "output_type": "stream",
     "text": [
      "1267it [00:00, 3154.34it/s]\n"
     ]
    },
    {
     "name": "stdout",
     "output_type": "stream",
     "text": [
      "SEC61G+ctrl 0\n"
     ]
    },
    {
     "name": "stderr",
     "output_type": "stream",
     "text": [
      "1267it [00:00, 3055.08it/s]\n"
     ]
    },
    {
     "name": "stdout",
     "output_type": "stream",
     "text": [
      "SEC63+ctrl 3\n"
     ]
    },
    {
     "name": "stderr",
     "output_type": "stream",
     "text": [
      "1267it [00:00, 3252.82it/s]\n"
     ]
    },
    {
     "name": "stdout",
     "output_type": "stream",
     "text": [
      "SEL1L+ctrl 123\n"
     ]
    },
    {
     "name": "stderr",
     "output_type": "stream",
     "text": [
      "1267it [00:00, 3189.98it/s]\n"
     ]
    },
    {
     "name": "stdout",
     "output_type": "stream",
     "text": [
      "SLC35B1+ctrl 3\n"
     ]
    },
    {
     "name": "stderr",
     "output_type": "stream",
     "text": [
      "1267it [00:00, 3238.86it/s]\n"
     ]
    },
    {
     "name": "stdout",
     "output_type": "stream",
     "text": [
      "SLC39A7+ctrl 21\n"
     ]
    },
    {
     "name": "stderr",
     "output_type": "stream",
     "text": [
      "1267it [00:00, 3059.30it/s]\n"
     ]
    },
    {
     "name": "stdout",
     "output_type": "stream",
     "text": [
      "SOCS1+ctrl 524\n"
     ]
    },
    {
     "name": "stderr",
     "output_type": "stream",
     "text": [
      "1267it [00:00, 3134.94it/s]\n"
     ]
    },
    {
     "name": "stdout",
     "output_type": "stream",
     "text": [
      "SPCS2+ctrl 0\n"
     ]
    },
    {
     "name": "stderr",
     "output_type": "stream",
     "text": [
      "1267it [00:00, 2949.38it/s]\n"
     ]
    },
    {
     "name": "stdout",
     "output_type": "stream",
     "text": [
      "SPCS3+ctrl 12\n"
     ]
    },
    {
     "name": "stderr",
     "output_type": "stream",
     "text": [
      "1267it [00:00, 2993.49it/s]\n"
     ]
    },
    {
     "name": "stdout",
     "output_type": "stream",
     "text": [
      "SRP68+ctrl 33\n"
     ]
    },
    {
     "name": "stderr",
     "output_type": "stream",
     "text": [
      "1267it [00:00, 3240.84it/s]\n"
     ]
    },
    {
     "name": "stdout",
     "output_type": "stream",
     "text": [
      "SRP72+ctrl 0\n"
     ]
    },
    {
     "name": "stderr",
     "output_type": "stream",
     "text": [
      "1267it [00:00, 3079.29it/s]\n"
     ]
    },
    {
     "name": "stdout",
     "output_type": "stream",
     "text": [
      "SRPRB+ctrl 20\n"
     ]
    },
    {
     "name": "stderr",
     "output_type": "stream",
     "text": [
      "1267it [00:00, 3059.49it/s]\n"
     ]
    },
    {
     "name": "stdout",
     "output_type": "stream",
     "text": [
      "STT3A+ctrl 126\n"
     ]
    },
    {
     "name": "stderr",
     "output_type": "stream",
     "text": [
      "1267it [00:00, 3214.77it/s]\n"
     ]
    },
    {
     "name": "stdout",
     "output_type": "stream",
     "text": [
      "SYVN1+ctrl 16\n"
     ]
    },
    {
     "name": "stderr",
     "output_type": "stream",
     "text": [
      "1267it [00:00, 3211.28it/s]\n"
     ]
    },
    {
     "name": "stdout",
     "output_type": "stream",
     "text": [
      "TELO2+ctrl 23\n"
     ]
    },
    {
     "name": "stderr",
     "output_type": "stream",
     "text": [
      "1267it [00:00, 3262.33it/s]\n"
     ]
    },
    {
     "name": "stdout",
     "output_type": "stream",
     "text": [
      "TIMM23+ctrl 54\n"
     ]
    },
    {
     "name": "stderr",
     "output_type": "stream",
     "text": [
      "1267it [00:00, 3237.70it/s]\n"
     ]
    },
    {
     "name": "stdout",
     "output_type": "stream",
     "text": [
      "TIMM44+ctrl 231\n"
     ]
    },
    {
     "name": "stderr",
     "output_type": "stream",
     "text": [
      "1267it [00:00, 3284.95it/s]\n"
     ]
    },
    {
     "name": "stdout",
     "output_type": "stream",
     "text": [
      "TMED2+ctrl 0\n"
     ]
    },
    {
     "name": "stderr",
     "output_type": "stream",
     "text": [
      "1267it [00:00, 3264.16it/s]\n"
     ]
    },
    {
     "name": "stdout",
     "output_type": "stream",
     "text": [
      "TMED10+ctrl 5\n"
     ]
    },
    {
     "name": "stderr",
     "output_type": "stream",
     "text": [
      "1267it [00:00, 3235.17it/s]\n"
     ]
    },
    {
     "name": "stdout",
     "output_type": "stream",
     "text": [
      "TMEM167A+ctrl 5\n"
     ]
    },
    {
     "name": "stderr",
     "output_type": "stream",
     "text": [
      "1267it [00:00, 2877.34it/s]\n"
     ]
    },
    {
     "name": "stdout",
     "output_type": "stream",
     "text": [
      "TTI1+ctrl 42\n"
     ]
    },
    {
     "name": "stderr",
     "output_type": "stream",
     "text": [
      "1267it [00:00, 3606.40it/s]\n"
     ]
    },
    {
     "name": "stdout",
     "output_type": "stream",
     "text": [
      "TTI2+ctrl 77\n"
     ]
    },
    {
     "name": "stderr",
     "output_type": "stream",
     "text": [
      "1267it [00:00, 3339.84it/s]\n"
     ]
    },
    {
     "name": "stdout",
     "output_type": "stream",
     "text": [
      "UFL1+ctrl 39\n"
     ]
    },
    {
     "name": "stderr",
     "output_type": "stream",
     "text": [
      "1267it [00:00, 3484.94it/s]\n"
     ]
    },
    {
     "name": "stdout",
     "output_type": "stream",
     "text": [
      "UFM1+ctrl 2\n"
     ]
    },
    {
     "name": "stderr",
     "output_type": "stream",
     "text": [
      "1267it [00:00, 3393.67it/s]\n"
     ]
    },
    {
     "name": "stdout",
     "output_type": "stream",
     "text": [
      "XRN1+ctrl 206\n"
     ]
    },
    {
     "name": "stderr",
     "output_type": "stream",
     "text": [
      "1267it [00:00, 2879.57it/s]\n"
     ]
    },
    {
     "name": "stdout",
     "output_type": "stream",
     "text": [
      "YIPF5+ctrl 55\n"
     ]
    },
    {
     "name": "stderr",
     "output_type": "stream",
     "text": [
      "1267it [00:00, 3535.77it/s]"
     ]
    },
    {
     "name": "stdout",
     "output_type": "stream",
     "text": [
      "ZNF326+ctrl 434\n"
     ]
    },
    {
     "name": "stderr",
     "output_type": "stream",
     "text": [
      "\n"
     ]
    }
   ],
   "source": [
    "for c in perturb_conditions:\n",
    "    celltype_0 = c\n",
    "    celltype_1 = 'ctrl'\n",
    "    gene_emb_celltype_0 = np.expand_dims(dict_sum_condition_mean[celltype_0][1:, :], 0)\n",
    "    gene_emb_celltype_1 = np.expand_dims(dict_sum_condition_mean[celltype_1][1:, :], 0)\n",
    "    gene_dist_dict = {}\n",
    "    for i, g in tqdm(enumerate(genes)):\n",
    "        gene_dist_dict[g] = cosine_distances(gene_emb_celltype_0[:, i, :], gene_emb_celltype_1[:, i, :]).mean()\n",
    "    df_gene_emb_dist = pd.DataFrame.from_dict(gene_dist_dict, orient='index', columns=['cos_dist'])\n",
    "    df_deg = df_gene_emb_dist.sort_values(by='cos_dist', ascending=False)\n",
    "    print(c, np.where(df_deg.index==c.split('+')[0])[0][0])\n",
    "    rank_list.append(np.where(df_deg.index==c.split('+')[0])[0][0])"
   ]
  },
  {
   "cell_type": "code",
   "execution_count": 46,
   "id": "7fed0467",
   "metadata": {},
   "outputs": [
    {
     "data": {
      "text/html": [
       "<div>\n",
       "<style scoped>\n",
       "    .dataframe tbody tr th:only-of-type {\n",
       "        vertical-align: middle;\n",
       "    }\n",
       "\n",
       "    .dataframe tbody tr th {\n",
       "        vertical-align: top;\n",
       "    }\n",
       "\n",
       "    .dataframe thead th {\n",
       "        text-align: right;\n",
       "    }\n",
       "</style>\n",
       "<table border=\"1\" class=\"dataframe\">\n",
       "  <thead>\n",
       "    <tr style=\"text-align: right;\">\n",
       "      <th></th>\n",
       "      <th>conditions</th>\n",
       "      <th>wilcoxon</th>\n",
       "      <th>scGPT_rank (attn)</th>\n",
       "      <th>scGPT_rank (gene emb)</th>\n",
       "      <th>scGPT_rank (attn, mean)</th>\n",
       "      <th>scGPT_rank (gene emb, mean)</th>\n",
       "      <th>wilcoxon (random)</th>\n",
       "      <th>scGPT_rank (attn, random)</th>\n",
       "      <th>scGPT_rank (gene emb, random)</th>\n",
       "      <th>scGPT_rank (attn, random, null)</th>\n",
       "      <th>scGPT_rank (gene emb, random, null)</th>\n",
       "      <th>scGPT_rank (attn, null, targets)</th>\n",
       "      <th>scGPT_rank (attn, null, non-targets)</th>\n",
       "      <th>scGPT_rank (gene emb, null, targets)</th>\n",
       "      <th>scGPT_rank (gene emb, null, non-targets)</th>\n",
       "      <th>scGPT_rank (masked gene emb)</th>\n",
       "      <th>scGPT_rank (masked gene emb, null)</th>\n",
       "    </tr>\n",
       "  </thead>\n",
       "  <tbody>\n",
       "    <tr>\n",
       "      <th>0</th>\n",
       "      <td>AMIGO3+ctrl</td>\n",
       "      <td>1098</td>\n",
       "      <td>569</td>\n",
       "      <td>409</td>\n",
       "      <td>569</td>\n",
       "      <td>409</td>\n",
       "      <td>1098</td>\n",
       "      <td>569</td>\n",
       "      <td>409</td>\n",
       "      <td>1</td>\n",
       "      <td>1</td>\n",
       "      <td>586</td>\n",
       "      <td>497</td>\n",
       "      <td>1125</td>\n",
       "      <td>234</td>\n",
       "      <td>413</td>\n",
       "      <td>306</td>\n",
       "    </tr>\n",
       "    <tr>\n",
       "      <th>1</th>\n",
       "      <td>ARHGAP22+ctrl</td>\n",
       "      <td>318</td>\n",
       "      <td>175</td>\n",
       "      <td>126</td>\n",
       "      <td>0</td>\n",
       "      <td>0</td>\n",
       "      <td>837</td>\n",
       "      <td>0</td>\n",
       "      <td>0</td>\n",
       "      <td>5</td>\n",
       "      <td>3</td>\n",
       "      <td>565</td>\n",
       "      <td>69</td>\n",
       "      <td>1130</td>\n",
       "      <td>93</td>\n",
       "      <td>571</td>\n",
       "      <td>333</td>\n",
       "    </tr>\n",
       "    <tr>\n",
       "      <th>2</th>\n",
       "      <td>ASCC3+ctrl</td>\n",
       "      <td>36</td>\n",
       "      <td>15</td>\n",
       "      <td>48</td>\n",
       "      <td>0</td>\n",
       "      <td>0</td>\n",
       "      <td>834</td>\n",
       "      <td>5</td>\n",
       "      <td>7</td>\n",
       "      <td>14</td>\n",
       "      <td>2</td>\n",
       "      <td>248</td>\n",
       "      <td>651</td>\n",
       "      <td>1194</td>\n",
       "      <td>608</td>\n",
       "      <td>546</td>\n",
       "      <td>1215</td>\n",
       "    </tr>\n",
       "    <tr>\n",
       "      <th>3</th>\n",
       "      <td>BHLHE40+ctrl</td>\n",
       "      <td>3</td>\n",
       "      <td>584</td>\n",
       "      <td>558</td>\n",
       "      <td>0</td>\n",
       "      <td>0</td>\n",
       "      <td>1075</td>\n",
       "      <td>25</td>\n",
       "      <td>1</td>\n",
       "      <td>91</td>\n",
       "      <td>211</td>\n",
       "      <td>56</td>\n",
       "      <td>867</td>\n",
       "      <td>836</td>\n",
       "      <td>1114</td>\n",
       "      <td>663</td>\n",
       "      <td>708</td>\n",
       "    </tr>\n",
       "    <tr>\n",
       "      <th>4</th>\n",
       "      <td>CAD+ctrl</td>\n",
       "      <td>93</td>\n",
       "      <td>257</td>\n",
       "      <td>557</td>\n",
       "      <td>0</td>\n",
       "      <td>0</td>\n",
       "      <td>1257</td>\n",
       "      <td>59</td>\n",
       "      <td>28</td>\n",
       "      <td>58</td>\n",
       "      <td>58</td>\n",
       "      <td>819</td>\n",
       "      <td>1194</td>\n",
       "      <td>1222</td>\n",
       "      <td>1247</td>\n",
       "      <td>1097</td>\n",
       "      <td>780</td>\n",
       "    </tr>\n",
       "    <tr>\n",
       "      <th>...</th>\n",
       "      <td>...</td>\n",
       "      <td>...</td>\n",
       "      <td>...</td>\n",
       "      <td>...</td>\n",
       "      <td>...</td>\n",
       "      <td>...</td>\n",
       "      <td>...</td>\n",
       "      <td>...</td>\n",
       "      <td>...</td>\n",
       "      <td>...</td>\n",
       "      <td>...</td>\n",
       "      <td>...</td>\n",
       "      <td>...</td>\n",
       "      <td>...</td>\n",
       "      <td>...</td>\n",
       "      <td>...</td>\n",
       "      <td>...</td>\n",
       "    </tr>\n",
       "    <tr>\n",
       "      <th>70</th>\n",
       "      <td>UFL1+ctrl</td>\n",
       "      <td>19</td>\n",
       "      <td>3</td>\n",
       "      <td>39</td>\n",
       "      <td>0</td>\n",
       "      <td>0</td>\n",
       "      <td>962</td>\n",
       "      <td>6</td>\n",
       "      <td>5</td>\n",
       "      <td>369</td>\n",
       "      <td>53</td>\n",
       "      <td>1012</td>\n",
       "      <td>287</td>\n",
       "      <td>1188</td>\n",
       "      <td>809</td>\n",
       "      <td>417</td>\n",
       "      <td>634</td>\n",
       "    </tr>\n",
       "    <tr>\n",
       "      <th>71</th>\n",
       "      <td>UFM1+ctrl</td>\n",
       "      <td>0</td>\n",
       "      <td>4</td>\n",
       "      <td>2</td>\n",
       "      <td>0</td>\n",
       "      <td>0</td>\n",
       "      <td>612</td>\n",
       "      <td>21</td>\n",
       "      <td>1</td>\n",
       "      <td>4</td>\n",
       "      <td>1</td>\n",
       "      <td>743</td>\n",
       "      <td>405</td>\n",
       "      <td>786</td>\n",
       "      <td>283</td>\n",
       "      <td>111</td>\n",
       "      <td>522</td>\n",
       "    </tr>\n",
       "    <tr>\n",
       "      <th>72</th>\n",
       "      <td>XRN1+ctrl</td>\n",
       "      <td>216</td>\n",
       "      <td>163</td>\n",
       "      <td>206</td>\n",
       "      <td>0</td>\n",
       "      <td>0</td>\n",
       "      <td>789</td>\n",
       "      <td>71</td>\n",
       "      <td>127</td>\n",
       "      <td>6</td>\n",
       "      <td>2</td>\n",
       "      <td>832</td>\n",
       "      <td>59</td>\n",
       "      <td>858</td>\n",
       "      <td>9</td>\n",
       "      <td>1028</td>\n",
       "      <td>431</td>\n",
       "    </tr>\n",
       "    <tr>\n",
       "      <th>73</th>\n",
       "      <td>YIPF5+ctrl</td>\n",
       "      <td>11</td>\n",
       "      <td>16</td>\n",
       "      <td>55</td>\n",
       "      <td>0</td>\n",
       "      <td>0</td>\n",
       "      <td>1061</td>\n",
       "      <td>12</td>\n",
       "      <td>3</td>\n",
       "      <td>0</td>\n",
       "      <td>0</td>\n",
       "      <td>319</td>\n",
       "      <td>477</td>\n",
       "      <td>733</td>\n",
       "      <td>240</td>\n",
       "      <td>1223</td>\n",
       "      <td>246</td>\n",
       "    </tr>\n",
       "    <tr>\n",
       "      <th>74</th>\n",
       "      <td>ZNF326+ctrl</td>\n",
       "      <td>0</td>\n",
       "      <td>218</td>\n",
       "      <td>434</td>\n",
       "      <td>0</td>\n",
       "      <td>0</td>\n",
       "      <td>882</td>\n",
       "      <td>20</td>\n",
       "      <td>0</td>\n",
       "      <td>33</td>\n",
       "      <td>0</td>\n",
       "      <td>487</td>\n",
       "      <td>989</td>\n",
       "      <td>518</td>\n",
       "      <td>1197</td>\n",
       "      <td>928</td>\n",
       "      <td>1218</td>\n",
       "    </tr>\n",
       "  </tbody>\n",
       "</table>\n",
       "<p>75 rows × 17 columns</p>\n",
       "</div>"
      ],
      "text/plain": [
       "       conditions  wilcoxon  scGPT_rank (attn)  scGPT_rank (gene emb)  \\\n",
       "0     AMIGO3+ctrl      1098                569                    409   \n",
       "1   ARHGAP22+ctrl       318                175                    126   \n",
       "2      ASCC3+ctrl        36                 15                     48   \n",
       "3    BHLHE40+ctrl         3                584                    558   \n",
       "4        CAD+ctrl        93                257                    557   \n",
       "..            ...       ...                ...                    ...   \n",
       "70      UFL1+ctrl        19                  3                     39   \n",
       "71      UFM1+ctrl         0                  4                      2   \n",
       "72      XRN1+ctrl       216                163                    206   \n",
       "73     YIPF5+ctrl        11                 16                     55   \n",
       "74    ZNF326+ctrl         0                218                    434   \n",
       "\n",
       "    scGPT_rank (attn, mean)  scGPT_rank (gene emb, mean)  wilcoxon (random)  \\\n",
       "0                       569                          409               1098   \n",
       "1                         0                            0                837   \n",
       "2                         0                            0                834   \n",
       "3                         0                            0               1075   \n",
       "4                         0                            0               1257   \n",
       "..                      ...                          ...                ...   \n",
       "70                        0                            0                962   \n",
       "71                        0                            0                612   \n",
       "72                        0                            0                789   \n",
       "73                        0                            0               1061   \n",
       "74                        0                            0                882   \n",
       "\n",
       "    scGPT_rank (attn, random)  scGPT_rank (gene emb, random)  \\\n",
       "0                         569                            409   \n",
       "1                           0                              0   \n",
       "2                           5                              7   \n",
       "3                          25                              1   \n",
       "4                          59                             28   \n",
       "..                        ...                            ...   \n",
       "70                          6                              5   \n",
       "71                         21                              1   \n",
       "72                         71                            127   \n",
       "73                         12                              3   \n",
       "74                         20                              0   \n",
       "\n",
       "    scGPT_rank (attn, random, null)  scGPT_rank (gene emb, random, null)  \\\n",
       "0                                 1                                    1   \n",
       "1                                 5                                    3   \n",
       "2                                14                                    2   \n",
       "3                                91                                  211   \n",
       "4                                58                                   58   \n",
       "..                              ...                                  ...   \n",
       "70                              369                                   53   \n",
       "71                                4                                    1   \n",
       "72                                6                                    2   \n",
       "73                                0                                    0   \n",
       "74                               33                                    0   \n",
       "\n",
       "    scGPT_rank (attn, null, targets)  scGPT_rank (attn, null, non-targets)  \\\n",
       "0                                586                                   497   \n",
       "1                                565                                    69   \n",
       "2                                248                                   651   \n",
       "3                                 56                                   867   \n",
       "4                                819                                  1194   \n",
       "..                               ...                                   ...   \n",
       "70                              1012                                   287   \n",
       "71                               743                                   405   \n",
       "72                               832                                    59   \n",
       "73                               319                                   477   \n",
       "74                               487                                   989   \n",
       "\n",
       "    scGPT_rank (gene emb, null, targets)  \\\n",
       "0                                   1125   \n",
       "1                                   1130   \n",
       "2                                   1194   \n",
       "3                                    836   \n",
       "4                                   1222   \n",
       "..                                   ...   \n",
       "70                                  1188   \n",
       "71                                   786   \n",
       "72                                   858   \n",
       "73                                   733   \n",
       "74                                   518   \n",
       "\n",
       "    scGPT_rank (gene emb, null, non-targets)  scGPT_rank (masked gene emb)  \\\n",
       "0                                        234                           413   \n",
       "1                                         93                           571   \n",
       "2                                        608                           546   \n",
       "3                                       1114                           663   \n",
       "4                                       1247                          1097   \n",
       "..                                       ...                           ...   \n",
       "70                                       809                           417   \n",
       "71                                       283                           111   \n",
       "72                                         9                          1028   \n",
       "73                                       240                          1223   \n",
       "74                                      1197                           928   \n",
       "\n",
       "    scGPT_rank (masked gene emb, null)  \n",
       "0                                  306  \n",
       "1                                  333  \n",
       "2                                 1215  \n",
       "3                                  708  \n",
       "4                                  780  \n",
       "..                                 ...  \n",
       "70                                 634  \n",
       "71                                 522  \n",
       "72                                 431  \n",
       "73                                 246  \n",
       "74                                1218  \n",
       "\n",
       "[75 rows x 17 columns]"
      ]
     },
     "execution_count": 46,
     "metadata": {},
     "output_type": "execute_result"
    }
   ],
   "source": [
    "df_results = pd.read_csv('./vevo_adamson_ranks_Jan17.csv', index_col=0)\n",
    "df_results"
   ]
  },
  {
   "cell_type": "code",
   "execution_count": 47,
   "id": "bcfd9e8e",
   "metadata": {},
   "outputs": [],
   "source": [
    "df_results['scGPT_rank (gene emb) demo'] = rank_list"
   ]
  },
  {
   "cell_type": "code",
   "execution_count": 48,
   "id": "a3ed6a1c",
   "metadata": {},
   "outputs": [
    {
     "data": {
      "text/html": [
       "<div>\n",
       "<style scoped>\n",
       "    .dataframe tbody tr th:only-of-type {\n",
       "        vertical-align: middle;\n",
       "    }\n",
       "\n",
       "    .dataframe tbody tr th {\n",
       "        vertical-align: top;\n",
       "    }\n",
       "\n",
       "    .dataframe thead th {\n",
       "        text-align: right;\n",
       "    }\n",
       "</style>\n",
       "<table border=\"1\" class=\"dataframe\">\n",
       "  <thead>\n",
       "    <tr style=\"text-align: right;\">\n",
       "      <th></th>\n",
       "      <th>conditions</th>\n",
       "      <th>wilcoxon</th>\n",
       "      <th>scGPT_rank (attn)</th>\n",
       "      <th>scGPT_rank (gene emb)</th>\n",
       "      <th>scGPT_rank (attn, mean)</th>\n",
       "      <th>scGPT_rank (gene emb, mean)</th>\n",
       "      <th>wilcoxon (random)</th>\n",
       "      <th>scGPT_rank (attn, random)</th>\n",
       "      <th>scGPT_rank (gene emb, random)</th>\n",
       "      <th>scGPT_rank (attn, random, null)</th>\n",
       "      <th>scGPT_rank (gene emb, random, null)</th>\n",
       "      <th>scGPT_rank (attn, null, targets)</th>\n",
       "      <th>scGPT_rank (attn, null, non-targets)</th>\n",
       "      <th>scGPT_rank (gene emb, null, targets)</th>\n",
       "      <th>scGPT_rank (gene emb, null, non-targets)</th>\n",
       "      <th>scGPT_rank (masked gene emb)</th>\n",
       "      <th>scGPT_rank (masked gene emb, null)</th>\n",
       "      <th>scGPT_rank (gene emb) demo</th>\n",
       "    </tr>\n",
       "  </thead>\n",
       "  <tbody>\n",
       "    <tr>\n",
       "      <th>0</th>\n",
       "      <td>AMIGO3+ctrl</td>\n",
       "      <td>1098</td>\n",
       "      <td>569</td>\n",
       "      <td>409</td>\n",
       "      <td>569</td>\n",
       "      <td>409</td>\n",
       "      <td>1098</td>\n",
       "      <td>569</td>\n",
       "      <td>409</td>\n",
       "      <td>1</td>\n",
       "      <td>1</td>\n",
       "      <td>586</td>\n",
       "      <td>497</td>\n",
       "      <td>1125</td>\n",
       "      <td>234</td>\n",
       "      <td>413</td>\n",
       "      <td>306</td>\n",
       "      <td>409</td>\n",
       "    </tr>\n",
       "    <tr>\n",
       "      <th>1</th>\n",
       "      <td>ARHGAP22+ctrl</td>\n",
       "      <td>318</td>\n",
       "      <td>175</td>\n",
       "      <td>126</td>\n",
       "      <td>0</td>\n",
       "      <td>0</td>\n",
       "      <td>837</td>\n",
       "      <td>0</td>\n",
       "      <td>0</td>\n",
       "      <td>5</td>\n",
       "      <td>3</td>\n",
       "      <td>565</td>\n",
       "      <td>69</td>\n",
       "      <td>1130</td>\n",
       "      <td>93</td>\n",
       "      <td>571</td>\n",
       "      <td>333</td>\n",
       "      <td>126</td>\n",
       "    </tr>\n",
       "    <tr>\n",
       "      <th>2</th>\n",
       "      <td>ASCC3+ctrl</td>\n",
       "      <td>36</td>\n",
       "      <td>15</td>\n",
       "      <td>48</td>\n",
       "      <td>0</td>\n",
       "      <td>0</td>\n",
       "      <td>834</td>\n",
       "      <td>5</td>\n",
       "      <td>7</td>\n",
       "      <td>14</td>\n",
       "      <td>2</td>\n",
       "      <td>248</td>\n",
       "      <td>651</td>\n",
       "      <td>1194</td>\n",
       "      <td>608</td>\n",
       "      <td>546</td>\n",
       "      <td>1215</td>\n",
       "      <td>48</td>\n",
       "    </tr>\n",
       "    <tr>\n",
       "      <th>3</th>\n",
       "      <td>BHLHE40+ctrl</td>\n",
       "      <td>3</td>\n",
       "      <td>584</td>\n",
       "      <td>558</td>\n",
       "      <td>0</td>\n",
       "      <td>0</td>\n",
       "      <td>1075</td>\n",
       "      <td>25</td>\n",
       "      <td>1</td>\n",
       "      <td>91</td>\n",
       "      <td>211</td>\n",
       "      <td>56</td>\n",
       "      <td>867</td>\n",
       "      <td>836</td>\n",
       "      <td>1114</td>\n",
       "      <td>663</td>\n",
       "      <td>708</td>\n",
       "      <td>558</td>\n",
       "    </tr>\n",
       "    <tr>\n",
       "      <th>4</th>\n",
       "      <td>CAD+ctrl</td>\n",
       "      <td>93</td>\n",
       "      <td>257</td>\n",
       "      <td>557</td>\n",
       "      <td>0</td>\n",
       "      <td>0</td>\n",
       "      <td>1257</td>\n",
       "      <td>59</td>\n",
       "      <td>28</td>\n",
       "      <td>58</td>\n",
       "      <td>58</td>\n",
       "      <td>819</td>\n",
       "      <td>1194</td>\n",
       "      <td>1222</td>\n",
       "      <td>1247</td>\n",
       "      <td>1097</td>\n",
       "      <td>780</td>\n",
       "      <td>557</td>\n",
       "    </tr>\n",
       "    <tr>\n",
       "      <th>...</th>\n",
       "      <td>...</td>\n",
       "      <td>...</td>\n",
       "      <td>...</td>\n",
       "      <td>...</td>\n",
       "      <td>...</td>\n",
       "      <td>...</td>\n",
       "      <td>...</td>\n",
       "      <td>...</td>\n",
       "      <td>...</td>\n",
       "      <td>...</td>\n",
       "      <td>...</td>\n",
       "      <td>...</td>\n",
       "      <td>...</td>\n",
       "      <td>...</td>\n",
       "      <td>...</td>\n",
       "      <td>...</td>\n",
       "      <td>...</td>\n",
       "      <td>...</td>\n",
       "    </tr>\n",
       "    <tr>\n",
       "      <th>70</th>\n",
       "      <td>UFL1+ctrl</td>\n",
       "      <td>19</td>\n",
       "      <td>3</td>\n",
       "      <td>39</td>\n",
       "      <td>0</td>\n",
       "      <td>0</td>\n",
       "      <td>962</td>\n",
       "      <td>6</td>\n",
       "      <td>5</td>\n",
       "      <td>369</td>\n",
       "      <td>53</td>\n",
       "      <td>1012</td>\n",
       "      <td>287</td>\n",
       "      <td>1188</td>\n",
       "      <td>809</td>\n",
       "      <td>417</td>\n",
       "      <td>634</td>\n",
       "      <td>39</td>\n",
       "    </tr>\n",
       "    <tr>\n",
       "      <th>71</th>\n",
       "      <td>UFM1+ctrl</td>\n",
       "      <td>0</td>\n",
       "      <td>4</td>\n",
       "      <td>2</td>\n",
       "      <td>0</td>\n",
       "      <td>0</td>\n",
       "      <td>612</td>\n",
       "      <td>21</td>\n",
       "      <td>1</td>\n",
       "      <td>4</td>\n",
       "      <td>1</td>\n",
       "      <td>743</td>\n",
       "      <td>405</td>\n",
       "      <td>786</td>\n",
       "      <td>283</td>\n",
       "      <td>111</td>\n",
       "      <td>522</td>\n",
       "      <td>2</td>\n",
       "    </tr>\n",
       "    <tr>\n",
       "      <th>72</th>\n",
       "      <td>XRN1+ctrl</td>\n",
       "      <td>216</td>\n",
       "      <td>163</td>\n",
       "      <td>206</td>\n",
       "      <td>0</td>\n",
       "      <td>0</td>\n",
       "      <td>789</td>\n",
       "      <td>71</td>\n",
       "      <td>127</td>\n",
       "      <td>6</td>\n",
       "      <td>2</td>\n",
       "      <td>832</td>\n",
       "      <td>59</td>\n",
       "      <td>858</td>\n",
       "      <td>9</td>\n",
       "      <td>1028</td>\n",
       "      <td>431</td>\n",
       "      <td>206</td>\n",
       "    </tr>\n",
       "    <tr>\n",
       "      <th>73</th>\n",
       "      <td>YIPF5+ctrl</td>\n",
       "      <td>11</td>\n",
       "      <td>16</td>\n",
       "      <td>55</td>\n",
       "      <td>0</td>\n",
       "      <td>0</td>\n",
       "      <td>1061</td>\n",
       "      <td>12</td>\n",
       "      <td>3</td>\n",
       "      <td>0</td>\n",
       "      <td>0</td>\n",
       "      <td>319</td>\n",
       "      <td>477</td>\n",
       "      <td>733</td>\n",
       "      <td>240</td>\n",
       "      <td>1223</td>\n",
       "      <td>246</td>\n",
       "      <td>55</td>\n",
       "    </tr>\n",
       "    <tr>\n",
       "      <th>74</th>\n",
       "      <td>ZNF326+ctrl</td>\n",
       "      <td>0</td>\n",
       "      <td>218</td>\n",
       "      <td>434</td>\n",
       "      <td>0</td>\n",
       "      <td>0</td>\n",
       "      <td>882</td>\n",
       "      <td>20</td>\n",
       "      <td>0</td>\n",
       "      <td>33</td>\n",
       "      <td>0</td>\n",
       "      <td>487</td>\n",
       "      <td>989</td>\n",
       "      <td>518</td>\n",
       "      <td>1197</td>\n",
       "      <td>928</td>\n",
       "      <td>1218</td>\n",
       "      <td>434</td>\n",
       "    </tr>\n",
       "  </tbody>\n",
       "</table>\n",
       "<p>75 rows × 18 columns</p>\n",
       "</div>"
      ],
      "text/plain": [
       "       conditions  wilcoxon  scGPT_rank (attn)  scGPT_rank (gene emb)  \\\n",
       "0     AMIGO3+ctrl      1098                569                    409   \n",
       "1   ARHGAP22+ctrl       318                175                    126   \n",
       "2      ASCC3+ctrl        36                 15                     48   \n",
       "3    BHLHE40+ctrl         3                584                    558   \n",
       "4        CAD+ctrl        93                257                    557   \n",
       "..            ...       ...                ...                    ...   \n",
       "70      UFL1+ctrl        19                  3                     39   \n",
       "71      UFM1+ctrl         0                  4                      2   \n",
       "72      XRN1+ctrl       216                163                    206   \n",
       "73     YIPF5+ctrl        11                 16                     55   \n",
       "74    ZNF326+ctrl         0                218                    434   \n",
       "\n",
       "    scGPT_rank (attn, mean)  scGPT_rank (gene emb, mean)  wilcoxon (random)  \\\n",
       "0                       569                          409               1098   \n",
       "1                         0                            0                837   \n",
       "2                         0                            0                834   \n",
       "3                         0                            0               1075   \n",
       "4                         0                            0               1257   \n",
       "..                      ...                          ...                ...   \n",
       "70                        0                            0                962   \n",
       "71                        0                            0                612   \n",
       "72                        0                            0                789   \n",
       "73                        0                            0               1061   \n",
       "74                        0                            0                882   \n",
       "\n",
       "    scGPT_rank (attn, random)  scGPT_rank (gene emb, random)  \\\n",
       "0                         569                            409   \n",
       "1                           0                              0   \n",
       "2                           5                              7   \n",
       "3                          25                              1   \n",
       "4                          59                             28   \n",
       "..                        ...                            ...   \n",
       "70                          6                              5   \n",
       "71                         21                              1   \n",
       "72                         71                            127   \n",
       "73                         12                              3   \n",
       "74                         20                              0   \n",
       "\n",
       "    scGPT_rank (attn, random, null)  scGPT_rank (gene emb, random, null)  \\\n",
       "0                                 1                                    1   \n",
       "1                                 5                                    3   \n",
       "2                                14                                    2   \n",
       "3                                91                                  211   \n",
       "4                                58                                   58   \n",
       "..                              ...                                  ...   \n",
       "70                              369                                   53   \n",
       "71                                4                                    1   \n",
       "72                                6                                    2   \n",
       "73                                0                                    0   \n",
       "74                               33                                    0   \n",
       "\n",
       "    scGPT_rank (attn, null, targets)  scGPT_rank (attn, null, non-targets)  \\\n",
       "0                                586                                   497   \n",
       "1                                565                                    69   \n",
       "2                                248                                   651   \n",
       "3                                 56                                   867   \n",
       "4                                819                                  1194   \n",
       "..                               ...                                   ...   \n",
       "70                              1012                                   287   \n",
       "71                               743                                   405   \n",
       "72                               832                                    59   \n",
       "73                               319                                   477   \n",
       "74                               487                                   989   \n",
       "\n",
       "    scGPT_rank (gene emb, null, targets)  \\\n",
       "0                                   1125   \n",
       "1                                   1130   \n",
       "2                                   1194   \n",
       "3                                    836   \n",
       "4                                   1222   \n",
       "..                                   ...   \n",
       "70                                  1188   \n",
       "71                                   786   \n",
       "72                                   858   \n",
       "73                                   733   \n",
       "74                                   518   \n",
       "\n",
       "    scGPT_rank (gene emb, null, non-targets)  scGPT_rank (masked gene emb)  \\\n",
       "0                                        234                           413   \n",
       "1                                         93                           571   \n",
       "2                                        608                           546   \n",
       "3                                       1114                           663   \n",
       "4                                       1247                          1097   \n",
       "..                                       ...                           ...   \n",
       "70                                       809                           417   \n",
       "71                                       283                           111   \n",
       "72                                         9                          1028   \n",
       "73                                       240                          1223   \n",
       "74                                      1197                           928   \n",
       "\n",
       "    scGPT_rank (masked gene emb, null)  scGPT_rank (gene emb) demo  \n",
       "0                                  306                         409  \n",
       "1                                  333                         126  \n",
       "2                                 1215                          48  \n",
       "3                                  708                         558  \n",
       "4                                  780                         557  \n",
       "..                                 ...                         ...  \n",
       "70                                 634                          39  \n",
       "71                                 522                           2  \n",
       "72                                 431                         206  \n",
       "73                                 246                          55  \n",
       "74                                1218                         434  \n",
       "\n",
       "[75 rows x 18 columns]"
      ]
     },
     "execution_count": 48,
     "metadata": {},
     "output_type": "execute_result"
    }
   ],
   "source": [
    "df_results"
   ]
  },
  {
   "cell_type": "code",
   "execution_count": 49,
   "id": "30f2067a",
   "metadata": {},
   "outputs": [
    {
     "data": {
      "text/plain": [
       "wilcoxon                                     69.920000\n",
       "scGPT_rank (attn)                            83.160000\n",
       "scGPT_rank (gene emb)                       110.320000\n",
       "scGPT_rank (attn, mean)                      70.506667\n",
       "scGPT_rank (gene emb, mean)                  68.320000\n",
       "wilcoxon (random)                           848.866667\n",
       "scGPT_rank (attn, random)                   122.093333\n",
       "scGPT_rank (gene emb, random)                83.560000\n",
       "scGPT_rank (attn, random, null)             151.720000\n",
       "scGPT_rank (gene emb, random, null)         102.866667\n",
       "scGPT_rank (attn, null, targets)            594.253333\n",
       "scGPT_rank (attn, null, non-targets)        649.573333\n",
       "scGPT_rank (gene emb, null, targets)        712.880000\n",
       "scGPT_rank (gene emb, null, non-targets)    559.960000\n",
       "scGPT_rank (masked gene emb)                747.000000\n",
       "scGPT_rank (masked gene emb, null)          640.973333\n",
       "scGPT_rank (gene emb) demo                  110.320000\n",
       "dtype: float64"
      ]
     },
     "execution_count": 49,
     "metadata": {},
     "output_type": "execute_result"
    }
   ],
   "source": [
    "df_results.mean()"
   ]
  },
  {
   "cell_type": "code",
   "execution_count": 64,
   "id": "6ab0a045",
   "metadata": {},
   "outputs": [],
   "source": [
    "#df_results.to_csv('/fs01/home/chloexq/scGPT-release/tutorials/vevo_adamson_ranks_Nov28.csv')"
   ]
  },
  {
   "cell_type": "markdown",
   "id": "28c10489",
   "metadata": {},
   "source": [
    "#### 🔵 Optional\n",
    "For control experiment, run the following block using `condition_names_gene_match`\n",
    "Logic is that in each perturbed cell, check the rank of another gene"
   ]
  },
  {
   "cell_type": "code",
   "execution_count": null,
   "id": "9633610a",
   "metadata": {},
   "outputs": [],
   "source": [
    "rank_list = []\n",
    "for i, c in enumerate(perturb_conditions):\n",
    "    celltype_0 = c\n",
    "    celltype_1 = 'ctrl'\n",
    "    gene_emb_celltype_0 = np.expand_dims(dict_sum_condition_mean[celltype_0][1:, 1:], 0)\n",
    "    gene_emb_celltype_1 = np.expand_dims(dict_sum_condition_mean[celltype_1][1:, 1:], 0)\n",
    "    gene_dist_dict = {}\n",
    "    for i, g in tqdm(enumerate(genes)):\n",
    "        gene_dist_dict[g] = cosine_distances(gene_emb_celltype_0[:, i, :], gene_emb_celltype_1[:, i, :]).mean()\n",
    "    df_gene_emb_dist = pd.DataFrame.from_dict(gene_dist_dict, orient='index', columns=['cos_dist'])\n",
    "    df_deg = df_gene_emb_dist.sort_values(by='cos_dist', ascending=False)\n",
    "    c = condition_names_gene_match.pop(0)\n",
    "    print(c, np.where(df_deg.index==c.split('+')[0])[0][0])\n",
    "    rank_list.append(np.where(df_deg.index==c.split('+')[0])[0][0])"
   ]
  },
  {
   "cell_type": "code",
   "execution_count": null,
   "id": "8d0137e5",
   "metadata": {},
   "outputs": [],
   "source": []
  },
  {
   "cell_type": "code",
   "execution_count": null,
   "id": "838202b2",
   "metadata": {},
   "outputs": [],
   "source": []
  },
  {
   "cell_type": "markdown",
   "id": "daa8cd93",
   "metadata": {},
   "source": [
    "## Baseline Wilcoxon"
   ]
  },
  {
   "cell_type": "code",
   "execution_count": 50,
   "id": "605d09b4",
   "metadata": {},
   "outputs": [],
   "source": [
    "df_results = pd.DataFrame()"
   ]
  },
  {
   "cell_type": "code",
   "execution_count": 51,
   "id": "20f0b4dd",
   "metadata": {},
   "outputs": [],
   "source": [
    "df_results['conditions'] = perturb_conditions\n",
    "df_results['scGPT_rank'] = rank_list"
   ]
  },
  {
   "cell_type": "code",
   "execution_count": 52,
   "id": "5cc505a0",
   "metadata": {},
   "outputs": [
    {
     "data": {
      "text/html": [
       "<div>\n",
       "<style scoped>\n",
       "    .dataframe tbody tr th:only-of-type {\n",
       "        vertical-align: middle;\n",
       "    }\n",
       "\n",
       "    .dataframe tbody tr th {\n",
       "        vertical-align: top;\n",
       "    }\n",
       "\n",
       "    .dataframe thead th {\n",
       "        text-align: right;\n",
       "    }\n",
       "</style>\n",
       "<table border=\"1\" class=\"dataframe\">\n",
       "  <thead>\n",
       "    <tr style=\"text-align: right;\">\n",
       "      <th></th>\n",
       "      <th>conditions</th>\n",
       "      <th>scGPT_rank</th>\n",
       "    </tr>\n",
       "  </thead>\n",
       "  <tbody>\n",
       "    <tr>\n",
       "      <th>0</th>\n",
       "      <td>AMIGO3+ctrl</td>\n",
       "      <td>409</td>\n",
       "    </tr>\n",
       "    <tr>\n",
       "      <th>1</th>\n",
       "      <td>ARHGAP22+ctrl</td>\n",
       "      <td>126</td>\n",
       "    </tr>\n",
       "    <tr>\n",
       "      <th>2</th>\n",
       "      <td>ASCC3+ctrl</td>\n",
       "      <td>48</td>\n",
       "    </tr>\n",
       "    <tr>\n",
       "      <th>3</th>\n",
       "      <td>BHLHE40+ctrl</td>\n",
       "      <td>558</td>\n",
       "    </tr>\n",
       "    <tr>\n",
       "      <th>4</th>\n",
       "      <td>CAD+ctrl</td>\n",
       "      <td>557</td>\n",
       "    </tr>\n",
       "    <tr>\n",
       "      <th>...</th>\n",
       "      <td>...</td>\n",
       "      <td>...</td>\n",
       "    </tr>\n",
       "    <tr>\n",
       "      <th>70</th>\n",
       "      <td>UFL1+ctrl</td>\n",
       "      <td>39</td>\n",
       "    </tr>\n",
       "    <tr>\n",
       "      <th>71</th>\n",
       "      <td>UFM1+ctrl</td>\n",
       "      <td>2</td>\n",
       "    </tr>\n",
       "    <tr>\n",
       "      <th>72</th>\n",
       "      <td>XRN1+ctrl</td>\n",
       "      <td>206</td>\n",
       "    </tr>\n",
       "    <tr>\n",
       "      <th>73</th>\n",
       "      <td>YIPF5+ctrl</td>\n",
       "      <td>55</td>\n",
       "    </tr>\n",
       "    <tr>\n",
       "      <th>74</th>\n",
       "      <td>ZNF326+ctrl</td>\n",
       "      <td>434</td>\n",
       "    </tr>\n",
       "  </tbody>\n",
       "</table>\n",
       "<p>75 rows × 2 columns</p>\n",
       "</div>"
      ],
      "text/plain": [
       "       conditions  scGPT_rank\n",
       "0     AMIGO3+ctrl         409\n",
       "1   ARHGAP22+ctrl         126\n",
       "2      ASCC3+ctrl          48\n",
       "3    BHLHE40+ctrl         558\n",
       "4        CAD+ctrl         557\n",
       "..            ...         ...\n",
       "70      UFL1+ctrl          39\n",
       "71      UFM1+ctrl           2\n",
       "72      XRN1+ctrl         206\n",
       "73     YIPF5+ctrl          55\n",
       "74    ZNF326+ctrl         434\n",
       "\n",
       "[75 rows x 2 columns]"
      ]
     },
     "execution_count": 52,
     "metadata": {},
     "output_type": "execute_result"
    }
   ],
   "source": [
    "df_results"
   ]
  },
  {
   "cell_type": "code",
   "execution_count": 53,
   "id": "95bd8b3f",
   "metadata": {},
   "outputs": [],
   "source": [
    "adata_t_sub_copy = adata_t.copy()\n",
    "adata_t_sub_copy.X = adata_t_sub_copy.X\n",
    "adata_t_sub_copy.var.index = genes"
   ]
  },
  {
   "cell_type": "code",
   "execution_count": 54,
   "id": "10557f17",
   "metadata": {},
   "outputs": [
    {
     "data": {
      "text/plain": [
       "AnnData object with n_obs × n_vars = 39847 × 1267\n",
       "    obs: 'condition', 'cell_type', 'dose_val', 'control', 'condition_name', 'celltype', 'str_batch', 'batch_id'\n",
       "    var: 'gene_name', 'id_in_vocab', 'n_counts', 'highly_variable', 'means', 'dispersions', 'dispersions_norm'\n",
       "    uns: 'non_dropout_gene_idx', 'non_zeros_gene_idx', 'rank_genes_groups_cov_all', 'top_non_dropout_de_20', 'top_non_zero_de_20', 'hvg'\n",
       "    obsm: 'bin_edges'\n",
       "    layers: 'X_binned'"
      ]
     },
     "execution_count": 54,
     "metadata": {},
     "output_type": "execute_result"
    }
   ],
   "source": [
    "adata_t_sub_copy"
   ]
  },
  {
   "cell_type": "code",
   "execution_count": 55,
   "id": "e96d97dc",
   "metadata": {},
   "outputs": [],
   "source": [
    "sc.tl.rank_genes_groups(adata_t_sub_copy, 'condition', method='wilcoxon', key_added = \"wilcoxon\", n_genes=max_len-1, reference\n",
    "='ctrl')"
   ]
  },
  {
   "cell_type": "code",
   "execution_count": 56,
   "id": "c419433a",
   "metadata": {},
   "outputs": [
    {
     "data": {
      "text/plain": [
       "AnnData object with n_obs × n_vars = 39847 × 1267\n",
       "    obs: 'condition', 'cell_type', 'dose_val', 'control', 'condition_name', 'celltype', 'str_batch', 'batch_id'\n",
       "    var: 'gene_name', 'id_in_vocab', 'n_counts', 'highly_variable', 'means', 'dispersions', 'dispersions_norm'\n",
       "    uns: 'non_dropout_gene_idx', 'non_zeros_gene_idx', 'rank_genes_groups_cov_all', 'top_non_dropout_de_20', 'top_non_zero_de_20', 'hvg', 'wilcoxon'\n",
       "    obsm: 'bin_edges'\n",
       "    layers: 'X_binned'"
      ]
     },
     "execution_count": 56,
     "metadata": {},
     "output_type": "execute_result"
    }
   ],
   "source": [
    "adata_t_sub_copy"
   ]
  },
  {
   "cell_type": "code",
   "execution_count": 57,
   "id": "abd507a0",
   "metadata": {},
   "outputs": [
    {
     "data": {
      "text/plain": [
       "rec.array([('CITED2', 'SH3BGRL3', 'SH3BGRL3', 'EEF1A1', 'BLVRB', 'ALAS2', 'GYPB', 'SH3BGRL3', 'SH3BGRL3', 'EEF1A1', 'PDIA3', 'EEF1A1', 'PDIA6', 'CITED2', 'SH3BGRL3', 'PDIA6', 'SH3BGRL3', 'PRSS57', 'PHGDH', 'PRSS57', 'S100A11', 'PHGDH', 'CITED2', 'CITED2', 'CITED2', 'CITED2', 'SH3BGRL3', 'PDIA6', 'S100A11', 'CITED2', 'PHGDH', 'KLF1', 'PDIA6', 'CITED2', 'CITED2', 'HES4', 'CITED2', 'BLVRB', 'SH3BGRL3', 'CITED2', 'CITED2', 'CITED2', 'CLCA1', 'BLVRB', 'CITED2', 'SERPINF1', 'CALR', 'SLC3A2', 'SLC3A2', 'SLC3A2', 'CITED2', 'HSPA5', 'CITED2', 'PDIA6', 'PDIA6', 'CITED2', 'PDIA6', 'SLC3A2', 'CITED2', 'SLC3A2', 'CITED2', 'PDIA3', 'SH3BGRL3', 'SH3BGRL3', 'PHGDH', 'SH3BGRL3', 'CITED2', 'PDIA6', 'RHCE', 'CITED2', 'PDIA6', 'CITED2', 'CLCA1', 'PDIA6', 'EEF1A1'),\n",
       "           ('PDIA3', 'LIMS1', 'CITED2', 'AIF1', 'ALAS2', 'GYPB', 'CITED2', 'NFKBIA', 'NFKBIA', 'RPSAP58', 'PDIA6', 'RPSAP58', 'PDIA3', 'PDIA6', 'PDIA3', 'HSP90B1', 'PRSS57', 'PHGDH', 'S100A11', 'PHGDH', 'UBE2L6', 'SERPINF1', 'SH3BGRL3', 'FCER1G', 'PDIA3', 'TXNIP', 'CD52', 'HSP90B1', 'SERPINF1', 'SH3BGRL3', 'S100A11', 'BLVRB', 'PDIA3', 'SH3BGRL3', 'DDIT4', 'CITED2', 'TSC22D1', 'HSPA8', 'PRKCB', 'PDIA6', 'SH3BGRL3', 'PDIA3', 'SH3BGRL3', 'MYL4', 'KLF1', 'PHGDH', 'PDIA6', 'FCER1G', 'CANX', 'FCER1G', 'SH3BGRL3', 'PDIA6', 'SH3BGRL3', 'SH3BGRL3', 'PDIA3', 'SH3BGRL3', 'PDIA3', 'CANX', 'DDIT4', 'CITED2', 'PDIA6', 'PDIA6', 'CITED2', 'CLCA1', 'S100A11', 'CITED2', 'SH3BGRL3', 'PDIA3', 'ALAS2', 'RHCE', 'CITED2', 'PDIA6', 'DDIT4', 'PDIA3', 'RPL39'),\n",
       "           ('DDIT4', 'INSIG1', 'CD52', 'RPL39', 'TXNIP', 'HBZ', 'LIMS1', 'LGALS1', 'LGALS1', 'IFITM1', 'CITED2', 'RPL39', 'HSP90B1', 'CANX', 'PDIA6', 'CALR', 'CLCA1', 'SERPINF1', 'PRSS57', 'SH3BGRL3', 'PHGDH', 'CLCA1', 'FCER1G', 'SH3BGRL3', 'PDIA6', 'DDIT4', 'INSIG1', 'PDIA3', 'UBE2L6', 'DDIT4', 'SERPINF1', 'PDIA3', 'CALR', 'DDIT4', 'SH3BGRL3', 'DDIT4', 'FCER1G', 'CRYM', 'ESAM', 'SH3BGRL3', 'PDIA3', 'DDIT4', 'CD52', 'HBZ', 'DDIT4', 'ASNS', 'PDIA3', 'SPCS2', 'PDIA3', 'SPCS2', 'PDIA6', 'HSP90B1', 'PDIA3', 'PDIA3', 'HSP90B1', 'CD52', 'SH3BGRL3', 'DAD1', 'FCER1G', 'DDIT4', 'PDIA3', 'CITED2', 'CLCA1', 'PRSS57', 'SH3BGRL3', 'CLCA1', 'DDIT4', 'SLC3A2', 'CLCA1', 'DDIT4', 'PDIA3', 'PDIA3', 'CITED2', 'CALR', 'HBA1'),\n",
       "           ...,\n",
       "           ('SEC61A1', 'VIM', 'PDIA3', 'DDIT3', 'MTHFD2', 'GINS2', 'GINS2', 'TMED2', 'HBZ', 'CEBPB', 'STXBP6', 'CEBPB', 'STXBP6', 'RPL39', 'ODC1', 'VIM', 'HBA1', 'MS4A4A', 'EIF2B3', 'GAL', 'HBA1', 'HBZ', 'MANF', 'STXBP6', 'STXBP6', 'MANF', 'MANF', 'GAL', 'HSPA9', 'MANF', 'GAL', 'STXBP6', 'HBA1', 'TMED2', 'RPL39', 'TMED2', 'MANF', 'DNAJA1', 'HBZ', 'STXBP6', 'STXBP6', 'TMED2', 'DUT', 'ODC1', 'MANF', 'HBA1', 'STXBP6', 'SEC61A1', 'DNAJB11', 'ODC1', 'RPL39', 'TMED2', 'STXBP6', 'STXBP6', 'TMED2', 'STXBP6', 'HBA1', 'SRP68', 'MANF', 'GAL', 'TMED2', 'STXBP6', 'MANF', 'HBZ', 'TIMM44', 'STXBP6', 'STXBP6', 'STXBP6', 'RGS16', 'STXBP6', 'RPL39', 'RPL39', 'MANF', 'HBA1', 'HERPUD1'),\n",
       "           ('STXBP6', 'HSD17B12', 'HSP90B1', 'SLC3A2', 'VIM', 'VIM', 'NPW', 'HBA1', 'HBA1', 'DDIT3', 'VIM', 'SLC3A2', 'VIM', 'VIM', 'VIM', 'HBZ', 'HBZ', 'HBA1', 'HBA1', 'HBA1', 'GAL', 'HBA1', 'HBA1', 'RPL39', 'RPL39', 'GNPNAT1', 'STXBP6', 'HBZ', 'HBA1', 'HYOU1', 'HBA1', 'IDH3A', 'VIM', 'STXBP6', 'VIM', 'MRGBP', 'VIM', 'TMED2', 'HBA1', 'VIM', 'VIM', 'VIM', 'GAL', 'VIM', 'VIM', 'HBZ', 'SCYL1', 'GAL', 'VIM', 'GAL', 'VIM', 'RPL39', 'VIM', 'VIM', 'HSPA5', 'VIM', 'HBZ', 'DDRGK1', 'VIM', 'MANF', 'STXBP6', 'TMED2', 'STXBP6', 'VIM', 'HBA1', 'VIM', 'VIM', 'VIM', 'STXBP6', 'MANF', 'UFL1', 'VIM', 'TMED2', 'YIPF5', 'SLC3A2'),\n",
       "           ('VIM', 'IDH3A', 'VIM', 'CHI3L2', 'MS4A4A', 'CCND3', 'GAL', 'STXBP6', 'COPZ1', 'SLC3A2', 'DAD1', 'DDIT3', 'DDOST', 'DDRGK1', 'DERL2', 'HBA1', 'DNAJC19', 'HBZ', 'HBZ', 'HBZ', 'HBZ', 'FARSB', 'HBZ', 'VIM', 'VIM', 'VIM', 'HSD17B12', 'HBA1', 'HBZ', 'VIM', 'HBZ', 'VIM', 'IER3IP1', 'VIM', 'MANF', 'VIM', 'MRPL39', 'ODC1', 'NEDD8', 'OST4', 'P4HB', 'PDIA6', 'ODC1', 'PSMD4', 'PTDSS1', 'SAMM50', 'VIM', 'HBA1', 'SEC61B', 'SEC61G', 'SEC63', 'VIM', 'SLC35B1', 'SLC39A7', 'VIM', 'SPCS2', 'SPCS3', 'GAL', 'SRP72', 'SRPRB', 'VIM', 'VIM', 'VIM', 'TIMM23', 'HBZ', 'TMED2', 'TMED10', 'TMEM167A', 'VIM', 'VIM', 'VIM', 'UFM1', 'VIM', 'VIM', 'ZNF326')],\n",
       "          dtype=[('AMIGO3+ctrl', 'O'), ('ARHGAP22+ctrl', 'O'), ('ASCC3+ctrl', 'O'), ('BHLHE40+ctrl', 'O'), ('CAD+ctrl', 'O'), ('CCND3+ctrl', 'O'), ('CHERP+ctrl', 'O'), ('COPB1+ctrl', 'O'), ('COPZ1+ctrl', 'O'), ('CREB1+ctrl', 'O'), ('DAD1+ctrl', 'O'), ('DDIT3+ctrl', 'O'), ('DDOST+ctrl', 'O'), ('DDRGK1+ctrl', 'O'), ('DERL2+ctrl', 'O'), ('DHDDS+ctrl', 'O'), ('DNAJC19+ctrl', 'O'), ('EIF2B2+ctrl', 'O'), ('EIF2B3+ctrl', 'O'), ('EIF2B4+ctrl', 'O'), ('EIF2S1+ctrl', 'O'), ('FARSB+ctrl', 'O'), ('FECH+ctrl', 'O'), ('GBF1+ctrl', 'O'), ('GMPPB+ctrl', 'O'), ('GNPNAT1+ctrl', 'O'), ('HSD17B12+ctrl', 'O'), ('HSPA5+ctrl', 'O'), ('HSPA9+ctrl', 'O'), ('HYOU1+ctrl', 'O'), ('IARS2+ctrl', 'O'), ('IDH3A+ctrl', 'O'), ('IER3IP1+ctrl', 'O'), ('KCTD16+ctrl', 'O'), ('MANF+ctrl', 'O'), ('MRGBP+ctrl', 'O'), ('MRPL39+ctrl', 'O'), ('MTHFD1+ctrl', 'O'), ('NEDD8+ctrl', 'O'), ('OST4+ctrl', 'O'), ('P4HB+ctrl', 'O'), ('PDIA6+ctrl', 'O'), ('PPWD1+ctrl', 'O'), ('PSMD4+ctrl', 'O'), ('PTDSS1+ctrl', 'O'), ('SAMM50+ctrl', 'O'), ('SCYL1+ctrl', 'O'), ('SEC61A1+ctrl', 'O'), ('SEC61B+ctrl', 'O'), ('SEC61G+ctrl', 'O'), ('SEC63+ctrl', 'O'), ('SEL1L+ctrl', 'O'), ('SLC35B1+ctrl', 'O'), ('SLC39A7+ctrl', 'O'), ('SOCS1+ctrl', 'O'), ('SPCS2+ctrl', 'O'), ('SPCS3+ctrl', 'O'), ('SRP68+ctrl', 'O'), ('SRP72+ctrl', 'O'), ('SRPRB+ctrl', 'O'), ('STT3A+ctrl', 'O'), ('SYVN1+ctrl', 'O'), ('TELO2+ctrl', 'O'), ('TIMM23+ctrl', 'O'), ('TIMM44+ctrl', 'O'), ('TMED2+ctrl', 'O'), ('TMED10+ctrl', 'O'), ('TMEM167A+ctrl', 'O'), ('TTI1+ctrl', 'O'), ('TTI2+ctrl', 'O'), ('UFL1+ctrl', 'O'), ('UFM1+ctrl', 'O'), ('XRN1+ctrl', 'O'), ('YIPF5+ctrl', 'O'), ('ZNF326+ctrl', 'O')])"
      ]
     },
     "execution_count": 57,
     "metadata": {},
     "output_type": "execute_result"
    }
   ],
   "source": [
    "adata_t_sub_copy.uns['wilcoxon']['names']"
   ]
  },
  {
   "cell_type": "code",
   "execution_count": 58,
   "id": "0190e9b6",
   "metadata": {},
   "outputs": [],
   "source": [
    "baseline_rank = []"
   ]
  },
  {
   "cell_type": "code",
   "execution_count": 59,
   "id": "8ef45255",
   "metadata": {},
   "outputs": [
    {
     "name": "stdout",
     "output_type": "stream",
     "text": [
      "AMIGO3+ctrl 1098\n",
      "ARHGAP22+ctrl 318\n",
      "ASCC3+ctrl 36\n",
      "BHLHE40+ctrl 3\n",
      "CAD+ctrl 93\n",
      "CCND3+ctrl 0\n",
      "CHERP+ctrl 35\n",
      "COPB1+ctrl 112\n",
      "COPZ1+ctrl 0\n",
      "CREB1+ctrl 73\n",
      "DAD1+ctrl 0\n",
      "DDIT3+ctrl 0\n",
      "DDOST+ctrl 0\n",
      "DDRGK1+ctrl 0\n",
      "DERL2+ctrl 0\n",
      "DHDDS+ctrl 119\n",
      "DNAJC19+ctrl 0\n",
      "EIF2B2+ctrl 26\n",
      "EIF2B3+ctrl 2\n",
      "EIF2B4+ctrl 14\n",
      "EIF2S1+ctrl 4\n",
      "FARSB+ctrl 0\n",
      "FECH+ctrl 55\n",
      "GBF1+ctrl 141\n",
      "GMPPB+ctrl 1211\n",
      "GNPNAT1+ctrl 3\n",
      "HSD17B12+ctrl 3\n",
      "HSPA5+ctrl 29\n",
      "HSPA9+ctrl 2\n",
      "HYOU1+ctrl 2\n",
      "IARS2+ctrl 22\n",
      "IDH3A+ctrl 1\n",
      "IER3IP1+ctrl 2\n",
      "KCTD16+ctrl 1028\n",
      "MANF+ctrl 0\n",
      "MRGBP+ctrl 3\n",
      "MRPL39+ctrl 0\n",
      "MTHFD1+ctrl 7\n",
      "NEDD8+ctrl 0\n",
      "OST4+ctrl 0\n",
      "P4HB+ctrl 0\n",
      "PDIA6+ctrl 0\n",
      "PPWD1+ctrl 52\n",
      "PSMD4+ctrl 0\n",
      "PTDSS1+ctrl 0\n",
      "SAMM50+ctrl 0\n",
      "SCYL1+ctrl 9\n",
      "SEC61A1+ctrl 4\n",
      "SEC61B+ctrl 0\n",
      "SEC61G+ctrl 0\n",
      "SEC63+ctrl 0\n",
      "SEL1L+ctrl 105\n",
      "SLC35B1+ctrl 0\n",
      "SLC39A7+ctrl 0\n",
      "SOCS1+ctrl 86\n",
      "SPCS2+ctrl 0\n",
      "SPCS3+ctrl 0\n",
      "SRP68+ctrl 3\n",
      "SRP72+ctrl 0\n",
      "SRPRB+ctrl 0\n",
      "STT3A+ctrl 75\n",
      "SYVN1+ctrl 20\n",
      "TELO2+ctrl 26\n",
      "TIMM23+ctrl 2\n",
      "TIMM44+ctrl 2\n",
      "TMED2+ctrl 0\n",
      "TMED10+ctrl 0\n",
      "TMEM167A+ctrl 0\n",
      "TTI1+ctrl 63\n",
      "TTI2+ctrl 109\n",
      "UFL1+ctrl 19\n",
      "UFM1+ctrl 0\n",
      "XRN1+ctrl 216\n",
      "YIPF5+ctrl 11\n",
      "ZNF326+ctrl 0\n"
     ]
    }
   ],
   "source": [
    "for c in perturb_conditions:\n",
    "    hvg_list = adata_t_sub_copy.uns['wilcoxon']['names'][c]\n",
    "    p_val = adata_t_sub_copy.uns['wilcoxon']['pvals_adj'][c]\n",
    "    df_gene_emb_dist = pd.DataFrame()\n",
    "    df_gene_emb_dist['gene'] = hvg_list\n",
    "    df_gene_emb_dist['p_val'] = p_val\n",
    "    df_gene_emb_dist = df_gene_emb_dist.sort_values(by='p_val')\n",
    "    print(c, np.where(df_gene_emb_dist.gene.values==c.split('+')[0])[0][0])\n",
    "    baseline_rank.append(np.where(df_gene_emb_dist.gene.values==c.split('+')[0])[0][0])"
   ]
  },
  {
   "cell_type": "code",
   "execution_count": 60,
   "id": "218ad3fe",
   "metadata": {},
   "outputs": [
    {
     "data": {
      "text/html": [
       "<div>\n",
       "<style scoped>\n",
       "    .dataframe tbody tr th:only-of-type {\n",
       "        vertical-align: middle;\n",
       "    }\n",
       "\n",
       "    .dataframe tbody tr th {\n",
       "        vertical-align: top;\n",
       "    }\n",
       "\n",
       "    .dataframe thead th {\n",
       "        text-align: right;\n",
       "    }\n",
       "</style>\n",
       "<table border=\"1\" class=\"dataframe\">\n",
       "  <thead>\n",
       "    <tr style=\"text-align: right;\">\n",
       "      <th></th>\n",
       "      <th>conditions</th>\n",
       "      <th>scGPT_rank</th>\n",
       "    </tr>\n",
       "  </thead>\n",
       "  <tbody>\n",
       "    <tr>\n",
       "      <th>0</th>\n",
       "      <td>AMIGO3+ctrl</td>\n",
       "      <td>409</td>\n",
       "    </tr>\n",
       "    <tr>\n",
       "      <th>1</th>\n",
       "      <td>ARHGAP22+ctrl</td>\n",
       "      <td>126</td>\n",
       "    </tr>\n",
       "    <tr>\n",
       "      <th>2</th>\n",
       "      <td>ASCC3+ctrl</td>\n",
       "      <td>48</td>\n",
       "    </tr>\n",
       "    <tr>\n",
       "      <th>3</th>\n",
       "      <td>BHLHE40+ctrl</td>\n",
       "      <td>558</td>\n",
       "    </tr>\n",
       "    <tr>\n",
       "      <th>4</th>\n",
       "      <td>CAD+ctrl</td>\n",
       "      <td>557</td>\n",
       "    </tr>\n",
       "    <tr>\n",
       "      <th>...</th>\n",
       "      <td>...</td>\n",
       "      <td>...</td>\n",
       "    </tr>\n",
       "    <tr>\n",
       "      <th>70</th>\n",
       "      <td>UFL1+ctrl</td>\n",
       "      <td>39</td>\n",
       "    </tr>\n",
       "    <tr>\n",
       "      <th>71</th>\n",
       "      <td>UFM1+ctrl</td>\n",
       "      <td>2</td>\n",
       "    </tr>\n",
       "    <tr>\n",
       "      <th>72</th>\n",
       "      <td>XRN1+ctrl</td>\n",
       "      <td>206</td>\n",
       "    </tr>\n",
       "    <tr>\n",
       "      <th>73</th>\n",
       "      <td>YIPF5+ctrl</td>\n",
       "      <td>55</td>\n",
       "    </tr>\n",
       "    <tr>\n",
       "      <th>74</th>\n",
       "      <td>ZNF326+ctrl</td>\n",
       "      <td>434</td>\n",
       "    </tr>\n",
       "  </tbody>\n",
       "</table>\n",
       "<p>75 rows × 2 columns</p>\n",
       "</div>"
      ],
      "text/plain": [
       "       conditions  scGPT_rank\n",
       "0     AMIGO3+ctrl         409\n",
       "1   ARHGAP22+ctrl         126\n",
       "2      ASCC3+ctrl          48\n",
       "3    BHLHE40+ctrl         558\n",
       "4        CAD+ctrl         557\n",
       "..            ...         ...\n",
       "70      UFL1+ctrl          39\n",
       "71      UFM1+ctrl           2\n",
       "72      XRN1+ctrl         206\n",
       "73     YIPF5+ctrl          55\n",
       "74    ZNF326+ctrl         434\n",
       "\n",
       "[75 rows x 2 columns]"
      ]
     },
     "execution_count": 60,
     "metadata": {},
     "output_type": "execute_result"
    }
   ],
   "source": [
    "df_results"
   ]
  },
  {
   "cell_type": "code",
   "execution_count": 61,
   "id": "ab746bb6",
   "metadata": {},
   "outputs": [],
   "source": [
    "df_results['wilcoxon (random)'] = baseline_rank"
   ]
  },
  {
   "cell_type": "code",
   "execution_count": 62,
   "id": "7d96a9a2",
   "metadata": {},
   "outputs": [
    {
     "data": {
      "text/html": [
       "<div>\n",
       "<style scoped>\n",
       "    .dataframe tbody tr th:only-of-type {\n",
       "        vertical-align: middle;\n",
       "    }\n",
       "\n",
       "    .dataframe tbody tr th {\n",
       "        vertical-align: top;\n",
       "    }\n",
       "\n",
       "    .dataframe thead th {\n",
       "        text-align: right;\n",
       "    }\n",
       "</style>\n",
       "<table border=\"1\" class=\"dataframe\">\n",
       "  <thead>\n",
       "    <tr style=\"text-align: right;\">\n",
       "      <th></th>\n",
       "      <th>conditions</th>\n",
       "      <th>scGPT_rank</th>\n",
       "      <th>wilcoxon (random)</th>\n",
       "    </tr>\n",
       "  </thead>\n",
       "  <tbody>\n",
       "    <tr>\n",
       "      <th>0</th>\n",
       "      <td>AMIGO3+ctrl</td>\n",
       "      <td>409</td>\n",
       "      <td>1098</td>\n",
       "    </tr>\n",
       "    <tr>\n",
       "      <th>1</th>\n",
       "      <td>ARHGAP22+ctrl</td>\n",
       "      <td>126</td>\n",
       "      <td>318</td>\n",
       "    </tr>\n",
       "    <tr>\n",
       "      <th>2</th>\n",
       "      <td>ASCC3+ctrl</td>\n",
       "      <td>48</td>\n",
       "      <td>36</td>\n",
       "    </tr>\n",
       "    <tr>\n",
       "      <th>3</th>\n",
       "      <td>BHLHE40+ctrl</td>\n",
       "      <td>558</td>\n",
       "      <td>3</td>\n",
       "    </tr>\n",
       "    <tr>\n",
       "      <th>4</th>\n",
       "      <td>CAD+ctrl</td>\n",
       "      <td>557</td>\n",
       "      <td>93</td>\n",
       "    </tr>\n",
       "    <tr>\n",
       "      <th>...</th>\n",
       "      <td>...</td>\n",
       "      <td>...</td>\n",
       "      <td>...</td>\n",
       "    </tr>\n",
       "    <tr>\n",
       "      <th>70</th>\n",
       "      <td>UFL1+ctrl</td>\n",
       "      <td>39</td>\n",
       "      <td>19</td>\n",
       "    </tr>\n",
       "    <tr>\n",
       "      <th>71</th>\n",
       "      <td>UFM1+ctrl</td>\n",
       "      <td>2</td>\n",
       "      <td>0</td>\n",
       "    </tr>\n",
       "    <tr>\n",
       "      <th>72</th>\n",
       "      <td>XRN1+ctrl</td>\n",
       "      <td>206</td>\n",
       "      <td>216</td>\n",
       "    </tr>\n",
       "    <tr>\n",
       "      <th>73</th>\n",
       "      <td>YIPF5+ctrl</td>\n",
       "      <td>55</td>\n",
       "      <td>11</td>\n",
       "    </tr>\n",
       "    <tr>\n",
       "      <th>74</th>\n",
       "      <td>ZNF326+ctrl</td>\n",
       "      <td>434</td>\n",
       "      <td>0</td>\n",
       "    </tr>\n",
       "  </tbody>\n",
       "</table>\n",
       "<p>75 rows × 3 columns</p>\n",
       "</div>"
      ],
      "text/plain": [
       "       conditions  scGPT_rank  wilcoxon (random)\n",
       "0     AMIGO3+ctrl         409               1098\n",
       "1   ARHGAP22+ctrl         126                318\n",
       "2      ASCC3+ctrl          48                 36\n",
       "3    BHLHE40+ctrl         558                  3\n",
       "4        CAD+ctrl         557                 93\n",
       "..            ...         ...                ...\n",
       "70      UFL1+ctrl          39                 19\n",
       "71      UFM1+ctrl           2                  0\n",
       "72      XRN1+ctrl         206                216\n",
       "73     YIPF5+ctrl          55                 11\n",
       "74    ZNF326+ctrl         434                  0\n",
       "\n",
       "[75 rows x 3 columns]"
      ]
     },
     "execution_count": 62,
     "metadata": {},
     "output_type": "execute_result"
    }
   ],
   "source": [
    "df_results"
   ]
  },
  {
   "cell_type": "code",
   "execution_count": 63,
   "id": "0523b0b6",
   "metadata": {},
   "outputs": [
    {
     "data": {
      "text/plain": [
       "scGPT_rank           110.32\n",
       "wilcoxon (random)     69.92\n",
       "dtype: float64"
      ]
     },
     "execution_count": 63,
     "metadata": {},
     "output_type": "execute_result"
    }
   ],
   "source": [
    "df_results.mean()"
   ]
  },
  {
   "cell_type": "code",
   "execution_count": null,
   "id": "7033aa8f",
   "metadata": {},
   "outputs": [],
   "source": []
  },
  {
   "cell_type": "code",
   "execution_count": null,
   "id": "207ca99c",
   "metadata": {},
   "outputs": [],
   "source": []
  },
  {
   "cell_type": "markdown",
   "id": "c3eb0241",
   "metadata": {},
   "source": [
    "## Misc / Plotting"
   ]
  },
  {
   "cell_type": "code",
   "execution_count": 62,
   "id": "12f3f200",
   "metadata": {},
   "outputs": [],
   "source": [
    "df_results_old = pd.read_csv('/fs01/home/chloexq/scGPT-release/tutorials/vevo_adamson_ranks_Nov21.csv', index_col=0)"
   ]
  },
  {
   "cell_type": "code",
   "execution_count": 72,
   "id": "df08331d",
   "metadata": {},
   "outputs": [
    {
     "data": {
      "text/html": [
       "<div>\n",
       "<style scoped>\n",
       "    .dataframe tbody tr th:only-of-type {\n",
       "        vertical-align: middle;\n",
       "    }\n",
       "\n",
       "    .dataframe tbody tr th {\n",
       "        vertical-align: top;\n",
       "    }\n",
       "\n",
       "    .dataframe thead th {\n",
       "        text-align: right;\n",
       "    }\n",
       "</style>\n",
       "<table border=\"1\" class=\"dataframe\">\n",
       "  <thead>\n",
       "    <tr style=\"text-align: right;\">\n",
       "      <th></th>\n",
       "      <th>conditions</th>\n",
       "      <th>wilcoxon</th>\n",
       "      <th>scGPT_rank (attn)</th>\n",
       "      <th>scGPT_rank (gene emb)</th>\n",
       "    </tr>\n",
       "  </thead>\n",
       "  <tbody>\n",
       "    <tr>\n",
       "      <th>0</th>\n",
       "      <td>AMIGO3+ctrl</td>\n",
       "      <td>1098</td>\n",
       "      <td>569</td>\n",
       "      <td>409</td>\n",
       "    </tr>\n",
       "    <tr>\n",
       "      <th>1</th>\n",
       "      <td>ARHGAP22+ctrl</td>\n",
       "      <td>318</td>\n",
       "      <td>175</td>\n",
       "      <td>126</td>\n",
       "    </tr>\n",
       "    <tr>\n",
       "      <th>2</th>\n",
       "      <td>ASCC3+ctrl</td>\n",
       "      <td>36</td>\n",
       "      <td>15</td>\n",
       "      <td>48</td>\n",
       "    </tr>\n",
       "    <tr>\n",
       "      <th>3</th>\n",
       "      <td>BHLHE40+ctrl</td>\n",
       "      <td>3</td>\n",
       "      <td>584</td>\n",
       "      <td>558</td>\n",
       "    </tr>\n",
       "    <tr>\n",
       "      <th>4</th>\n",
       "      <td>CAD+ctrl</td>\n",
       "      <td>93</td>\n",
       "      <td>257</td>\n",
       "      <td>557</td>\n",
       "    </tr>\n",
       "    <tr>\n",
       "      <th>...</th>\n",
       "      <td>...</td>\n",
       "      <td>...</td>\n",
       "      <td>...</td>\n",
       "      <td>...</td>\n",
       "    </tr>\n",
       "    <tr>\n",
       "      <th>70</th>\n",
       "      <td>UFL1+ctrl</td>\n",
       "      <td>19</td>\n",
       "      <td>3</td>\n",
       "      <td>39</td>\n",
       "    </tr>\n",
       "    <tr>\n",
       "      <th>71</th>\n",
       "      <td>UFM1+ctrl</td>\n",
       "      <td>0</td>\n",
       "      <td>4</td>\n",
       "      <td>2</td>\n",
       "    </tr>\n",
       "    <tr>\n",
       "      <th>72</th>\n",
       "      <td>XRN1+ctrl</td>\n",
       "      <td>216</td>\n",
       "      <td>163</td>\n",
       "      <td>206</td>\n",
       "    </tr>\n",
       "    <tr>\n",
       "      <th>73</th>\n",
       "      <td>YIPF5+ctrl</td>\n",
       "      <td>11</td>\n",
       "      <td>16</td>\n",
       "      <td>55</td>\n",
       "    </tr>\n",
       "    <tr>\n",
       "      <th>74</th>\n",
       "      <td>ZNF326+ctrl</td>\n",
       "      <td>0</td>\n",
       "      <td>218</td>\n",
       "      <td>434</td>\n",
       "    </tr>\n",
       "  </tbody>\n",
       "</table>\n",
       "<p>75 rows × 4 columns</p>\n",
       "</div>"
      ],
      "text/plain": [
       "       conditions  wilcoxon  scGPT_rank (attn)  scGPT_rank (gene emb)\n",
       "0     AMIGO3+ctrl      1098                569                    409\n",
       "1   ARHGAP22+ctrl       318                175                    126\n",
       "2      ASCC3+ctrl        36                 15                     48\n",
       "3    BHLHE40+ctrl         3                584                    558\n",
       "4        CAD+ctrl        93                257                    557\n",
       "..            ...       ...                ...                    ...\n",
       "70      UFL1+ctrl        19                  3                     39\n",
       "71      UFM1+ctrl         0                  4                      2\n",
       "72      XRN1+ctrl       216                163                    206\n",
       "73     YIPF5+ctrl        11                 16                     55\n",
       "74    ZNF326+ctrl         0                218                    434\n",
       "\n",
       "[75 rows x 4 columns]"
      ]
     },
     "execution_count": 72,
     "metadata": {},
     "output_type": "execute_result"
    }
   ],
   "source": [
    "df_results_old"
   ]
  },
  {
   "cell_type": "code",
   "execution_count": 74,
   "id": "5f65ce3f",
   "metadata": {},
   "outputs": [
    {
     "data": {
      "text/plain": [
       "Index(['conditions', 'wilcoxon', 'scGPT_rank (attn)', 'scGPT_rank (gene emb)'], dtype='object')"
      ]
     },
     "execution_count": 74,
     "metadata": {},
     "output_type": "execute_result"
    }
   ],
   "source": [
    "df_results_old.columns"
   ]
  },
  {
   "cell_type": "code",
   "execution_count": 81,
   "id": "43e8c0c4",
   "metadata": {},
   "outputs": [
    {
     "data": {
      "image/png": "[encoded data removed]",
      "text/plain": [
       "<Figure size 800x800 with 1 Axes>"
      ]
     },
     "metadata": {
      "image/png": {
       "height": 782,
       "width": 782
      },
      "needs_background": "light"
     },
     "output_type": "display_data"
    },
    {
     "data": {
      "text/plain": [
       "<matplotlib.legend.Legend at 0x7f8b083fbb80>"
      ]
     },
     "execution_count": 81,
     "metadata": {},
     "output_type": "execute_result"
    },
    {
     "data": {
      "image/png": "[encoded data removed]",
      "text/plain": [
       "<Figure size 320x320 with 1 Axes>"
      ]
     },
     "metadata": {
      "image/png": {
       "height": 294,
       "width": 316
      },
      "needs_background": "light"
     },
     "output_type": "display_data"
    }
   ],
   "source": [
    "import seaborn as sns\n",
    "\n",
    "df_melted = pd.melt(df_results_old, id_vars=['conditions'], \n",
    "                    value_vars=['wilcoxon (random)', 'scGPT_rank (attn, random)', 'scGPT_rank (gene emb, random)'], \n",
    "                    var_name='method', \n",
    "                    value_name='rank')\n",
    "\n",
    "# Step 2: Create the box plot\n",
    "plt.figure(figsize=(10, 10))\n",
    "sns.boxplot(data=df_melted, x='method', y='rank')\n",
    "\n",
    "# Add titles and labels\n",
    "plt.title('Comparison of Methods Across Conditions')\n",
    "plt.xlabel('Method')\n",
    "plt.ylabel('Rank')\n",
    "plt.xticks(rotation=-45)\n",
    "\n",
    "# Display the plot\n",
    "plt.tight_layout()\n",
    "plt.show()\n",
    "\n",
    "plt.legend([],[], frameon=False)"
   ]
  },
  {
   "cell_type": "code",
   "execution_count": 83,
   "id": "17164308",
   "metadata": {},
   "outputs": [
    {
     "data": {
      "image/png": "[encoded data removed]",
      "text/plain": [
       "<Figure size 800x800 with 1 Axes>"
      ]
     },
     "metadata": {
      "image/png": {
       "height": 782,
       "width": 782
      },
      "needs_background": "light"
     },
     "output_type": "display_data"
    },
    {
     "data": {
      "text/plain": [
       "<matplotlib.legend.Legend at 0x7f8b081df610>"
      ]
     },
     "execution_count": 83,
     "metadata": {},
     "output_type": "execute_result"
    },
    {
     "data": {
      "image/png": "[encoded data removed]",
      "text/plain": [
       "<Figure size 320x320 with 1 Axes>"
      ]
     },
     "metadata": {
      "image/png": {
       "height": 294,
       "width": 316
      },
      "needs_background": "light"
     },
     "output_type": "display_data"
    }
   ],
   "source": [
    "import seaborn as sns\n",
    "\n",
    "df_melted = pd.melt(df_results_old, id_vars=['conditions'], \n",
    "                    value_vars=['scGPT_rank (attn)', 'scGPT_rank (attn, null, targets)', 'scGPT_rank (attn, null, non-targets)'], \n",
    "                    var_name='method', \n",
    "                    value_name='rank')\n",
    "\n",
    "# Step 2: Create the box plot\n",
    "plt.figure(figsize=(10, 10))\n",
    "sns.boxplot(data=df_melted, x='method', y='rank')\n",
    "\n",
    "# Add titles and labels\n",
    "plt.title('Comparison of Methods Across Conditions')\n",
    "plt.xlabel('Method')\n",
    "plt.ylabel('Rank')\n",
    "plt.xticks(rotation=-45)\n",
    "\n",
    "# Display the plot\n",
    "plt.tight_layout()\n",
    "plt.show()\n",
    "\n",
    "plt.legend([],[], frameon=False)"
   ]
  },
  {
   "cell_type": "code",
   "execution_count": 66,
   "id": "c3a7733b",
   "metadata": {},
   "outputs": [],
   "source": [
    "df_results_old = df_results.copy()"
   ]
  },
  {
   "cell_type": "code",
   "execution_count": 76,
   "id": "9e9e5fd5",
   "metadata": {},
   "outputs": [
    {
     "name": "stdout",
     "output_type": "stream",
     "text": [
      "T-statistic: -9.575832796777668\n",
      "P-value: 6.851440943013974e-15\n",
      "scGPT_rank (gene emb, null, non-targets) has significantly larger ranks than scGPT_rank (gene emb).\n"
     ]
    }
   ],
   "source": [
    "import pandas as pd\n",
    "import scipy.stats as stats\n",
    "\n",
    "# Step 1: Extract the 'wilcoxon' and 'scGPT_rank (attn)' scores\n",
    "opt_1 = 'scGPT_rank (gene emb)'\n",
    "opt_2 = 'scGPT_rank (gene emb, null, non-targets)'\n",
    "ranks_1 = df_results_old[opt_1]\n",
    "ranks_2 = df_results_old[opt_2]\n",
    "\n",
    "# Step 2: Perform paired t-test\n",
    "t_stat, p_value = stats.ttest_rel(ranks_1, ranks_2, alternative='less')\n",
    "\n",
    "# Step 3: Print the results\n",
    "print(f\"T-statistic: {t_stat}\")\n",
    "print(f\"P-value: {p_value}\")\n",
    "\n",
    "# Step 4: Determine if 'scGPT_rank (attn)' has larger ranks than 'wilcoxon'\n",
    "if t_stat < 0 and p_value < 0.05:\n",
    "    print(\"{} has significantly larger ranks than {}.\".format(opt_2, opt_1))\n",
    "else:\n",
    "    print(\"No significant difference found, or {} has larger ranks.\".format(opt_1))"
   ]
  },
  {
   "cell_type": "code",
   "execution_count": 57,
   "id": "32313eda",
   "metadata": {},
   "outputs": [
    {
     "data": {
      "text/html": [
       "<div>\n",
       "<style scoped>\n",
       "    .dataframe tbody tr th:only-of-type {\n",
       "        vertical-align: middle;\n",
       "    }\n",
       "\n",
       "    .dataframe tbody tr th {\n",
       "        vertical-align: top;\n",
       "    }\n",
       "\n",
       "    .dataframe thead th {\n",
       "        text-align: right;\n",
       "    }\n",
       "</style>\n",
       "<table border=\"1\" class=\"dataframe\">\n",
       "  <thead>\n",
       "    <tr style=\"text-align: right;\">\n",
       "      <th></th>\n",
       "      <th>conditions</th>\n",
       "      <th>wilcoxon</th>\n",
       "      <th>scGPT_rank (attn)</th>\n",
       "      <th>scGPT_rank (gene emb)</th>\n",
       "      <th>scGPT_rank (attn, mean)</th>\n",
       "      <th>scGPT_rank (gene emb, mean)</th>\n",
       "    </tr>\n",
       "  </thead>\n",
       "  <tbody>\n",
       "    <tr>\n",
       "      <th>0</th>\n",
       "      <td>AMIGO3+ctrl</td>\n",
       "      <td>1098</td>\n",
       "      <td>569</td>\n",
       "      <td>409</td>\n",
       "      <td>569</td>\n",
       "      <td>409</td>\n",
       "    </tr>\n",
       "    <tr>\n",
       "      <th>1</th>\n",
       "      <td>ARHGAP22+ctrl</td>\n",
       "      <td>318</td>\n",
       "      <td>175</td>\n",
       "      <td>126</td>\n",
       "      <td>0</td>\n",
       "      <td>0</td>\n",
       "    </tr>\n",
       "    <tr>\n",
       "      <th>2</th>\n",
       "      <td>ASCC3+ctrl</td>\n",
       "      <td>36</td>\n",
       "      <td>15</td>\n",
       "      <td>48</td>\n",
       "      <td>0</td>\n",
       "      <td>0</td>\n",
       "    </tr>\n",
       "    <tr>\n",
       "      <th>3</th>\n",
       "      <td>BHLHE40+ctrl</td>\n",
       "      <td>3</td>\n",
       "      <td>584</td>\n",
       "      <td>558</td>\n",
       "      <td>0</td>\n",
       "      <td>0</td>\n",
       "    </tr>\n",
       "    <tr>\n",
       "      <th>4</th>\n",
       "      <td>CAD+ctrl</td>\n",
       "      <td>93</td>\n",
       "      <td>257</td>\n",
       "      <td>557</td>\n",
       "      <td>0</td>\n",
       "      <td>0</td>\n",
       "    </tr>\n",
       "    <tr>\n",
       "      <th>...</th>\n",
       "      <td>...</td>\n",
       "      <td>...</td>\n",
       "      <td>...</td>\n",
       "      <td>...</td>\n",
       "      <td>...</td>\n",
       "      <td>...</td>\n",
       "    </tr>\n",
       "    <tr>\n",
       "      <th>70</th>\n",
       "      <td>UFL1+ctrl</td>\n",
       "      <td>19</td>\n",
       "      <td>3</td>\n",
       "      <td>39</td>\n",
       "      <td>0</td>\n",
       "      <td>0</td>\n",
       "    </tr>\n",
       "    <tr>\n",
       "      <th>71</th>\n",
       "      <td>UFM1+ctrl</td>\n",
       "      <td>0</td>\n",
       "      <td>4</td>\n",
       "      <td>2</td>\n",
       "      <td>0</td>\n",
       "      <td>0</td>\n",
       "    </tr>\n",
       "    <tr>\n",
       "      <th>72</th>\n",
       "      <td>XRN1+ctrl</td>\n",
       "      <td>216</td>\n",
       "      <td>163</td>\n",
       "      <td>206</td>\n",
       "      <td>0</td>\n",
       "      <td>0</td>\n",
       "    </tr>\n",
       "    <tr>\n",
       "      <th>73</th>\n",
       "      <td>YIPF5+ctrl</td>\n",
       "      <td>11</td>\n",
       "      <td>16</td>\n",
       "      <td>55</td>\n",
       "      <td>0</td>\n",
       "      <td>0</td>\n",
       "    </tr>\n",
       "    <tr>\n",
       "      <th>74</th>\n",
       "      <td>ZNF326+ctrl</td>\n",
       "      <td>0</td>\n",
       "      <td>218</td>\n",
       "      <td>434</td>\n",
       "      <td>0</td>\n",
       "      <td>0</td>\n",
       "    </tr>\n",
       "  </tbody>\n",
       "</table>\n",
       "<p>75 rows × 6 columns</p>\n",
       "</div>"
      ],
      "text/plain": [
       "       conditions  wilcoxon  scGPT_rank (attn)  scGPT_rank (gene emb)  \\\n",
       "0     AMIGO3+ctrl      1098                569                    409   \n",
       "1   ARHGAP22+ctrl       318                175                    126   \n",
       "2      ASCC3+ctrl        36                 15                     48   \n",
       "3    BHLHE40+ctrl         3                584                    558   \n",
       "4        CAD+ctrl        93                257                    557   \n",
       "..            ...       ...                ...                    ...   \n",
       "70      UFL1+ctrl        19                  3                     39   \n",
       "71      UFM1+ctrl         0                  4                      2   \n",
       "72      XRN1+ctrl       216                163                    206   \n",
       "73     YIPF5+ctrl        11                 16                     55   \n",
       "74    ZNF326+ctrl         0                218                    434   \n",
       "\n",
       "    scGPT_rank (attn, mean)  scGPT_rank (gene emb, mean)  \n",
       "0                       569                          409  \n",
       "1                         0                            0  \n",
       "2                         0                            0  \n",
       "3                         0                            0  \n",
       "4                         0                            0  \n",
       "..                      ...                          ...  \n",
       "70                        0                            0  \n",
       "71                        0                            0  \n",
       "72                        0                            0  \n",
       "73                        0                            0  \n",
       "74                        0                            0  \n",
       "\n",
       "[75 rows x 6 columns]"
      ]
     },
     "execution_count": 57,
     "metadata": {},
     "output_type": "execute_result"
    }
   ],
   "source": [
    "df_results_old"
   ]
  },
  {
   "cell_type": "code",
   "execution_count": 58,
   "id": "8e90c904",
   "metadata": {},
   "outputs": [
    {
     "data": {
      "text/plain": [
       "wilcoxon                        69.920000\n",
       "scGPT_rank (attn)               83.160000\n",
       "scGPT_rank (gene emb)          110.320000\n",
       "scGPT_rank (attn, mean)         70.506667\n",
       "scGPT_rank (gene emb, mean)     68.320000\n",
       "dtype: float64"
      ]
     },
     "execution_count": 58,
     "metadata": {},
     "output_type": "execute_result"
    }
   ],
   "source": [
    "df_results_old.mean()"
   ]
  },
  {
   "cell_type": "code",
   "execution_count": null,
   "id": "a8bbb29b",
   "metadata": {},
   "outputs": [],
   "source": []
  }
 ],
 "metadata": {
  "kernelspec": {
   "display_name": "Python 3 (ipykernel)",
   "language": "python",
   "name": "python3"
  },
  "language_info": {
   "codemirror_mode": {
    "name": "ipython",
    "version": 3
   },
   "file_extension": ".py",
   "mimetype": "text/x-python",
   "name": "python",
   "nbconvert_exporter": "python",
   "pygments_lexer": "ipython3",
   "version": "3.9.12"
  }
 },
 "nbformat": 4,
 "nbformat_minor": 5
}

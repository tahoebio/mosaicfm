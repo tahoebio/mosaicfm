{
 "cells": [
  {
   "cell_type": "code",
   "execution_count": 1,
   "id": "abafa220",
   "metadata": {},
   "outputs": [
    {
     "name": "stderr",
     "output_type": "stream",
     "text": [
      "/fs01/home/ahz/poetry_env/lib/python3.9/site-packages/scanpy/_settings.py:447: DeprecationWarning: `set_matplotlib_formats` is deprecated since IPython 7.23, directly use `matplotlib_inline.backend_inline.set_matplotlib_formats()`\n",
      "  IPython.display.set_matplotlib_formats(*ipython_format)\n"
     ]
    }
   ],
   "source": [
    "import copy\n",
    "import gc\n",
    "import json\n",
    "import os\n",
    "from pathlib import Path\n",
    "import sys\n",
    "import time\n",
    "import traceback\n",
    "from typing import List, Tuple, Dict, Union, Optional\n",
    "import warnings\n",
    "\n",
    "import torch\n",
    "from anndata import AnnData\n",
    "import scanpy as sc\n",
    "#import scvi\n",
    "import numpy as np\n",
    "import pandas as pd\n",
    "import wandb\n",
    "from scipy.sparse import issparse\n",
    "import matplotlib.pyplot as plt\n",
    "from torch import nn\n",
    "from torch.nn import functional as F\n",
    "from torch.utils.data import Dataset, DataLoader\n",
    "from sklearn.model_selection import train_test_split\n",
    "from torchtext.vocab import Vocab\n",
    "from torchtext._torchtext import (\n",
    "    Vocab as VocabPybind,\n",
    ")\n",
    "\n",
    "\n",
    "sys.path.insert(0, \"../\")\n",
    "#import scgpt as scg\n",
    "from scgpt.model import TransformerModel, AdversarialDiscriminator\n",
    "from scgpt.tokenizer import tokenize_and_pad_batch, random_mask_value\n",
    "from scgpt.tokenizer.gene_tokenizer import GeneVocab\n",
    "from scgpt.loss import (\n",
    "    masked_mse_loss,\n",
    "    masked_relative_error,\n",
    "    criterion_neg_log_bernoulli,\n",
    ")\n",
    "from scgpt.preprocess import Preprocessor\n",
    "from scgpt import SubsetsBatchSampler\n",
    "from scgpt.utils import set_seed, eval_scib_metrics, load_pretrained\n",
    "\n",
    "sc.set_figure_params(figsize=(4, 4))\n",
    "os.environ[\"KMP_WARNINGS\"] = \"off\"\n",
    "warnings.filterwarnings('ignore')"
   ]
  },
  {
   "cell_type": "code",
   "execution_count": 2,
   "id": "716574d1",
   "metadata": {},
   "outputs": [
    {
     "name": "stderr",
     "output_type": "stream",
     "text": [
      "\u001b[34m\u001b[1mwandb\u001b[0m: Currently logged in as: \u001b[33mandrewhz-zhang\u001b[0m. Use \u001b[1m`wandb login --relogin`\u001b[0m to force relogin\n"
     ]
    },
    {
     "data": {
      "text/html": [
       "wandb version 0.19.6 is available!  To upgrade, please run:\n",
       " $ pip install wandb --upgrade"
      ],
      "text/plain": [
       "<IPython.core.display.HTML object>"
      ]
     },
     "metadata": {},
     "output_type": "display_data"
    },
    {
     "data": {
      "text/html": [
       "Tracking run with wandb version 0.12.21"
      ],
      "text/plain": [
       "<IPython.core.display.HTML object>"
      ]
     },
     "metadata": {},
     "output_type": "display_data"
    },
    {
     "data": {
      "text/html": [
       "Run data is saved locally in <code>/fs01/home/ahz/mosaicfm/notebooks/wandb/run-20250213_003450-1zfp4y7j</code>"
      ],
      "text/plain": [
       "<IPython.core.display.HTML object>"
      ]
     },
     "metadata": {},
     "output_type": "display_data"
    },
    {
     "data": {
      "text/html": [
       "Syncing run <strong><a href=\"https://wandb.ai/andrewhz-zhang/scGPT/runs/1zfp4y7j\" target=\"_blank\">vocal-jazz-117</a></strong> to <a href=\"https://wandb.ai/andrewhz-zhang/scGPT\" target=\"_blank\">Weights & Biases</a> (<a href=\"https://wandb.me/run\" target=\"_blank\">docs</a>)<br/>"
      ],
      "text/plain": [
       "<IPython.core.display.HTML object>"
      ]
     },
     "metadata": {},
     "output_type": "display_data"
    },
    {
     "name": "stdout",
     "output_type": "stream",
     "text": [
      "{'seed': 42, 'dataset_name': 'fibro', 'do_train': True, 'load_model': '/scratch/ssd004/scratch/chloexq/scGPT_models/scGPT_human_model', 'model_name': 'best_model.pt', 'GEPC': True, 'ecs_thres': 0.8, 'dab_weight': 1.0, 'mask_ratio': 0.4, 'epochs': 15, 'n_bins': 51, 'lr': 0.0001, 'batch_size': 64, 'layer_size': 128, 'nlayers': 4, 'nhead': 4, 'dropout': 0.2, 'schedule_ratio': 0.9, 'save_eval_interval': 5, 'log_interval': 100, 'fast_transformer': True, 'pre_norm': False, 'amp': True}\n"
     ]
    }
   ],
   "source": [
    "hyperparameter_defaults = dict(\n",
    "    seed=42,\n",
    "    dataset_name=\"fibro\", # Dataset name\n",
    "    do_train=True, # Flag to indicate whether to do update model parameters during training\n",
    "    load_model=\"/scratch/ssd004/scratch/chloexq/scGPT_models/scGPT_human_model\",\n",
    "    model_name=\"best_model.pt\",\n",
    "    GEPC=True,  # Gene expression modelling for cell objective\n",
    "    ecs_thres=0.8,  # Elastic cell similarity objective, 0.0 to 1.0, 0.0 to disable\n",
    "    dab_weight=1.0, # DAR objective weight for batch correction\n",
    "    mask_ratio=0.4, # Default mask ratio\n",
    "    epochs=15, # Default number of epochs for fine-tuning\n",
    "    n_bins=51, # Default number of bins for value binning in data pre-processing\n",
    "    lr=1e-4, # Default learning rate for fine-tuning\n",
    "    batch_size=64, # Default batch size for fine-tuning\n",
    "    layer_size=128,\n",
    "    nlayers=4,\n",
    "    nhead=4, # if load model, batch_size, layer_size, nlayers, nhead will be ignored\n",
    "    dropout=0.2, # Default dropout rate during model fine-tuning\n",
    "    schedule_ratio=0.9,  # Default rate for learning rate decay\n",
    "    save_eval_interval=5, # Default model evaluation interval\n",
    "    log_interval=100, # Default log interval\n",
    "    fast_transformer=True, # Default setting\n",
    "    pre_norm=False, # Default setting\n",
    "    amp=True,  # # Default setting: Automatic Mixed Precision\n",
    ")\n",
    "run = wandb.init(\n",
    "    config=hyperparameter_defaults,\n",
    "    project=\"scGPT\",\n",
    "    reinit=True,\n",
    "    settings=wandb.Settings(start_method=\"fork\"),\n",
    ")\n",
    "config = wandb.config\n",
    "print(config)\n",
    "\n",
    "set_seed(config.seed)"
   ]
  },
  {
   "cell_type": "code",
   "execution_count": 3,
   "id": "40811ce3",
   "metadata": {},
   "outputs": [
    {
     "name": "stdout",
     "output_type": "stream",
     "text": [
      "save to /scratch/ssd004/scratch/ahz/perturb/dev_fibro-Feb13-00-34\n"
     ]
    }
   ],
   "source": [
    "from pathlib import Path\n",
    "# settings for input and preprocessing\n",
    "pad_token = \"<pad>\"\n",
    "special_tokens = [pad_token, \"<cls>\", \"<eoc>\"]\n",
    "mask_ratio = config.mask_ratio\n",
    "mask_value = -1\n",
    "pad_value = -2\n",
    "n_input_bins = config.n_bins\n",
    "\n",
    "n_hvg = 1200  # number of highly variable genes\n",
    "max_seq_len = n_hvg + 1\n",
    "per_seq_batch_sample = True\n",
    "DSBN = True  # Domain-spec batchnorm\n",
    "explicit_zero_prob = True  # whether explicit bernoulli for zeros\n",
    "\n",
    "dataset_name = config.dataset_name\n",
    "save_dir = Path(f\"/scratch/ssd004/scratch/ahz/perturb/dev_{dataset_name}-{time.strftime('%b%d-%H-%M')}/\")\n",
    "save_dir.mkdir(parents=True, exist_ok=True)\n",
    "print(f\"save to {save_dir}\")"
   ]
  },
  {
   "cell_type": "code",
   "execution_count": 4,
   "id": "f6a65666",
   "metadata": {},
   "outputs": [],
   "source": [
    "from pathlib import Path"
   ]
  },
  {
   "cell_type": "markdown",
   "id": "e21128b5",
   "metadata": {},
   "source": [
    "## Load and preprocess dataset\n",
    "\n",
    "####  ✅ Note\n",
    "Perturbation datasets can be found in this path: `/scratch/ssd004/scratch/chloexq/perturb_analysis/{dataset_name}` "
   ]
  },
  {
   "cell_type": "code",
   "execution_count": 5,
   "id": "8699653f",
   "metadata": {},
   "outputs": [],
   "source": [
    "data_dir = Path(\"/scratch/ssd004/scratch/chloexq/perturb_analysis\")\n",
    "adata = sc.read(data_dir / \"norman/perturb_processed.h5ad\")"
   ]
  },
  {
   "cell_type": "code",
   "execution_count": 6,
   "id": "7db641f0",
   "metadata": {},
   "outputs": [
    {
     "data": {
      "text/plain": [
       "AnnData object with n_obs × n_vars = 91205 × 5045\n",
       "    obs: 'condition', 'cell_type', 'dose_val', 'control', 'condition_name'\n",
       "    var: 'gene_name'\n",
       "    uns: 'non_dropout_gene_idx', 'non_zeros_gene_idx', 'rank_genes_groups_cov_all', 'top_non_dropout_de_20', 'top_non_zero_de_20'\n",
       "    layers: 'counts'"
      ]
     },
     "execution_count": 6,
     "metadata": {},
     "output_type": "execute_result"
    }
   ],
   "source": [
    "adata"
   ]
  },
  {
   "cell_type": "code",
   "execution_count": 7,
   "id": "3b57b59d",
   "metadata": {},
   "outputs": [],
   "source": [
    "adata.var.index = pd.Index(adata.var[\"gene_name\"])"
   ]
  },
  {
   "cell_type": "code",
   "execution_count": 8,
   "id": "338c15de",
   "metadata": {},
   "outputs": [
    {
     "data": {
      "text/plain": [
       "array(['AHR+FEV', 'AHR+KLF1', 'AHR+ctrl', 'ARID1A+ctrl', 'ARRDC3+ctrl',\n",
       "       'ATL1+ctrl', 'BAK1+ctrl', 'BCL2L11+BAK1', 'BCL2L11+TGFBR2',\n",
       "       'BCL2L11+ctrl', 'BCORL1+ctrl', 'BPGM+SAMD1', 'BPGM+ZBTB1',\n",
       "       'BPGM+ctrl', 'C19orf26+ctrl', 'C3orf72+FOXL2', 'C3orf72+ctrl',\n",
       "       'CBFA2T3+ctrl', 'CBL+CNN1', 'CBL+PTPN12', 'CBL+PTPN9',\n",
       "       'CBL+TGFBR2', 'CBL+UBASH3A', 'CBL+UBASH3B', 'CBL+ctrl',\n",
       "       'CDKN1A+ctrl', 'CDKN1B+CDKN1A', 'CDKN1B+ctrl', 'CDKN1C+CDKN1A',\n",
       "       'CDKN1C+CDKN1B', 'CDKN1C+ctrl', 'CEBPA+ctrl', 'CEBPB+CEBPA',\n",
       "       'CEBPB+MAPK1', 'CEBPB+OSR2', 'CEBPB+PTPN12', 'CEBPB+ctrl',\n",
       "       'CEBPE+CEBPA', 'CEBPE+CEBPB', 'CEBPE+CNN1', 'CEBPE+KLF1',\n",
       "       'CEBPE+PTPN12', 'CEBPE+RUNX1T1', 'CEBPE+SPI1', 'CEBPE+ctrl',\n",
       "       'CELF2+ctrl', 'CITED1+ctrl', 'CKS1B+ctrl', 'CLDN6+ctrl',\n",
       "       'CNN1+MAPK1', 'CNN1+UBASH3A', 'CNN1+ctrl', 'CNNM4+ctrl',\n",
       "       'COL1A1+ctrl', 'COL2A1+ctrl', 'CSRNP1+ctrl', 'DLX2+ctrl',\n",
       "       'DUSP9+ETS2', 'DUSP9+IGDCC3', 'DUSP9+KLF1', 'DUSP9+MAPK1',\n",
       "       'DUSP9+PRTG', 'DUSP9+SNAI1', 'DUSP9+ctrl', 'EGR1+ctrl',\n",
       "       'ELMSAN1+ctrl', 'ETS2+CEBPE', 'ETS2+CNN1', 'ETS2+IGDCC3',\n",
       "       'ETS2+IKZF3', 'ETS2+MAP7D1', 'ETS2+MAPK1', 'ETS2+PRTG',\n",
       "       'ETS2+ctrl', 'FEV+CBFA2T3', 'FEV+ISL2', 'FEV+MAP7D1', 'FEV+ctrl',\n",
       "       'FOSB+CEBPB', 'FOSB+CEBPE', 'FOSB+IKZF3', 'FOSB+OSR2',\n",
       "       'FOSB+PTPN12', 'FOSB+UBASH3B', 'FOSB+ctrl', 'FOXA1+FOXF1',\n",
       "       'FOXA1+FOXL2', 'FOXA1+HOXB9', 'FOXA1+ctrl', 'FOXA3+FOXA1',\n",
       "       'FOXA3+FOXF1', 'FOXA3+FOXL2', 'FOXA3+HOXB9', 'FOXA3+ctrl',\n",
       "       'FOXF1+FOXL2', 'FOXF1+HOXB9', 'FOXF1+ctrl', 'FOXL2+HOXB9',\n",
       "       'FOXL2+MEIS1', 'FOXL2+ctrl', 'FOXO4+ctrl', 'GLB1L2+ctrl',\n",
       "       'HES7+ctrl', 'HK2+ctrl', 'HNF4A+ctrl', 'HOXA13+ctrl', 'HOXB9+ctrl',\n",
       "       'HOXC13+ctrl', 'IER5L+ctrl', 'IGDCC3+MAPK1', 'IGDCC3+PRTG',\n",
       "       'IGDCC3+ZBTB25', 'IGDCC3+ctrl', 'IKZF3+ctrl', 'IRF1+SET',\n",
       "       'IRF1+ctrl', 'ISL2+ctrl', 'JUN+CEBPA', 'JUN+CEBPB', 'JUN+ctrl',\n",
       "       'KIAA1804+ctrl', 'KIF18B+KIF2C', 'KIF18B+ctrl', 'KIF2C+ctrl',\n",
       "       'KLF1+BAK1', 'KLF1+CEBPA', 'KLF1+CLDN6', 'KLF1+COL2A1',\n",
       "       'KLF1+FOXA1', 'KLF1+MAP2K6', 'KLF1+TGFBR2', 'KLF1+ctrl',\n",
       "       'KMT2A+ctrl', 'LHX1+ELMSAN1', 'LHX1+ctrl', 'LYL1+CEBPB',\n",
       "       'LYL1+IER5L', 'LYL1+ctrl', 'MAML2+ctrl', 'MAP2K3+ELMSAN1',\n",
       "       'MAP2K3+IKZF3', 'MAP2K3+MAP2K6', 'MAP2K3+SLC38A2', 'MAP2K3+ctrl',\n",
       "       'MAP2K6+ELMSAN1', 'MAP2K6+IKZF3', 'MAP2K6+SPI1', 'MAP2K6+ctrl',\n",
       "       'MAP4K3+ctrl', 'MAP4K5+ctrl', 'MAP7D1+ctrl', 'MAPK1+IKZF3',\n",
       "       'MAPK1+PRTG', 'MAPK1+TGFBR2', 'MAPK1+ctrl', 'MEIS1+ctrl',\n",
       "       'MIDN+ctrl', 'NCL+ctrl', 'NIT1+ctrl', 'OSR2+ctrl', 'PLK4+STIL',\n",
       "       'PLK4+ctrl', 'POU3F2+CBFA2T3', 'POU3F2+FOXL2', 'POU3F2+ctrl',\n",
       "       'PRDM1+CBFA2T3', 'PRDM1+ctrl', 'PRTG+ctrl', 'PTPN1+ctrl',\n",
       "       'PTPN12+OSR2', 'PTPN12+PTPN9', 'PTPN12+SNAI1', 'PTPN12+UBASH3A',\n",
       "       'PTPN12+ZBTB25', 'PTPN12+ctrl', 'PTPN13+ctrl', 'PTPN9+ctrl',\n",
       "       'RHOXF2BB+SET', 'RHOXF2BB+ZBTB25', 'RHOXF2BB+ctrl', 'RREB1+ctrl',\n",
       "       'RUNX1T1+ctrl', 'S1PR2+ctrl', 'SAMD1+PTPN12', 'SAMD1+TGFBR2',\n",
       "       'SAMD1+UBASH3B', 'SAMD1+ZBTB1', 'SAMD1+ctrl', 'SET+CEBPE',\n",
       "       'SET+KLF1', 'SET+ctrl', 'SGK1+S1PR2', 'SGK1+TBX2', 'SGK1+TBX3',\n",
       "       'SGK1+ctrl', 'SLC4A1+ctrl', 'SLC6A9+ctrl', 'SNAI1+DLX2',\n",
       "       'SNAI1+UBASH3B', 'SNAI1+ctrl', 'SPI1+ctrl', 'STIL+ctrl',\n",
       "       'TBX2+ctrl', 'TBX3+TBX2', 'TBX3+ctrl', 'TGFBR2+C19orf26',\n",
       "       'TGFBR2+ETS2', 'TGFBR2+IGDCC3', 'TGFBR2+PRTG', 'TGFBR2+ctrl',\n",
       "       'TMSB4X+BAK1', 'TMSB4X+ctrl', 'TP73+ctrl', 'TSC22D1+ctrl',\n",
       "       'UBASH3A+ctrl', 'UBASH3B+CNN1', 'UBASH3B+OSR2', 'UBASH3B+PTPN12',\n",
       "       'UBASH3B+PTPN9', 'UBASH3B+UBASH3A', 'UBASH3B+ZBTB25',\n",
       "       'UBASH3B+ctrl', 'ZBTB1+ctrl', 'ZBTB10+DLX2', 'ZBTB10+ELMSAN1',\n",
       "       'ZBTB10+PTPN12', 'ZBTB10+SNAI1', 'ZBTB10+ctrl', 'ZBTB25+ctrl',\n",
       "       'ZC3HAV1+CEBPA', 'ZC3HAV1+CEBPE', 'ZC3HAV1+HOXC13', 'ZC3HAV1+ctrl',\n",
       "       'ZNF318+FOXL2', 'ZNF318+ctrl', 'ctrl', 'ctrl+BAK1',\n",
       "       'ctrl+C19orf26', 'ctrl+CBFA2T3', 'ctrl+CDKN1A', 'ctrl+CDKN1B',\n",
       "       'ctrl+CEBPA', 'ctrl+CEBPB', 'ctrl+CEBPE', 'ctrl+CLDN6',\n",
       "       'ctrl+CNN1', 'ctrl+COL2A1', 'ctrl+DLX2', 'ctrl+ELMSAN1',\n",
       "       'ctrl+ETS2', 'ctrl+FEV', 'ctrl+FOXA1', 'ctrl+FOXF1', 'ctrl+FOXL2',\n",
       "       'ctrl+HOXB9', 'ctrl+HOXC13', 'ctrl+IER5L', 'ctrl+IGDCC3',\n",
       "       'ctrl+IKZF3', 'ctrl+ISL2', 'ctrl+KIF2C', 'ctrl+KLF1',\n",
       "       'ctrl+MAP2K6', 'ctrl+MAP7D1', 'ctrl+MAPK1', 'ctrl+MEIS1',\n",
       "       'ctrl+OSR2', 'ctrl+PRTG', 'ctrl+PTPN12', 'ctrl+PTPN9',\n",
       "       'ctrl+RUNX1T1', 'ctrl+SAMD1', 'ctrl+SET', 'ctrl+SLC38A2',\n",
       "       'ctrl+SNAI1', 'ctrl+SPI1', 'ctrl+STIL', 'ctrl+TBX2', 'ctrl+TBX3',\n",
       "       'ctrl+TGFBR2', 'ctrl+UBASH3A', 'ctrl+UBASH3B', 'ctrl+ZBTB1',\n",
       "       'ctrl+ZBTB25'], dtype=object)"
      ]
     },
     "execution_count": 8,
     "metadata": {},
     "output_type": "execute_result"
    }
   ],
   "source": [
    "np.unique(adata.obs.condition.values)"
   ]
  },
  {
   "cell_type": "code",
   "execution_count": 9,
   "id": "e544bacd",
   "metadata": {},
   "outputs": [
    {
     "data": {
      "text/plain": [
       "284"
      ]
     },
     "execution_count": 9,
     "metadata": {},
     "output_type": "execute_result"
    }
   ],
   "source": [
    "len(np.unique(adata.obs.condition.values))"
   ]
  },
  {
   "cell_type": "code",
   "execution_count": 10,
   "id": "1338d233",
   "metadata": {},
   "outputs": [
    {
     "name": "stdout",
     "output_type": "stream",
     "text": [
      "['AHR+ctrl', 'ARID1A+ctrl', 'ARRDC3+ctrl', 'ATL1+ctrl', 'BAK1+ctrl', 'BCL2L11+ctrl', 'BCORL1+ctrl', 'BPGM+ctrl', 'C19orf26+ctrl', 'C3orf72+ctrl', 'CBFA2T3+ctrl', 'CBL+ctrl', 'CDKN1A+ctrl', 'CDKN1B+ctrl', 'CDKN1C+ctrl', 'CEBPA+ctrl', 'CEBPB+ctrl', 'CEBPE+ctrl', 'CELF2+ctrl', 'CITED1+ctrl', 'CKS1B+ctrl', 'CLDN6+ctrl', 'CNN1+ctrl', 'CNNM4+ctrl', 'COL1A1+ctrl', 'COL2A1+ctrl', 'CSRNP1+ctrl', 'DLX2+ctrl', 'DUSP9+ctrl', 'EGR1+ctrl', 'ELMSAN1+ctrl', 'ETS2+ctrl', 'FEV+ctrl', 'FOSB+ctrl', 'FOXA1+ctrl', 'FOXA3+ctrl', 'FOXF1+ctrl', 'FOXL2+ctrl', 'FOXO4+ctrl', 'GLB1L2+ctrl', 'HES7+ctrl', 'HK2+ctrl', 'HNF4A+ctrl', 'HOXA13+ctrl', 'HOXB9+ctrl', 'HOXC13+ctrl', 'IER5L+ctrl', 'IGDCC3+ctrl', 'IKZF3+ctrl', 'IRF1+ctrl', 'ISL2+ctrl', 'JUN+ctrl', 'KIAA1804+ctrl', 'KIF18B+ctrl', 'KIF2C+ctrl', 'KLF1+ctrl', 'KMT2A+ctrl', 'LHX1+ctrl', 'LYL1+ctrl', 'MAML2+ctrl', 'MAP2K3+ctrl', 'MAP2K6+ctrl', 'MAP4K3+ctrl', 'MAP4K5+ctrl', 'MAP7D1+ctrl', 'MAPK1+ctrl', 'MEIS1+ctrl', 'MIDN+ctrl', 'NCL+ctrl', 'NIT1+ctrl', 'OSR2+ctrl', 'PLK4+ctrl', 'POU3F2+ctrl', 'PRDM1+ctrl', 'PRTG+ctrl', 'PTPN1+ctrl', 'PTPN12+ctrl', 'PTPN13+ctrl', 'PTPN9+ctrl', 'RHOXF2BB+ctrl', 'RREB1+ctrl', 'RUNX1T1+ctrl', 'S1PR2+ctrl', 'SAMD1+ctrl', 'SET+ctrl', 'SGK1+ctrl', 'SLC4A1+ctrl', 'SLC6A9+ctrl', 'SNAI1+ctrl', 'SPI1+ctrl', 'STIL+ctrl', 'TBX2+ctrl', 'TBX3+ctrl', 'TGFBR2+ctrl', 'TMSB4X+ctrl', 'TP73+ctrl', 'TSC22D1+ctrl', 'UBASH3A+ctrl', 'UBASH3B+ctrl', 'ZBTB1+ctrl', 'ZBTB10+ctrl', 'ZBTB25+ctrl', 'ZC3HAV1+ctrl', 'ZNF318+ctrl', 'ctrl', 'ctrl+BAK1', 'ctrl+C19orf26', 'ctrl+CBFA2T3', 'ctrl+CDKN1A', 'ctrl+CDKN1B', 'ctrl+CEBPA', 'ctrl+CEBPB', 'ctrl+CEBPE', 'ctrl+CLDN6', 'ctrl+CNN1', 'ctrl+COL2A1', 'ctrl+DLX2', 'ctrl+ELMSAN1', 'ctrl+ETS2', 'ctrl+FEV', 'ctrl+FOXA1', 'ctrl+FOXF1', 'ctrl+FOXL2', 'ctrl+HOXB9', 'ctrl+HOXC13', 'ctrl+IER5L', 'ctrl+IGDCC3', 'ctrl+IKZF3', 'ctrl+ISL2', 'ctrl+KIF2C', 'ctrl+KLF1', 'ctrl+MAP2K6', 'ctrl+MAP7D1', 'ctrl+MAPK1', 'ctrl+MEIS1', 'ctrl+OSR2', 'ctrl+PRTG', 'ctrl+PTPN12', 'ctrl+PTPN9', 'ctrl+RUNX1T1', 'ctrl+SAMD1', 'ctrl+SET', 'ctrl+SLC38A2', 'ctrl+SNAI1', 'ctrl+SPI1', 'ctrl+STIL', 'ctrl+TBX2', 'ctrl+TBX3', 'ctrl+TGFBR2', 'ctrl+UBASH3A', 'ctrl+UBASH3B', 'ctrl+ZBTB1', 'ctrl+ZBTB25'] 153\n"
     ]
    }
   ],
   "source": [
    "single_gene_filter = [i for i in np.unique(adata.obs.condition.values) if not ('+' in i and 'ctrl' not in i)]\n",
    "print(single_gene_filter, len(single_gene_filter))"
   ]
  },
  {
   "cell_type": "code",
   "execution_count": 11,
   "id": "0af595f4",
   "metadata": {},
   "outputs": [],
   "source": [
    "adata = adata[adata.obs.condition.isin(single_gene_filter)].copy()"
   ]
  },
  {
   "cell_type": "code",
   "execution_count": 12,
   "id": "9a7601f9",
   "metadata": {},
   "outputs": [
    {
     "data": {
      "text/plain": [
       "AnnData object with n_obs × n_vars = 55760 × 5045\n",
       "    obs: 'condition', 'cell_type', 'dose_val', 'control', 'condition_name'\n",
       "    var: 'gene_name'\n",
       "    uns: 'non_dropout_gene_idx', 'non_zeros_gene_idx', 'rank_genes_groups_cov_all', 'top_non_dropout_de_20', 'top_non_zero_de_20'\n",
       "    layers: 'counts'"
      ]
     },
     "execution_count": 12,
     "metadata": {},
     "output_type": "execute_result"
    }
   ],
   "source": [
    "adata"
   ]
  },
  {
   "cell_type": "code",
   "execution_count": 13,
   "id": "12a8b044",
   "metadata": {},
   "outputs": [],
   "source": [
    "# TODO: Update condition names "
   ]
  },
  {
   "cell_type": "code",
   "execution_count": 14,
   "id": "a9e80ce2",
   "metadata": {},
   "outputs": [],
   "source": [
    "ori_batch_col = \"control\"\n",
    "adata.obs[\"celltype\"] = adata.obs[\"condition\"].astype(\"category\")\n",
    "adata.obs[\"str_batch\"] = adata.obs[\"control\"].astype(str)\n",
    "data_is_raw = False"
   ]
  },
  {
   "cell_type": "code",
   "execution_count": 15,
   "id": "73e74c83",
   "metadata": {},
   "outputs": [
    {
     "name": "stdout",
     "output_type": "stream",
     "text": [
      "match 4547/5045 genes in vocabulary of size 60697.\n",
      "Resume model from /scratch/ssd004/scratch/chloexq/scGPT_models/scGPT_human_model/best_model.pt, the model args will be overriden by the config /scratch/ssd004/scratch/chloexq/scGPT_models/scGPT_human_model/args.json.\n"
     ]
    }
   ],
   "source": [
    "if config.load_model is not None:\n",
    "    model_dir = Path(config.load_model)\n",
    "    model_config_file = model_dir / \"args.json\"\n",
    "    model_file = model_dir / config.model_name\n",
    "    vocab_file = model_dir / \"vocab.json\"\n",
    "\n",
    "    vocab = GeneVocab.from_file(vocab_file)\n",
    "    for s in special_tokens:\n",
    "        if s not in vocab:\n",
    "            vocab.append_token(s)\n",
    "\n",
    "    adata.var[\"id_in_vocab\"] = [\n",
    "        1 if gene in vocab else -1 for gene in adata.var[\"gene_name\"]\n",
    "    ]\n",
    "    gene_ids_in_vocab = np.array(adata.var[\"id_in_vocab\"])\n",
    "    print(\n",
    "        f\"match {np.sum(gene_ids_in_vocab >= 0)}/{len(gene_ids_in_vocab)} genes \"\n",
    "        f\"in vocabulary of size {len(vocab)}.\"\n",
    "    )\n",
    "    adata = adata[:, adata.var[\"id_in_vocab\"] >= 0]\n",
    "    \n",
    "    # model\n",
    "    with open(model_config_file, \"r\") as f:\n",
    "        model_configs = json.load(f)\n",
    "    print(\n",
    "        f\"Resume model from {model_file}, the model args will be overriden by the \"\n",
    "        f\"config {model_config_file}.\"\n",
    "    )\n",
    "    embsize = model_configs[\"embsize\"]\n",
    "    nhead = model_configs[\"nheads\"]\n",
    "    d_hid = model_configs[\"d_hid\"]\n",
    "    nlayers = model_configs[\"nlayers\"]\n",
    "    n_layers_cls = model_configs[\"n_layers_cls\"]\n",
    "else:\n",
    "    embsize = config.layer_size \n",
    "    nhead = config.nhead\n",
    "    nlayers = config.nlayers  \n",
    "    d_hid = config.layer_size"
   ]
  },
  {
   "cell_type": "code",
   "execution_count": 16,
   "id": "8e69a49d",
   "metadata": {},
   "outputs": [],
   "source": [
    "gene_names_set = [i + '+ctrl' for i in adata.var.gene_name.values]\n",
    "gene_names_set = gene_names_set + ['ctrl']"
   ]
  },
  {
   "cell_type": "markdown",
   "id": "6933d35f",
   "metadata": {},
   "source": [
    "####  ✅ Note\n",
    "This experiment is computationally expensive, so we select 1000 cells per perturbation condition."
   ]
  },
  {
   "cell_type": "code",
   "execution_count": 17,
   "id": "1185ae66",
   "metadata": {
    "scrolled": true
   },
   "outputs": [
    {
     "data": {
      "text/html": [
       "<div>\n",
       "<style scoped>\n",
       "    .dataframe tbody tr th:only-of-type {\n",
       "        vertical-align: middle;\n",
       "    }\n",
       "\n",
       "    .dataframe tbody tr th {\n",
       "        vertical-align: top;\n",
       "    }\n",
       "\n",
       "    .dataframe thead th {\n",
       "        text-align: right;\n",
       "    }\n",
       "</style>\n",
       "<table border=\"1\" class=\"dataframe\">\n",
       "  <thead>\n",
       "    <tr style=\"text-align: right;\">\n",
       "      <th></th>\n",
       "      <th>cell_type</th>\n",
       "      <th>dose_val</th>\n",
       "      <th>control</th>\n",
       "      <th>condition_name</th>\n",
       "      <th>celltype</th>\n",
       "      <th>str_batch</th>\n",
       "    </tr>\n",
       "    <tr>\n",
       "      <th>condition</th>\n",
       "      <th></th>\n",
       "      <th></th>\n",
       "      <th></th>\n",
       "      <th></th>\n",
       "      <th></th>\n",
       "      <th></th>\n",
       "    </tr>\n",
       "  </thead>\n",
       "  <tbody>\n",
       "    <tr>\n",
       "      <th>AHR+ctrl</th>\n",
       "      <td>479</td>\n",
       "      <td>479</td>\n",
       "      <td>479</td>\n",
       "      <td>479</td>\n",
       "      <td>479</td>\n",
       "      <td>479</td>\n",
       "    </tr>\n",
       "    <tr>\n",
       "      <th>ARID1A+ctrl</th>\n",
       "      <td>182</td>\n",
       "      <td>182</td>\n",
       "      <td>182</td>\n",
       "      <td>182</td>\n",
       "      <td>182</td>\n",
       "      <td>182</td>\n",
       "    </tr>\n",
       "    <tr>\n",
       "      <th>ARRDC3+ctrl</th>\n",
       "      <td>405</td>\n",
       "      <td>405</td>\n",
       "      <td>405</td>\n",
       "      <td>405</td>\n",
       "      <td>405</td>\n",
       "      <td>405</td>\n",
       "    </tr>\n",
       "    <tr>\n",
       "      <th>ATL1+ctrl</th>\n",
       "      <td>305</td>\n",
       "      <td>305</td>\n",
       "      <td>305</td>\n",
       "      <td>305</td>\n",
       "      <td>305</td>\n",
       "      <td>305</td>\n",
       "    </tr>\n",
       "    <tr>\n",
       "      <th>BAK1+ctrl</th>\n",
       "      <td>534</td>\n",
       "      <td>534</td>\n",
       "      <td>534</td>\n",
       "      <td>534</td>\n",
       "      <td>534</td>\n",
       "      <td>534</td>\n",
       "    </tr>\n",
       "    <tr>\n",
       "      <th>...</th>\n",
       "      <td>...</td>\n",
       "      <td>...</td>\n",
       "      <td>...</td>\n",
       "      <td>...</td>\n",
       "      <td>...</td>\n",
       "      <td>...</td>\n",
       "    </tr>\n",
       "    <tr>\n",
       "      <th>ZBTB1+ctrl</th>\n",
       "      <td>315</td>\n",
       "      <td>315</td>\n",
       "      <td>315</td>\n",
       "      <td>315</td>\n",
       "      <td>315</td>\n",
       "      <td>315</td>\n",
       "    </tr>\n",
       "    <tr>\n",
       "      <th>ZBTB10+ctrl</th>\n",
       "      <td>145</td>\n",
       "      <td>145</td>\n",
       "      <td>145</td>\n",
       "      <td>145</td>\n",
       "      <td>145</td>\n",
       "      <td>145</td>\n",
       "    </tr>\n",
       "    <tr>\n",
       "      <th>ZBTB25+ctrl</th>\n",
       "      <td>343</td>\n",
       "      <td>343</td>\n",
       "      <td>343</td>\n",
       "      <td>343</td>\n",
       "      <td>343</td>\n",
       "      <td>343</td>\n",
       "    </tr>\n",
       "    <tr>\n",
       "      <th>ZC3HAV1+ctrl</th>\n",
       "      <td>436</td>\n",
       "      <td>436</td>\n",
       "      <td>436</td>\n",
       "      <td>436</td>\n",
       "      <td>436</td>\n",
       "      <td>436</td>\n",
       "    </tr>\n",
       "    <tr>\n",
       "      <th>ZNF318+ctrl</th>\n",
       "      <td>541</td>\n",
       "      <td>541</td>\n",
       "      <td>541</td>\n",
       "      <td>541</td>\n",
       "      <td>541</td>\n",
       "      <td>541</td>\n",
       "    </tr>\n",
       "  </tbody>\n",
       "</table>\n",
       "<p>100 rows × 6 columns</p>\n",
       "</div>"
      ],
      "text/plain": [
       "              cell_type  dose_val  control  condition_name  celltype  \\\n",
       "condition                                                              \n",
       "AHR+ctrl            479       479      479             479       479   \n",
       "ARID1A+ctrl         182       182      182             182       182   \n",
       "ARRDC3+ctrl         405       405      405             405       405   \n",
       "ATL1+ctrl           305       305      305             305       305   \n",
       "BAK1+ctrl           534       534      534             534       534   \n",
       "...                 ...       ...      ...             ...       ...   \n",
       "ZBTB1+ctrl          315       315      315             315       315   \n",
       "ZBTB10+ctrl         145       145      145             145       145   \n",
       "ZBTB25+ctrl         343       343      343             343       343   \n",
       "ZC3HAV1+ctrl        436       436      436             436       436   \n",
       "ZNF318+ctrl         541       541      541             541       541   \n",
       "\n",
       "              str_batch  \n",
       "condition                \n",
       "AHR+ctrl            479  \n",
       "ARID1A+ctrl         182  \n",
       "ARRDC3+ctrl         405  \n",
       "ATL1+ctrl           305  \n",
       "BAK1+ctrl           534  \n",
       "...                 ...  \n",
       "ZBTB1+ctrl          315  \n",
       "ZBTB10+ctrl         145  \n",
       "ZBTB25+ctrl         343  \n",
       "ZC3HAV1+ctrl        436  \n",
       "ZNF318+ctrl         541  \n",
       "\n",
       "[100 rows x 6 columns]"
      ]
     },
     "execution_count": 17,
     "metadata": {},
     "output_type": "execute_result"
    }
   ],
   "source": [
    "# Cap all conditions to 1000 cells\n",
    "sampled_df = (\n",
    "    adata.obs[adata.obs['condition'].isin(gene_names_set)]\n",
    "    .groupby('condition', group_keys=False)\n",
    "    .apply(lambda x: x.sample(min(len(x), 1000), random_state=42))\n",
    ")\n",
    "adata = adata[sampled_df.index].copy()\n",
    "adata.obs.groupby('condition').count()"
   ]
  },
  {
   "cell_type": "code",
   "execution_count": 18,
   "id": "7f2e8155",
   "metadata": {},
   "outputs": [
    {
     "data": {
      "text/html": [
       "<div>\n",
       "<style scoped>\n",
       "    .dataframe tbody tr th:only-of-type {\n",
       "        vertical-align: middle;\n",
       "    }\n",
       "\n",
       "    .dataframe tbody tr th {\n",
       "        vertical-align: top;\n",
       "    }\n",
       "\n",
       "    .dataframe thead th {\n",
       "        text-align: right;\n",
       "    }\n",
       "</style>\n",
       "<table border=\"1\" class=\"dataframe\">\n",
       "  <thead>\n",
       "    <tr style=\"text-align: right;\">\n",
       "      <th></th>\n",
       "      <th>cell_type</th>\n",
       "      <th>dose_val</th>\n",
       "      <th>control</th>\n",
       "      <th>condition_name</th>\n",
       "      <th>celltype</th>\n",
       "      <th>str_batch</th>\n",
       "    </tr>\n",
       "    <tr>\n",
       "      <th>condition</th>\n",
       "      <th></th>\n",
       "      <th></th>\n",
       "      <th></th>\n",
       "      <th></th>\n",
       "      <th></th>\n",
       "      <th></th>\n",
       "    </tr>\n",
       "  </thead>\n",
       "  <tbody>\n",
       "    <tr>\n",
       "      <th>ctrl</th>\n",
       "      <td>1000.0</td>\n",
       "      <td>1000.0</td>\n",
       "      <td>1000.0</td>\n",
       "      <td>1000.0</td>\n",
       "      <td>1000.0</td>\n",
       "      <td>1000.0</td>\n",
       "    </tr>\n",
       "  </tbody>\n",
       "</table>\n",
       "</div>"
      ],
      "text/plain": [
       "           cell_type  dose_val  control  condition_name  celltype  str_batch\n",
       "condition                                                                   \n",
       "ctrl          1000.0    1000.0   1000.0          1000.0    1000.0     1000.0"
      ]
     },
     "execution_count": 18,
     "metadata": {},
     "output_type": "execute_result"
    }
   ],
   "source": [
    "# 5 conditions are capped, including ctrl\n",
    "condition_counts = adata.obs.groupby('condition').count()\n",
    "condition_counts[condition_counts == 1000].dropna()"
   ]
  },
  {
   "cell_type": "code",
   "execution_count": 19,
   "id": "926217f6",
   "metadata": {},
   "outputs": [],
   "source": [
    "condition_names = set(adata.obs.condition.tolist())"
   ]
  },
  {
   "cell_type": "code",
   "execution_count": 20,
   "id": "20cf69bb",
   "metadata": {},
   "outputs": [],
   "source": [
    "condition_names.remove('ctrl')"
   ]
  },
  {
   "cell_type": "code",
   "execution_count": 21,
   "id": "b9982e8d",
   "metadata": {},
   "outputs": [],
   "source": [
    "condition_names_gene = [i.split('+')[0] for i in list(condition_names)]"
   ]
  },
  {
   "cell_type": "code",
   "execution_count": 22,
   "id": "da55a91e",
   "metadata": {},
   "outputs": [],
   "source": [
    "condition_names_gene.sort()"
   ]
  },
  {
   "cell_type": "markdown",
   "id": "6f72c6da",
   "metadata": {},
   "source": [
    "####  ✅ Note\n",
    "HVGs selection will filter out some perturbed genes. We manually add them back in the experiment."
   ]
  },
  {
   "cell_type": "code",
   "execution_count": 23,
   "id": "b5874e86",
   "metadata": {},
   "outputs": [
    {
     "name": "stdout",
     "output_type": "stream",
     "text": [
      "scGPT - INFO - Filtering genes by counts ...\n"
     ]
    }
   ],
   "source": [
    "# Do filtering\n",
    "preprocessor = Preprocessor(\n",
    "    use_key=\"X\",  # the key in adata.layers to use as raw data\n",
    "    filter_gene_by_counts=3,  # step 1\n",
    "    filter_cell_by_counts=None,  # step 2\n",
    "    normalize_total=None,  # 3. whether to normalize the raw data and to what sum\n",
    "    result_normed_key=\"X_normed\",  # the key in adata.layers to store the normalized data\n",
    "    log1p=False,  # 4. whether to log1p the normalized data\n",
    "    result_log1p_key=\"X_log1p\",\n",
    "    subset_hvg=None,  # 5. whether to subset the raw data to highly variable genes\n",
    "    hvg_flavor=\"seurat_v3\" if data_is_raw else \"cell_ranger\",\n",
    "    #binning=config.n_bins,  # 6. whether to bin the raw data and to what number of bins\n",
    "    #result_binned_key=\"X_binned\",  # the key in adata.layers to store the binned data\n",
    ")\n",
    "preprocessor(adata, batch_key=None)"
   ]
  },
  {
   "cell_type": "code",
   "execution_count": 24,
   "id": "4100ff1d",
   "metadata": {},
   "outputs": [],
   "source": [
    "sc.pp.highly_variable_genes(\n",
    "    adata,\n",
    "    layer=None,\n",
    "    n_top_genes=1200,\n",
    "    flavor=\"seurat_v3\" if data_is_raw else \"cell_ranger\",\n",
    "    subset=False,\n",
    ")"
   ]
  },
  {
   "cell_type": "code",
   "execution_count": 25,
   "id": "f73f0159",
   "metadata": {},
   "outputs": [],
   "source": [
    "add_counter = 0\n",
    "for g in condition_names_gene:\n",
    "    if not adata.var.loc[adata.var[adata.var.gene_name==g].index, 'highly_variable'].values[0]:\n",
    "        adata.var.loc[adata.var[adata.var.gene_name==g].index, 'highly_variable'] = True\n",
    "        add_counter += 1"
   ]
  },
  {
   "cell_type": "code",
   "execution_count": 26,
   "id": "f0196dd6",
   "metadata": {},
   "outputs": [
    {
     "name": "stdout",
     "output_type": "stream",
     "text": [
      "Manually add conditions: 67, 0.6767676767676768\n"
     ]
    }
   ],
   "source": [
    "print('Manually add conditions: {}, {}'.format(add_counter, add_counter/len(condition_names_gene)))"
   ]
  },
  {
   "cell_type": "code",
   "execution_count": 27,
   "id": "1a644f28",
   "metadata": {},
   "outputs": [
    {
     "name": "stdout",
     "output_type": "stream",
     "text": [
      "scGPT - INFO - Binning data ...\n"
     ]
    }
   ],
   "source": [
    "# This step for binning\n",
    "preprocessor = Preprocessor(\n",
    "    use_key=\"X\",  # the key in adata.layers to use as raw data\n",
    "    filter_gene_by_counts=0,  # step 1\n",
    "    filter_cell_by_counts=None,  # step 2\n",
    "    normalize_total=None,  # 3. whether to normalize the raw data and to what sum\n",
    "    result_normed_key=\"X_normed\",  # the key in adata.layers to store the normalized data\n",
    "    log1p=False,  # 4. whether to log1p the normalized data\n",
    "    result_log1p_key=\"X_log1p\",\n",
    "    subset_hvg=None,  # 5. whether to subset the raw data to highly variable genes\n",
    "    hvg_flavor=\"seurat_v3\" if data_is_raw else \"cell_ranger\",\n",
    "    binning=config.n_bins,  # 6. whether to bin the raw data and to what number of bins\n",
    "    result_binned_key=\"X_binned\",  # the key in adata.layers to store the binned data\n",
    ")\n",
    "preprocessor(adata, batch_key=None)"
   ]
  },
  {
   "cell_type": "code",
   "execution_count": 28,
   "id": "dab55acf",
   "metadata": {},
   "outputs": [
    {
     "name": "stdout",
     "output_type": "stream",
     "text": [
      "AnnData object with n_obs × n_vars = 33059 × 1267\n",
      "    obs: 'condition', 'cell_type', 'dose_val', 'control', 'condition_name', 'celltype', 'str_batch'\n",
      "    var: 'gene_name', 'id_in_vocab', 'n_counts', 'highly_variable', 'means', 'dispersions', 'dispersions_norm'\n",
      "    uns: 'non_dropout_gene_idx', 'non_zeros_gene_idx', 'rank_genes_groups_cov_all', 'top_non_dropout_de_20', 'top_non_zero_de_20', 'hvg'\n",
      "    obsm: 'bin_edges'\n",
      "    layers: 'counts', 'X_binned'\n"
     ]
    }
   ],
   "source": [
    "adata = adata[:, adata.var[\"highly_variable\"]].copy()\n",
    "print(adata)"
   ]
  },
  {
   "cell_type": "markdown",
   "id": "5526d709",
   "metadata": {},
   "source": [
    "#### 🔵 Optional\n",
    "Create another randomly shuffled list of `condition_names_gene_match` as control, if running the control experiment. \n",
    "Note that there are many ways to construct the control list, either from perturbation targets or random from all genes."
   ]
  },
  {
   "cell_type": "code",
   "execution_count": 29,
   "id": "a3c8e01d",
   "metadata": {},
   "outputs": [],
   "source": [
    "# Here is an example of randomly shuffle perturbation targets\n",
    "import random\n",
    "random.seed(42)\n",
    "condition_names_gene_match = condition_names_gene.copy()\n",
    "random.shuffle(condition_names_gene_match)"
   ]
  },
  {
   "cell_type": "code",
   "execution_count": 30,
   "id": "9f5baedd",
   "metadata": {},
   "outputs": [],
   "source": [
    "# Here is an example of using non-targets\n",
    "# This is the most recent version\n",
    "genes = adata.var[\"gene_name\"].tolist()\n",
    "non_targets = list(set(genes).difference(set(condition_names_gene)))\n",
    "non_targets.sort()\n",
    "random.seed(42)\n",
    "random.shuffle(non_targets)\n",
    "non_targets\n",
    "condition_names_gene_match = non_targets[:len(condition_names_gene)]"
   ]
  },
  {
   "cell_type": "code",
   "execution_count": 31,
   "id": "5b2320a5",
   "metadata": {},
   "outputs": [
    {
     "name": "stdout",
     "output_type": "stream",
     "text": [
      "['AHR', 'ARID1A', 'ARRDC3', 'ATL1', 'BAK1', 'BCL2L11', 'BCORL1', 'BPGM', 'CBFA2T3', 'CBL', 'CDKN1A', 'CDKN1B', 'CDKN1C', 'CEBPA', 'CEBPB', 'CEBPE', 'CELF2', 'CITED1', 'CKS1B', 'CLDN6', 'CNN1', 'CNNM4', 'COL1A1', 'COL2A1', 'CSRNP1', 'DLX2', 'DUSP9', 'EGR1', 'ETS2', 'FEV', 'FOSB', 'FOXA1', 'FOXA3', 'FOXF1', 'FOXL2', 'FOXO4', 'GLB1L2', 'HES7', 'HK2', 'HNF4A', 'HOXA13', 'HOXB9', 'HOXC13', 'IER5L', 'IGDCC3', 'IKZF3', 'IRF1', 'ISL2', 'JUN', 'KIF18B', 'KIF2C', 'KLF1', 'KMT2A', 'LHX1', 'LYL1', 'MAML2', 'MAP2K3', 'MAP2K6', 'MAP4K3', 'MAP4K5', 'MAP7D1', 'MAPK1', 'MEIS1', 'MIDN', 'NCL', 'NIT1', 'OSR2', 'PLK4', 'POU3F2', 'PRDM1', 'PRTG', 'PTPN1', 'PTPN12', 'PTPN13', 'PTPN9', 'RREB1', 'RUNX1T1', 'S1PR2', 'SAMD1', 'SET', 'SGK1', 'SLC4A1', 'SLC6A9', 'SNAI1', 'SPI1', 'STIL', 'TBX2', 'TBX3', 'TGFBR2', 'TMSB4X', 'TP73', 'TSC22D1', 'UBASH3A', 'UBASH3B', 'ZBTB1', 'ZBTB10', 'ZBTB25', 'ZC3HAV1', 'ZNF318']\n"
     ]
    }
   ],
   "source": [
    "print(condition_names_gene)"
   ]
  },
  {
   "cell_type": "code",
   "execution_count": 32,
   "id": "91295c9a",
   "metadata": {},
   "outputs": [
    {
     "name": "stdout",
     "output_type": "stream",
     "text": [
      "['RASSF4', 'FUT7', 'IL22RA2', 'IP6K3', 'MANF', 'TIMP1', 'MLC1', 'ATF4', 'OR51E1', 'CTD-2623N2.5', 'OS9', 'CYSLTR2', 'ST3GAL6', 'LINC00895', 'HEATR9', 'ANXA2R', 'PMEPA1', 'RP11-46D6.1', 'PDE4DIP', 'RP11-404F10.2', 'APOBEC3D', 'MAOB', 'RP11-90K6.1', 'CD244', 'SVEP1', 'MEIS3', 'GHRL', 'RP11-212I21.4', 'IL6ST', 'ABCA1', 'SLC2A1-AS1', 'CTSO', 'RP11-306G20.1', 'TMEM154', 'PCAT5', 'RP11-443B7.2', 'PCDH9', 'TUBB3', 'SMYD3', 'TRAC', 'PARVG', 'NUTM2G', 'ERP27', 'GDF15', 'RP11-727F15.9', 'RP11-887P2.5', 'HBG2', 'RP5-1086K13.1', 'IRF2BP2', 'PDZK1IP1', 'TEX13D', 'RP11-498P14.5', 'PLAC8', 'C20orf202', 'BTG1', 'GPC1', 'REN', 'HBA2', 'ALDH3B1', 'AC002463.3', 'IL3RA', 'CABP4', 'ICOSLG', 'TXNIP', 'TNFRSF14', 'RP1-286D6.5', 'RP11-1152H14.1', 'EVI2B', 'PPP3CA', 'HBG1', 'PRSS57', 'CD48', 'RNF213', 'EPX', 'CD2', 'TMEM150C', 'FAM166B', 'PNOC', 'IL20', 'TCP11L2', 'CLEC4D', 'AC005616.2', 'SVOPL', 'RAP2C-AS1', 'OPRL1', 'ADIRF', 'PHLDA1', 'ARMCX3', 'FAM234A', 'OSBPL10', 'VWA7', 'ID2-AS1', 'ADRB2', 'ACE', 'ATP10D', 'SP6', 'SMOX', 'MS4A3', 'SYT4']\n"
     ]
    }
   ],
   "source": [
    "print(condition_names_gene_match)"
   ]
  },
  {
   "cell_type": "markdown",
   "id": "77f8a4f5",
   "metadata": {},
   "source": [
    "## Prepare model input"
   ]
  },
  {
   "cell_type": "code",
   "execution_count": 33,
   "id": "e3ebbb68",
   "metadata": {},
   "outputs": [
    {
     "data": {
      "text/plain": [
       "1268"
      ]
     },
     "execution_count": 33,
     "metadata": {},
     "output_type": "execute_result"
    }
   ],
   "source": [
    "max_len = adata.shape[1] + 1\n",
    "max_len"
   ]
  },
  {
   "cell_type": "code",
   "execution_count": 34,
   "id": "f3663c07",
   "metadata": {},
   "outputs": [],
   "source": [
    "if config.load_model is None:\n",
    "    vocab = Vocab(\n",
    "        VocabPybind(genes + special_tokens, None)\n",
    "    )  # bidirectional lookup [gene <-> int]\n",
    "vocab.set_default_index(vocab[\"<pad>\"])\n",
    "gene_ids = np.array(vocab(genes), dtype=int)\n",
    "adata.obs['batch_id'] = adata.obs['condition'].copy()\n",
    "batch_ids = adata.obs[\"batch_id\"].tolist()\n",
    "num_batch_types = len(set(batch_ids))\n",
    "input_layer_key = \"X_binned\""
   ]
  },
  {
   "cell_type": "code",
   "execution_count": 35,
   "id": "7e4a5693",
   "metadata": {},
   "outputs": [],
   "source": [
    "def prepare_data(sort_seq_batch=False) -> Tuple[Dict[str, torch.Tensor]]:\n",
    "    masked_values_train = random_mask_value(\n",
    "        tokenized_train[\"values\"],\n",
    "        mask_ratio=mask_ratio,\n",
    "        mask_value=mask_value,\n",
    "        pad_value=pad_value,\n",
    "    )\n",
    "    masked_values_valid = random_mask_value(\n",
    "        tokenized_valid[\"values\"],\n",
    "        mask_ratio=mask_ratio,\n",
    "        mask_value=mask_value,\n",
    "        pad_value=pad_value,\n",
    "    )\n",
    "    print(\n",
    "        f\"random masking at epoch {epoch:3d}, ratio of masked values in train: \",\n",
    "        f\"{(masked_values_train == mask_value).sum() / (masked_values_train - pad_value).count_nonzero():.4f}\",\n",
    "    )\n",
    "\n",
    "    input_gene_ids_train, input_gene_ids_valid = (\n",
    "        tokenized_train[\"genes\"],\n",
    "        tokenized_valid[\"genes\"],\n",
    "    )\n",
    "    input_values_train, input_values_valid = masked_values_train, masked_values_valid\n",
    "    target_values_train, target_values_valid = (\n",
    "        tokenized_train[\"values\"],\n",
    "        tokenized_valid[\"values\"],\n",
    "    )\n",
    "\n",
    "    tensor_batch_labels_train = torch.from_numpy(train_batch_labels).long()\n",
    "    tensor_batch_labels_valid = torch.from_numpy(valid_batch_labels).long()\n",
    "\n",
    "    if sort_seq_batch:\n",
    "        train_sort_ids = np.argsort(train_batch_labels)\n",
    "        input_gene_ids_train = input_gene_ids_train[train_sort_ids]\n",
    "        input_values_train = input_values_train[train_sort_ids]\n",
    "        target_values_train = target_values_train[train_sort_ids]\n",
    "        tensor_batch_labels_train = tensor_batch_labels_train[train_sort_ids]\n",
    "\n",
    "        valid_sort_ids = np.argsort(valid_batch_labels)\n",
    "        input_gene_ids_valid = input_gene_ids_valid[valid_sort_ids]\n",
    "        input_values_valid = input_values_valid[valid_sort_ids]\n",
    "        target_values_valid = target_values_valid[valid_sort_ids]\n",
    "        tensor_batch_labels_valid = tensor_batch_labels_valid[valid_sort_ids]\n",
    "\n",
    "    train_data_pt = {\n",
    "        \"gene_ids\": input_gene_ids_train,\n",
    "        \"values\": input_values_train,\n",
    "        \"target_values\": target_values_train,\n",
    "        \"batch_labels\": tensor_batch_labels_train,\n",
    "    }\n",
    "    valid_data_pt = {\n",
    "        \"gene_ids\": input_gene_ids_valid,\n",
    "        \"values\": input_values_valid,\n",
    "        \"target_values\": target_values_valid,\n",
    "        \"batch_labels\": tensor_batch_labels_valid,\n",
    "    }\n",
    "\n",
    "    return train_data_pt, valid_data_pt\n",
    "\n",
    "\n",
    "# dataset\n",
    "class SeqDataset(Dataset):\n",
    "    def __init__(self, data: Dict[str, torch.Tensor]):\n",
    "        self.data = data\n",
    "\n",
    "    def __len__(self):\n",
    "        return self.data[\"gene_ids\"].shape[0]\n",
    "\n",
    "    def __getitem__(self, idx):\n",
    "        return {k: v[idx] for k, v in self.data.items()}\n",
    "\n",
    "\n",
    "# data_loader\n",
    "def prepare_dataloader(\n",
    "    data_pt: Dict[str, torch.Tensor],\n",
    "    batch_size: int,\n",
    "    shuffle: bool = False,\n",
    "    intra_domain_shuffle: bool = False,\n",
    "    drop_last: bool = False,\n",
    "    num_workers: int = 0,\n",
    ") -> DataLoader:\n",
    "    dataset = SeqDataset(data_pt)\n",
    "\n",
    "    if per_seq_batch_sample:\n",
    "        # find the indices of samples in each seq batch\n",
    "        subsets = []\n",
    "        batch_labels_array = data_pt[\"batch_labels\"].numpy()\n",
    "        for batch_label in np.unique(batch_labels_array):\n",
    "            batch_indices = np.where(batch_labels_array == batch_label)[0].tolist()\n",
    "            subsets.append(batch_indices)\n",
    "        data_loader = DataLoader(\n",
    "            dataset=dataset,\n",
    "            batch_sampler=SubsetsBatchSampler(\n",
    "                subsets,\n",
    "                batch_size,\n",
    "                intra_subset_shuffle=intra_domain_shuffle,\n",
    "                inter_subset_shuffle=shuffle,\n",
    "                drop_last=drop_last,\n",
    "            ),\n",
    "            num_workers=num_workers,\n",
    "            pin_memory=True,\n",
    "        )\n",
    "        return data_loader\n",
    "\n",
    "    data_loader = DataLoader(\n",
    "        dataset=dataset,\n",
    "        batch_size=batch_size,\n",
    "        shuffle=shuffle,\n",
    "        drop_last=drop_last,\n",
    "        num_workers=num_workers,\n",
    "        pin_memory=True,\n",
    "    )\n",
    "    return data_loader"
   ]
  },
  {
   "cell_type": "markdown",
   "id": "b5753701",
   "metadata": {},
   "source": [
    "## Load the pre-trained scGPT model"
   ]
  },
  {
   "cell_type": "code",
   "execution_count": 36,
   "id": "e346fb67",
   "metadata": {},
   "outputs": [
    {
     "name": "stdout",
     "output_type": "stream",
     "text": [
      "Using simple batchnorm instead of domain specific batchnorm\n"
     ]
    },
    {
     "data": {
      "text/plain": [
       "[]"
      ]
     },
     "execution_count": 36,
     "metadata": {},
     "output_type": "execute_result"
    }
   ],
   "source": [
    "device = torch.device(\"cuda\" if torch.cuda.is_available() else \"cpu\")\n",
    "\n",
    "ntokens = len(vocab)  # size of vocabulary\n",
    "model = TransformerModel(\n",
    "    ntokens,\n",
    "    embsize,\n",
    "    nhead,\n",
    "    d_hid,\n",
    "    nlayers,\n",
    "    vocab=vocab,\n",
    "    dropout=config.dropout,\n",
    "    pad_token=pad_token,\n",
    "    pad_value=pad_value,\n",
    "    do_mvc=config.GEPC,\n",
    "    do_dab=True,\n",
    "    use_batch_labels=False,\n",
    "    num_batch_labels=num_batch_types,\n",
    "    domain_spec_batchnorm=False,\n",
    "    n_input_bins=n_input_bins,\n",
    "    ecs_threshold=config.ecs_thres,\n",
    "    explicit_zero_prob=explicit_zero_prob,\n",
    "    use_fast_transformer=config.fast_transformer,\n",
    "    pre_norm=config.pre_norm,\n",
    ")\n",
    "if config.load_model is not None:\n",
    "    load_pretrained(model, torch.load(model_file), verbose=False)\n",
    "\n",
    "model.to(device)\n",
    "wandb.watch(model)"
   ]
  },
  {
   "cell_type": "code",
   "execution_count": 37,
   "id": "6dd1c8c9",
   "metadata": {},
   "outputs": [],
   "source": [
    "model.eval()\n",
    "adata_t = adata.copy()"
   ]
  },
  {
   "cell_type": "code",
   "execution_count": 38,
   "id": "3ca655eb",
   "metadata": {},
   "outputs": [],
   "source": [
    "all_counts = (\n",
    "    adata_t.layers[input_layer_key].A\n",
    "    if issparse(adata_t.layers[input_layer_key])\n",
    "    else adata_t.layers[input_layer_key]\n",
    ")\n",
    "celltypes_labels = adata_t.obs[\"celltype\"].tolist()\n",
    "celltypes_labels = np.array(celltypes_labels)\n",
    "\n",
    "batch_ids = adata_t.obs[\"batch_id\"].tolist()\n",
    "batch_ids = np.array(batch_ids)\n",
    "\n",
    "tokenized_all = tokenize_and_pad_batch(\n",
    "    all_counts,\n",
    "    gene_ids,\n",
    "    max_len=max_len,\n",
    "    vocab=vocab,\n",
    "    pad_token=pad_token,\n",
    "    pad_value=pad_value,\n",
    "    append_cls=True,  # append <cls> token at the beginning\n",
    "    include_zero_gene=True,\n",
    ")\n",
    "all_gene_ids, all_values = tokenized_all[\"genes\"], tokenized_all[\"values\"]\n",
    "src_key_padding_mask = all_gene_ids.eq(vocab[pad_token])"
   ]
  },
  {
   "cell_type": "markdown",
   "id": "900efa46",
   "metadata": {},
   "source": [
    "##  Get gene embeddings"
   ]
  },
  {
   "cell_type": "code",
   "execution_count": 39,
   "id": "42062c4f",
   "metadata": {},
   "outputs": [
    {
     "name": "stderr",
     "output_type": "stream",
     "text": [
      "100%|███████████████████████████████████████████████████████████████████████████████████████████████████████████████████████████████████████████████| 517/517 [03:57<00:00,  2.17it/s]\n"
     ]
    }
   ],
   "source": [
    "with torch.no_grad(), torch.cuda.amp.autocast(enabled=config.amp):\n",
    "    gene_embeddings = model.encode_batch(\n",
    "        all_gene_ids,\n",
    "        all_values.float(),\n",
    "        src_key_padding_mask=src_key_padding_mask,\n",
    "        batch_size=config.batch_size,\n",
    "        batch_labels=None,\n",
    "        return_np=True,\n",
    "    )"
   ]
  },
  {
   "cell_type": "code",
   "execution_count": 40,
   "id": "e8c9d6c6",
   "metadata": {},
   "outputs": [
    {
     "data": {
      "text/plain": [
       "(33059, 1268, 512)"
      ]
     },
     "execution_count": 40,
     "metadata": {},
     "output_type": "execute_result"
    }
   ],
   "source": [
    "gene_embeddings.shape"
   ]
  },
  {
   "cell_type": "code",
   "execution_count": 41,
   "id": "9ad36f29",
   "metadata": {},
   "outputs": [
    {
     "data": {
      "text/plain": [
       "tensor([[60695, 24904, 30607,  ..., 11394, 12288, 12289],\n",
       "        [60695, 24904, 30607,  ..., 11394, 12288, 12289],\n",
       "        [60695, 24904, 30607,  ..., 11394, 12288, 12289],\n",
       "        ...,\n",
       "        [60695, 24904, 30607,  ..., 11394, 12288, 12289],\n",
       "        [60695, 24904, 30607,  ..., 11394, 12288, 12289],\n",
       "        [60695, 24904, 30607,  ..., 11394, 12288, 12289]])"
      ]
     },
     "execution_count": 41,
     "metadata": {},
     "output_type": "execute_result"
    }
   ],
   "source": [
    "all_gene_ids"
   ]
  },
  {
   "cell_type": "code",
   "execution_count": 42,
   "id": "1cea57ea",
   "metadata": {},
   "outputs": [
    {
     "data": {
      "text/plain": [
       "1267"
      ]
     },
     "execution_count": 42,
     "metadata": {},
     "output_type": "execute_result"
    }
   ],
   "source": [
    "len(genes)"
   ]
  },
  {
   "cell_type": "code",
   "execution_count": 43,
   "id": "84680766",
   "metadata": {},
   "outputs": [
    {
     "data": {
      "text/plain": [
       "(33059, 1268, 512)"
      ]
     },
     "execution_count": 43,
     "metadata": {},
     "output_type": "execute_result"
    }
   ],
   "source": [
    "gene_embeddings.shape"
   ]
  },
  {
   "cell_type": "code",
   "execution_count": 44,
   "id": "18b753c6",
   "metadata": {},
   "outputs": [],
   "source": [
    "condition_ids = np.array(adata_t.obs[\"condition\"].tolist())"
   ]
  },
  {
   "cell_type": "markdown",
   "id": "854e907c",
   "metadata": {},
   "source": [
    "#### ✅ Note\n",
    "Each perturbation group has one n_gene x 512 aggreagted profile associated with it"
   ]
  },
  {
   "cell_type": "code",
   "execution_count": 45,
   "id": "98f1ba2f",
   "metadata": {},
   "outputs": [],
   "source": [
    "dict_sum_condition = {}\n",
    "for i, c in enumerate(condition_ids):\n",
    "    if c in dict_sum_condition:\n",
    "        dict_sum_condition[c]+=gene_embeddings[i, :, :]\n",
    "    else:\n",
    "        dict_sum_condition[c]=gene_embeddings[i, :, :]"
   ]
  },
  {
   "cell_type": "code",
   "execution_count": 46,
   "id": "82e34b02",
   "metadata": {},
   "outputs": [],
   "source": [
    "dict_sum_condition_mean = {}\n",
    "groups = adata_t.obs.groupby('condition').groups\n",
    "for i in groups.keys():\n",
    "    dict_sum_condition_mean[i] = dict_sum_condition[i]/len(groups[i])"
   ]
  },
  {
   "cell_type": "code",
   "execution_count": 47,
   "id": "eee32161",
   "metadata": {},
   "outputs": [
    {
     "data": {
      "text/plain": [
       "dict_keys(['AHR+ctrl', 'ARID1A+ctrl', 'ARRDC3+ctrl', 'ATL1+ctrl', 'BAK1+ctrl', 'BCL2L11+ctrl', 'BCORL1+ctrl', 'BPGM+ctrl', 'CBFA2T3+ctrl', 'CBL+ctrl', 'CDKN1A+ctrl', 'CDKN1B+ctrl', 'CDKN1C+ctrl', 'CEBPA+ctrl', 'CEBPB+ctrl', 'CEBPE+ctrl', 'CELF2+ctrl', 'CITED1+ctrl', 'CKS1B+ctrl', 'CLDN6+ctrl', 'CNN1+ctrl', 'CNNM4+ctrl', 'COL1A1+ctrl', 'COL2A1+ctrl', 'CSRNP1+ctrl', 'DLX2+ctrl', 'DUSP9+ctrl', 'EGR1+ctrl', 'ETS2+ctrl', 'FEV+ctrl', 'FOSB+ctrl', 'FOXA1+ctrl', 'FOXA3+ctrl', 'FOXF1+ctrl', 'FOXL2+ctrl', 'FOXO4+ctrl', 'GLB1L2+ctrl', 'HES7+ctrl', 'HK2+ctrl', 'HNF4A+ctrl', 'HOXA13+ctrl', 'HOXB9+ctrl', 'HOXC13+ctrl', 'IER5L+ctrl', 'IGDCC3+ctrl', 'IKZF3+ctrl', 'IRF1+ctrl', 'ISL2+ctrl', 'JUN+ctrl', 'KIF2C+ctrl', 'KIF18B+ctrl', 'KLF1+ctrl', 'KMT2A+ctrl', 'LHX1+ctrl', 'LYL1+ctrl', 'MAML2+ctrl', 'MAP2K3+ctrl', 'MAP2K6+ctrl', 'MAP4K3+ctrl', 'MAP4K5+ctrl', 'MAP7D1+ctrl', 'MAPK1+ctrl', 'MEIS1+ctrl', 'MIDN+ctrl', 'NCL+ctrl', 'NIT1+ctrl', 'ctrl', 'OSR2+ctrl', 'PLK4+ctrl', 'POU3F2+ctrl', 'PRDM1+ctrl', 'PRTG+ctrl', 'PTPN1+ctrl', 'PTPN9+ctrl', 'PTPN12+ctrl', 'PTPN13+ctrl', 'RREB1+ctrl', 'RUNX1T1+ctrl', 'S1PR2+ctrl', 'SAMD1+ctrl', 'SET+ctrl', 'SGK1+ctrl', 'SLC4A1+ctrl', 'SLC6A9+ctrl', 'SNAI1+ctrl', 'SPI1+ctrl', 'STIL+ctrl', 'TBX2+ctrl', 'TBX3+ctrl', 'TGFBR2+ctrl', 'TMSB4X+ctrl', 'TP73+ctrl', 'TSC22D1+ctrl', 'UBASH3A+ctrl', 'UBASH3B+ctrl', 'ZBTB1+ctrl', 'ZBTB10+ctrl', 'ZBTB25+ctrl', 'ZC3HAV1+ctrl', 'ZNF318+ctrl'])"
      ]
     },
     "execution_count": 47,
     "metadata": {},
     "output_type": "execute_result"
    }
   ],
   "source": [
    "dict_sum_condition_mean.keys()"
   ]
  },
  {
   "cell_type": "code",
   "execution_count": 48,
   "id": "ca98b05e",
   "metadata": {},
   "outputs": [],
   "source": [
    "gene_vocab_idx = all_gene_ids[0].clone().detach().cpu().numpy()"
   ]
  },
  {
   "cell_type": "code",
   "execution_count": 49,
   "id": "2b93f795",
   "metadata": {},
   "outputs": [
    {
     "data": {
      "text/plain": [
       "100"
      ]
     },
     "execution_count": 49,
     "metadata": {},
     "output_type": "execute_result"
    }
   ],
   "source": [
    "perturb_conditions = list(dict_sum_condition_mean.keys())\n",
    "len(perturb_conditions)"
   ]
  },
  {
   "cell_type": "code",
   "execution_count": 50,
   "id": "0173d689",
   "metadata": {},
   "outputs": [],
   "source": [
    "perturb_conditions.remove('ctrl')"
   ]
  },
  {
   "cell_type": "code",
   "execution_count": 51,
   "id": "02ce48c9",
   "metadata": {},
   "outputs": [],
   "source": [
    "assert 'ctrl' not in perturb_conditions"
   ]
  },
  {
   "cell_type": "code",
   "execution_count": 52,
   "id": "63d15689",
   "metadata": {},
   "outputs": [],
   "source": [
    "from sklearn.metrics.pairwise import cosine_distances\n",
    "from tqdm import tqdm\n",
    "import pandas as pd"
   ]
  },
  {
   "cell_type": "markdown",
   "id": "ce104983",
   "metadata": {},
   "source": [
    "#### ✅ Note\n",
    "Calculate consine distance between control and each perturbation conditions"
   ]
  },
  {
   "cell_type": "markdown",
   "id": "cc445ba3",
   "metadata": {},
   "source": [
    "## Baseline Wilcoxon"
   ]
  },
  {
   "cell_type": "code",
   "execution_count": 53,
   "id": "1a655223",
   "metadata": {},
   "outputs": [
    {
     "data": {
      "text/plain": [
       "Index(['RP11-34P13.8', 'SAMD11', 'RNF223', 'TNFRSF18', 'TNFRSF4', 'ANKRD65',\n",
       "       'TNFRSF14', 'TTC34', 'TP73', 'SMIM1',\n",
       "       ...\n",
       "       'KCNJ15', 'ETS2', 'ABCG1', 'TFF3', 'TFF1', 'UBASH3A', 'AP001046.6',\n",
       "       'ICOSLG', 'ITGB2', 'ITGB2-AS1'],\n",
       "      dtype='object', name='gene_name', length=1267)"
      ]
     },
     "execution_count": 53,
     "metadata": {},
     "output_type": "execute_result"
    }
   ],
   "source": [
    "adata_t.var.index"
   ]
  },
  {
   "cell_type": "code",
   "execution_count": 54,
   "id": "24c55c6d",
   "metadata": {},
   "outputs": [
    {
     "data": {
      "text/plain": [
       "rec.array([('TESC', 'BTG1', 'NEAT1', 'ALAS2', 'BAK1', 'BCL2L11', 'KRT18', 'HBZ', 'SH3BGRL3', 'CD99', 'CDKN1A', 'HBZ', 'RP11-717F1.1', 'LST1', 'PLD3', 'CEBPE', 'CEBPA', 'NEAT1', 'MFGE8', 'CLDN6', 'CNN1', 'HBZ', 'COL1A1', 'COL2A1', 'GAL', 'RNASET2', 'DUSP9', 'HBZ', 'TMSB4X', 'FEV', 'SH3BGRL3', 'GYPB', 'LYZ', 'S100A13', 'FOXL2', 'S100A13', 'SLC44A1', 'HES7', 'HK2', 'HBZ', 'GYPB', 'HOXB9', 'NEAT1', 'HBZ', 'IGDCC3', 'HBZ', 'PSMB9', 'PNMT', 'JUN', 'KIF2C', 'KIF18B', 'HBZ', 'KMT2A', 'LHX1', 'LYL1', 'ORAI2', 'MAP2K3', 'GAL', 'HBZ', 'HBZ', 'MAP7D1', 'TMSB4X', 'GYPB', 'ID2', 'NCL', 'S100A13', 'OSR2', 'HBG2', 'POU3F2', 'HBZ', 'HBZ', 'HBZ', 'PTPN9', 'HBZ', 'PIM1', 'HBZ', 'RUNX1T1', 'HBZ', 'HBZ', 'PRKCB', 'HBG2', 'AP003068.23', 'HBZ', 'S100A13', 'AIF1', 'STIL', 'RP11-717F1.1', 'AVP', 'HBZ', 'TMSB4X', 'AVP', 'TSC22D1', 'NEAT1', 'HBZ', 'HBZ', 'GYPB', 'HBZ', 'ZC3HAV1', 'HBG2'),\n",
       "           ('GYPB', 'MYL4', 'RP11-717F1.1', 'HBZ', 'LHX1', 'GYPB', 'KRT8', 'AMHR2', 'VIM', 'HBZ', 'HBG2', 'ALAS2', 'ALAS2', 'TMSB4X', 'LST1', 'LST1', 'MS4A3', 'CITED1', 'REEP6', 'ALAS2', 'HBZ', 'GYPA', 'DDIT4', 'TIMP1', 'CSRNP1', 'BTG2', 'HBZ', 'SH3BGRL3', 'GPSM3', 'CRYBA2', 'MS4A3', 'ATF7IP2', 'GYPB', 'MSRB1', 'TSC22D1', 'FOXO4', 'TIMP1', 'TMSB4X', 'TXNIP', 'REEP6', 'LGALS1', 'HBG2', 'GYPB', 'GYPB', 'HBZ', 'HBG2', 'HLA-C', 'GYPB', 'BTG2', 'KRT8', 'HBZ', 'HBG2', 'HBZ', 'FEV', 'HBZ', 'MAML2', 'GAL', 'RP11-717F1.1', 'GYPB', 'GYPB', 'KRT18', 'AIF1', 'HBG2', 'TMSB4X', 'GYPB', 'MDK', 'TMSB4X', 'YPEL3', 'GYPB', 'HBG2', 'ALAS2', 'HBA1', 'HBZ', 'PTPN12', 'ENG', 'FAM83A', 'NEAT1', 'HBG2', 'NEAT1', 'SET', 'SGK1', 'SLC4A1', 'SLC6A9', 'ALAS2', 'LST1', 'GRN', 'TBX2', 'BST2', 'TGFBR2', 'ARPC5', 'NEAT1', 'NEAT1', 'UBASH3A', 'UBASH3B', 'NEAT1', 'BST2', 'HBG2', 'GAL', 'ZNF318'),\n",
       "           ('SH3BGRL3', 'ALAS2', 'HBZ', 'GYPB', 'HBZ', 'HBZ', 'BCORL1', 'BPGM', 'SMYD3', 'HBG2', 'HBZ', 'HBG2', 'HBZ', 'CSF3R', 'AIF1', 'AIF1', 'LST1', 'CSF3R', 'UGP2', 'HBZ', 'SLC25A37', 'GYPB', 'S100A11', 'SH3BGRL3', 'MYC', 'DLX2', 'GYPB', 'NEAT1', 'AIF1', 'SH3BGRL3', 'AIF1', 'KRT8', 'KRT8', 'KRT8', 'UGP2', 'TPP1', 'PMP22', 'PLD3', 'GYPB', 'HEPH', 'PYCARD', 'HES1', 'PYCARD', 'HBG2', 'ALAS2', 'HBG1', 'PDE4DIP', 'SMYD3', 'IGFBP2', 'SLC25A37', 'RP11-717F1.1', 'PNMT', 'NEAT1', 'AIF1', 'ATF7IP2', 'TESC', 'PRDX4', 'PRDX4', 'ALAS2', 'ALAS2', 'TIMP1', 'SH3BGRL3', 'GYPA', 'SMYD3', 'SNHG9', 'GYPA', 'PRSS57', 'HBG1', 'GYPA', 'ALAS2', 'GYPB', 'NEAT1', 'GYPB', 'HBG2', 'LYL1', 'HBA1', 'VIM', 'LYL1', 'HBG2', 'SERPINB9', 'TESC', 'GAL', 'MYL4', 'RNASET2', 'TYROBP', 'GYPB', 'HBG2', 'TBX3', 'ALAS2', 'HBZ', 'HBZ', 'JUND', 'RP11-717F1.1', 'HBG2', 'HBG2', 'S100A13', 'SLC25A37', 'TMSB4X', 'HBD'),\n",
       "           ...,\n",
       "           ('LDHA', 'PRSS57', 'GAL', 'PRSS57', 'KCNH2', 'NPW', 'MT1G', 'TEX30', 'GYPB', 'EMP3', 'CKS1B', 'TEX30', 'CKS1B', 'GAL', 'RP11-717F1.1', 'RP11-717F1.1', 'GYPB', 'SET', 'LDHA', 'EMP3', 'EMP3', 'VIM', 'NCL', 'HBG2', 'GYPB', 'HBG1', 'EMP3', 'IGFBP2', 'GAL', 'KCNH2', 'RP11-717F1.1', 'PRSS57', 'TEX30', 'MYL4', 'MYL4', 'EMP3', 'LDHA', 'LDHA', 'AIF1', 'SET', 'NCL', 'HBZ', 'GAL', 'TEX30', 'PRSS57', 'VIM', 'TEX30', 'GAL', 'LDHA', 'EMP3', 'EMP3', 'IGFBP2', 'GAL', 'KCNH2', 'AIF1', 'TMSB4X', 'LGALS1', 'S100A4', 'EMP3', 'NPW', 'KCNQ1OT1', 'GAL', 'EMP3', 'MYC', 'VIM', 'KCNH2', 'MYL4', 'LDHA', 'KCNH2', 'PRSS57', 'TMSB4X', 'SET', 'PRDX4', 'S100A11', 'MT1G', 'GMFG', 'HBG2', 'TEX30', 'SET', 'TEX30', 'NCL', 'MYL4', 'PRDX4', 'HBG2', 'SET', 'LYL1', 'TMSB4X', 'GYPA', 'AIF1', 'GAL', 'LDHA', 'LDHA', 'CKS2', 'EMP3', 'LDHA', 'NCL', 'PRSS57', 'GYPA', 'TMSB4X'),\n",
       "           ('PRDX4', 'TEX30', 'PRDX4', 'TEX30', 'VIM', 'LGALS1', 'PRSS57', 'PRSS57', 'HBZ', 'TMSB4X', 'TEX30', 'SET', 'TEX30', 'GYPB', 'HBG2', 'GYPB', 'MYL4', 'CKS1B', 'TEX30', 'KCNH2', 'PRSS57', 'KCNH2', 'GAL', 'TFRC', 'LGALS1', 'HBG2', 'PRSS57', 'VIM', 'HBZ', 'PRSS57', 'GYPA', 'GAL', 'TMSB4X', 'TEX30', 'HBZ', 'KCNH2', 'SET', 'RP11-717F1.1', 'MDK', 'EMP3', 'SET', 'LDHA', 'NCL', 'SET', 'TMSB4X', 'SET', 'PRSS57', 'HBG2', 'PRSS57', 'TMSB4X', 'TMSB4X', 'SMYD3', 'VIM', 'GAL', 'GMFG', 'VIM', 'GYPA', 'CFD', 'AIF1', 'NCL', 'FOXL2', 'HBZ', 'PRDX4', 'LDHA', 'MDK', 'SET', 'HBZ', 'PRSS57', 'TEX30', 'MDK', 'TEX30', 'TMSB4X', 'SMYD3', 'PDE4DIP', 'TEX30', 'AIF1', 'GYPB', 'KCNH2', 'TEX30', 'GYPA', 'GAL', 'TEX30', 'PDE4DIP', 'CFD', 'GAL', 'SET', 'TEX30', 'GYPB', 'SH3BGRL3', 'VIM', 'SET', 'FAM178B', 'CKS1B', 'TMSB4X', 'EMP3', 'GAL', 'TEX30', 'TESC', 'AIF1'),\n",
       "           ('GAL', 'GAL', 'MDK', 'TMSB4X', 'LGALS1', 'EIF4A2', 'GAL', 'TMSB4X', 'HBG2', 'PRSS57', 'SET', 'TMSB4X', 'TMSB4X', 'GYPA', 'GYPA', 'GYPA', 'GYPA', 'LDHA', 'GAL', 'PRSS57', 'TMSB4X', 'HBG2', 'HBG2', 'HBZ', 'SH3BGRL3', 'HBZ', 'TMSB4X', 'GAL', 'HBG2', 'VIM', 'GYPB', 'TMSB4X', 'GAL', 'GAL', 'GAL', 'TMSB4X', 'GAL', 'GAL', 'PRSS57', 'HBG2', 'GAL', 'GAL', 'PRSS57', 'VIM', 'TEX30', 'GAL', 'TMSB4X', 'HBZ', 'GAL', 'TEX30', 'GMFG', 'AIF1', 'EMP3', 'HBZ', 'EMP3', 'LGALS1', 'GYPB', 'PYCARD', 'TMSB4X', 'TMSB4X', 'PRC1', 'HBG2', 'PRSS57', 'GAL', 'CFD', 'TEX30', 'HBG2', 'HELLS', 'PRSS57', 'GAL', 'PRSS57', 'PRSS57', 'PRSS57', 'PRSS57', 'GAL', 'TMSB4X', 'GYPA', 'TMSB4X', 'PRSS57', 'TMSB4X', 'PRSS57', 'VIM', 'PRSS57', 'RP11-717F1.1', 'PRSS57', 'NCL', 'PRSS57', 'PRSS57', 'TMSB4X', 'MDK', 'NCL', 'CD99', 'EMP3', 'PRSS57', 'PRSS57', 'HBZ', 'TMSB4X', 'NEAT1', 'PRSS57')],\n",
       "          dtype=[('AHR+ctrl', 'O'), ('ARID1A+ctrl', 'O'), ('ARRDC3+ctrl', 'O'), ('ATL1+ctrl', 'O'), ('BAK1+ctrl', 'O'), ('BCL2L11+ctrl', 'O'), ('BCORL1+ctrl', 'O'), ('BPGM+ctrl', 'O'), ('CBFA2T3+ctrl', 'O'), ('CBL+ctrl', 'O'), ('CDKN1A+ctrl', 'O'), ('CDKN1B+ctrl', 'O'), ('CDKN1C+ctrl', 'O'), ('CEBPA+ctrl', 'O'), ('CEBPB+ctrl', 'O'), ('CEBPE+ctrl', 'O'), ('CELF2+ctrl', 'O'), ('CITED1+ctrl', 'O'), ('CKS1B+ctrl', 'O'), ('CLDN6+ctrl', 'O'), ('CNN1+ctrl', 'O'), ('CNNM4+ctrl', 'O'), ('COL1A1+ctrl', 'O'), ('COL2A1+ctrl', 'O'), ('CSRNP1+ctrl', 'O'), ('DLX2+ctrl', 'O'), ('DUSP9+ctrl', 'O'), ('EGR1+ctrl', 'O'), ('ETS2+ctrl', 'O'), ('FEV+ctrl', 'O'), ('FOSB+ctrl', 'O'), ('FOXA1+ctrl', 'O'), ('FOXA3+ctrl', 'O'), ('FOXF1+ctrl', 'O'), ('FOXL2+ctrl', 'O'), ('FOXO4+ctrl', 'O'), ('GLB1L2+ctrl', 'O'), ('HES7+ctrl', 'O'), ('HK2+ctrl', 'O'), ('HNF4A+ctrl', 'O'), ('HOXA13+ctrl', 'O'), ('HOXB9+ctrl', 'O'), ('HOXC13+ctrl', 'O'), ('IER5L+ctrl', 'O'), ('IGDCC3+ctrl', 'O'), ('IKZF3+ctrl', 'O'), ('IRF1+ctrl', 'O'), ('ISL2+ctrl', 'O'), ('JUN+ctrl', 'O'), ('KIF2C+ctrl', 'O'), ('KIF18B+ctrl', 'O'), ('KLF1+ctrl', 'O'), ('KMT2A+ctrl', 'O'), ('LHX1+ctrl', 'O'), ('LYL1+ctrl', 'O'), ('MAML2+ctrl', 'O'), ('MAP2K3+ctrl', 'O'), ('MAP2K6+ctrl', 'O'), ('MAP4K3+ctrl', 'O'), ('MAP4K5+ctrl', 'O'), ('MAP7D1+ctrl', 'O'), ('MAPK1+ctrl', 'O'), ('MEIS1+ctrl', 'O'), ('MIDN+ctrl', 'O'), ('NCL+ctrl', 'O'), ('NIT1+ctrl', 'O'), ('OSR2+ctrl', 'O'), ('PLK4+ctrl', 'O'), ('POU3F2+ctrl', 'O'), ('PRDM1+ctrl', 'O'), ('PRTG+ctrl', 'O'), ('PTPN1+ctrl', 'O'), ('PTPN9+ctrl', 'O'), ('PTPN12+ctrl', 'O'), ('PTPN13+ctrl', 'O'), ('RREB1+ctrl', 'O'), ('RUNX1T1+ctrl', 'O'), ('S1PR2+ctrl', 'O'), ('SAMD1+ctrl', 'O'), ('SET+ctrl', 'O'), ('SGK1+ctrl', 'O'), ('SLC4A1+ctrl', 'O'), ('SLC6A9+ctrl', 'O'), ('SNAI1+ctrl', 'O'), ('SPI1+ctrl', 'O'), ('STIL+ctrl', 'O'), ('TBX2+ctrl', 'O'), ('TBX3+ctrl', 'O'), ('TGFBR2+ctrl', 'O'), ('TMSB4X+ctrl', 'O'), ('TP73+ctrl', 'O'), ('TSC22D1+ctrl', 'O'), ('UBASH3A+ctrl', 'O'), ('UBASH3B+ctrl', 'O'), ('ZBTB1+ctrl', 'O'), ('ZBTB10+ctrl', 'O'), ('ZBTB25+ctrl', 'O'), ('ZC3HAV1+ctrl', 'O'), ('ZNF318+ctrl', 'O')])"
      ]
     },
     "execution_count": 54,
     "metadata": {},
     "output_type": "execute_result"
    }
   ],
   "source": [
    "# Wilcoxon rank\n",
    "sc.tl.rank_genes_groups(adata_t, 'condition', method='wilcoxon', key_added = \"wilcoxon\", n_genes=max_len-1, reference='ctrl')\n",
    "adata_t.uns['wilcoxon']['names']"
   ]
  },
  {
   "cell_type": "code",
   "execution_count": 56,
   "id": "20078f23",
   "metadata": {},
   "outputs": [
    {
     "name": "stdout",
     "output_type": "stream",
     "text": [
      "AHR+ctrl 9\n",
      "ARID1A+ctrl 121\n",
      "ARRDC3+ctrl 7\n",
      "ATL1+ctrl 839\n",
      "BAK1+ctrl 0\n",
      "BCL2L11+ctrl 0\n",
      "BCORL1+ctrl 3\n",
      "BPGM+ctrl 2\n",
      "CBFA2T3+ctrl 10\n",
      "CBL+ctrl 7\n",
      "CDKN1A+ctrl 0\n",
      "CDKN1B+ctrl 884\n",
      "CDKN1C+ctrl 5\n",
      "CEBPA+ctrl 67\n",
      "CEBPB+ctrl 39\n",
      "CEBPE+ctrl 0\n",
      "CELF2+ctrl 749\n",
      "CITED1+ctrl 1\n",
      "CKS1B+ctrl 87\n",
      "CLDN6+ctrl 0\n",
      "CNN1+ctrl 0\n",
      "CNNM4+ctrl 32\n",
      "COL1A1+ctrl 0\n",
      "COL2A1+ctrl 0\n",
      "CSRNP1+ctrl 2\n",
      "DLX2+ctrl 4\n",
      "DUSP9+ctrl 0\n",
      "EGR1+ctrl 37\n",
      "ETS2+ctrl 6\n",
      "FEV+ctrl 0\n",
      "FOSB+ctrl 130\n",
      "FOXA1+ctrl 14\n",
      "FOXA3+ctrl 5\n",
      "FOXF1+ctrl 12\n",
      "FOXL2+ctrl 0\n",
      "FOXO4+ctrl 1\n",
      "GLB1L2+ctrl 5\n",
      "HES7+ctrl 0\n",
      "HK2+ctrl 0\n",
      "HNF4A+ctrl 7\n",
      "HOXA13+ctrl 29\n",
      "HOXB9+ctrl 0\n",
      "HOXC13+ctrl 13\n",
      "IER5L+ctrl 9\n",
      "IGDCC3+ctrl 0\n",
      "IKZF3+ctrl 27\n",
      "IRF1+ctrl 7\n",
      "ISL2+ctrl 4\n",
      "JUN+ctrl 0\n",
      "KIF2C+ctrl 0\n",
      "KIF18B+ctrl 0\n",
      "KLF1+ctrl 3\n",
      "KMT2A+ctrl 0\n",
      "LHX1+ctrl 0\n",
      "LYL1+ctrl 0\n",
      "MAML2+ctrl 1\n",
      "MAP2K3+ctrl 0\n",
      "MAP2K6+ctrl 20\n",
      "MAP4K3+ctrl 13\n",
      "MAP4K5+ctrl 31\n",
      "MAP7D1+ctrl 0\n",
      "MAPK1+ctrl 11\n",
      "MEIS1+ctrl 860\n",
      "MIDN+ctrl 8\n",
      "NCL+ctrl 0\n",
      "NIT1+ctrl 83\n",
      "OSR2+ctrl 0\n",
      "PLK4+ctrl 692\n",
      "POU3F2+ctrl 0\n",
      "PRDM1+ctrl 27\n",
      "PRTG+ctrl 4\n",
      "PTPN1+ctrl 14\n",
      "PTPN9+ctrl 0\n",
      "PTPN12+ctrl 1\n",
      "PTPN13+ctrl 29\n",
      "RREB1+ctrl 25\n",
      "RUNX1T1+ctrl 0\n",
      "S1PR2+ctrl 43\n",
      "SAMD1+ctrl 12\n",
      "SET+ctrl 2\n",
      "SGK1+ctrl 1\n",
      "SLC4A1+ctrl 2\n",
      "SLC6A9+ctrl 1\n",
      "SNAI1+ctrl 36\n",
      "SPI1+ctrl 8\n",
      "STIL+ctrl 0\n",
      "TBX2+ctrl 2\n",
      "TBX3+ctrl 8\n",
      "TGFBR2+ctrl 1\n",
      "TMSB4X+ctrl 0\n",
      "TP73+ctrl 130\n",
      "TSC22D1+ctrl 0\n",
      "UBASH3A+ctrl 2\n",
      "UBASH3B+ctrl 1\n",
      "ZBTB1+ctrl 957\n",
      "ZBTB10+ctrl 75\n",
      "ZBTB25+ctrl 806\n",
      "ZC3HAV1+ctrl 0\n",
      "ZNF318+ctrl 1\n"
     ]
    }
   ],
   "source": [
    "baseline_rank = []\n",
    "\n",
    "for c in perturb_conditions:\n",
    "    hvg_list = adata_t.uns['wilcoxon']['names'][c]\n",
    "    p_val = adata_t.uns['wilcoxon']['pvals_adj'][c]\n",
    "    df_gene_emb_dist = pd.DataFrame()\n",
    "    df_gene_emb_dist['gene'] = hvg_list\n",
    "    df_gene_emb_dist['p_val'] = p_val\n",
    "    df_gene_emb_dist = df_gene_emb_dist.sort_values(by='p_val')\n",
    "    print(c, np.where(df_gene_emb_dist.gene.values==c.split('+')[0])[0][0])\n",
    "    baseline_rank.append(np.where(df_gene_emb_dist.gene.values==c.split('+')[0])[0][0])"
   ]
  },
  {
   "cell_type": "markdown",
   "id": "f4cf5421",
   "metadata": {},
   "source": [
    "## scGPT embedding cosine distance"
   ]
  },
  {
   "cell_type": "code",
   "execution_count": 57,
   "id": "61f9c6be",
   "metadata": {},
   "outputs": [
    {
     "name": "stderr",
     "output_type": "stream",
     "text": [
      "1267it [00:00, 3078.02it/s]\n"
     ]
    },
    {
     "name": "stdout",
     "output_type": "stream",
     "text": [
      "AHR+ctrl 2\n"
     ]
    },
    {
     "name": "stderr",
     "output_type": "stream",
     "text": [
      "1267it [00:00, 3132.34it/s]\n"
     ]
    },
    {
     "name": "stdout",
     "output_type": "stream",
     "text": [
      "ARID1A+ctrl 520\n"
     ]
    },
    {
     "name": "stderr",
     "output_type": "stream",
     "text": [
      "1267it [00:00, 2987.29it/s]\n"
     ]
    },
    {
     "name": "stdout",
     "output_type": "stream",
     "text": [
      "ARRDC3+ctrl 8\n"
     ]
    },
    {
     "name": "stderr",
     "output_type": "stream",
     "text": [
      "1267it [00:00, 3200.61it/s]\n"
     ]
    },
    {
     "name": "stdout",
     "output_type": "stream",
     "text": [
      "ATL1+ctrl 525\n"
     ]
    },
    {
     "name": "stderr",
     "output_type": "stream",
     "text": [
      "1267it [00:00, 3227.04it/s]\n"
     ]
    },
    {
     "name": "stdout",
     "output_type": "stream",
     "text": [
      "BAK1+ctrl 1\n"
     ]
    },
    {
     "name": "stderr",
     "output_type": "stream",
     "text": [
      "1267it [00:00, 3154.84it/s]\n"
     ]
    },
    {
     "name": "stdout",
     "output_type": "stream",
     "text": [
      "BCL2L11+ctrl 0\n"
     ]
    },
    {
     "name": "stderr",
     "output_type": "stream",
     "text": [
      "1267it [00:00, 3401.24it/s]\n"
     ]
    },
    {
     "name": "stdout",
     "output_type": "stream",
     "text": [
      "BCORL1+ctrl 3\n"
     ]
    },
    {
     "name": "stderr",
     "output_type": "stream",
     "text": [
      "1267it [00:00, 3212.48it/s]\n"
     ]
    },
    {
     "name": "stdout",
     "output_type": "stream",
     "text": [
      "BPGM+ctrl 6\n"
     ]
    },
    {
     "name": "stderr",
     "output_type": "stream",
     "text": [
      "1267it [00:00, 3109.38it/s]\n"
     ]
    },
    {
     "name": "stdout",
     "output_type": "stream",
     "text": [
      "CBFA2T3+ctrl 24\n"
     ]
    },
    {
     "name": "stderr",
     "output_type": "stream",
     "text": [
      "1267it [00:00, 3167.12it/s]\n"
     ]
    },
    {
     "name": "stdout",
     "output_type": "stream",
     "text": [
      "CBL+ctrl 17\n"
     ]
    },
    {
     "name": "stderr",
     "output_type": "stream",
     "text": [
      "1267it [00:00, 3428.95it/s]\n"
     ]
    },
    {
     "name": "stdout",
     "output_type": "stream",
     "text": [
      "CDKN1A+ctrl 8\n"
     ]
    },
    {
     "name": "stderr",
     "output_type": "stream",
     "text": [
      "1267it [00:00, 3275.17it/s]\n"
     ]
    },
    {
     "name": "stdout",
     "output_type": "stream",
     "text": [
      "CDKN1B+ctrl 1140\n"
     ]
    },
    {
     "name": "stderr",
     "output_type": "stream",
     "text": [
      "1267it [00:00, 3101.21it/s]\n"
     ]
    },
    {
     "name": "stdout",
     "output_type": "stream",
     "text": [
      "CDKN1C+ctrl 6\n"
     ]
    },
    {
     "name": "stderr",
     "output_type": "stream",
     "text": [
      "1267it [00:00, 3110.53it/s]\n"
     ]
    },
    {
     "name": "stdout",
     "output_type": "stream",
     "text": [
      "CEBPA+ctrl 602\n"
     ]
    },
    {
     "name": "stderr",
     "output_type": "stream",
     "text": [
      "1267it [00:00, 3176.71it/s]\n"
     ]
    },
    {
     "name": "stdout",
     "output_type": "stream",
     "text": [
      "CEBPB+ctrl 239\n"
     ]
    },
    {
     "name": "stderr",
     "output_type": "stream",
     "text": [
      "1267it [00:00, 2991.80it/s]\n"
     ]
    },
    {
     "name": "stdout",
     "output_type": "stream",
     "text": [
      "CEBPE+ctrl 0\n"
     ]
    },
    {
     "name": "stderr",
     "output_type": "stream",
     "text": [
      "1267it [00:00, 2889.49it/s]\n"
     ]
    },
    {
     "name": "stdout",
     "output_type": "stream",
     "text": [
      "CELF2+ctrl 86\n"
     ]
    },
    {
     "name": "stderr",
     "output_type": "stream",
     "text": [
      "1267it [00:00, 3031.58it/s]\n"
     ]
    },
    {
     "name": "stdout",
     "output_type": "stream",
     "text": [
      "CITED1+ctrl 2\n"
     ]
    },
    {
     "name": "stderr",
     "output_type": "stream",
     "text": [
      "1267it [00:00, 3169.68it/s]\n"
     ]
    },
    {
     "name": "stdout",
     "output_type": "stream",
     "text": [
      "CKS1B+ctrl 59\n"
     ]
    },
    {
     "name": "stderr",
     "output_type": "stream",
     "text": [
      "1267it [00:00, 3134.44it/s]\n"
     ]
    },
    {
     "name": "stdout",
     "output_type": "stream",
     "text": [
      "CLDN6+ctrl 0\n"
     ]
    },
    {
     "name": "stderr",
     "output_type": "stream",
     "text": [
      "1267it [00:00, 3388.89it/s]\n"
     ]
    },
    {
     "name": "stdout",
     "output_type": "stream",
     "text": [
      "CNN1+ctrl 2\n"
     ]
    },
    {
     "name": "stderr",
     "output_type": "stream",
     "text": [
      "1267it [00:00, 3246.85it/s]\n"
     ]
    },
    {
     "name": "stdout",
     "output_type": "stream",
     "text": [
      "CNNM4+ctrl 186\n"
     ]
    },
    {
     "name": "stderr",
     "output_type": "stream",
     "text": [
      "1267it [00:00, 3238.01it/s]\n"
     ]
    },
    {
     "name": "stdout",
     "output_type": "stream",
     "text": [
      "COL1A1+ctrl 0\n"
     ]
    },
    {
     "name": "stderr",
     "output_type": "stream",
     "text": [
      "1267it [00:00, 3236.79it/s]\n"
     ]
    },
    {
     "name": "stdout",
     "output_type": "stream",
     "text": [
      "COL2A1+ctrl 0\n"
     ]
    },
    {
     "name": "stderr",
     "output_type": "stream",
     "text": [
      "1267it [00:00, 3378.03it/s]\n"
     ]
    },
    {
     "name": "stdout",
     "output_type": "stream",
     "text": [
      "CSRNP1+ctrl 1\n"
     ]
    },
    {
     "name": "stderr",
     "output_type": "stream",
     "text": [
      "1267it [00:00, 3256.43it/s]\n"
     ]
    },
    {
     "name": "stdout",
     "output_type": "stream",
     "text": [
      "DLX2+ctrl 10\n"
     ]
    },
    {
     "name": "stderr",
     "output_type": "stream",
     "text": [
      "1267it [00:00, 3155.47it/s]\n"
     ]
    },
    {
     "name": "stdout",
     "output_type": "stream",
     "text": [
      "DUSP9+ctrl 1\n"
     ]
    },
    {
     "name": "stderr",
     "output_type": "stream",
     "text": [
      "1267it [00:00, 3257.81it/s]\n"
     ]
    },
    {
     "name": "stdout",
     "output_type": "stream",
     "text": [
      "EGR1+ctrl 121\n"
     ]
    },
    {
     "name": "stderr",
     "output_type": "stream",
     "text": [
      "1267it [00:00, 3113.56it/s]\n"
     ]
    },
    {
     "name": "stdout",
     "output_type": "stream",
     "text": [
      "ETS2+ctrl 5\n"
     ]
    },
    {
     "name": "stderr",
     "output_type": "stream",
     "text": [
      "1267it [00:00, 3182.02it/s]\n"
     ]
    },
    {
     "name": "stdout",
     "output_type": "stream",
     "text": [
      "FEV+ctrl 0\n"
     ]
    },
    {
     "name": "stderr",
     "output_type": "stream",
     "text": [
      "1267it [00:00, 3167.22it/s]\n"
     ]
    },
    {
     "name": "stdout",
     "output_type": "stream",
     "text": [
      "FOSB+ctrl 780\n"
     ]
    },
    {
     "name": "stderr",
     "output_type": "stream",
     "text": [
      "1267it [00:00, 3237.79it/s]\n"
     ]
    },
    {
     "name": "stdout",
     "output_type": "stream",
     "text": [
      "FOXA1+ctrl 2\n"
     ]
    },
    {
     "name": "stderr",
     "output_type": "stream",
     "text": [
      "1267it [00:00, 3356.69it/s]\n"
     ]
    },
    {
     "name": "stdout",
     "output_type": "stream",
     "text": [
      "FOXA3+ctrl 3\n"
     ]
    },
    {
     "name": "stderr",
     "output_type": "stream",
     "text": [
      "1267it [00:00, 3019.67it/s]\n"
     ]
    },
    {
     "name": "stdout",
     "output_type": "stream",
     "text": [
      "FOXF1+ctrl 7\n"
     ]
    },
    {
     "name": "stderr",
     "output_type": "stream",
     "text": [
      "1267it [00:00, 3318.95it/s]\n"
     ]
    },
    {
     "name": "stdout",
     "output_type": "stream",
     "text": [
      "FOXL2+ctrl 2\n"
     ]
    },
    {
     "name": "stderr",
     "output_type": "stream",
     "text": [
      "1267it [00:00, 3214.66it/s]\n"
     ]
    },
    {
     "name": "stdout",
     "output_type": "stream",
     "text": [
      "FOXO4+ctrl 9\n"
     ]
    },
    {
     "name": "stderr",
     "output_type": "stream",
     "text": [
      "1267it [00:00, 3286.80it/s]\n"
     ]
    },
    {
     "name": "stdout",
     "output_type": "stream",
     "text": [
      "GLB1L2+ctrl 5\n"
     ]
    },
    {
     "name": "stderr",
     "output_type": "stream",
     "text": [
      "1267it [00:00, 3174.56it/s]\n"
     ]
    },
    {
     "name": "stdout",
     "output_type": "stream",
     "text": [
      "HES7+ctrl 0\n"
     ]
    },
    {
     "name": "stderr",
     "output_type": "stream",
     "text": [
      "1267it [00:00, 3296.97it/s]\n"
     ]
    },
    {
     "name": "stdout",
     "output_type": "stream",
     "text": [
      "HK2+ctrl 0\n"
     ]
    },
    {
     "name": "stderr",
     "output_type": "stream",
     "text": [
      "1267it [00:00, 3148.05it/s]\n"
     ]
    },
    {
     "name": "stdout",
     "output_type": "stream",
     "text": [
      "HNF4A+ctrl 2\n"
     ]
    },
    {
     "name": "stderr",
     "output_type": "stream",
     "text": [
      "1267it [00:00, 2929.47it/s]\n"
     ]
    },
    {
     "name": "stdout",
     "output_type": "stream",
     "text": [
      "HOXA13+ctrl 11\n"
     ]
    },
    {
     "name": "stderr",
     "output_type": "stream",
     "text": [
      "1267it [00:00, 3038.36it/s]\n"
     ]
    },
    {
     "name": "stdout",
     "output_type": "stream",
     "text": [
      "HOXB9+ctrl 0\n"
     ]
    },
    {
     "name": "stderr",
     "output_type": "stream",
     "text": [
      "1267it [00:00, 3232.82it/s]\n"
     ]
    },
    {
     "name": "stdout",
     "output_type": "stream",
     "text": [
      "HOXC13+ctrl 7\n"
     ]
    },
    {
     "name": "stderr",
     "output_type": "stream",
     "text": [
      "1267it [00:00, 3055.08it/s]\n"
     ]
    },
    {
     "name": "stdout",
     "output_type": "stream",
     "text": [
      "IER5L+ctrl 17\n"
     ]
    },
    {
     "name": "stderr",
     "output_type": "stream",
     "text": [
      "1267it [00:00, 3268.56it/s]\n"
     ]
    },
    {
     "name": "stdout",
     "output_type": "stream",
     "text": [
      "IGDCC3+ctrl 1\n"
     ]
    },
    {
     "name": "stderr",
     "output_type": "stream",
     "text": [
      "1267it [00:00, 3198.76it/s]\n"
     ]
    },
    {
     "name": "stdout",
     "output_type": "stream",
     "text": [
      "IKZF3+ctrl 86\n"
     ]
    },
    {
     "name": "stderr",
     "output_type": "stream",
     "text": [
      "1267it [00:00, 3142.37it/s]\n"
     ]
    },
    {
     "name": "stdout",
     "output_type": "stream",
     "text": [
      "IRF1+ctrl 13\n"
     ]
    },
    {
     "name": "stderr",
     "output_type": "stream",
     "text": [
      "1267it [00:00, 3157.20it/s]\n"
     ]
    },
    {
     "name": "stdout",
     "output_type": "stream",
     "text": [
      "ISL2+ctrl 2\n"
     ]
    },
    {
     "name": "stderr",
     "output_type": "stream",
     "text": [
      "1267it [00:00, 3117.19it/s]\n"
     ]
    },
    {
     "name": "stdout",
     "output_type": "stream",
     "text": [
      "JUN+ctrl 7\n"
     ]
    },
    {
     "name": "stderr",
     "output_type": "stream",
     "text": [
      "1267it [00:00, 3246.31it/s]\n"
     ]
    },
    {
     "name": "stdout",
     "output_type": "stream",
     "text": [
      "KIF2C+ctrl 0\n"
     ]
    },
    {
     "name": "stderr",
     "output_type": "stream",
     "text": [
      "1267it [00:00, 2833.32it/s]\n"
     ]
    },
    {
     "name": "stdout",
     "output_type": "stream",
     "text": [
      "KIF18B+ctrl 16\n"
     ]
    },
    {
     "name": "stderr",
     "output_type": "stream",
     "text": [
      "1267it [00:00, 3197.60it/s]\n"
     ]
    },
    {
     "name": "stdout",
     "output_type": "stream",
     "text": [
      "KLF1+ctrl 1\n"
     ]
    },
    {
     "name": "stderr",
     "output_type": "stream",
     "text": [
      "1267it [00:00, 2975.04it/s]\n"
     ]
    },
    {
     "name": "stdout",
     "output_type": "stream",
     "text": [
      "KMT2A+ctrl 0\n"
     ]
    },
    {
     "name": "stderr",
     "output_type": "stream",
     "text": [
      "1267it [00:00, 3115.01it/s]\n"
     ]
    },
    {
     "name": "stdout",
     "output_type": "stream",
     "text": [
      "LHX1+ctrl 0\n"
     ]
    },
    {
     "name": "stderr",
     "output_type": "stream",
     "text": [
      "1267it [00:00, 3118.79it/s]\n"
     ]
    },
    {
     "name": "stdout",
     "output_type": "stream",
     "text": [
      "LYL1+ctrl 0\n"
     ]
    },
    {
     "name": "stderr",
     "output_type": "stream",
     "text": [
      "1267it [00:00, 3148.53it/s]\n"
     ]
    },
    {
     "name": "stdout",
     "output_type": "stream",
     "text": [
      "MAML2+ctrl 1\n"
     ]
    },
    {
     "name": "stderr",
     "output_type": "stream",
     "text": [
      "1267it [00:00, 3225.68it/s]\n"
     ]
    },
    {
     "name": "stdout",
     "output_type": "stream",
     "text": [
      "MAP2K3+ctrl 0\n"
     ]
    },
    {
     "name": "stderr",
     "output_type": "stream",
     "text": [
      "1267it [00:00, 3131.38it/s]\n"
     ]
    },
    {
     "name": "stdout",
     "output_type": "stream",
     "text": [
      "MAP2K6+ctrl 8\n"
     ]
    },
    {
     "name": "stderr",
     "output_type": "stream",
     "text": [
      "1267it [00:00, 2825.83it/s]\n"
     ]
    },
    {
     "name": "stdout",
     "output_type": "stream",
     "text": [
      "MAP4K3+ctrl 16\n"
     ]
    },
    {
     "name": "stderr",
     "output_type": "stream",
     "text": [
      "1267it [00:00, 3081.06it/s]\n"
     ]
    },
    {
     "name": "stdout",
     "output_type": "stream",
     "text": [
      "MAP4K5+ctrl 17\n"
     ]
    },
    {
     "name": "stderr",
     "output_type": "stream",
     "text": [
      "1267it [00:00, 3225.68it/s]\n"
     ]
    },
    {
     "name": "stdout",
     "output_type": "stream",
     "text": [
      "MAP7D1+ctrl 0\n"
     ]
    },
    {
     "name": "stderr",
     "output_type": "stream",
     "text": [
      "1267it [00:00, 3147.05it/s]\n"
     ]
    },
    {
     "name": "stdout",
     "output_type": "stream",
     "text": [
      "MAPK1+ctrl 5\n"
     ]
    },
    {
     "name": "stderr",
     "output_type": "stream",
     "text": [
      "1267it [00:00, 2859.62it/s]\n"
     ]
    },
    {
     "name": "stdout",
     "output_type": "stream",
     "text": [
      "MEIS1+ctrl 46\n"
     ]
    },
    {
     "name": "stderr",
     "output_type": "stream",
     "text": [
      "1267it [00:00, 3134.09it/s]\n"
     ]
    },
    {
     "name": "stdout",
     "output_type": "stream",
     "text": [
      "MIDN+ctrl 16\n"
     ]
    },
    {
     "name": "stderr",
     "output_type": "stream",
     "text": [
      "1267it [00:00, 3039.01it/s]\n"
     ]
    },
    {
     "name": "stdout",
     "output_type": "stream",
     "text": [
      "NCL+ctrl 0\n"
     ]
    },
    {
     "name": "stderr",
     "output_type": "stream",
     "text": [
      "1267it [00:00, 3054.67it/s]\n"
     ]
    },
    {
     "name": "stdout",
     "output_type": "stream",
     "text": [
      "NIT1+ctrl 988\n"
     ]
    },
    {
     "name": "stderr",
     "output_type": "stream",
     "text": [
      "1267it [00:00, 3120.26it/s]\n"
     ]
    },
    {
     "name": "stdout",
     "output_type": "stream",
     "text": [
      "OSR2+ctrl 4\n"
     ]
    },
    {
     "name": "stderr",
     "output_type": "stream",
     "text": [
      "1267it [00:00, 3172.15it/s]\n"
     ]
    },
    {
     "name": "stdout",
     "output_type": "stream",
     "text": [
      "PLK4+ctrl 230\n"
     ]
    },
    {
     "name": "stderr",
     "output_type": "stream",
     "text": [
      "1267it [00:00, 3356.88it/s]\n"
     ]
    },
    {
     "name": "stdout",
     "output_type": "stream",
     "text": [
      "POU3F2+ctrl 0\n"
     ]
    },
    {
     "name": "stderr",
     "output_type": "stream",
     "text": [
      "1267it [00:00, 3246.27it/s]\n"
     ]
    },
    {
     "name": "stdout",
     "output_type": "stream",
     "text": [
      "PRDM1+ctrl 13\n"
     ]
    },
    {
     "name": "stderr",
     "output_type": "stream",
     "text": [
      "1267it [00:00, 3261.75it/s]\n"
     ]
    },
    {
     "name": "stdout",
     "output_type": "stream",
     "text": [
      "PRTG+ctrl 7\n"
     ]
    },
    {
     "name": "stderr",
     "output_type": "stream",
     "text": [
      "1267it [00:00, 3148.11it/s]\n"
     ]
    },
    {
     "name": "stdout",
     "output_type": "stream",
     "text": [
      "PTPN1+ctrl 17\n"
     ]
    },
    {
     "name": "stderr",
     "output_type": "stream",
     "text": [
      "1267it [00:00, 3342.01it/s]\n"
     ]
    },
    {
     "name": "stdout",
     "output_type": "stream",
     "text": [
      "PTPN9+ctrl 5\n"
     ]
    },
    {
     "name": "stderr",
     "output_type": "stream",
     "text": [
      "1267it [00:00, 3097.29it/s]\n"
     ]
    },
    {
     "name": "stdout",
     "output_type": "stream",
     "text": [
      "PTPN12+ctrl 5\n"
     ]
    },
    {
     "name": "stderr",
     "output_type": "stream",
     "text": [
      "1267it [00:00, 2990.66it/s]\n"
     ]
    },
    {
     "name": "stdout",
     "output_type": "stream",
     "text": [
      "PTPN13+ctrl 9\n"
     ]
    },
    {
     "name": "stderr",
     "output_type": "stream",
     "text": [
      "1267it [00:00, 3361.38it/s]\n"
     ]
    },
    {
     "name": "stdout",
     "output_type": "stream",
     "text": [
      "RREB1+ctrl 144\n"
     ]
    },
    {
     "name": "stderr",
     "output_type": "stream",
     "text": [
      "1267it [00:00, 3145.70it/s]\n"
     ]
    },
    {
     "name": "stdout",
     "output_type": "stream",
     "text": [
      "RUNX1T1+ctrl 0\n"
     ]
    },
    {
     "name": "stderr",
     "output_type": "stream",
     "text": [
      "1267it [00:00, 2997.03it/s]\n"
     ]
    },
    {
     "name": "stdout",
     "output_type": "stream",
     "text": [
      "S1PR2+ctrl 256\n"
     ]
    },
    {
     "name": "stderr",
     "output_type": "stream",
     "text": [
      "1267it [00:00, 3252.29it/s]\n"
     ]
    },
    {
     "name": "stdout",
     "output_type": "stream",
     "text": [
      "SAMD1+ctrl 6\n"
     ]
    },
    {
     "name": "stderr",
     "output_type": "stream",
     "text": [
      "1267it [00:00, 3223.13it/s]\n"
     ]
    },
    {
     "name": "stdout",
     "output_type": "stream",
     "text": [
      "SET+ctrl 33\n"
     ]
    },
    {
     "name": "stderr",
     "output_type": "stream",
     "text": [
      "1267it [00:00, 3288.01it/s]\n"
     ]
    },
    {
     "name": "stdout",
     "output_type": "stream",
     "text": [
      "SGK1+ctrl 1\n"
     ]
    },
    {
     "name": "stderr",
     "output_type": "stream",
     "text": [
      "1267it [00:00, 2963.44it/s]\n"
     ]
    },
    {
     "name": "stdout",
     "output_type": "stream",
     "text": [
      "SLC4A1+ctrl 3\n"
     ]
    },
    {
     "name": "stderr",
     "output_type": "stream",
     "text": [
      "1267it [00:00, 3160.34it/s]\n"
     ]
    },
    {
     "name": "stdout",
     "output_type": "stream",
     "text": [
      "SLC6A9+ctrl 3\n"
     ]
    },
    {
     "name": "stderr",
     "output_type": "stream",
     "text": [
      "1267it [00:00, 3201.80it/s]\n"
     ]
    },
    {
     "name": "stdout",
     "output_type": "stream",
     "text": [
      "SNAI1+ctrl 54\n"
     ]
    },
    {
     "name": "stderr",
     "output_type": "stream",
     "text": [
      "1267it [00:00, 3269.21it/s]\n"
     ]
    },
    {
     "name": "stdout",
     "output_type": "stream",
     "text": [
      "SPI1+ctrl 9\n"
     ]
    },
    {
     "name": "stderr",
     "output_type": "stream",
     "text": [
      "1267it [00:00, 3233.26it/s]\n"
     ]
    },
    {
     "name": "stdout",
     "output_type": "stream",
     "text": [
      "STIL+ctrl 24\n"
     ]
    },
    {
     "name": "stderr",
     "output_type": "stream",
     "text": [
      "1267it [00:00, 3226.34it/s]\n"
     ]
    },
    {
     "name": "stdout",
     "output_type": "stream",
     "text": [
      "TBX2+ctrl 1\n"
     ]
    },
    {
     "name": "stderr",
     "output_type": "stream",
     "text": [
      "1267it [00:00, 3317.31it/s]\n"
     ]
    },
    {
     "name": "stdout",
     "output_type": "stream",
     "text": [
      "TBX3+ctrl 2\n"
     ]
    },
    {
     "name": "stderr",
     "output_type": "stream",
     "text": [
      "1267it [00:00, 2968.89it/s]\n"
     ]
    },
    {
     "name": "stdout",
     "output_type": "stream",
     "text": [
      "TGFBR2+ctrl 1\n"
     ]
    },
    {
     "name": "stderr",
     "output_type": "stream",
     "text": [
      "1267it [00:00, 3158.81it/s]\n"
     ]
    },
    {
     "name": "stdout",
     "output_type": "stream",
     "text": [
      "TMSB4X+ctrl 0\n"
     ]
    },
    {
     "name": "stderr",
     "output_type": "stream",
     "text": [
      "1267it [00:00, 3244.47it/s]\n"
     ]
    },
    {
     "name": "stdout",
     "output_type": "stream",
     "text": [
      "TP73+ctrl 78\n"
     ]
    },
    {
     "name": "stderr",
     "output_type": "stream",
     "text": [
      "1267it [00:00, 3320.16it/s]\n"
     ]
    },
    {
     "name": "stdout",
     "output_type": "stream",
     "text": [
      "TSC22D1+ctrl 0\n"
     ]
    },
    {
     "name": "stderr",
     "output_type": "stream",
     "text": [
      "1267it [00:00, 3176.86it/s]\n"
     ]
    },
    {
     "name": "stdout",
     "output_type": "stream",
     "text": [
      "UBASH3A+ctrl 0\n"
     ]
    },
    {
     "name": "stderr",
     "output_type": "stream",
     "text": [
      "1267it [00:00, 3060.32it/s]\n"
     ]
    },
    {
     "name": "stdout",
     "output_type": "stream",
     "text": [
      "UBASH3B+ctrl 2\n"
     ]
    },
    {
     "name": "stderr",
     "output_type": "stream",
     "text": [
      "1267it [00:00, 3215.15it/s]\n"
     ]
    },
    {
     "name": "stdout",
     "output_type": "stream",
     "text": [
      "ZBTB1+ctrl 413\n"
     ]
    },
    {
     "name": "stderr",
     "output_type": "stream",
     "text": [
      "1267it [00:00, 3076.87it/s]\n"
     ]
    },
    {
     "name": "stdout",
     "output_type": "stream",
     "text": [
      "ZBTB10+ctrl 297\n"
     ]
    },
    {
     "name": "stderr",
     "output_type": "stream",
     "text": [
      "1267it [00:00, 3185.18it/s]\n"
     ]
    },
    {
     "name": "stdout",
     "output_type": "stream",
     "text": [
      "ZBTB25+ctrl 223\n"
     ]
    },
    {
     "name": "stderr",
     "output_type": "stream",
     "text": [
      "1267it [00:00, 3208.10it/s]\n"
     ]
    },
    {
     "name": "stdout",
     "output_type": "stream",
     "text": [
      "ZC3HAV1+ctrl 0\n"
     ]
    },
    {
     "name": "stderr",
     "output_type": "stream",
     "text": [
      "1267it [00:00, 3208.20it/s]"
     ]
    },
    {
     "name": "stdout",
     "output_type": "stream",
     "text": [
      "ZNF318+ctrl 2\n"
     ]
    },
    {
     "name": "stderr",
     "output_type": "stream",
     "text": [
      "\n"
     ]
    }
   ],
   "source": [
    "rank_list = []\n",
    "\n",
    "for c in perturb_conditions:\n",
    "    celltype_0 = c\n",
    "    celltype_1 = 'ctrl'\n",
    "    gene_emb_celltype_0 = np.expand_dims(dict_sum_condition_mean[celltype_0][1:, :], 0)\n",
    "    gene_emb_celltype_1 = np.expand_dims(dict_sum_condition_mean[celltype_1][1:, :], 0)\n",
    "    gene_dist_dict = {}\n",
    "    for i, g in tqdm(enumerate(genes)):\n",
    "        gene_dist_dict[g] = cosine_distances(gene_emb_celltype_0[:, i, :], gene_emb_celltype_1[:, i, :]).mean()\n",
    "    df_gene_emb_dist = pd.DataFrame.from_dict(gene_dist_dict, orient='index', columns=['cos_dist'])\n",
    "    df_deg = df_gene_emb_dist.sort_values(by='cos_dist', ascending=False)\n",
    "    print(c, np.where(df_deg.index==c.split('+')[0])[0][0])\n",
    "    rank_list.append(np.where(df_deg.index==c.split('+')[0])[0][0])"
   ]
  },
  {
   "cell_type": "markdown",
   "id": "0f8776dd",
   "metadata": {},
   "source": [
    "## Save Results & Analysis"
   ]
  },
  {
   "cell_type": "code",
   "execution_count": 62,
   "id": "7a3c50f7",
   "metadata": {},
   "outputs": [],
   "source": [
    "df_results = df = pd.DataFrame({\n",
    "    'conditions': perturb_conditions,\n",
    "    'wilcoxon': baseline_rank,\n",
    "    'scGPT_rank': rank_list\n",
    "})"
   ]
  },
  {
   "cell_type": "code",
   "execution_count": 63,
   "id": "114c8efb",
   "metadata": {},
   "outputs": [
    {
     "data": {
      "text/html": [
       "<div>\n",
       "<style scoped>\n",
       "    .dataframe tbody tr th:only-of-type {\n",
       "        vertical-align: middle;\n",
       "    }\n",
       "\n",
       "    .dataframe tbody tr th {\n",
       "        vertical-align: top;\n",
       "    }\n",
       "\n",
       "    .dataframe thead th {\n",
       "        text-align: right;\n",
       "    }\n",
       "</style>\n",
       "<table border=\"1\" class=\"dataframe\">\n",
       "  <thead>\n",
       "    <tr style=\"text-align: right;\">\n",
       "      <th></th>\n",
       "      <th>conditions</th>\n",
       "      <th>wilcoxon</th>\n",
       "      <th>scGPT_rank</th>\n",
       "    </tr>\n",
       "  </thead>\n",
       "  <tbody>\n",
       "    <tr>\n",
       "      <th>0</th>\n",
       "      <td>AHR+ctrl</td>\n",
       "      <td>9</td>\n",
       "      <td>2</td>\n",
       "    </tr>\n",
       "    <tr>\n",
       "      <th>1</th>\n",
       "      <td>ARID1A+ctrl</td>\n",
       "      <td>121</td>\n",
       "      <td>520</td>\n",
       "    </tr>\n",
       "    <tr>\n",
       "      <th>2</th>\n",
       "      <td>ARRDC3+ctrl</td>\n",
       "      <td>7</td>\n",
       "      <td>8</td>\n",
       "    </tr>\n",
       "    <tr>\n",
       "      <th>3</th>\n",
       "      <td>ATL1+ctrl</td>\n",
       "      <td>839</td>\n",
       "      <td>525</td>\n",
       "    </tr>\n",
       "    <tr>\n",
       "      <th>4</th>\n",
       "      <td>BAK1+ctrl</td>\n",
       "      <td>0</td>\n",
       "      <td>1</td>\n",
       "    </tr>\n",
       "    <tr>\n",
       "      <th>...</th>\n",
       "      <td>...</td>\n",
       "      <td>...</td>\n",
       "      <td>...</td>\n",
       "    </tr>\n",
       "    <tr>\n",
       "      <th>94</th>\n",
       "      <td>ZBTB1+ctrl</td>\n",
       "      <td>957</td>\n",
       "      <td>413</td>\n",
       "    </tr>\n",
       "    <tr>\n",
       "      <th>95</th>\n",
       "      <td>ZBTB10+ctrl</td>\n",
       "      <td>75</td>\n",
       "      <td>297</td>\n",
       "    </tr>\n",
       "    <tr>\n",
       "      <th>96</th>\n",
       "      <td>ZBTB25+ctrl</td>\n",
       "      <td>806</td>\n",
       "      <td>223</td>\n",
       "    </tr>\n",
       "    <tr>\n",
       "      <th>97</th>\n",
       "      <td>ZC3HAV1+ctrl</td>\n",
       "      <td>0</td>\n",
       "      <td>0</td>\n",
       "    </tr>\n",
       "    <tr>\n",
       "      <th>98</th>\n",
       "      <td>ZNF318+ctrl</td>\n",
       "      <td>1</td>\n",
       "      <td>2</td>\n",
       "    </tr>\n",
       "  </tbody>\n",
       "</table>\n",
       "<p>99 rows × 3 columns</p>\n",
       "</div>"
      ],
      "text/plain": [
       "      conditions  wilcoxon  scGPT_rank\n",
       "0       AHR+ctrl         9           2\n",
       "1    ARID1A+ctrl       121         520\n",
       "2    ARRDC3+ctrl         7           8\n",
       "3      ATL1+ctrl       839         525\n",
       "4      BAK1+ctrl         0           1\n",
       "..           ...       ...         ...\n",
       "94    ZBTB1+ctrl       957         413\n",
       "95   ZBTB10+ctrl        75         297\n",
       "96   ZBTB25+ctrl       806         223\n",
       "97  ZC3HAV1+ctrl         0           0\n",
       "98   ZNF318+ctrl         1           2\n",
       "\n",
       "[99 rows x 3 columns]"
      ]
     },
     "execution_count": 63,
     "metadata": {},
     "output_type": "execute_result"
    }
   ],
   "source": [
    "df_results"
   ]
  },
  {
   "cell_type": "code",
   "execution_count": 64,
   "id": "2874330d",
   "metadata": {},
   "outputs": [
    {
     "data": {
      "text/plain": [
       "wilcoxon      71.555556\n",
       "scGPT_rank    75.595960\n",
       "dtype: float64"
      ]
     },
     "execution_count": 64,
     "metadata": {},
     "output_type": "execute_result"
    }
   ],
   "source": [
    "df_results.mean()"
   ]
  },
  {
   "cell_type": "code",
   "execution_count": 65,
   "id": "33ec6dfa",
   "metadata": {},
   "outputs": [],
   "source": [
    "df_results.to_csv('/scratch/ssd004/scratch/ahz/perturb/vevo_norman_ranks_Feb13.csv')"
   ]
  },
  {
   "cell_type": "code",
   "execution_count": 74,
   "id": "8c5d5cce",
   "metadata": {},
   "outputs": [
    {
     "data": {
      "text/plain": [
       "<matplotlib.legend.Legend at 0x7fc8ef72c6a0>"
      ]
     },
     "execution_count": 74,
     "metadata": {},
     "output_type": "execute_result"
    },
    {
     "data": {
      "image/png": "[encoded data removed]",
      "text/plain": [
       "<Figure size 800x800 with 1 Axes>"
      ]
     },
     "metadata": {
      "image/png": {
       "height": 780,
       "width": 780
      },
      "needs_background": "light"
     },
     "output_type": "display_data"
    }
   ],
   "source": [
    "import seaborn as sns\n",
    "plt.figure(figsize=(10, 10))\n",
    "sns.boxplot(data=df_results)\n",
    "\n",
    "# Add titles and labels\n",
    "plt.title('Comparison of Methods Across Conditions')\n",
    "plt.xlabel('Method')\n",
    "plt.ylabel('Rank')\n",
    "plt.xticks(rotation=-45)\n",
    "plt.yscale('log')\n",
    "# Display the plot\n",
    "plt.tight_layout()\n",
    "\n",
    "plt.legend([],[], frameon=False)"
   ]
  },
  {
   "cell_type": "code",
   "execution_count": 73,
   "id": "23126803",
   "metadata": {},
   "outputs": [
    {
     "data": {
      "image/png": "[encoded data removed]",
      "text/plain": [
       "<Figure size 320x320 with 1 Axes>"
      ]
     },
     "metadata": {
      "image/png": {
       "height": 308,
       "width": 329
      },
      "needs_background": "light"
     },
     "output_type": "display_data"
    }
   ],
   "source": [
    "sns.scatterplot(data=df_results, x=\"wilcoxon\", y=\"scGPT_rank\")\n",
    "plt.xscale('log')\n",
    "plt.yscale('log')"
   ]
  },
  {
   "cell_type": "code",
   "execution_count": 76,
   "id": "51941cfe",
   "metadata": {},
   "outputs": [
    {
     "name": "stdout",
     "output_type": "stream",
     "text": [
      "Pearson Correlation: 0.5160881847586302, p-value: 4.567253005571027e-08\n"
     ]
    }
   ],
   "source": [
    "from scipy.stats import pearsonr\n",
    "corr, p_value = pearsonr(df_results['wilcoxon'], df_results['scGPT_rank'])\n",
    "\n",
    "print(f'Pearson Correlation: {corr}, p-value: {p_value}')"
   ]
  }
 ],
 "metadata": {
  "kernelspec": {
   "display_name": "Python 3 (ipykernel)",
   "language": "python",
   "name": "python3"
  },
  "language_info": {
   "codemirror_mode": {
    "name": "ipython",
    "version": 3
   },
   "file_extension": ".py",
   "mimetype": "text/x-python",
   "name": "python",
   "nbconvert_exporter": "python",
   "pygments_lexer": "ipython3",
   "version": "3.9.10"
  }
 },
 "nbformat": 4,
 "nbformat_minor": 5
}
